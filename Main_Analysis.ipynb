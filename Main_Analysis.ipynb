{
  "nbformat": 4,
  "nbformat_minor": 0,
  "metadata": {
    "colab": {
      "name": "Main_Analysis.ipynb",
      "provenance": [],
      "collapsed_sections": [
        "4iARUteGn1ee"
      ],
      "mount_file_id": "1L-K3VtVW-RRNgyB_TiuMeH7UOb30vMbV",
      "authorship_tag": "ABX9TyO7NvhFakxrlmLClxpXute4",
      "include_colab_link": true
    },
    "kernelspec": {
      "name": "python3",
      "display_name": "Python 3"
    }
  },
  "cells": [
    {
      "cell_type": "markdown",
      "metadata": {
        "id": "view-in-github",
        "colab_type": "text"
      },
      "source": [
        "<a href=\"https://colab.research.google.com/github/jaotheboss/ESG-Disclosure-Analysis/blob/main/Main_Analysis.ipynb\" target=\"_parent\"><img src=\"https://colab.research.google.com/assets/colab-badge.svg\" alt=\"Open In Colab\"/></a>"
      ]
    },
    {
      "cell_type": "markdown",
      "metadata": {
        "id": "JMZMNi_roGlt"
      },
      "source": [
        "# Main Analysis for DSA4264\n",
        "\n",
        "**Task**:\n",
        "Explore the relationship between a firm's environmental disclosure and financial performance. \n",
        "\n",
        "\n",
        "**Tasks**:\n",
        "1. Extract out the text data of the firms that have available financial metrics\n",
        "2. Filter out the environmental disclosures (sentence that contains the keywords or n-grams) from the text data\n",
        "3. Concatenate all the sentences from each document and have each document form the observations of a corpus\n",
        "4. Perform LDA or STM on the corpus\n",
        "5. Analyse the results:\n",
        "    \n",
        "    - Between rating 1 and 5\n",
        "    - Across the years\n",
        "    - Both"
      ]
    },
    {
      "cell_type": "markdown",
      "metadata": {
        "id": "4iARUteGn1ee"
      },
      "source": [
        "## Setting up the modules and functions"
      ]
    },
    {
      "cell_type": "code",
      "metadata": {
        "id": "D9vH7QZ_dGoa",
        "outputId": "ca8b2a08-1b39-48e4-9553-266d350c56a3",
        "colab": {
          "base_uri": "https://localhost:8080/"
        }
      },
      "source": [
        "# setting up the work directory\n",
        "import os \n",
        "os.chdir('/content/drive/My Drive/School/NUS/Year 4 Sem 1/DSA4264/(TSX) Toronto')\n",
        "\n",
        "!pip install pyLDAvis\n",
        "!pip install pdfplumber\n",
        "\n",
        "import pandas as pd\n",
        "import numpy as np\n",
        "import seaborn as sns\n",
        "from tqdm import tqdm\n",
        "import re\n",
        "import spacy\n",
        "nlp = spacy.load('en_core_web_sm')\n",
        "from sklearn.feature_extraction.text import CountVectorizer, TfidfVectorizer\n",
        "from sklearn.decomposition import LatentDirichletAllocation # LDA\n",
        "import pyLDAvis\n",
        "pyLDAvis.enable_notebook()\n",
        "import pyLDAvis.sklearn\n",
        "import pdfplumber\n",
        "import multiprocessing as mp"
      ],
      "execution_count": 1,
      "outputs": [
        {
          "output_type": "stream",
          "text": [
            "Requirement already satisfied: pyLDAvis in /usr/local/lib/python3.6/dist-packages (2.1.2)\n",
            "Requirement already satisfied: pytest in /usr/local/lib/python3.6/dist-packages (from pyLDAvis) (3.6.4)\n",
            "Requirement already satisfied: funcy in /usr/local/lib/python3.6/dist-packages (from pyLDAvis) (1.15)\n",
            "Requirement already satisfied: numpy>=1.9.2 in /usr/local/lib/python3.6/dist-packages (from pyLDAvis) (1.18.5)\n",
            "Requirement already satisfied: pandas>=0.17.0 in /usr/local/lib/python3.6/dist-packages (from pyLDAvis) (1.1.4)\n",
            "Requirement already satisfied: joblib>=0.8.4 in /usr/local/lib/python3.6/dist-packages (from pyLDAvis) (0.17.0)\n",
            "Requirement already satisfied: numexpr in /usr/local/lib/python3.6/dist-packages (from pyLDAvis) (2.7.1)\n",
            "Requirement already satisfied: future in /usr/local/lib/python3.6/dist-packages (from pyLDAvis) (0.16.0)\n",
            "Requirement already satisfied: jinja2>=2.7.2 in /usr/local/lib/python3.6/dist-packages (from pyLDAvis) (2.11.2)\n",
            "Requirement already satisfied: wheel>=0.23.0 in /usr/local/lib/python3.6/dist-packages (from pyLDAvis) (0.35.1)\n",
            "Requirement already satisfied: scipy>=0.18.0 in /usr/local/lib/python3.6/dist-packages (from pyLDAvis) (1.4.1)\n",
            "Requirement already satisfied: attrs>=17.4.0 in /usr/local/lib/python3.6/dist-packages (from pytest->pyLDAvis) (20.2.0)\n",
            "Requirement already satisfied: more-itertools>=4.0.0 in /usr/local/lib/python3.6/dist-packages (from pytest->pyLDAvis) (8.6.0)\n",
            "Requirement already satisfied: six>=1.10.0 in /usr/local/lib/python3.6/dist-packages (from pytest->pyLDAvis) (1.15.0)\n",
            "Requirement already satisfied: setuptools in /usr/local/lib/python3.6/dist-packages (from pytest->pyLDAvis) (50.3.2)\n",
            "Requirement already satisfied: pluggy<0.8,>=0.5 in /usr/local/lib/python3.6/dist-packages (from pytest->pyLDAvis) (0.7.1)\n",
            "Requirement already satisfied: atomicwrites>=1.0 in /usr/local/lib/python3.6/dist-packages (from pytest->pyLDAvis) (1.4.0)\n",
            "Requirement already satisfied: py>=1.5.0 in /usr/local/lib/python3.6/dist-packages (from pytest->pyLDAvis) (1.9.0)\n",
            "Requirement already satisfied: python-dateutil>=2.7.3 in /usr/local/lib/python3.6/dist-packages (from pandas>=0.17.0->pyLDAvis) (2.8.1)\n",
            "Requirement already satisfied: pytz>=2017.2 in /usr/local/lib/python3.6/dist-packages (from pandas>=0.17.0->pyLDAvis) (2018.9)\n",
            "Requirement already satisfied: MarkupSafe>=0.23 in /usr/local/lib/python3.6/dist-packages (from jinja2>=2.7.2->pyLDAvis) (1.1.1)\n",
            "Requirement already satisfied: pdfplumber in /usr/local/lib/python3.6/dist-packages (0.5.24)\n",
            "Requirement already satisfied: pdfminer.six==20200517 in /usr/local/lib/python3.6/dist-packages (from pdfplumber) (20200517)\n",
            "Requirement already satisfied: Pillow>=7.0.0 in /usr/local/lib/python3.6/dist-packages (from pdfplumber) (7.0.0)\n",
            "Requirement already satisfied: Wand in /usr/local/lib/python3.6/dist-packages (from pdfplumber) (0.6.3)\n",
            "Requirement already satisfied: pycryptodome in /usr/local/lib/python3.6/dist-packages (from pdfminer.six==20200517->pdfplumber) (3.9.9)\n",
            "Requirement already satisfied: sortedcontainers in /usr/local/lib/python3.6/dist-packages (from pdfminer.six==20200517->pdfplumber) (2.2.2)\n",
            "Requirement already satisfied: chardet; python_version > \"3.0\" in /usr/local/lib/python3.6/dist-packages (from pdfminer.six==20200517->pdfplumber) (3.0.4)\n"
          ],
          "name": "stdout"
        }
      ]
    },
    {
      "cell_type": "code",
      "metadata": {
        "id": "xbe4MynXnX0V"
      },
      "source": [
        "# defining functions\n",
        "def _PREPROCESS(text, min_char_len = 3, max_char_len = 15):\n",
        "    \"\"\"\n",
        "    Function:     Preprocesses and cleans text\n",
        "                    \n",
        "    Input:        Text array\n",
        "    \n",
        "    Returns:      A column of processed text\n",
        "    \"\"\"\n",
        "    contractions = {\n",
        "            \"ain't\": \"am not / are not\",\n",
        "            \"aren't\": \"are not / am not\",\n",
        "            \"can't\": \"cannot\",\n",
        "            \"can't've\": \"cannot have\",\n",
        "            \"'cause\": \"because\",\n",
        "            \"could've\": \"could have\",\n",
        "            \"couldn't\": \"could not\",\n",
        "            \"couldn't've\": \"could not have\",\n",
        "            \"didn't\": \"did not\",\n",
        "            \"doesn't\": \"does not\",\n",
        "            \"don't\": \"do not\",\n",
        "            \"hadn't\": \"had not\",\n",
        "            \"hadn't've\": \"had not have\",\n",
        "            \"hasn't\": \"has not\",\n",
        "            \"haven't\": \"have not\",\n",
        "            \"he'd\": \"he had / he would\",\n",
        "            \"he'd've\": \"he would have\",\n",
        "            \"he'll\": \"he shall / he will\",\n",
        "            \"he'll've\": \"he shall have / he will have\",\n",
        "            \"he's\": \"he has / he is\",\n",
        "            \"how'd\": \"how did\",\n",
        "            \"how'd'y\": \"how do you\",\n",
        "            \"how'll\": \"how will\",\n",
        "            \"how's\": \"how has / how is\",\n",
        "            \"i'd\": \"I had / I would\",\n",
        "            \"i'd've\": \"I would have\",\n",
        "            \"i'll\": \"I shall / I will\",\n",
        "            \"i'll've\": \"I shall have / I will have\",\n",
        "            \"i'm\": \"I am\",\n",
        "            \"i've\": \"I have\",\n",
        "            \"isn't\": \"is not\",\n",
        "            \"it'd\": \"it had / it would\",\n",
        "            \"it'd've\": \"it would have\",\n",
        "            \"it'll\": \"it shall / it will\",\n",
        "            \"it'll've\": \"it shall have / it will have\",\n",
        "            \"it's\": \"it has / it is\",\n",
        "            \"let's\": \"let us\",\n",
        "            \"ma'am\": \"madam\",\n",
        "            \"mayn't\": \"may not\",\n",
        "            \"might've\": \"might have\",\n",
        "            \"mightn't\": \"might not\",\n",
        "            \"mightn't've\": \"might not have\",\n",
        "            \"must've\": \"must have\",\n",
        "            \"mustn't\": \"must not\",\n",
        "            \"mustn't've\": \"must not have\",\n",
        "            \"needn't\": \"need not\",\n",
        "            \"needn't've\": \"need not have\",\n",
        "            \"o'clock\": \"of the clock\",\n",
        "            \"oughtn't\": \"ought not\",\n",
        "            \"oughtn't've\": \"ought not have\",\n",
        "            \"shan't\": \"shall not\",\n",
        "            \"sha'n't\": \"shall not\",\n",
        "            \"shan't've\": \"shall not have\",\n",
        "            \"she'd\": \"she had / she would\",\n",
        "            \"she'd've\": \"she would have\",\n",
        "            \"she'll\": \"she shall / she will\",\n",
        "            \"she'll've\": \"she shall have / she will have\",\n",
        "            \"she's\": \"she has / she is\",\n",
        "            \"should've\": \"should have\",\n",
        "            \"shouldn't\": \"should not\",\n",
        "            \"shouldn't've\": \"should not have\",\n",
        "            \"so've\": \"so have\",\n",
        "            \"so's\": \"so as / so is\",\n",
        "            \"that'd\": \"that would / that had\",\n",
        "            \"that'd've\": \"that would have\",\n",
        "            \"that's\": \"that has / that is\",\n",
        "            \"there'd\": \"there had / there would\",\n",
        "            \"there'd've\": \"there would have\",\n",
        "            \"there's\": \"there has / there is\",\n",
        "            \"they'd\": \"they had / they would\",\n",
        "            \"they'd've\": \"they would have\",\n",
        "            \"they'll\": \"they shall / they will\",\n",
        "            \"they'll've\": \"they shall have / they will have\",\n",
        "            \"they're\": \"they are\",\n",
        "            \"they've\": \"they have\",\n",
        "            \"to've\": \"to have\",\n",
        "            \"wasn't\": \"was not\",\n",
        "            \"we'd\": \"we had / we would\",\n",
        "            \"we'd've\": \"we would have\",\n",
        "            \"we'll\": \"we will\",\n",
        "            \"we'll've\": \"we will have\",\n",
        "            \"we're\": \"we are\",\n",
        "            \"we've\": \"we have\",\n",
        "            \"weren't\": \"were not\",\n",
        "            \"what'll\": \"what shall / what will\",\n",
        "            \"what'll've\": \"what shall have / what will have\",\n",
        "            \"what're\": \"what are\",\n",
        "            \"what's\": \"what has / what is\",\n",
        "            \"what've\": \"what have\",\n",
        "            \"when's\": \"when has / when is\",\n",
        "            \"when've\": \"when have\",\n",
        "            \"where'd\": \"where did\",\n",
        "            \"where's\": \"where has / where is\",\n",
        "            \"where've\": \"where have\",\n",
        "            \"who'll\": \"who shall / who will\",\n",
        "            \"who'll've\": \"who shall have / who will have\",\n",
        "            \"who's\": \"who has / who is\",\n",
        "            \"who've\": \"who have\",\n",
        "            \"why's\": \"why has / why is\",\n",
        "            \"why've\": \"why have\",\n",
        "            \"will've\": \"will have\",\n",
        "            \"won't\": \"will not\",\n",
        "            \"won't've\": \"will not have\",\n",
        "            \"would've\": \"would have\",\n",
        "            \"wouldn't\": \"would not\",\n",
        "            \"wouldn't've\": \"would not have\",\n",
        "            \"y'all\": \"you all\",\n",
        "            \"y'all'd\": \"you all would\",\n",
        "            \"y'all'd've\": \"you all would have\",\n",
        "            \"y'all're\": \"you all are\",\n",
        "            \"y'all've\": \"you all have\",\n",
        "            \"you'd\": \"you had / you would\",\n",
        "            \"you'd've\": \"you would have\",\n",
        "            \"you'll\": \"you shall / you will\",\n",
        "            \"you'll've\": \"you shall have / you will have\",\n",
        "            \"you're\": \"you are\",\n",
        "            \"you've\": \"you have\"}\n",
        "\n",
        "    def contract(text):\n",
        "        for word in text.split():\n",
        "            if word.lower() in contractions:\n",
        "                text = text.replace(word, contractions[word.lower()])\n",
        "        return text\n",
        "    \n",
        "    def preprocess(text):\n",
        "        # throw away numbers\n",
        "        text = re.sub(r\"@\\S+|https?:\\S+|http?:\\S|[^A-Za-z]+\", ' ', str(text).lower()).strip() \n",
        "        doc = nlp(text)\n",
        "        text = [token.lemma_ for token in doc if token.is_stop == False and len(token) >= min_char_len and len(token) <= max_char_len]\n",
        "        new_text = ' '.join(text)\n",
        "        return new_text\n",
        "       \n",
        "    text = text.apply(contract).apply(preprocess)\n",
        "    return text\n",
        "\n",
        "def extract_pdf_text(file_name, min_sent_len = 10):\n",
        "    doc = []\n",
        "    try:\n",
        "        with pdfplumber.open(file_name) as pdf:\n",
        "            pages = pdf.pages\n",
        "            for i in pages:\n",
        "                page = i.extract_text()\n",
        "                if page:\n",
        "                    doc.extend([sentence.string for sentence in nlp(page).sents if len(sentence.text.split()) >= min_sent_len])\n",
        "    except:\n",
        "        doc.extend(['Unrecognized PDF!!!'])\n",
        "    doc = _PREPROCESS(pd.Series(doc))\n",
        "    return doc\n",
        "\n",
        "def get_top_k(df, vectorizer, k = 10):\n",
        "       \"\"\"get top k occuring words\"\"\"\n",
        "       vectorizer.fit(df)\n",
        "       counts = pd.DataFrame(vectorizer.transform(df).toarray())\n",
        "       counts.columns = vectorizer.get_feature_names()\n",
        "       counts = counts.apply(sum).sort_values(ascending = False)[:k]\n",
        "       sns.barplot(x = counts.values, y = counts.index)\n",
        "\n",
        "def display_topics(model, feature_names, no_top_words):\n",
        "    topic_words = []\n",
        "    for topic_idx, topic in enumerate(model.components_):\n",
        "        print(\"Topic %d:\" % (topic_idx))\n",
        "        top_words = [feature_names[i] for i in topic.argsort()[:-no_top_words - 1:-1]]\n",
        "        topic_words.append(top_words)\n",
        "        print(\", \".join(top_words))\n",
        "        print()\n",
        "    return topic_words\n",
        "\n",
        "def topic_classification(model, vectorized_text, dataset):\n",
        "    topic_labels = np.argmax(vectorized_text.toarray() @ model.components_.T, axis = 1)\n",
        "    dataset['topic_labels'] = topic_labels\n",
        "    return dataset\n",
        "\n",
        "def summary_layout(*lsts):\n",
        "    n_topics = len(lsts[0])\n",
        "    for i in range(n_topics):\n",
        "        str2print = 'topic ' + str(i) + '\\n'\n",
        "        for group in lsts:\n",
        "            str2print += ', '.join(group[i])\n",
        "            str2print += '\\n'\n",
        "        print(str2print)\n",
        "        print()"
      ],
      "execution_count": 2,
      "outputs": []
    },
    {
      "cell_type": "markdown",
      "metadata": {
        "id": "IMANqXGVn45u"
      },
      "source": [
        "## Preprocessing"
      ]
    },
    {
      "cell_type": "code",
      "metadata": {
        "id": "PelIgo4J0Alv",
        "outputId": "30f78905-dc25-45b2-95a5-f20f5a51dd12",
        "colab": {
          "base_uri": "https://localhost:8080/",
          "height": 419
        }
      },
      "source": [
        "# getting the file names\n",
        "metadata = pd.read_csv('clustered_files_cleaned.csv')\n",
        "def quantiles(arr):\n",
        "    result = []\n",
        "    quads = [np.quantile(arr, 0.25*i) for i in range(1, 4)]\n",
        "    for i in arr:\n",
        "        if i <= quads[0]:\n",
        "            result.append(1)\n",
        "        elif i <= quads[1]:\n",
        "            result.append(2)\n",
        "        elif i <= quads[2]:\n",
        "            result.append(3)\n",
        "        else:\n",
        "            result.append(4)\n",
        "    return result\n",
        "for year in metadata.fileyear.unique():\n",
        "    metadata.loc[metadata.fileyear == year, 'rating_quarters'] = quantiles(metadata.loc[metadata.fileyear == year, 'earnings'])\n",
        "metadata"
      ],
      "execution_count": 13,
      "outputs": [
        {
          "output_type": "execute_result",
          "data": {
            "text/html": [
              "<div>\n",
              "<style scoped>\n",
              "    .dataframe tbody tr th:only-of-type {\n",
              "        vertical-align: middle;\n",
              "    }\n",
              "\n",
              "    .dataframe tbody tr th {\n",
              "        vertical-align: top;\n",
              "    }\n",
              "\n",
              "    .dataframe thead th {\n",
              "        text-align: right;\n",
              "    }\n",
              "</style>\n",
              "<table border=\"1\" class=\"dataframe\">\n",
              "  <thead>\n",
              "    <tr style=\"text-align: right;\">\n",
              "      <th></th>\n",
              "      <th>name</th>\n",
              "      <th>fileyear</th>\n",
              "      <th>finalfilename</th>\n",
              "      <th>ticker</th>\n",
              "      <th>earnings</th>\n",
              "      <th>rating</th>\n",
              "      <th>rating_quarters</th>\n",
              "    </tr>\n",
              "  </thead>\n",
              "  <tbody>\n",
              "    <tr>\n",
              "      <th>0</th>\n",
              "      <td>Absolute Software Corp</td>\n",
              "      <td>2018</td>\n",
              "      <td>TSX_7376__Absolute Software Corp___Active____(...</td>\n",
              "      <td>ABT</td>\n",
              "      <td>3.687000e+09</td>\n",
              "      <td>5.0</td>\n",
              "      <td>4.0</td>\n",
              "    </tr>\n",
              "    <tr>\n",
              "      <th>1</th>\n",
              "      <td>Acasta Enterprises Inc</td>\n",
              "      <td>2018</td>\n",
              "      <td>TSX_7299__Acasta Enterprises Inc___Active____(...</td>\n",
              "      <td>AEF</td>\n",
              "      <td>7.850061e+07</td>\n",
              "      <td>3.0</td>\n",
              "      <td>2.0</td>\n",
              "    </tr>\n",
              "    <tr>\n",
              "      <th>2</th>\n",
              "      <td>AcuityAds Holdings Inc</td>\n",
              "      <td>2018</td>\n",
              "      <td>TSX_7319__AcuityAds Holdings Inc___Active____(...</td>\n",
              "      <td>AT</td>\n",
              "      <td>-4.260000e+07</td>\n",
              "      <td>1.0</td>\n",
              "      <td>1.0</td>\n",
              "    </tr>\n",
              "    <tr>\n",
              "      <th>3</th>\n",
              "      <td>Aecon Group Inc</td>\n",
              "      <td>2018</td>\n",
              "      <td>TSX_6552__Aecon Group Inc___Active____(2018-12...</td>\n",
              "      <td>ARE</td>\n",
              "      <td>3.631650e+08</td>\n",
              "      <td>4.0</td>\n",
              "      <td>3.0</td>\n",
              "    </tr>\n",
              "    <tr>\n",
              "      <th>4</th>\n",
              "      <td>AgJunction Inc</td>\n",
              "      <td>2018</td>\n",
              "      <td>TSX_3669__AgJunction Inc___Active____(2018-12-...</td>\n",
              "      <td>AJX</td>\n",
              "      <td>3.470500e+07</td>\n",
              "      <td>2.0</td>\n",
              "      <td>2.0</td>\n",
              "    </tr>\n",
              "    <tr>\n",
              "      <th>...</th>\n",
              "      <td>...</td>\n",
              "      <td>...</td>\n",
              "      <td>...</td>\n",
              "      <td>...</td>\n",
              "      <td>...</td>\n",
              "      <td>...</td>\n",
              "      <td>...</td>\n",
              "    </tr>\n",
              "    <tr>\n",
              "      <th>476</th>\n",
              "      <td>Vivo Cannabis Inc</td>\n",
              "      <td>2015</td>\n",
              "      <td>TSX_9999__Vivo Cannabis Inc___Active____(2015-...</td>\n",
              "      <td>VIVO</td>\n",
              "      <td>3.222900e+07</td>\n",
              "      <td>3.0</td>\n",
              "      <td>2.0</td>\n",
              "    </tr>\n",
              "    <tr>\n",
              "      <th>477</th>\n",
              "      <td>Wall Financial Corp</td>\n",
              "      <td>2015</td>\n",
              "      <td>TSX_6531__Wall Financial Corp___Active____(201...</td>\n",
              "      <td>WFC</td>\n",
              "      <td>2.193800e+10</td>\n",
              "      <td>5.0</td>\n",
              "      <td>4.0</td>\n",
              "    </tr>\n",
              "    <tr>\n",
              "      <th>478</th>\n",
              "      <td>Wallbridge Mining Company Ltd</td>\n",
              "      <td>2015</td>\n",
              "      <td>TSX_1021__Wallbridge Mining Company Ltd___Acti...</td>\n",
              "      <td>WM</td>\n",
              "      <td>1.182000e+09</td>\n",
              "      <td>5.0</td>\n",
              "      <td>4.0</td>\n",
              "    </tr>\n",
              "    <tr>\n",
              "      <th>479</th>\n",
              "      <td>Well Health Technologies Corp</td>\n",
              "      <td>2015</td>\n",
              "      <td>TSX_9999__Well Health Technologies Corp___Acti...</td>\n",
              "      <td>WELL</td>\n",
              "      <td>1.077803e+09</td>\n",
              "      <td>5.0</td>\n",
              "      <td>4.0</td>\n",
              "    </tr>\n",
              "    <tr>\n",
              "      <th>480</th>\n",
              "      <td>Yellow Pages Ltd</td>\n",
              "      <td>2015</td>\n",
              "      <td>TSX_2721__Yellow Pages Ltd___Active____(2015-1...</td>\n",
              "      <td>Y</td>\n",
              "      <td>4.569210e+08</td>\n",
              "      <td>4.0</td>\n",
              "      <td>4.0</td>\n",
              "    </tr>\n",
              "  </tbody>\n",
              "</table>\n",
              "<p>481 rows × 7 columns</p>\n",
              "</div>"
            ],
            "text/plain": [
              "                              name  fileyear  ... rating rating_quarters\n",
              "0           Absolute Software Corp      2018  ...    5.0             4.0\n",
              "1           Acasta Enterprises Inc      2018  ...    3.0             2.0\n",
              "2           AcuityAds Holdings Inc      2018  ...    1.0             1.0\n",
              "3                  Aecon Group Inc      2018  ...    4.0             3.0\n",
              "4                   AgJunction Inc      2018  ...    2.0             2.0\n",
              "..                             ...       ...  ...    ...             ...\n",
              "476              Vivo Cannabis Inc      2015  ...    3.0             2.0\n",
              "477            Wall Financial Corp      2015  ...    5.0             4.0\n",
              "478  Wallbridge Mining Company Ltd      2015  ...    5.0             4.0\n",
              "479  Well Health Technologies Corp      2015  ...    5.0             4.0\n",
              "480               Yellow Pages Ltd      2015  ...    4.0             4.0\n",
              "\n",
              "[481 rows x 7 columns]"
            ]
          },
          "metadata": {
            "tags": []
          },
          "execution_count": 13
        }
      ]
    },
    {
      "cell_type": "markdown",
      "metadata": {
        "id": "yZpHqy_74Vko"
      },
      "source": [
        "We will only be looking at the top and bottom 25% of the ratings. This is ensure that there is a discernible distinction in performance metric. By doing so, we hope to more clearly distinguish the aspects of an environmental disclosure that correlates with the financial metric"
      ]
    },
    {
      "cell_type": "code",
      "metadata": {
        "id": "gdEud_c30M9j",
        "outputId": "00d36ab6-2515-4f6e-b736-3c4f2a354ee0",
        "colab": {
          "base_uri": "https://localhost:8080/",
          "height": 419
        }
      },
      "source": [
        "# filtering out by quarters\n",
        "filtered_metadata = metadata[['finalfilename', 'fileyear', 'rating_quarters']]\n",
        "#filtered_metadata = filtered_metadata.loc[metadata.rating_quarters != 2, :]  \n",
        "#filtered_metadata = filtered_metadata.loc[metadata.rating_quarters != 3, :]\n",
        "filtered_metadata.reset_index(drop = True, inplace = True)\n",
        "filtered_metadata"
      ],
      "execution_count": 14,
      "outputs": [
        {
          "output_type": "execute_result",
          "data": {
            "text/html": [
              "<div>\n",
              "<style scoped>\n",
              "    .dataframe tbody tr th:only-of-type {\n",
              "        vertical-align: middle;\n",
              "    }\n",
              "\n",
              "    .dataframe tbody tr th {\n",
              "        vertical-align: top;\n",
              "    }\n",
              "\n",
              "    .dataframe thead th {\n",
              "        text-align: right;\n",
              "    }\n",
              "</style>\n",
              "<table border=\"1\" class=\"dataframe\">\n",
              "  <thead>\n",
              "    <tr style=\"text-align: right;\">\n",
              "      <th></th>\n",
              "      <th>finalfilename</th>\n",
              "      <th>fileyear</th>\n",
              "      <th>rating_quarters</th>\n",
              "    </tr>\n",
              "  </thead>\n",
              "  <tbody>\n",
              "    <tr>\n",
              "      <th>0</th>\n",
              "      <td>TSX_7376__Absolute Software Corp___Active____(...</td>\n",
              "      <td>2018</td>\n",
              "      <td>4.0</td>\n",
              "    </tr>\n",
              "    <tr>\n",
              "      <th>1</th>\n",
              "      <td>TSX_7299__Acasta Enterprises Inc___Active____(...</td>\n",
              "      <td>2018</td>\n",
              "      <td>2.0</td>\n",
              "    </tr>\n",
              "    <tr>\n",
              "      <th>2</th>\n",
              "      <td>TSX_7319__AcuityAds Holdings Inc___Active____(...</td>\n",
              "      <td>2018</td>\n",
              "      <td>1.0</td>\n",
              "    </tr>\n",
              "    <tr>\n",
              "      <th>3</th>\n",
              "      <td>TSX_6552__Aecon Group Inc___Active____(2018-12...</td>\n",
              "      <td>2018</td>\n",
              "      <td>3.0</td>\n",
              "    </tr>\n",
              "    <tr>\n",
              "      <th>4</th>\n",
              "      <td>TSX_3669__AgJunction Inc___Active____(2018-12-...</td>\n",
              "      <td>2018</td>\n",
              "      <td>2.0</td>\n",
              "    </tr>\n",
              "    <tr>\n",
              "      <th>...</th>\n",
              "      <td>...</td>\n",
              "      <td>...</td>\n",
              "      <td>...</td>\n",
              "    </tr>\n",
              "    <tr>\n",
              "      <th>476</th>\n",
              "      <td>TSX_9999__Vivo Cannabis Inc___Active____(2015-...</td>\n",
              "      <td>2015</td>\n",
              "      <td>2.0</td>\n",
              "    </tr>\n",
              "    <tr>\n",
              "      <th>477</th>\n",
              "      <td>TSX_6531__Wall Financial Corp___Active____(201...</td>\n",
              "      <td>2015</td>\n",
              "      <td>4.0</td>\n",
              "    </tr>\n",
              "    <tr>\n",
              "      <th>478</th>\n",
              "      <td>TSX_1021__Wallbridge Mining Company Ltd___Acti...</td>\n",
              "      <td>2015</td>\n",
              "      <td>4.0</td>\n",
              "    </tr>\n",
              "    <tr>\n",
              "      <th>479</th>\n",
              "      <td>TSX_9999__Well Health Technologies Corp___Acti...</td>\n",
              "      <td>2015</td>\n",
              "      <td>4.0</td>\n",
              "    </tr>\n",
              "    <tr>\n",
              "      <th>480</th>\n",
              "      <td>TSX_2721__Yellow Pages Ltd___Active____(2015-1...</td>\n",
              "      <td>2015</td>\n",
              "      <td>4.0</td>\n",
              "    </tr>\n",
              "  </tbody>\n",
              "</table>\n",
              "<p>481 rows × 3 columns</p>\n",
              "</div>"
            ],
            "text/plain": [
              "                                         finalfilename  ...  rating_quarters\n",
              "0    TSX_7376__Absolute Software Corp___Active____(...  ...              4.0\n",
              "1    TSX_7299__Acasta Enterprises Inc___Active____(...  ...              2.0\n",
              "2    TSX_7319__AcuityAds Holdings Inc___Active____(...  ...              1.0\n",
              "3    TSX_6552__Aecon Group Inc___Active____(2018-12...  ...              3.0\n",
              "4    TSX_3669__AgJunction Inc___Active____(2018-12-...  ...              2.0\n",
              "..                                                 ...  ...              ...\n",
              "476  TSX_9999__Vivo Cannabis Inc___Active____(2015-...  ...              2.0\n",
              "477  TSX_6531__Wall Financial Corp___Active____(201...  ...              4.0\n",
              "478  TSX_1021__Wallbridge Mining Company Ltd___Acti...  ...              4.0\n",
              "479  TSX_9999__Well Health Technologies Corp___Acti...  ...              4.0\n",
              "480  TSX_2721__Yellow Pages Ltd___Active____(2015-1...  ...              4.0\n",
              "\n",
              "[481 rows x 3 columns]"
            ]
          },
          "metadata": {
            "tags": []
          },
          "execution_count": 14
        }
      ]
    },
    {
      "cell_type": "code",
      "metadata": {
        "id": "ZdLDK4nI-3Go",
        "outputId": "238bc1cc-2b99-45ca-b25f-412b20724c5f",
        "colab": {
          "base_uri": "https://localhost:8080/"
        }
      },
      "source": [
        "# extracting out the text data\n",
        "pool = mp.Pool()\n",
        "dirty_corpus = list(tqdm(pool.imap(extract_pdf_text, filtered_metadata.finalfilename), total = filtered_metadata.finalfilename.size))\n",
        "pool.close()"
      ],
      "execution_count": 15,
      "outputs": [
        {
          "output_type": "stream",
          "text": [
            " 19%|█▉        | 93/481 [36:41<3:23:16, 31.43s/it]/usr/local/lib/python3.6/dist-packages/ipykernel_launcher.py:157: DeprecationWarning: The default dtype for empty Series will be 'object' instead of 'float64' in a future version. Specify a dtype explicitly to silence this warning.\n",
            "100%|██████████| 481/481 [3:07:31<00:00, 23.39s/it]\n"
          ],
          "name": "stderr"
        }
      ]
    },
    {
      "cell_type": "code",
      "metadata": {
        "id": "8keVHGPO8DD1",
        "outputId": "95e3cb09-46e7-44a1-c494-46b5a67480d4",
        "colab": {
          "base_uri": "https://localhost:8080/"
        }
      },
      "source": [
        "# filtering the corpus with environmental keywords\n",
        "# https://quantaloop.io/the-language-of-sustainability-top-101-green-initiative-keywords/\n",
        "e_sus_keywords = {'global', 'warming', 'water', \n",
        "                  'air', 'environmental', 'nature',\n",
        "                  'earth', 'solar', 'energy',\n",
        "                  'green', 'recycling', 'pollution',\n",
        "                  'energy', 'sustain', 'environment',\n",
        "                  'waste'}\n",
        "def filter_keyword(dirty_doc):\n",
        "    filtered_doc = []\n",
        "    for sentence in dirty_doc:\n",
        "        # ignore short sentences\n",
        "        if len(sentence.split()) <= 3:\n",
        "            continue\n",
        "        else:\n",
        "            if e_sus_keywords.intersection(set(sentence.split())):\n",
        "                filtered_doc.append(sentence)\n",
        "                break\n",
        "    return ' '.join(filtered_doc)\n",
        "pool = mp.Pool()\n",
        "filtered_corpus = list(tqdm(pool.imap(filter_keyword, dirty_corpus), total = len(dirty_corpus)))\n",
        "pool.close()"
      ],
      "execution_count": 18,
      "outputs": [
        {
          "output_type": "stream",
          "text": [
            "100%|██████████| 481/481 [00:00<00:00, 754.75it/s]\n"
          ],
          "name": "stderr"
        }
      ]
    },
    {
      "cell_type": "code",
      "metadata": {
        "id": "JFxlIDM5ICAr"
      },
      "source": [
        "# creating the filtered data file\n",
        "filtered_data = filtered_metadata.copy()\n",
        "filtered_data['text'] = filtered_corpus\n",
        "filtered_data = filtered_data[['finalfilename', 'text', 'fileyear', 'rating_quarters']]\n",
        "filtered_data = filtered_data.dropna()\n",
        "filtered_data"
      ],
      "execution_count": null,
      "outputs": []
    },
    {
      "cell_type": "code",
      "metadata": {
        "id": "YyLNGepo7U5n"
      },
      "source": [
        "### only upload if you're starting from here\n",
        "try:\n",
        "    os.chdir('extracted data')\n",
        "    filtered_data = pd.read_csv('filtered_data.csv')\n",
        "except:\n",
        "    filtered_data = pd.read_csv('filtered_data.csv')"
      ],
      "execution_count": 9,
      "outputs": []
    },
    {
      "cell_type": "code",
      "metadata": {
        "id": "aJ6ZaaGVBqM8",
        "outputId": "6bab0984-a78a-4571-839b-b99368ef3813",
        "colab": {
          "base_uri": "https://localhost:8080/",
          "height": 265
        }
      },
      "source": [
        "# filtering out the jargon\n",
        "\"\"\"\n",
        "word2remove = [\n",
        "               'consolidated', 'asset', 'assets',\n",
        "               'libaility', 'liabilities', 'organization',\n",
        "               'statement', 'ltd', 'cid',\n",
        "               'keyera', 'inc', 'kel',\n",
        "               'rimbey', 'lude', 'kei',\n",
        "               'krl', 'year', 'end'\n",
        "]\n",
        "\"\"\"\n",
        "word2remove = [\n",
        "               'company', 'financial', 'statement',\n",
        "               'consolidated', 'asset', 'assets',\n",
        "               'liability', 'liabilities', 'year',\n",
        "               'end', 'economic'\n",
        "]\n",
        "\n",
        "final_text = filtered_data.text.apply(lambda x: re.sub(' +', ' ', re.sub('|'.join(word2remove), '', x)).strip())\n",
        "\n",
        "## this is just to see which words or phrases to take out and consider as jargon\n",
        "maxdf, mindf = 0.99, 0.01 # default: 1.0 and 1 \n",
        "count_vectorizer = CountVectorizer(ngram_range = (2, 3),\n",
        "                                   max_df = maxdf,\n",
        "                                   min_df = mindf,\n",
        "                                   max_features = None)\n",
        "get_top_k(final_text, count_vectorizer)"
      ],
      "execution_count": 11,
      "outputs": [
        {
          "output_type": "display_data",
          "data": {
            "image/png": "[encoded data removed]",
            "text/plain": [
              "<Figure size 432x288 with 1 Axes>"
            ]
          },
          "metadata": {
            "tags": [],
            "needs_background": "light"
          }
        }
      ]
    },
    {
      "cell_type": "code",
      "metadata": {
        "id": "MdPtOOOsEoLv",
        "outputId": "cf1e4d6c-c7d1-48fd-f521-57802e057329",
        "colab": {
          "base_uri": "https://localhost:8080/",
          "height": 419
        }
      },
      "source": [
        "# finalizing the text data \n",
        "clean_data = filtered_data.copy()\n",
        "clean_data.text = final_text\n",
        "clean_data"
      ],
      "execution_count": 12,
      "outputs": [
        {
          "output_type": "execute_result",
          "data": {
            "text/html": [
              "<div>\n",
              "<style scoped>\n",
              "    .dataframe tbody tr th:only-of-type {\n",
              "        vertical-align: middle;\n",
              "    }\n",
              "\n",
              "    .dataframe tbody tr th {\n",
              "        vertical-align: top;\n",
              "    }\n",
              "\n",
              "    .dataframe thead th {\n",
              "        text-align: right;\n",
              "    }\n",
              "</style>\n",
              "<table border=\"1\" class=\"dataframe\">\n",
              "  <thead>\n",
              "    <tr style=\"text-align: right;\">\n",
              "      <th></th>\n",
              "      <th>finalfilename</th>\n",
              "      <th>fileyear</th>\n",
              "      <th>rating_quarters</th>\n",
              "      <th>text</th>\n",
              "    </tr>\n",
              "  </thead>\n",
              "  <tbody>\n",
              "    <tr>\n",
              "      <th>0</th>\n",
              "      <td>TSX_7376__Absolute Software Corp___Active____(...</td>\n",
              "      <td>2018</td>\n",
              "      <td>4.0</td>\n",
              "      <td>nature operation absolute software corporation...</td>\n",
              "    </tr>\n",
              "    <tr>\n",
              "      <th>1</th>\n",
              "      <td>TSX_7299__Acasta Enterprises Inc___Active____(...</td>\n",
              "      <td>2018</td>\n",
              "      <td>2.0</td>\n",
              "      <td>report result cad currency primary environment...</td>\n",
              "    </tr>\n",
              "    <tr>\n",
              "      <th>2</th>\n",
              "      <td>TSX_7319__AcuityAds Holdings Inc___Active____(...</td>\n",
              "      <td>2018</td>\n",
              "      <td>1.0</td>\n",
              "      <td>monitor stability customer environment operate...</td>\n",
              "    </tr>\n",
              "    <tr>\n",
              "      <th>3</th>\n",
              "      <td>TSX_6552__Aecon Group Inc___Active____(2018-12...</td>\n",
              "      <td>2018</td>\n",
              "      <td>3.0</td>\n",
              "      <td>unforeseen change nature cost</td>\n",
              "    </tr>\n",
              "    <tr>\n",
              "      <th>4</th>\n",
              "      <td>TSX_3669__AgJunction Inc___Active____(2018-12-...</td>\n",
              "      <td>2018</td>\n",
              "      <td>2.0</td>\n",
              "      <td>internal control management information system...</td>\n",
              "    </tr>\n",
              "    <tr>\n",
              "      <th>...</th>\n",
              "      <td>...</td>\n",
              "      <td>...</td>\n",
              "      <td>...</td>\n",
              "      <td>...</td>\n",
              "    </tr>\n",
              "    <tr>\n",
              "      <th>464</th>\n",
              "      <td>TSX_9999__Vivo Cannabis Inc___Active____(2015-...</td>\n",
              "      <td>2015</td>\n",
              "      <td>2.0</td>\n",
              "      <td>ifrs include cohesive set disclosure requireme...</td>\n",
              "    </tr>\n",
              "    <tr>\n",
              "      <th>465</th>\n",
              "      <td>TSX_6531__Wall Financial Corp___Active____(201...</td>\n",
              "      <td>2015</td>\n",
              "      <td>4.0</td>\n",
              "      <td>carry value amount receivable deposit hold tru...</td>\n",
              "    </tr>\n",
              "    <tr>\n",
              "      <th>466</th>\n",
              "      <td>TSX_1021__Wallbridge Mining Company Ltd___Acti...</td>\n",
              "      <td>2015</td>\n",
              "      <td>4.0</td>\n",
              "      <td>total equity nature operation go concern note ...</td>\n",
              "    </tr>\n",
              "    <tr>\n",
              "      <th>467</th>\n",
              "      <td>TSX_9999__Well Health Technologies Corp___Acti...</td>\n",
              "      <td>2015</td>\n",
              "      <td>4.0</td>\n",
              "      <td>deficit nature operation go concern note</td>\n",
              "    </tr>\n",
              "    <tr>\n",
              "      <th>468</th>\n",
              "      <td>TSX_2721__Yellow Pages Ltd___Active____(2015-1...</td>\n",
              "      <td>2015</td>\n",
              "      <td>4.0</td>\n",
              "      <td>operation system workforce transform breakneck...</td>\n",
              "    </tr>\n",
              "  </tbody>\n",
              "</table>\n",
              "<p>469 rows × 4 columns</p>\n",
              "</div>"
            ],
            "text/plain": [
              "                                         finalfilename  ...                                               text\n",
              "0    TSX_7376__Absolute Software Corp___Active____(...  ...  nature operation absolute software corporation...\n",
              "1    TSX_7299__Acasta Enterprises Inc___Active____(...  ...  report result cad currency primary environment...\n",
              "2    TSX_7319__AcuityAds Holdings Inc___Active____(...  ...  monitor stability customer environment operate...\n",
              "3    TSX_6552__Aecon Group Inc___Active____(2018-12...  ...                      unforeseen change nature cost\n",
              "4    TSX_3669__AgJunction Inc___Active____(2018-12-...  ...  internal control management information system...\n",
              "..                                                 ...  ...                                                ...\n",
              "464  TSX_9999__Vivo Cannabis Inc___Active____(2015-...  ...  ifrs include cohesive set disclosure requireme...\n",
              "465  TSX_6531__Wall Financial Corp___Active____(201...  ...  carry value amount receivable deposit hold tru...\n",
              "466  TSX_1021__Wallbridge Mining Company Ltd___Acti...  ...  total equity nature operation go concern note ...\n",
              "467  TSX_9999__Well Health Technologies Corp___Acti...  ...           deficit nature operation go concern note\n",
              "468  TSX_2721__Yellow Pages Ltd___Active____(2015-1...  ...  operation system workforce transform breakneck...\n",
              "\n",
              "[469 rows x 4 columns]"
            ]
          },
          "metadata": {
            "tags": []
          },
          "execution_count": 12
        }
      ]
    },
    {
      "cell_type": "markdown",
      "metadata": {
        "id": "xv2f2-3fmyyH"
      },
      "source": [
        "## Performing LDA\n",
        "\n",
        "To extract topics from each document within the corpus"
      ]
    },
    {
      "cell_type": "markdown",
      "metadata": {
        "id": "WlSYB-ziIS74"
      },
      "source": [
        "### Full Dataset\n",
        "\n",
        "We want to try topic modelling on the full dataset first to see if there are distinct topics within these environmental disclosures"
      ]
    },
    {
      "cell_type": "code",
      "metadata": {
        "id": "RMyUDTUuYGX_",
        "outputId": "0886e024-c37b-457c-ff3f-e013f5fa773c",
        "colab": {
          "base_uri": "https://localhost:8080/",
          "height": 861
        }
      },
      "source": [
        "# Training the LDA model\n",
        "tfidf_vectorizer = TfidfVectorizer(ngram_range = (1, 3),\n",
        "                                   max_df = maxdf,\n",
        "                                   min_df = mindf,\n",
        "                                   max_features = None)\n",
        "tfidf_fit = tfidf_vectorizer.fit_transform(clean_data.text)\n",
        "lda = LatentDirichletAllocation(n_components = 3, \n",
        "                                random_state = 69)\n",
        "lda.fit(tfidf_fit)\n",
        "\n",
        "# LDA visualisation\n",
        "pyLDAvis.sklearn.prepare(lda, tfidf_fit, tfidf_vectorizer)"
      ],
      "execution_count": 37,
      "outputs": [
        {
          "output_type": "execute_result",
          "data": {
            "text/html": [
              "\n",
              "<link rel=\"stylesheet\" type=\"text/css\" href=\"https://cdn.rawgit.com/bmabey/pyLDAvis/files/ldavis.v1.0.0.css\">\n",
              "\n",
              "\n",
              "<div id=\"ldavis_el15401397200367804564239548009\"></div>\n",
              "<script type=\"text/javascript\">\n",
              "\n",
              "var ldavis_el15401397200367804564239548009_data = {\"mdsDat\": {\"x\": [0.11885553809848293, -0.1685353126957491, 0.04967977459726618], \"y\": [0.09598258959743622, 0.030427176235119605, -0.1264097658325558], \"topics\": [1, 2, 3], \"cluster\": [1, 1, 1], \"Freq\": [40.716180022553885, 32.74123848077692, 26.542581496669204]}, \"tinfo\": {\"Term\": [\"currency\", \"entity\", \"primary\", \"primary environment\", \"currency primary\", \"currency primary environment\", \"functional\", \"functional currency\", \"entity operate\", \"environment entity\", \"environment entity operate\", \"primary environment entity\", \"look\", \"forward look\", \"time\", \"forward\", \"rate\", \"regulatory\", \"cost\", \"change\", \"environmental\", \"etf\", \"uncertainty\", \"risk uncertainty\", \"corporation\", \"system\", \"operate\", \"global\", \"environment\", \"december\", \"cost\", \"december\", \"services\", \"mining\", \"contract\", \"production\", \"international\", \"short\", \"revenue\", \"term\", \"rehabilitation\", \"business\", \"energy services\", \"cash\", \"activity\", \"significant\", \"resource\", \"total\", \"provision\", \"facility\", \"development\", \"share\", \"term nature\", \"corp\", \"gold\", \"new\", \"environmental rehabilitation\", \"construction\", \"long\", \"short term nature\", \"short term\", \"permit\", \"operating\", \"environmental\", \"global\", \"loss\", \"energy\", \"inc\", \"water\", \"industry\", \"report\", \"exploration\", \"service\", \"operation\", \"nature\", \"include\", \"value\", \"currency\", \"primary\", \"entity\", \"primary environment\", \"currency primary\", \"currency primary environment\", \"functional\", \"functional currency\", \"environment entity\", \"entity operate\", \"environment entity operate\", \"primary environment entity\", \"risk uncertainty\", \"subject inherent\", \"inherent risk\", \"subject inherent risk\", \"nature forward\", \"nature forward look\", \"forward look require\", \"look require\", \"assumption subject\", \"assumption subject inherent\", \"inherent risk uncertainty\", \"look require assumption\", \"require assumption\", \"require assumption subject\", \"measure currency\", \"measure currency primary\", \"measure\", \"operate functional\", \"uncertainty\", \"look\", \"forward look\", \"forward\", \"inherent\", \"require\", \"corporation\", \"operate\", \"environment\", \"risk\", \"nature\", \"assumption\", \"subsidiary\", \"include\", \"nature operation\", \"time\", \"etf\", \"rate\", \"regulatory\", \"system\", \"retail\", \"claim\", \"control\", \"instrument\", \"use\", \"agreement\", \"air\", \"factor\", \"index\", \"recognition\", \"credit\", \"collectively\", \"affect\", \"horizon\", \"index etf\", \"initial\", \"time initial recognition\", \"initial recognition\", \"time initial\", \"tax\", \"foreign exchange\", \"packaging\", \"pressure\", \"derivative\", \"focus\", \"foreign\", \"legal\", \"segment\", \"change\", \"estimate\", \"base\", \"environment\", \"requirement\", \"nature\", \"environment operate\", \"operate\", \"global\", \"market\", \"environmental\"], \"Freq\": [12.0, 9.0, 8.0, 8.0, 7.0, 7.0, 6.0, 6.0, 6.0, 6.0, 6.0, 6.0, 6.0, 6.0, 4.0, 6.0, 4.0, 3.0, 6.0, 6.0, 10.0, 3.0, 5.0, 4.0, 8.0, 3.0, 11.0, 10.0, 13.0, 6.0, 6.260045390146504, 5.650771329914837, 4.768033659034894, 4.742975223641705, 4.48429488485344, 4.240272601757921, 4.060019989333319, 3.793735850181687, 3.919269373876876, 3.759589415767957, 3.692576913648705, 6.469389881417293, 3.4083677460274977, 4.662384341112826, 3.1968190997097734, 3.0098281696262137, 2.9442998336638415, 3.320026307240523, 5.6584685101736705, 2.922429015726107, 4.319036475564364, 2.883738070134765, 2.844342362550422, 2.892910311458962, 2.852343068252242, 2.6873746763929485, 2.6425705172993568, 2.564925257199011, 2.56085093016253, 2.538933954124282, 2.538933954124282, 3.023127568944225, 3.4670262300198553, 8.539851719186986, 7.898548926914714, 4.072936066146968, 8.921033151127366, 5.290618588179869, 4.177419518793363, 3.7857031351942982, 3.956362783545509, 3.4257734075687747, 3.9313811599970094, 5.197295830999415, 6.489217773826106, 4.179597005436074, 3.438376882097355, 12.315065820414103, 8.281731112381635, 8.645877855858668, 7.848834286292458, 6.774348878618221, 6.774348878618218, 6.325794260523879, 6.190356074526607, 5.834128208542089, 5.834128208542089, 5.834128208542089, 5.834128208542089, 4.274412222930977, 3.7381109091713016, 3.7381109091713016, 3.7381109091713016, 3.6778531689508, 3.6778531689508, 3.6084709055725988, 3.6084709055725988, 3.573221500607076, 3.573221500607076, 3.573221500607076, 3.441083873276325, 3.441083873276325, 3.441083873276325, 3.3921689138819753, 3.3921689138819753, 3.6263838827050017, 3.3164994933911336, 4.6709222487505295, 5.580717405808653, 5.580717347060679, 5.66350815042481, 4.024620558039591, 4.1839698149749704, 5.882601532421586, 7.274106233969015, 7.296813101715024, 4.432216643762054, 6.134465771209847, 3.945753299007104, 4.019074008034377, 3.9289284473325554, 3.744336770942375, 3.772896183521206, 3.374767286428, 3.5083316352100873, 3.4472022916594485, 3.186493376690305, 2.716677929940875, 2.5741880358995055, 2.4870976710527426, 2.761657569550263, 2.8109184428735348, 2.5965042078013143, 2.4717609647605276, 2.5480647882315206, 2.165482377482143, 2.346310062032543, 2.154730353714628, 2.2008896562918077, 2.1623576379477303, 2.0578221773895042, 1.9873624760713515, 1.9863449113865308, 1.9863449113865308, 1.9863449113865308, 1.9863449113865308, 2.1490793223083107, 2.120028566945915, 1.9487192085513494, 1.8755267277109327, 1.837679228893956, 1.9791693739645173, 2.402916516124134, 2.6916206612655222, 3.558051174072709, 4.371811583103457, 3.1358608593642368, 3.869513041432983, 4.62435960066044, 2.1291256486283965, 4.292478667388253, 2.486192695042613, 2.787636653010268, 2.4168528135475262, 2.20585798278719, 2.167505643154623], \"Total\": [12.0, 9.0, 8.0, 8.0, 7.0, 7.0, 6.0, 6.0, 6.0, 6.0, 6.0, 6.0, 6.0, 6.0, 4.0, 6.0, 4.0, 3.0, 6.0, 6.0, 10.0, 3.0, 5.0, 4.0, 8.0, 3.0, 11.0, 10.0, 13.0, 6.0, 6.788894670405436, 6.164693056894288, 5.27322851605478, 5.258201194296194, 5.0045028822404785, 4.762879978290507, 4.5805454006457405, 4.298266021640838, 4.448182920430005, 4.267788746351662, 4.207577940374959, 7.391261072963442, 3.9124828017887516, 5.389265826076565, 3.7142607142508446, 3.514600881719795, 3.45060861820842, 3.8926931176513095, 6.637949433450167, 3.43009115832723, 5.07533356494239, 3.390318488534043, 3.348783148005503, 3.407608680577006, 3.3617871219640145, 3.2014319356183933, 3.1526616969585652, 3.071345897559021, 3.066726229546291, 3.042606370242271, 3.042606370242271, 3.646670373225366, 4.217273827122911, 10.966201934702191, 10.576199057047972, 5.110390320167344, 13.418482225651186, 7.152773234861768, 5.489645856674256, 4.85625343754065, 5.3888829248419, 4.4627844928379545, 5.7880789269453174, 9.82655041280494, 16.916162212424204, 9.809176942901773, 4.656042676791307, 12.825970113195323, 8.788440588808497, 9.175725188648313, 8.34684392462001, 7.272284011784868, 7.272284011784869, 6.831870232448266, 6.688464302366216, 6.332083582730951, 6.332083582730951, 6.332083582730951, 6.332083582730951, 4.7747702596272426, 4.23530744257615, 4.23530744257615, 4.23530744257615, 4.175121794923189, 4.175121794923189, 4.105666537451498, 4.105666537451498, 4.070406451601316, 4.070406451601316, 4.070406451601316, 3.9382672080896426, 3.9382672080896426, 3.9382672080896426, 3.88939461043505, 3.88939461043505, 4.158342950241904, 3.813711757358238, 5.420437728103209, 6.54227612715703, 6.542276125895448, 6.77622867652002, 4.753472851993027, 5.076989194224135, 8.15965034663505, 11.407560740970506, 13.780404906090737, 7.009823653574121, 16.916162212424204, 5.395342592342081, 5.954472414885316, 9.809176942901773, 5.371316958061268, 4.2837499644344055, 3.877379579618225, 4.032212196182941, 3.9785612341197343, 3.691589927099215, 3.219450697683725, 3.0909748019736902, 2.9902805726693114, 3.3382417371454505, 3.398660331713753, 3.1551619410324654, 3.009841645546616, 3.113266227542156, 2.6708210277150326, 2.8954363470887614, 2.6597211261630544, 2.7172066415402196, 2.689841211458173, 2.5661527316693205, 2.4901163165325237, 2.4890068575592705, 2.4890068575592705, 2.4890068575592705, 2.4890068575592705, 2.698548619728359, 2.663519135181496, 2.4522006741281266, 2.3782988704636696, 2.340615446626515, 2.543560169942051, 3.116055587612993, 3.5715914681639687, 5.018400216655399, 6.77378422687592, 4.7718609640874945, 6.52246366880709, 13.780404906090737, 2.9309744127216835, 16.916162212424204, 4.960003689466082, 11.407560740970506, 10.576199057047972, 4.7614283990527895, 10.966201934702191], \"Category\": [\"Default\", \"Default\", \"Default\", \"Default\", \"Default\", \"Default\", \"Default\", \"Default\", \"Default\", \"Default\", \"Default\", \"Default\", \"Default\", \"Default\", \"Default\", \"Default\", \"Default\", \"Default\", \"Default\", \"Default\", \"Default\", \"Default\", \"Default\", \"Default\", \"Default\", \"Default\", \"Default\", \"Default\", \"Default\", \"Default\", \"Topic1\", \"Topic1\", \"Topic1\", \"Topic1\", \"Topic1\", \"Topic1\", \"Topic1\", \"Topic1\", \"Topic1\", \"Topic1\", \"Topic1\", \"Topic1\", \"Topic1\", \"Topic1\", \"Topic1\", \"Topic1\", \"Topic1\", \"Topic1\", \"Topic1\", \"Topic1\", \"Topic1\", \"Topic1\", \"Topic1\", \"Topic1\", \"Topic1\", \"Topic1\", \"Topic1\", \"Topic1\", \"Topic1\", \"Topic1\", \"Topic1\", \"Topic1\", \"Topic1\", \"Topic1\", \"Topic1\", \"Topic1\", \"Topic1\", \"Topic1\", \"Topic1\", \"Topic1\", \"Topic1\", \"Topic1\", \"Topic1\", \"Topic1\", \"Topic1\", \"Topic1\", \"Topic1\", \"Topic2\", \"Topic2\", \"Topic2\", \"Topic2\", \"Topic2\", \"Topic2\", \"Topic2\", \"Topic2\", \"Topic2\", \"Topic2\", \"Topic2\", \"Topic2\", \"Topic2\", \"Topic2\", \"Topic2\", \"Topic2\", \"Topic2\", \"Topic2\", \"Topic2\", \"Topic2\", \"Topic2\", \"Topic2\", \"Topic2\", \"Topic2\", \"Topic2\", \"Topic2\", \"Topic2\", \"Topic2\", \"Topic2\", \"Topic2\", \"Topic2\", \"Topic2\", \"Topic2\", \"Topic2\", \"Topic2\", \"Topic2\", \"Topic2\", \"Topic2\", \"Topic2\", \"Topic2\", \"Topic2\", \"Topic2\", \"Topic2\", \"Topic2\", \"Topic2\", \"Topic3\", \"Topic3\", \"Topic3\", \"Topic3\", \"Topic3\", \"Topic3\", \"Topic3\", \"Topic3\", \"Topic3\", \"Topic3\", \"Topic3\", \"Topic3\", \"Topic3\", \"Topic3\", \"Topic3\", \"Topic3\", \"Topic3\", \"Topic3\", \"Topic3\", \"Topic3\", \"Topic3\", \"Topic3\", \"Topic3\", \"Topic3\", \"Topic3\", \"Topic3\", \"Topic3\", \"Topic3\", \"Topic3\", \"Topic3\", \"Topic3\", \"Topic3\", \"Topic3\", \"Topic3\", \"Topic3\", \"Topic3\", \"Topic3\", \"Topic3\", \"Topic3\", \"Topic3\", \"Topic3\", \"Topic3\", \"Topic3\", \"Topic3\"], \"logprob\": [30.0, 29.0, 28.0, 27.0, 26.0, 25.0, 24.0, 23.0, 22.0, 21.0, 20.0, 19.0, 18.0, 17.0, 16.0, 15.0, 14.0, 13.0, 12.0, 11.0, 10.0, 9.0, 8.0, 7.0, 6.0, 5.0, 4.0, 3.0, 2.0, 1.0, -4.6398, -4.7422, -4.912, -4.9173, -4.9734, -5.0293, -5.0728, -5.1406, -5.1081, -5.1497, -5.1676, -4.6069, -5.2477, -4.9344, -5.3118, -5.3721, -5.3941, -5.274, -4.7408, -5.4016, -5.0109, -5.4149, -5.4286, -5.4117, -5.4258, -5.4854, -5.5022, -5.532, -5.5336, -5.5422, -5.5422, -5.3677, -5.2307, -4.3292, -4.4073, -5.0696, -4.2856, -4.808, -5.0443, -5.1427, -5.0986, -5.2426, -5.105, -4.8258, -4.6038, -5.0438, -5.239, -3.7452, -4.1419, -4.0989, -4.1956, -4.3428, -4.3428, -4.4113, -4.433, -4.4923, -4.4923, -4.4923, -4.4923, -4.8033, -4.9374, -4.9374, -4.9374, -4.9536, -4.9536, -4.9727, -4.9727, -4.9825, -4.9825, -4.9825, -5.0202, -5.0202, -5.0202, -5.0345, -5.0345, -4.9677, -5.0571, -4.7146, -4.5367, -4.5367, -4.5219, -4.8635, -4.8247, -4.484, -4.2717, -4.2685, -4.7671, -4.4421, -4.8833, -4.8649, -4.8876, -4.9357, -4.7182, -4.8298, -4.7909, -4.8085, -4.8872, -5.0467, -5.1006, -5.135, -5.0303, -5.0126, -5.0919, -5.1412, -5.1108, -5.2734, -5.1932, -5.2784, -5.2572, -5.2749, -5.3244, -5.3593, -5.3598, -5.3598, -5.3598, -5.3598, -5.2811, -5.2947, -5.3789, -5.4172, -5.4376, -5.3634, -5.1694, -5.0559, -4.7769, -4.5709, -4.9032, -4.693, -4.5148, -5.2904, -4.5892, -5.1353, -5.0209, -5.1636, -5.255, -5.2725], \"loglift\": [30.0, 29.0, 28.0, 27.0, 26.0, 25.0, 24.0, 23.0, 22.0, 21.0, 20.0, 19.0, 18.0, 17.0, 16.0, 15.0, 14.0, 13.0, 12.0, 11.0, 10.0, 9.0, 8.0, 7.0, 6.0, 5.0, 4.0, 3.0, 2.0, 1.0, 0.8174, 0.8115, 0.7978, 0.7954, 0.7888, 0.7823, 0.7779, 0.7737, 0.772, 0.7718, 0.768, 0.7653, 0.7606, 0.7537, 0.7485, 0.7435, 0.7399, 0.7394, 0.7389, 0.7384, 0.7372, 0.7367, 0.7353, 0.7348, 0.7342, 0.7235, 0.722, 0.7184, 0.7183, 0.7176, 0.7176, 0.711, 0.7027, 0.6485, 0.6066, 0.6716, 0.4903, 0.597, 0.6254, 0.6495, 0.5895, 0.6341, 0.5117, 0.2616, -0.0596, 0.0454, 0.5954, 1.0759, 1.0571, 1.0571, 1.055, 1.0456, 1.0456, 1.0396, 1.0391, 1.0346, 1.0346, 1.0346, 1.0346, 1.0058, 0.9917, 0.9917, 0.9917, 0.9897, 0.9897, 0.9875, 0.9875, 0.9863, 0.9863, 0.9863, 0.9816, 0.9816, 0.9816, 0.9798, 0.9798, 0.9797, 0.9768, 0.9677, 0.9576, 0.9576, 0.9372, 0.9501, 0.9231, 0.7893, 0.6666, 0.4807, 0.6581, 0.1022, 0.8036, 0.7234, 0.2016, 0.7557, 1.1994, 1.1876, 1.1872, 1.1831, 1.1793, 1.1566, 1.1435, 1.1422, 1.1368, 1.1365, 1.1315, 1.1295, 1.1261, 1.1167, 1.1161, 1.1159, 1.1157, 1.1081, 1.1057, 1.1009, 1.1008, 1.1008, 1.1008, 1.1008, 1.0987, 1.0982, 1.0966, 1.0889, 1.0845, 1.0755, 1.0665, 1.0436, 0.9825, 0.8885, 0.9066, 0.8043, 0.2345, 1.0068, -0.045, 0.6358, -0.0827, -0.1497, 0.557, -0.2948]}, \"token.table\": {\"Topic\": [1, 3, 3, 3, 2, 3, 2, 2, 1, 2, 3, 1, 3, 1, 1, 3, 3, 3, 1, 1, 3, 1, 1, 2, 1, 3, 2, 2, 2, 1, 3, 1, 1, 2, 3, 1, 2, 2, 1, 2, 3, 2, 2, 2, 3, 1, 3, 1, 2, 3, 3, 1, 3, 1, 3, 3, 3, 3, 2, 3, 2, 3, 2, 2, 2, 1, 3, 1, 3, 1, 2, 1, 2, 3, 3, 3, 1, 3, 2, 2, 2, 3, 3, 3, 1, 1, 3, 1, 2, 3, 2, 2, 1, 3, 1, 2, 3, 2, 2, 2, 1, 1, 2, 3, 2, 2, 1, 2, 1, 1, 2, 3, 2, 1, 1, 2, 3, 3, 1, 3, 2, 2, 2, 1, 1, 3, 3, 3, 3, 1, 1, 2, 1, 2, 2, 2, 1, 3, 1, 3, 1, 1, 2, 3, 2, 1, 3, 1, 3, 1, 1, 1, 1, 1, 1, 2, 2, 1, 2, 3, 3, 3, 1, 1, 3, 3, 3, 1, 2, 3, 1, 3, 1, 3], \"Freq\": [0.8076977441270143, 0.7435383142619755, 0.9508228281361395, 0.6644867855288051, 0.7413801684581494, 0.18534504211453734, 0.9827028449275336, 0.9827028449275336, 0.3066326010468656, 0.1533163005234328, 0.6132652020937313, 0.8117694586580702, 0.13529490977634503, 0.927770156707977, 0.2952559356799003, 0.5905118713598007, 0.9705676015490001, 0.7360500189511981, 0.9767704778495565, 0.7992801870880789, 0.6688335597266964, 0.8803827790144066, 0.24510854203756144, 0.7353256261126843, 0.8837963013560317, 0.7519585344216986, 0.9356017435012134, 0.9625586663909678, 0.9625586663909677, 0.9732844676329662, 0.8544761177589263, 0.7881255387093762, 0.6707166912510657, 0.22357223041702193, 0.14904815361134793, 0.7667765334657644, 0.9808489045786037, 0.9475554012526588, 0.1451336164379342, 0.5079676575327697, 0.3628340410948355, 0.9475554012526588, 0.9475554012526588, 0.4032255065147521, 0.4032255065147521, 0.820703471775382, 0.18237854928341823, 0.9515768859355125, 0.2095618475739111, 0.6286855427217333, 0.7737184194629163, 0.672226051877368, 0.22407535062578932, 0.8746123241409786, 0.9636182005444562, 0.7862994646773248, 0.6418370737513285, 0.7508862893390541, 0.8854482760875984, 0.1475747126812664, 0.9171120088085206, 0.15285200146808675, 0.9742632441072314, 0.8782368218153117, 0.8970669093467907, 0.7564154151078317, 0.18910385377695793, 0.8923825010809572, 0.7793768372855073, 0.6990295701855321, 0.27961182807421286, 0.4077814095192283, 0.4077814095192283, 0.20389070475961416, 0.7488334033789826, 0.8031753323013406, 0.8236802406312876, 0.2059200601578219, 0.8414900273013841, 0.9444414730768582, 0.9827028449275336, 0.8035333425964152, 0.8035333425964152, 0.8986766795880148, 0.8732584550818122, 0.2799872294784222, 0.8399616884352666, 0.9782418694882449, 0.917112008631669, 0.1528520014386115, 0.9742632441072314, 0.761756336349566, 0.7827190780740632, 0.1956797695185158, 0.42004201940700575, 0.21002100970350288, 0.42004201940700575, 0.9619216230751981, 0.7713282658311787, 0.7713282658311787, 0.9508955278135275, 0.35469037980690765, 0.35469037980690765, 0.2364602532046051, 0.9580558835107201, 0.9580558835107201, 0.18617408129289426, 0.744696325171577, 0.9370806752511874, 0.08766115935797544, 0.6136281155058281, 0.26298347807392636, 0.7866352233389823, 0.7113600214209107, 0.5088255583042163, 0.407060446643373, 0.10176511166084325, 0.8155939361329368, 0.8226682680251667, 0.8409372029891613, 0.9102866338070802, 0.9584460991780435, 0.9475554012526588, 0.839828007052926, 0.9038935984906133, 0.1506489330817689, 0.9920112844722223, 0.6907421750130737, 0.7540414294173248, 0.950665693347451, 0.7422688627286058, 0.18556721568215145, 0.19696713184610587, 0.7878685273844235, 0.761756336349566, 0.761756336349566, 0.3411834629669819, 0.6823669259339638, 0.8694118435134556, 0.9318359812617687, 0.8992435948684684, 0.14265694109011243, 0.5706277643604497, 0.14265694109011243, 0.8377366412415145, 0.19926668994655583, 0.7970667597862233, 0.6910755797366116, 0.3455377898683058, 0.9481857243199469, 0.8848726189430023, 0.9306078264725511, 0.9859967524360114, 0.9859967524360114, 0.8535819858248069, 0.9444414730768582, 0.9444414730768582, 0.1679409912959115, 0.671763965183646, 0.1679409912959115, 0.8126579764392591, 0.7411391387868801, 0.9372535141106546, 0.8958477952765517, 0.9337613150183313, 0.8035333425964152, 0.8035333425964152, 0.7706746741469506, 0.9224347277483929, 0.8827007429975413, 0.6443239910480026, 0.21477466368266754, 0.7286444525627896, 0.1821611131406974], \"Term\": [\"activity\", \"affect\", \"agreement\", \"air\", \"assumption\", \"assumption\", \"assumption subject\", \"assumption subject inherent\", \"base\", \"base\", \"base\", \"business\", \"business\", \"cash\", \"change\", \"change\", \"claim\", \"collectively\", \"construction\", \"contract\", \"control\", \"corp\", \"corporation\", \"corporation\", \"cost\", \"credit\", \"currency\", \"currency primary\", \"currency primary environment\", \"december\", \"derivative\", \"development\", \"energy\", \"energy\", \"energy\", \"energy services\", \"entity\", \"entity operate\", \"environment\", \"environment\", \"environment\", \"environment entity\", \"environment entity operate\", \"environment operate\", \"environment operate\", \"environmental\", \"environmental\", \"environmental rehabilitation\", \"estimate\", \"estimate\", \"etf\", \"exploration\", \"exploration\", \"facility\", \"factor\", \"focus\", \"foreign\", \"foreign exchange\", \"forward\", \"forward\", \"forward look\", \"forward look\", \"forward look require\", \"functional\", \"functional currency\", \"global\", \"global\", \"gold\", \"horizon\", \"inc\", \"inc\", \"include\", \"include\", \"include\", \"index\", \"index etf\", \"industry\", \"industry\", \"inherent\", \"inherent risk\", \"inherent risk uncertainty\", \"initial\", \"initial recognition\", \"instrument\", \"international\", \"legal\", \"legal\", \"long\", \"look\", \"look\", \"look require\", \"look require assumption\", \"loss\", \"loss\", \"market\", \"market\", \"market\", \"measure\", \"measure currency\", \"measure currency primary\", \"mining\", \"nature\", \"nature\", \"nature\", \"nature forward\", \"nature forward look\", \"nature operation\", \"nature operation\", \"new\", \"operate\", \"operate\", \"operate\", \"operate functional\", \"operating\", \"operation\", \"operation\", \"operation\", \"packaging\", \"permit\", \"pressure\", \"primary\", \"primary environment\", \"primary environment entity\", \"production\", \"provision\", \"provision\", \"rate\", \"recognition\", \"regulatory\", \"rehabilitation\", \"report\", \"report\", \"require\", \"require\", \"require assumption\", \"require assumption subject\", \"requirement\", \"requirement\", \"resource\", \"retail\", \"revenue\", \"risk\", \"risk\", \"risk\", \"risk uncertainty\", \"segment\", \"segment\", \"service\", \"service\", \"services\", \"share\", \"short\", \"short term\", \"short term nature\", \"significant\", \"subject inherent\", \"subject inherent risk\", \"subsidiary\", \"subsidiary\", \"subsidiary\", \"system\", \"tax\", \"term\", \"term nature\", \"time\", \"time initial\", \"time initial recognition\", \"total\", \"uncertainty\", \"use\", \"value\", \"value\", \"water\", \"water\"]}, \"R\": 30, \"lambda.step\": 0.01, \"plot.opts\": {\"xlab\": \"PC1\", \"ylab\": \"PC2\"}, \"topic.order\": [1, 3, 2]};\n",
              "\n",
              "function LDAvis_load_lib(url, callback){\n",
              "  var s = document.createElement('script');\n",
              "  s.src = url;\n",
              "  s.async = true;\n",
              "  s.onreadystatechange = s.onload = callback;\n",
              "  s.onerror = function(){console.warn(\"failed to load library \" + url);};\n",
              "  document.getElementsByTagName(\"head\")[0].appendChild(s);\n",
              "}\n",
              "\n",
              "if(typeof(LDAvis) !== \"undefined\"){\n",
              "   // already loaded: just create the visualization\n",
              "   !function(LDAvis){\n",
              "       new LDAvis(\"#\" + \"ldavis_el15401397200367804564239548009\", ldavis_el15401397200367804564239548009_data);\n",
              "   }(LDAvis);\n",
              "}else if(typeof define === \"function\" && define.amd){\n",
              "   // require.js is available: use it to load d3/LDAvis\n",
              "   require.config({paths: {d3: \"https://cdnjs.cloudflare.com/ajax/libs/d3/3.5.5/d3.min\"}});\n",
              "   require([\"d3\"], function(d3){\n",
              "      window.d3 = d3;\n",
              "      LDAvis_load_lib(\"https://cdn.rawgit.com/bmabey/pyLDAvis/files/ldavis.v1.0.0.js\", function(){\n",
              "        new LDAvis(\"#\" + \"ldavis_el15401397200367804564239548009\", ldavis_el15401397200367804564239548009_data);\n",
              "      });\n",
              "    });\n",
              "}else{\n",
              "    // require.js not available: dynamically load d3 & LDAvis\n",
              "    LDAvis_load_lib(\"https://cdnjs.cloudflare.com/ajax/libs/d3/3.5.5/d3.min.js\", function(){\n",
              "         LDAvis_load_lib(\"https://cdn.rawgit.com/bmabey/pyLDAvis/files/ldavis.v1.0.0.js\", function(){\n",
              "                 new LDAvis(\"#\" + \"ldavis_el15401397200367804564239548009\", ldavis_el15401397200367804564239548009_data);\n",
              "            })\n",
              "         });\n",
              "}\n",
              "</script>"
            ],
            "text/plain": [
              "PreparedData(topic_coordinates=              x         y  topics  cluster       Freq\n",
              "topic                                                \n",
              "0      0.118856  0.095983       1        1  40.716180\n",
              "2     -0.168535  0.030427       2        1  32.741238\n",
              "1      0.049680 -0.126410       3        1  26.542581, topic_info=                    Term       Freq      Total Category  logprob  loglift\n",
              "112             currency  12.000000  12.000000  Default  30.0000  30.0000\n",
              "155               entity   9.000000   9.000000  Default  29.0000  29.0000\n",
              "393              primary   8.000000   8.000000  Default  28.0000  28.0000\n",
              "394  primary environment   8.000000   8.000000  Default  27.0000  27.0000\n",
              "113     currency primary   7.000000   7.000000  Default  26.0000  26.0000\n",
              "..                   ...        ...        ...      ...      ...      ...\n",
              "163  environment operate   2.486193   4.960004   Topic3  -5.1353   0.6358\n",
              "361              operate   2.787637  11.407561   Topic3  -5.0209  -0.0827\n",
              "226               global   2.416853  10.576199   Topic3  -5.1636  -0.1497\n",
              "319               market   2.205858   4.761428   Topic3  -5.2550   0.5570\n",
              "164        environmental   2.167506  10.966202   Topic3  -5.2725  -0.2948\n",
              "\n",
              "[166 rows x 6 columns], token_table=      Topic      Freq        Term\n",
              "term                             \n",
              "16        1  0.807698    activity\n",
              "19        3  0.743538      affect\n",
              "20        3  0.950823   agreement\n",
              "21        3  0.664487         air\n",
              "35        2  0.741380  assumption\n",
              "...     ...       ...         ...\n",
              "518       3  0.882701         use\n",
              "519       1  0.644324       value\n",
              "519       3  0.214775       value\n",
              "524       1  0.728644       water\n",
              "524       3  0.182161       water\n",
              "\n",
              "[174 rows x 3 columns], R=30, lambda_step=0.01, plot_opts={'xlab': 'PC1', 'ylab': 'PC2'}, topic_order=[1, 3, 2])"
            ]
          },
          "metadata": {
            "tags": []
          },
          "execution_count": 37
        }
      ]
    },
    {
      "cell_type": "code",
      "metadata": {
        "id": "oPi0NgdjhKV2",
        "outputId": "169e06c7-846a-4e04-81e5-0ff25dcb95ea",
        "colab": {
          "base_uri": "https://localhost:8080/"
        }
      },
      "source": [
        "# Showing the words for each topic\n",
        "n_words_to_show = 8\n",
        "fulldata_words = display_topics(lda, tfidf_vectorizer.get_feature_names(), n_words_to_show)"
      ],
      "execution_count": 38,
      "outputs": [
        {
          "output_type": "stream",
          "text": [
            "Topic 0:\n",
            "energy, environmental, global, nature, business, cost, provision, december\n",
            "\n",
            "Topic 1:\n",
            "environment, change, nature, base, time, segment, rate, regulatory\n",
            "\n",
            "Topic 2:\n",
            "currency, entity, primary, primary environment, environment, operate, currency primary, currency primary environment\n",
            "\n"
          ],
          "name": "stdout"
        }
      ]
    },
    {
      "cell_type": "code",
      "metadata": {
        "id": "8Urh3jzG3cx1",
        "outputId": "43ab18ec-4277-4750-b314-981d9cde3d3c",
        "colab": {
          "base_uri": "https://localhost:8080/"
        }
      },
      "source": [
        "# finding the topic classification for each observation\n",
        "classified_data = topic_classification(lda, tfidf_fit, clean_data)\n",
        "classified_data.groupby('rating_quarters').topic_labels.value_counts()"
      ],
      "execution_count": 39,
      "outputs": [
        {
          "output_type": "execute_result",
          "data": {
            "text/plain": [
              "rating_quarters  topic_labels\n",
              "1.0              0               65\n",
              "                 2               33\n",
              "                 1               24\n",
              "2.0              0               67\n",
              "                 2               28\n",
              "                 1               20\n",
              "3.0              0               67\n",
              "                 2               26\n",
              "                 1               20\n",
              "4.0              0               67\n",
              "                 2               40\n",
              "                 1               12\n",
              "Name: topic_labels, dtype: int64"
            ]
          },
          "metadata": {
            "tags": []
          },
          "execution_count": 39
        }
      ]
    },
    {
      "cell_type": "code",
      "metadata": {
        "id": "lL36_ep_52TI",
        "outputId": "50ffbbd5-264e-4c5c-910d-01eb052102f8",
        "colab": {
          "base_uri": "https://localhost:8080/"
        }
      },
      "source": [
        "classified_data.groupby('fileyear').topic_labels.value_counts()"
      ],
      "execution_count": 40,
      "outputs": [
        {
          "output_type": "execute_result",
          "data": {
            "text/plain": [
              "fileyear  topic_labels\n",
              "2015      0               62\n",
              "          2               38\n",
              "          1               13\n",
              "2016      0               66\n",
              "          2               38\n",
              "          1               19\n",
              "2017      0               73\n",
              "          1               28\n",
              "          2               26\n",
              "2018      0               65\n",
              "          2               25\n",
              "          1               16\n",
              "Name: topic_labels, dtype: int64"
            ]
          },
          "metadata": {
            "tags": []
          },
          "execution_count": 40
        }
      ]
    },
    {
      "cell_type": "markdown",
      "metadata": {
        "id": "Tt-VDzphIfmP"
      },
      "source": [
        "### Trying on rating 1 and 4"
      ]
    },
    {
      "cell_type": "markdown",
      "metadata": {
        "id": "K3YGVCdkIo9T"
      },
      "source": [
        "**Rating 1**"
      ]
    },
    {
      "cell_type": "code",
      "metadata": {
        "id": "Qxvqvil7vy3J",
        "outputId": "d3545f68-d665-43f5-cae1-0809e27f43f6",
        "colab": {
          "base_uri": "https://localhost:8080/",
          "height": 861
        }
      },
      "source": [
        "# Creating the rating's dataset\n",
        "scoped_data = filtered_data.loc[filtered_data.rating_quarters == 1, :]\n",
        "\n",
        "# Training the LDA model\n",
        "tfidf_vectorizer = TfidfVectorizer(ngram_range = (2, 3),\n",
        "                                   max_df = maxdf,\n",
        "                                   min_df = mindf,\n",
        "                                   max_features = None)\n",
        "tfidf_fit = tfidf_vectorizer.fit_transform(scoped_data.text)\n",
        "lda = LatentDirichletAllocation(n_components = 4, \n",
        "                                random_state = 69)\n",
        "lda.fit(tfidf_fit)\n",
        "\n",
        "# LDA visualisation\n",
        "pyLDAvis.sklearn.prepare(lda, tfidf_fit, tfidf_vectorizer)"
      ],
      "execution_count": null,
      "outputs": [
        {
          "output_type": "execute_result",
          "data": {
            "text/html": [
              "\n",
              "<link rel=\"stylesheet\" type=\"text/css\" href=\"https://cdn.rawgit.com/bmabey/pyLDAvis/files/ldavis.v1.0.0.css\">\n",
              "\n",
              "\n",
              "<div id=\"ldavis_el571406876319815682681143534\"></div>\n",
              "<script type=\"text/javascript\">\n",
              "\n",
              "var ldavis_el571406876319815682681143534_data = {\"mdsDat\": {\"x\": [-0.08412607264766109, 0.043230789980918095, 0.024025730086981723, 0.016869552579761315], \"y\": [0.009608951772635092, 0.046714282201702574, -0.03646977605334075, -0.01985345792099693], \"topics\": [1, 2, 3, 4], \"cluster\": [1, 1, 1, 1], \"Freq\": [33.868259622568246, 25.44657796332675, 20.88679303979748, 19.798369374307523]}, \"tinfo\": {\"Term\": [\"provision environmental\", \"nature operation\", \"cost production\", \"environmental permit\", \"risk uncertainty\", \"financial liability\", \"environmental rehabilitation provision\", \"rehabilitation provision\", \"short term nature\", \"fair value\", \"short term\", \"forward look\", \"term nature\", \"long term\", \"nature business\", \"initial recognition\", \"tax credit\", \"responsibility management\", \"go concern\", \"fair value short\", \"value short\", \"approximate fair\", \"approximate fair value\", \"value short term\", \"cash flow\", \"global economic\", \"inherent risk uncertainty\", \"nature forward\", \"inherent risk\", \"nature forward look\", \"provision environmental\", \"environmental permit\", \"risk uncertainty\", \"initial recognition\", \"cash flow\", \"nature forward look\", \"nature forward\", \"inherent risk\", \"inherent risk uncertainty\", \"provision environmental rehabilitation\", \"energy services\", \"time initial recognition\", \"time initial\", \"forward look\", \"financial instrument\", \"dep nature purpose\", \"nature purpose\", \"nature purpose financial\", \"purpose financial\", \"dep nature\", \"look require\", \"subject inherent risk\", \"require assumption\", \"require assumption subject\", \"forward look require\", \"look require assumption\", \"subject inherent\", \"assumption subject inherent\", \"assumption subject\", \"energy energy krpl\", \"energy energy\", \"energy krpl\", \"environmental rehabilitation provision\", \"rehabilitation provision\", \"fair value\", \"short term\", \"short term nature\", \"financial liability\", \"go concern\", \"value short term\", \"value short\", \"fair value short\", \"approximate fair\", \"approximate fair value\", \"accrue liability\", \"nature operation go\", \"operation go concern\", \"operation go\", \"claim non\", \"compliance regulatory\", \"prior agreement\", \"non compliance\", \"non compliance regulatory\", \"environmental requirement\", \"claim non compliance\", \"term nature\", \"liability approximate\", \"capital expiture\", \"surface right\", \"payable accrue\", \"account payable accrue\", \"payable accrue liability\", \"account payable\", \"environmental rehabilitation\", \"nature operation\", \"cost production\", \"tax credit\", \"short sea\", \"item capital\", \"investment tax credit\", \"investment tax\", \"reasonable assurance\", \"capital nature\", \"item capital nature\", \"credit realize\", \"company reasonable\", \"company reasonable assurance\", \"nature reduction\", \"relate expiture\", \"relate expiture item\", \"reduction relate\", \"tax credit account\", \"credit account reduction\", \"credit account\", \"reduction relate expiture\", \"expiture item\", \"account reduction\", \"account reduction relate\", \"nature month\", \"cost sale\", \"cost sale nature\", \"sale nature month\", \"sale nature\", \"month december\", \"nature month month\", \"month month december\", \"month month\", \"nature operation\", \"global economic\", \"month december december\", \"long term\", \"energy ome\", \"nature business\", \"business lawsuit\", \"involve company\", \"recreation business lawsuit\", \"nature sport recreation\", \"nature sport\", \"lawsuit involve\", \"lawsuit involve company\", \"business lawsuit involve\", \"involve company pe\", \"sport recreation business\", \"company pe\", \"sport recreation\", \"recreation business\", \"identify forward\", \"identify forward look\", \"similar expression\", \"similar expression int\", \"generally historical nature\", \"look generally historical\", \"expression int identify\", \"expression int\", \"historical nature\", \"look generally\", \"int identify\", \"forward look generally\", \"int identify forward\", \"generally historical\", \"business provide service\", \"enterprise consolidator business\", \"enterprise consolidator\", \"exploration activity\", \"energy construction industry\", \"energy construction\", \"utility energy\", \"responsibility management\", \"orporate law\", \"long term\", \"british columbia\", \"accompany financial\"], \"Freq\": [1.0, 1.0, 0.0, 1.0, 1.0, 1.0, 0.0, 0.0, 0.0, 0.0, 0.0, 1.0, 1.0, 0.0, 0.0, 1.0, 0.0, 0.0, 0.0, 0.0, 0.0, 0.0, 0.0, 0.0, 1.0, 0.0, 1.0, 1.0, 1.0, 1.0, 1.207367364361635, 1.1279157973571292, 1.118610944666606, 0.9222914346098182, 0.8780773224190842, 0.8220320009048866, 0.8220320009048866, 0.8220320009048866, 0.8220320009048866, 0.8206112065713801, 0.8025001347694589, 0.7805203955933028, 0.7805203955933028, 1.2899995308985497, 0.7259559671558259, 0.708309976530764, 0.708309976530764, 0.708309976530764, 0.708309976530764, 0.8093327930445527, 0.6653881035809098, 0.6653881035809098, 0.6653881035809098, 0.6653881035809098, 0.6653881035809098, 0.6653881035809098, 0.6653881035809098, 0.6653881035809098, 0.6653881035809098, 0.656058810306615, 0.656058810306615, 0.656058810306615, 0.6850024461378943, 0.6850024461378942, 0.6592003173421153, 0.6592003173421153, 0.6592003173421153, 0.7458249056815748, 0.5353341925790462, 0.5290121516771658, 0.5290121516771658, 0.5290121516771658, 0.5290121516771658, 0.5290121516771658, 0.42263386883283305, 0.40055615158016467, 0.40055615158016467, 0.40055615158016467, 0.3884598387602376, 0.3884598387602376, 0.3884598387602376, 0.3884598387602376, 0.3884598387602376, 0.3884598387602376, 0.3884598387602376, 0.6530353093324313, 0.3398740055293016, 0.4702968829662308, 0.4702962634120679, 0.3331174673509463, 0.3331174673509463, 0.3331174673509463, 0.3331174673509463, 0.6212374037449249, 0.451083019783332, 0.5319483168607835, 0.40387268135650045, 0.3393546641897755, 0.33629621749712035, 0.33629621749712035, 0.33629621749712035, 0.33629621749712035, 0.33629621749712035, 0.33629621749712035, 0.33629621749712035, 0.33629621749712035, 0.33629621749712035, 0.33629621749712035, 0.2950908284181357, 0.2950908284181357, 0.2950908284181357, 0.2950908284181357, 0.2950908284181357, 0.2950908284181357, 0.2950908284181357, 0.2950908284181357, 0.2950908284181357, 0.2950908284181357, 0.28965474219569004, 0.28965474219569004, 0.28965474219569004, 0.28965474219569004, 0.28965474219569004, 0.28965474219569004, 0.28965474219569004, 0.28965474219569004, 0.28965474219569004, 0.5739324361079566, 0.42564745108279356, 0.28965474219569004, 0.349307938287417, 0.29047013734913874, 0.41181111340611465, 0.26404774231750355, 0.26404774231750355, 0.26404774231750355, 0.26404774231750355, 0.26404774231750355, 0.26404774231750355, 0.26404774231750355, 0.26404774231750355, 0.26404774231750355, 0.26404774231750355, 0.26404774231750355, 0.26404774231750355, 0.26404774231750355, 0.25465826695336474, 0.25465826695336474, 0.25465826695336474, 0.25465826695336474, 0.25465826695336474, 0.25465826695336474, 0.25465826695336474, 0.25465826695336474, 0.25465826695336474, 0.25465826695336474, 0.25465826695336474, 0.25465826695336474, 0.25465826695336474, 0.25465826695336474, 0.25148006726312216, 0.25148006726312216, 0.25148006726312216, 0.31440326325903956, 0.25148006726312216, 0.25148006726312216, 0.25148006726312216, 0.33259030285139746, 0.3190865625467705, 0.3134388596203874, 0.30777530649130913, 0.2949548872590085], \"Total\": [1.0, 1.0, 0.0, 1.0, 1.0, 1.0, 0.0, 0.0, 0.0, 0.0, 0.0, 1.0, 1.0, 0.0, 0.0, 1.0, 0.0, 0.0, 0.0, 0.0, 0.0, 0.0, 0.0, 0.0, 1.0, 0.0, 1.0, 1.0, 1.0, 1.0, 1.469189888730015, 1.3883375845260357, 1.378828270888001, 1.1824926472609198, 1.1384376864129304, 1.0822013676389246, 1.0822013676389246, 1.0822013676389246, 1.0822013676389246, 1.0835201503529497, 1.062878598474641, 1.0407225624877234, 1.0407225624877234, 1.7332277405551628, 0.9862916835181403, 0.9684843806450146, 0.9684843806450146, 0.9684843806450146, 0.9684843806450146, 1.11677028307331, 0.925546480896532, 0.925546480896532, 0.925546480896532, 0.925546480896532, 0.925546480896532, 0.925546480896532, 0.925546480896532, 0.925546480896532, 0.925546480896532, 0.9163018860947475, 0.9163018860947475, 0.9163018860947475, 0.958702815039757, 0.9587028150397569, 0.9311549998576003, 0.9311549998576003, 0.9311549998576003, 1.1200972052264875, 0.8073533226673819, 0.8009568963171058, 0.8009568963171058, 0.8009568963171058, 0.8009568963171058, 0.8009568963171058, 0.6945750317674619, 0.6725852388674135, 0.6725852388674135, 0.6725852388674135, 0.6604242363547292, 0.6604242363547292, 0.6604242363547292, 0.6604242363547292, 0.6604242363547292, 0.6604242363547292, 0.6604242363547292, 1.1223379491711036, 0.6118640402170699, 0.8508196869561012, 0.8508196258502498, 0.6050586874513404, 0.6050586874513404, 0.6050586874513404, 0.6050586874513404, 1.3910621107733163, 1.2127972524991686, 0.8133984952047169, 0.6850919922319371, 0.6205855942373368, 0.6175143141923521, 0.6175143141923521, 0.6175143141923521, 0.6175143141923521, 0.6175143141923521, 0.6175143141923521, 0.6175143141923521, 0.6175143141923521, 0.6175143141923521, 0.6175143141923521, 0.5763119058964913, 0.5763119058964913, 0.5763119058964913, 0.5763119058964913, 0.5763119058964913, 0.5763119058964913, 0.5763119058964913, 0.5763119058964913, 0.5763119058964913, 0.5763119058964913, 0.5709227545816046, 0.5709227545816046, 0.5709227545816046, 0.5709227545816046, 0.5709227545816046, 0.5709227545816046, 0.5709227545816046, 0.5709227545816046, 0.5709227545816046, 1.2127972524991686, 0.8928051945433979, 0.5709227545816046, 0.8622499919800835, 0.9911151726992036, 0.8031688241167823, 0.5476016508740464, 0.5476016508740464, 0.5476016508740464, 0.5476016508740464, 0.5476016508740464, 0.5476016508740464, 0.5476016508740464, 0.5476016508740464, 0.5476016508740464, 0.5476016508740464, 0.5476016508740464, 0.5476016508740464, 0.5476016508740464, 0.5382109742144148, 0.5382109742144148, 0.5382109742144148, 0.5382109742144148, 0.5382109742144148, 0.5382109742144148, 0.5382109742144148, 0.5382109742144148, 0.5382109742144148, 0.5382109742144148, 0.5382109742144148, 0.5382109742144148, 0.5382109742144148, 0.5382109742144148, 0.5350290452453683, 0.5350290452453683, 0.5350290452453683, 0.7080958395317621, 0.5350290452453683, 0.5350290452453683, 0.5350290452453683, 0.8196294758047626, 0.8107742083397791, 0.8622499919800835, 0.9486565687180902, 1.058599629771392], \"Category\": [\"Default\", \"Default\", \"Default\", \"Default\", \"Default\", \"Default\", \"Default\", \"Default\", \"Default\", \"Default\", \"Default\", \"Default\", \"Default\", \"Default\", \"Default\", \"Default\", \"Default\", \"Default\", \"Default\", \"Default\", \"Default\", \"Default\", \"Default\", \"Default\", \"Default\", \"Default\", \"Default\", \"Default\", \"Default\", \"Default\", \"Topic1\", \"Topic1\", \"Topic1\", \"Topic1\", \"Topic1\", \"Topic1\", \"Topic1\", \"Topic1\", \"Topic1\", \"Topic1\", \"Topic1\", \"Topic1\", \"Topic1\", \"Topic1\", \"Topic1\", \"Topic1\", \"Topic1\", \"Topic1\", \"Topic1\", \"Topic1\", \"Topic1\", \"Topic1\", \"Topic1\", \"Topic1\", \"Topic1\", \"Topic1\", \"Topic1\", \"Topic1\", \"Topic1\", \"Topic1\", \"Topic1\", \"Topic1\", \"Topic2\", \"Topic2\", \"Topic2\", \"Topic2\", \"Topic2\", \"Topic2\", \"Topic2\", \"Topic2\", \"Topic2\", \"Topic2\", \"Topic2\", \"Topic2\", \"Topic2\", \"Topic2\", \"Topic2\", \"Topic2\", \"Topic2\", \"Topic2\", \"Topic2\", \"Topic2\", \"Topic2\", \"Topic2\", \"Topic2\", \"Topic2\", \"Topic2\", \"Topic2\", \"Topic2\", \"Topic2\", \"Topic2\", \"Topic2\", \"Topic2\", \"Topic2\", \"Topic2\", \"Topic3\", \"Topic3\", \"Topic3\", \"Topic3\", \"Topic3\", \"Topic3\", \"Topic3\", \"Topic3\", \"Topic3\", \"Topic3\", \"Topic3\", \"Topic3\", \"Topic3\", \"Topic3\", \"Topic3\", \"Topic3\", \"Topic3\", \"Topic3\", \"Topic3\", \"Topic3\", \"Topic3\", \"Topic3\", \"Topic3\", \"Topic3\", \"Topic3\", \"Topic3\", \"Topic3\", \"Topic3\", \"Topic3\", \"Topic3\", \"Topic3\", \"Topic3\", \"Topic3\", \"Topic3\", \"Topic3\", \"Topic3\", \"Topic3\", \"Topic4\", \"Topic4\", \"Topic4\", \"Topic4\", \"Topic4\", \"Topic4\", \"Topic4\", \"Topic4\", \"Topic4\", \"Topic4\", \"Topic4\", \"Topic4\", \"Topic4\", \"Topic4\", \"Topic4\", \"Topic4\", \"Topic4\", \"Topic4\", \"Topic4\", \"Topic4\", \"Topic4\", \"Topic4\", \"Topic4\", \"Topic4\", \"Topic4\", \"Topic4\", \"Topic4\", \"Topic4\", \"Topic4\", \"Topic4\", \"Topic4\", \"Topic4\", \"Topic4\", \"Topic4\", \"Topic4\", \"Topic4\", \"Topic4\", \"Topic4\", \"Topic4\", \"Topic4\"], \"logprob\": [30.0, 29.0, 28.0, 27.0, 26.0, 25.0, 24.0, 23.0, 22.0, 21.0, 20.0, 19.0, 18.0, 17.0, 16.0, 15.0, 14.0, 13.0, 12.0, 11.0, 10.0, 9.0, 8.0, 7.0, 6.0, 5.0, 4.0, 3.0, 2.0, 1.0, -4.4835, -4.5516, -4.5599, -4.7529, -4.802, -4.8679, -4.8679, -4.8679, -4.8679, -4.8697, -4.892, -4.9198, -4.9198, -4.4173, -4.9922, -5.0168, -5.0168, -5.0168, -5.0168, -4.8835, -5.0793, -5.0793, -5.0793, -5.0793, -5.0793, -5.0793, -5.0793, -5.0793, -5.0793, -5.0935, -5.0935, -5.0935, -4.7644, -4.7644, -4.8028, -4.8028, -4.8028, -4.6793, -5.0109, -5.0228, -5.0228, -5.0228, -5.0228, -5.0228, -5.2473, -5.301, -5.301, -5.301, -5.3316, -5.3316, -5.3316, -5.3316, -5.3316, -5.3316, -5.3316, -4.8122, -5.4652, -5.1405, -5.1405, -5.4853, -5.4853, -5.4853, -5.4853, -4.8621, -5.1822, -4.8198, -5.0953, -5.2693, -5.2784, -5.2784, -5.2784, -5.2784, -5.2784, -5.2784, -5.2784, -5.2784, -5.2784, -5.2784, -5.4091, -5.4091, -5.4091, -5.4091, -5.4091, -5.4091, -5.4091, -5.4091, -5.4091, -5.4091, -5.4277, -5.4277, -5.4277, -5.4277, -5.4277, -5.4277, -5.4277, -5.4277, -5.4277, -4.7438, -5.0427, -5.4277, -5.2404, -5.4249, -5.0223, -5.4667, -5.4667, -5.4667, -5.4667, -5.4667, -5.4667, -5.4667, -5.4667, -5.4667, -5.4667, -5.4667, -5.4667, -5.4667, -5.5029, -5.5029, -5.5029, -5.5029, -5.5029, -5.5029, -5.5029, -5.5029, -5.5029, -5.5029, -5.5029, -5.5029, -5.5029, -5.5029, -5.5155, -5.5155, -5.5155, -5.2922, -5.5155, -5.5155, -5.5155, -5.2359, -5.2774, -5.2952, -5.3135, -5.356], \"loglift\": [30.0, 29.0, 28.0, 27.0, 26.0, 25.0, 24.0, 23.0, 22.0, 21.0, 20.0, 19.0, 18.0, 17.0, 16.0, 15.0, 14.0, 13.0, 12.0, 11.0, 10.0, 9.0, 8.0, 7.0, 6.0, 5.0, 4.0, 3.0, 2.0, 1.0, 0.8864, 0.875, 0.8735, 0.8342, 0.823, 0.8077, 0.8077, 0.8077, 0.8077, 0.8048, 0.8017, 0.795, 0.795, 0.7873, 0.7762, 0.7698, 0.7698, 0.7698, 0.7698, 0.7607, 0.7527, 0.7527, 0.7527, 0.7527, 0.7527, 0.7527, 0.7527, 0.7527, 0.7527, 0.7486, 0.7486, 0.7486, 1.0324, 1.0324, 1.0232, 1.0232, 1.0232, 0.9619, 0.9577, 0.9538, 0.9538, 0.9538, 0.9538, 0.9538, 0.8718, 0.8503, 0.8503, 0.8503, 0.8379, 0.8379, 0.8379, 0.8379, 0.8379, 0.8379, 0.8379, 0.8271, 0.7807, 0.7758, 0.7758, 0.7718, 0.7718, 0.7718, 0.7718, 0.5625, 0.3796, 1.1414, 1.0376, 0.9624, 0.9583, 0.9583, 0.9583, 0.9583, 0.9583, 0.9583, 0.9583, 0.9583, 0.9583, 0.9583, 0.8967, 0.8967, 0.8967, 0.8967, 0.8967, 0.8967, 0.8967, 0.8967, 0.8967, 0.8967, 0.8875, 0.8875, 0.8875, 0.8875, 0.8875, 0.8875, 0.8875, 0.8875, 0.8875, 0.8179, 0.8253, 0.8875, 0.6625, 0.3387, 0.9516, 0.8902, 0.8902, 0.8902, 0.8902, 0.8902, 0.8902, 0.8902, 0.8902, 0.8902, 0.8902, 0.8902, 0.8902, 0.8902, 0.8712, 0.8712, 0.8712, 0.8712, 0.8712, 0.8712, 0.8712, 0.8712, 0.8712, 0.8712, 0.8712, 0.8712, 0.8712, 0.8712, 0.8646, 0.8646, 0.8646, 0.8077, 0.8646, 0.8646, 0.8646, 0.7176, 0.687, 0.6076, 0.4939, 0.3417]}, \"token.table\": {\"Topic\": [2, 2, 1, 1, 1, 3, 1, 1, 1, 1, 1, 1, 1, 1, 1, 2, 2, 2, 2, 1, 2, 1, 1, 2, 1, 1, 1, 1, 1, 1, 1, 3, 1, 1, 1, 1, 1, 2, 1, 1, 1, 2, 2, 1, 1, 2, 1, 1, 2, 2], \"Freq\": [1.2485066357479633, 1.2485066357479633, 1.0804427661281242, 1.0804427661281242, 0.878396781778079, 1.229409700036781, 0.8954392995200745, 1.0325411746279232, 1.0913433827599892, 1.0913433827599892, 1.0913433827599892, 1.0089644751140268, 0.9408412225395456, 0.7202859096704421, 0.718875161831618, 0.718875161831618, 1.0430761069148737, 1.0739350593112083, 1.2485066357479633, 1.0138988462651957, 0.8927796581706465, 0.5769582245895131, 1.0804427661281242, 1.2386150795740092, 0.924042447092572, 0.924042447092572, 0.8456712202958396, 1.0804427661281242, 1.0804427661281242, 0.924042447092572, 0.924042447092572, 0.824540126504521, 1.0325411746279232, 1.0325411746279232, 0.6806472108683049, 0.9229177691566294, 1.0325411746279232, 1.043076106914874, 1.0804427661281242, 1.0804427661281242, 0.7252534787062164, 1.0739350593112083, 1.0739350593112083, 1.0804427661281242, 1.0804427661281242, 0.890997226582728, 0.9608708757208252, 0.9608708757208252, 1.2485066357479633, 1.2485066357479633], \"Term\": [\"approximate fair\", \"approximate fair value\", \"assumption subject\", \"assumption subject inherent\", \"cash flow\", \"cost production\", \"dep nature\", \"dep nature purpose\", \"energy energy\", \"energy energy krpl\", \"energy krpl\", \"energy ome\", \"energy services\", \"environmental permit\", \"environmental rehabilitation\", \"environmental rehabilitation\", \"environmental rehabilitation provision\", \"fair value\", \"fair value short\", \"financial instrument\", \"financial liability\", \"forward look\", \"forward look require\", \"go concern\", \"inherent risk\", \"inherent risk uncertainty\", \"initial recognition\", \"look require\", \"look require assumption\", \"nature forward\", \"nature forward look\", \"nature operation\", \"nature purpose\", \"nature purpose financial\", \"provision environmental\", \"provision environmental rehabilitation\", \"purpose financial\", \"rehabilitation provision\", \"require assumption\", \"require assumption subject\", \"risk uncertainty\", \"short term\", \"short term nature\", \"subject inherent\", \"subject inherent risk\", \"term nature\", \"time initial\", \"time initial recognition\", \"value short\", \"value short term\"]}, \"R\": 30, \"lambda.step\": 0.01, \"plot.opts\": {\"xlab\": \"PC1\", \"ylab\": \"PC2\"}, \"topic.order\": [2, 4, 3, 1]};\n",
              "\n",
              "function LDAvis_load_lib(url, callback){\n",
              "  var s = document.createElement('script');\n",
              "  s.src = url;\n",
              "  s.async = true;\n",
              "  s.onreadystatechange = s.onload = callback;\n",
              "  s.onerror = function(){console.warn(\"failed to load library \" + url);};\n",
              "  document.getElementsByTagName(\"head\")[0].appendChild(s);\n",
              "}\n",
              "\n",
              "if(typeof(LDAvis) !== \"undefined\"){\n",
              "   // already loaded: just create the visualization\n",
              "   !function(LDAvis){\n",
              "       new LDAvis(\"#\" + \"ldavis_el571406876319815682681143534\", ldavis_el571406876319815682681143534_data);\n",
              "   }(LDAvis);\n",
              "}else if(typeof define === \"function\" && define.amd){\n",
              "   // require.js is available: use it to load d3/LDAvis\n",
              "   require.config({paths: {d3: \"https://cdnjs.cloudflare.com/ajax/libs/d3/3.5.5/d3.min\"}});\n",
              "   require([\"d3\"], function(d3){\n",
              "      window.d3 = d3;\n",
              "      LDAvis_load_lib(\"https://cdn.rawgit.com/bmabey/pyLDAvis/files/ldavis.v1.0.0.js\", function(){\n",
              "        new LDAvis(\"#\" + \"ldavis_el571406876319815682681143534\", ldavis_el571406876319815682681143534_data);\n",
              "      });\n",
              "    });\n",
              "}else{\n",
              "    // require.js not available: dynamically load d3 & LDAvis\n",
              "    LDAvis_load_lib(\"https://cdnjs.cloudflare.com/ajax/libs/d3/3.5.5/d3.min.js\", function(){\n",
              "         LDAvis_load_lib(\"https://cdn.rawgit.com/bmabey/pyLDAvis/files/ldavis.v1.0.0.js\", function(){\n",
              "                 new LDAvis(\"#\" + \"ldavis_el571406876319815682681143534\", ldavis_el571406876319815682681143534_data);\n",
              "            })\n",
              "         });\n",
              "}\n",
              "</script>"
            ],
            "text/plain": [
              "PreparedData(topic_coordinates=              x         y  topics  cluster       Freq\n",
              "topic                                                \n",
              "1     -0.084126  0.009609       1        1  33.868260\n",
              "3      0.043231  0.046714       2        1  25.446578\n",
              "2      0.024026 -0.036470       3        1  20.886793\n",
              "0      0.016870 -0.019853       4        1  19.798369, topic_info=                          Term      Freq     Total Category  logprob  loglift\n",
              "413    provision environmental  1.000000  1.000000  Default  30.0000  30.0000\n",
              "334           nature operation  1.000000  1.000000  Default  29.0000  29.0000\n",
              "116            cost production  0.000000  0.000000  Default  28.0000  28.0000\n",
              "170       environmental permit  1.000000  1.000000  Default  27.0000  27.0000\n",
              "455           risk uncertainty  1.000000  1.000000  Default  26.0000  26.0000\n",
              "..                         ...       ...       ...      ...      ...      ...\n",
              "454  responsibility management  0.332590  0.819629   Topic4  -5.2359   0.7176\n",
              "369               orporate law  0.319087  0.810774   Topic4  -5.2774   0.6870\n",
              "291                  long term  0.313439  0.862250   Topic4  -5.2952   0.6076\n",
              "42            british columbia  0.307775  0.948657   Topic4  -5.3135   0.4939\n",
              "3          accompany financial  0.294955  1.058600   Topic4  -5.3560   0.3417\n",
              "\n",
              "[172 rows x 6 columns], token_table=      Topic      Freq                                    Term\n",
              "term                                                         \n",
              "22        2  1.248507                        approximate fair\n",
              "23        2  1.248507                  approximate fair value\n",
              "28        1  1.080443                      assumption subject\n",
              "29        1  1.080443             assumption subject inherent\n",
              "54        1  0.878397                               cash flow\n",
              "116       3  1.229410                         cost production\n",
              "136       1  0.895439                              dep nature\n",
              "137       1  1.032541                      dep nature purpose\n",
              "159       1  1.091343                           energy energy\n",
              "160       1  1.091343                      energy energy krpl\n",
              "161       1  1.091343                             energy krpl\n",
              "162       1  1.008964                              energy ome\n",
              "165       1  0.940841                         energy services\n",
              "170       1  0.720286                    environmental permit\n",
              "171       1  0.718875            environmental rehabilitation\n",
              "171       2  0.718875            environmental rehabilitation\n",
              "173       2  1.043076  environmental rehabilitation provision\n",
              "204       2  1.073935                              fair value\n",
              "205       2  1.248507                        fair value short\n",
              "208       1  1.013899                    financial instrument\n",
              "209       2  0.892780                     financial liability\n",
              "219       1  0.576958                            forward look\n",
              "223       1  1.080443                    forward look require\n",
              "237       2  1.238615                              go concern\n",
              "257       1  0.924042                           inherent risk\n",
              "258       1  0.924042               inherent risk uncertainty\n",
              "259       1  0.845671                     initial recognition\n",
              "297       1  1.080443                            look require\n",
              "298       1  1.080443                 look require assumption\n",
              "330       1  0.924042                          nature forward\n",
              "331       1  0.924042                     nature forward look\n",
              "334       3  0.824540                        nature operation\n",
              "337       1  1.032541                          nature purpose\n",
              "338       1  1.032541                nature purpose financial\n",
              "413       1  0.680647                 provision environmental\n",
              "414       1  0.922918  provision environmental rehabilitation\n",
              "415       1  1.032541                       purpose financial\n",
              "435       2  1.043076                rehabilitation provision\n",
              "448       1  1.080443                      require assumption\n",
              "449       1  1.080443              require assumption subject\n",
              "455       1  0.725253                        risk uncertainty\n",
              "481       2  1.073935                              short term\n",
              "482       2  1.073935                       short term nature\n",
              "497       1  1.080443                        subject inherent\n",
              "498       1  1.080443                   subject inherent risk\n",
              "508       2  0.890997                             term nature\n",
              "510       1  0.960871                            time initial\n",
              "511       1  0.960871                time initial recognition\n",
              "531       2  1.248507                             value short\n",
              "532       2  1.248507                        value short term, R=30, lambda_step=0.01, plot_opts={'xlab': 'PC1', 'ylab': 'PC2'}, topic_order=[2, 4, 3, 1])"
            ]
          },
          "metadata": {
            "tags": []
          },
          "execution_count": 29
        }
      ]
    },
    {
      "cell_type": "code",
      "metadata": {
        "id": "bvQE5nRfJAoQ",
        "outputId": "37bf3168-a4fc-4336-b3a2-3207401444fb",
        "colab": {
          "base_uri": "https://localhost:8080/"
        }
      },
      "source": [
        "# Showing the words for each topic\n",
        "n_words_to_show = 8\n",
        "rating_1_words = display_topics(lda, tfidf_vectorizer.get_feature_names(), n_words_to_show)"
      ],
      "execution_count": null,
      "outputs": [
        {
          "output_type": "stream",
          "text": [
            "Topic 0:\n",
            "service business, go concern, nature operation go, operation go, operation go concern, short sea, nature operation, matter lack market\n",
            "\n",
            "Topic 1:\n",
            "cash flow, financial instrument, environmental permit, month end, energy services, december december, cost sale, end december december\n",
            "\n",
            "Topic 2:\n",
            "forward look, fair value, risk uncertainty, nature operation, forward look require, nature forward look, subject inherent, look require assumption\n",
            "\n",
            "Topic 3:\n",
            "environmental rehabilitation, provision environmental, provision environmental rehabilitation, environmental requirement, sustain ongoing, sustain ongoing production, ongoing production, financial liability\n",
            "\n"
          ],
          "name": "stdout"
        }
      ]
    },
    {
      "cell_type": "markdown",
      "metadata": {
        "id": "evCKsINxJDRg"
      },
      "source": [
        "**Rating 4**"
      ]
    },
    {
      "cell_type": "code",
      "metadata": {
        "id": "WyGbxZ76JEu_",
        "outputId": "5c07a751-2007-4d84-96a7-15ca4f7da82a",
        "colab": {
          "base_uri": "https://localhost:8080/",
          "height": 861
        }
      },
      "source": [
        "# Creating the rating's dataset\n",
        "scoped_data = filtered_data.loc[filtered_data.rating_quarters == 4, :]\n",
        "\n",
        "# Training the LDA model\n",
        "tfidf_vectorizer = TfidfVectorizer(ngram_range = (2, 3),\n",
        "                                   max_df = maxdf,\n",
        "                                   min_df = mindf,\n",
        "                                   max_features = None)\n",
        "tfidf_fit = tfidf_vectorizer.fit_transform(scoped_data.text)\n",
        "lda = LatentDirichletAllocation(n_components = 4, \n",
        "                                random_state = 69)\n",
        "lda.fit(tfidf_fit)\n",
        "\n",
        "# LDA visualisation\n",
        "pyLDAvis.sklearn.prepare(lda, tfidf_fit, tfidf_vectorizer)"
      ],
      "execution_count": null,
      "outputs": [
        {
          "output_type": "execute_result",
          "data": {
            "text/html": [
              "\n",
              "<link rel=\"stylesheet\" type=\"text/css\" href=\"https://cdn.rawgit.com/bmabey/pyLDAvis/files/ldavis.v1.0.0.css\">\n",
              "\n",
              "\n",
              "<div id=\"ldavis_el571406876319814484240224428\"></div>\n",
              "<script type=\"text/javascript\">\n",
              "\n",
              "var ldavis_el571406876319814484240224428_data = {\"mdsDat\": {\"x\": [-0.06444301932306207, 0.00776566730629474, 0.05553748369375199, 0.0011398683230153194], \"y\": [-0.031095803272798195, 0.028894411699856175, -0.04100917146393667, 0.04321056303687864], \"topics\": [1, 2, 3, 4], \"cluster\": [1, 1, 1, 1], \"Freq\": [29.34387031796667, 25.986878042187904, 24.79364535161285, 19.87560628823258]}, \"tinfo\": {\"Term\": [\"nature operation\", \"energy service\", \"global dairy\", \"total energy\", \"long term\", \"environmental rehabilitation\", \"environmental permit\", \"future event\", \"operation go concern\", \"go concern\", \"operation go\", \"nature operation go\", \"forward look\", \"energy services\", \"define benefit\", \"cash flow\", \"environmental requirement\", \"energy company\", \"initial recognition\", \"future cash\", \"future cash flow\", \"index etf\", \"social environmental\", \"environmental rehabilitation provision\", \"rehabilitation provision\", \"service business\", \"financial result\", \"long term nature\", \"define benefit plan\", \"benefit plan\", \"environmental permit\", \"environmental requirement\", \"social environmental\", \"application environmental\", \"application environmental permit\", \"inherent risk\", \"inherent risk uncertainty\", \"subject inherent risk\", \"subject inherent\", \"assumption subject\", \"assumption subject inherent\", \"short term\", \"short term nature\", \"nature forward look\", \"nature forward\", \"require assumption subject\", \"look require\", \"forward look require\", \"look require assumption\", \"require assumption\", \"financial liability\", \"obligation ur\", \"compliance regulatory\", \"claim non\", \"claim non compliance\", \"non compliance\", \"non compliance regulatory\", \"prior agreement\", \"risk uncertainty\", \"evaluation development\", \"reclamation cost generally\", \"financial result\", \"service business\", \"accompany financial\", \"term nature\", \"fair value\", \"forward look\", \"environmental political\", \"accounting policy\", \"matter lack market\", \"matter lack\", \"lack market\", \"political regulatory matter\", \"political regulatory\", \"regulatory matter\", \"regulatory matter lack\", \"economic legal\", \"legal environmental\", \"economic legal environmental\", \"contingency factor\", \"contingency factor economic\", \"factor economic\", \"factor economic legal\", \"british columbia\", \"columbia november\", \"software corporation company\", \"company act\", \"act british columbia\", \"act british\", \"british columbia november\", \"software corporation\", \"company act british\", \"nature operation absolute\", \"corporation company orporate\", \"corporation company\", \"operation absolute\", \"operation absolute software\", \"company orporate\", \"orporate company\", \"company orporate company\", \"absolute software\", \"regulatory environmental\", \"orporate company act\", \"absolute software corporation\", \"real estate\", \"accord nature\", \"initial recognition\", \"balance sheet\", \"cash flow\", \"nature product\", \"similarity nature\", \"similarity nature product\", \"operating segment\", \"nature operation\", \"environmental rehabilitation\", \"future event\", \"operation go concern\", \"go concern\", \"nature operation go\", \"operation go\", \"future cash flow\", \"future cash\", \"rehabilitation provision\", \"environmental rehabilitation provision\", \"express opinion financial\", \"express opinion\", \"opinion financial\", \"outline nature\", \"concern note\", \"go concern note\", \"financial assess\", \"remain financial assess\", \"remain financial\", \"financial assess collectively\", \"assess collectively base\", \"collectively base\", \"assess collectively\", \"base nature\", \"collectively base nature\", \"cash flow\", \"cost sale nature\", \"cost sale\", \"nature month month\", \"forward look\", \"month december\", \"month december december\", \"month month\", \"month month december\", \"sale nature\", \"sale nature month\", \"index etf\", \"ongoing production\", \"financial position\", \"december december\", \"accord nature\", \"energy service\", \"global dairy\", \"total energy\", \"long term\", \"define benefit\", \"energy company\", \"define benefit plan\", \"benefit plan\", \"long term nature\", \"subjective necessarily\", \"subjective necessarily result\", \"estimate fair\", \"result precise determination\", \"result precise\", \"fair value subjective\", \"estimate fair value\", \"value subjective necessarily\", \"precise determination\", \"nature estimate\", \"nature estimate fair\", \"value subjective\", \"necessarily result precise\", \"necessarily result\", \"accordingly nature\", \"accordingly nature estimate\", \"energy services\", \"energy services total\", \"company base calgary\", \"company base\", \"energy service company\", \"services total energy\", \"base calgary alberta\", \"look information\", \"forward look information\", \"initial recognition\", \"services total\", \"service business\", \"financial result\"], \"Freq\": [1.0, 1.0, 1.0, 0.0, 0.0, 1.0, 1.0, 1.0, 0.0, 0.0, 0.0, 0.0, 1.0, 1.0, 0.0, 1.0, 1.0, 0.0, 0.0, 0.0, 0.0, 0.0, 0.0, 0.0, 0.0, 1.0, 1.0, 0.0, 0.0, 0.0, 0.9735548404265488, 0.7928074701291682, 0.6636867917285513, 0.5903187169913331, 0.5903187169913331, 0.553205357710348, 0.553205357710348, 0.553205357710348, 0.553205357710348, 0.5532053577103481, 0.553205357710348, 0.5136822641646639, 0.5136822641646639, 0.5093235303493334, 0.5093235303357809, 0.4401307083909852, 0.4401307083909852, 0.4401307083909852, 0.4401307083909852, 0.4401307083909852, 0.4123661441392644, 0.40703787726682034, 0.3977436083974623, 0.3977436083974623, 0.3977436083974623, 0.3977436083974623, 0.3977436083974623, 0.3977436083974623, 0.6082022739482931, 0.3606112934226232, 0.3606112934226232, 0.512731400274632, 0.5123236452833454, 0.5153775785874236, 0.4817000637092578, 0.46725144018605863, 0.5822814518143171, 0.48316778376159586, 0.49823945946466835, 0.30833808827254394, 0.30833808827254394, 0.30833808827254394, 0.30833808827254394, 0.30833808827254394, 0.30833808827254394, 0.30833808827254394, 0.30833808827254394, 0.30833808827254394, 0.30833808827254394, 0.30833808827254394, 0.30833808827254394, 0.30833808827254394, 0.30833808827254394, 0.27468393978132216, 0.27468393978132216, 0.27468393978132216, 0.27468393978132216, 0.27468393978132216, 0.27468393978132216, 0.27468393978132216, 0.27468393978132216, 0.27468393978132216, 0.27468393978132216, 0.27468393978132216, 0.27468393978132216, 0.27468393978132216, 0.27468393978132216, 0.27468393978132216, 0.27468393978132216, 0.27468393978132216, 0.27468393978132216, 0.38137785277032105, 0.27468393978132216, 0.27468393978132216, 0.34995523627240277, 0.3797595904212518, 0.3777902721341687, 0.3331429463087514, 0.38804046644530715, 0.2988450873049879, 0.2988450873049809, 0.298845087304977, 0.2988450873049756, 1.2210832093906292, 0.8351779812665597, 0.7394876298813948, 0.7075393489741552, 0.7075393489741552, 0.7075393489741552, 0.7075393489741552, 0.5188235429826361, 0.5188235429826361, 0.48953178949868204, 0.48953178949868204, 0.46265807185329644, 0.46265807185329644, 0.46265807185329644, 0.46265807185329644, 0.4011501299012903, 0.4011501299012903, 0.33928777179982417, 0.33928777179982417, 0.33928777179982417, 0.33928777179982417, 0.33928777179982417, 0.33928777179982417, 0.33928777179982417, 0.33928777179982417, 0.33928777179982417, 0.7441866843905873, 0.3178676531447636, 0.3178676531447636, 0.3178676531447636, 0.8715525221837338, 0.3178676531447636, 0.3178676531447636, 0.3178676531447636, 0.3178676531447636, 0.3178676531447636, 0.3178676531447636, 0.4636116892124987, 0.45978102663075343, 0.44136716370047063, 0.36050908273921795, 0.3872542116029306, 0.8142503368449917, 0.7476013819461771, 0.6879530856360413, 0.6543130179242426, 0.4514409117220295, 0.4284801472928651, 0.3377547539045754, 0.3377547539045754, 0.3377547539045754, 0.32698336077415613, 0.32698336077415613, 0.32698336077415613, 0.32698336077415613, 0.32698336077415613, 0.32698336077415613, 0.32698336077415613, 0.32698336077415613, 0.32698336077415613, 0.32698336077415613, 0.32698336077415613, 0.32698336077415613, 0.32698336077415613, 0.32698336077415613, 0.32698336077415613, 0.32698336077415613, 0.5960380495051433, 0.28534346911746283, 0.28534346911746283, 0.28534346911746283, 0.28534346911746283, 0.28534346911746283, 0.28534346911746283, 0.32801883059233966, 0.3280119562053235, 0.4175396205844054, 0.28534346911746283, 0.33940773864149837, 0.3342176036150976], \"Total\": [1.0, 1.0, 1.0, 0.0, 0.0, 1.0, 1.0, 1.0, 0.0, 0.0, 0.0, 0.0, 1.0, 1.0, 0.0, 1.0, 1.0, 0.0, 0.0, 0.0, 0.0, 0.0, 0.0, 0.0, 0.0, 1.0, 1.0, 0.0, 0.0, 0.0, 1.2489328024656752, 1.068183276941001, 0.9391077855793308, 0.8656309762952183, 0.8656309762952183, 0.8286408212322967, 0.8286408212322967, 0.8286408212322967, 0.8286408212322967, 0.8286408212322968, 0.8286408212322967, 0.7888798340145372, 0.7888798340145372, 0.7961020522105966, 0.7961020522079413, 0.7153282213554589, 0.7153282213554589, 0.7153282213554589, 0.7153282213554589, 0.7153282213554589, 0.6875644742673148, 0.6822381172473321, 0.6729843021339914, 0.6729843021339914, 0.6729843021339914, 0.6729843021339914, 0.6729843021339914, 0.6729843021339914, 1.0402392861809633, 0.6357933565152347, 0.6357933565152347, 1.0394042785121265, 1.044186417421328, 1.0629572286374576, 0.964234871905456, 0.9475956489512294, 1.6680587449620026, 0.7623963283282051, 0.8502985011630808, 0.5874537168141661, 0.5874537168141661, 0.5874537168141661, 0.5874537168141661, 0.5874537168141661, 0.5874537168141661, 0.5874537168141661, 0.5874537168141661, 0.5874537168141661, 0.5874537168141661, 0.5874537168141661, 0.5874537168141661, 0.5874537168141661, 0.5874537168141661, 0.553791214549893, 0.553791214549893, 0.553791214549893, 0.553791214549893, 0.553791214549893, 0.553791214549893, 0.553791214549893, 0.553791214549893, 0.553791214549893, 0.553791214549893, 0.553791214549893, 0.553791214549893, 0.553791214549893, 0.553791214549893, 0.553791214549893, 0.553791214549893, 0.553791214549893, 0.553791214549893, 0.80690695888851, 0.553791214549893, 0.553791214549893, 0.8286666682873821, 0.9538672679401793, 0.9916858322997432, 0.7925002657351022, 1.383789867506589, 0.7621527915912805, 0.7621527915912807, 0.7621527915912809, 0.7621527915912809, 1.6348954100696669, 1.1213294680658763, 1.0255756539622498, 0.9935634499389758, 0.9935634499389758, 0.9935634499389758, 0.9935634499389758, 0.8049064988130235, 0.8049064988130235, 0.775606144877457, 0.775606144877457, 0.7487263349466184, 0.7487263349466184, 0.7487263349466184, 0.7487263349466184, 0.6871765596580419, 0.6871765596580419, 0.6253032886003667, 0.6253032886003667, 0.6253032886003667, 0.6253032886003667, 0.6253032886003667, 0.6253032886003667, 0.6253032886003667, 0.6253032886003667, 0.6253032886003667, 1.383789867506589, 0.6038733507481245, 0.6038733507481245, 0.6038733507481245, 1.6680587449620026, 0.6038733507481245, 0.6038733507481245, 0.6038733507481245, 0.6038733507481245, 0.6038733507481245, 0.6038733507481245, 0.9477823867030245, 0.9932318728343337, 1.0061957463031748, 0.7351146574324363, 0.9538672679401793, 1.109835657719021, 1.0432794152320959, 0.9834368164098466, 0.9499126185559845, 0.7469332982604006, 0.7239209596513625, 0.6332563034097484, 0.6332563034097484, 0.6332563034097484, 0.6224216294412548, 0.6224216294412548, 0.6224216294412548, 0.6224216294412548, 0.6224216294412548, 0.6224216294412548, 0.6224216294412548, 0.6224216294412548, 0.6224216294412548, 0.6224216294412548, 0.6224216294412548, 0.6224216294412548, 0.6224216294412548, 0.6224216294412548, 0.6224216294412548, 0.6224216294412548, 1.135358071755424, 0.5807772810359894, 0.5807772810359894, 0.5807772810359894, 0.5807772810359894, 0.5807772810359894, 0.5807772810359894, 0.6918409359692901, 0.691842612363596, 0.9916858322997432, 0.5807772810359894, 1.044186417421328, 1.0394042785121265], \"Category\": [\"Default\", \"Default\", \"Default\", \"Default\", \"Default\", \"Default\", \"Default\", \"Default\", \"Default\", \"Default\", \"Default\", \"Default\", \"Default\", \"Default\", \"Default\", \"Default\", \"Default\", \"Default\", \"Default\", \"Default\", \"Default\", \"Default\", \"Default\", \"Default\", \"Default\", \"Default\", \"Default\", \"Default\", \"Default\", \"Default\", \"Topic1\", \"Topic1\", \"Topic1\", \"Topic1\", \"Topic1\", \"Topic1\", \"Topic1\", \"Topic1\", \"Topic1\", \"Topic1\", \"Topic1\", \"Topic1\", \"Topic1\", \"Topic1\", \"Topic1\", \"Topic1\", \"Topic1\", \"Topic1\", \"Topic1\", \"Topic1\", \"Topic1\", \"Topic1\", \"Topic1\", \"Topic1\", \"Topic1\", \"Topic1\", \"Topic1\", \"Topic1\", \"Topic1\", \"Topic1\", \"Topic1\", \"Topic1\", \"Topic1\", \"Topic1\", \"Topic1\", \"Topic1\", \"Topic1\", \"Topic2\", \"Topic2\", \"Topic2\", \"Topic2\", \"Topic2\", \"Topic2\", \"Topic2\", \"Topic2\", \"Topic2\", \"Topic2\", \"Topic2\", \"Topic2\", \"Topic2\", \"Topic2\", \"Topic2\", \"Topic2\", \"Topic2\", \"Topic2\", \"Topic2\", \"Topic2\", \"Topic2\", \"Topic2\", \"Topic2\", \"Topic2\", \"Topic2\", \"Topic2\", \"Topic2\", \"Topic2\", \"Topic2\", \"Topic2\", \"Topic2\", \"Topic2\", \"Topic2\", \"Topic2\", \"Topic2\", \"Topic2\", \"Topic2\", \"Topic2\", \"Topic2\", \"Topic2\", \"Topic2\", \"Topic2\", \"Topic2\", \"Topic2\", \"Topic2\", \"Topic2\", \"Topic3\", \"Topic3\", \"Topic3\", \"Topic3\", \"Topic3\", \"Topic3\", \"Topic3\", \"Topic3\", \"Topic3\", \"Topic3\", \"Topic3\", \"Topic3\", \"Topic3\", \"Topic3\", \"Topic3\", \"Topic3\", \"Topic3\", \"Topic3\", \"Topic3\", \"Topic3\", \"Topic3\", \"Topic3\", \"Topic3\", \"Topic3\", \"Topic3\", \"Topic3\", \"Topic3\", \"Topic3\", \"Topic3\", \"Topic3\", \"Topic3\", \"Topic3\", \"Topic3\", \"Topic3\", \"Topic3\", \"Topic3\", \"Topic3\", \"Topic3\", \"Topic3\", \"Topic3\", \"Topic3\", \"Topic3\", \"Topic4\", \"Topic4\", \"Topic4\", \"Topic4\", \"Topic4\", \"Topic4\", \"Topic4\", \"Topic4\", \"Topic4\", \"Topic4\", \"Topic4\", \"Topic4\", \"Topic4\", \"Topic4\", \"Topic4\", \"Topic4\", \"Topic4\", \"Topic4\", \"Topic4\", \"Topic4\", \"Topic4\", \"Topic4\", \"Topic4\", \"Topic4\", \"Topic4\", \"Topic4\", \"Topic4\", \"Topic4\", \"Topic4\", \"Topic4\", \"Topic4\", \"Topic4\", \"Topic4\", \"Topic4\", \"Topic4\", \"Topic4\", \"Topic4\", \"Topic4\"], \"logprob\": [30.0, 29.0, 28.0, 27.0, 26.0, 25.0, 24.0, 23.0, 22.0, 21.0, 20.0, 19.0, 18.0, 17.0, 16.0, 15.0, 14.0, 13.0, 12.0, 11.0, 10.0, 9.0, 8.0, 7.0, 6.0, 5.0, 4.0, 3.0, 2.0, 1.0, -4.387, -4.5924, -4.7702, -4.8873, -4.8873, -4.9523, -4.9523, -4.9523, -4.9523, -4.9523, -4.9523, -5.0264, -5.0264, -5.0349, -5.0349, -5.1809, -5.1809, -5.1809, -5.1809, -5.1809, -5.2461, -5.2591, -5.2822, -5.2822, -5.2822, -5.2822, -5.2822, -5.2822, -4.8575, -5.3802, -5.3802, -5.0282, -5.029, -5.0231, -5.0907, -5.1211, -4.901, -4.9661, -4.9354, -5.4153, -5.4153, -5.4153, -5.4153, -5.4153, -5.4153, -5.4153, -5.4153, -5.4153, -5.4153, -5.4153, -5.4153, -5.4153, -5.4153, -5.5309, -5.5309, -5.5309, -5.5309, -5.5309, -5.5309, -5.5309, -5.5309, -5.5309, -5.5309, -5.5309, -5.5309, -5.5309, -5.5309, -5.5309, -5.5309, -5.5309, -5.5309, -5.2027, -5.5309, -5.5309, -5.2887, -5.207, -5.2122, -5.3379, -5.1854, -5.4466, -5.4466, -5.4466, -5.4466, -3.992, -4.3719, -4.4935, -4.5377, -4.5377, -4.5377, -4.5377, -4.8479, -4.8479, -4.9061, -4.9061, -4.9625, -4.9625, -4.9625, -4.9625, -5.1052, -5.1052, -5.2727, -5.2727, -5.2727, -5.2727, -5.2727, -5.2727, -5.2727, -5.2727, -5.2727, -4.4872, -5.3379, -5.3379, -5.3379, -4.3292, -5.3379, -5.3379, -5.3379, -5.3379, -5.3379, -5.3379, -4.9605, -4.9688, -5.0096, -5.212, -5.1404, -4.1761, -4.2615, -4.3447, -4.3948, -4.766, -4.8182, -5.0561, -5.0561, -5.0561, -5.0885, -5.0885, -5.0885, -5.0885, -5.0885, -5.0885, -5.0885, -5.0885, -5.0885, -5.0885, -5.0885, -5.0885, -5.0885, -5.0885, -5.0885, -5.0885, -4.4881, -5.2247, -5.2247, -5.2247, -5.2247, -5.2247, -5.2247, -5.0853, -5.0854, -4.844, -5.2247, -5.0512, -5.0666], \"loglift\": [30.0, 29.0, 28.0, 27.0, 26.0, 25.0, 24.0, 23.0, 22.0, 21.0, 20.0, 19.0, 18.0, 17.0, 16.0, 15.0, 14.0, 13.0, 12.0, 11.0, 10.0, 9.0, 8.0, 7.0, 6.0, 5.0, 4.0, 3.0, 2.0, 1.0, 0.977, 0.928, 0.879, 0.8433, 0.8433, 0.822, 0.822, 0.822, 0.822, 0.822, 0.822, 0.7971, 0.7971, 0.7794, 0.7794, 0.7404, 0.7404, 0.7404, 0.7404, 0.7404, 0.7148, 0.7096, 0.7002, 0.7002, 0.7002, 0.7002, 0.7002, 0.7002, 0.6894, 0.659, 0.659, 0.5194, 0.514, 0.5022, 0.5321, 0.519, 0.1736, 0.8915, 0.8131, 0.703, 0.703, 0.703, 0.703, 0.703, 0.703, 0.703, 0.703, 0.703, 0.703, 0.703, 0.703, 0.703, 0.703, 0.6464, 0.6464, 0.6464, 0.6464, 0.6464, 0.6464, 0.6464, 0.6464, 0.6464, 0.6464, 0.6464, 0.6464, 0.6464, 0.6464, 0.6464, 0.6464, 0.6464, 0.6464, 0.5982, 0.6464, 0.6464, 0.4856, 0.4266, 0.3825, 0.481, 0.0761, 0.4114, 0.4114, 0.4114, 0.4114, 1.1027, 1.1, 1.0675, 1.0551, 1.0551, 1.0551, 1.0551, 0.9554, 0.9554, 0.9344, 0.9344, 0.9132, 0.9132, 0.9132, 0.9132, 0.8563, 0.8563, 0.7832, 0.7832, 0.7832, 0.7832, 0.7832, 0.7832, 0.7832, 0.7832, 0.7832, 0.7743, 0.7529, 0.7529, 0.7529, 0.7454, 0.7529, 0.7529, 0.7529, 0.7529, 0.7529, 0.7529, 0.6795, 0.6244, 0.5705, 0.6821, 0.4931, 1.306, 1.2824, 1.2583, 1.2429, 1.1121, 1.0912, 0.9871, 0.9871, 0.9871, 0.972, 0.972, 0.972, 0.972, 0.972, 0.972, 0.972, 0.972, 0.972, 0.972, 0.972, 0.972, 0.972, 0.972, 0.972, 0.972, 0.9713, 0.905, 0.905, 0.905, 0.905, 0.905, 0.905, 0.8694, 0.8694, 0.7507, 0.905, 0.4919, 0.4811]}, \"token.table\": {\"Topic\": [1, 1, 1, 1, 1, 3, 4, 4, 1, 3, 1, 1, 1, 3, 3, 3, 3, 4, 3, 1, 1, 4, 1, 1, 3, 3, 3, 3, 1, 1, 1, 1, 1, 1, 1, 4], \"Freq\": [0.9407716256672353, 1.1552266813277208, 1.1552266813277208, 1.2067954828883156, 1.2067954828883158, 0.7226530728989013, 0.9010343045340968, 0.8807793989202533, 0.8006835900424542, 0.8917985556241991, 0.9361689342897597, 0.9620895552127875, 0.5994992700468589, 0.5994992700468589, 1.2423803279942158, 1.2423803279942158, 0.9750621479132818, 0.9585159885259812, 1.0064782476261778, 1.2067954828883158, 1.2067954828883158, 1.052728409398494, 1.2561203645017118, 1.256120364497522, 0.6116599226108217, 1.0064782476261778, 1.0064782476261778, 1.0064782476261778, 0.9613172789034973, 0.9576834014653738, 1.2676201835596324, 1.2676201835596324, 1.0648404957936806, 1.2067954828883158, 1.2067954828883158, 1.016842143098343], \"Term\": [\"accompany financial\", \"application environmental\", \"application environmental permit\", \"assumption subject\", \"assumption subject inherent\", \"cash flow\", \"energy service\", \"energy services\", \"environmental permit\", \"environmental rehabilitation\", \"environmental requirement\", \"financial result\", \"forward look\", \"forward look\", \"future cash\", \"future cash flow\", \"future event\", \"global dairy\", \"go concern\", \"inherent risk\", \"inherent risk uncertainty\", \"long term\", \"nature forward\", \"nature forward look\", \"nature operation\", \"nature operation go\", \"operation go\", \"operation go concern\", \"risk uncertainty\", \"service business\", \"short term\", \"short term nature\", \"social environmental\", \"subject inherent\", \"subject inherent risk\", \"total energy\"]}, \"R\": 30, \"lambda.step\": 0.01, \"plot.opts\": {\"xlab\": \"PC1\", \"ylab\": \"PC2\"}, \"topic.order\": [3, 2, 4, 1]};\n",
              "\n",
              "function LDAvis_load_lib(url, callback){\n",
              "  var s = document.createElement('script');\n",
              "  s.src = url;\n",
              "  s.async = true;\n",
              "  s.onreadystatechange = s.onload = callback;\n",
              "  s.onerror = function(){console.warn(\"failed to load library \" + url);};\n",
              "  document.getElementsByTagName(\"head\")[0].appendChild(s);\n",
              "}\n",
              "\n",
              "if(typeof(LDAvis) !== \"undefined\"){\n",
              "   // already loaded: just create the visualization\n",
              "   !function(LDAvis){\n",
              "       new LDAvis(\"#\" + \"ldavis_el571406876319814484240224428\", ldavis_el571406876319814484240224428_data);\n",
              "   }(LDAvis);\n",
              "}else if(typeof define === \"function\" && define.amd){\n",
              "   // require.js is available: use it to load d3/LDAvis\n",
              "   require.config({paths: {d3: \"https://cdnjs.cloudflare.com/ajax/libs/d3/3.5.5/d3.min\"}});\n",
              "   require([\"d3\"], function(d3){\n",
              "      window.d3 = d3;\n",
              "      LDAvis_load_lib(\"https://cdn.rawgit.com/bmabey/pyLDAvis/files/ldavis.v1.0.0.js\", function(){\n",
              "        new LDAvis(\"#\" + \"ldavis_el571406876319814484240224428\", ldavis_el571406876319814484240224428_data);\n",
              "      });\n",
              "    });\n",
              "}else{\n",
              "    // require.js not available: dynamically load d3 & LDAvis\n",
              "    LDAvis_load_lib(\"https://cdnjs.cloudflare.com/ajax/libs/d3/3.5.5/d3.min.js\", function(){\n",
              "         LDAvis_load_lib(\"https://cdn.rawgit.com/bmabey/pyLDAvis/files/ldavis.v1.0.0.js\", function(){\n",
              "                 new LDAvis(\"#\" + \"ldavis_el571406876319814484240224428\", ldavis_el571406876319814484240224428_data);\n",
              "            })\n",
              "         });\n",
              "}\n",
              "</script>"
            ],
            "text/plain": [
              "PreparedData(topic_coordinates=              x         y  topics  cluster       Freq\n",
              "topic                                                \n",
              "2     -0.064443 -0.031096       1        1  29.343870\n",
              "1      0.007766  0.028894       2        1  25.986878\n",
              "3      0.055537 -0.041009       3        1  24.793645\n",
              "0      0.001140  0.043211       4        1  19.875606, topic_info=                         Term      Freq     Total Category  logprob  loglift\n",
              "294          nature operation  1.000000  1.000000  Default  30.0000  30.0000\n",
              "137            energy service  1.000000  1.000000  Default  29.0000  29.0000\n",
              "197              global dairy  1.000000  1.000000  Default  28.0000  28.0000\n",
              "406              total energy  0.000000  0.000000  Default  27.0000  27.0000\n",
              "248                 long term  0.000000  0.000000  Default  26.0000  26.0000\n",
              "..                        ...       ...       ...      ...      ...      ...\n",
              "186  forward look information  0.328012  0.691843   Topic4  -5.0854   0.8694\n",
              "224       initial recognition  0.417540  0.991686   Topic4  -4.8440   0.7507\n",
              "378            services total  0.285343  0.580777   Topic4  -5.2247   0.9050\n",
              "375          service business  0.339408  1.044186   Topic4  -5.0512   0.4919\n",
              "181          financial result  0.334218  1.039404   Topic4  -5.0666   0.4811\n",
              "\n",
              "[193 rows x 6 columns], token_table=      Topic      Freq                              Term\n",
              "term                                                   \n",
              "6         1  0.940772               accompany financial\n",
              "21        1  1.155227         application environmental\n",
              "22        1  1.155227  application environmental permit\n",
              "35        1  1.206795                assumption subject\n",
              "36        1  1.206795       assumption subject inherent\n",
              "59        3  0.722653                         cash flow\n",
              "137       4  0.901034                    energy service\n",
              "139       4  0.880779                   energy services\n",
              "148       1  0.800684              environmental permit\n",
              "150       3  0.891799      environmental rehabilitation\n",
              "152       1  0.936169         environmental requirement\n",
              "181       1  0.962090                  financial result\n",
              "184       1  0.599499                      forward look\n",
              "184       3  0.599499                      forward look\n",
              "190       3  1.242380                       future cash\n",
              "191       3  1.242380                  future cash flow\n",
              "192       3  0.975062                      future event\n",
              "197       4  0.958516                      global dairy\n",
              "198       3  1.006478                        go concern\n",
              "218       1  1.206795                     inherent risk\n",
              "219       1  1.206795         inherent risk uncertainty\n",
              "248       4  1.052728                         long term\n",
              "286       1  1.256120                    nature forward\n",
              "287       1  1.256120               nature forward look\n",
              "294       3  0.611660                  nature operation\n",
              "296       3  1.006478               nature operation go\n",
              "320       3  1.006478                      operation go\n",
              "321       3  1.006478              operation go concern\n",
              "370       1  0.961317                  risk uncertainty\n",
              "375       1  0.957683                  service business\n",
              "381       1  1.267620                        short term\n",
              "382       1  1.267620                 short term nature\n",
              "390       1  1.064840              social environmental\n",
              "395       1  1.206795                  subject inherent\n",
              "396       1  1.206795             subject inherent risk\n",
              "406       4  1.016842                      total energy, R=30, lambda_step=0.01, plot_opts={'xlab': 'PC1', 'ylab': 'PC2'}, topic_order=[3, 2, 4, 1])"
            ]
          },
          "metadata": {
            "tags": []
          },
          "execution_count": 30
        }
      ]
    },
    {
      "cell_type": "code",
      "metadata": {
        "id": "7JaKdXceJE84",
        "outputId": "2c075fff-1379-4882-a73a-5c28b62171dc",
        "colab": {
          "base_uri": "https://localhost:8080/"
        }
      },
      "source": [
        "# Showing the words for each topic\n",
        "n_words_to_show = 8\n",
        "rating_4_words = display_topics(lda, tfidf_vectorizer.get_feature_names(), n_words_to_show)"
      ],
      "execution_count": null,
      "outputs": [
        {
          "output_type": "stream",
          "text": [
            "Topic 0:\n",
            "environmental rehabilitation, nature operation, provision environmental, rehabilitation provision, environmental rehabilitation provision, operation go, go concern, operation go concern\n",
            "\n",
            "Topic 1:\n",
            "purpose financial, initial recognition, depend nature, depend nature purpose, nature purpose, nature purpose financial, term nature, fair value\n",
            "\n",
            "Topic 2:\n",
            "global dairy, index etf, restoration rehabilitation, rehabilitation environmental, restoration rehabilitation environmental, financial position, constructive obligation ur, environmental cost\n",
            "\n",
            "Topic 3:\n",
            "forward look, environmental permit, total energy, financial result, risk uncertainty, inherent risk uncertainty, inherent risk, kei krl\n",
            "\n"
          ],
          "name": "stdout"
        }
      ]
    },
    {
      "cell_type": "markdown",
      "metadata": {
        "id": "mUKds2sq8eLT"
      },
      "source": [
        "**Comparison Summary**"
      ]
    },
    {
      "cell_type": "code",
      "metadata": {
        "id": "gbIGrNKi8hlP",
        "outputId": "35285109-8b79-454a-8e0c-9d2dcb96c02e",
        "colab": {
          "base_uri": "https://localhost:8080/"
        }
      },
      "source": [
        "summary_layout(rating_1_words, \n",
        "               rating_4_words)"
      ],
      "execution_count": null,
      "outputs": [
        {
          "output_type": "stream",
          "text": [
            "topic 0\n",
            "service business, go concern, nature operation go, operation go, operation go concern, short sea, nature operation, matter lack market\n",
            "environmental rehabilitation, nature operation, provision environmental, rehabilitation provision, environmental rehabilitation provision, operation go, go concern, operation go concern\n",
            "\n",
            "\n",
            "topic 1\n",
            "cash flow, financial instrument, environmental permit, month end, energy services, december december, cost sale, end december december\n",
            "purpose financial, initial recognition, depend nature, depend nature purpose, nature purpose, nature purpose financial, term nature, fair value\n",
            "\n",
            "\n",
            "topic 2\n",
            "forward look, fair value, risk uncertainty, nature operation, forward look require, nature forward look, subject inherent, look require assumption\n",
            "global dairy, index etf, restoration rehabilitation, rehabilitation environmental, restoration rehabilitation environmental, financial position, constructive obligation ur, environmental cost\n",
            "\n",
            "\n",
            "topic 3\n",
            "environmental rehabilitation, provision environmental, provision environmental rehabilitation, environmental requirement, sustain ongoing, sustain ongoing production, ongoing production, financial liability\n",
            "forward look, environmental permit, total energy, financial result, risk uncertainty, inherent risk uncertainty, inherent risk, kei krl\n",
            "\n",
            "\n"
          ],
          "name": "stdout"
        }
      ]
    },
    {
      "cell_type": "markdown",
      "metadata": {
        "id": "isZhqbbwFztn"
      },
      "source": [
        "Highly rated companies tend to show more concern about nature and have conversational topics about adjusting their progress to work around nature instead of over nature (trying to leave nature as it is). \n",
        "\n",
        "They also seem to talk about the environmental cost when talking about rehabilitation of the environment instead of it being a financial liability. I guess what we can deduce from this is that higher rated companies are earning more because of their evident priorities when looking at environmental issues. "
      ]
    },
    {
      "cell_type": "markdown",
      "metadata": {
        "id": "DCpdP-i0J9az"
      },
      "source": [
        "### Trying on the different years"
      ]
    },
    {
      "cell_type": "markdown",
      "metadata": {
        "id": "ZPCQ8i108HIG"
      },
      "source": [
        "**2015**"
      ]
    },
    {
      "cell_type": "code",
      "metadata": {
        "id": "JIEYhXVoJEgZ",
        "outputId": "02464bb1-6f8a-4c06-bfa8-04c541620d16",
        "colab": {
          "base_uri": "https://localhost:8080/",
          "height": 861
        }
      },
      "source": [
        "# Creating the rating's dataset\n",
        "scoped_data = filtered_data.loc[filtered_data.fileyear == 2015, :]\n",
        "\n",
        "# Training the LDA model\n",
        "tfidf_vectorizer = TfidfVectorizer(ngram_range = (1, 3),\n",
        "                                   max_df = maxdf,\n",
        "                                   min_df = mindf,\n",
        "                                   max_features = None)\n",
        "tfidf_fit = tfidf_vectorizer.fit_transform(scoped_data.text)\n",
        "lda = LatentDirichletAllocation(n_components = 5, \n",
        "                                random_state = 69)\n",
        "lda.fit(tfidf_fit)\n",
        "\n",
        "# LDA visualisation\n",
        "pyLDAvis.sklearn.prepare(lda, tfidf_fit, tfidf_vectorizer)"
      ],
      "execution_count": null,
      "outputs": [
        {
          "output_type": "execute_result",
          "data": {
            "text/html": [
              "\n",
              "<link rel=\"stylesheet\" type=\"text/css\" href=\"https://cdn.rawgit.com/bmabey/pyLDAvis/files/ldavis.v1.0.0.css\">\n",
              "\n",
              "\n",
              "<div id=\"ldavis_el99139713980949752689035505\"></div>\n",
              "<script type=\"text/javascript\">\n",
              "\n",
              "var ldavis_el99139713980949752689035505_data = {\"mdsDat\": {\"x\": [0.0065740480336639075, 0.0032772997339264288, 0.00676311133708263, -0.017626849660589586, 0.0010123905559166172], \"y\": [0.010217766721048507, 0.0026932802006304013, -0.011816149663360144, -0.0002695186943643469, -0.0008253785639544338], \"topics\": [1, 2, 3, 4, 5], \"cluster\": [1, 1, 1, 1, 1], \"Freq\": [22.80400169926578, 20.93501969659095, 20.444748368768366, 20.156266644697915, 15.65996359067699]}, \"tinfo\": {\"Term\": [\"risk uncertainty\", \"uncertainty\", \"forward look\", \"look\", \"forward\", \"require assumption subject\", \"inherent\", \"inherent risk\", \"inherent risk uncertainty\", \"look require\", \"assumption subject\", \"look require assumption\", \"forward look require\", \"require assumption\", \"assumption subject inherent\", \"require\", \"subject inherent risk\", \"subject\", \"subject inherent\", \"risk\", \"nature forward look\", \"nature forward\", \"assumption\", \"energy\", \"nexgen\", \"environmental\", \"december\", \"infrastructure\", \"deposit\", \"appropriate\", \"oil\", \"energy\", \"rimbey\", \"quarter year\", \"quarter\", \"large\", \"service\", \"financial instrument\", \"instrument\", \"contract\", \"deficit nature operation\", \"deficit nature\", \"deficit\", \"total energy\", \"group\", \"year\", \"field\", \"earn\", \"energy service\", \"sale volume\", \"volume\", \"result\", \"maintenance\", \"maintenance contract\", \"janitorial service\", \"janitorial\", \"canadian\", \"determination\", \"accordingly\", \"accordingly nature\", \"necessarily result precise\", \"precise\", \"company financial\", \"concern note\", \"go concern note\", \"company\", \"financial\", \"business\", \"note\", \"operation\", \"nature\", \"nature operation\", \"total\", \"contingency\", \"sustain\", \"production\", \"law\", \"political\", \"environmental political\", \"regulatory\", \"legal\", \"rease\", \"settlement\", \"determine initial recognition\", \"determine initial\", \"classification determine initial\", \"initial recognition depend\", \"classification determine\", \"recognition depend nature\", \"recognition depend\", \"factor\", \"note commitment contingency\", \"equity nature operation\", \"contingency note\", \"total equity nature\", \"total equity\", \"equity nature\", \"commitment contingency note\", \"note commitment\", \"concern note commitment\", \"commitment\", \"commitment contingency\", \"lude\", \"note\", \"gold\", \"change\", \"financial\", \"equity\", \"operation\", \"nature\", \"ome\", \"nature purpose\", \"nature purpose financial\", \"depend nature\", \"determine\", \"depend\", \"environmental\", \"recognition\", \"classification\", \"depend nature purpose\", \"initial recognition\", \"purpose\", \"december\", \"month\", \"month end\", \"end\", \"corporation\", \"act\", \"assess collectively\", \"collectively\", \"assess\", \"collectively base nature\", \"financial assess collectively\", \"collectively base\", \"remain\", \"remain financial\", \"remain financial assess\", \"base nature\", \"assess collectively base\", \"financial assess\", \"december december\", \"jaguar\", \"application\", \"payable\", \"energy construction industry\", \"energy construction\", \"utility\", \"utility energy\", \"utility energy construction\", \"enterprise\", \"enterprise consolidator\", \"consolidator\", \"provide\", \"service utility energy\", \"business provide service\", \"business provide\", \"provide service utility\", \"provide service\", \"enterprise consolidator business\", \"consolidator business\", \"service utility\", \"business\", \"ifrs\", \"fund\", \"equity\", \"consolidator business provide\", \"construction industry\", \"nature\", \"financial\", \"company\", \"continue\", \"cost\", \"risk uncertainty\", \"uncertainty\", \"subject inherent\", \"assumption subject inherent\", \"assumption subject\", \"require\", \"look require\", \"look require assumption\", \"inherent risk uncertainty\", \"inherent risk\", \"inherent\", \"require assumption\", \"forward look require\", \"subject inherent risk\", \"require assumption subject\", \"subject\", \"forward\", \"forward look\", \"look\", \"nature forward\", \"nature forward look\", \"risk\", \"assumption\", \"environmental\", \"tax\", \"environmental rehabilitation\", \"rehabilitation\", \"involve risk uncertainty\", \"involve risk\", \"look nature necessarily\", \"necessarily involve risk\", \"necessarily involve\", \"look nature\", \"nature necessarily involve\", \"nature necessarily\", \"nature\", \"forward look nature\", \"liability\", \"provision\", \"nexgen\", \"deposit\", \"appropriate\", \"infrastructure\", \"direct\", \"carry\", \"carry value\", \"performance achievement\", \"achievement\", \"result performance\", \"forward look information\", \"result performance achievement\", \"look information\", \"cont\", \"necessary go concern\", \"go concern cont\", \"go concern assumption\", \"necessary go\", \"concern assumption\", \"concern assumption appropriate\", \"concern cont\", \"concern cont necessary\", \"assumption appropriate\", \"cont necessary\", \"cont necessary go\", \"remove\", \"rehabilitate mine tailing\", \"remove structure rehabilitate\", \"rehabilitate mine\", \"rehabilitate\", \"restoration activity lude\", \"dismantle remove structure\", \"activity lude\", \"activity lude dismantle\", \"dismantle\", \"mine tailing\", \"mine\", \"activity\", \"tailing\", \"structure\", \"nature restoration\", \"lude dismantle\", \"structure rehabilitate mine\", \"structure rehabilitate\", \"remove structure\", \"lude dismantle remove\", \"term\", \"value\", \"hold\", \"restoration activity\", \"concern\", \"go\", \"go concern\", \"company\", \"nature\", \"nature operation\", \"mining\", \"operation\", \"energy\", \"assumption\"], \"Freq\": [0.0, 0.0, 0.0, 0.0, 0.0, 0.0, 0.0, 0.0, 0.0, 0.0, 0.0, 0.0, 0.0, 0.0, 0.0, 0.0, 0.0, 0.0, 0.0, 0.0, 0.0, 0.0, 0.0, 0.0, 0.0, 0.0, 0.0, 0.0, 0.0, 0.0, 0.10383105393241401, 0.16107665419812034, 0.09783367030499358, 0.09718345352103233, 0.09718345352103233, 0.09299681993643447, 0.11195583227181335, 0.09235875372186216, 0.09235875372186216, 0.10313489853238726, 0.08820925281617022, 0.08820925281617022, 0.08820925281617022, 0.08805823485778883, 0.08306105970899412, 0.10151534465497904, 0.080536774164755, 0.07949708621748608, 0.07882411682597422, 0.07866978242391828, 0.07866978242391828, 0.08975658366299802, 0.07207958758201448, 0.07207958758201448, 0.07207958758201448, 0.07207958758201448, 0.08006922786142985, 0.06858650234364662, 0.06858650234364662, 0.06858650234364662, 0.06858650234364662, 0.06858650234364662, 0.07710100154774198, 0.08325289378278651, 0.08325289378278651, 0.12021732597800606, 0.12709151681227154, 0.09125351573165158, 0.09112307359186972, 0.09676574775460944, 0.10988651254076126, 0.08433752141888914, 0.07963657193081806, 0.0905391315202027, 0.08675939927580983, 0.08052868530845636, 0.079797712822604, 0.07722671140794535, 0.07722671140794535, 0.07722671140794535, 0.07722671140794535, 0.08411773498079794, 0.07087607351272225, 0.07017697025574314, 0.07017697025574314, 0.07017697025574314, 0.07017697025574314, 0.07017697025574314, 0.07017697025574314, 0.07017697025574314, 0.07399293571096006, 0.06601991973644397, 0.06601991973644397, 0.06601991973644397, 0.06601991973644397, 0.06601991973644397, 0.06601991973644397, 0.06601991973644397, 0.06601991973644397, 0.06601991973644397, 0.06601991973644397, 0.06601991973644397, 0.09413838788597122, 0.09825233592269308, 0.07258599990713664, 0.07888058027787309, 0.10568826253826781, 0.07714508051878126, 0.0757488999384483, 0.07871426953722287, 0.06776538217158357, 0.06665103241898632, 0.06665103241898632, 0.06665103241898632, 0.06665103241898632, 0.06665103241898632, 0.06752909861757654, 0.06665103241898632, 0.06665103241898632, 0.06665103241898632, 0.06665103241898632, 0.06665103241898632, 0.10925895960470942, 0.09081681796971335, 0.09081681796971335, 0.10813079829813826, 0.10361275942093522, 0.07607291129801606, 0.07436426455203503, 0.07436426455203503, 0.07436426455203503, 0.07436426455203503, 0.07436426455203503, 0.07436426455203503, 0.07436426455203503, 0.07436426455203503, 0.07436426455203503, 0.07436426455203503, 0.07436426455203503, 0.07436426455203503, 0.07315901760475758, 0.07198332002068064, 0.0790315971316173, 0.0738359403775783, 0.0643344161367385, 0.0643344161367385, 0.0643344161367385, 0.0643344161367385, 0.0643344161367385, 0.0643344161367385, 0.0643344161367385, 0.0643344161367385, 0.0643344161367385, 0.0643344161367385, 0.0643344161367385, 0.0643344161367385, 0.0643344161367385, 0.0643344161367385, 0.0643344161367385, 0.0643344161367385, 0.0643344161367385, 0.08676954594576308, 0.07560690154576817, 0.07232877834527683, 0.07758944779182093, 0.0643344161367385, 0.0643344161367385, 0.10351052741218274, 0.09184354007375772, 0.08607277466394911, 0.06925961605093747, 0.07366410458957505, 0.18040581718581108, 0.18040581718581103, 0.16318285240097516, 0.16318285240097516, 0.16318285240097516, 0.16318285240097516, 0.16318285240097516, 0.16318285240097516, 0.16318285240097516, 0.16318285240097516, 0.16318285240097516, 0.16318285240097516, 0.16318285240097516, 0.16318285240097516, 0.16318285240097516, 0.16318285240097516, 0.18033742203920622, 0.18033742203920622, 0.18033742203920622, 0.15657033035869983, 0.15657033035869983, 0.1743220510064783, 0.14571247488924557, 0.12143972695283263, 0.08133667476676285, 0.08098042250823795, 0.08098042250823795, 0.07214116597597561, 0.07214116597597561, 0.07214116597597561, 0.07214116597597561, 0.07214116597597561, 0.07214116597597561, 0.07214116597597561, 0.07214116597597561, 0.1437354738011666, 0.07214116597597561, 0.08897941913218595, 0.07740443849926464, 0.07109283948279058, 0.06246784682385434, 0.06156366612367371, 0.06478982796573944, 0.05527563755012313, 0.05519070496577325, 0.05519070496577325, 0.050829987776929465, 0.050829987776929465, 0.050829987776929465, 0.050829987776929465, 0.050829987776929465, 0.050829987776929465, 0.050100510169309095, 0.050100510169309095, 0.050100510169309095, 0.050100510169309095, 0.050100510169309095, 0.050100510169309095, 0.050100510169309095, 0.050100510169309095, 0.050100510169309095, 0.050100510169309095, 0.050100510169309095, 0.050100510169309095, 0.049558241144409806, 0.049558241144409806, 0.049558241144409806, 0.049558241144409806, 0.049558241144409806, 0.049558241144409806, 0.049558241144409806, 0.049558241144409806, 0.049558241144409806, 0.049558241144409806, 0.049558241144409806, 0.049558241144409806, 0.049558241144409806, 0.049558241144409806, 0.049558241144409806, 0.049558241144409806, 0.049558241144409806, 0.049558241144409806, 0.049558241144409806, 0.049558241144409806, 0.049558241144409806, 0.05763607006209873, 0.06578765684625573, 0.05763774043503836, 0.049558241144409806, 0.06494269388573545, 0.06494269388573545, 0.06494269388573545, 0.0669736014332963, 0.06733773386058464, 0.058179592107338786, 0.052800004986039206, 0.05360159652908762, 0.05338282339224882, 0.05089657740473904], \"Total\": [0.0, 0.0, 0.0, 0.0, 0.0, 0.0, 0.0, 0.0, 0.0, 0.0, 0.0, 0.0, 0.0, 0.0, 0.0, 0.0, 0.0, 0.0, 0.0, 0.0, 0.0, 0.0, 0.0, 0.0, 0.0, 0.0, 0.0, 0.0, 0.0, 0.0, 0.22248766135479484, 0.35585348948938583, 0.21649183278081166, 0.21584208535948418, 0.21584208535948418, 0.21165332086051497, 0.2554156624420997, 0.21101698023437704, 0.21101698023437704, 0.23602558671461377, 0.20687066255200615, 0.20687066255200615, 0.20687066255200615, 0.20671601343891652, 0.20171666253484907, 0.24889127261244814, 0.1991925628070849, 0.19815386496035559, 0.1974819361152898, 0.1973269554419737, 0.1973269554419737, 0.23023333833228826, 0.1907370123352978, 0.1907370123352978, 0.1907370123352978, 0.1907370123352978, 0.2155196409595665, 0.18724656622170455, 0.18724656622170455, 0.18724656622170455, 0.18724656622170455, 0.18724656622170455, 0.21256055768458687, 0.23291657997474458, 0.23291657997474458, 0.38768252096275324, 0.42025136575571725, 0.2772768990737249, 0.2884178697397319, 0.3401585917346197, 0.5031845171519181, 0.30594582706894835, 0.25979003643591, 0.2114435777143545, 0.20766203396208907, 0.20143211984998194, 0.20070116569022683, 0.19813053540063605, 0.19813053540063605, 0.19813053540063605, 0.19813053540063605, 0.22556372610297062, 0.1917788957330334, 0.19108401139489817, 0.19108401139489817, 0.19108401139489817, 0.19108401139489817, 0.19108401139489817, 0.19108401139489817, 0.19108401139489817, 0.2057885972647112, 0.18692687566037253, 0.18692687566037253, 0.18692687566037253, 0.18692687566037253, 0.18692687566037253, 0.18692687566037253, 0.18692687566037253, 0.18692687566037253, 0.18692687566037253, 0.18692687566037253, 0.18692687566037253, 0.26723964485720814, 0.2884178697397319, 0.21067129150000183, 0.24598247041696947, 0.42025136575571725, 0.2617623837769246, 0.3401585917346197, 0.5031845171519181, 0.24524904389809066, 0.21857494669497504, 0.21857494669497504, 0.21857494669497504, 0.21857494669497504, 0.21857494669497504, 0.30007871252304474, 0.21857494669497504, 0.21857494669497504, 0.21857494669497504, 0.21857494669497504, 0.21857494669497504, 0.2528037151727161, 0.21244709592777314, 0.21244709592777314, 0.2609717552635319, 0.26881253388924, 0.19770141804493888, 0.19599693421913073, 0.19599693421913073, 0.19599693421913073, 0.19599693421913073, 0.19599693421913073, 0.19599693421913073, 0.19599693421913073, 0.19599693421913073, 0.19599693421913073, 0.19599693421913073, 0.19599693421913073, 0.19599693421913073, 0.19478896246563798, 0.1936110697828355, 0.22527193763690265, 0.21193295541812124, 0.1859658118169668, 0.1859658118169668, 0.1859658118169668, 0.1859658118169668, 0.1859658118169668, 0.1859658118169668, 0.1859658118169668, 0.1859658118169668, 0.1859658118169668, 0.1859658118169668, 0.1859658118169668, 0.1859658118169668, 0.1859658118169668, 0.1859658118169668, 0.1859658118169668, 0.1859658118169668, 0.1859658118169668, 0.2772768990737249, 0.2324278090631339, 0.22357974493415536, 0.2617623837769246, 0.1859658118169668, 0.1859658118169668, 0.5031845171519181, 0.42025136575571725, 0.38768252096275324, 0.22728302885639054, 0.2788844669678342, 0.31134845562046976, 0.31134845562046976, 0.28517778319693293, 0.28517778319693293, 0.28517778319693293, 0.28517778319693293, 0.28517778319693293, 0.28517778319693293, 0.28517778319693293, 0.28517778319693293, 0.28517778319693293, 0.28517778319693293, 0.28517778319693293, 0.28517778319693293, 0.28517778319693293, 0.28517778319693293, 0.3206045390178579, 0.3206045390178579, 0.3206045390178579, 0.28803366162036687, 0.28803366162036687, 0.34451517702195095, 0.3068457157956352, 0.30007871252304474, 0.20333374452336972, 0.20297745688851795, 0.20297745688851795, 0.19414049164643143, 0.19414049164643143, 0.19414049164643143, 0.19414049164643143, 0.19414049164643143, 0.19414049164643143, 0.19414049164643143, 0.19414049164643143, 0.5031845171519181, 0.19414049164643143, 0.26438220586936645, 0.21580151829942454, 0.1989268624018853, 0.19030146700122774, 0.18939814579051778, 0.20778128581349808, 0.1831082990787266, 0.1830237502705592, 0.1830237502705592, 0.1786638410345166, 0.1786638410345166, 0.1786638410345166, 0.1786638410345166, 0.1786638410345166, 0.1786638410345166, 0.1779378992603904, 0.1779378992603904, 0.1779378992603904, 0.1779378992603904, 0.1779378992603904, 0.1779378992603904, 0.1779378992603904, 0.1779378992603904, 0.1779378992603904, 0.1779378992603904, 0.1779378992603904, 0.1779378992603904, 0.1773945402617717, 0.1773945402617717, 0.1773945402617717, 0.1773945402617717, 0.1773945402617717, 0.1773945402617717, 0.1773945402617717, 0.1773945402617717, 0.1773945402617717, 0.1773945402617717, 0.1773945402617717, 0.1773945402617717, 0.1773945402617717, 0.1773945402617717, 0.1773945402617717, 0.1773945402617717, 0.1773945402617717, 0.1773945402617717, 0.1773945402617717, 0.1773945402617717, 0.1773945402617717, 0.21544248877587027, 0.25805263032663095, 0.2170813062202707, 0.1773945402617717, 0.29331925391037494, 0.29331925391037494, 0.29331925391037494, 0.38768252096275324, 0.5031845171519181, 0.30594582706894835, 0.23333529670883962, 0.3401585917346197, 0.35585348948938583, 0.3068457157956352], \"Category\": [\"Default\", \"Default\", \"Default\", \"Default\", \"Default\", \"Default\", \"Default\", \"Default\", \"Default\", \"Default\", \"Default\", \"Default\", \"Default\", \"Default\", \"Default\", \"Default\", \"Default\", \"Default\", \"Default\", \"Default\", \"Default\", \"Default\", \"Default\", \"Default\", \"Default\", \"Default\", \"Default\", \"Default\", \"Default\", \"Default\", \"Topic1\", \"Topic1\", \"Topic1\", \"Topic1\", \"Topic1\", \"Topic1\", \"Topic1\", \"Topic1\", \"Topic1\", \"Topic1\", \"Topic1\", \"Topic1\", \"Topic1\", \"Topic1\", \"Topic1\", \"Topic1\", \"Topic1\", \"Topic1\", \"Topic1\", \"Topic1\", \"Topic1\", \"Topic1\", \"Topic1\", \"Topic1\", \"Topic1\", \"Topic1\", \"Topic1\", \"Topic1\", \"Topic1\", \"Topic1\", \"Topic1\", \"Topic1\", \"Topic1\", \"Topic1\", \"Topic1\", \"Topic1\", \"Topic1\", \"Topic1\", \"Topic1\", \"Topic1\", \"Topic1\", \"Topic1\", \"Topic1\", \"Topic2\", \"Topic2\", \"Topic2\", \"Topic2\", \"Topic2\", \"Topic2\", \"Topic2\", \"Topic2\", \"Topic2\", \"Topic2\", \"Topic2\", \"Topic2\", \"Topic2\", \"Topic2\", \"Topic2\", \"Topic2\", \"Topic2\", \"Topic2\", \"Topic2\", \"Topic2\", \"Topic2\", \"Topic2\", \"Topic2\", \"Topic2\", \"Topic2\", \"Topic2\", \"Topic2\", \"Topic2\", \"Topic2\", \"Topic2\", \"Topic2\", \"Topic2\", \"Topic2\", \"Topic2\", \"Topic2\", \"Topic2\", \"Topic2\", \"Topic2\", \"Topic2\", \"Topic2\", \"Topic2\", \"Topic2\", \"Topic2\", \"Topic2\", \"Topic2\", \"Topic2\", \"Topic2\", \"Topic2\", \"Topic2\", \"Topic3\", \"Topic3\", \"Topic3\", \"Topic3\", \"Topic3\", \"Topic3\", \"Topic3\", \"Topic3\", \"Topic3\", \"Topic3\", \"Topic3\", \"Topic3\", \"Topic3\", \"Topic3\", \"Topic3\", \"Topic3\", \"Topic3\", \"Topic3\", \"Topic3\", \"Topic3\", \"Topic3\", \"Topic3\", \"Topic3\", \"Topic3\", \"Topic3\", \"Topic3\", \"Topic3\", \"Topic3\", \"Topic3\", \"Topic3\", \"Topic3\", \"Topic3\", \"Topic3\", \"Topic3\", \"Topic3\", \"Topic3\", \"Topic3\", \"Topic3\", \"Topic3\", \"Topic3\", \"Topic3\", \"Topic3\", \"Topic3\", \"Topic3\", \"Topic3\", \"Topic3\", \"Topic3\", \"Topic3\", \"Topic3\", \"Topic3\", \"Topic4\", \"Topic4\", \"Topic4\", \"Topic4\", \"Topic4\", \"Topic4\", \"Topic4\", \"Topic4\", \"Topic4\", \"Topic4\", \"Topic4\", \"Topic4\", \"Topic4\", \"Topic4\", \"Topic4\", \"Topic4\", \"Topic4\", \"Topic4\", \"Topic4\", \"Topic4\", \"Topic4\", \"Topic4\", \"Topic4\", \"Topic4\", \"Topic4\", \"Topic4\", \"Topic4\", \"Topic4\", \"Topic4\", \"Topic4\", \"Topic4\", \"Topic4\", \"Topic4\", \"Topic4\", \"Topic4\", \"Topic4\", \"Topic4\", \"Topic4\", \"Topic4\", \"Topic5\", \"Topic5\", \"Topic5\", \"Topic5\", \"Topic5\", \"Topic5\", \"Topic5\", \"Topic5\", \"Topic5\", \"Topic5\", \"Topic5\", \"Topic5\", \"Topic5\", \"Topic5\", \"Topic5\", \"Topic5\", \"Topic5\", \"Topic5\", \"Topic5\", \"Topic5\", \"Topic5\", \"Topic5\", \"Topic5\", \"Topic5\", \"Topic5\", \"Topic5\", \"Topic5\", \"Topic5\", \"Topic5\", \"Topic5\", \"Topic5\", \"Topic5\", \"Topic5\", \"Topic5\", \"Topic5\", \"Topic5\", \"Topic5\", \"Topic5\", \"Topic5\", \"Topic5\", \"Topic5\", \"Topic5\", \"Topic5\", \"Topic5\", \"Topic5\", \"Topic5\", \"Topic5\", \"Topic5\", \"Topic5\", \"Topic5\", \"Topic5\", \"Topic5\", \"Topic5\", \"Topic5\", \"Topic5\", \"Topic5\", \"Topic5\", \"Topic5\", \"Topic5\", \"Topic5\"], \"logprob\": [30.0, 29.0, 28.0, 27.0, 26.0, 25.0, 24.0, 23.0, 22.0, 21.0, 20.0, 19.0, 18.0, 17.0, 16.0, 15.0, 14.0, 13.0, 12.0, 11.0, 10.0, 9.0, 8.0, 7.0, 6.0, 5.0, 4.0, 3.0, 2.0, 1.0, -6.6962, -6.257, -6.7557, -6.7623, -6.7623, -6.8064, -6.6208, -6.8132, -6.8132, -6.7029, -6.8592, -6.8592, -6.8592, -6.8609, -6.9193, -6.7187, -6.9502, -6.9632, -6.9717, -6.9737, -6.9737, -6.8418, -7.0611, -7.0611, -7.0611, -7.0611, -6.956, -7.1108, -7.1108, -7.1108, -7.1108, -7.1108, -6.9938, -6.917, -6.917, -6.5496, -6.494, -6.8253, -6.8267, -6.7666, -6.6395, -6.9041, -6.9614, -6.7476, -6.7903, -6.8648, -6.8739, -6.9067, -6.9067, -6.9067, -6.9067, -6.8212, -6.9925, -7.0024, -7.0024, -7.0024, -7.0024, -7.0024, -7.0024, -7.0024, -6.9494, -7.0635, -7.0635, -7.0635, -7.0635, -7.0635, -7.0635, -7.0635, -7.0635, -7.0635, -7.0635, -7.0635, -6.7086, -6.6659, -6.9686, -6.8855, -6.5929, -6.9077, -6.926, -6.8876, -7.0374, -7.0539, -7.0539, -7.0539, -7.0539, -7.0539, -7.0408, -7.0539, -7.0539, -7.0539, -7.0539, -7.0539, -6.536, -6.7209, -6.7209, -6.5464, -6.589, -6.898, -6.9207, -6.9207, -6.9207, -6.9207, -6.9207, -6.9207, -6.9207, -6.9207, -6.9207, -6.9207, -6.9207, -6.9207, -6.9371, -6.9533, -6.8599, -6.9279, -7.0656, -7.0656, -7.0656, -7.0656, -7.0656, -7.0656, -7.0656, -7.0656, -7.0656, -7.0656, -7.0656, -7.0656, -7.0656, -7.0656, -7.0656, -7.0656, -7.0656, -6.7665, -6.9042, -6.9485, -6.8783, -7.0656, -7.0656, -6.59, -6.7096, -6.7745, -6.9918, -6.9302, -6.0203, -6.0203, -6.1206, -6.1206, -6.1206, -6.1206, -6.1206, -6.1206, -6.1206, -6.1206, -6.1206, -6.1206, -6.1206, -6.1206, -6.1206, -6.1206, -6.0207, -6.0207, -6.0207, -6.162, -6.162, -6.0546, -6.2339, -6.4161, -6.8169, -6.8213, -6.8213, -6.9369, -6.9369, -6.9369, -6.9369, -6.9369, -6.9369, -6.9369, -6.9369, -6.2475, -6.9369, -6.7271, -6.8665, -6.6991, -6.8284, -6.843, -6.7919, -6.9508, -6.9523, -6.9523, -7.0346, -7.0346, -7.0346, -7.0346, -7.0346, -7.0346, -7.0491, -7.0491, -7.0491, -7.0491, -7.0491, -7.0491, -7.0491, -7.0491, -7.0491, -7.0491, -7.0491, -7.0491, -7.0599, -7.0599, -7.0599, -7.0599, -7.0599, -7.0599, -7.0599, -7.0599, -7.0599, -7.0599, -7.0599, -7.0599, -7.0599, -7.0599, -7.0599, -7.0599, -7.0599, -7.0599, -7.0599, -7.0599, -7.0599, -6.9089, -6.7767, -6.9089, -7.0599, -6.7896, -6.7896, -6.7896, -6.7588, -6.7534, -6.8996, -6.9966, -6.9815, -6.9856, -7.0333], \"loglift\": [30.0, 29.0, 28.0, 27.0, 26.0, 25.0, 24.0, 23.0, 22.0, 21.0, 20.0, 19.0, 18.0, 17.0, 16.0, 15.0, 14.0, 13.0, 12.0, 11.0, 10.0, 9.0, 8.0, 7.0, 6.0, 5.0, 4.0, 3.0, 2.0, 1.0, 0.7161, 0.6856, 0.684, 0.6803, 0.6803, 0.6558, 0.6534, 0.652, 0.652, 0.6503, 0.6259, 0.6259, 0.6259, 0.6249, 0.5909, 0.5814, 0.5727, 0.5649, 0.5598, 0.5586, 0.5586, 0.5362, 0.5051, 0.5051, 0.5051, 0.5051, 0.4881, 0.4739, 0.4739, 0.4739, 0.4739, 0.4739, 0.4641, 0.4494, 0.4494, 0.3073, 0.2823, 0.3669, 0.326, 0.2211, -0.0433, 0.1897, 0.2958, 0.7156, 0.691, 0.6469, 0.6414, 0.6216, 0.6216, 0.6216, 0.6216, 0.5774, 0.5683, 0.5621, 0.5621, 0.5621, 0.5621, 0.5621, 0.5621, 0.5621, 0.5409, 0.523, 0.523, 0.523, 0.523, 0.523, 0.523, 0.523, 0.523, 0.523, 0.523, 0.523, 0.5204, 0.4869, 0.4982, 0.4264, 0.1834, 0.342, 0.0618, -0.2914, 0.2775, 0.3761, 0.3761, 0.3761, 0.3761, 0.3761, 0.0723, 0.3761, 0.3761, 0.3761, 0.3761, 0.3761, 0.7486, 0.7376, 0.7376, 0.7064, 0.6341, 0.6324, 0.6183, 0.6183, 0.6183, 0.6183, 0.6183, 0.6183, 0.6183, 0.6183, 0.6183, 0.6183, 0.6183, 0.6183, 0.6082, 0.598, 0.54, 0.533, 0.526, 0.526, 0.526, 0.526, 0.526, 0.526, 0.526, 0.526, 0.526, 0.526, 0.526, 0.526, 0.526, 0.526, 0.526, 0.526, 0.526, 0.4257, 0.4644, 0.4589, 0.3714, 0.526, 0.526, 0.0062, 0.0667, 0.0825, 0.3991, 0.2562, 1.056, 1.056, 1.0434, 1.0434, 1.0434, 1.0434, 1.0434, 1.0434, 1.0434, 1.0434, 1.0434, 1.0434, 1.0434, 1.0434, 1.0434, 1.0434, 1.0263, 1.0263, 1.0263, 0.9921, 0.9921, 0.9204, 0.8569, 0.697, 0.6854, 0.6828, 0.6828, 0.6117, 0.6117, 0.6117, 0.6117, 0.6117, 0.6117, 0.6117, 0.6117, 0.3487, 0.6117, 0.5127, 0.5763, 0.8251, 0.7401, 0.7303, 0.6887, 0.6563, 0.6552, 0.6552, 0.597, 0.597, 0.597, 0.597, 0.597, 0.597, 0.5867, 0.5867, 0.5867, 0.5867, 0.5867, 0.5867, 0.5867, 0.5867, 0.5867, 0.5867, 0.5867, 0.5867, 0.5788, 0.5788, 0.5788, 0.5788, 0.5788, 0.5788, 0.5788, 0.5788, 0.5788, 0.5788, 0.5788, 0.5788, 0.5788, 0.5788, 0.5788, 0.5788, 0.5788, 0.5788, 0.5788, 0.5788, 0.5788, 0.5355, 0.4873, 0.528, 0.5788, 0.3463, 0.3463, 0.3463, 0.0982, -0.1572, 0.1942, 0.3681, 0.0062, -0.043, 0.0575]}, \"token.table\": {\"Topic\": [], \"Freq\": [], \"Term\": []}, \"R\": 30, \"lambda.step\": 0.01, \"plot.opts\": {\"xlab\": \"PC1\", \"ylab\": \"PC2\"}, \"topic.order\": [2, 5, 1, 3, 4]};\n",
              "\n",
              "function LDAvis_load_lib(url, callback){\n",
              "  var s = document.createElement('script');\n",
              "  s.src = url;\n",
              "  s.async = true;\n",
              "  s.onreadystatechange = s.onload = callback;\n",
              "  s.onerror = function(){console.warn(\"failed to load library \" + url);};\n",
              "  document.getElementsByTagName(\"head\")[0].appendChild(s);\n",
              "}\n",
              "\n",
              "if(typeof(LDAvis) !== \"undefined\"){\n",
              "   // already loaded: just create the visualization\n",
              "   !function(LDAvis){\n",
              "       new LDAvis(\"#\" + \"ldavis_el99139713980949752689035505\", ldavis_el99139713980949752689035505_data);\n",
              "   }(LDAvis);\n",
              "}else if(typeof define === \"function\" && define.amd){\n",
              "   // require.js is available: use it to load d3/LDAvis\n",
              "   require.config({paths: {d3: \"https://cdnjs.cloudflare.com/ajax/libs/d3/3.5.5/d3.min\"}});\n",
              "   require([\"d3\"], function(d3){\n",
              "      window.d3 = d3;\n",
              "      LDAvis_load_lib(\"https://cdn.rawgit.com/bmabey/pyLDAvis/files/ldavis.v1.0.0.js\", function(){\n",
              "        new LDAvis(\"#\" + \"ldavis_el99139713980949752689035505\", ldavis_el99139713980949752689035505_data);\n",
              "      });\n",
              "    });\n",
              "}else{\n",
              "    // require.js not available: dynamically load d3 & LDAvis\n",
              "    LDAvis_load_lib(\"https://cdnjs.cloudflare.com/ajax/libs/d3/3.5.5/d3.min.js\", function(){\n",
              "         LDAvis_load_lib(\"https://cdn.rawgit.com/bmabey/pyLDAvis/files/ldavis.v1.0.0.js\", function(){\n",
              "                 new LDAvis(\"#\" + \"ldavis_el99139713980949752689035505\", ldavis_el99139713980949752689035505_data);\n",
              "            })\n",
              "         });\n",
              "}\n",
              "</script>"
            ],
            "text/plain": [
              "PreparedData(topic_coordinates=              x         y  topics  cluster       Freq\n",
              "topic                                                \n",
              "1      0.006574  0.010218       1        1  22.804002\n",
              "4      0.003277  0.002693       2        1  20.935020\n",
              "0      0.006763 -0.011816       3        1  20.444748\n",
              "2     -0.017627 -0.000270       4        1  20.156267\n",
              "3      0.001012 -0.000825       5        1  15.659964, topic_info=                  Term      Freq     Total Category  logprob  loglift\n",
              "1742  risk uncertainty  0.000000  0.000000  Default  30.0000  30.0000\n",
              "1972       uncertainty  0.000000  0.000000  Default  29.0000  29.0000\n",
              "859       forward look  0.000000  0.000000  Default  28.0000  28.0000\n",
              "1170              look  0.000000  0.000000  Default  27.0000  27.0000\n",
              "858            forward  0.000000  0.000000  Default  26.0000  26.0000\n",
              "...                ...       ...       ...      ...      ...      ...\n",
              "1294  nature operation  0.058180  0.305946   Topic5  -6.8996   0.1942\n",
              "1250            mining  0.052800  0.233335   Topic5  -6.9966   0.3681\n",
              "1393         operation  0.053602  0.340159   Topic5  -6.9815   0.0062\n",
              "677             energy  0.053383  0.355853   Topic5  -6.9856  -0.0430\n",
              "141         assumption  0.050897  0.306846   Topic5  -7.0333   0.0575\n",
              "\n",
              "[271 rows x 6 columns], token_table=Empty DataFrame\n",
              "Columns: [Topic, Freq, Term]\n",
              "Index: [], R=30, lambda_step=0.01, plot_opts={'xlab': 'PC1', 'ylab': 'PC2'}, topic_order=[2, 5, 1, 3, 4])"
            ]
          },
          "metadata": {
            "tags": []
          },
          "execution_count": 40
        }
      ]
    },
    {
      "cell_type": "code",
      "metadata": {
        "id": "iKG0DFgc7PWn",
        "outputId": "a53e0265-2fad-441d-c6d9-9d1c57dceb22",
        "colab": {
          "base_uri": "https://localhost:8080/"
        }
      },
      "source": [
        "# Showing the words for each topic\n",
        "n_words_to_show = 8\n",
        "year2015 = display_topics(lda, tfidf_vectorizer.get_feature_names(), n_words_to_show)"
      ],
      "execution_count": null,
      "outputs": [
        {
          "output_type": "stream",
          "text": [
            "Topic 0:\n",
            "december, end, corporation, nature, financial, month, month end, business\n",
            "\n",
            "Topic 1:\n",
            "energy, financial, company, service, nature, oil, contract, year\n",
            "\n",
            "Topic 2:\n",
            "risk uncertainty, uncertainty, look, forward, forward look, risk, subject inherent risk, look require assumption\n",
            "\n",
            "Topic 3:\n",
            "nexgen, nature, company, value, go, concern, go concern, infrastructure\n",
            "\n",
            "Topic 4:\n",
            "financial, note, lude, contingency, sustain, rease, production, law\n",
            "\n"
          ],
          "name": "stdout"
        }
      ]
    },
    {
      "cell_type": "markdown",
      "metadata": {
        "id": "pXCAHkPc8MfS"
      },
      "source": [
        "**2016**"
      ]
    },
    {
      "cell_type": "code",
      "metadata": {
        "id": "VjjXgkWH8Nqe",
        "outputId": "3db9b5a9-ad9a-4898-be34-96b57bd2b1d7",
        "colab": {
          "base_uri": "https://localhost:8080/",
          "height": 861
        }
      },
      "source": [
        "# Creating the rating's dataset\n",
        "scoped_data = filtered_data.loc[filtered_data.fileyear == 2016, :]\n",
        "\n",
        "# Training the LDA model\n",
        "tfidf_vectorizer = TfidfVectorizer(ngram_range = (1, 3),\n",
        "                                   max_df = maxdf,\n",
        "                                   min_df = mindf,\n",
        "                                   max_features = None)\n",
        "tfidf_fit = tfidf_vectorizer.fit_transform(scoped_data.text)\n",
        "lda = LatentDirichletAllocation(n_components = 5, \n",
        "                                random_state = 69)\n",
        "lda.fit(tfidf_fit)\n",
        "\n",
        "# LDA visualisation\n",
        "pyLDAvis.sklearn.prepare(lda, tfidf_fit, tfidf_vectorizer)"
      ],
      "execution_count": null,
      "outputs": [
        {
          "output_type": "execute_result",
          "data": {
            "text/html": [
              "\n",
              "<link rel=\"stylesheet\" type=\"text/css\" href=\"https://cdn.rawgit.com/bmabey/pyLDAvis/files/ldavis.v1.0.0.css\">\n",
              "\n",
              "\n",
              "<div id=\"ldavis_el991397139809521523477592162\"></div>\n",
              "<script type=\"text/javascript\">\n",
              "\n",
              "var ldavis_el991397139809521523477592162_data = {\"mdsDat\": {\"x\": [-0.004444303940651131, 0.014996056752572623, -0.010328186442265604, -0.0005798978642694153, 0.0003563314946135136], \"y\": [0.013696276972868262, -0.0027746804606814525, -0.009941491913712899, -0.00016165218203686532, -0.0008184524164370432], \"topics\": [1, 2, 3, 4, 5], \"cluster\": [1, 1, 1, 1, 1], \"Freq\": [27.5502136036849, 24.054132200642655, 20.084982803653574, 14.959979963324482, 13.35069142869439]}, \"tinfo\": {\"Term\": [\"rehabilitation\", \"energy\", \"provision environmental\", \"rimbey\", \"december\", \"reclamation\", \"require assumption subject\", \"assumption subject inherent\", \"subject inherent risk\", \"subject inherent\", \"assumption subject\", \"require assumption\", \"forward look require\", \"look require assumption\", \"look require\", \"month\", \"environmental\", \"legal\", \"expenditure\", \"lude\", \"rehabilitation finance liability\", \"finance\", \"rehabilitation finance\", \"finance liability\", \"environmental rehabilitation finance\", \"provision environmental rehabilitation\", \"assumption\", \"reclamation expenditure\", \"charge provision environmental\", \"charge provision\", \"requirement\", \"trevali\", \"customer\", \"licence\", \"business\", \"mining\", \"segment\", \"concession\", \"program\", \"entity\", \"regulation\", \"operation\", \"instrument\", \"nature financial instrument\", \"financial instrument\", \"direct\", \"licensing requirement\", \"licensing\", \"primarily\", \"involve\", \"recreation business lawsuit\", \"recreation\", \"sport\", \"lawsuit involve\", \"lawsuit involve company\", \"nature sport recreation\", \"company pende\", \"recreation business\", \"lawsuit\", \"sport recreation business\", \"business lawsuit involve\", \"nature sport\", \"sport recreation\", \"business lawsuit\", \"pende\", \"company\", \"nature\", \"involve company\", \"canada\", \"involve company pende\", \"loss\", \"intend\", \"value\", \"cost\", \"corporation\", \"base\", \"environmental\", \"subject\", \"look require assumption\", \"forward look require\", \"require assumption subject\", \"require assumption\", \"assumption subject\", \"assumption subject inherent\", \"look require\", \"subject inherent\", \"subject inherent risk\", \"assumption\", \"inherent\", \"inherent risk uncertainty\", \"inherent risk\", \"nature forward\", \"nature forward look\", \"require\", \"subject\", \"risk uncertainty\", \"risk\", \"uncertainty\", \"application\", \"software\", \"financial assess\", \"collectively base\", \"base nature\", \"collectively\", \"collectively base nature\", \"remain\", \"assess collectively\", \"financial assess collectively\", \"assess collectively base\", \"remain financial assess\", \"remain financial\", \"assess\", \"initial\", \"nature\", \"forward\", \"forward look\", \"look\", \"financial\", \"ifrs\", \"production\", \"company\", \"december\", \"month\", \"end\", \"services\", \"energy services\", \"financial position\", \"month end\", \"energy\", \"audit\", \"accompany financial\", \"audit accompany financial\", \"audit accompany\", \"accompany\", \"condition lude word\", \"lude word expect\", \"future event condition\", \"word expect\", \"nature depend refer\", \"depend refer future\", \"predictive nature depend\", \"future event\", \"lude predictive\", \"lude predictive nature\", \"look lude predictive\", \"look lude\", \"predictive\", \"nature depend\", \"lude word\", \"refer\", \"refer future\", \"condition lude\", \"event condition lude\", \"forward look lude\", \"event\", \"depend refer\", \"event condition\", \"predictive nature\", \"refer future event\", \"lude\", \"expect\", \"financial\", \"future\", \"forward look\", \"forward\", \"look\", \"position\", \"reclamation\", \"expenditure charge provision\", \"reclamation expenditure\", \"charge provision\", \"charge provision environmental\", \"expenditure charge\", \"reclamation expenditure charge\", \"cause\", \"expenditure\", \"audits express\", \"audits\", \"report outline nature\", \"report outline\", \"express\", \"express opinion\", \"express opinion financial\", \"audits express opinion\", \"outline nature\", \"opinion financial\", \"opinion\", \"outline nature audits\", \"nature audits express\", \"outline\", \"nature audits\", \"item\", \"provision environmental\", \"charge\", \"decommissioning reclamation\", \"cost generally occur\", \"cost generally\", \"exploration evaluation development\", \"reclamation cost generally\", \"development ongoing production\", \"generally occur environmental\", \"evaluation development ongoing\", \"exploration evaluation\", \"occur environmental\", \"disturbance cause\", \"report\", \"evaluation development\", \"reclamation cost\", \"reduction\", \"credit\", \"provision\", \"environmental\", \"nature\", \"rehabilitation\", \"rimbey\", \"finance\", \"provision environmental rehabilitation\", \"environmental rehabilitation finance\", \"finance liability\", \"rehabilitation finance liability\", \"rehabilitation finance\", \"legal\", \"environmental rehabilitation\", \"rehabilitation environmental\", \"ur restoration rehabilitation\", \"ur restoration\", \"obligation ur\", \"obligation ur restoration\", \"legal constructive obligation\", \"rehabilitation environmental cost\", \"constructive\", \"constructive obligation\", \"constructive obligation ur\", \"restoration rehabilitation environmental\", \"restoration rehabilitation\", \"restoration\", \"legal constructive\", \"environmental cost\", \"purpose financial determine\", \"time initial\", \"financial determine time\", \"determine time\", \"financial determine\", \"determine time initial\", \"classification depend\", \"classification depend nature\", \"time\", \"time initial recognition\", \"environmental\", \"provision environmental\", \"liability\", \"energy\", \"provision\", \"nature\"], \"Freq\": [0.0, 0.0, 0.0, 0.0, 0.0, 0.0, 0.0, 0.0, 0.0, 0.0, 0.0, 0.0, 0.0, 0.0, 0.0, 0.0, 0.0, 0.0, 0.0, 0.0, 0.0, 0.0, 0.0, 0.0, 0.0, 0.0, 0.0, 0.0, 0.0, 0.0, 0.11905198972676102, 0.10806332760534898, 0.10506637195711285, 0.10356428333110322, 0.12098559388722482, 0.10736627172777241, 0.09794513042758148, 0.096248939914095, 0.0917772428626834, 0.0884385077958036, 0.09457937332705246, 0.09436227201293425, 0.08760781659840561, 0.08760781659840561, 0.08760781659840561, 0.08661155018169171, 0.08618472999012437, 0.08618472999012437, 0.08520268844168105, 0.09743974878532251, 0.08403182397619748, 0.08403182397619748, 0.08403182397619748, 0.08403182397619748, 0.08403182397619748, 0.08403182397619748, 0.08403182397619748, 0.08403182397619748, 0.08403182397619748, 0.08403182397619748, 0.08403182397619748, 0.08403182397619748, 0.08403182397619748, 0.08403182397619748, 0.08403182397619748, 0.12682160326205763, 0.15076381723317633, 0.08403182397619748, 0.0886356164100332, 0.08403182397619748, 0.08788981636108965, 0.09205133070557928, 0.09595613695030632, 0.09616247066160676, 0.09187611948903318, 0.0917265162338814, 0.0906972330971645, 0.08569430563392845, 0.15354608844831083, 0.15354608844831083, 0.15354608844831083, 0.15354608844831083, 0.15354608844831083, 0.15354608844831083, 0.15354608844831083, 0.15354608844831083, 0.15354608844831083, 0.15645794783708122, 0.14637940414584868, 0.14637940414584868, 0.14637940414584868, 0.14637940414584868, 0.14637940414584868, 0.14635825991164897, 0.1557526921507473, 0.14052792733505323, 0.14975124933102174, 0.13534577196372327, 0.09339743343493258, 0.08733079850590202, 0.08388956347262432, 0.08388956347262432, 0.08388956347262432, 0.08388956347262432, 0.08388956347262432, 0.08388956347262432, 0.08388956347262432, 0.08388956347262432, 0.08388956347262432, 0.08388956347262432, 0.08388956347262432, 0.08388956347262432, 0.09525983971890858, 0.15898404673887254, 0.12646706205927585, 0.12646706205927585, 0.12646706205927585, 0.11689878877190295, 0.08791546577315731, 0.08831150071695724, 0.09877073384264955, 0.11366913668416341, 0.10786951161919558, 0.09787796349156536, 0.09001346854708998, 0.09001346854708998, 0.08774170989649084, 0.08751639584406556, 0.132688375221906, 0.08473093090781535, 0.08473093090781535, 0.08473093090781535, 0.08473093090781535, 0.08473093090781535, 0.08347515203665712, 0.08347515203665712, 0.08347515203665712, 0.08347515203665712, 0.08347515203665712, 0.08347515203665712, 0.08347515203665712, 0.08347515203665712, 0.08347515203665712, 0.08347515203665712, 0.08347515203665712, 0.08347515203665712, 0.08347515203665712, 0.08347515203665712, 0.08347515203665712, 0.08347515203665712, 0.08347515203665712, 0.08347515203665712, 0.08347515203665712, 0.08347515203665712, 0.08347515203665712, 0.08347515203665712, 0.08347515203665712, 0.08347515203665712, 0.08347515203665712, 0.11760739588613914, 0.09526194161910913, 0.11257325787099803, 0.08641675051425038, 0.08741385520730731, 0.08741385520730731, 0.08741385520730731, 0.08422541496752495, 0.07277834449753591, 0.06133578914996159, 0.06133578914996159, 0.06133578914996159, 0.06133578914996159, 0.06133578914996159, 0.06133578914996159, 0.060086235982085755, 0.06360986275189984, 0.05288578658629822, 0.05288578658629822, 0.05288578658629822, 0.05288578658629822, 0.05288578658629822, 0.05288578658629822, 0.05288578658629822, 0.05288578658629822, 0.05288578658629822, 0.05288578658629822, 0.05288578658629822, 0.05288578658629822, 0.05288578658629822, 0.05288578658629822, 0.05288578658629822, 0.04981323862212659, 0.05776073479964458, 0.05778756232388167, 0.04450769238656094, 0.04450769238656094, 0.04450769238656094, 0.04450769238656094, 0.04450769238656094, 0.04450769238656094, 0.04450769238656094, 0.04450769238656094, 0.04450769238656094, 0.04450769238656094, 0.04450769238656094, 0.05012732945468586, 0.04450769238656094, 0.04450769238656094, 0.04734617038758825, 0.047346394585441785, 0.05170313707742319, 0.05550348012409429, 0.05275589243354321, 0.07020102136555978, 0.06102118758024944, 0.05500390605407411, 0.05500390605407411, 0.05500390605407411, 0.05500390605407411, 0.05500390605407411, 0.05500390605407411, 0.05816230550453686, 0.05183003601168605, 0.04589917656174549, 0.04589917656174549, 0.04589917656174549, 0.04589917656174549, 0.04589917656174549, 0.04589917656174549, 0.04589917656174549, 0.04589917656174549, 0.04589917656174549, 0.04589917656174549, 0.04589917656174549, 0.04589917656174549, 0.04589917656174549, 0.04589917656174549, 0.04589917656174549, 0.045158459108156815, 0.045158459108156815, 0.045158459108156815, 0.045158459108156815, 0.045158459108156815, 0.045158459108156815, 0.045158459108156815, 0.045158459108156815, 0.045158459108156815, 0.045158459108156815, 0.07280380710975515, 0.051812707206625175, 0.05180059866378586, 0.04806223957644501, 0.046402578001218345, 0.047202234007095834], \"Total\": [0.0, 0.0, 0.0, 0.0, 0.0, 0.0, 0.0, 0.0, 0.0, 0.0, 0.0, 0.0, 0.0, 0.0, 0.0, 0.0, 0.0, 0.0, 0.0, 0.0, 0.0, 0.0, 0.0, 0.0, 0.0, 0.0, 0.0, 0.0, 0.0, 0.0, 0.23777429515810267, 0.21835229030563308, 0.2153540569345046, 0.21385356930761326, 0.2517043155447934, 0.2255721490150017, 0.20823356859222972, 0.20653731875739306, 0.20206608819620572, 0.19872644274294937, 0.2133256668225107, 0.21310795559302836, 0.19789965083322547, 0.19789965083322547, 0.19789965083322547, 0.19689940021167784, 0.19647312922379098, 0.19647312922379098, 0.19549107544501396, 0.2239547785811238, 0.19432374753184645, 0.19432374753184645, 0.19432374753184645, 0.19432374753184645, 0.19432374753184645, 0.19432374753184645, 0.19432374753184645, 0.19432374753184645, 0.19432374753184645, 0.19432374753184645, 0.19432374753184645, 0.19432374753184645, 0.19432374753184645, 0.19432374753184645, 0.19432374753184645, 0.3523217839231325, 0.4881739729375099, 0.19432374753184645, 0.21233804419407318, 0.19432374753184645, 0.21277021285033532, 0.23502791925642502, 0.261361852252846, 0.2926648733052409, 0.262695848457626, 0.27657179387561437, 0.3351223285799424, 0.3166432854407163, 0.2677780101443476, 0.2677780101443476, 0.2677780101443476, 0.2677780101443476, 0.2677780101443476, 0.2677780101443476, 0.2677780101443476, 0.2677780101443476, 0.2677780101443476, 0.288734971447644, 0.27974187210212703, 0.27974187210212703, 0.27974187210212703, 0.27974187210212703, 0.27974187210212703, 0.28285855648399527, 0.3166432854407163, 0.2871414958908994, 0.3122240205412818, 0.29794197900026365, 0.20763016591311215, 0.2015629659120382, 0.19812611719816398, 0.19812611719816398, 0.19812611719816398, 0.19812611719816398, 0.19812611719816398, 0.19812611719816398, 0.19812611719816398, 0.19812611719816398, 0.19812611719816398, 0.19812611719816398, 0.19812611719816398, 0.19812611719816398, 0.22943802857891876, 0.4881739729375099, 0.35331052708864485, 0.35331052708864485, 0.35331052708864485, 0.3838282137181729, 0.22445615767953492, 0.23579327445748668, 0.3523217839231325, 0.23275182425825003, 0.22695311619686095, 0.21696164576103222, 0.20909815995420708, 0.20909815995420708, 0.20682444692263371, 0.20660146543488075, 0.3175767865154475, 0.2038155143086758, 0.2038155143086758, 0.2038155143086758, 0.2038155143086758, 0.2038155143086758, 0.20255819037605066, 0.20255819037605066, 0.20255819037605066, 0.20255819037605066, 0.20255819037605066, 0.20255819037605066, 0.20255819037605066, 0.20255819037605066, 0.20255819037605066, 0.20255819037605066, 0.20255819037605066, 0.20255819037605066, 0.20255819037605066, 0.20255819037605066, 0.20255819037605066, 0.20255819037605066, 0.20255819037605066, 0.20255819037605066, 0.20255819037605066, 0.20255819037605066, 0.20255819037605066, 0.20255819037605066, 0.20255819037605066, 0.20255819037605066, 0.20255819037605066, 0.3027022949799264, 0.24342538670098285, 0.3838282137181729, 0.23237254534459842, 0.35331052708864485, 0.35331052708864485, 0.35331052708864485, 0.22453304794845896, 0.2123774823539915, 0.18704298403011982, 0.18704298403011982, 0.18704298403011982, 0.18704298403011982, 0.18704298403011982, 0.18704298403011982, 0.18578908395909127, 0.21012064026653193, 0.17859222760606927, 0.17859222760606927, 0.17859222760606927, 0.17859222760606927, 0.17859222760606927, 0.17859222760606927, 0.17859222760606927, 0.17859222760606927, 0.17859222760606927, 0.17859222760606927, 0.17859222760606927, 0.17859222760606927, 0.17859222760606927, 0.17859222760606927, 0.17859222760606927, 0.17551488951780506, 0.2139687776917888, 0.21668668325652898, 0.170212225100647, 0.170212225100647, 0.170212225100647, 0.170212225100647, 0.170212225100647, 0.170212225100647, 0.170212225100647, 0.170212225100647, 0.170212225100647, 0.170212225100647, 0.170212225100647, 0.20170173585887097, 0.170212225100647, 0.170212225100647, 0.19252677487485456, 0.1926013662711282, 0.24680396712252145, 0.3351223285799424, 0.4881739729375099, 0.212094058032266, 0.18903065574573089, 0.18301714389591195, 0.18301714389591195, 0.18301714389591195, 0.18301714389591195, 0.18301714389591195, 0.18301714389591195, 0.20422824744026016, 0.19489375036547174, 0.17391097822149096, 0.17391097822149096, 0.17391097822149096, 0.17391097822149096, 0.17391097822149096, 0.17391097822149096, 0.17391097822149096, 0.17391097822149096, 0.17391097822149096, 0.17391097822149096, 0.17391097822149096, 0.17391097822149096, 0.17391097822149096, 0.17391097822149096, 0.17391097822149096, 0.17317017616834357, 0.17317017616834357, 0.17317017616834357, 0.17317017616834357, 0.17317017616834357, 0.17317017616834357, 0.17317017616834357, 0.17317017616834357, 0.17317017616834357, 0.17317017616834357, 0.3351223285799424, 0.2139687776917888, 0.2237596021647523, 0.3175767865154475, 0.24680396712252145, 0.4881739729375099], \"Category\": [\"Default\", \"Default\", \"Default\", \"Default\", \"Default\", \"Default\", \"Default\", \"Default\", \"Default\", \"Default\", \"Default\", \"Default\", \"Default\", \"Default\", \"Default\", \"Default\", \"Default\", \"Default\", \"Default\", \"Default\", \"Default\", \"Default\", \"Default\", \"Default\", \"Default\", \"Default\", \"Default\", \"Default\", \"Default\", \"Default\", \"Topic1\", \"Topic1\", \"Topic1\", \"Topic1\", \"Topic1\", \"Topic1\", \"Topic1\", \"Topic1\", \"Topic1\", \"Topic1\", \"Topic1\", \"Topic1\", \"Topic1\", \"Topic1\", \"Topic1\", \"Topic1\", \"Topic1\", \"Topic1\", \"Topic1\", \"Topic1\", \"Topic1\", \"Topic1\", \"Topic1\", \"Topic1\", \"Topic1\", \"Topic1\", \"Topic1\", \"Topic1\", \"Topic1\", \"Topic1\", \"Topic1\", \"Topic1\", \"Topic1\", \"Topic1\", \"Topic1\", \"Topic1\", \"Topic1\", \"Topic1\", \"Topic1\", \"Topic1\", \"Topic1\", \"Topic1\", \"Topic1\", \"Topic1\", \"Topic1\", \"Topic1\", \"Topic1\", \"Topic1\", \"Topic2\", \"Topic2\", \"Topic2\", \"Topic2\", \"Topic2\", \"Topic2\", \"Topic2\", \"Topic2\", \"Topic2\", \"Topic2\", \"Topic2\", \"Topic2\", \"Topic2\", \"Topic2\", \"Topic2\", \"Topic2\", \"Topic2\", \"Topic2\", \"Topic2\", \"Topic2\", \"Topic2\", \"Topic2\", \"Topic2\", \"Topic2\", \"Topic2\", \"Topic2\", \"Topic2\", \"Topic2\", \"Topic2\", \"Topic2\", \"Topic2\", \"Topic2\", \"Topic2\", \"Topic2\", \"Topic2\", \"Topic2\", \"Topic2\", \"Topic2\", \"Topic2\", \"Topic2\", \"Topic2\", \"Topic2\", \"Topic2\", \"Topic3\", \"Topic3\", \"Topic3\", \"Topic3\", \"Topic3\", \"Topic3\", \"Topic3\", \"Topic3\", \"Topic3\", \"Topic3\", \"Topic3\", \"Topic3\", \"Topic3\", \"Topic3\", \"Topic3\", \"Topic3\", \"Topic3\", \"Topic3\", \"Topic3\", \"Topic3\", \"Topic3\", \"Topic3\", \"Topic3\", \"Topic3\", \"Topic3\", \"Topic3\", \"Topic3\", \"Topic3\", \"Topic3\", \"Topic3\", \"Topic3\", \"Topic3\", \"Topic3\", \"Topic3\", \"Topic3\", \"Topic3\", \"Topic3\", \"Topic3\", \"Topic3\", \"Topic3\", \"Topic3\", \"Topic3\", \"Topic3\", \"Topic3\", \"Topic3\", \"Topic3\", \"Topic4\", \"Topic4\", \"Topic4\", \"Topic4\", \"Topic4\", \"Topic4\", \"Topic4\", \"Topic4\", \"Topic4\", \"Topic4\", \"Topic4\", \"Topic4\", \"Topic4\", \"Topic4\", \"Topic4\", \"Topic4\", \"Topic4\", \"Topic4\", \"Topic4\", \"Topic4\", \"Topic4\", \"Topic4\", \"Topic4\", \"Topic4\", \"Topic4\", \"Topic4\", \"Topic4\", \"Topic4\", \"Topic4\", \"Topic4\", \"Topic4\", \"Topic4\", \"Topic4\", \"Topic4\", \"Topic4\", \"Topic4\", \"Topic4\", \"Topic4\", \"Topic4\", \"Topic4\", \"Topic4\", \"Topic4\", \"Topic4\", \"Topic4\", \"Topic4\", \"Topic4\", \"Topic5\", \"Topic5\", \"Topic5\", \"Topic5\", \"Topic5\", \"Topic5\", \"Topic5\", \"Topic5\", \"Topic5\", \"Topic5\", \"Topic5\", \"Topic5\", \"Topic5\", \"Topic5\", \"Topic5\", \"Topic5\", \"Topic5\", \"Topic5\", \"Topic5\", \"Topic5\", \"Topic5\", \"Topic5\", \"Topic5\", \"Topic5\", \"Topic5\", \"Topic5\", \"Topic5\", \"Topic5\", \"Topic5\", \"Topic5\", \"Topic5\", \"Topic5\", \"Topic5\", \"Topic5\", \"Topic5\", \"Topic5\", \"Topic5\", \"Topic5\", \"Topic5\", \"Topic5\", \"Topic5\"], \"logprob\": [30.0, 29.0, 28.0, 27.0, 26.0, 25.0, 24.0, 23.0, 22.0, 21.0, 20.0, 19.0, 18.0, 17.0, 16.0, 15.0, 14.0, 13.0, 12.0, 11.0, 10.0, 9.0, 8.0, 7.0, 6.0, 5.0, 4.0, 3.0, 2.0, 1.0, -6.6049, -6.7018, -6.7299, -6.7443, -6.5888, -6.7082, -6.8001, -6.8175, -6.8651, -6.9022, -6.835, -6.8373, -6.9116, -6.9116, -6.9116, -6.923, -6.928, -6.928, -6.9394, -6.8052, -6.9533, -6.9533, -6.9533, -6.9533, -6.9533, -6.9533, -6.9533, -6.9533, -6.9533, -6.9533, -6.9533, -6.9533, -6.9533, -6.9533, -6.9533, -6.5417, -6.3688, -6.9533, -6.8999, -6.9533, -6.9084, -6.8621, -6.8206, -6.8184, -6.864, -6.8657, -6.8769, -6.9337, -6.2148, -6.2148, -6.2148, -6.2148, -6.2148, -6.2148, -6.2148, -6.2148, -6.2148, -6.196, -6.2626, -6.2626, -6.2626, -6.2626, -6.2626, -6.2627, -6.2005, -6.3034, -6.2398, -6.3409, -6.7119, -6.7791, -6.8193, -6.8193, -6.8193, -6.8193, -6.8193, -6.8193, -6.8193, -6.8193, -6.8193, -6.8193, -6.8193, -6.8193, -6.6922, -6.18, -6.4088, -6.4088, -6.4088, -6.4875, -6.7724, -6.7679, -6.656, -6.3351, -6.3875, -6.4847, -6.5685, -6.5685, -6.594, -6.5966, -6.1804, -6.629, -6.629, -6.629, -6.629, -6.629, -6.6439, -6.6439, -6.6439, -6.6439, -6.6439, -6.6439, -6.6439, -6.6439, -6.6439, -6.6439, -6.6439, -6.6439, -6.6439, -6.6439, -6.6439, -6.6439, -6.6439, -6.6439, -6.6439, -6.6439, -6.6439, -6.6439, -6.6439, -6.6439, -6.6439, -6.3011, -6.5118, -6.3448, -6.6093, -6.5978, -6.5978, -6.5978, -6.6349, -6.4864, -6.6575, -6.6575, -6.6575, -6.6575, -6.6575, -6.6575, -6.6781, -6.6211, -6.8057, -6.8057, -6.8057, -6.8057, -6.8057, -6.8057, -6.8057, -6.8057, -6.8057, -6.8057, -6.8057, -6.8057, -6.8057, -6.8057, -6.8057, -6.8656, -6.7175, -6.7171, -6.9782, -6.9782, -6.9782, -6.9782, -6.9782, -6.9782, -6.9782, -6.9782, -6.9782, -6.9782, -6.9782, -6.8593, -6.9782, -6.9782, -6.9164, -6.9164, -6.8283, -6.7574, -6.8082, -6.4087, -6.5488, -6.6526, -6.6526, -6.6526, -6.6526, -6.6526, -6.6526, -6.5968, -6.7121, -6.8336, -6.8336, -6.8336, -6.8336, -6.8336, -6.8336, -6.8336, -6.8336, -6.8336, -6.8336, -6.8336, -6.8336, -6.8336, -6.8336, -6.8336, -6.8499, -6.8499, -6.8499, -6.8499, -6.8499, -6.8499, -6.8499, -6.8499, -6.8499, -6.8499, -6.3723, -6.7124, -6.7126, -6.7875, -6.8227, -6.8056], \"loglift\": [30.0, 29.0, 28.0, 27.0, 26.0, 25.0, 24.0, 23.0, 22.0, 21.0, 20.0, 19.0, 18.0, 17.0, 16.0, 15.0, 14.0, 13.0, 12.0, 11.0, 10.0, 9.0, 8.0, 7.0, 6.0, 5.0, 4.0, 3.0, 2.0, 1.0, 0.5974, 0.5858, 0.5715, 0.5641, 0.5566, 0.5468, 0.5349, 0.5256, 0.4999, 0.4795, 0.4758, 0.4745, 0.4743, 0.4743, 0.4743, 0.4679, 0.4651, 0.4651, 0.4587, 0.4569, 0.4508, 0.4508, 0.4508, 0.4508, 0.4508, 0.4508, 0.4508, 0.4508, 0.4508, 0.4508, 0.4508, 0.4508, 0.4508, 0.4508, 0.4508, 0.2674, 0.1142, 0.4508, 0.4155, 0.4508, 0.405, 0.3518, 0.2871, 0.1762, 0.2386, 0.1855, -0.0178, -0.0178, 0.8687, 0.8687, 0.8687, 0.8687, 0.8687, 0.8687, 0.8687, 0.8687, 0.8687, 0.8121, 0.7772, 0.7772, 0.7772, 0.7772, 0.7772, 0.766, 0.7154, 0.7103, 0.6901, 0.6358, 0.626, 0.5885, 0.5655, 0.5655, 0.5655, 0.5655, 0.5655, 0.5655, 0.5655, 0.5655, 0.5655, 0.5655, 0.5655, 0.5655, 0.5458, 0.303, 0.3975, 0.3975, 0.3975, 0.236, 0.4876, 0.4428, 0.1531, 0.8885, 0.8614, 0.8092, 0.7624, 0.7624, 0.7477, 0.7462, 0.7325, 0.7275, 0.7275, 0.7275, 0.7275, 0.7275, 0.7187, 0.7187, 0.7187, 0.7187, 0.7187, 0.7187, 0.7187, 0.7187, 0.7187, 0.7187, 0.7187, 0.7187, 0.7187, 0.7187, 0.7187, 0.7187, 0.7187, 0.7187, 0.7187, 0.7187, 0.7187, 0.7187, 0.7187, 0.7187, 0.7187, 0.6598, 0.667, 0.3786, 0.616, 0.2085, 0.2085, 0.2085, 0.6247, 0.8288, 0.7848, 0.7848, 0.7848, 0.7848, 0.7848, 0.7848, 0.771, 0.7049, 0.6828, 0.6828, 0.6828, 0.6828, 0.6828, 0.6828, 0.6828, 0.6828, 0.6828, 0.6828, 0.6828, 0.6828, 0.6828, 0.6828, 0.6828, 0.6403, 0.5903, 0.5781, 0.5584, 0.5584, 0.5584, 0.5584, 0.5584, 0.5584, 0.5584, 0.5584, 0.5584, 0.5584, 0.5584, 0.5076, 0.5584, 0.5584, 0.497, 0.4967, 0.3367, 0.1017, -0.3252, 0.9079, 0.8829, 0.8114, 0.8114, 0.8114, 0.8114, 0.8114, 0.8114, 0.7576, 0.6891, 0.6815, 0.6815, 0.6815, 0.6815, 0.6815, 0.6815, 0.6815, 0.6815, 0.6815, 0.6815, 0.6815, 0.6815, 0.6815, 0.6815, 0.6815, 0.6695, 0.6695, 0.6695, 0.6695, 0.6695, 0.6695, 0.6695, 0.6695, 0.6695, 0.6695, 0.4869, 0.5954, 0.5504, 0.1254, 0.3424, -0.3226]}, \"token.table\": {\"Topic\": [], \"Freq\": [], \"Term\": []}, \"R\": 30, \"lambda.step\": 0.01, \"plot.opts\": {\"xlab\": \"PC1\", \"ylab\": \"PC2\"}, \"topic.order\": [1, 3, 2, 4, 5]};\n",
              "\n",
              "function LDAvis_load_lib(url, callback){\n",
              "  var s = document.createElement('script');\n",
              "  s.src = url;\n",
              "  s.async = true;\n",
              "  s.onreadystatechange = s.onload = callback;\n",
              "  s.onerror = function(){console.warn(\"failed to load library \" + url);};\n",
              "  document.getElementsByTagName(\"head\")[0].appendChild(s);\n",
              "}\n",
              "\n",
              "if(typeof(LDAvis) !== \"undefined\"){\n",
              "   // already loaded: just create the visualization\n",
              "   !function(LDAvis){\n",
              "       new LDAvis(\"#\" + \"ldavis_el991397139809521523477592162\", ldavis_el991397139809521523477592162_data);\n",
              "   }(LDAvis);\n",
              "}else if(typeof define === \"function\" && define.amd){\n",
              "   // require.js is available: use it to load d3/LDAvis\n",
              "   require.config({paths: {d3: \"https://cdnjs.cloudflare.com/ajax/libs/d3/3.5.5/d3.min\"}});\n",
              "   require([\"d3\"], function(d3){\n",
              "      window.d3 = d3;\n",
              "      LDAvis_load_lib(\"https://cdn.rawgit.com/bmabey/pyLDAvis/files/ldavis.v1.0.0.js\", function(){\n",
              "        new LDAvis(\"#\" + \"ldavis_el991397139809521523477592162\", ldavis_el991397139809521523477592162_data);\n",
              "      });\n",
              "    });\n",
              "}else{\n",
              "    // require.js not available: dynamically load d3 & LDAvis\n",
              "    LDAvis_load_lib(\"https://cdnjs.cloudflare.com/ajax/libs/d3/3.5.5/d3.min.js\", function(){\n",
              "         LDAvis_load_lib(\"https://cdn.rawgit.com/bmabey/pyLDAvis/files/ldavis.v1.0.0.js\", function(){\n",
              "                 new LDAvis(\"#\" + \"ldavis_el991397139809521523477592162\", ldavis_el991397139809521523477592162_data);\n",
              "            })\n",
              "         });\n",
              "}\n",
              "</script>"
            ],
            "text/plain": [
              "PreparedData(topic_coordinates=              x         y  topics  cluster       Freq\n",
              "topic                                                \n",
              "0     -0.004444  0.013696       1        1  27.550214\n",
              "2      0.014996 -0.002775       2        1  24.054132\n",
              "1     -0.010328 -0.009941       3        1  20.084983\n",
              "3     -0.000580 -0.000162       4        1  14.959980\n",
              "4      0.000356 -0.000818       5        1  13.350691, topic_info=                         Term      Freq     Total Category  logprob  loglift\n",
              "1442           rehabilitation  0.000000  0.000000  Default  30.0000  30.0000\n",
              "527                    energy  0.000000  0.000000  Default  29.0000  29.0000\n",
              "1368  provision environmental  0.000000  0.000000  Default  28.0000  28.0000\n",
              "1541                   rimbey  0.000000  0.000000  Default  27.0000  27.0000\n",
              "418                  december  0.000000  0.000000  Default  26.0000  26.0000\n",
              "...                       ...       ...       ...      ...      ...      ...\n",
              "1368  provision environmental  0.051813  0.213969   Topic5  -6.7124   0.5954\n",
              "968                 liability  0.051801  0.223760   Topic5  -6.7126   0.5504\n",
              "527                    energy  0.048062  0.317577   Topic5  -6.7875   0.1254\n",
              "1361                provision  0.046403  0.246804   Topic5  -6.8227   0.3424\n",
              "1090                   nature  0.047202  0.488174   Topic5  -6.8056  -0.3226\n",
              "\n",
              "[254 rows x 6 columns], token_table=Empty DataFrame\n",
              "Columns: [Topic, Freq, Term]\n",
              "Index: [], R=30, lambda_step=0.01, plot_opts={'xlab': 'PC1', 'ylab': 'PC2'}, topic_order=[1, 3, 2, 4, 5])"
            ]
          },
          "metadata": {
            "tags": []
          },
          "execution_count": 42
        }
      ]
    },
    {
      "cell_type": "code",
      "metadata": {
        "id": "80YHfmZ48Qog",
        "outputId": "30a02341-b6f7-491a-dcbc-d3364316e386",
        "colab": {
          "base_uri": "https://localhost:8080/"
        }
      },
      "source": [
        "# Showing the words for each topic\n",
        "n_words_to_show = 8\n",
        "year2016 = display_topics(lda, tfidf_vectorizer.get_feature_names(), n_words_to_show)"
      ],
      "execution_count": null,
      "outputs": [
        {
          "output_type": "stream",
          "text": [
            "Topic 0:\n",
            "nature, company, business, requirement, trevali, mining, customer, licence\n",
            "\n",
            "Topic 1:\n",
            "energy, lude, december, financial, month, end, expect, energy services\n",
            "\n",
            "Topic 2:\n",
            "nature, assumption, subject, require assumption subject, require assumption, subject inherent risk, subject inherent, forward look require\n",
            "\n",
            "Topic 3:\n",
            "reclamation, expenditure, reclamation expenditure charge, reclamation expenditure, charge provision, charge provision environmental, expenditure charge, expenditure charge provision\n",
            "\n",
            "Topic 4:\n",
            "environmental, rehabilitation, rimbey, legal, rehabilitation finance, rehabilitation finance liability, provision environmental rehabilitation, finance\n",
            "\n"
          ],
          "name": "stdout"
        }
      ]
    },
    {
      "cell_type": "markdown",
      "metadata": {
        "id": "lo-Dhz478RIq"
      },
      "source": [
        "**2017**"
      ]
    },
    {
      "cell_type": "code",
      "metadata": {
        "id": "uMLnWdtF8SQ8",
        "outputId": "a7164615-129e-4b61-a3e9-6bd0cca1f12f",
        "colab": {
          "base_uri": "https://localhost:8080/",
          "height": 861
        }
      },
      "source": [
        "# Creating the rating's dataset\n",
        "scoped_data = filtered_data.loc[filtered_data.fileyear == 2017, :]\n",
        "\n",
        "# Training the LDA model\n",
        "tfidf_vectorizer = TfidfVectorizer(ngram_range = (1, 3),\n",
        "                                   max_df = maxdf,\n",
        "                                   min_df = mindf,\n",
        "                                   max_features = None)\n",
        "tfidf_fit = tfidf_vectorizer.fit_transform(scoped_data.text)\n",
        "lda = LatentDirichletAllocation(n_components = 5, \n",
        "                                random_state = 69)\n",
        "lda.fit(tfidf_fit)\n",
        "\n",
        "# LDA visualisation\n",
        "pyLDAvis.sklearn.prepare(lda, tfidf_fit, tfidf_vectorizer)"
      ],
      "execution_count": null,
      "outputs": [
        {
          "output_type": "execute_result",
          "data": {
            "text/html": [
              "\n",
              "<link rel=\"stylesheet\" type=\"text/css\" href=\"https://cdn.rawgit.com/bmabey/pyLDAvis/files/ldavis.v1.0.0.css\">\n",
              "\n",
              "\n",
              "<div id=\"ldavis_el991397139809517928825569102\"></div>\n",
              "<script type=\"text/javascript\">\n",
              "\n",
              "var ldavis_el991397139809517928825569102_data = {\"mdsDat\": {\"x\": [-0.01866714957455609, 0.007288006842422986, 0.003909300033914135, 0.004705051578361115, 0.002764791119857838], \"y\": [0.0018528603725819453, 0.011985862659144574, -0.010143883932123801, -0.0014918013774851994, -0.002203037722117516], \"topics\": [1, 2, 3, 4, 5], \"cluster\": [1, 1, 1, 1, 1], \"Freq\": [26.341985946342966, 21.090942205177036, 20.112724353746962, 17.082361696707583, 15.37198579802544]}, \"tinfo\": {\"Term\": [\"etf\", \"end\", \"year\", \"month\", \"month end\", \"short\", \"financial liability\", \"provision\", \"future\", \"lude\", \"liability\", \"audit\", \"december\", \"coffee\", \"decaffeinate\", \"decaffeinate coffee\", \"sale\", \"value\", \"classify\", \"end december\", \"corporation\", \"segment\", \"production\", \"financial\", \"rehabilitation\", \"new\", \"rehabilitation provision\", \"environmental rehabilitation\", \"environmental rehabilitation provision\", \"short sea\", \"etf\", \"mind horizon\", \"automation\", \"automation index etf\", \"mind horizon robotic\", \"robotic automation index\", \"robotic automation\", \"robotic\", \"equity etf\", \"equity etf mind\", \"etf mind\", \"etf mind horizon\", \"etf robo\", \"robo\", \"global equity\", \"global equity etf\", \"horizon\", \"horizon robotic\", \"horizon robotic automation\", \"index\", \"index etf\", \"index etf robo\", \"mind\", \"automation index\", \"risk\", \"diamond\", \"equity\", \"diamond risk\", \"environmental requirement diamond\", \"requirement diamond\", \"requirement diamond risk\", \"requirement\", \"environmental requirement\", \"business\", \"energy\", \"global\", \"audit\", \"lude\", \"production\", \"international\", \"audit accompany financial\", \"audit accompany\", \"accompany financial ensign\", \"financial ensign\", \"financial ensign energy\", \"ensign\", \"ensign energy services\", \"ensign energy\", \"operate\", \"operate segment\", \"generally\", \"rehabilitation provision\", \"environmental rehabilitation\", \"environmental rehabilitation provision\", \"operating item\", \"liability settle\", \"settle environmental rehabilitation\", \"rehabilitation provision operating\", \"settle\", \"liability settle environmental\", \"provision operating item\", \"provision operating\", \"settle environmental\", \"fund\", \"refer\", \"accompany financial\", \"accompany\", \"ongoing production\", \"rehabilitation\", \"segment\", \"provision\", \"similar\", \"financial\", \"environmental\", \"ongoing\", \"operating\", \"nature\", \"energy\", \"forward look\", \"look\", \"forward\", \"iron ore\", \"iron\", \"year\", \"provision restoration rehabilitation\", \"provision restoration\", \"restoration\", \"restoration rehabilitation\", \"restoration rehabilitation environmental\", \"rehabilitation environmental obligation\", \"rehabilitation environmental\", \"west\", \"kel west\", \"envolve\", \"golden\", \"social\", \"direct\", \"price\", \"global dairy company\", \"evolve\", \"evolve strong\", \"global dairy\", \"dairy\", \"dairy company\", \"evolve strong global\", \"expand evolve\", \"expand evolve strong\", \"saputo\", \"strong global dairy\", \"strong global\", \"strong\", \"saputo expand evolve\", \"year saputo expand\", \"saputo expand\", \"year saputo\", \"ore\", \"operation\", \"environmental obligation\", \"nature operation\", \"environmental\", \"kel\", \"nature\", \"obligation\", \"corporation\", \"rehabilitation\", \"provision\", \"global\", \"value\", \"financial\", \"coffee\", \"decaffeinate coffee\", \"decaffeinate\", \"classify\", \"product service\", \"financial liability\", \"future benefit sale\", \"sale ngx\", \"sale ngx shorcan\", \"shorcan energy\", \"ngx\", \"future benefit\", \"benefit sale ngx\", \"employee future benefit\", \"ngx shorcan energy\", \"ngx shorcan\", \"shorcan\", \"employee future\", \"employee\", \"benefit sale\", \"future\", \"total energy\", \"sale\", \"assessment\", \"accord\", \"company time initial\", \"use company\", \"accord nature use\", \"accord nature\", \"company time\", \"nature use\", \"use company time\", \"nature use company\", \"classify accord\", \"classify accord nature\", \"hold\", \"financial classify accord\", \"financial classify\", \"estimate\", \"company\", \"nature\", \"financial\", \"intend\", \"service\", \"liability\", \"value\", \"energy\", \"cost\", \"segment\", \"look\", \"forward look\", \"forward\", \"month end\", \"month\", \"end\", \"end december\", \"novaalgoma\", \"short sea\", \"sea\", \"operating result\", \"challenge\", \"total liability\", \"rehabilitation provision future\", \"payment total\", \"payment total liability\", \"provision future termination\", \"future termination\", \"termination payment total\", \"termination payment\", \"termination\", \"payment\", \"provision environmental\", \"provision environmental rehabilitation\", \"provision future\", \"future termination payment\", \"complete\", \"short\", \"end month\", \"month end month\", \"sale nature\", \"nature month end\", \"end month end\", \"nature month\", \"month end december\", \"cost sale nature\", \"december\", \"cost sale\", \"sale nature month\", \"end december december\", \"liability\", \"provision\", \"year\", \"new\", \"corporation\", \"financial\", \"company\", \"result\", \"report\", \"nature\"], \"Freq\": [0.0, 0.0, 0.0, 0.0, 0.0, 0.0, 0.0, 0.0, 0.0, 0.0, 0.0, 0.0, 0.0, 0.0, 0.0, 0.0, 0.0, 0.0, 0.0, 0.0, 0.0, 0.0, 0.0, 0.0, 0.0, 0.0, 0.0, 0.0, 0.0, 0.0, 0.25982633824286927, 0.14947230333066636, 0.14947230333066636, 0.14947230333066636, 0.14947230333066636, 0.14947230333066636, 0.14947230333066636, 0.14947230333066636, 0.14947230333066636, 0.14947230333066636, 0.14947230333066636, 0.14947230333066636, 0.14947230333066636, 0.14947230333066636, 0.14947230333066636, 0.14947230333066636, 0.14947230333066636, 0.14947230333066636, 0.14947230333066636, 0.14947230333066636, 0.14947230333066636, 0.14947230333066636, 0.14947230333066636, 0.14947230333066636, 0.13606818110987137, 0.1347221231299224, 0.1554132090421878, 0.11069243242670572, 0.11069243242670572, 0.11069243242670572, 0.11069243242670572, 0.1259738646305127, 0.1259738646305127, 0.13172284163047307, 0.17485985715315314, 0.14234869208612946, 0.12420948128303118, 0.1243029587172432, 0.12833624288856565, 0.08725683434746913, 0.0975379922611911, 0.0975379922611911, 0.08163327824363278, 0.08163327824363278, 0.08163327824363278, 0.08163327824363278, 0.08163327824363278, 0.08163327824363278, 0.08155500267472021, 0.08155500267472021, 0.09003489427704126, 0.09832514080098774, 0.09832514080098774, 0.09832514080098774, 0.07613568663798644, 0.07613568663798644, 0.07613568663798644, 0.07613568663798644, 0.07613568663798644, 0.07613568663798644, 0.07613568663798644, 0.07613568663798644, 0.07613568663798644, 0.08230199563603877, 0.07551089267209996, 0.09387776964082672, 0.09387776964082672, 0.0913381077027313, 0.09505090481826246, 0.08802649962118103, 0.09497523853588342, 0.07946682760069558, 0.1022908119124716, 0.10019472061366873, 0.08789073233984969, 0.08048275621178098, 0.09293985598784195, 0.09136325435437789, 0.08216862117286436, 0.08216862117286436, 0.08216862117286436, 0.08310046787885308, 0.08310046787885308, 0.12102005145427241, 0.0815395965508072, 0.0815395965508072, 0.0815395965508072, 0.0815395965508072, 0.0815395965508072, 0.0815395965508072, 0.0815395965508072, 0.07943455437626387, 0.07943455437626387, 0.07943455437626387, 0.07943455437626387, 0.07065886120926419, 0.06996096738301602, 0.06921421275750042, 0.0679766410852349, 0.0679766410852349, 0.0679766410852349, 0.0679766410852349, 0.0679766410852349, 0.0679766410852349, 0.0679766410852349, 0.0679766410852349, 0.0679766410852349, 0.0679766410852349, 0.0679766410852349, 0.0679766410852349, 0.0679766410852349, 0.0679766410852349, 0.0679766410852349, 0.0679766410852349, 0.0679766410852349, 0.09164455863708913, 0.10322666614295832, 0.0771381479540997, 0.08215238927186683, 0.1160461327969234, 0.07523401591700957, 0.09647390768311181, 0.07403148264707732, 0.08429087013161778, 0.07906394914870497, 0.07899203479509219, 0.08096408817881963, 0.0720008838364195, 0.07308700844038181, 0.07905518015474006, 0.07905518015474006, 0.07905518015474006, 0.07450071608410422, 0.0626188854840159, 0.08406061216900798, 0.06175877809568333, 0.06175877809568333, 0.06175877809568333, 0.06175877809568333, 0.06175877809568333, 0.06175877809568333, 0.06175877809568333, 0.06175877809568333, 0.06175877809568333, 0.06175877809568333, 0.06175877809568333, 0.06175877809568333, 0.06175877809568333, 0.06175877809568333, 0.0866342590482952, 0.061191092755909116, 0.08608455356573921, 0.06704563615424769, 0.05815856110282127, 0.05815856110282127, 0.05815856110282127, 0.05815856110282127, 0.05815856110282127, 0.05815856110282127, 0.05815856110282127, 0.05815856110282127, 0.05815856110282127, 0.05815856110282127, 0.05815856110282127, 0.0657312874505954, 0.05815856110282127, 0.05815856110282127, 0.06335512967455648, 0.10224663436527388, 0.10230017565992713, 0.0891478671149165, 0.06497419678362995, 0.06963203804257884, 0.07685939006783878, 0.06843319945585873, 0.07622159196371842, 0.066726925718115, 0.06432011228993229, 0.06373958983749357, 0.06373958983749357, 0.06373958983749357, 0.07449474062181542, 0.07449474062181542, 0.10225162694319742, 0.06293089154131909, 0.05925847984599815, 0.05925847984599815, 0.05925847984599815, 0.058704191084278275, 0.05646956079526544, 0.05285803458870723, 0.05285803458870723, 0.05285803458870723, 0.05285803458870723, 0.05285803458870723, 0.05285803458870723, 0.05285803458870723, 0.05285803458870723, 0.05285803458870723, 0.05285803458870723, 0.05285803458870723, 0.05285803458870723, 0.05285803458870723, 0.05285803458870723, 0.058627653568739765, 0.07203579611419236, 0.0498753453679427, 0.0498753453679427, 0.0498753453679427, 0.0498753453679427, 0.0498753453679427, 0.0498753453679427, 0.0498753453679427, 0.0498753453679427, 0.07806135115254825, 0.0498753453679427, 0.0498753453679427, 0.0498753453679427, 0.0786878473710329, 0.06720471738271139, 0.06593094679739839, 0.056857604665664016, 0.06864254597908706, 0.07329261574147965, 0.06857824342145202, 0.05576519848302599, 0.05488308720332114, 0.06350029991320481], \"Total\": [0.0, 0.0, 0.0, 0.0, 0.0, 0.0, 0.0, 0.0, 0.0, 0.0, 0.0, 0.0, 0.0, 0.0, 0.0, 0.0, 0.0, 0.0, 0.0, 0.0, 0.0, 0.0, 0.0, 0.0, 0.0, 0.0, 0.0, 0.0, 0.0, 0.0, 0.377215993378845, 0.2668630468544166, 0.2668630468544166, 0.2668630468544166, 0.2668630468544166, 0.2668630468544166, 0.2668630468544166, 0.2668630468544166, 0.2668630468544166, 0.2668630468544166, 0.2668630468544166, 0.2668630468544166, 0.2668630468544166, 0.2668630468544166, 0.2668630468544166, 0.2668630468544166, 0.2668630468544166, 0.2668630468544166, 0.2668630468544166, 0.2668630468544166, 0.2668630468544166, 0.2668630468544166, 0.2668630468544166, 0.2668630468544166, 0.25346200393489887, 0.25211600480680574, 0.2934442392831956, 0.22808949192626432, 0.22808949192626432, 0.22808949192626432, 0.22808949192626432, 0.26243110604693837, 0.26243110604693837, 0.27976742550282035, 0.43532696294880685, 0.377598346090916, 0.26592110906409977, 0.28854821880939363, 0.3077858060423774, 0.21092373235938017, 0.24043075213931037, 0.24043075213931037, 0.2053029154237666, 0.2053029154237666, 0.2053029154237666, 0.2053029154237666, 0.2053029154237666, 0.2053029154237666, 0.2052193605876023, 0.2052193605876023, 0.2310321657204527, 0.2539419266641676, 0.2539419266641676, 0.2539419266641676, 0.19980498025138288, 0.19980498025138288, 0.19980498025138288, 0.19980498025138288, 0.19980498025138288, 0.19980498025138288, 0.19980498025138288, 0.19980498025138288, 0.19980498025138288, 0.21655620119632218, 0.19917645570416292, 0.25013870367598223, 0.25013870367598223, 0.2670033649164185, 0.2869810482347206, 0.2627550882155287, 0.30791206312281505, 0.22048209046294417, 0.40437021288170133, 0.40176288684430567, 0.28993271429402884, 0.24814545390975257, 0.4695280828036028, 0.43532696294880685, 0.27614773424373984, 0.27614773424373984, 0.27614773424373984, 0.2079516579353485, 0.2079516579353485, 0.30284509290533557, 0.20639697243886843, 0.20639697243886843, 0.20639697243886843, 0.20639697243886843, 0.20639697243886843, 0.20639697243886843, 0.20639697243886843, 0.20428823932119786, 0.20428823932119786, 0.20428823932119786, 0.20428823932119786, 0.1955107779632311, 0.19481253803518409, 0.1940642030936349, 0.19283253270573264, 0.19283253270573264, 0.19283253270573264, 0.19283253270573264, 0.19283253270573264, 0.19283253270573264, 0.19283253270573264, 0.19283253270573264, 0.19283253270573264, 0.19283253270573264, 0.19283253270573264, 0.19283253270573264, 0.19283253270573264, 0.19283253270573264, 0.19283253270573264, 0.19283253270573264, 0.19283253270573264, 0.2684676324913624, 0.31830564343626877, 0.22483530423297973, 0.24895867392128754, 0.40176288684430567, 0.2430869464397589, 0.4695280828036028, 0.23940482783139294, 0.338933339964555, 0.2869810482347206, 0.30791206312281505, 0.377598346090916, 0.2561151789726144, 0.40437021288170133, 0.20797501294243742, 0.20797501294243742, 0.20797501294243742, 0.20341921827245532, 0.19153655128063599, 0.2593959921427536, 0.19068042475594235, 0.19068042475594235, 0.19068042475594235, 0.19068042475594235, 0.19068042475594235, 0.19068042475594235, 0.19068042475594235, 0.19068042475594235, 0.19068042475594235, 0.19068042475594235, 0.19068042475594235, 0.19068042475594235, 0.19068042475594235, 0.19068042475594235, 0.2679149328351406, 0.19010829812657218, 0.2704172252301744, 0.21436339965473156, 0.18707939412784108, 0.18707939412784108, 0.18707939412784108, 0.18707939412784108, 0.18707939412784108, 0.18707939412784108, 0.18707939412784108, 0.18707939412784108, 0.18707939412784108, 0.18707939412784108, 0.18707939412784108, 0.21417223779264227, 0.18707939412784108, 0.18707939412784108, 0.20848511074789386, 0.42209460982559066, 0.4695280828036028, 0.40437021288170133, 0.22909502376055993, 0.2643021602243776, 0.3282038418391041, 0.2561151789726144, 0.43532696294880685, 0.28851088176642836, 0.2627550882155287, 0.27614773424373984, 0.27614773424373984, 0.27614773424373984, 0.20574818790729238, 0.20574818790729238, 0.29086823762742514, 0.19418387187670955, 0.19050992433082325, 0.19050992433082325, 0.19050992433082325, 0.18995523644887766, 0.1877201332416733, 0.1841131225488218, 0.1841131225488218, 0.1841131225488218, 0.1841131225488218, 0.1841131225488218, 0.1841131225488218, 0.1841131225488218, 0.1841131225488218, 0.1841131225488218, 0.1841131225488218, 0.1841131225488218, 0.1841131225488218, 0.1841131225488218, 0.1841131225488218, 0.20490956784066217, 0.2531279344105358, 0.18113182511862447, 0.18113182511862447, 0.18113182511862447, 0.18113182511862447, 0.18113182511862447, 0.18113182511862447, 0.18113182511862447, 0.18113182511862447, 0.28940000395727217, 0.18113182511862447, 0.18113182511862447, 0.18113182511862447, 0.3282038418391041, 0.30791206312281505, 0.30284509290533557, 0.23173447559684957, 0.338933339964555, 0.40437021288170133, 0.42209460982559066, 0.22701647589589113, 0.21828696545858567, 0.4695280828036028], \"Category\": [\"Default\", \"Default\", \"Default\", \"Default\", \"Default\", \"Default\", \"Default\", \"Default\", \"Default\", \"Default\", \"Default\", \"Default\", \"Default\", \"Default\", \"Default\", \"Default\", \"Default\", \"Default\", \"Default\", \"Default\", \"Default\", \"Default\", \"Default\", \"Default\", \"Default\", \"Default\", \"Default\", \"Default\", \"Default\", \"Default\", \"Topic1\", \"Topic1\", \"Topic1\", \"Topic1\", \"Topic1\", \"Topic1\", \"Topic1\", \"Topic1\", \"Topic1\", \"Topic1\", \"Topic1\", \"Topic1\", \"Topic1\", \"Topic1\", \"Topic1\", \"Topic1\", \"Topic1\", \"Topic1\", \"Topic1\", \"Topic1\", \"Topic1\", \"Topic1\", \"Topic1\", \"Topic1\", \"Topic1\", \"Topic1\", \"Topic1\", \"Topic1\", \"Topic1\", \"Topic1\", \"Topic1\", \"Topic1\", \"Topic1\", \"Topic1\", \"Topic1\", \"Topic1\", \"Topic2\", \"Topic2\", \"Topic2\", \"Topic2\", \"Topic2\", \"Topic2\", \"Topic2\", \"Topic2\", \"Topic2\", \"Topic2\", \"Topic2\", \"Topic2\", \"Topic2\", \"Topic2\", \"Topic2\", \"Topic2\", \"Topic2\", \"Topic2\", \"Topic2\", \"Topic2\", \"Topic2\", \"Topic2\", \"Topic2\", \"Topic2\", \"Topic2\", \"Topic2\", \"Topic2\", \"Topic2\", \"Topic2\", \"Topic2\", \"Topic2\", \"Topic2\", \"Topic2\", \"Topic2\", \"Topic2\", \"Topic2\", \"Topic2\", \"Topic2\", \"Topic2\", \"Topic2\", \"Topic2\", \"Topic2\", \"Topic2\", \"Topic2\", \"Topic2\", \"Topic3\", \"Topic3\", \"Topic3\", \"Topic3\", \"Topic3\", \"Topic3\", \"Topic3\", \"Topic3\", \"Topic3\", \"Topic3\", \"Topic3\", \"Topic3\", \"Topic3\", \"Topic3\", \"Topic3\", \"Topic3\", \"Topic3\", \"Topic3\", \"Topic3\", \"Topic3\", \"Topic3\", \"Topic3\", \"Topic3\", \"Topic3\", \"Topic3\", \"Topic3\", \"Topic3\", \"Topic3\", \"Topic3\", \"Topic3\", \"Topic3\", \"Topic3\", \"Topic3\", \"Topic3\", \"Topic3\", \"Topic3\", \"Topic3\", \"Topic3\", \"Topic3\", \"Topic3\", \"Topic3\", \"Topic3\", \"Topic3\", \"Topic3\", \"Topic3\", \"Topic3\", \"Topic3\", \"Topic3\", \"Topic4\", \"Topic4\", \"Topic4\", \"Topic4\", \"Topic4\", \"Topic4\", \"Topic4\", \"Topic4\", \"Topic4\", \"Topic4\", \"Topic4\", \"Topic4\", \"Topic4\", \"Topic4\", \"Topic4\", \"Topic4\", \"Topic4\", \"Topic4\", \"Topic4\", \"Topic4\", \"Topic4\", \"Topic4\", \"Topic4\", \"Topic4\", \"Topic4\", \"Topic4\", \"Topic4\", \"Topic4\", \"Topic4\", \"Topic4\", \"Topic4\", \"Topic4\", \"Topic4\", \"Topic4\", \"Topic4\", \"Topic4\", \"Topic4\", \"Topic4\", \"Topic4\", \"Topic4\", \"Topic4\", \"Topic4\", \"Topic4\", \"Topic4\", \"Topic4\", \"Topic4\", \"Topic4\", \"Topic4\", \"Topic4\", \"Topic4\", \"Topic4\", \"Topic4\", \"Topic5\", \"Topic5\", \"Topic5\", \"Topic5\", \"Topic5\", \"Topic5\", \"Topic5\", \"Topic5\", \"Topic5\", \"Topic5\", \"Topic5\", \"Topic5\", \"Topic5\", \"Topic5\", \"Topic5\", \"Topic5\", \"Topic5\", \"Topic5\", \"Topic5\", \"Topic5\", \"Topic5\", \"Topic5\", \"Topic5\", \"Topic5\", \"Topic5\", \"Topic5\", \"Topic5\", \"Topic5\", \"Topic5\", \"Topic5\", \"Topic5\", \"Topic5\", \"Topic5\", \"Topic5\", \"Topic5\", \"Topic5\", \"Topic5\", \"Topic5\", \"Topic5\", \"Topic5\", \"Topic5\", \"Topic5\", \"Topic5\", \"Topic5\", \"Topic5\", \"Topic5\", \"Topic5\"], \"logprob\": [30.0, 29.0, 28.0, 27.0, 26.0, 25.0, 24.0, 23.0, 22.0, 21.0, 20.0, 19.0, 18.0, 17.0, 16.0, 15.0, 14.0, 13.0, 12.0, 11.0, 10.0, 9.0, 8.0, 7.0, 6.0, 5.0, 4.0, 3.0, 2.0, 1.0, -6.04, -6.5929, -6.5929, -6.5929, -6.5929, -6.5929, -6.5929, -6.5929, -6.5929, -6.5929, -6.5929, -6.5929, -6.5929, -6.5929, -6.5929, -6.5929, -6.5929, -6.5929, -6.5929, -6.5929, -6.5929, -6.5929, -6.5929, -6.5929, -6.6869, -6.6968, -6.5539, -6.8933, -6.8933, -6.8933, -6.8933, -6.7639, -6.7639, -6.7193, -6.436, -6.6417, -6.5557, -6.555, -6.523, -6.9088, -6.7974, -6.7974, -6.9754, -6.9754, -6.9754, -6.9754, -6.9754, -6.9754, -6.9764, -6.9764, -6.8775, -6.7894, -6.7894, -6.7894, -7.0452, -7.0452, -7.0452, -7.0452, -7.0452, -7.0452, -7.0452, -7.0452, -7.0452, -6.9673, -7.0534, -6.8357, -6.8357, -6.8631, -6.8233, -6.9, -6.8241, -7.0023, -6.7499, -6.7706, -6.9016, -6.9896, -6.8457, -6.8628, -6.9689, -6.9689, -6.9689, -6.9101, -6.9101, -6.5342, -6.9291, -6.9291, -6.9291, -6.9291, -6.9291, -6.9291, -6.9291, -6.9553, -6.9553, -6.9553, -6.9553, -7.0723, -7.0823, -7.093, -7.111, -7.111, -7.111, -7.111, -7.111, -7.111, -7.111, -7.111, -7.111, -7.111, -7.111, -7.111, -7.111, -7.111, -7.111, -7.111, -7.111, -6.8123, -6.6933, -6.9846, -6.9216, -6.5762, -7.0096, -6.7609, -7.0257, -6.8959, -6.9599, -6.9608, -6.9362, -7.0535, -7.0385, -6.7967, -6.7967, -6.7967, -6.8561, -7.0298, -6.7354, -7.0437, -7.0437, -7.0437, -7.0437, -7.0437, -7.0437, -7.0437, -7.0437, -7.0437, -7.0437, -7.0437, -7.0437, -7.0437, -7.0437, -6.7052, -7.0529, -6.7116, -6.9615, -7.1037, -7.1037, -7.1037, -7.1037, -7.1037, -7.1037, -7.1037, -7.1037, -7.1037, -7.1037, -7.1037, -6.9813, -7.1037, -7.1037, -7.0181, -6.5395, -6.539, -6.6766, -6.9929, -6.9237, -6.8249, -6.941, -6.8332, -6.9663, -7.003, -7.0121, -7.0121, -7.0121, -6.7507, -6.7507, -6.434, -6.9194, -6.9795, -6.9795, -6.9795, -6.9889, -7.0277, -7.0938, -7.0938, -7.0938, -7.0938, -7.0938, -7.0938, -7.0938, -7.0938, -7.0938, -7.0938, -7.0938, -7.0938, -7.0938, -7.0938, -6.9902, -6.7842, -7.1519, -7.1519, -7.1519, -7.1519, -7.1519, -7.1519, -7.1519, -7.1519, -6.7039, -7.1519, -7.1519, -7.1519, -6.6959, -6.8536, -6.8728, -7.0208, -6.8325, -6.7669, -6.8334, -7.0402, -7.0562, -6.9103], \"loglift\": [30.0, 29.0, 28.0, 27.0, 26.0, 25.0, 24.0, 23.0, 22.0, 21.0, 20.0, 19.0, 18.0, 17.0, 16.0, 15.0, 14.0, 13.0, 12.0, 11.0, 10.0, 9.0, 8.0, 7.0, 6.0, 5.0, 4.0, 3.0, 2.0, 1.0, 0.9612, 0.7544, 0.7544, 0.7544, 0.7544, 0.7544, 0.7544, 0.7544, 0.7544, 0.7544, 0.7544, 0.7544, 0.7544, 0.7544, 0.7544, 0.7544, 0.7544, 0.7544, 0.7544, 0.7544, 0.7544, 0.7544, 0.7544, 0.7544, 0.7119, 0.7073, 0.6984, 0.611, 0.611, 0.611, 0.611, 0.6001, 0.6001, 0.5807, 0.4219, 0.3585, 0.7951, 0.7142, 0.6816, 0.6737, 0.6541, 0.6541, 0.6341, 0.6341, 0.6341, 0.6341, 0.6341, 0.6341, 0.6335, 0.6335, 0.614, 0.6075, 0.6075, 0.6075, 0.5915, 0.5915, 0.5915, 0.5915, 0.5915, 0.5915, 0.5915, 0.5915, 0.5915, 0.5889, 0.5864, 0.5763, 0.5763, 0.4836, 0.4513, 0.4627, 0.3801, 0.5358, 0.1818, 0.1676, 0.3628, 0.4304, -0.0634, -0.0049, 0.3442, 0.3442, 0.3442, 0.6866, 0.6866, 0.6866, 0.6751, 0.6751, 0.6751, 0.6751, 0.6751, 0.6751, 0.6751, 0.6592, 0.6592, 0.6592, 0.6592, 0.5861, 0.5797, 0.5728, 0.5612, 0.5612, 0.5612, 0.5612, 0.5612, 0.5612, 0.5612, 0.5612, 0.5612, 0.5612, 0.5612, 0.5612, 0.5612, 0.5612, 0.5612, 0.5612, 0.5612, 0.529, 0.4777, 0.534, 0.4951, 0.3619, 0.431, 0.0214, 0.4302, 0.2123, 0.3147, 0.2434, 0.064, 0.3349, -0.1069, 0.7999, 0.7999, 0.7999, 0.7627, 0.6491, 0.6403, 0.6398, 0.6398, 0.6398, 0.6398, 0.6398, 0.6398, 0.6398, 0.6398, 0.6398, 0.6398, 0.6398, 0.6398, 0.6398, 0.6398, 0.6381, 0.6335, 0.6225, 0.6048, 0.5988, 0.5988, 0.5988, 0.5988, 0.5988, 0.5988, 0.5988, 0.5988, 0.5988, 0.5988, 0.5988, 0.5859, 0.5988, 0.5988, 0.576, 0.3493, 0.2433, 0.2551, 0.507, 0.4333, 0.3155, 0.4474, 0.0247, 0.303, 0.3598, 0.301, 0.301, 0.301, 0.8567, 0.8567, 0.8272, 0.7459, 0.7048, 0.7048, 0.7048, 0.6983, 0.6714, 0.6247, 0.6247, 0.6247, 0.6247, 0.6247, 0.6247, 0.6247, 0.6247, 0.6247, 0.6247, 0.6247, 0.6247, 0.6247, 0.6247, 0.6213, 0.6159, 0.5829, 0.5829, 0.5829, 0.5829, 0.5829, 0.5829, 0.5829, 0.5829, 0.5623, 0.5829, 0.5829, 0.5829, 0.4445, 0.3506, 0.348, 0.4676, 0.2757, 0.1648, 0.0554, 0.4688, 0.492, -0.1281]}, \"token.table\": {\"Topic\": [], \"Freq\": [], \"Term\": []}, \"R\": 30, \"lambda.step\": 0.01, \"plot.opts\": {\"xlab\": \"PC1\", \"ylab\": \"PC2\"}, \"topic.order\": [2, 5, 1, 3, 4]};\n",
              "\n",
              "function LDAvis_load_lib(url, callback){\n",
              "  var s = document.createElement('script');\n",
              "  s.src = url;\n",
              "  s.async = true;\n",
              "  s.onreadystatechange = s.onload = callback;\n",
              "  s.onerror = function(){console.warn(\"failed to load library \" + url);};\n",
              "  document.getElementsByTagName(\"head\")[0].appendChild(s);\n",
              "}\n",
              "\n",
              "if(typeof(LDAvis) !== \"undefined\"){\n",
              "   // already loaded: just create the visualization\n",
              "   !function(LDAvis){\n",
              "       new LDAvis(\"#\" + \"ldavis_el991397139809517928825569102\", ldavis_el991397139809517928825569102_data);\n",
              "   }(LDAvis);\n",
              "}else if(typeof define === \"function\" && define.amd){\n",
              "   // require.js is available: use it to load d3/LDAvis\n",
              "   require.config({paths: {d3: \"https://cdnjs.cloudflare.com/ajax/libs/d3/3.5.5/d3.min\"}});\n",
              "   require([\"d3\"], function(d3){\n",
              "      window.d3 = d3;\n",
              "      LDAvis_load_lib(\"https://cdn.rawgit.com/bmabey/pyLDAvis/files/ldavis.v1.0.0.js\", function(){\n",
              "        new LDAvis(\"#\" + \"ldavis_el991397139809517928825569102\", ldavis_el991397139809517928825569102_data);\n",
              "      });\n",
              "    });\n",
              "}else{\n",
              "    // require.js not available: dynamically load d3 & LDAvis\n",
              "    LDAvis_load_lib(\"https://cdnjs.cloudflare.com/ajax/libs/d3/3.5.5/d3.min.js\", function(){\n",
              "         LDAvis_load_lib(\"https://cdn.rawgit.com/bmabey/pyLDAvis/files/ldavis.v1.0.0.js\", function(){\n",
              "                 new LDAvis(\"#\" + \"ldavis_el991397139809517928825569102\", ldavis_el991397139809517928825569102_data);\n",
              "            })\n",
              "         });\n",
              "}\n",
              "</script>"
            ],
            "text/plain": [
              "PreparedData(topic_coordinates=              x         y  topics  cluster       Freq\n",
              "topic                                                \n",
              "1     -0.018667  0.001853       1        1  26.341986\n",
              "4      0.007288  0.011986       2        1  21.090942\n",
              "0      0.003909 -0.010144       3        1  20.112724\n",
              "2      0.004705 -0.001492       4        1  17.082362\n",
              "3      0.002765 -0.002203       5        1  15.371986, topic_info=           Term      Freq     Total Category  logprob  loglift\n",
              "740         etf  0.000000  0.000000  Default  30.0000  30.0000\n",
              "650         end  0.000000  0.000000  Default  29.0000  29.0000\n",
              "2200       year  0.000000  0.000000  Default  28.0000  28.0000\n",
              "1254      month  0.000000  0.000000  Default  27.0000  27.0000\n",
              "1255  month end  0.000000  0.000000  Default  26.0000  26.0000\n",
              "...         ...       ...       ...      ...      ...      ...\n",
              "818   financial  0.073293  0.404370   Topic5  -6.7669   0.1648\n",
              "337     company  0.068578  0.422095   Topic5  -6.8334   0.0554\n",
              "1805     result  0.055765  0.227016   Topic5  -7.0402   0.4688\n",
              "1771     report  0.054883  0.218287   Topic5  -7.0562   0.4920\n",
              "1273     nature  0.063500  0.469528   Topic5  -6.9103  -0.1281\n",
              "\n",
              "[258 rows x 6 columns], token_table=Empty DataFrame\n",
              "Columns: [Topic, Freq, Term]\n",
              "Index: [], R=30, lambda_step=0.01, plot_opts={'xlab': 'PC1', 'ylab': 'PC2'}, topic_order=[2, 5, 1, 3, 4])"
            ]
          },
          "metadata": {
            "tags": []
          },
          "execution_count": 44
        }
      ]
    },
    {
      "cell_type": "code",
      "metadata": {
        "id": "ShuvTUqa8SnZ",
        "outputId": "04bc26c2-b32d-4762-c655-7b7b9e20d9ae",
        "colab": {
          "base_uri": "https://localhost:8080/"
        }
      },
      "source": [
        "# Showing the words for each topic\n",
        "n_words_to_show = 8\n",
        "year2017 = display_topics(lda, tfidf_vectorizer.get_feature_names(), n_words_to_show)"
      ],
      "execution_count": null,
      "outputs": [
        {
          "output_type": "stream",
          "text": [
            "Topic 0:\n",
            "year, environmental, operation, nature, ore, corporation, iron, iron ore\n",
            "\n",
            "Topic 1:\n",
            "etf, energy, equity, index etf, robo, robotic, robotic automation, robotic automation index\n",
            "\n",
            "Topic 2:\n",
            "nature, company, financial, future, sale, financial liability, coffee, decaffeinate\n",
            "\n",
            "Topic 3:\n",
            "end, liability, december, month, month end, financial, short, corporation\n",
            "\n",
            "Topic 4:\n",
            "production, lude, audit, financial, environmental, environmental rehabilitation, environmental rehabilitation provision, rehabilitation provision\n",
            "\n"
          ],
          "name": "stdout"
        }
      ]
    },
    {
      "cell_type": "markdown",
      "metadata": {
        "id": "LTGeTpTW8VQt"
      },
      "source": [
        "**2018**"
      ]
    },
    {
      "cell_type": "code",
      "metadata": {
        "id": "xiCXcG_B8W8U",
        "outputId": "e920af2b-1edf-4560-e588-3f9c1d632f35",
        "colab": {
          "base_uri": "https://localhost:8080/",
          "height": 861
        }
      },
      "source": [
        "# Creating the rating's dataset\n",
        "scoped_data = filtered_data.loc[filtered_data.fileyear == 2018, :]\n",
        "\n",
        "# Training the LDA model\n",
        "tfidf_vectorizer = TfidfVectorizer(ngram_range = (1, 3),\n",
        "                                   max_df = maxdf,\n",
        "                                   min_df = mindf,\n",
        "                                   max_features = None)\n",
        "tfidf_fit = tfidf_vectorizer.fit_transform(scoped_data.text)\n",
        "lda = LatentDirichletAllocation(n_components = 5, \n",
        "                                random_state = 69)\n",
        "lda.fit(tfidf_fit)\n",
        "\n",
        "# LDA visualisation\n",
        "pyLDAvis.sklearn.prepare(lda, tfidf_fit, tfidf_vectorizer)"
      ],
      "execution_count": null,
      "outputs": [
        {
          "output_type": "execute_result",
          "data": {
            "text/html": [
              "\n",
              "<link rel=\"stylesheet\" type=\"text/css\" href=\"https://cdn.rawgit.com/bmabey/pyLDAvis/files/ldavis.v1.0.0.css\">\n",
              "\n",
              "\n",
              "<div id=\"ldavis_el991397139809508325449660980\"></div>\n",
              "<script type=\"text/javascript\">\n",
              "\n",
              "var ldavis_el991397139809508325449660980_data = {\"mdsDat\": {\"x\": [-0.017141907626272258, 0.00842370040708167, 0.0050096971698534425, 0.0036236417333123843, 8.486831602473735e-05], \"y\": [-0.0013127925964316, -0.009738193285144034, 0.013377572850504187, -0.0020606806796653505, -0.0002659062892632021], \"topics\": [1, 2, 3, 4, 5], \"cluster\": [1, 1, 1, 1, 1], \"Freq\": [26.071933243888868, 23.651850583510022, 22.535740092740937, 18.300438995469886, 9.440037084390289]}, \"tinfo\": {\"Term\": [\"financial result\", \"result\", \"december\", \"prepare\", \"accordance\", \"total energy\", \"total energy financial\", \"base total\", \"base total energy\", \"prepare accordance\", \"energy financial result\", \"energy financial\", \"result prepare\", \"result prepare accordance\", \"accordance ifrs\", \"prepare accordance ifrs\", \"financial result prepare\", \"ifrs\", \"claim\", \"value\", \"segment\", \"provision\", \"project\", \"total\", \"fair value\", \"fair\", \"cash\", \"prior\", \"environmental\", \"invest\", \"december\", \"ur\", \"fair\", \"fair value\", \"end\", \"fair value financial\", \"financial liability approximate\", \"carrying amount\", \"carrying\", \"value financial liability\", \"nature fair\", \"nature fair value\", \"value financial\", \"liability approximate carrying\", \"liability approximate\", \"term nature fair\", \"approximate carrying amount\", \"approximate carrying\", \"end december\", \"month end\", \"month\", \"rate\", \"obligation ur\", \"value\", \"short term nature\", \"financial liability\", \"approximate\", \"amount\", \"short term\", \"cost\", \"financial\", \"rehabilitation\", \"nature\", \"spark\", \"fund\", \"segment\", \"novaalgoma\", \"ome\", \"operate segment\", \"base nature\", \"financial assess collectively\", \"remain financial assess\", \"collectively base nature\", \"remain financial\", \"financial assess\", \"collectively base\", \"remain\", \"assess\", \"assess collectively base\", \"assess collectively\", \"spark land energy\", \"land energy\", \"spark land\", \"fund redwood\", \"ome fund\", \"resource\", \"redwood\", \"benefit\", \"evaluate\", \"arrangement\", \"ngx\", \"ngx shorcan energy\", \"taxis\", \"energy ome taxis\", \"gain sale ngx\", \"energy\", \"sale ngx shorcan\", \"ngx shorcan\", \"shorcan energy\", \"gain sale\", \"sale ngx\", \"shorcan\", \"gain\", \"ome taxis\", \"shorcan energy ome\", \"nature\", \"plan\", \"corp\", \"lude\", \"services\", \"company\", \"operate\", \"claim\", \"provision\", \"time initial\", \"time initial recognition\", \"initial\", \"initial recognition\", \"services contract loss\", \"services contract\", \"contract loss provision\", \"loss provision\", \"contract loss\", \"environmental services contract\", \"environmental services\", \"contract\", \"recognition\", \"obligation provision environmental\", \"obligation provision\", \"finance lease\", \"lease\", \"finance lease obligation\", \"lease obligation\", \"lease obligation provision\", \"finance\", \"provision environmental rehabilitation\", \"provision environmental\", \"nexgen\", \"veta\", \"underground\", \"operation go\", \"nature operation go\", \"go concern\", \"concern change\", \"operation go concern\", \"go\", \"concern change year\", \"change year end\", \"concern\", \"environmental\", \"change year\", \"go concern change\", \"time\", \"operation\", \"uncertain\", \"nature\", \"inherent\", \"company\", \"prior\", \"unregistered\", \"claim\", \"agreement\", \"prior agreement\", \"claim non compliance\", \"claim non\", \"environmental requirement\", \"title\", \"compliance regulatory\", \"non compliance regulatory\", \"non compliance\", \"expenditure\", \"property\", \"legal\", \"amendment\", \"construct operate\", \"construct operate tonne\", \"tonne day tpd\", \"tonne\", \"operate tonne day\", \"operate tonne\", \"application environmental permit\", \"tonne day\", \"permit construct\", \"permit construct operate\", \"day\", \"day tpd\", \"application environmental\", \"application\", \"construct\", \"environmental permit construct\", \"amendment application\", \"amendment application environmental\", \"tpd\", \"corporation\", \"compliance\", \"requirement\", \"environmental\", \"subject\", \"regulatory\", \"non\", \"company\", \"relate\", \"reduction\", \"tax credit\", \"tax\", \"nature\", \"credit\", \"item\", \"plan\", \"financial\", \"financial result\", \"total energy financial\", \"energy financial result\", \"total energy\", \"ifrs\", \"prepare accordance ifrs\", \"base total\", \"base total energy\", \"prepare accordance\", \"prepare\", \"result prepare accordance\", \"result prepare\", \"financial result prepare\", \"accordance ifrs\", \"accordance\", \"energy financial\", \"result\", \"total\", \"canadian hydrovac strategy\", \"financial result lude\", \"sector financial\", \"sector financial result\", \"strategy\", \"oilfield service segment\", \"strategy invest\", \"energy sector\", \"service segment\", \"canadian hydrovac\", \"energy sector financial\", \"oilfield service\", \"mullen group acquire\", \"mullen group\", \"service\", \"group\", \"canadian\", \"group acquire\", \"result lude oilfield\", \"lude oilfield service\", \"lude oilfield\", \"result lude\", \"invest energy sector\", \"hydrovac strategy\", \"hydrovac strategy invest\", \"group acquire canadian\", \"hydrovac\", \"mullen\", \"oilfield\", \"strategy invest energy\", \"project\", \"financial\", \"cash\", \"invest energy\", \"liability\", \"value\", \"energy\", \"base\", \"acquire canadian\", \"acquire canadian hydrovac\"], \"Freq\": [0.0, 0.0, 0.0, 0.0, 0.0, 0.0, 0.0, 0.0, 0.0, 0.0, 0.0, 0.0, 0.0, 0.0, 0.0, 0.0, 0.0, 0.0, 0.0, 0.0, 0.0, 0.0, 0.0, 0.0, 0.0, 0.0, 0.0, 0.0, 0.0, 0.0, 0.17458026407631838, 0.1264219245881186, 0.13369270366369312, 0.13369270366369312, 0.14852626063677216, 0.11412392619952522, 0.11412392619952522, 0.11412392619952522, 0.11412392619952522, 0.11412392619952522, 0.11412392619952522, 0.11412392619952522, 0.11412392619952522, 0.11412392619952522, 0.11412392619952522, 0.11412392619952522, 0.11412392619952522, 0.11412392619952522, 0.11157746272178859, 0.10753434958757262, 0.10753434958757262, 0.1211107371631247, 0.10210768635054508, 0.12859279862855919, 0.10854158296354224, 0.10854158296354224, 0.10854158296354224, 0.10854158296354224, 0.10854158296354224, 0.16207320046636667, 0.16734871030954632, 0.11879254945049286, 0.16389322743973364, 0.10472014729067103, 0.11474030560066317, 0.10819208540168124, 0.09551557092861569, 0.1067672127022273, 0.08485854007142912, 0.08192476116534023, 0.08192476116534023, 0.08192476116534023, 0.08192476116534023, 0.08192476116534023, 0.08192476116534023, 0.08192476116534023, 0.08192476116534023, 0.08192476116534023, 0.08192476116534023, 0.08192476116534023, 0.08121161412094335, 0.08121161412094335, 0.08121161412094335, 0.07857407945862716, 0.07857407945862716, 0.07857407945862716, 0.07857407945862716, 0.0895419134896935, 0.07702888378997626, 0.07702888378997626, 0.07610524387032142, 0.07610524387032142, 0.07610524387032142, 0.07610524387032142, 0.07610524387032142, 0.1483547014295671, 0.07610524387032142, 0.07610524387032142, 0.07610524387032142, 0.07610524387032142, 0.07610524387032142, 0.07610524387032142, 0.07610524387032142, 0.07610524387032142, 0.07610524387032142, 0.11287884166527447, 0.0855062364138915, 0.08321025151473384, 0.08560733677135128, 0.08320379924959231, 0.08409903078461618, 0.08015634063440984, 0.08109652318762914, 0.13661182674206937, 0.09870366303272744, 0.09870366303272744, 0.09870366303272744, 0.09870366303272744, 0.08445526422835409, 0.08445526422835409, 0.08445526422835409, 0.08445526422835409, 0.08445526422835409, 0.08445526422835409, 0.08445526422835409, 0.08445526422835409, 0.09394623081526048, 0.07873728287538105, 0.07873728287538105, 0.07873728287538105, 0.07873728287538105, 0.07873728287538105, 0.07873728287538105, 0.07873728287538105, 0.07873728287538105, 0.07873728287538105, 0.07873728287538105, 0.07616435398793428, 0.07578842250033382, 0.07578842250033382, 0.07520366126359461, 0.07520366126359461, 0.07520366126359461, 0.07520366126359461, 0.07520366126359461, 0.07520366126359461, 0.07520366126359461, 0.07520366126359461, 0.07520366126359461, 0.12895146595532272, 0.07520366126359461, 0.07520366126359461, 0.09390896500112356, 0.09078275627275362, 0.08055810700791265, 0.10638963306401471, 0.08057044226373586, 0.08141256765859174, 0.07799297903529305, 0.07173060544763608, 0.09229326793966065, 0.06577334566824938, 0.06577334566824938, 0.06577334566824938, 0.06577334566824938, 0.06577334566824938, 0.06577334566824938, 0.06577334566824938, 0.06577334566824938, 0.06577334566824938, 0.0624970572786291, 0.07502831303725588, 0.07458510736437196, 0.057023214292275706, 0.057023214292275706, 0.057023214292275706, 0.057023214292275706, 0.057023214292275706, 0.057023214292275706, 0.057023214292275706, 0.057023214292275706, 0.057023214292275706, 0.057023214292275706, 0.057023214292275706, 0.057023214292275706, 0.057023214292275706, 0.057023214292275706, 0.057023214292275706, 0.057023214292275706, 0.057023214292275706, 0.057023214292275706, 0.057023214292275706, 0.057023214292275706, 0.07919919780478248, 0.06301628286960995, 0.06302019588321596, 0.0802847864781131, 0.06302105015003041, 0.060876269157359705, 0.06299368534855943, 0.06853307517756181, 0.058936787208530655, 0.058742903378700646, 0.058742903378700646, 0.058742903378700646, 0.06756706255854224, 0.05872299840557583, 0.05872299840557583, 0.059056042166011305, 0.05978414651591337, 0.04309575085923815, 0.03351344332970777, 0.03351344332970777, 0.03351344332970777, 0.03351344332970777, 0.03351344332970777, 0.03351344332970777, 0.03351344332970777, 0.03351344332970777, 0.03351344332970777, 0.03351344332970777, 0.03351344332970777, 0.03351344332970777, 0.03351344332970777, 0.03351344332970777, 0.03351344332970777, 0.0411087133789473, 0.031836204406731836, 0.02792627912218664, 0.02792627912218664, 0.02792627912218664, 0.02792627912218664, 0.02792627912218664, 0.02792627912218664, 0.02792627912218664, 0.02792627912218664, 0.02792627912218664, 0.02792627912218664, 0.02792627912218664, 0.02792627912218664, 0.02792627912218664, 0.02792627912218664, 0.02792627912218664, 0.02792627912218664, 0.02792627912218664, 0.02792627912218664, 0.02792627912218664, 0.02792627912218664, 0.02792627912218664, 0.02792627912218664, 0.02792627912218664, 0.02792627912218664, 0.02792627912218664, 0.02792627912218664, 0.02792627912218664, 0.02792627912218664, 0.02792627912218664, 0.02792627912218664, 0.031773949571069604, 0.03725699726492074, 0.03079946076283923, 0.02792627912218664, 0.030823134703407914, 0.03078952402426956, 0.03220549438307347, 0.028969409118517066, 0.02792627912218664, 0.02792627912218664], \"Total\": [0.0, 0.0, 0.0, 0.0, 0.0, 0.0, 0.0, 0.0, 0.0, 0.0, 0.0, 0.0, 0.0, 0.0, 0.0, 0.0, 0.0, 0.0, 0.0, 0.0, 0.0, 0.0, 0.0, 0.0, 0.0, 0.0, 0.0, 0.0, 0.0, 0.0, 0.28489060252811405, 0.2367325261260255, 0.2520380673985842, 0.2520380673985842, 0.29202646400247273, 0.2244349734717597, 0.2244349734717597, 0.2244349734717597, 0.2244349734717597, 0.2244349734717597, 0.2244349734717597, 0.2244349734717597, 0.2244349734717597, 0.2244349734717597, 0.2244349734717597, 0.2244349734717597, 0.2244349734717597, 0.2244349734717597, 0.22188999197886444, 0.21784702684344245, 0.21784702684344245, 0.24697140464190132, 0.21241920006276238, 0.2689725961844004, 0.2274385973739513, 0.2274385973739513, 0.2274385973739513, 0.2274385973739513, 0.2274385973739513, 0.3402599106017893, 0.41396092706021714, 0.26515323586089745, 0.47031203156199647, 0.21769604810814397, 0.24453349737596178, 0.23157266572002058, 0.20849058040474486, 0.23649739341984316, 0.19783332905850137, 0.19490487182536195, 0.19490487182536195, 0.19490487182536195, 0.19490487182536195, 0.19490487182536195, 0.19490487182536195, 0.19490487182536195, 0.19490487182536195, 0.19490487182536195, 0.19490487182536195, 0.19490487182536195, 0.1941886420423573, 0.1941886420423573, 0.1941886420423573, 0.19155147160941802, 0.19155147160941802, 0.19155147160941802, 0.19155147160941802, 0.21936907408091108, 0.19000433012863388, 0.19000433012863388, 0.18908474611385434, 0.18908474611385434, 0.18908474611385434, 0.18908474611385434, 0.18908474611385434, 0.3864296635859729, 0.18908474611385434, 0.18908474611385434, 0.18908474611385434, 0.18908474611385434, 0.18908474611385434, 0.18908474611385434, 0.18908474611385434, 0.18908474611385434, 0.18908474611385434, 0.47031203156199647, 0.24775588685887764, 0.23279144956029568, 0.25317399294885895, 0.2394854013069931, 0.3067009427543351, 0.21965353792304443, 0.2586314247933877, 0.28366559571163613, 0.213019164823197, 0.213019164823197, 0.213019164823197, 0.213019164823197, 0.19877459323954033, 0.19877459323954033, 0.19877459323954033, 0.19877459323954033, 0.19877459323954033, 0.19877459323954033, 0.19877459323954033, 0.19877459323954033, 0.22617947110300307, 0.1930560402972459, 0.1930560402972459, 0.1930560402972459, 0.1930560402972459, 0.1930560402972459, 0.1930560402972459, 0.1930560402972459, 0.1930560402972459, 0.1930560402972459, 0.1930560402972459, 0.19047847272759463, 0.19010268018693927, 0.19010268018693927, 0.18952200537373134, 0.18952200537373134, 0.18952200537373134, 0.18952200537373134, 0.18952200537373134, 0.18952200537373134, 0.18952200537373134, 0.18952200537373134, 0.18952200537373134, 0.3522778694225884, 0.18952200537373134, 0.18952200537373134, 0.24901304758711817, 0.24386034375534216, 0.20858027265278956, 0.47031203156199647, 0.22827596215926035, 0.3067009427543351, 0.1974381758332323, 0.19117668184813127, 0.2586314247933877, 0.18521937555779047, 0.18521937555779047, 0.18521937555779047, 0.18521937555779047, 0.18521937555779047, 0.18521937555779047, 0.18521937555779047, 0.18521937555779047, 0.18521937555779047, 0.18194311896879325, 0.2229918667004534, 0.2303299933104996, 0.17647228053069564, 0.17647228053069564, 0.17647228053069564, 0.17647228053069564, 0.17647228053069564, 0.17647228053069564, 0.17647228053069564, 0.17647228053069564, 0.17647228053069564, 0.17647228053069564, 0.17647228053069564, 0.17647228053069564, 0.17647228053069564, 0.17647228053069564, 0.17647228053069564, 0.17647228053069564, 0.17647228053069564, 0.17647228053069564, 0.17647228053069564, 0.17647228053069564, 0.2572634810955295, 0.19955158758178224, 0.21041240320028404, 0.3522778694225884, 0.21586242018375046, 0.2064709613077366, 0.22892701030054333, 0.3067009427543351, 0.19502155828234014, 0.19664137731181558, 0.19664137731181558, 0.19664137731181558, 0.47031203156199647, 0.21512772763711122, 0.21512772763711122, 0.24775588685887764, 0.41396092706021714, 0.17477919103833203, 0.16519937586262504, 0.16519937586262504, 0.16519937586262504, 0.16519937586262504, 0.16519937586262504, 0.16519937586262504, 0.16519937586262504, 0.16519937586262504, 0.16519937586262504, 0.16519937586262504, 0.16519937586262504, 0.16519937586262504, 0.16519937586262504, 0.16519937586262504, 0.16519937586262504, 0.20412059398758348, 0.1798012095126708, 0.15961061607712757, 0.15961061607712757, 0.15961061607712757, 0.15961061607712757, 0.15961061607712757, 0.15961061607712757, 0.15961061607712757, 0.15961061607712757, 0.15961061607712757, 0.15961061607712757, 0.15961061607712757, 0.15961061607712757, 0.15961061607712757, 0.15961061607712757, 0.15961061607712757, 0.15961061607712757, 0.15961061607712757, 0.15961061607712757, 0.15961061607712757, 0.15961061607712757, 0.15961061607712757, 0.15961061607712757, 0.15961061607712757, 0.15961061607712757, 0.15961061607712757, 0.15961061607712757, 0.15961061607712757, 0.15961061607712757, 0.15961061607712757, 0.15961061607712757, 0.21129369529259498, 0.41396092706021714, 0.24705453999818577, 0.15961061607712757, 0.2546328533625516, 0.2689725961844004, 0.3864296635859729, 0.24512691298390557, 0.15961061607712757, 0.15961061607712757], \"Category\": [\"Default\", \"Default\", \"Default\", \"Default\", \"Default\", \"Default\", \"Default\", \"Default\", \"Default\", \"Default\", \"Default\", \"Default\", \"Default\", \"Default\", \"Default\", \"Default\", \"Default\", \"Default\", \"Default\", \"Default\", \"Default\", \"Default\", \"Default\", \"Default\", \"Default\", \"Default\", \"Default\", \"Default\", \"Default\", \"Default\", \"Topic1\", \"Topic1\", \"Topic1\", \"Topic1\", \"Topic1\", \"Topic1\", \"Topic1\", \"Topic1\", \"Topic1\", \"Topic1\", \"Topic1\", \"Topic1\", \"Topic1\", \"Topic1\", \"Topic1\", \"Topic1\", \"Topic1\", \"Topic1\", \"Topic1\", \"Topic1\", \"Topic1\", \"Topic1\", \"Topic1\", \"Topic1\", \"Topic1\", \"Topic1\", \"Topic1\", \"Topic1\", \"Topic1\", \"Topic1\", \"Topic1\", \"Topic1\", \"Topic1\", \"Topic2\", \"Topic2\", \"Topic2\", \"Topic2\", \"Topic2\", \"Topic2\", \"Topic2\", \"Topic2\", \"Topic2\", \"Topic2\", \"Topic2\", \"Topic2\", \"Topic2\", \"Topic2\", \"Topic2\", \"Topic2\", \"Topic2\", \"Topic2\", \"Topic2\", \"Topic2\", \"Topic2\", \"Topic2\", \"Topic2\", \"Topic2\", \"Topic2\", \"Topic2\", \"Topic2\", \"Topic2\", \"Topic2\", \"Topic2\", \"Topic2\", \"Topic2\", \"Topic2\", \"Topic2\", \"Topic2\", \"Topic2\", \"Topic2\", \"Topic2\", \"Topic2\", \"Topic2\", \"Topic2\", \"Topic2\", \"Topic2\", \"Topic2\", \"Topic2\", \"Topic2\", \"Topic2\", \"Topic2\", \"Topic2\", \"Topic2\", \"Topic3\", \"Topic3\", \"Topic3\", \"Topic3\", \"Topic3\", \"Topic3\", \"Topic3\", \"Topic3\", \"Topic3\", \"Topic3\", \"Topic3\", \"Topic3\", \"Topic3\", \"Topic3\", \"Topic3\", \"Topic3\", \"Topic3\", \"Topic3\", \"Topic3\", \"Topic3\", \"Topic3\", \"Topic3\", \"Topic3\", \"Topic3\", \"Topic3\", \"Topic3\", \"Topic3\", \"Topic3\", \"Topic3\", \"Topic3\", \"Topic3\", \"Topic3\", \"Topic3\", \"Topic3\", \"Topic3\", \"Topic3\", \"Topic3\", \"Topic3\", \"Topic3\", \"Topic3\", \"Topic3\", \"Topic3\", \"Topic3\", \"Topic3\", \"Topic3\", \"Topic4\", \"Topic4\", \"Topic4\", \"Topic4\", \"Topic4\", \"Topic4\", \"Topic4\", \"Topic4\", \"Topic4\", \"Topic4\", \"Topic4\", \"Topic4\", \"Topic4\", \"Topic4\", \"Topic4\", \"Topic4\", \"Topic4\", \"Topic4\", \"Topic4\", \"Topic4\", \"Topic4\", \"Topic4\", \"Topic4\", \"Topic4\", \"Topic4\", \"Topic4\", \"Topic4\", \"Topic4\", \"Topic4\", \"Topic4\", \"Topic4\", \"Topic4\", \"Topic4\", \"Topic4\", \"Topic4\", \"Topic4\", \"Topic4\", \"Topic4\", \"Topic4\", \"Topic4\", \"Topic4\", \"Topic4\", \"Topic4\", \"Topic4\", \"Topic4\", \"Topic4\", \"Topic4\", \"Topic4\", \"Topic4\", \"Topic4\", \"Topic4\", \"Topic4\", \"Topic5\", \"Topic5\", \"Topic5\", \"Topic5\", \"Topic5\", \"Topic5\", \"Topic5\", \"Topic5\", \"Topic5\", \"Topic5\", \"Topic5\", \"Topic5\", \"Topic5\", \"Topic5\", \"Topic5\", \"Topic5\", \"Topic5\", \"Topic5\", \"Topic5\", \"Topic5\", \"Topic5\", \"Topic5\", \"Topic5\", \"Topic5\", \"Topic5\", \"Topic5\", \"Topic5\", \"Topic5\", \"Topic5\", \"Topic5\", \"Topic5\", \"Topic5\", \"Topic5\", \"Topic5\", \"Topic5\", \"Topic5\", \"Topic5\", \"Topic5\", \"Topic5\", \"Topic5\", \"Topic5\", \"Topic5\", \"Topic5\", \"Topic5\", \"Topic5\", \"Topic5\", \"Topic5\", \"Topic5\", \"Topic5\", \"Topic5\", \"Topic5\", \"Topic5\", \"Topic5\", \"Topic5\", \"Topic5\", \"Topic5\", \"Topic5\", \"Topic5\"], \"logprob\": [30.0, 29.0, 28.0, 27.0, 26.0, 25.0, 24.0, 23.0, 22.0, 21.0, 20.0, 19.0, 18.0, 17.0, 16.0, 15.0, 14.0, 13.0, 12.0, 11.0, 10.0, 9.0, 8.0, 7.0, 6.0, 5.0, 4.0, 3.0, 2.0, 1.0, -6.2263, -6.5491, -6.4931, -6.4931, -6.3879, -6.6514, -6.6514, -6.6514, -6.6514, -6.6514, -6.6514, -6.6514, -6.6514, -6.6514, -6.6514, -6.6514, -6.6514, -6.6514, -6.674, -6.7109, -6.7109, -6.592, -6.7627, -6.532, -6.7016, -6.7016, -6.7016, -6.7016, -6.7016, -6.3006, -6.2686, -6.6113, -6.2895, -6.64, -6.5486, -6.6074, -6.732, -6.6206, -6.8503, -6.8855, -6.8855, -6.8855, -6.8855, -6.8855, -6.8855, -6.8855, -6.8855, -6.8855, -6.8855, -6.8855, -6.8942, -6.8942, -6.8942, -6.9272, -6.9272, -6.9272, -6.9272, -6.7966, -6.9471, -6.9471, -6.9592, -6.9592, -6.9592, -6.9592, -6.9592, -6.2917, -6.9592, -6.9592, -6.9592, -6.9592, -6.9592, -6.9592, -6.9592, -6.9592, -6.9592, -6.565, -6.8427, -6.8699, -6.8415, -6.87, -6.8593, -6.9073, -6.8956, -6.3258, -6.6508, -6.6508, -6.6508, -6.6508, -6.8067, -6.8067, -6.8067, -6.8067, -6.8067, -6.8067, -6.8067, -6.8067, -6.7002, -6.8768, -6.8768, -6.8768, -6.8768, -6.8768, -6.8768, -6.8768, -6.8768, -6.8768, -6.8768, -6.91, -6.915, -6.915, -6.9227, -6.9227, -6.9227, -6.9227, -6.9227, -6.9227, -6.9227, -6.9227, -6.9227, -6.3835, -6.9227, -6.9227, -6.7006, -6.7345, -6.854, -6.5758, -6.8538, -6.8434, -6.6781, -6.7618, -6.5098, -6.8485, -6.8485, -6.8485, -6.8485, -6.8485, -6.8485, -6.8485, -6.8485, -6.8485, -6.8996, -6.7169, -6.7228, -6.9913, -6.9913, -6.9913, -6.9913, -6.9913, -6.9913, -6.9913, -6.9913, -6.9913, -6.9913, -6.9913, -6.9913, -6.9913, -6.9913, -6.9913, -6.9913, -6.9913, -6.9913, -6.9913, -6.9913, -6.6628, -6.8914, -6.8913, -6.6492, -6.8913, -6.9259, -6.8917, -6.8074, -6.9583, -6.9616, -6.9616, -6.9616, -6.8216, -6.9619, -6.9619, -6.9563, -6.944, -6.6094, -6.8608, -6.8608, -6.8608, -6.8608, -6.8608, -6.8608, -6.8608, -6.8608, -6.8608, -6.8608, -6.8608, -6.8608, -6.8608, -6.8608, -6.8608, -6.6566, -6.9122, -7.0432, -7.0432, -7.0432, -7.0432, -7.0432, -7.0432, -7.0432, -7.0432, -7.0432, -7.0432, -7.0432, -7.0432, -7.0432, -7.0432, -7.0432, -7.0432, -7.0432, -7.0432, -7.0432, -7.0432, -7.0432, -7.0432, -7.0432, -7.0432, -7.0432, -7.0432, -7.0432, -7.0432, -7.0432, -7.0432, -6.9141, -6.7549, -6.9453, -7.0432, -6.9445, -6.9456, -6.9007, -7.0065, -7.0432, -7.0432], \"loglift\": [30.0, 29.0, 28.0, 27.0, 26.0, 25.0, 24.0, 23.0, 22.0, 21.0, 20.0, 19.0, 18.0, 17.0, 16.0, 15.0, 14.0, 13.0, 12.0, 11.0, 10.0, 9.0, 8.0, 7.0, 6.0, 5.0, 4.0, 3.0, 2.0, 1.0, 0.8546, 0.717, 0.7103, 0.7103, 0.6682, 0.668, 0.668, 0.668, 0.668, 0.668, 0.668, 0.668, 0.668, 0.668, 0.668, 0.668, 0.668, 0.668, 0.6568, 0.6383, 0.6383, 0.6317, 0.6118, 0.6064, 0.6046, 0.6046, 0.6046, 0.6046, 0.6046, 0.6026, 0.4386, 0.5414, 0.2901, 0.7099, 0.685, 0.6807, 0.6611, 0.6464, 0.5953, 0.575, 0.575, 0.575, 0.575, 0.575, 0.575, 0.575, 0.575, 0.575, 0.575, 0.575, 0.57, 0.57, 0.57, 0.5506, 0.5506, 0.5506, 0.5506, 0.5457, 0.5389, 0.5389, 0.5317, 0.5317, 0.5317, 0.5317, 0.5317, 0.4844, 0.5317, 0.5317, 0.5317, 0.5317, 0.5317, 0.5317, 0.5317, 0.5317, 0.5317, 0.0146, 0.3779, 0.413, 0.3574, 0.3845, 0.1479, 0.4337, 0.282, 0.7594, 0.7208, 0.7208, 0.7208, 0.7208, 0.6341, 0.6341, 0.6341, 0.6341, 0.6341, 0.6341, 0.6341, 0.6341, 0.6115, 0.5932, 0.5932, 0.5932, 0.5932, 0.5932, 0.5932, 0.5932, 0.5932, 0.5932, 0.5932, 0.5734, 0.5704, 0.5704, 0.5658, 0.5658, 0.5658, 0.5658, 0.5658, 0.5658, 0.5658, 0.5658, 0.5658, 0.4851, 0.5658, 0.5658, 0.5149, 0.5019, 0.5387, 0.0038, 0.4486, 0.1637, 0.7694, 0.718, 0.6678, 0.6629, 0.6629, 0.6629, 0.6629, 0.6629, 0.6629, 0.6629, 0.6629, 0.6629, 0.6297, 0.609, 0.5707, 0.5685, 0.5685, 0.5685, 0.5685, 0.5685, 0.5685, 0.5685, 0.5685, 0.5685, 0.5685, 0.5685, 0.5685, 0.5685, 0.5685, 0.5685, 0.5685, 0.5685, 0.5685, 0.5685, 0.5685, 0.5201, 0.5456, 0.4926, 0.2194, 0.4671, 0.4769, 0.4079, 0.1997, 0.5016, 0.49, 0.49, 0.49, -0.242, 0.3998, 0.3998, 0.2643, -0.2368, 0.9601, 0.765, 0.765, 0.765, 0.765, 0.765, 0.765, 0.765, 0.765, 0.765, 0.765, 0.765, 0.765, 0.765, 0.765, 0.765, 0.7577, 0.629, 0.617, 0.617, 0.617, 0.617, 0.617, 0.617, 0.617, 0.617, 0.617, 0.617, 0.617, 0.617, 0.617, 0.617, 0.617, 0.617, 0.617, 0.617, 0.617, 0.617, 0.617, 0.617, 0.617, 0.617, 0.617, 0.617, 0.617, 0.617, 0.617, 0.617, 0.4656, -0.0477, 0.2781, 0.617, 0.2487, 0.1928, -0.1246, 0.2247, 0.617, 0.617]}, \"token.table\": {\"Topic\": [], \"Freq\": [], \"Term\": []}, \"R\": 30, \"lambda.step\": 0.01, \"plot.opts\": {\"xlab\": \"PC1\", \"ylab\": \"PC2\"}, \"topic.order\": [4, 3, 1, 2, 5]};\n",
              "\n",
              "function LDAvis_load_lib(url, callback){\n",
              "  var s = document.createElement('script');\n",
              "  s.src = url;\n",
              "  s.async = true;\n",
              "  s.onreadystatechange = s.onload = callback;\n",
              "  s.onerror = function(){console.warn(\"failed to load library \" + url);};\n",
              "  document.getElementsByTagName(\"head\")[0].appendChild(s);\n",
              "}\n",
              "\n",
              "if(typeof(LDAvis) !== \"undefined\"){\n",
              "   // already loaded: just create the visualization\n",
              "   !function(LDAvis){\n",
              "       new LDAvis(\"#\" + \"ldavis_el991397139809508325449660980\", ldavis_el991397139809508325449660980_data);\n",
              "   }(LDAvis);\n",
              "}else if(typeof define === \"function\" && define.amd){\n",
              "   // require.js is available: use it to load d3/LDAvis\n",
              "   require.config({paths: {d3: \"https://cdnjs.cloudflare.com/ajax/libs/d3/3.5.5/d3.min\"}});\n",
              "   require([\"d3\"], function(d3){\n",
              "      window.d3 = d3;\n",
              "      LDAvis_load_lib(\"https://cdn.rawgit.com/bmabey/pyLDAvis/files/ldavis.v1.0.0.js\", function(){\n",
              "        new LDAvis(\"#\" + \"ldavis_el991397139809508325449660980\", ldavis_el991397139809508325449660980_data);\n",
              "      });\n",
              "    });\n",
              "}else{\n",
              "    // require.js not available: dynamically load d3 & LDAvis\n",
              "    LDAvis_load_lib(\"https://cdnjs.cloudflare.com/ajax/libs/d3/3.5.5/d3.min.js\", function(){\n",
              "         LDAvis_load_lib(\"https://cdn.rawgit.com/bmabey/pyLDAvis/files/ldavis.v1.0.0.js\", function(){\n",
              "                 new LDAvis(\"#\" + \"ldavis_el991397139809508325449660980\", ldavis_el991397139809508325449660980_data);\n",
              "            })\n",
              "         });\n",
              "}\n",
              "</script>"
            ],
            "text/plain": [
              "PreparedData(topic_coordinates=              x         y  topics  cluster       Freq\n",
              "topic                                                \n",
              "3     -0.017142 -0.001313       1        1  26.071933\n",
              "2      0.008424 -0.009738       2        1  23.651851\n",
              "0      0.005010  0.013378       3        1  22.535740\n",
              "1      0.003624 -0.002061       4        1  18.300439\n",
              "4      0.000085 -0.000266       5        1   9.440037, topic_info=                           Term      Freq     Total Category  logprob  loglift\n",
              "723            financial result  0.000000  0.000000  Default  30.0000  30.0000\n",
              "1588                     result  0.000000  0.000000  Default  29.0000  29.0000\n",
              "471                    december  0.000000  0.000000  Default  28.0000  28.0000\n",
              "1348                    prepare  0.000000  0.000000  Default  27.0000  27.0000\n",
              "23                   accordance  0.000000  0.000000  Default  26.0000  26.0000\n",
              "...                         ...       ...       ...      ...      ...      ...\n",
              "1886                      value  0.030790  0.268973   Topic5  -6.9456   0.1928\n",
              "561                      energy  0.032205  0.386430   Topic5  -6.9007  -0.1246\n",
              "175                        base  0.028969  0.245127   Topic5  -7.0065   0.2247\n",
              "43             acquire canadian  0.027926  0.159611   Topic5  -7.0432   0.6170\n",
              "44    acquire canadian hydrovac  0.027926  0.159611   Topic5  -7.0432   0.6170\n",
              "\n",
              "[268 rows x 6 columns], token_table=Empty DataFrame\n",
              "Columns: [Topic, Freq, Term]\n",
              "Index: [], R=30, lambda_step=0.01, plot_opts={'xlab': 'PC1', 'ylab': 'PC2'}, topic_order=[4, 3, 1, 2, 5])"
            ]
          },
          "metadata": {
            "tags": []
          },
          "execution_count": 46
        }
      ]
    },
    {
      "cell_type": "code",
      "metadata": {
        "id": "_RCxpcIZ8XkL",
        "outputId": "f1aaba3a-eec9-46f0-d607-b1d66314e333",
        "colab": {
          "base_uri": "https://localhost:8080/"
        }
      },
      "source": [
        "# Showing the words for each topic\n",
        "n_words_to_show = 8\n",
        "year2018 = display_topics(lda, tfidf_vectorizer.get_feature_names(), n_words_to_show)"
      ],
      "execution_count": null,
      "outputs": [
        {
          "output_type": "stream",
          "text": [
            "Topic 0:\n",
            "provision, environmental, nature, time initial recognition, time initial, initial, initial recognition, recognition\n",
            "\n",
            "Topic 1:\n",
            "claim, environmental, corporation, prior, property, legal, unregistered, company\n",
            "\n",
            "Topic 2:\n",
            "energy, fund, nature, segment, ome, spark, novaalgoma, benefit\n",
            "\n",
            "Topic 3:\n",
            "december, financial, nature, cost, end, fair, fair value, value\n",
            "\n",
            "Topic 4:\n",
            "financial result, result, financial, base total, prepare, accordance, prepare accordance, prepare accordance ifrs\n",
            "\n"
          ],
          "name": "stdout"
        }
      ]
    },
    {
      "cell_type": "markdown",
      "metadata": {
        "id": "p3x0OWIhB-Il"
      },
      "source": [
        "**Comparison Summary**"
      ]
    },
    {
      "cell_type": "code",
      "metadata": {
        "id": "oye8wLhhCAR8",
        "outputId": "bee20d32-e22c-4777-fcdb-6821a82a3848",
        "colab": {
          "base_uri": "https://localhost:8080/"
        }
      },
      "source": [
        "summary_layout(year2015,\n",
        "               year2016,\n",
        "               year2017,\n",
        "               year2018)"
      ],
      "execution_count": null,
      "outputs": [
        {
          "output_type": "stream",
          "text": [
            "topic 0\n",
            "december, end, corporation, nature, financial, month, month end, business\n",
            "nature, company, business, requirement, trevali, mining, customer, licence\n",
            "year, environmental, operation, nature, ore, corporation, iron, iron ore\n",
            "provision, environmental, nature, time initial recognition, time initial, initial, initial recognition, recognition\n",
            "\n",
            "\n",
            "topic 1\n",
            "energy, financial, company, service, nature, oil, contract, year\n",
            "energy, lude, december, financial, month, end, expect, energy services\n",
            "etf, energy, equity, index etf, robo, robotic, robotic automation, robotic automation index\n",
            "claim, environmental, corporation, prior, property, legal, unregistered, company\n",
            "\n",
            "\n",
            "topic 2\n",
            "risk uncertainty, uncertainty, look, forward, forward look, risk, subject inherent risk, look require assumption\n",
            "nature, assumption, subject, require assumption subject, require assumption, subject inherent risk, subject inherent, forward look require\n",
            "nature, company, financial, future, sale, financial liability, coffee, decaffeinate\n",
            "energy, fund, nature, segment, ome, spark, novaalgoma, benefit\n",
            "\n",
            "\n",
            "topic 3\n",
            "nexgen, nature, company, value, go, concern, go concern, infrastructure\n",
            "reclamation, expenditure, reclamation expenditure charge, reclamation expenditure, charge provision, charge provision environmental, expenditure charge, expenditure charge provision\n",
            "end, liability, december, month, month end, financial, short, corporation\n",
            "december, financial, nature, cost, end, fair, fair value, value\n",
            "\n",
            "\n",
            "topic 4\n",
            "financial, note, lude, contingency, sustain, rease, production, law\n",
            "environmental, rehabilitation, rimbey, legal, rehabilitation finance, rehabilitation finance liability, provision environmental rehabilitation, finance\n",
            "production, lude, audit, financial, environmental, environmental rehabilitation, environmental rehabilitation provision, rehabilitation provision\n",
            "financial result, result, financial, base total, prepare, accordance, prepare accordance, prepare accordance ifrs\n",
            "\n",
            "\n"
          ],
          "name": "stdout"
        }
      ]
    },
    {
      "cell_type": "markdown",
      "metadata": {
        "id": "UCFkKrcpKBtB"
      },
      "source": [
        "### Trying on the rating and the years"
      ]
    },
    {
      "cell_type": "code",
      "metadata": {
        "id": "S6Ao4ZsZKSFA",
        "outputId": "1f265f42-6fae-4039-9fed-8ab53f31096b",
        "colab": {
          "base_uri": "https://localhost:8080/",
          "height": 861
        }
      },
      "source": [
        "# Creating the rating's dataset\n",
        "scoped_data = filtered_data.loc[filtered_data.fileyear == 2015, :]\n",
        "scoped_data = scoped_data.loc[scoped_data.rating_quarters == 4, :]\n",
        "\n",
        "# Training the LDA model\n",
        "tfidf_vectorizer = TfidfVectorizer(ngram_range = (1, 3),\n",
        "                                   max_df = maxdf,\n",
        "                                   min_df = mindf,\n",
        "                                   max_features = None)\n",
        "tfidf_fit = tfidf_vectorizer.fit_transform(scoped_data.text)\n",
        "lda = LatentDirichletAllocation(n_components = 5, \n",
        "                                random_state = 69)\n",
        "lda.fit(tfidf_fit)\n",
        "\n",
        "# LDA visualisation\n",
        "pyLDAvis.sklearn.prepare(lda, tfidf_fit, tfidf_vectorizer)"
      ],
      "execution_count": null,
      "outputs": [
        {
          "output_type": "execute_result",
          "data": {
            "text/html": [
              "\n",
              "<link rel=\"stylesheet\" type=\"text/css\" href=\"https://cdn.rawgit.com/bmabey/pyLDAvis/files/ldavis.v1.0.0.css\">\n",
              "\n",
              "\n",
              "<div id=\"ldavis_el991397139809493923041670111\"></div>\n",
              "<script type=\"text/javascript\">\n",
              "\n",
              "var ldavis_el991397139809493923041670111_data = {\"mdsDat\": {\"x\": [0.012315563324636361, -0.013549233016962653, 0.0014432896239570687, -0.00016984517536580061, -3.977475626496402e-05], \"y\": [-0.004415997563029534, -0.004449656957592509, -0.0025680536268591738, 0.013398305617106157, -0.001964597469624944], \"topics\": [1, 2, 3, 4, 5], \"cluster\": [1, 1, 1, 1, 1], \"Freq\": [31.849543960649612, 22.398359056845887, 22.16034966520407, 15.740607259468536, 7.851140057831888]}, \"tinfo\": {\"Term\": [\"assumption subject inherent\", \"look require assumption\", \"require\", \"require assumption\", \"require assumption subject\", \"subject\", \"subject inherent\", \"subject inherent risk\", \"forward look require\", \"look require\", \"inherent\", \"assumption subject\", \"inherent risk uncertainty\", \"inherent risk\", \"risk\", \"nature forward look\", \"nature forward\", \"risk uncertainty\", \"uncertainty\", \"forward\", \"forward look\", \"look\", \"assumption\", \"note\", \"go concern note\", \"go\", \"concern\", \"go concern\", \"nature operation go\", \"concern note\", \"total energy\", \"property\", \"rease\", \"time initial\", \"financial determine time\", \"financial determine\", \"time\", \"determine time\", \"classification depend nature\", \"time initial recognition\", \"determine time initial\", \"purpose financial determine\", \"classification depend\", \"look information\", \"result performance achievement\", \"forward look information\", \"information\", \"result performance\", \"achievement\", \"performance achievement\", \"performance\", \"monitor\", \"nature leach\", \"process inherently limit\", \"process inherently\", \"process\", \"precisely monitor inventory\", \"precisely monitor\", \"precisely\", \"nature leach process\", \"limit ability precisely\", \"leach process inherently\", \"monitor inventory level\", \"limit ability\", \"level\", \"monitor inventory\", \"leach process\", \"limit\", \"ability\", \"total\", \"energy\", \"financial\", \"company\", \"end\", \"inherently limit\", \"inherently limit ability\", \"inherently\", \"leach\", \"value\", \"nature\", \"account\", \"base\", \"application\", \"fund\", \"settlement\", \"fair value subjective\", \"value subjective\", \"precise determination\", \"result precise determination\", \"determination\", \"necessarily\", \"estimate fair value\", \"nature estimate fair\", \"estimate\", \"precise\", \"nature estimate\", \"subjective\", \"subjective necessarily\", \"subjective necessarily result\", \"necessarily result\", \"value subjective necessarily\", \"estimate fair\", \"necessarily result precise\", \"accordingly nature estimate\", \"result precise\", \"accordingly nature\", \"accordingly\", \"dismantle\", \"structure\", \"structure rehabilitate\", \"nature restoration\", \"remove\", \"lude dismantle\", \"activity lude dismantle\", \"activity lude\", \"lude dismantle remove\", \"rehabilitate mine tailing\", \"nature restoration activity\", \"rehabilitate mine\", \"dismantle remove\", \"tailing\", \"restoration activity\", \"restoration activity lude\", \"structure rehabilitate mine\", \"remove structure\", \"remove structure rehabilitate\", \"ifrs\", \"mine\", \"capital\", \"rehabilitate\", \"nature\", \"company\", \"equity\", \"lude\", \"change\", \"nexgen\", \"ome tax\", \"defer ome tax\", \"tax\", \"tax liability\", \"defer\", \"provision environmental\", \"provision environmental rehabilitation\", \"defer ome\", \"ome tax liability\", \"rehabilitation\", \"rehabilitation defer\", \"rehabilitation defer ome\", \"environmental rehabilitation\", \"environmental rehabilitation defer\", \"nexgen energy nexgen\", \"energy nexgen\", \"nexgen energy\", \"interest nexgen\", \"interest nexgen energy\", \"term investment\", \"investment equity\", \"investment equity interest\", \"equity interest nexgen\", \"term investment equity\", \"mega hold significant\", \"mega hold\", \"mega\", \"long term investment\", \"equity interest\", \"significant\", \"environmental\", \"provision\", \"long term\", \"hold significant\", \"hold significant long\", \"significant long term\", \"significant long\", \"company\", \"ome\", \"term\", \"liability\", \"financial\", \"go\", \"operation go concern\", \"operation go\", \"go concern note\", \"go concern\", \"nature operation go\", \"concern\", \"concern note\", \"note\", \"rimbey\", \"deficit nature\", \"deficit\", \"deficit nature operation\", \"production\", \"classification determine\", \"classification determine initial\", \"recognition depend\", \"recognition depend nature\", \"determine initial\", \"determine initial recognition\", \"initial recognition depend\", \"operation\", \"nature operation\", \"commitment\", \"total equity\", \"total equity nature\", \"note commitment\", \"equity nature operation\", \"equity nature\", \"commitment contingency\", \"contingency\", \"note commitment contingency\", \"contingency note\", \"energy\", \"commitment contingency note\", \"nature\", \"depend nature purpose\", \"classification\", \"depend nature\", \"nature purpose\", \"determine\", \"initial recognition\", \"purpose financial\", \"purpose\", \"look require assumption\", \"assumption subject inherent\", \"require assumption\", \"require assumption subject\", \"inherent\", \"look require\", \"subject inherent risk\", \"subject inherent\", \"subject\", \"require\", \"inherent risk\", \"assumption subject\", \"forward look require\", \"inherent risk uncertainty\", \"risk uncertainty\", \"risk\", \"nature forward\", \"nature forward look\", \"uncertainty\", \"look\", \"forward look\", \"forward\", \"assumption\", \"condition product safety\", \"condition product\", \"rural\", \"greenhouse\", \"rural economy\", \"rural economy work\", \"ride academy greenhouse\", \"greenhouse gas\", \"nature\", \"financial\", \"lude\", \"initial\", \"nature operation\", \"operation\", \"equity\"], \"Freq\": [0.0, 0.0, 0.0, 0.0, 0.0, 0.0, 0.0, 0.0, 0.0, 0.0, 0.0, 0.0, 0.0, 0.0, 0.0, 0.0, 0.0, 0.0, 0.0, 0.0, 0.0, 0.0, 0.0, 0.0, 0.0, 0.0, 0.0, 0.0, 0.0, 0.0, 0.1101097290321335, 0.09604180256232606, 0.11337196085399211, 0.09306370549553185, 0.09306370549553185, 0.09306370549553185, 0.09306370549553185, 0.09306370549553185, 0.09306370549553185, 0.09306370549553185, 0.09306370549553185, 0.09306370549553185, 0.09306370549553185, 0.08843402056760295, 0.08843402056760295, 0.08843402056760295, 0.08843402056760295, 0.08843402056760295, 0.08843402056760295, 0.08843402056760295, 0.10190573096468089, 0.08702119056945411, 0.08702119056945411, 0.08702119056945411, 0.08702119056945411, 0.08702119056945411, 0.08702119056945411, 0.08702119056945411, 0.08702119056945411, 0.08702119056945411, 0.08702119056945411, 0.08702119056945411, 0.08702119056945411, 0.08702119056945411, 0.08702119056945411, 0.08702119056945411, 0.08702119056945411, 0.08702119056945411, 0.08702119056945411, 0.10269076343539878, 0.12422538414294487, 0.135160414906, 0.14505397667070943, 0.09582301503742104, 0.08702119056945411, 0.08702119056945411, 0.08702119056945411, 0.08702119056945411, 0.09817443952263107, 0.1139990172778812, 0.09060539323883196, 0.08864284564986699, 0.08891696629140829, 0.08076993753535477, 0.07360081164207213, 0.06642014122635219, 0.06642014122635219, 0.06642014122635219, 0.06642014122635219, 0.06642014122635219, 0.06642014122635219, 0.06642014122635219, 0.06642014122635219, 0.06642014122635219, 0.06642014122635219, 0.06642014122635219, 0.06642014122635219, 0.06642014122635219, 0.06642014122635219, 0.06642014122635219, 0.06642014122635219, 0.06642014122635219, 0.06642014122635219, 0.06642014122635219, 0.06642014122635219, 0.06642014122635219, 0.06642014122635219, 0.06620461469550157, 0.06620461469550157, 0.06620461469550157, 0.06620461469550157, 0.06620461469550157, 0.06620461469550157, 0.06620461469550157, 0.06620461469550157, 0.06620461469550157, 0.06620461469550157, 0.06620461469550157, 0.06620461469550157, 0.06620461469550157, 0.06620461469550157, 0.06620461469550157, 0.06620461469550157, 0.06620461469550157, 0.06620461469550157, 0.06620461469550157, 0.07828710473333612, 0.06620461469550157, 0.07384368439154514, 0.06620461469550157, 0.08388005579538449, 0.08264140422861262, 0.07169819199936661, 0.07025680684570441, 0.06911113233865881, 0.09391167451714083, 0.07316389168950815, 0.07316389168950815, 0.07316389168950815, 0.07316389168950815, 0.07316389168950815, 0.07316389168950815, 0.07316389168950815, 0.07316389168950815, 0.07316389168950815, 0.07316389168950815, 0.07316389168950815, 0.07316389168950815, 0.07316389168950815, 0.07316389168950815, 0.06352486029338104, 0.06352486029338104, 0.06352486029338104, 0.06352486029338104, 0.06352486029338104, 0.06352486029338104, 0.06352486029338104, 0.06352486029338104, 0.06352486029338104, 0.06352486029338104, 0.06352486029338104, 0.06352486029338104, 0.06352486029338104, 0.06352486029338104, 0.06352486029338104, 0.07468212571682009, 0.06867455136638653, 0.06867455136638653, 0.06352486029338104, 0.06352486029338104, 0.06352486029338104, 0.06352486029338104, 0.06352486029338104, 0.09275417421834876, 0.06868061867591967, 0.06898205677822644, 0.06867824841373847, 0.0770231320830467, 0.08045528707138701, 0.08045528707138701, 0.08045528707138701, 0.08045528707138701, 0.08045528707138701, 0.08045528707138701, 0.08045528707138701, 0.08045528707138701, 0.09087861571851588, 0.07024402619623991, 0.06184315934881115, 0.06184315934881115, 0.06184315934881115, 0.06157629230598106, 0.05480047306441945, 0.05480047306441945, 0.05480047306441945, 0.05480047306441945, 0.05480047306441945, 0.05480047306441945, 0.05480047306441945, 0.0716883259838664, 0.0716883259838664, 0.05042321394808981, 0.05042321394808981, 0.05042321394808981, 0.05042321394808981, 0.05042321394808981, 0.05042321394808981, 0.05042321394808981, 0.05042321394808981, 0.05042321394808981, 0.05042321394808981, 0.061522750094171116, 0.05042321394808981, 0.06248630570390115, 0.0514313590092193, 0.0514313590092193, 0.0514313590092193, 0.0514313590092193, 0.0514313590092193, 0.0514313590092193, 0.0514313590092193, 0.0514313590092193, 0.04207489344327452, 0.04207489344327452, 0.04207489344327452, 0.04207489344327452, 0.04207489344327452, 0.04207489344327452, 0.04207489344327452, 0.04207489344327452, 0.04207489344327452, 0.04207489344327452, 0.04207489344327452, 0.04207489344327452, 0.04207489344327452, 0.04207489344327452, 0.039532484498130765, 0.039532484498130765, 0.039532484498130765, 0.039532484498130765, 0.039532484498130765, 0.039520447803269985, 0.039520447803269985, 0.039520447803269985, 0.037551246926144886, 0.013338844371510953, 0.013338844371510953, 0.013338844371510953, 0.013338844371510953, 0.013338844371510953, 0.013338844371510953, 0.013338844371510953, 0.013338844371510953, 0.026457806656964584, 0.013341790637955283, 0.013341767720625794, 0.013341756184950017, 0.01334137994437331, 0.01334137994437331, 0.013341238077868882], \"Total\": [0.0, 0.0, 0.0, 0.0, 0.0, 0.0, 0.0, 0.0, 0.0, 0.0, 0.0, 0.0, 0.0, 0.0, 0.0, 0.0, 0.0, 0.0, 0.0, 0.0, 0.0, 0.0, 0.0, 0.0, 0.0, 0.0, 0.0, 0.0, 0.0, 0.0, 0.2146783589221318, 0.20060926494662173, 0.23894486917452007, 0.1976345764196796, 0.1976345764196796, 0.1976345764196796, 0.1976345764196796, 0.1976345764196796, 0.1976345764196796, 0.1976345764196796, 0.1976345764196796, 0.1976345764196796, 0.1976345764196796, 0.1930017280243733, 0.1930017280243733, 0.1930017280243733, 0.1930017280243733, 0.1930017280243733, 0.1930017280243733, 0.1930017280243733, 0.2233999583043703, 0.1915918159731949, 0.1915918159731949, 0.1915918159731949, 0.1915918159731949, 0.1915918159731949, 0.1915918159731949, 0.1915918159731949, 0.1915918159731949, 0.1915918159731949, 0.1915918159731949, 0.1915918159731949, 0.1915918159731949, 0.1915918159731949, 0.1915918159731949, 0.1915918159731949, 0.1915918159731949, 0.1915918159731949, 0.1915918159731949, 0.23002731976305033, 0.2899703867489983, 0.3235401520048878, 0.35854832846551876, 0.21732663358334733, 0.1915918159731949, 0.1915918159731949, 0.1915918159731949, 0.1915918159731949, 0.2320956814828914, 0.3405768633135969, 0.21211321984807574, 0.20946075325381233, 0.2040906477952567, 0.195943055470926, 0.1887733156428486, 0.1815960882952286, 0.1815960882952286, 0.1815960882952286, 0.1815960882952286, 0.1815960882952286, 0.1815960882952286, 0.1815960882952286, 0.1815960882952286, 0.1815960882952286, 0.1815960882952286, 0.1815960882952286, 0.1815960882952286, 0.1815960882952286, 0.1815960882952286, 0.1815960882952286, 0.1815960882952286, 0.1815960882952286, 0.1815960882952286, 0.1815960882952286, 0.1815960882952286, 0.1815960882952286, 0.1815960882952286, 0.18138055127627237, 0.18138055127627237, 0.18138055127627237, 0.18138055127627237, 0.18138055127627237, 0.18138055127627237, 0.18138055127627237, 0.18138055127627237, 0.18138055127627237, 0.18138055127627237, 0.18138055127627237, 0.18138055127627237, 0.18138055127627237, 0.18138055127627237, 0.18138055127627237, 0.18138055127627237, 0.18138055127627237, 0.18138055127627237, 0.18138055127627237, 0.23232872026087378, 0.18138055127627237, 0.22210259779810693, 0.18138055127627237, 0.3405768633135969, 0.35854832846551876, 0.2320899780953872, 0.23166558335416285, 0.2201898096298612, 0.20925401443817945, 0.18850926470180931, 0.18850926470180931, 0.18850926470180931, 0.18850926470180931, 0.18850926470180931, 0.18850926470180931, 0.18850926470180931, 0.18850926470180931, 0.18850926470180931, 0.18850926470180931, 0.18850926470180931, 0.18850926470180931, 0.18850926470180931, 0.18850926470180931, 0.17886946085238523, 0.17886946085238523, 0.17886946085238523, 0.17886946085238523, 0.17886946085238523, 0.17886946085238523, 0.17886946085238523, 0.17886946085238523, 0.17886946085238523, 0.17886946085238523, 0.17886946085238523, 0.17886946085238523, 0.17886946085238523, 0.17886946085238523, 0.17886946085238523, 0.21196161689504653, 0.20187999600339, 0.20187999600339, 0.17886946085238523, 0.17886946085238523, 0.17886946085238523, 0.17886946085238523, 0.17886946085238523, 0.35854832846551876, 0.20712317453887896, 0.20895439732838111, 0.2111048453501384, 0.3235401520048878, 0.20419363931249884, 0.20419363931249884, 0.20419363931249884, 0.20419363931249884, 0.20419363931249884, 0.20419363931249884, 0.20419363931249884, 0.20419363931249884, 0.250298807737374, 0.19398198017605392, 0.18558382121572464, 0.18558382121572464, 0.18558382121572464, 0.18531310623008132, 0.1785407244111478, 0.1785407244111478, 0.1785407244111478, 0.1785407244111478, 0.1785407244111478, 0.1785407244111478, 0.1785407244111478, 0.24050210318623638, 0.24050210318623638, 0.1741629327518101, 0.1741629327518101, 0.1741629327518101, 0.1741629327518101, 0.1741629327518101, 0.1741629327518101, 0.1741629327518101, 0.1741629327518101, 0.1741629327518101, 0.1741629327518101, 0.2899703867489983, 0.1741629327518101, 0.3405768633135969, 0.21876530413406248, 0.21876530413406248, 0.21876530413406248, 0.21876530413406248, 0.21876530413406248, 0.21876530413406248, 0.21876530413406248, 0.21876530413406248, 0.17722938107051417, 0.17722938107051417, 0.17722938107051417, 0.17722938107051417, 0.17722938107051417, 0.17722938107051417, 0.17722938107051417, 0.17722938107051417, 0.17722938107051417, 0.17722938107051417, 0.17722938107051417, 0.17722938107051417, 0.17722938107051417, 0.17722938107051417, 0.19251782364802644, 0.19251782364802644, 0.19251782364802644, 0.19251782364802644, 0.19251782364802644, 0.21052263219139583, 0.21052263219139583, 0.21052263219139583, 0.20411960414556246, 0.16244400312710136, 0.16244400312710136, 0.16244400312710136, 0.16244400312710136, 0.16244400312710136, 0.16244400312710136, 0.16244400312710136, 0.16244400312710136, 0.3405768633135969, 0.3235401520048878, 0.23166558335416285, 0.23489084670279417, 0.24050210318623638, 0.24050210318623638, 0.2320899780953872], \"Category\": [\"Default\", \"Default\", \"Default\", \"Default\", \"Default\", \"Default\", \"Default\", \"Default\", \"Default\", \"Default\", \"Default\", \"Default\", \"Default\", \"Default\", \"Default\", \"Default\", \"Default\", \"Default\", \"Default\", \"Default\", \"Default\", \"Default\", \"Default\", \"Default\", \"Default\", \"Default\", \"Default\", \"Default\", \"Default\", \"Default\", \"Topic1\", \"Topic1\", \"Topic1\", \"Topic1\", \"Topic1\", \"Topic1\", \"Topic1\", \"Topic1\", \"Topic1\", \"Topic1\", \"Topic1\", \"Topic1\", \"Topic1\", \"Topic1\", \"Topic1\", \"Topic1\", \"Topic1\", \"Topic1\", \"Topic1\", \"Topic1\", \"Topic1\", \"Topic1\", \"Topic1\", \"Topic1\", \"Topic1\", \"Topic1\", \"Topic1\", \"Topic1\", \"Topic1\", \"Topic1\", \"Topic1\", \"Topic1\", \"Topic1\", \"Topic1\", \"Topic1\", \"Topic1\", \"Topic1\", \"Topic1\", \"Topic1\", \"Topic1\", \"Topic1\", \"Topic1\", \"Topic1\", \"Topic1\", \"Topic1\", \"Topic1\", \"Topic1\", \"Topic1\", \"Topic1\", \"Topic1\", \"Topic1\", \"Topic1\", \"Topic2\", \"Topic2\", \"Topic2\", \"Topic2\", \"Topic2\", \"Topic2\", \"Topic2\", \"Topic2\", \"Topic2\", \"Topic2\", \"Topic2\", \"Topic2\", \"Topic2\", \"Topic2\", \"Topic2\", \"Topic2\", \"Topic2\", \"Topic2\", \"Topic2\", \"Topic2\", \"Topic2\", \"Topic2\", \"Topic2\", \"Topic2\", \"Topic2\", \"Topic2\", \"Topic2\", \"Topic2\", \"Topic2\", \"Topic2\", \"Topic2\", \"Topic2\", \"Topic2\", \"Topic2\", \"Topic2\", \"Topic2\", \"Topic2\", \"Topic2\", \"Topic2\", \"Topic2\", \"Topic2\", \"Topic2\", \"Topic2\", \"Topic2\", \"Topic2\", \"Topic2\", \"Topic2\", \"Topic2\", \"Topic2\", \"Topic2\", \"Topic2\", \"Topic2\", \"Topic2\", \"Topic3\", \"Topic3\", \"Topic3\", \"Topic3\", \"Topic3\", \"Topic3\", \"Topic3\", \"Topic3\", \"Topic3\", \"Topic3\", \"Topic3\", \"Topic3\", \"Topic3\", \"Topic3\", \"Topic3\", \"Topic3\", \"Topic3\", \"Topic3\", \"Topic3\", \"Topic3\", \"Topic3\", \"Topic3\", \"Topic3\", \"Topic3\", \"Topic3\", \"Topic3\", \"Topic3\", \"Topic3\", \"Topic3\", \"Topic3\", \"Topic3\", \"Topic3\", \"Topic3\", \"Topic3\", \"Topic3\", \"Topic3\", \"Topic3\", \"Topic3\", \"Topic3\", \"Topic3\", \"Topic3\", \"Topic3\", \"Topic3\", \"Topic4\", \"Topic4\", \"Topic4\", \"Topic4\", \"Topic4\", \"Topic4\", \"Topic4\", \"Topic4\", \"Topic4\", \"Topic4\", \"Topic4\", \"Topic4\", \"Topic4\", \"Topic4\", \"Topic4\", \"Topic4\", \"Topic4\", \"Topic4\", \"Topic4\", \"Topic4\", \"Topic4\", \"Topic4\", \"Topic4\", \"Topic4\", \"Topic4\", \"Topic4\", \"Topic4\", \"Topic4\", \"Topic4\", \"Topic4\", \"Topic4\", \"Topic4\", \"Topic4\", \"Topic4\", \"Topic4\", \"Topic4\", \"Topic4\", \"Topic4\", \"Topic4\", \"Topic4\", \"Topic4\", \"Topic4\", \"Topic4\", \"Topic4\", \"Topic5\", \"Topic5\", \"Topic5\", \"Topic5\", \"Topic5\", \"Topic5\", \"Topic5\", \"Topic5\", \"Topic5\", \"Topic5\", \"Topic5\", \"Topic5\", \"Topic5\", \"Topic5\", \"Topic5\", \"Topic5\", \"Topic5\", \"Topic5\", \"Topic5\", \"Topic5\", \"Topic5\", \"Topic5\", \"Topic5\", \"Topic5\", \"Topic5\", \"Topic5\", \"Topic5\", \"Topic5\", \"Topic5\", \"Topic5\", \"Topic5\", \"Topic5\", \"Topic5\", \"Topic5\", \"Topic5\", \"Topic5\", \"Topic5\", \"Topic5\"], \"logprob\": [30.0, 29.0, 28.0, 27.0, 26.0, 25.0, 24.0, 23.0, 22.0, 21.0, 20.0, 19.0, 18.0, 17.0, 16.0, 15.0, 14.0, 13.0, 12.0, 11.0, 10.0, 9.0, 8.0, 7.0, 6.0, 5.0, 4.0, 3.0, 2.0, 1.0, -6.1341, -6.2708, -6.1049, -6.3023, -6.3023, -6.3023, -6.3023, -6.3023, -6.3023, -6.3023, -6.3023, -6.3023, -6.3023, -6.3533, -6.3533, -6.3533, -6.3533, -6.3533, -6.3533, -6.3533, -6.2115, -6.3694, -6.3694, -6.3694, -6.3694, -6.3694, -6.3694, -6.3694, -6.3694, -6.3694, -6.3694, -6.3694, -6.3694, -6.3694, -6.3694, -6.3694, -6.3694, -6.3694, -6.3694, -6.2038, -6.0134, -5.9291, -5.8584, -6.273, -6.3694, -6.3694, -6.3694, -6.3694, -6.2488, -6.0993, -6.329, -6.3509, -5.9958, -6.0919, -6.1848, -6.2875, -6.2875, -6.2875, -6.2875, -6.2875, -6.2875, -6.2875, -6.2875, -6.2875, -6.2875, -6.2875, -6.2875, -6.2875, -6.2875, -6.2875, -6.2875, -6.2875, -6.2875, -6.2875, -6.2875, -6.2875, -6.2875, -6.2907, -6.2907, -6.2907, -6.2907, -6.2907, -6.2907, -6.2907, -6.2907, -6.2907, -6.2907, -6.2907, -6.2907, -6.2907, -6.2907, -6.2907, -6.2907, -6.2907, -6.2907, -6.2907, -6.1231, -6.2907, -6.1815, -6.2907, -6.0541, -6.069, -6.211, -6.2313, -6.2478, -5.9305, -6.1801, -6.1801, -6.1801, -6.1801, -6.1801, -6.1801, -6.1801, -6.1801, -6.1801, -6.1801, -6.1801, -6.1801, -6.1801, -6.1801, -6.3214, -6.3214, -6.3214, -6.3214, -6.3214, -6.3214, -6.3214, -6.3214, -6.3214, -6.3214, -6.3214, -6.3214, -6.3214, -6.3214, -6.3214, -6.1596, -6.2434, -6.2434, -6.3214, -6.3214, -6.3214, -6.3214, -6.3214, -5.9429, -6.2433, -6.239, -6.2434, -6.1287, -5.7431, -5.7431, -5.7431, -5.7431, -5.7431, -5.7431, -5.7431, -5.7431, -5.6212, -5.8788, -6.0062, -6.0062, -6.0062, -6.0105, -6.1271, -6.1271, -6.1271, -6.1271, -6.1271, -6.1271, -6.1271, -5.8584, -5.8584, -6.2103, -6.2103, -6.2103, -6.2103, -6.2103, -6.2103, -6.2103, -6.2103, -6.2103, -6.2103, -6.0113, -6.2103, -5.9958, -6.1905, -6.1905, -6.1905, -6.1905, -6.1905, -6.1905, -6.1905, -6.1905, -5.6957, -5.6957, -5.6957, -5.6957, -5.6957, -5.6957, -5.6957, -5.6957, -5.6957, -5.6957, -5.6957, -5.6957, -5.6957, -5.6957, -5.758, -5.758, -5.758, -5.758, -5.758, -5.7584, -5.7584, -5.7584, -5.8095, -6.8445, -6.8445, -6.8445, -6.8445, -6.8445, -6.8445, -6.8445, -6.8445, -6.1596, -6.8443, -6.8443, -6.8443, -6.8443, -6.8443, -6.8443], \"loglift\": [30.0, 29.0, 28.0, 27.0, 26.0, 25.0, 24.0, 23.0, 22.0, 21.0, 20.0, 19.0, 18.0, 17.0, 16.0, 15.0, 14.0, 13.0, 12.0, 11.0, 10.0, 9.0, 8.0, 7.0, 6.0, 5.0, 4.0, 3.0, 2.0, 1.0, 0.4765, 0.4076, 0.3986, 0.391, 0.391, 0.391, 0.391, 0.391, 0.391, 0.391, 0.391, 0.391, 0.391, 0.3637, 0.3637, 0.3637, 0.3637, 0.3637, 0.3637, 0.3637, 0.3592, 0.3549, 0.3549, 0.3549, 0.3549, 0.3549, 0.3549, 0.3549, 0.3549, 0.3549, 0.3549, 0.3549, 0.3549, 0.3549, 0.3549, 0.3549, 0.3549, 0.3549, 0.3549, 0.3377, 0.2965, 0.2713, 0.2392, 0.3252, 0.3549, 0.3549, 0.3549, 0.3549, 0.2837, 0.0497, 0.2935, 0.2842, 0.6653, 0.61, 0.5543, 0.4904, 0.4904, 0.4904, 0.4904, 0.4904, 0.4904, 0.4904, 0.4904, 0.4904, 0.4904, 0.4904, 0.4904, 0.4904, 0.4904, 0.4904, 0.4904, 0.4904, 0.4904, 0.4904, 0.4904, 0.4904, 0.4904, 0.4883, 0.4883, 0.4883, 0.4883, 0.4883, 0.4883, 0.4883, 0.4883, 0.4883, 0.4883, 0.4883, 0.4883, 0.4883, 0.4883, 0.4883, 0.4883, 0.4883, 0.4883, 0.4883, 0.4084, 0.4883, 0.395, 0.4883, 0.0949, 0.0286, 0.3215, 0.303, 0.3374, 0.7057, 0.5604, 0.5604, 0.5604, 0.5604, 0.5604, 0.5604, 0.5604, 0.5604, 0.5604, 0.5604, 0.5604, 0.5604, 0.5604, 0.5604, 0.4716, 0.4716, 0.4716, 0.4716, 0.4716, 0.4716, 0.4716, 0.4716, 0.4716, 0.4716, 0.4716, 0.4716, 0.4716, 0.4716, 0.4716, 0.4637, 0.4286, 0.4286, 0.4716, 0.4716, 0.4716, 0.4716, 0.4716, 0.1548, 0.403, 0.3986, 0.3839, 0.0716, 0.9176, 0.9176, 0.9176, 0.9176, 0.9176, 0.9176, 0.9176, 0.9176, 0.8358, 0.8331, 0.75, 0.75, 0.75, 0.7472, 0.6678, 0.6678, 0.6678, 0.6678, 0.6678, 0.6678, 0.6678, 0.6385, 0.6385, 0.6094, 0.6094, 0.6094, 0.6094, 0.6094, 0.6094, 0.6094, 0.6094, 0.6094, 0.6094, 0.2986, 0.6094, 0.1532, 0.4012, 0.4012, 0.4012, 0.4012, 0.4012, 0.4012, 0.4012, 0.4012, 1.1065, 1.1065, 1.1065, 1.1065, 1.1065, 1.1065, 1.1065, 1.1065, 1.1065, 1.1065, 1.1065, 1.1065, 1.1065, 1.1065, 0.9614, 0.9614, 0.9614, 0.9614, 0.9614, 0.8717, 0.8717, 0.8717, 0.8515, 0.0449, 0.0449, 0.0449, 0.0449, 0.0449, 0.0449, 0.0449, 0.0449, -0.0106, -0.6439, -0.3099, -0.3237, -0.3473, -0.3473, -0.3118]}, \"token.table\": {\"Topic\": [], \"Freq\": [], \"Term\": []}, \"R\": 30, \"lambda.step\": 0.01, \"plot.opts\": {\"xlab\": \"PC1\", \"ylab\": \"PC2\"}, \"topic.order\": [1, 3, 4, 2, 5]};\n",
              "\n",
              "function LDAvis_load_lib(url, callback){\n",
              "  var s = document.createElement('script');\n",
              "  s.src = url;\n",
              "  s.async = true;\n",
              "  s.onreadystatechange = s.onload = callback;\n",
              "  s.onerror = function(){console.warn(\"failed to load library \" + url);};\n",
              "  document.getElementsByTagName(\"head\")[0].appendChild(s);\n",
              "}\n",
              "\n",
              "if(typeof(LDAvis) !== \"undefined\"){\n",
              "   // already loaded: just create the visualization\n",
              "   !function(LDAvis){\n",
              "       new LDAvis(\"#\" + \"ldavis_el991397139809493923041670111\", ldavis_el991397139809493923041670111_data);\n",
              "   }(LDAvis);\n",
              "}else if(typeof define === \"function\" && define.amd){\n",
              "   // require.js is available: use it to load d3/LDAvis\n",
              "   require.config({paths: {d3: \"https://cdnjs.cloudflare.com/ajax/libs/d3/3.5.5/d3.min\"}});\n",
              "   require([\"d3\"], function(d3){\n",
              "      window.d3 = d3;\n",
              "      LDAvis_load_lib(\"https://cdn.rawgit.com/bmabey/pyLDAvis/files/ldavis.v1.0.0.js\", function(){\n",
              "        new LDAvis(\"#\" + \"ldavis_el991397139809493923041670111\", ldavis_el991397139809493923041670111_data);\n",
              "      });\n",
              "    });\n",
              "}else{\n",
              "    // require.js not available: dynamically load d3 & LDAvis\n",
              "    LDAvis_load_lib(\"https://cdnjs.cloudflare.com/ajax/libs/d3/3.5.5/d3.min.js\", function(){\n",
              "         LDAvis_load_lib(\"https://cdn.rawgit.com/bmabey/pyLDAvis/files/ldavis.v1.0.0.js\", function(){\n",
              "                 new LDAvis(\"#\" + \"ldavis_el991397139809493923041670111\", ldavis_el991397139809493923041670111_data);\n",
              "            })\n",
              "         });\n",
              "}\n",
              "</script>"
            ],
            "text/plain": [
              "PreparedData(topic_coordinates=              x         y  topics  cluster       Freq\n",
              "topic                                                \n",
              "0      0.012316 -0.004416       1        1  31.849544\n",
              "2     -0.013549 -0.004450       2        1  22.398359\n",
              "3      0.001443 -0.002568       3        1  22.160350\n",
              "1     -0.000170  0.013398       4        1  15.740607\n",
              "4     -0.000040 -0.001965       5        1   7.851140, topic_info=                            Term      Freq     Total Category  logprob  loglift\n",
              "68   assumption subject inherent  0.000000  0.000000  Default  30.0000  30.0000\n",
              "490      look require assumption  0.000000  0.000000  Default  29.0000  29.0000\n",
              "707                      require  0.000000  0.000000  Default  28.0000  28.0000\n",
              "708           require assumption  0.000000  0.000000  Default  27.0000  27.0000\n",
              "709   require assumption subject  0.000000  0.000000  Default  26.0000  26.0000\n",
              "..                           ...       ...       ...      ...      ...      ...\n",
              "491                         lude  0.013342  0.231666   Topic5  -6.8443  -0.3099\n",
              "420                      initial  0.013342  0.234891   Topic5  -6.8443  -0.3237\n",
              "537             nature operation  0.013341  0.240502   Topic5  -6.8443  -0.3473\n",
              "582                    operation  0.013341  0.240502   Topic5  -6.8443  -0.3473\n",
              "284                       equity  0.013341  0.232090   Topic5  -6.8443  -0.3118\n",
              "\n",
              "[260 rows x 6 columns], token_table=Empty DataFrame\n",
              "Columns: [Topic, Freq, Term]\n",
              "Index: [], R=30, lambda_step=0.01, plot_opts={'xlab': 'PC1', 'ylab': 'PC2'}, topic_order=[1, 3, 4, 2, 5])"
            ]
          },
          "metadata": {
            "tags": []
          },
          "execution_count": 49
        }
      ]
    },
    {
      "cell_type": "code",
      "metadata": {
        "id": "KuT-aCN7CmfN",
        "outputId": "c7e457d4-d3de-45de-a561-67b57be62f46",
        "colab": {
          "base_uri": "https://localhost:8080/"
        }
      },
      "source": [
        "# Showing the words for each topic\n",
        "n_words_to_show = 8\n",
        "year2015rating4 = display_topics(lda, tfidf_vectorizer.get_feature_names(), n_words_to_show)"
      ],
      "execution_count": null,
      "outputs": [
        {
          "output_type": "stream",
          "text": [
            "Topic 0:\n",
            "company, financial, energy, nature, rease, total energy, total, performance\n",
            "\n",
            "Topic 1:\n",
            "note, nature operation go, go concern, concern, go, concern note, operation go concern, operation go\n",
            "\n",
            "Topic 2:\n",
            "application, nature, company, fund, ifrs, capital, settlement, equity\n",
            "\n",
            "Topic 3:\n",
            "nexgen, company, financial, significant, ome tax, provision environmental, rehabilitation defer, defer\n",
            "\n",
            "Topic 4:\n",
            "subject, inherent, assumption subject inherent, look require, inherent risk uncertainty, inherent risk, forward look require, look require assumption\n",
            "\n"
          ],
          "name": "stdout"
        }
      ]
    }
  ]
}