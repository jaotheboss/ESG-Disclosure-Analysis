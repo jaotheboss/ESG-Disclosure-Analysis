{
  "nbformat": 4,
  "nbformat_minor": 0,
  "metadata": {
    "colab": {
      "name": "Main_Analysis.ipynb",
      "provenance": [],
      "collapsed_sections": [
        "4iARUteGn1ee",
        "IMANqXGVn45u",
        "WlSYB-ziIS74"
      ],
      "mount_file_id": "1L-K3VtVW-RRNgyB_TiuMeH7UOb30vMbV",
      "authorship_tag": "ABX9TyPKbMVtPAsOtpwLAcxeaPBf",
      "include_colab_link": true
    },
    "kernelspec": {
      "name": "python3",
      "display_name": "Python 3"
    }
  },
  "cells": [
    {
      "cell_type": "markdown",
      "metadata": {
        "id": "view-in-github",
        "colab_type": "text"
      },
      "source": [
        "<a href=\"https://colab.research.google.com/github/jaotheboss/ESG-Disclosure-Analysis/blob/main/Main_Analysis.ipynb\" target=\"_parent\"><img src=\"https://colab.research.google.com/assets/colab-badge.svg\" alt=\"Open In Colab\"/></a>"
      ]
    },
    {
      "cell_type": "markdown",
      "metadata": {
        "id": "JMZMNi_roGlt"
      },
      "source": [
        "# Main Analysis for DSA4264\n",
        "\n",
        "**Task**:\n",
        "Explore the relationship between a firm's environmental disclosure and financial performance. \n",
        "\n",
        "\n",
        "**Tasks**:\n",
        "1. Extract out the text data of the firms that have available financial metrics\n",
        "2. Filter out the environmental disclosures (sentence that contains the keywords or n-grams) from the text data\n",
        "3. Concatenate all the sentences from each document and have each document form the observations of a corpus\n",
        "4. Perform LDA or STM on the corpus\n",
        "5. Analyse the results:\n",
        "    \n",
        "    - Between rating 1 and 5\n",
        "    - Across the years\n",
        "    - Both"
      ]
    },
    {
      "cell_type": "markdown",
      "metadata": {
        "id": "4iARUteGn1ee"
      },
      "source": [
        "## Setting up the modules and functions"
      ]
    },
    {
      "cell_type": "code",
      "metadata": {
        "id": "D9vH7QZ_dGoa",
        "outputId": "ee56603d-1a31-4851-8b6f-be8899821fcc",
        "colab": {
          "base_uri": "https://localhost:8080/"
        }
      },
      "source": [
        "# setting up the work directory\n",
        "import os \n",
        "os.chdir('/content/drive/My Drive/School/NUS/Year 4 Sem 1/DSA4264/(TSX) Toronto')\n",
        "\n",
        "!pip install pyLDAvis\n",
        "!pip install pdfplumber\n",
        "\n",
        "import pandas as pd\n",
        "import numpy as np\n",
        "import seaborn as sns\n",
        "from tqdm import tqdm\n",
        "import re\n",
        "import spacy\n",
        "nlp = spacy.load('en_core_web_sm')\n",
        "from sklearn.feature_extraction.text import CountVectorizer, TfidfVectorizer\n",
        "from sklearn.decomposition import LatentDirichletAllocation # LDA\n",
        "import pyLDAvis\n",
        "pyLDAvis.enable_notebook()\n",
        "import pyLDAvis.sklearn\n",
        "import pdfplumber\n",
        "import multiprocessing as mp"
      ],
      "execution_count": 63,
      "outputs": [
        {
          "output_type": "stream",
          "text": [
            "Requirement already satisfied: pyLDAvis in /usr/local/lib/python3.6/dist-packages (2.1.2)\n",
            "Requirement already satisfied: numpy>=1.9.2 in /usr/local/lib/python3.6/dist-packages (from pyLDAvis) (1.18.5)\n",
            "Requirement already satisfied: wheel>=0.23.0 in /usr/local/lib/python3.6/dist-packages (from pyLDAvis) (0.35.1)\n",
            "Requirement already satisfied: pytest in /usr/local/lib/python3.6/dist-packages (from pyLDAvis) (3.6.4)\n",
            "Requirement already satisfied: future in /usr/local/lib/python3.6/dist-packages (from pyLDAvis) (0.16.0)\n",
            "Requirement already satisfied: scipy>=0.18.0 in /usr/local/lib/python3.6/dist-packages (from pyLDAvis) (1.4.1)\n",
            "Requirement already satisfied: funcy in /usr/local/lib/python3.6/dist-packages (from pyLDAvis) (1.15)\n",
            "Requirement already satisfied: jinja2>=2.7.2 in /usr/local/lib/python3.6/dist-packages (from pyLDAvis) (2.11.2)\n",
            "Requirement already satisfied: joblib>=0.8.4 in /usr/local/lib/python3.6/dist-packages (from pyLDAvis) (0.17.0)\n",
            "Requirement already satisfied: pandas>=0.17.0 in /usr/local/lib/python3.6/dist-packages (from pyLDAvis) (1.1.3)\n",
            "Requirement already satisfied: numexpr in /usr/local/lib/python3.6/dist-packages (from pyLDAvis) (2.7.1)\n",
            "Requirement already satisfied: atomicwrites>=1.0 in /usr/local/lib/python3.6/dist-packages (from pytest->pyLDAvis) (1.4.0)\n",
            "Requirement already satisfied: py>=1.5.0 in /usr/local/lib/python3.6/dist-packages (from pytest->pyLDAvis) (1.9.0)\n",
            "Requirement already satisfied: setuptools in /usr/local/lib/python3.6/dist-packages (from pytest->pyLDAvis) (50.3.2)\n",
            "Requirement already satisfied: pluggy<0.8,>=0.5 in /usr/local/lib/python3.6/dist-packages (from pytest->pyLDAvis) (0.7.1)\n",
            "Requirement already satisfied: six>=1.10.0 in /usr/local/lib/python3.6/dist-packages (from pytest->pyLDAvis) (1.15.0)\n",
            "Requirement already satisfied: more-itertools>=4.0.0 in /usr/local/lib/python3.6/dist-packages (from pytest->pyLDAvis) (8.5.0)\n",
            "Requirement already satisfied: attrs>=17.4.0 in /usr/local/lib/python3.6/dist-packages (from pytest->pyLDAvis) (20.2.0)\n",
            "Requirement already satisfied: MarkupSafe>=0.23 in /usr/local/lib/python3.6/dist-packages (from jinja2>=2.7.2->pyLDAvis) (1.1.1)\n",
            "Requirement already satisfied: pytz>=2017.2 in /usr/local/lib/python3.6/dist-packages (from pandas>=0.17.0->pyLDAvis) (2018.9)\n",
            "Requirement already satisfied: python-dateutil>=2.7.3 in /usr/local/lib/python3.6/dist-packages (from pandas>=0.17.0->pyLDAvis) (2.8.1)\n",
            "Requirement already satisfied: pdfplumber in /usr/local/lib/python3.6/dist-packages (0.5.24)\n",
            "Requirement already satisfied: Wand in /usr/local/lib/python3.6/dist-packages (from pdfplumber) (0.6.3)\n",
            "Requirement already satisfied: Pillow>=7.0.0 in /usr/local/lib/python3.6/dist-packages (from pdfplumber) (7.0.0)\n",
            "Requirement already satisfied: pdfminer.six==20200517 in /usr/local/lib/python3.6/dist-packages (from pdfplumber) (20200517)\n",
            "Requirement already satisfied: chardet; python_version > \"3.0\" in /usr/local/lib/python3.6/dist-packages (from pdfminer.six==20200517->pdfplumber) (3.0.4)\n",
            "Requirement already satisfied: sortedcontainers in /usr/local/lib/python3.6/dist-packages (from pdfminer.six==20200517->pdfplumber) (2.2.2)\n",
            "Requirement already satisfied: pycryptodome in /usr/local/lib/python3.6/dist-packages (from pdfminer.six==20200517->pdfplumber) (3.9.9)\n"
          ],
          "name": "stdout"
        }
      ]
    },
    {
      "cell_type": "code",
      "metadata": {
        "id": "xbe4MynXnX0V"
      },
      "source": [
        "# defining functions\n",
        "def _PREPROCESS(text, min_char_len = 3, max_char_len = 15):\n",
        "    \"\"\"\n",
        "    Function:     Preprocesses and cleans text\n",
        "                    \n",
        "    Input:        Text array\n",
        "    \n",
        "    Returns:      A column of processed text\n",
        "    \"\"\"\n",
        "    contractions = {\n",
        "            \"ain't\": \"am not / are not\",\n",
        "            \"aren't\": \"are not / am not\",\n",
        "            \"can't\": \"cannot\",\n",
        "            \"can't've\": \"cannot have\",\n",
        "            \"'cause\": \"because\",\n",
        "            \"could've\": \"could have\",\n",
        "            \"couldn't\": \"could not\",\n",
        "            \"couldn't've\": \"could not have\",\n",
        "            \"didn't\": \"did not\",\n",
        "            \"doesn't\": \"does not\",\n",
        "            \"don't\": \"do not\",\n",
        "            \"hadn't\": \"had not\",\n",
        "            \"hadn't've\": \"had not have\",\n",
        "            \"hasn't\": \"has not\",\n",
        "            \"haven't\": \"have not\",\n",
        "            \"he'd\": \"he had / he would\",\n",
        "            \"he'd've\": \"he would have\",\n",
        "            \"he'll\": \"he shall / he will\",\n",
        "            \"he'll've\": \"he shall have / he will have\",\n",
        "            \"he's\": \"he has / he is\",\n",
        "            \"how'd\": \"how did\",\n",
        "            \"how'd'y\": \"how do you\",\n",
        "            \"how'll\": \"how will\",\n",
        "            \"how's\": \"how has / how is\",\n",
        "            \"i'd\": \"I had / I would\",\n",
        "            \"i'd've\": \"I would have\",\n",
        "            \"i'll\": \"I shall / I will\",\n",
        "            \"i'll've\": \"I shall have / I will have\",\n",
        "            \"i'm\": \"I am\",\n",
        "            \"i've\": \"I have\",\n",
        "            \"isn't\": \"is not\",\n",
        "            \"it'd\": \"it had / it would\",\n",
        "            \"it'd've\": \"it would have\",\n",
        "            \"it'll\": \"it shall / it will\",\n",
        "            \"it'll've\": \"it shall have / it will have\",\n",
        "            \"it's\": \"it has / it is\",\n",
        "            \"let's\": \"let us\",\n",
        "            \"ma'am\": \"madam\",\n",
        "            \"mayn't\": \"may not\",\n",
        "            \"might've\": \"might have\",\n",
        "            \"mightn't\": \"might not\",\n",
        "            \"mightn't've\": \"might not have\",\n",
        "            \"must've\": \"must have\",\n",
        "            \"mustn't\": \"must not\",\n",
        "            \"mustn't've\": \"must not have\",\n",
        "            \"needn't\": \"need not\",\n",
        "            \"needn't've\": \"need not have\",\n",
        "            \"o'clock\": \"of the clock\",\n",
        "            \"oughtn't\": \"ought not\",\n",
        "            \"oughtn't've\": \"ought not have\",\n",
        "            \"shan't\": \"shall not\",\n",
        "            \"sha'n't\": \"shall not\",\n",
        "            \"shan't've\": \"shall not have\",\n",
        "            \"she'd\": \"she had / she would\",\n",
        "            \"she'd've\": \"she would have\",\n",
        "            \"she'll\": \"she shall / she will\",\n",
        "            \"she'll've\": \"she shall have / she will have\",\n",
        "            \"she's\": \"she has / she is\",\n",
        "            \"should've\": \"should have\",\n",
        "            \"shouldn't\": \"should not\",\n",
        "            \"shouldn't've\": \"should not have\",\n",
        "            \"so've\": \"so have\",\n",
        "            \"so's\": \"so as / so is\",\n",
        "            \"that'd\": \"that would / that had\",\n",
        "            \"that'd've\": \"that would have\",\n",
        "            \"that's\": \"that has / that is\",\n",
        "            \"there'd\": \"there had / there would\",\n",
        "            \"there'd've\": \"there would have\",\n",
        "            \"there's\": \"there has / there is\",\n",
        "            \"they'd\": \"they had / they would\",\n",
        "            \"they'd've\": \"they would have\",\n",
        "            \"they'll\": \"they shall / they will\",\n",
        "            \"they'll've\": \"they shall have / they will have\",\n",
        "            \"they're\": \"they are\",\n",
        "            \"they've\": \"they have\",\n",
        "            \"to've\": \"to have\",\n",
        "            \"wasn't\": \"was not\",\n",
        "            \"we'd\": \"we had / we would\",\n",
        "            \"we'd've\": \"we would have\",\n",
        "            \"we'll\": \"we will\",\n",
        "            \"we'll've\": \"we will have\",\n",
        "            \"we're\": \"we are\",\n",
        "            \"we've\": \"we have\",\n",
        "            \"weren't\": \"were not\",\n",
        "            \"what'll\": \"what shall / what will\",\n",
        "            \"what'll've\": \"what shall have / what will have\",\n",
        "            \"what're\": \"what are\",\n",
        "            \"what's\": \"what has / what is\",\n",
        "            \"what've\": \"what have\",\n",
        "            \"when's\": \"when has / when is\",\n",
        "            \"when've\": \"when have\",\n",
        "            \"where'd\": \"where did\",\n",
        "            \"where's\": \"where has / where is\",\n",
        "            \"where've\": \"where have\",\n",
        "            \"who'll\": \"who shall / who will\",\n",
        "            \"who'll've\": \"who shall have / who will have\",\n",
        "            \"who's\": \"who has / who is\",\n",
        "            \"who've\": \"who have\",\n",
        "            \"why's\": \"why has / why is\",\n",
        "            \"why've\": \"why have\",\n",
        "            \"will've\": \"will have\",\n",
        "            \"won't\": \"will not\",\n",
        "            \"won't've\": \"will not have\",\n",
        "            \"would've\": \"would have\",\n",
        "            \"wouldn't\": \"would not\",\n",
        "            \"wouldn't've\": \"would not have\",\n",
        "            \"y'all\": \"you all\",\n",
        "            \"y'all'd\": \"you all would\",\n",
        "            \"y'all'd've\": \"you all would have\",\n",
        "            \"y'all're\": \"you all are\",\n",
        "            \"y'all've\": \"you all have\",\n",
        "            \"you'd\": \"you had / you would\",\n",
        "            \"you'd've\": \"you would have\",\n",
        "            \"you'll\": \"you shall / you will\",\n",
        "            \"you'll've\": \"you shall have / you will have\",\n",
        "            \"you're\": \"you are\",\n",
        "            \"you've\": \"you have\"}\n",
        "\n",
        "    def contract(text):\n",
        "        for word in text.split():\n",
        "            if word.lower() in contractions:\n",
        "                text = text.replace(word, contractions[word.lower()])\n",
        "        return text\n",
        "    \n",
        "    def preprocess(text):\n",
        "        # throw away numbers\n",
        "        text = re.sub(r\"@\\S+|https?:\\S+|http?:\\S|[^A-Za-z]+\", ' ', str(text).lower()).strip() \n",
        "        doc = nlp(text)\n",
        "        text = [token.lemma_ for token in doc if token.is_stop == False and len(token) >= min_char_len and len(token) <= max_char_len]\n",
        "        new_text = ' '.join(text)\n",
        "        return new_text\n",
        "       \n",
        "    text = text.apply(contract).apply(preprocess)\n",
        "    return text\n",
        "\n",
        "def extract_pdf_text(file_name, min_sent_len = 10):\n",
        "    doc = []\n",
        "    try:\n",
        "        with pdfplumber.open(file_name) as pdf:\n",
        "            pages = pdf.pages\n",
        "            for i in pages:\n",
        "                page = i.extract_text()\n",
        "                if page:\n",
        "                    doc.extend([sentence.string for sentence in nlp(page).sents if len(sentence.text.split()) >= min_sent_len])\n",
        "    except:\n",
        "        doc.extend(['Unrecognized PDF!!!'])\n",
        "    doc = _PREPROCESS(pd.Series(doc))\n",
        "    return doc\n",
        "\n",
        "def get_top_k(df, vectorizer, k = 10):\n",
        "       \"\"\"get top k occuring words\"\"\"\n",
        "       vectorizer.fit(df)\n",
        "       counts = pd.DataFrame(vectorizer.transform(df).toarray())\n",
        "       counts.columns = vectorizer.get_feature_names()\n",
        "       counts = counts.apply(sum).sort_values(ascending = False)[:k]\n",
        "       sns.barplot(x = counts.values, y = counts.index)\n",
        "\n",
        "def display_topics(model, feature_names, no_top_words):\n",
        "    topic_words = []\n",
        "    for topic_idx, topic in enumerate(model.components_):\n",
        "        print(\"Topic %d:\" % (topic_idx))\n",
        "        top_words = [feature_names[i] for i in topic.argsort()[:-no_top_words - 1:-1]]\n",
        "        topic_words.append(top_words)\n",
        "        print(\", \".join(top_words))\n",
        "        print()\n",
        "    return topic_words\n",
        "\n",
        "def summary_layout(*lsts):\n",
        "    n_topics = len(lsts[0])\n",
        "    for i in range(n_topics):\n",
        "        str2print = 'topic ' + str(i) + '\\n'\n",
        "        for group in lsts:\n",
        "            str2print += ', '.join(group[i])\n",
        "            str2print += '\\n'\n",
        "        print(str2print)\n",
        "        print()"
      ],
      "execution_count": 64,
      "outputs": []
    },
    {
      "cell_type": "markdown",
      "metadata": {
        "id": "IMANqXGVn45u"
      },
      "source": [
        "## Preprocessing"
      ]
    },
    {
      "cell_type": "code",
      "metadata": {
        "id": "PelIgo4J0Alv"
      },
      "source": [
        "# getting the file names\n",
        "metadata = pd.read_csv('clustered_files_cleaned.csv')\n",
        "def quantiles(arr):\n",
        "    result = []\n",
        "    quads = [np.quantile(arr, 0.25*i) for i in range(1, 4)]\n",
        "    for i in arr:\n",
        "        if i <= quads[0]:\n",
        "            result.append(1)\n",
        "        elif i <= quads[1]:\n",
        "            result.append(2)\n",
        "        elif i <= quads[2]:\n",
        "            result.append(3)\n",
        "        else:\n",
        "            result.append(4)\n",
        "    return result\n",
        "metadata['rating_quarters'] = quantiles(metadata.earnings)"
      ],
      "execution_count": 65,
      "outputs": []
    },
    {
      "cell_type": "markdown",
      "metadata": {
        "id": "yZpHqy_74Vko"
      },
      "source": [
        "We will only be looking at the top and bottom 25% of the ratings. This is ensure that there is a discernible distinction in performance metric. By doing so, we hope to more clearly distinguish the aspects of an environmental disclosure that correlates with the financial metric"
      ]
    },
    {
      "cell_type": "code",
      "metadata": {
        "id": "gdEud_c30M9j",
        "outputId": "6976eacf-c611-4954-e0f1-18e4ed4ea408",
        "colab": {
          "base_uri": "https://localhost:8080/",
          "height": 419
        }
      },
      "source": [
        "# filtering out by quarters\n",
        "filtered_metadata = metadata[['finalfilename', 'fileyear', 'rating_quarters']]\n",
        "filtered_metadata = filtered_metadata.loc[metadata.rating_quarters != 2, :]  \n",
        "filtered_metadata = filtered_metadata.loc[metadata.rating_quarters != 3, :]\n",
        "filtered_metadata.reset_index(drop = True, inplace = True)\n",
        "filtered_metadata"
      ],
      "execution_count": 66,
      "outputs": [
        {
          "output_type": "execute_result",
          "data": {
            "text/html": [
              "<div>\n",
              "<style scoped>\n",
              "    .dataframe tbody tr th:only-of-type {\n",
              "        vertical-align: middle;\n",
              "    }\n",
              "\n",
              "    .dataframe tbody tr th {\n",
              "        vertical-align: top;\n",
              "    }\n",
              "\n",
              "    .dataframe thead th {\n",
              "        text-align: right;\n",
              "    }\n",
              "</style>\n",
              "<table border=\"1\" class=\"dataframe\">\n",
              "  <thead>\n",
              "    <tr style=\"text-align: right;\">\n",
              "      <th></th>\n",
              "      <th>finalfilename</th>\n",
              "      <th>fileyear</th>\n",
              "      <th>rating_quarters</th>\n",
              "    </tr>\n",
              "  </thead>\n",
              "  <tbody>\n",
              "    <tr>\n",
              "      <th>0</th>\n",
              "      <td>TSX_7376__Absolute Software Corp___Active____(...</td>\n",
              "      <td>2018</td>\n",
              "      <td>4</td>\n",
              "    </tr>\n",
              "    <tr>\n",
              "      <th>1</th>\n",
              "      <td>TSX_7319__AcuityAds Holdings Inc___Active____(...</td>\n",
              "      <td>2018</td>\n",
              "      <td>1</td>\n",
              "    </tr>\n",
              "    <tr>\n",
              "      <th>2</th>\n",
              "      <td>TSX_1041__Alacer Gold Corp___Active____(2018-1...</td>\n",
              "      <td>2018</td>\n",
              "      <td>4</td>\n",
              "    </tr>\n",
              "    <tr>\n",
              "      <th>3</th>\n",
              "      <td>TSX_1041__Alexco Resource Corp___Active____(20...</td>\n",
              "      <td>2018</td>\n",
              "      <td>1</td>\n",
              "    </tr>\n",
              "    <tr>\n",
              "      <th>4</th>\n",
              "      <td>TSX_4449__Algoma Central Corp___Active____(201...</td>\n",
              "      <td>2018</td>\n",
              "      <td>1</td>\n",
              "    </tr>\n",
              "    <tr>\n",
              "      <th>...</th>\n",
              "      <td>...</td>\n",
              "      <td>...</td>\n",
              "      <td>...</td>\n",
              "    </tr>\n",
              "    <tr>\n",
              "      <th>236</th>\n",
              "      <td>TSX_3533__Total Energy Services Inc___Active__...</td>\n",
              "      <td>2015</td>\n",
              "      <td>4</td>\n",
              "    </tr>\n",
              "    <tr>\n",
              "      <th>237</th>\n",
              "      <td>TSX_1031__Trevali Mining Corp___Active____(201...</td>\n",
              "      <td>2015</td>\n",
              "      <td>4</td>\n",
              "    </tr>\n",
              "    <tr>\n",
              "      <th>238</th>\n",
              "      <td>TSX_6531__Wall Financial Corp___Active____(201...</td>\n",
              "      <td>2015</td>\n",
              "      <td>4</td>\n",
              "    </tr>\n",
              "    <tr>\n",
              "      <th>239</th>\n",
              "      <td>TSX_1021__Wallbridge Mining Company Ltd___Acti...</td>\n",
              "      <td>2015</td>\n",
              "      <td>4</td>\n",
              "    </tr>\n",
              "    <tr>\n",
              "      <th>240</th>\n",
              "      <td>TSX_9999__Well Health Technologies Corp___Acti...</td>\n",
              "      <td>2015</td>\n",
              "      <td>4</td>\n",
              "    </tr>\n",
              "  </tbody>\n",
              "</table>\n",
              "<p>241 rows × 3 columns</p>\n",
              "</div>"
            ],
            "text/plain": [
              "                                         finalfilename  ...  rating_quarters\n",
              "0    TSX_7376__Absolute Software Corp___Active____(...  ...                4\n",
              "1    TSX_7319__AcuityAds Holdings Inc___Active____(...  ...                1\n",
              "2    TSX_1041__Alacer Gold Corp___Active____(2018-1...  ...                4\n",
              "3    TSX_1041__Alexco Resource Corp___Active____(20...  ...                1\n",
              "4    TSX_4449__Algoma Central Corp___Active____(201...  ...                1\n",
              "..                                                 ...  ...              ...\n",
              "236  TSX_3533__Total Energy Services Inc___Active__...  ...                4\n",
              "237  TSX_1031__Trevali Mining Corp___Active____(201...  ...                4\n",
              "238  TSX_6531__Wall Financial Corp___Active____(201...  ...                4\n",
              "239  TSX_1021__Wallbridge Mining Company Ltd___Acti...  ...                4\n",
              "240  TSX_9999__Well Health Technologies Corp___Acti...  ...                4\n",
              "\n",
              "[241 rows x 3 columns]"
            ]
          },
          "metadata": {
            "tags": []
          },
          "execution_count": 66
        }
      ]
    },
    {
      "cell_type": "code",
      "metadata": {
        "id": "VONzOIXp7IFG",
        "outputId": "40ade511-0335-4547-8773-dec1179b4b02",
        "colab": {
          "base_uri": "https://localhost:8080/"
        }
      },
      "source": [
        "# extracting out the text data\n",
        "pool = mp.Pool()\n",
        "dirty_corpus = list(tqdm(pool.imap(extract_pdf_text, filtered_metadata.finalfilename), total = filtered_metadata.finalfilename.size))\n",
        "pool.close()"
      ],
      "execution_count": 5,
      "outputs": [
        {
          "output_type": "stream",
          "text": [
            " 18%|█▊        | 43/241 [15:55<2:04:56, 37.86s/it]/usr/local/lib/python3.6/dist-packages/ipykernel_launcher.py:157: DeprecationWarning: The default dtype for empty Series will be 'object' instead of 'float64' in a future version. Specify a dtype explicitly to silence this warning.\n",
            "100%|██████████| 241/241 [1:31:26<00:00, 22.76s/it]\n"
          ],
          "name": "stderr"
        }
      ]
    },
    {
      "cell_type": "code",
      "metadata": {
        "id": "8keVHGPO8DD1",
        "outputId": "4361192b-a043-4c9e-8b12-a94f63af1b69",
        "colab": {
          "base_uri": "https://localhost:8080/"
        }
      },
      "source": [
        "# filtering the corpus with environmental keywords\n",
        "# https://quantaloop.io/the-language-of-sustainability-top-101-green-initiative-keywords/\n",
        "e_sus_keywords = {'global', 'warming', 'water', \n",
        "                  'air', 'environmental', 'nature',\n",
        "                  'earth', 'solar', 'energy',\n",
        "                  'green', 'recycling', 'pollution',\n",
        "                  'energy', 'sustain'}\n",
        "def filter_keyword(dirty_doc):\n",
        "    filtered_doc = []\n",
        "    for sentence in dirty_doc:\n",
        "        # ignore short sentences\n",
        "        if len(sentence.split()) <= 3:\n",
        "            continue\n",
        "        else:\n",
        "            if e_sus_keywords.intersection(set(sentence.split())):\n",
        "                filtered_doc.append(sentence)\n",
        "                break\n",
        "    return ' '.join(filtered_doc)\n",
        "pool = mp.Pool()\n",
        "filtered_corpus = list(tqdm(pool.imap(filter_keyword, dirty_corpus), total = len(dirty_corpus)))\n",
        "pool.close()"
      ],
      "execution_count": 6,
      "outputs": [
        {
          "output_type": "stream",
          "text": [
            "100%|██████████| 241/241 [00:00<00:00, 795.60it/s]\n"
          ],
          "name": "stderr"
        }
      ]
    },
    {
      "cell_type": "code",
      "metadata": {
        "id": "YyLNGepo7U5n"
      },
      "source": [
        "### only upload if you're starting from here\n",
        "filtered_corpus = pd.read_csv('filtered_corpus.csv')"
      ],
      "execution_count": 67,
      "outputs": []
    },
    {
      "cell_type": "code",
      "metadata": {
        "id": "JFxlIDM5ICAr"
      },
      "source": [
        "# creating the filtered data file\n",
        "filtered_data = filtered_metadata.copy()\n",
        "filtered_data['text'] = filtered_corpus.text\n",
        "filtered_data = filtered_data[['text', 'fileyear', 'rating_quarters']]\n",
        "filtered_data = filtered_data.dropna()"
      ],
      "execution_count": 87,
      "outputs": []
    },
    {
      "cell_type": "code",
      "metadata": {
        "id": "aJ6ZaaGVBqM8",
        "outputId": "52e60c5c-65bb-44e8-90d1-7685f53d240c",
        "colab": {
          "base_uri": "https://localhost:8080/",
          "height": 265
        }
      },
      "source": [
        "# filtering out the jargon\n",
        "word2remove = [\n",
        "               'consolidated', 'asset', 'assets',\n",
        "               'libaility', 'liabilities', 'organization',\n",
        "               'statement', 'ltd', 'cid',\n",
        "               'keyera', 'inc', 'kel',\n",
        "               'rimbey', 'lude', 'kei',\n",
        "               'krl', 'year', 'end'\n",
        "]\n",
        "\n",
        "final_text = filtered_data.text.apply(lambda x: re.sub(' +', ' ', re.sub('|'.join(word2remove), '', x)).strip())\n",
        "\n",
        "## this is just to see which words or phrases to take out and consider as jargon\n",
        "maxdf, mindf = 0.99, 0.01 # default: 1.0 and 1 \n",
        "count_vectorizer = CountVectorizer(ngram_range = (2, 3),\n",
        "                                   max_df = maxdf,\n",
        "                                   min_df = mindf,\n",
        "                                   max_features = None)\n",
        "get_top_k(final_text, count_vectorizer)"
      ],
      "execution_count": 88,
      "outputs": [
        {
          "output_type": "display_data",
          "data": {
            "image/png": "[encoded data removed]",
            "text/plain": [
              "<Figure size 432x288 with 1 Axes>"
            ]
          },
          "metadata": {
            "tags": [],
            "needs_background": "light"
          }
        }
      ]
    },
    {
      "cell_type": "code",
      "metadata": {
        "id": "MdPtOOOsEoLv",
        "outputId": "8d321d28-0456-4f1f-b451-dea1186b2d6d",
        "colab": {
          "base_uri": "https://localhost:8080/",
          "height": 419
        }
      },
      "source": [
        "# finalizing the text data \n",
        "filtered_data.text = final_text\n",
        "filtered_data"
      ],
      "execution_count": 70,
      "outputs": [
        {
          "output_type": "execute_result",
          "data": {
            "text/html": [
              "<div>\n",
              "<style scoped>\n",
              "    .dataframe tbody tr th:only-of-type {\n",
              "        vertical-align: middle;\n",
              "    }\n",
              "\n",
              "    .dataframe tbody tr th {\n",
              "        vertical-align: top;\n",
              "    }\n",
              "\n",
              "    .dataframe thead th {\n",
              "        text-align: right;\n",
              "    }\n",
              "</style>\n",
              "<table border=\"1\" class=\"dataframe\">\n",
              "  <thead>\n",
              "    <tr style=\"text-align: right;\">\n",
              "      <th></th>\n",
              "      <th>text</th>\n",
              "      <th>fileyear</th>\n",
              "      <th>rating_quarters</th>\n",
              "    </tr>\n",
              "  </thead>\n",
              "  <tbody>\n",
              "    <tr>\n",
              "      <th>0</th>\n",
              "      <td>nature operation absolute software corporation...</td>\n",
              "      <td>2018</td>\n",
              "      <td>4</td>\n",
              "    </tr>\n",
              "    <tr>\n",
              "      <th>1</th>\n",
              "      <td>remain financial assess collectively base nature</td>\n",
              "      <td>2018</td>\n",
              "      <td>1</td>\n",
              "    </tr>\n",
              "    <tr>\n",
              "      <th>2</th>\n",
              "      <td>retirement obligation ur decommissioning recla...</td>\n",
              "      <td>2018</td>\n",
              "      <td>4</td>\n",
              "    </tr>\n",
              "    <tr>\n",
              "      <th>3</th>\n",
              "      <td>environmental services contract loss provision</td>\n",
              "      <td>2018</td>\n",
              "      <td>1</td>\n",
              "    </tr>\n",
              "    <tr>\n",
              "      <th>4</th>\n",
              "      <td>global short sea shipping segment company inte...</td>\n",
              "      <td>2018</td>\n",
              "      <td>1</td>\n",
              "    </tr>\n",
              "    <tr>\n",
              "      <th>...</th>\n",
              "      <td>...</td>\n",
              "      <td>...</td>\n",
              "      <td>...</td>\n",
              "    </tr>\n",
              "    <tr>\n",
              "      <th>236</th>\n",
              "      <td>total energy services total energy company gro...</td>\n",
              "      <td>2015</td>\n",
              "      <td>4</td>\n",
              "    </tr>\n",
              "    <tr>\n",
              "      <th>237</th>\n",
              "      <td>provision environmental rehabilitation defer o...</td>\n",
              "      <td>2015</td>\n",
              "      <td>4</td>\n",
              "    </tr>\n",
              "    <tr>\n",
              "      <th>238</th>\n",
              "      <td>carry value company amount receivable deposit ...</td>\n",
              "      <td>2015</td>\n",
              "      <td>4</td>\n",
              "    </tr>\n",
              "    <tr>\n",
              "      <th>239</th>\n",
              "      <td>total equity nature operation go concern note ...</td>\n",
              "      <td>2015</td>\n",
              "      <td>4</td>\n",
              "    </tr>\n",
              "    <tr>\n",
              "      <th>240</th>\n",
              "      <td>deficit nature operation go concern note</td>\n",
              "      <td>2015</td>\n",
              "      <td>4</td>\n",
              "    </tr>\n",
              "  </tbody>\n",
              "</table>\n",
              "<p>236 rows × 3 columns</p>\n",
              "</div>"
            ],
            "text/plain": [
              "                                                  text  ...  rating_quarters\n",
              "0    nature operation absolute software corporation...  ...                4\n",
              "1     remain financial assess collectively base nature  ...                1\n",
              "2    retirement obligation ur decommissioning recla...  ...                4\n",
              "3       environmental services contract loss provision  ...                1\n",
              "4    global short sea shipping segment company inte...  ...                1\n",
              "..                                                 ...  ...              ...\n",
              "236  total energy services total energy company gro...  ...                4\n",
              "237  provision environmental rehabilitation defer o...  ...                4\n",
              "238  carry value company amount receivable deposit ...  ...                4\n",
              "239  total equity nature operation go concern note ...  ...                4\n",
              "240           deficit nature operation go concern note  ...                4\n",
              "\n",
              "[236 rows x 3 columns]"
            ]
          },
          "metadata": {
            "tags": []
          },
          "execution_count": 70
        }
      ]
    },
    {
      "cell_type": "markdown",
      "metadata": {
        "id": "xv2f2-3fmyyH"
      },
      "source": [
        "## Performing LDA\n",
        "\n",
        "To extract topics from each document within the corpus"
      ]
    },
    {
      "cell_type": "markdown",
      "metadata": {
        "id": "WlSYB-ziIS74"
      },
      "source": [
        "### Full Dataset\n",
        "\n",
        "We want to try topic modelling on the full dataset first to see if there are distinct topics within these environmental disclosures"
      ]
    },
    {
      "cell_type": "code",
      "metadata": {
        "id": "RMyUDTUuYGX_",
        "outputId": "a6b4cf39-d4e8-4232-fe42-90eadb2a36e5",
        "colab": {
          "base_uri": "https://localhost:8080/",
          "height": 861
        }
      },
      "source": [
        "# Training the LDA model\n",
        "tfidf_vectorizer = TfidfVectorizer(ngram_range = (2, 3),\n",
        "                                   max_df = maxdf,\n",
        "                                   min_df = mindf,\n",
        "                                   max_features = None)\n",
        "tfidf_fit = tfidf_vectorizer.fit_transform(filtered_data.text)\n",
        "lda = LatentDirichletAllocation(n_components = 4, \n",
        "                                random_state = 69)\n",
        "lda.fit(tfidf_fit)\n",
        "\n",
        "# LDA visualisation\n",
        "pyLDAvis.sklearn.prepare(lda, tfidf_fit, tfidf_vectorizer)"
      ],
      "execution_count": 72,
      "outputs": [
        {
          "output_type": "execute_result",
          "data": {
            "text/html": [
              "\n",
              "<link rel=\"stylesheet\" type=\"text/css\" href=\"https://cdn.rawgit.com/bmabey/pyLDAvis/files/ldavis.v1.0.0.css\">\n",
              "\n",
              "\n",
              "<div id=\"ldavis_el991397141545290806792421425\"></div>\n",
              "<script type=\"text/javascript\">\n",
              "\n",
              "var ldavis_el991397141545290806792421425_data = {\"mdsDat\": {\"x\": [-0.12283341204005332, 0.07997975670580064, 0.03252049812354432, 0.010333157210708346], \"y\": [0.03018216796806544, 0.08771516656593133, -0.09418917403465038, -0.02370816049934633], \"topics\": [1, 2, 3, 4], \"cluster\": [1, 1, 1, 1], \"Freq\": [27.78032175099155, 26.51414248606801, 25.70762323705188, 19.997912525888555]}, \"tinfo\": {\"Term\": [\"nature operation\", \"environmental rehabilitation\", \"risk uncertainty\", \"go concern\", \"nature operation go\", \"operation go\", \"operation go concern\", \"total energy\", \"provision environmental\", \"financial position\", \"energy ome\", \"cash flow\", \"long term\", \"initial recognition\", \"ongoing production\", \"responsibility management\", \"forward look\", \"inherent risk uncertainty\", \"inherent risk\", \"financial liability\", \"cost production\", \"nature forward\", \"nature forward look\", \"environmental political\", \"orporate law\", \"rehabilitation provision\", \"environmental rehabilitation provision\", \"environmental requirement\", \"year end\", \"environmental permit\", \"environmental rehabilitation\", \"risk uncertainty\", \"provision environmental\", \"financial position\", \"long term\", \"inherent risk uncertainty\", \"inherent risk\", \"nature forward\", \"nature forward look\", \"rehabilitation provision\", \"environmental rehabilitation provision\", \"assumption subject inherent\", \"subject inherent\", \"assumption subject\", \"subject inherent risk\", \"provision environmental rehabilitation\", \"end december\", \"require assumption subject\", \"look require\", \"require assumption\", \"look require assumption\", \"forward look require\", \"month end\", \"define benefit\", \"application environmental permit\", \"application environmental\", \"december december\", \"accounting policy\", \"year end\", \"audit accompany financial\", \"forward look\", \"energy service\", \"cash flow\", \"initial recognition\", \"financial liability\", \"environmental political\", \"short term nature\", \"short term\", \"depend nature\", \"time initial recognition\", \"time initial\", \"foreign exchange\", \"accord nature\", \"depend nature purpose\", \"nature purpose\", \"purpose financial\", \"nature purpose financial\", \"fair value short\", \"value short\", \"value short term\", \"approximate fair\", \"approximate fair value\", \"surface right\", \"canadian dollar\", \"carry value\", \"fair value\", \"term nature financial\", \"nature financial\", \"financial determine time\", \"purpose financial determine\", \"classification depend\", \"classification depend nature\", \"determine time\", \"term nature\", \"determine time initial\", \"energy services\", \"regulatory environmental\", \"financial determine\", \"ongoing production\", \"environmental requirement\", \"similarity nature\", \"operating segment\", \"similarity nature product\", \"nature product\", \"forward look information\", \"look information\", \"exploration development\", \"restoration rehabilitation\", \"rehabilitation environmental\", \"restoration rehabilitation environmental\", \"kei krl krpl\", \"energy kei krl\", \"energy kei\", \"energy energy kei\", \"energy energy\", \"kei krl\", \"krl krpl\", \"prior agreement\", \"non compliance regulatory\", \"compliance regulatory\", \"claim non compliance\", \"claim non\", \"non compliance\", \"obligation ur\", \"current program prevent\", \"current program\", \"pollution charge profit\", \"prevent control pollution\", \"prevent control\", \"cost ongoing current\", \"environmental permit\", \"pollution charge\", \"cost ongoing\", \"forward look\", \"loss ur\", \"product service\", \"program prevent control\", \"nature operation\", \"go concern\", \"operation go\", \"nature operation go\", \"operation go concern\", \"total energy\", \"energy ome\", \"responsibility management\", \"orporate law\", \"express opinion\", \"outline nature\", \"express opinion financial\", \"opinion financial\", \"cost production\", \"financial assess collectively\", \"collectively base\", \"financial assess\", \"base nature\", \"collectively base nature\", \"remain financial assess\", \"remain financial\", \"assess collectively base\", \"assess collectively\", \"tax credit\", \"british columbia\", \"company reasonable assurance\", \"capital nature\", \"credit realize\", \"reasonable assurance\", \"company reasonable\", \"nature reduction\", \"item capital\", \"investment tax\", \"accompany financial\", \"cash flow\", \"item capital nature\", \"investment tax credit\", \"financial instrument\", \"balance sheet\"], \"Freq\": [3.0, 3.0, 2.0, 1.0, 1.0, 1.0, 1.0, 1.0, 2.0, 2.0, 1.0, 2.0, 2.0, 1.0, 1.0, 1.0, 3.0, 1.0, 1.0, 1.0, 1.0, 1.0, 1.0, 1.0, 1.0, 1.0, 1.0, 1.0, 2.0, 2.0, 2.6643303247546157, 2.312842712290338, 1.8505977398284483, 1.814480270256282, 1.741216559684594, 1.6096711171320766, 1.6096711171320766, 1.5747363257025178, 1.5747363257025138, 1.53801954796671, 1.5380195479667098, 1.4133108964357657, 1.4133108964357657, 1.4133108964357657, 1.4133108964357657, 1.3659597467006013, 1.3147269937272497, 1.2746900884508119, 1.2746900884508119, 1.2746900884508119, 1.2746900884508119, 1.2746900884508119, 1.1740241746362465, 1.092943807646751, 1.085813922667676, 1.085813922667676, 0.9601497624345957, 0.918575047488447, 1.6262518246948796, 0.8604048022429684, 2.4898194438015606, 1.1918343896817685, 1.3692657045058312, 1.5573992013467963, 1.4914486344657356, 1.458550750622039, 1.3581464145876023, 1.3581464145876023, 1.3311778008263833, 1.1972952354632826, 1.1972952354632826, 1.2143673446154, 1.149408644388996, 1.1152242436437454, 1.1152242436437454, 1.1152242436437454, 1.1152242436437454, 1.0958074823942743, 1.0958074823942743, 1.0958074823942743, 1.0958074823942743, 1.0958074823942743, 1.2182002427258478, 1.212803084477106, 0.7718524878761297, 1.291116528645712, 0.7147842236755517, 0.7147842236755517, 0.7113681586539651, 0.7113681586539651, 0.7113681586539651, 0.7113681586539651, 0.7113681586539651, 1.2952226763688246, 0.7113681586539651, 1.1997504250500284, 0.8589368117529481, 0.7113681586539651, 1.492166885540608, 1.328511606677331, 1.1282418143747972, 1.1282418143747972, 1.1282418143747972, 1.1282418143747972, 1.1615683503602956, 1.1615683465546163, 1.1127245417746703, 0.965086675808248, 0.965086675808248, 0.965086675808248, 0.9305635199760095, 0.9305635199760095, 0.9305635199760095, 0.9305635199760095, 0.9305635199760095, 0.9305635199760095, 0.9305635199760095, 0.8231820924965978, 0.8231820924965978, 0.8231820924965978, 0.8231820924965978, 0.8231820924965978, 0.8231820924965978, 0.768648351402309, 0.6167302435443752, 0.6167302435443752, 0.6167302435443752, 0.6167302435443752, 0.6167302435443752, 0.6167302435443752, 1.5432631593226325, 0.6167302435443752, 0.6167302435443752, 0.7809218808619446, 0.6167302435443752, 0.6233506911123956, 0.6167302435443752, 2.614369117777197, 1.5130172715414978, 1.34066287461789, 1.34066287461789, 1.34066287461789, 1.2232124224579533, 1.1840339156668143, 1.0755860191453153, 0.9904902448263392, 0.8377078529436586, 0.8377078529436586, 0.8377078529436586, 0.8377078529436586, 1.0930281254771141, 0.5983672764658013, 0.5983672764658013, 0.5983672764658013, 0.5983672764658013, 0.5983672764658013, 0.5983672764658013, 0.5983672764658013, 0.5983672764658013, 0.5983672764658013, 0.5749359529791478, 0.8974767878011661, 0.4787846868504579, 0.4787846868504579, 0.4787846868504579, 0.4787846868504579, 0.4787846868504579, 0.4787846868504579, 0.4787846868504579, 0.4787846868504579, 0.907490545506272, 1.1683791302073503, 0.4787846868504579, 0.4787846868504579, 0.545418473539974, 0.5078835488240798], \"Total\": [3.0, 3.0, 2.0, 1.0, 1.0, 1.0, 1.0, 1.0, 2.0, 2.0, 1.0, 2.0, 2.0, 1.0, 1.0, 1.0, 3.0, 1.0, 1.0, 1.0, 1.0, 1.0, 1.0, 1.0, 1.0, 1.0, 1.0, 1.0, 2.0, 2.0, 3.050575235661981, 2.699607821701165, 2.236698875045369, 2.2004836997849835, 2.1273882450221504, 1.9958118378544276, 1.9958118378544276, 1.9617144927164436, 1.9617144927164436, 1.924539041392836, 1.9245390413928356, 1.7994903115866479, 1.7994903115866479, 1.7994903115866479, 1.7994903115866479, 1.7519916198207284, 1.7007450632681311, 1.6605782284941866, 1.6605782284941866, 1.6605782284941866, 1.6605782284941866, 1.6605782284941866, 1.5599215823061794, 1.4789269711760196, 1.471890059618204, 1.471890059618204, 1.3461437222333972, 1.3047401159521126, 2.3536608628569375, 1.246488153447401, 3.895122185519268, 1.8810121611543074, 2.807236469327805, 1.942073298150877, 1.8761463521068287, 1.8434498693969623, 1.7427658231223755, 1.7427658231223755, 1.7158679482571222, 1.5819705337301235, 1.5819705337301235, 1.6125305146513436, 1.5373204018555722, 1.4998760462344518, 1.4998760462344518, 1.4998760462344518, 1.4998760462344518, 1.4804325954907054, 1.4804325954907054, 1.4804325954907054, 1.4804325954907054, 1.4804325954907054, 1.8035771894240513, 1.7978547968218468, 1.1564501627794745, 1.9651590225975477, 1.0994133762005438, 1.0994133762005438, 1.0959981502861162, 1.0959981502861162, 1.0959981502861162, 1.0959981502861162, 1.0959981502861162, 2.1181048408656546, 1.0959981502861162, 2.4081079415373425, 1.5648354863491243, 1.0959981502861162, 1.8790047869293685, 1.7152437569071228, 1.5149039592523335, 1.5149039592523335, 1.5149039592523335, 1.5149039592523335, 1.5596537611219299, 1.5596537611414947, 1.4995133219439485, 1.3517798188608179, 1.3517798188608179, 1.3517798188608179, 1.3171844779676636, 1.3171844779676636, 1.3171844779676636, 1.3171844779676636, 1.3171844779676636, 1.3171844779676636, 1.3171844779676636, 1.20976720523192, 1.20976720523192, 1.20976720523192, 1.20976720523192, 1.20976720523192, 1.20976720523192, 1.155312532045781, 1.003292408903742, 1.003292408903742, 1.003292408903742, 1.003292408903742, 1.003292408903742, 1.003292408903742, 2.7745841015832213, 1.003292408903742, 1.003292408903742, 3.895122185519268, 1.003292408903742, 1.1154051821567388, 1.003292408903742, 3.2617190191384067, 1.9120028973840832, 1.7396491317880363, 1.7396491317880363, 1.7396491317880363, 1.6222638890603793, 1.5831619722937997, 1.4746556292339994, 1.3895514373849154, 1.2367254026355265, 1.2367254026355265, 1.2367254026355265, 1.2367254026355265, 1.6872972238950263, 0.9973253808388662, 0.9973253808388662, 0.9973253808388662, 0.9973253808388662, 0.9973253808388662, 0.9973253808388662, 0.9973253808388662, 0.9973253808388662, 0.9973253808388662, 0.973830571556894, 1.6072129274680298, 0.8776776718508218, 0.8776776718508218, 0.8776776718508218, 0.8776776718508218, 0.8776776718508218, 0.8776776718508218, 0.8776776718508218, 0.8776776718508218, 1.9723605061495255, 2.807236469327805, 0.8776776718508218, 0.8776776718508218, 1.5050250462219417, 1.25069696255032], \"Category\": [\"Default\", \"Default\", \"Default\", \"Default\", \"Default\", \"Default\", \"Default\", \"Default\", \"Default\", \"Default\", \"Default\", \"Default\", \"Default\", \"Default\", \"Default\", \"Default\", \"Default\", \"Default\", \"Default\", \"Default\", \"Default\", \"Default\", \"Default\", \"Default\", \"Default\", \"Default\", \"Default\", \"Default\", \"Default\", \"Default\", \"Topic1\", \"Topic1\", \"Topic1\", \"Topic1\", \"Topic1\", \"Topic1\", \"Topic1\", \"Topic1\", \"Topic1\", \"Topic1\", \"Topic1\", \"Topic1\", \"Topic1\", \"Topic1\", \"Topic1\", \"Topic1\", \"Topic1\", \"Topic1\", \"Topic1\", \"Topic1\", \"Topic1\", \"Topic1\", \"Topic1\", \"Topic1\", \"Topic1\", \"Topic1\", \"Topic1\", \"Topic1\", \"Topic1\", \"Topic1\", \"Topic1\", \"Topic1\", \"Topic1\", \"Topic2\", \"Topic2\", \"Topic2\", \"Topic2\", \"Topic2\", \"Topic2\", \"Topic2\", \"Topic2\", \"Topic2\", \"Topic2\", \"Topic2\", \"Topic2\", \"Topic2\", \"Topic2\", \"Topic2\", \"Topic2\", \"Topic2\", \"Topic2\", \"Topic2\", \"Topic2\", \"Topic2\", \"Topic2\", \"Topic2\", \"Topic2\", \"Topic2\", \"Topic2\", \"Topic2\", \"Topic2\", \"Topic2\", \"Topic2\", \"Topic2\", \"Topic2\", \"Topic2\", \"Topic2\", \"Topic2\", \"Topic3\", \"Topic3\", \"Topic3\", \"Topic3\", \"Topic3\", \"Topic3\", \"Topic3\", \"Topic3\", \"Topic3\", \"Topic3\", \"Topic3\", \"Topic3\", \"Topic3\", \"Topic3\", \"Topic3\", \"Topic3\", \"Topic3\", \"Topic3\", \"Topic3\", \"Topic3\", \"Topic3\", \"Topic3\", \"Topic3\", \"Topic3\", \"Topic3\", \"Topic3\", \"Topic3\", \"Topic3\", \"Topic3\", \"Topic3\", \"Topic3\", \"Topic3\", \"Topic3\", \"Topic3\", \"Topic3\", \"Topic3\", \"Topic3\", \"Topic3\", \"Topic3\", \"Topic4\", \"Topic4\", \"Topic4\", \"Topic4\", \"Topic4\", \"Topic4\", \"Topic4\", \"Topic4\", \"Topic4\", \"Topic4\", \"Topic4\", \"Topic4\", \"Topic4\", \"Topic4\", \"Topic4\", \"Topic4\", \"Topic4\", \"Topic4\", \"Topic4\", \"Topic4\", \"Topic4\", \"Topic4\", \"Topic4\", \"Topic4\", \"Topic4\", \"Topic4\", \"Topic4\", \"Topic4\", \"Topic4\", \"Topic4\", \"Topic4\", \"Topic4\", \"Topic4\", \"Topic4\", \"Topic4\", \"Topic4\", \"Topic4\", \"Topic4\", \"Topic4\"], \"logprob\": [30.0, 29.0, 28.0, 27.0, 26.0, 25.0, 24.0, 23.0, 22.0, 21.0, 20.0, 19.0, 18.0, 17.0, 16.0, 15.0, 14.0, 13.0, 12.0, 11.0, 10.0, 9.0, 8.0, 7.0, 6.0, 5.0, 4.0, 3.0, 2.0, 1.0, -3.9709, -4.1124, -4.3353, -4.355, -4.3963, -4.4748, -4.4748, -4.4968, -4.4968, -4.5203, -4.5203, -4.6049, -4.6049, -4.6049, -4.6049, -4.639, -4.6772, -4.7081, -4.7081, -4.7081, -4.7081, -4.7081, -4.7904, -4.862, -4.8685, -4.8685, -4.9915, -5.0358, -4.4646, -5.1012, -4.0386, -4.7753, -4.6366, -4.4612, -4.5044, -4.5268, -4.5981, -4.5981, -4.6181, -4.7241, -4.7241, -4.71, -4.7649, -4.7951, -4.7951, -4.7951, -4.7951, -4.8127, -4.8127, -4.8127, -4.8127, -4.8127, -4.7068, -4.7113, -5.1632, -4.6487, -5.24, -5.24, -5.2448, -5.2448, -5.2448, -5.2448, -5.2448, -4.6455, -5.2448, -4.7221, -5.0563, -5.2448, -4.4731, -4.5892, -4.7526, -4.7526, -4.7526, -4.7526, -4.7235, -4.7235, -4.7665, -4.9088, -4.9088, -4.9088, -4.9453, -4.9453, -4.9453, -4.9453, -4.9453, -4.9453, -4.9453, -5.0679, -5.0679, -5.0679, -5.0679, -5.0679, -5.0679, -5.1364, -5.3566, -5.3566, -5.3566, -5.3566, -5.3566, -5.3566, -4.4394, -5.3566, -5.3566, -5.1206, -5.3566, -5.3459, -5.3566, -3.6611, -4.208, -4.329, -4.329, -4.329, -4.4207, -4.4532, -4.5493, -4.6317, -4.7992, -4.7992, -4.7992, -4.7992, -4.5332, -5.1357, -5.1357, -5.1357, -5.1357, -5.1357, -5.1357, -5.1357, -5.1357, -5.1357, -5.1756, -4.7303, -5.3586, -5.3586, -5.3586, -5.3586, -5.3586, -5.3586, -5.3586, -5.3586, -4.7192, -4.4665, -5.3586, -5.3586, -5.2283, -5.2996], \"loglift\": [30.0, 29.0, 28.0, 27.0, 26.0, 25.0, 24.0, 23.0, 22.0, 21.0, 20.0, 19.0, 18.0, 17.0, 16.0, 15.0, 14.0, 13.0, 12.0, 11.0, 10.0, 9.0, 8.0, 7.0, 6.0, 5.0, 4.0, 3.0, 2.0, 1.0, 1.1455, 1.1262, 1.0913, 1.088, 1.0805, 1.0658, 1.0658, 1.0611, 1.0611, 1.0567, 1.0567, 1.0393, 1.0393, 1.0393, 1.0393, 1.0319, 1.0234, 1.0164, 1.0164, 1.0164, 1.0164, 1.0164, 0.9966, 0.9784, 0.9766, 0.9766, 0.9429, 0.9299, 0.9111, 0.9102, 0.8333, 0.8245, 0.5629, 1.1068, 1.098, 1.0933, 1.0781, 1.0781, 1.0736, 1.0489, 1.0489, 1.0439, 1.0367, 1.0312, 1.0312, 1.0312, 1.0312, 1.0266, 1.0266, 1.0266, 1.0266, 1.0266, 0.9351, 0.9338, 0.9232, 0.9074, 0.8969, 0.8969, 0.8953, 0.8953, 0.8953, 0.8953, 0.8953, 0.8357, 0.8953, 0.6308, 0.7277, 0.8953, 1.1279, 1.1029, 1.0637, 1.0637, 1.0637, 1.0637, 1.0637, 1.0637, 1.0601, 1.0214, 1.0214, 1.0214, 1.0109, 1.0109, 1.0109, 1.0109, 1.0109, 1.0109, 1.0109, 0.9734, 0.9734, 0.9734, 0.9734, 0.9734, 0.9734, 0.9509, 0.8718, 0.8718, 0.8718, 0.8718, 0.8718, 0.8718, 0.7718, 0.8718, 0.8718, -0.2486, 0.8718, 0.7765, 0.8718, 1.3883, 1.3755, 1.349, 1.349, 1.349, 1.3272, 1.319, 1.294, 1.271, 1.22, 1.22, 1.22, 1.22, 1.1754, 1.0987, 1.0987, 1.0987, 1.0987, 1.0987, 1.0987, 1.0987, 1.0987, 1.0987, 1.0826, 1.0269, 1.0035, 1.0035, 1.0035, 1.0035, 1.0035, 1.0035, 1.0035, 1.0035, 0.8332, 0.733, 1.0035, 1.0035, 0.5945, 0.7083]}, \"token.table\": {\"Topic\": [1, 4, 2, 1, 1, 1, 2, 2, 4, 4, 1, 1, 1, 4, 4, 4, 2, 2, 1, 4, 3, 3, 2, 2, 4, 4, 3, 3, 3, 4, 3, 3, 1, 1, 2, 2, 2, 2, 1, 3, 3, 3, 3, 4, 1, 1, 2, 1, 3, 2, 1, 1, 3, 3, 4, 4, 2, 2, 4, 4, 2, 2, 2, 4, 2, 1, 2, 1, 2, 3, 3, 1, 4, 1, 1, 2, 3, 3, 3, 1, 3, 1, 1, 3, 1, 2, 1, 1, 4, 4, 3, 2, 2, 3, 3, 3, 3, 3, 4, 4, 4, 4, 4, 3, 3, 3, 3, 3, 3, 3, 1, 1, 2, 2, 2, 3, 1, 4, 4, 1, 1, 4, 3, 3, 1, 2, 2, 3, 3, 1, 1, 2, 4, 1, 2, 2, 2, 2, 4, 2, 2, 1], \"Freq\": [0.5070067043434248, 0.5070067043434248, 0.6504824880961593, 0.7664361567286267, 0.6793985688437841, 0.6793985688437841, 0.6754782372705994, 0.6754782372705994, 1.0026817919332245, 1.0026817919332245, 0.5557129113511478, 0.5557129113511478, 0.8022539141140724, 0.7995541925366805, 1.0026817919332245, 0.6221950949432565, 0.5562184453203604, 0.8647151707744554, 0.356222217446274, 0.356222217446274, 0.8266053135473231, 0.8266053135473231, 0.9124102989945235, 0.9124102989945235, 1.0026817919332245, 1.0026817919332245, 0.8266053135473231, 0.9967183954801975, 0.9967183954801975, 0.5926638092200252, 0.9967183954801975, 0.9967183954801975, 0.7428627296503619, 0.6761659091285729, 0.5827954307414748, 0.6667217617819639, 0.9124102989945235, 0.9124102989945235, 0.587977599698812, 0.7591950988846603, 0.7591950988846603, 0.7591950988846603, 0.7591950988846603, 0.6316473093091843, 0.5316286734618118, 0.41526377732120984, 0.41526377732120984, 0.36041437685359196, 0.7208287537071839, 0.5424611846521894, 0.9834210823353104, 1.0392098871387672, 0.5830075148054586, 0.6668830382271054, 0.8085869327733931, 0.8085869327733931, 0.5088646712560695, 0.6754782372705994, 1.0026817919332245, 1.0026817919332245, 0.9124102989945235, 0.9124102989945235, 0.6644407696139649, 0.6644407696139649, 0.533007459080708, 0.9088910770824735, 0.6201433032826774, 0.5134627117565954, 0.2567313558782977, 0.2567313558782977, 0.6411679469683416, 0.6021998740202686, 1.0460235194916863, 1.002098475450509, 1.002098475450509, 1.0298272479747685, 0.7591950988846603, 0.7591950988846603, 0.7591950988846603, 0.9401198886379932, 0.6411679469602986, 0.6021998740202686, 0.6021998740202686, 0.9967183954801975, 0.6410578655637328, 0.9095759808343374, 1.0195163503280955, 1.0195163503280955, 0.9197604031485396, 0.5748285569356079, 0.6601078529714455, 0.6667217617819639, 0.6667217617819639, 0.8266053135473231, 0.8266053135473231, 0.865566651674106, 0.5321966218266957, 0.6601078529714455, 0.5748285569356079, 0.5748285569356079, 0.8085869327733931, 0.7196566986264021, 0.8085869327733931, 0.9967183954801975, 0.9967183954801975, 0.9967183954801975, 0.9967183954801975, 0.8266053135473231, 0.8965351927686115, 0.9967183954801975, 0.8941749031636778, 0.5707789858620012, 0.6667217617819639, 0.9124102989945235, 0.6390448125208824, 0.7397654455610437, 1.039209887138767, 1.0026817919332245, 1.0026817919332245, 0.6021998740202686, 0.6021998740202686, 0.6781244245610372, 0.7397654455610437, 0.7397654455610437, 0.7408483498687207, 0.5738005569838288, 0.5738005569838288, 0.6601078529714455, 0.6601078529714455, 0.5557129113511478, 0.5557129113511478, 0.5544536745440526, 1.026872670880796, 0.47212016171555843, 0.47212016171555843, 0.9095759808343374, 0.6321230254789278, 0.6321230254789278, 0.6164225233289286, 0.6754782372705994, 0.6754782372705994, 0.8497400927898957], \"Term\": [\"accompany financial\", \"accompany financial\", \"accord nature\", \"accounting policy\", \"application environmental\", \"application environmental permit\", \"approximate fair\", \"approximate fair value\", \"assess collectively\", \"assess collectively base\", \"assumption subject\", \"assumption subject inherent\", \"audit accompany financial\", \"balance sheet\", \"base nature\", \"british columbia\", \"canadian dollar\", \"carry value\", \"cash flow\", \"cash flow\", \"claim non\", \"claim non compliance\", \"classification depend\", \"classification depend nature\", \"collectively base\", \"collectively base nature\", \"compliance regulatory\", \"cost ongoing\", \"cost ongoing current\", \"cost production\", \"current program\", \"current program prevent\", \"december december\", \"define benefit\", \"depend nature\", \"depend nature purpose\", \"determine time\", \"determine time initial\", \"end december\", \"energy energy\", \"energy energy kei\", \"energy kei\", \"energy kei krl\", \"energy ome\", \"energy service\", \"energy services\", \"energy services\", \"environmental permit\", \"environmental permit\", \"environmental political\", \"environmental rehabilitation\", \"environmental rehabilitation provision\", \"environmental requirement\", \"exploration development\", \"express opinion\", \"express opinion financial\", \"fair value\", \"fair value short\", \"financial assess\", \"financial assess collectively\", \"financial determine\", \"financial determine time\", \"financial instrument\", \"financial instrument\", \"financial liability\", \"financial position\", \"foreign exchange\", \"forward look\", \"forward look\", \"forward look\", \"forward look information\", \"forward look require\", \"go concern\", \"inherent risk\", \"inherent risk uncertainty\", \"initial recognition\", \"kei krl\", \"kei krl krpl\", \"krl krpl\", \"long term\", \"look information\", \"look require\", \"look require assumption\", \"loss ur\", \"month end\", \"nature financial\", \"nature forward\", \"nature forward look\", \"nature operation\", \"nature operation go\", \"nature product\", \"nature purpose\", \"nature purpose financial\", \"non compliance\", \"non compliance regulatory\", \"obligation ur\", \"ongoing production\", \"operating segment\", \"operation go\", \"operation go concern\", \"opinion financial\", \"orporate law\", \"outline nature\", \"pollution charge\", \"pollution charge profit\", \"prevent control\", \"prevent control pollution\", \"prior agreement\", \"product service\", \"program prevent control\", \"provision environmental\", \"provision environmental rehabilitation\", \"purpose financial\", \"purpose financial determine\", \"regulatory environmental\", \"rehabilitation environmental\", \"rehabilitation provision\", \"remain financial\", \"remain financial assess\", \"require assumption\", \"require assumption subject\", \"responsibility management\", \"restoration rehabilitation\", \"restoration rehabilitation environmental\", \"risk uncertainty\", \"short term\", \"short term nature\", \"similarity nature\", \"similarity nature product\", \"subject inherent\", \"subject inherent risk\", \"surface right\", \"tax credit\", \"term nature\", \"term nature\", \"term nature financial\", \"time initial\", \"time initial recognition\", \"total energy\", \"value short\", \"value short term\", \"year end\"]}, \"R\": 30, \"lambda.step\": 0.01, \"plot.opts\": {\"xlab\": \"PC1\", \"ylab\": \"PC2\"}, \"topic.order\": [4, 2, 1, 3]};\n",
              "\n",
              "function LDAvis_load_lib(url, callback){\n",
              "  var s = document.createElement('script');\n",
              "  s.src = url;\n",
              "  s.async = true;\n",
              "  s.onreadystatechange = s.onload = callback;\n",
              "  s.onerror = function(){console.warn(\"failed to load library \" + url);};\n",
              "  document.getElementsByTagName(\"head\")[0].appendChild(s);\n",
              "}\n",
              "\n",
              "if(typeof(LDAvis) !== \"undefined\"){\n",
              "   // already loaded: just create the visualization\n",
              "   !function(LDAvis){\n",
              "       new LDAvis(\"#\" + \"ldavis_el991397141545290806792421425\", ldavis_el991397141545290806792421425_data);\n",
              "   }(LDAvis);\n",
              "}else if(typeof define === \"function\" && define.amd){\n",
              "   // require.js is available: use it to load d3/LDAvis\n",
              "   require.config({paths: {d3: \"https://cdnjs.cloudflare.com/ajax/libs/d3/3.5.5/d3.min\"}});\n",
              "   require([\"d3\"], function(d3){\n",
              "      window.d3 = d3;\n",
              "      LDAvis_load_lib(\"https://cdn.rawgit.com/bmabey/pyLDAvis/files/ldavis.v1.0.0.js\", function(){\n",
              "        new LDAvis(\"#\" + \"ldavis_el991397141545290806792421425\", ldavis_el991397141545290806792421425_data);\n",
              "      });\n",
              "    });\n",
              "}else{\n",
              "    // require.js not available: dynamically load d3 & LDAvis\n",
              "    LDAvis_load_lib(\"https://cdnjs.cloudflare.com/ajax/libs/d3/3.5.5/d3.min.js\", function(){\n",
              "         LDAvis_load_lib(\"https://cdn.rawgit.com/bmabey/pyLDAvis/files/ldavis.v1.0.0.js\", function(){\n",
              "                 new LDAvis(\"#\" + \"ldavis_el991397141545290806792421425\", ldavis_el991397141545290806792421425_data);\n",
              "            })\n",
              "         });\n",
              "}\n",
              "</script>"
            ],
            "text/plain": [
              "PreparedData(topic_coordinates=              x         y  topics  cluster       Freq\n",
              "topic                                                \n",
              "3     -0.122833  0.030182       1        1  27.780322\n",
              "1      0.079980  0.087715       2        1  26.514142\n",
              "0      0.032520 -0.094189       3        1  25.707623\n",
              "2      0.010333 -0.023708       4        1  19.997913, topic_info=                             Term      Freq  ...  logprob  loglift\n",
              "303              nature operation  3.000000  ...  30.0000  30.0000\n",
              "169  environmental rehabilitation  3.000000  ...  29.0000  29.0000\n",
              "409              risk uncertainty  2.000000  ...  28.0000  28.0000\n",
              "237                    go concern  1.000000  ...  27.0000  27.0000\n",
              "305           nature operation go  1.000000  ...  26.0000  26.0000\n",
              "..                            ...       ...  ...      ...      ...\n",
              "60                      cash flow  1.168379  ...  -4.4665   0.7330\n",
              "257           item capital nature  0.478785  ...  -5.3586   1.0035\n",
              "255         investment tax credit  0.478785  ...  -5.3586   1.0035\n",
              "216          financial instrument  0.545418  ...  -5.2283   0.5945\n",
              "43                  balance sheet  0.507884  ...  -5.2996   0.7083\n",
              "\n",
              "[176 rows x 6 columns], token_table=      Topic      Freq                       Term\n",
              "term                                            \n",
              "4         1  0.507007        accompany financial\n",
              "4         4  0.507007        accompany financial\n",
              "6         2  0.650482              accord nature\n",
              "13        1  0.766436          accounting policy\n",
              "23        1  0.679399  application environmental\n",
              "...     ...       ...                        ...\n",
              "449       2  0.632123   time initial recognition\n",
              "451       4  0.616423               total energy\n",
              "463       2  0.675478                value short\n",
              "464       2  0.675478           value short term\n",
              "468       1  0.849740                   year end\n",
              "\n",
              "[142 rows x 3 columns], R=30, lambda_step=0.01, plot_opts={'xlab': 'PC1', 'ylab': 'PC2'}, topic_order=[4, 2, 1, 3])"
            ]
          },
          "metadata": {
            "tags": []
          },
          "execution_count": 72
        }
      ]
    },
    {
      "cell_type": "code",
      "metadata": {
        "id": "oPi0NgdjhKV2",
        "outputId": "b5cdf1ab-32f2-4ce1-999a-ef59c593c9a7",
        "colab": {
          "base_uri": "https://localhost:8080/"
        }
      },
      "source": [
        "# Showing the words for each topic\n",
        "n_words_to_show = 8\n",
        "fulldata_words = display_topics(lda, tfidf_vectorizer.get_feature_names(), n_words_to_show)"
      ],
      "execution_count": 74,
      "outputs": [
        {
          "output_type": "stream",
          "text": [
            "Topic 0:\n",
            "environmental permit, ongoing production, environmental requirement, forward look information, look information, operating segment, similarity nature, similarity nature product\n",
            "\n",
            "Topic 1:\n",
            "initial recognition, financial liability, environmental political, short term, short term nature, depend nature, term nature, fair value\n",
            "\n",
            "Topic 2:\n",
            "nature operation, go concern, nature operation go, operation go, operation go concern, total energy, energy ome, cash flow\n",
            "\n",
            "Topic 3:\n",
            "environmental rehabilitation, forward look, risk uncertainty, provision environmental, financial position, long term, year end, inherent risk uncertainty\n",
            "\n"
          ],
          "name": "stdout"
        }
      ]
    },
    {
      "cell_type": "markdown",
      "metadata": {
        "id": "4Gu_P4TtDyAM"
      },
      "source": [
        "**Evaluation**\n",
        "\n",
        "Based on the topics seen above, I'd say that:\n",
        "\n",
        "Topic 0 = Talking about the process of getting a permit. Attempting to meet environmental requirements\n",
        "\n",
        "Topic 1 = The current value of environmental intervention being a liability\n",
        "\n",
        "Topic 2 = Inconclusive (Cash and responsibility that's involved in the movement towards environmental concern)\n",
        "\n",
        "Topic 3 = Conversations of fixing the environment and talking about the risks and uncertainties of attempting to do so"
      ]
    },
    {
      "cell_type": "markdown",
      "metadata": {
        "id": "Tt-VDzphIfmP"
      },
      "source": [
        "### Trying on rating 1 and 4"
      ]
    },
    {
      "cell_type": "markdown",
      "metadata": {
        "id": "K3YGVCdkIo9T"
      },
      "source": [
        "**Rating 1**"
      ]
    },
    {
      "cell_type": "code",
      "metadata": {
        "id": "Qxvqvil7vy3J",
        "outputId": "b1c6699f-a1b2-465d-b53f-a5894bfeddc0",
        "colab": {
          "base_uri": "https://localhost:8080/",
          "height": 861
        }
      },
      "source": [
        "# Creating the rating's dataset\n",
        "scoped_data = filtered_data.loc[filtered_data.rating_quarters == 1, :]\n",
        "\n",
        "# Training the LDA model\n",
        "tfidf_vectorizer = TfidfVectorizer(ngram_range = (2, 3),\n",
        "                                   max_df = maxdf,\n",
        "                                   min_df = mindf,\n",
        "                                   max_features = None)\n",
        "tfidf_fit = tfidf_vectorizer.fit_transform(scoped_data.text)\n",
        "lda = LatentDirichletAllocation(n_components = 4, \n",
        "                                random_state = 69)\n",
        "lda.fit(tfidf_fit)\n",
        "\n",
        "# LDA visualisation\n",
        "pyLDAvis.sklearn.prepare(lda, tfidf_fit, tfidf_vectorizer)"
      ],
      "execution_count": 82,
      "outputs": [
        {
          "output_type": "execute_result",
          "data": {
            "text/html": [
              "\n",
              "<link rel=\"stylesheet\" type=\"text/css\" href=\"https://cdn.rawgit.com/bmabey/pyLDAvis/files/ldavis.v1.0.0.css\">\n",
              "\n",
              "\n",
              "<div id=\"ldavis_el991397141545292005593876304\"></div>\n",
              "<script type=\"text/javascript\">\n",
              "\n",
              "var ldavis_el991397141545292005593876304_data = {\"mdsDat\": {\"x\": [-0.0346744241051272, -0.0346380610284162, 0.06642479999467459, 0.0028876851388688067], \"y\": [-0.057520046922114626, 0.05652250421551101, -0.0006220795572380463, 0.0016196222638417265], \"topics\": [1, 2, 3, 4], \"cluster\": [1, 1, 1, 1], \"Freq\": [29.207751270614086, 27.751403122553647, 22.68832329838814, 20.352522308444122]}, \"tinfo\": {\"Term\": [\"forward look\", \"cash flow\", \"service business\", \"fair value\", \"risk uncertainty\", \"environmental permit\", \"environmental rehabilitation\", \"month end\", \"nature operation\", \"financial instrument\", \"subject inherent risk\", \"subject inherent\", \"assumption subject inherent\", \"nature forward look\", \"assumption subject\", \"nature forward\", \"inherent risk uncertainty\", \"inherent risk\", \"forward look require\", \"require assumption subject\", \"look require\", \"look require assumption\", \"require assumption\", \"go concern\", \"provision environmental rehabilitation\", \"provision environmental\", \"environmental requirement\", \"accord nature\", \"year end december\", \"term nature\", \"environmental rehabilitation\", \"provision environmental rehabilitation\", \"provision environmental\", \"environmental requirement\", \"ongoing production\", \"sustain ongoing\", \"sustain ongoing production\", \"program prevent control\", \"charge profit\", \"prevent control pollution\", \"current program prevent\", \"charge profit loss\", \"profit loss ur\", \"pollution charge profit\", \"profit loss\", \"prevent control\", \"ongoing current program\", \"program prevent\", \"ongoing current\", \"cost ongoing current\", \"current program\", \"loss ur\", \"cost ongoing\", \"pollution charge\", \"control pollution\", \"control pollution charge\", \"financial ensign\", \"accompany financial ensign\", \"financial ensign energy\", \"ensign energy services\", \"energy ome\", \"audit accompany\", \"audit accompany financial\", \"financial liability\", \"nature business\", \"cash flow\", \"environmental permit\", \"month end\", \"financial instrument\", \"month end december\", \"month end month\", \"nature month\", \"nature month end\", \"cost sale\", \"cost sale nature\", \"end december december\", \"end month\", \"sale nature month\", \"sale nature\", \"end month end\", \"tax credit\", \"december december\", \"capital nature\", \"investment tax\", \"reasonable assurance\", \"credit realize\", \"item capital\", \"nature reduction\", \"investment tax credit\", \"company reasonable\", \"item capital nature\", \"company reasonable assurance\", \"equity cash flow\", \"equity cash\", \"position december\", \"energy services\", \"balance sheet\", \"accompany financial\", \"end december\", \"responsibility management\", \"fair value\", \"forward look\", \"risk uncertainty\", \"assumption subject inherent\", \"nature forward\", \"require assumption subject\", \"require assumption\", \"inherent risk uncertainty\", \"look require assumption\", \"look require\", \"inherent risk\", \"subject inherent risk\", \"subject inherent\", \"nature forward look\", \"forward look require\", \"assumption subject\", \"accord nature\", \"year end december\", \"term nature\", \"short term nature\", \"short term\", \"future event\", \"financial assess\", \"base nature\", \"financial assess collectively\", \"assess collectively base\", \"collectively base\", \"assess collectively\", \"remain financial\", \"collectively base nature\", \"remain financial assess\", \"nature operation\", \"service business\", \"go concern\", \"nature operation go\", \"operation go\", \"operation go concern\", \"short sea\", \"matter lack\", \"contingency factor\", \"matter lack market\", \"economic legal\", \"economic legal environmental\", \"factor economic\", \"factor economic legal\", \"contingency factor economic\", \"political regulatory\", \"political regulatory matter\", \"legal environmental\", \"lack market\", \"regulatory matter\", \"regulatory matter lack\", \"novaalgoma cement\", \"short sea holdings\", \"shipping segment company\", \"joint venture\", \"shipping segment\", \"global short\", \"global short sea\", \"interest joint venture\", \"short sea shipping\", \"joint venture novaalgoma\", \"nature operation\", \"total liability\"], \"Freq\": [1.0, 1.0, 1.0, 1.0, 0.0, 1.0, 1.0, 1.0, 1.0, 1.0, 0.0, 0.0, 0.0, 0.0, 0.0, 0.0, 0.0, 0.0, 0.0, 0.0, 0.0, 0.0, 0.0, 0.0, 1.0, 1.0, 1.0, 0.0, 0.0, 0.0, 0.9535477084927734, 0.764057656089261, 0.764057656089261, 0.7618623627042256, 0.5583497601188114, 0.5583497601188114, 0.5583497601188114, 0.4642348719065675, 0.4642348719065675, 0.4642348719065675, 0.4642348719065675, 0.4642348719065675, 0.4642348719065675, 0.4642348719065675, 0.4642348719065675, 0.4642348719065675, 0.4642348719065675, 0.4642348719065675, 0.4642348719065675, 0.4642348719065675, 0.4642348719065675, 0.4642348719065675, 0.4642348719065675, 0.4642348719065675, 0.4642348719065675, 0.4642348719065675, 0.4402245995417218, 0.4402245995410709, 0.4402245995400949, 0.44022459953998166, 0.4955078799724935, 0.48268978430933823, 0.4826897841959072, 0.49650043319310067, 0.49598281651925424, 1.2242771517873956, 0.8856855050977422, 0.8719870228896861, 0.8920804164560843, 0.4851641419858673, 0.4851641419858673, 0.4851641419858673, 0.4851641419858673, 0.4851641419858673, 0.4851641419858673, 0.4851641419858673, 0.4851641419858673, 0.4851641419858673, 0.4851641419858673, 0.4851641419858673, 0.4713244896847604, 0.5785779746145319, 0.39245951920536476, 0.39245951920536476, 0.39245951920536476, 0.39245951920536476, 0.39245951920536476, 0.39245951920536476, 0.39245951920536476, 0.39245951920536476, 0.39245951920536476, 0.39245951920536476, 0.4072381962641613, 0.4072381948816558, 0.3576403113878405, 0.6741682359027272, 0.44094618423607995, 0.46974729372067164, 0.45553728285964507, 0.40628844051517404, 0.782274735094944, 1.1783904076370129, 0.6731597247373438, 0.5390265656650625, 0.5390265656650625, 0.5390265656650625, 0.5390265656650625, 0.5390265656650625, 0.5390265656650625, 0.5390265656650625, 0.5390265656650625, 0.5390265656650625, 0.5390265656650625, 0.5390265656650625, 0.5390265656650625, 0.5390265656650625, 0.5033883167260816, 0.49939672437237764, 0.4567085219495519, 0.4567085219495519, 0.4567085219495519, 0.4417582979566685, 0.43046378279161107, 0.43046378279161107, 0.43046378279161107, 0.43046378279161107, 0.43046378279161107, 0.43046378279161107, 0.43046378279161107, 0.43046378279161107, 0.43046378279161107, 0.6689673567381142, 0.7462957171360257, 0.45837766005192593, 0.33951991879379534, 0.33951991879379534, 0.33951991879379534, 0.33371840470190756, 0.26023034733708655, 0.26023034733708655, 0.26023034733708655, 0.26023034733708655, 0.26023034733708655, 0.26023034733708655, 0.26023034733708655, 0.26023034733708655, 0.26023034733708655, 0.26023034733708655, 0.26023034733708655, 0.26023034733708655, 0.26023034733708655, 0.26023034733708655, 0.20829704959926715, 0.20829704959926715, 0.20829704959926715, 0.20829704959926715, 0.20829704959926715, 0.20829704959926715, 0.20829704959926715, 0.20829704959926715, 0.20829704959926715, 0.20829704959926715, 0.310226257900462, 0.2232375314007091], \"Total\": [1.0, 1.0, 1.0, 1.0, 0.0, 1.0, 1.0, 1.0, 1.0, 1.0, 0.0, 0.0, 0.0, 0.0, 0.0, 0.0, 0.0, 0.0, 0.0, 0.0, 0.0, 0.0, 0.0, 0.0, 1.0, 1.0, 1.0, 0.0, 0.0, 0.0, 1.2212540163153496, 1.0317633324431794, 1.0317633324431794, 1.0296368572404495, 0.826072777944133, 0.826072777944133, 0.826072777944133, 0.7318295446140594, 0.7318295446140594, 0.7318295446140594, 0.7318295446140594, 0.7318295446140594, 0.7318295446140594, 0.7318295446140594, 0.7318295446140594, 0.7318295446140594, 0.7318295446140594, 0.7318295446140594, 0.7318295446140594, 0.7318295446140594, 0.7318295446140594, 0.7318295446140594, 0.7318295446140594, 0.7318295446140594, 0.7318295446140594, 0.7318295446140594, 0.7112975613485019, 0.7112975613484955, 0.7112975613484855, 0.7112975613484845, 0.8739302655478418, 0.8693602315700222, 0.8693602315689425, 0.9280433482779923, 0.9528583403970383, 1.498326692178049, 1.1545052838559713, 1.1405447864356422, 1.2612267349285018, 0.7537312113672623, 0.7537312113672623, 0.7537312113672623, 0.7537312113672623, 0.7537312113672623, 0.7537312113672623, 0.7537312113672623, 0.7537312113672623, 0.7537312113672623, 0.7537312113672623, 0.7537312113672623, 0.7398577975383741, 0.9378848473444363, 0.6609914692009264, 0.6609914692009264, 0.6609914692009264, 0.6609914692009264, 0.6609914692009264, 0.6609914692009264, 0.6609914692009264, 0.6609914692009264, 0.6609914692009264, 0.6609914692009264, 0.6979363268017331, 0.6979363268152068, 0.6269621079628779, 1.195740915897178, 0.8790266988252264, 1.1539302705613164, 1.06152142645934, 0.7851281522093336, 1.063310769370179, 1.608123836886427, 0.9540531100901698, 0.8199187958527865, 0.8199187958527865, 0.8199187958527865, 0.8199187958527865, 0.8199187958527865, 0.8199187958527865, 0.8199187958527865, 0.8199187958527865, 0.8199187958527865, 0.8199187958527865, 0.8199187958527865, 0.8199187958527865, 0.8199187958527865, 0.7843789735599569, 0.780400029027583, 0.7376504060761242, 0.7376504060761242, 0.7376504060761242, 0.7240401689430395, 0.7113850201911935, 0.7113850201911935, 0.7113850201911935, 0.7113850201911935, 0.7113850201911935, 0.7113850201911935, 0.7113850201911935, 0.7113850201911935, 0.7113850201911935, 1.1773490133846396, 1.030575254968828, 0.7424930553306632, 0.6236427745621902, 0.6236427745621902, 0.6236427745621902, 0.6177568428004705, 0.5442963857903165, 0.5442963857903165, 0.5442963857903165, 0.5442963857903165, 0.5442963857903165, 0.5442963857903165, 0.5442963857903165, 0.5442963857903165, 0.5442963857903165, 0.5442963857903165, 0.5442963857903165, 0.5442963857903165, 0.5442963857903165, 0.5442963857903165, 0.4923477747089431, 0.4923477747089431, 0.4923477747089431, 0.4923477747089431, 0.4923477747089431, 0.4923477747089431, 0.4923477747089431, 0.4923477747089431, 0.4923477747089431, 0.4923477747089431, 1.1773490133846396, 0.7151385694086558], \"Category\": [\"Default\", \"Default\", \"Default\", \"Default\", \"Default\", \"Default\", \"Default\", \"Default\", \"Default\", \"Default\", \"Default\", \"Default\", \"Default\", \"Default\", \"Default\", \"Default\", \"Default\", \"Default\", \"Default\", \"Default\", \"Default\", \"Default\", \"Default\", \"Default\", \"Default\", \"Default\", \"Default\", \"Default\", \"Default\", \"Default\", \"Topic1\", \"Topic1\", \"Topic1\", \"Topic1\", \"Topic1\", \"Topic1\", \"Topic1\", \"Topic1\", \"Topic1\", \"Topic1\", \"Topic1\", \"Topic1\", \"Topic1\", \"Topic1\", \"Topic1\", \"Topic1\", \"Topic1\", \"Topic1\", \"Topic1\", \"Topic1\", \"Topic1\", \"Topic1\", \"Topic1\", \"Topic1\", \"Topic1\", \"Topic1\", \"Topic1\", \"Topic1\", \"Topic1\", \"Topic1\", \"Topic1\", \"Topic1\", \"Topic1\", \"Topic1\", \"Topic1\", \"Topic2\", \"Topic2\", \"Topic2\", \"Topic2\", \"Topic2\", \"Topic2\", \"Topic2\", \"Topic2\", \"Topic2\", \"Topic2\", \"Topic2\", \"Topic2\", \"Topic2\", \"Topic2\", \"Topic2\", \"Topic2\", \"Topic2\", \"Topic2\", \"Topic2\", \"Topic2\", \"Topic2\", \"Topic2\", \"Topic2\", \"Topic2\", \"Topic2\", \"Topic2\", \"Topic2\", \"Topic2\", \"Topic2\", \"Topic2\", \"Topic2\", \"Topic2\", \"Topic2\", \"Topic2\", \"Topic2\", \"Topic3\", \"Topic3\", \"Topic3\", \"Topic3\", \"Topic3\", \"Topic3\", \"Topic3\", \"Topic3\", \"Topic3\", \"Topic3\", \"Topic3\", \"Topic3\", \"Topic3\", \"Topic3\", \"Topic3\", \"Topic3\", \"Topic3\", \"Topic3\", \"Topic3\", \"Topic3\", \"Topic3\", \"Topic3\", \"Topic3\", \"Topic3\", \"Topic3\", \"Topic3\", \"Topic3\", \"Topic3\", \"Topic3\", \"Topic3\", \"Topic3\", \"Topic3\", \"Topic4\", \"Topic4\", \"Topic4\", \"Topic4\", \"Topic4\", \"Topic4\", \"Topic4\", \"Topic4\", \"Topic4\", \"Topic4\", \"Topic4\", \"Topic4\", \"Topic4\", \"Topic4\", \"Topic4\", \"Topic4\", \"Topic4\", \"Topic4\", \"Topic4\", \"Topic4\", \"Topic4\", \"Topic4\", \"Topic4\", \"Topic4\", \"Topic4\", \"Topic4\", \"Topic4\", \"Topic4\", \"Topic4\", \"Topic4\", \"Topic4\", \"Topic4\"], \"logprob\": [30.0, 29.0, 28.0, 27.0, 26.0, 25.0, 24.0, 23.0, 22.0, 21.0, 20.0, 19.0, 18.0, 17.0, 16.0, 15.0, 14.0, 13.0, 12.0, 11.0, 10.0, 9.0, 8.0, 7.0, 6.0, 5.0, 4.0, 3.0, 2.0, 1.0, -4.6111, -4.8326, -4.8326, -4.8355, -5.1463, -5.1463, -5.1463, -5.3309, -5.3309, -5.3309, -5.3309, -5.3309, -5.3309, -5.3309, -5.3309, -5.3309, -5.3309, -5.3309, -5.3309, -5.3309, -5.3309, -5.3309, -5.3309, -5.3309, -5.3309, -5.3309, -5.384, -5.384, -5.384, -5.384, -5.2657, -5.2919, -5.2919, -5.2637, -5.2647, -4.31, -4.6338, -4.6494, -4.6266, -5.2356, -5.2356, -5.2356, -5.2356, -5.2356, -5.2356, -5.2356, -5.2356, -5.2356, -5.2356, -5.2356, -5.2646, -5.0596, -5.4477, -5.4477, -5.4477, -5.4477, -5.4477, -5.4477, -5.4477, -5.4477, -5.4477, -5.4477, -5.4107, -5.4107, -5.5406, -4.9067, -5.3312, -5.2679, -5.2987, -5.4131, -4.5565, -4.1468, -4.7067, -4.9289, -4.9289, -4.9289, -4.9289, -4.9289, -4.9289, -4.9289, -4.9289, -4.9289, -4.9289, -4.9289, -4.9289, -4.9289, -4.9973, -5.0053, -5.0947, -5.0947, -5.0947, -5.1279, -5.1538, -5.1538, -5.1538, -5.1538, -5.1538, -5.1538, -5.1538, -5.1538, -5.1538, -4.713, -4.4949, -4.9824, -5.2825, -5.2825, -5.2825, -5.2998, -5.5485, -5.5485, -5.5485, -5.5485, -5.5485, -5.5485, -5.5485, -5.5485, -5.5485, -5.5485, -5.5485, -5.5485, -5.5485, -5.5485, -5.7711, -5.7711, -5.7711, -5.7711, -5.7711, -5.7711, -5.7711, -5.7711, -5.7711, -5.7711, -5.3728, -5.7018], \"loglift\": [30.0, 29.0, 28.0, 27.0, 26.0, 25.0, 24.0, 23.0, 22.0, 21.0, 20.0, 19.0, 18.0, 17.0, 16.0, 15.0, 14.0, 13.0, 12.0, 11.0, 10.0, 9.0, 8.0, 7.0, 6.0, 5.0, 4.0, 3.0, 2.0, 1.0, 0.9833, 0.9304, 0.9304, 0.9295, 0.839, 0.839, 0.839, 0.7756, 0.7756, 0.7756, 0.7756, 0.7756, 0.7756, 0.7756, 0.7756, 0.7756, 0.7756, 0.7756, 0.7756, 0.7756, 0.7756, 0.7756, 0.7756, 0.7756, 0.7756, 0.7756, 0.7509, 0.7509, 0.7509, 0.7509, 0.6633, 0.6424, 0.6424, 0.6052, 0.5778, 1.0799, 1.0168, 1.0134, 0.9356, 0.8413, 0.8413, 0.8413, 0.8413, 0.8413, 0.8413, 0.8413, 0.8413, 0.8413, 0.8413, 0.8413, 0.831, 0.7988, 0.7606, 0.7606, 0.7606, 0.7606, 0.7606, 0.7606, 0.7606, 0.7606, 0.7606, 0.7606, 0.7432, 0.7432, 0.7205, 0.7088, 0.592, 0.3831, 0.4359, 0.6231, 1.1764, 1.1724, 1.1346, 1.0639, 1.0639, 1.0639, 1.0639, 1.0639, 1.0639, 1.0639, 1.0639, 1.0639, 1.0639, 1.0639, 1.0639, 1.0639, 1.0398, 1.0369, 1.0039, 1.0039, 1.0039, 0.9892, 0.981, 0.981, 0.981, 0.981, 0.981, 0.981, 0.981, 0.981, 0.981, 0.918, 1.2692, 1.1096, 0.9839, 0.9839, 0.9839, 0.9762, 0.854, 0.854, 0.854, 0.854, 0.854, 0.854, 0.854, 0.854, 0.854, 0.854, 0.854, 0.854, 0.854, 0.854, 0.7317, 0.7317, 0.7317, 0.7317, 0.7317, 0.7317, 0.7317, 0.7317, 0.7317, 0.7317, 0.2582, 0.4277]}, \"token.table\": {\"Topic\": [3, 3, 3, 2, 2, 2, 2, 1, 1, 3, 2, 3, 3, 3, 3, 3, 3, 2, 3, 3, 3, 1, 1, 1, 3, 3, 3, 4, 3, 3, 1, 1], \"Freq\": [1.274893939929869, 1.2196329747019807, 1.2196329747019807, 0.6674111895759834, 1.0662289755841976, 0.8363015655859604, 0.8661718694435647, 0.8188304698617115, 0.9712162040120826, 0.9404588280360601, 0.7928788474791485, 0.6218426573019106, 1.2196329747019807, 1.2196329747019807, 1.2196329747019807, 1.2196329747019807, 1.2196329747019807, 0.8767739872145979, 1.2196329747019807, 1.2196329747019807, 0.8493658113537658, 1.2105470930645164, 0.9692145170850713, 0.9692145170850713, 1.2196329747019807, 1.2196329747019807, 1.0481596773008661, 0.9703318560955038, 1.2196329747019807, 1.2196329747019807, 1.2105470930645164, 1.2105470930645164], \"Term\": [\"accord nature\", \"assumption subject\", \"assumption subject inherent\", \"cash flow\", \"december december\", \"energy services\", \"environmental permit\", \"environmental rehabilitation\", \"environmental requirement\", \"fair value\", \"financial instrument\", \"forward look\", \"forward look require\", \"inherent risk\", \"inherent risk uncertainty\", \"look require\", \"look require assumption\", \"month end\", \"nature forward\", \"nature forward look\", \"nature operation\", \"ongoing production\", \"provision environmental\", \"provision environmental rehabilitation\", \"require assumption\", \"require assumption subject\", \"risk uncertainty\", \"service business\", \"subject inherent\", \"subject inherent risk\", \"sustain ongoing\", \"sustain ongoing production\"]}, \"R\": 30, \"lambda.step\": 0.01, \"plot.opts\": {\"xlab\": \"PC1\", \"ylab\": \"PC2\"}, \"topic.order\": [4, 2, 3, 1]};\n",
              "\n",
              "function LDAvis_load_lib(url, callback){\n",
              "  var s = document.createElement('script');\n",
              "  s.src = url;\n",
              "  s.async = true;\n",
              "  s.onreadystatechange = s.onload = callback;\n",
              "  s.onerror = function(){console.warn(\"failed to load library \" + url);};\n",
              "  document.getElementsByTagName(\"head\")[0].appendChild(s);\n",
              "}\n",
              "\n",
              "if(typeof(LDAvis) !== \"undefined\"){\n",
              "   // already loaded: just create the visualization\n",
              "   !function(LDAvis){\n",
              "       new LDAvis(\"#\" + \"ldavis_el991397141545292005593876304\", ldavis_el991397141545292005593876304_data);\n",
              "   }(LDAvis);\n",
              "}else if(typeof define === \"function\" && define.amd){\n",
              "   // require.js is available: use it to load d3/LDAvis\n",
              "   require.config({paths: {d3: \"https://cdnjs.cloudflare.com/ajax/libs/d3/3.5.5/d3.min\"}});\n",
              "   require([\"d3\"], function(d3){\n",
              "      window.d3 = d3;\n",
              "      LDAvis_load_lib(\"https://cdn.rawgit.com/bmabey/pyLDAvis/files/ldavis.v1.0.0.js\", function(){\n",
              "        new LDAvis(\"#\" + \"ldavis_el991397141545292005593876304\", ldavis_el991397141545292005593876304_data);\n",
              "      });\n",
              "    });\n",
              "}else{\n",
              "    // require.js not available: dynamically load d3 & LDAvis\n",
              "    LDAvis_load_lib(\"https://cdnjs.cloudflare.com/ajax/libs/d3/3.5.5/d3.min.js\", function(){\n",
              "         LDAvis_load_lib(\"https://cdn.rawgit.com/bmabey/pyLDAvis/files/ldavis.v1.0.0.js\", function(){\n",
              "                 new LDAvis(\"#\" + \"ldavis_el991397141545292005593876304\", ldavis_el991397141545292005593876304_data);\n",
              "            })\n",
              "         });\n",
              "}\n",
              "</script>"
            ],
            "text/plain": [
              "PreparedData(topic_coordinates=              x         y  topics  cluster       Freq\n",
              "topic                                                \n",
              "3     -0.034674 -0.057520       1        1  29.207751\n",
              "1     -0.034638  0.056523       2        1  27.751403\n",
              "2      0.066425 -0.000622       3        1  22.688323\n",
              "0      0.002888  0.001620       4        1  20.352522, topic_info=                         Term      Freq     Total Category  logprob  loglift\n",
              "235              forward look  1.000000  1.000000  Default  30.0000  30.0000\n",
              "65                  cash flow  1.000000  1.000000  Default  29.0000  29.0000\n",
              "488          service business  1.000000  1.000000  Default  28.0000  28.0000\n",
              "209                fair value  1.000000  1.000000  Default  27.0000  27.0000\n",
              "466          risk uncertainty  0.000000  0.000000  Default  26.0000  26.0000\n",
              "..                        ...       ...       ...      ...      ...      ...\n",
              "268    interest joint venture  0.208297  0.492348   Topic4  -5.7711   0.7317\n",
              "495        short sea shipping  0.208297  0.492348   Topic4  -5.7711   0.7317\n",
              "280  joint venture novaalgoma  0.208297  0.492348   Topic4  -5.7711   0.7317\n",
              "324          nature operation  0.310226  1.177349   Topic4  -5.3728   0.2582\n",
              "540           total liability  0.223238  0.715139   Topic4  -5.7018   0.4277\n",
              "\n",
              "[164 rows x 6 columns], token_table=      Topic      Freq                                    Term\n",
              "term                                                         \n",
              "6         3  1.274894                           accord nature\n",
              "42        3  1.219633                      assumption subject\n",
              "43        3  1.219633             assumption subject inherent\n",
              "65        2  0.667411                               cash flow\n",
              "141       2  1.066229                       december december\n",
              "171       2  0.836302                         energy services\n",
              "178       2  0.866172                    environmental permit\n",
              "179       1  0.818830            environmental rehabilitation\n",
              "180       1  0.971216               environmental requirement\n",
              "209       3  0.940459                              fair value\n",
              "221       2  0.792879                    financial instrument\n",
              "235       3  0.621843                            forward look\n",
              "239       3  1.219633                    forward look require\n",
              "260       3  1.219633                           inherent risk\n",
              "261       3  1.219633               inherent risk uncertainty\n",
              "297       3  1.219633                            look require\n",
              "298       3  1.219633                 look require assumption\n",
              "312       2  0.876774                               month end\n",
              "318       3  1.219633                          nature forward\n",
              "319       3  1.219633                     nature forward look\n",
              "324       3  0.849366                        nature operation\n",
              "360       1  1.210547                      ongoing production\n",
              "424       1  0.969215                 provision environmental\n",
              "425       1  0.969215  provision environmental rehabilitation\n",
              "458       3  1.219633                      require assumption\n",
              "459       3  1.219633              require assumption subject\n",
              "466       3  1.048160                        risk uncertainty\n",
              "488       4  0.970332                        service business\n",
              "520       3  1.219633                        subject inherent\n",
              "521       3  1.219633                   subject inherent risk\n",
              "528       1  1.210547                         sustain ongoing\n",
              "529       1  1.210547              sustain ongoing production, R=30, lambda_step=0.01, plot_opts={'xlab': 'PC1', 'ylab': 'PC2'}, topic_order=[4, 2, 3, 1])"
            ]
          },
          "metadata": {
            "tags": []
          },
          "execution_count": 82
        }
      ]
    },
    {
      "cell_type": "code",
      "metadata": {
        "id": "bvQE5nRfJAoQ",
        "outputId": "37bf3168-a4fc-4336-b3a2-3207401444fb",
        "colab": {
          "base_uri": "https://localhost:8080/"
        }
      },
      "source": [
        "# Showing the words for each topic\n",
        "n_words_to_show = 8\n",
        "rating_1_words = display_topics(lda, tfidf_vectorizer.get_feature_names(), n_words_to_show)"
      ],
      "execution_count": 83,
      "outputs": [
        {
          "output_type": "stream",
          "text": [
            "Topic 0:\n",
            "service business, go concern, nature operation go, operation go, operation go concern, short sea, nature operation, matter lack market\n",
            "\n",
            "Topic 1:\n",
            "cash flow, financial instrument, environmental permit, month end, energy services, december december, cost sale, end december december\n",
            "\n",
            "Topic 2:\n",
            "forward look, fair value, risk uncertainty, nature operation, forward look require, nature forward look, subject inherent, look require assumption\n",
            "\n",
            "Topic 3:\n",
            "environmental rehabilitation, provision environmental, provision environmental rehabilitation, environmental requirement, sustain ongoing, sustain ongoing production, ongoing production, financial liability\n",
            "\n"
          ],
          "name": "stdout"
        }
      ]
    },
    {
      "cell_type": "markdown",
      "metadata": {
        "id": "evCKsINxJDRg"
      },
      "source": [
        "**Rating 4**"
      ]
    },
    {
      "cell_type": "code",
      "metadata": {
        "id": "WyGbxZ76JEu_",
        "outputId": "b33bffef-64e1-4ec5-b545-fb6c3de469ae",
        "colab": {
          "base_uri": "https://localhost:8080/",
          "height": 861
        }
      },
      "source": [
        "# Creating the rating's dataset\n",
        "scoped_data = filtered_data.loc[filtered_data.rating_quarters == 4, :]\n",
        "\n",
        "# Training the LDA model\n",
        "tfidf_vectorizer = TfidfVectorizer(ngram_range = (2, 3),\n",
        "                                   max_df = maxdf,\n",
        "                                   min_df = mindf,\n",
        "                                   max_features = None)\n",
        "tfidf_fit = tfidf_vectorizer.fit_transform(scoped_data.text)\n",
        "lda = LatentDirichletAllocation(n_components = 4, \n",
        "                                random_state = 69)\n",
        "lda.fit(tfidf_fit)\n",
        "\n",
        "# LDA visualisation\n",
        "pyLDAvis.sklearn.prepare(lda, tfidf_fit, tfidf_vectorizer)"
      ],
      "execution_count": 84,
      "outputs": [
        {
          "output_type": "execute_result",
          "data": {
            "text/html": [
              "\n",
              "<link rel=\"stylesheet\" type=\"text/css\" href=\"https://cdn.rawgit.com/bmabey/pyLDAvis/files/ldavis.v1.0.0.css\">\n",
              "\n",
              "\n",
              "<div id=\"ldavis_el991397141545308803008797346\"></div>\n",
              "<script type=\"text/javascript\">\n",
              "\n",
              "var ldavis_el991397141545308803008797346_data = {\"mdsDat\": {\"x\": [-0.06722766943940922, 0.046441311283461593, 0.02497158305975527, -0.00418522490380767], \"y\": [0.009886700768275617, 0.046850268948717876, -0.059971758694458366, 0.003234788977464884], \"topics\": [1, 2, 3, 4], \"cluster\": [1, 1, 1, 1], \"Freq\": [30.664653471376795, 27.346188380508817, 26.14596637702916, 15.843191771085227]}, \"tinfo\": {\"Term\": [\"global dairy\", \"environmental rehabilitation\", \"nature operation\", \"environmental permit\", \"forward look\", \"index etf\", \"total energy\", \"rehabilitation environmental\", \"restoration rehabilitation\", \"restoration rehabilitation environmental\", \"financial result\", \"provision environmental\", \"rehabilitation provision\", \"environmental rehabilitation provision\", \"financial position\", \"risk uncertainty\", \"nature operation go\", \"operation go\", \"operation go concern\", \"go concern\", \"inherent risk\", \"inherent risk uncertainty\", \"energy energy kei\", \"energy kei\", \"energy energy\", \"kei krl krpl\", \"energy kei krl\", \"krl krpl\", \"kei krl\", \"nature forward look\", \"depend nature purpose\", \"purpose financial\", \"depend nature\", \"initial recognition\", \"nature purpose\", \"nature purpose financial\", \"purpose financial determine\", \"classification depend nature\", \"time initial recognition\", \"time initial\", \"determine time\", \"financial determine time\", \"financial determine\", \"determine time initial\", \"classification depend\", \"fair value short\", \"approximate fair\", \"approximate fair value\", \"value short term\", \"value short\", \"outline nature\", \"opinion financial\", \"express opinion\", \"express opinion financial\", \"site cost production\", \"sustain capital\", \"site cost\", \"define benefit\", \"term nature\", \"carry value\", \"fair value\", \"environmental rehabilitation\", \"provision environmental\", \"rehabilitation provision\", \"environmental rehabilitation provision\", \"go concern\", \"operation go concern\", \"operation go\", \"nature operation go\", \"nature operation\", \"capital expenditure\", \"environmental disturbance\", \"measurement environmental rehabilitation\", \"measurement environmental\", \"estimate future\", \"price volatility\", \"exploration development\", \"ability obtain\", \"go concern note\", \"concern note\", \"canadian dollar\", \"term investment\", \"nexgen energy\", \"nexgen energy nexgen\", \"long term investment\", \"significant long term\", \"energy nexgen\", \"significant long\", \"exploration activity\", \"reclamation cost\", \"ongoing production\", \"development ongoing production\", \"reclamation cost generally\", \"exploration evaluation development\", \"occur environmental disturbance\", \"year end\", \"energy services\", \"energy service\", \"look information\", \"forward look information\", \"total energy\", \"financial result\", \"risk uncertainty\", \"inherent risk\", \"inherent risk uncertainty\", \"energy energy\", \"krl krpl\", \"energy kei\", \"energy energy kei\", \"kei krl krpl\", \"energy kei krl\", \"kei krl\", \"environmental permit\", \"nature forward look\", \"nature forward\", \"application environmental permit\", \"application environmental\", \"forward look\", \"assumption subject inherent\", \"assumption subject\", \"subject inherent\", \"subject inherent risk\", \"cash flow\", \"require assumption subject\", \"look require assumption\", \"look require\", \"forward look require\", \"require assumption\", \"columbia november\", \"operation absolute software\", \"software corporation\", \"software corporation company\", \"orporate company\", \"orporate company act\", \"operation absolute\", \"company act british\", \"nature operation absolute\", \"company orporate company\", \"absolute software\", \"british columbia november\", \"corporation company orporate\", \"future event\", \"act british\", \"foreign exchange\", \"global dairy\", \"index etf\", \"rehabilitation environmental\", \"restoration rehabilitation\", \"restoration rehabilitation environmental\", \"financial position\", \"rehabilitation environmental cost\", \"legal constructive obligation\", \"legal constructive\", \"ur restoration\", \"ur restoration rehabilitation\", \"obligation ur restoration\", \"constructive obligation\", \"constructive obligation ur\", \"environmental cost\", \"etf robo\", \"mind horizon robotic\", \"mind horizon\", \"etf mind horizon\", \"automation index etf\", \"equity etf mind\", \"robotic automation index\", \"robotic automation\", \"automation index\", \"equity etf\", \"global equity\", \"global equity etf\", \"etf mind\", \"horizon robotic\", \"horizon robotic automation\", \"index etf robo\", \"obligation ur\"], \"Freq\": [0.0, 1.0, 1.0, 1.0, 1.0, 0.0, 1.0, 0.0, 0.0, 0.0, 1.0, 1.0, 1.0, 1.0, 0.0, 0.0, 0.0, 0.0, 0.0, 0.0, 0.0, 0.0, 0.0, 0.0, 0.0, 0.0, 0.0, 0.0, 0.0, 0.0, 0.7050700421916988, 0.7050700421916988, 0.7050700421916988, 0.7050700421916988, 0.7050700421916988, 0.7050700421916988, 0.5385484460957852, 0.5385484460957852, 0.5385484460957852, 0.5385484460957852, 0.5385484460957852, 0.5385484460957852, 0.5385484460957852, 0.5385484460957852, 0.5385484460957852, 0.5348867085191107, 0.5348867085191107, 0.5348867085191107, 0.5348867085191107, 0.5348867085191107, 0.5237405689599556, 0.5237405689599556, 0.5237405689599556, 0.5237405689599556, 0.5175034291365597, 0.5175034291365597, 0.5175034291365597, 0.5111319908704594, 0.69730091787932, 0.41691413777093395, 0.6315696132063643, 1.1086977663709394, 0.760657045580675, 0.7535348436013863, 0.7535348436013863, 0.6755558338124014, 0.6755558338124014, 0.6755558338124014, 0.6755558338124014, 1.0412609084082611, 0.6010672547984706, 0.5008411078936859, 0.4400964198572219, 0.4400964198572219, 0.43246783903022273, 0.4309306421512267, 0.41818711728085184, 0.41818711728085184, 0.40819157916341164, 0.40819157916341164, 0.372769188749562, 0.3564528791101092, 0.3564528791101092, 0.3564528791101092, 0.3564528791101092, 0.3564528791101092, 0.3564528791101092, 0.3564528791101092, 0.3525335725429652, 0.3279883586284487, 0.3279883586284487, 0.3279883586284487, 0.3279883586284487, 0.3279883586284487, 0.3279883586284487, 0.3960278332781592, 0.4665891087192544, 0.46656628406331824, 0.37288623578689223, 0.37288584835038696, 0.7676898110245358, 0.7434998320525666, 0.6716259093524579, 0.6051874355186657, 0.6051874355186657, 0.5892962137803903, 0.5892962137803903, 0.5892962137803903, 0.5892962137803903, 0.5892962137803903, 0.5892962137803903, 0.5892962137803903, 0.8911284381281771, 0.5798214436982181, 0.5798214436981673, 0.53869429405809, 0.53869429405809, 0.911898307759866, 0.5043358834233761, 0.5043358834233761, 0.5043358834233761, 0.5043358834233761, 0.4538720683347223, 0.3996494917169299, 0.3996494917169299, 0.3996494917169299, 0.3996494917169299, 0.3996494917169299, 0.3413799133062786, 0.3413799133062786, 0.3413799133062786, 0.3413799133062786, 0.3413799133062786, 0.3413799133062786, 0.3413799133062786, 0.3413799133062786, 0.3413799133062786, 0.3413799133062786, 0.3413799133062786, 0.3413799133062786, 0.3413799133062786, 0.3938924209721218, 0.3413799133062786, 0.3651483399388558, 0.6261465963547324, 0.3985656242198684, 0.37787337511478214, 0.37787337511478214, 0.37787337511478214, 0.37446670532160103, 0.22686509181101544, 0.22686509181101544, 0.22686509181101544, 0.22686509181101544, 0.22686509181101544, 0.22686509181101544, 0.22686509181101544, 0.22686509181101544, 0.22686509181101544, 0.20504839076299475, 0.20504839076299475, 0.20504839076299475, 0.20504839076299475, 0.20504839076299475, 0.20504839076299475, 0.20504839076299475, 0.20504839076299475, 0.20504839076299475, 0.20504839076299475, 0.20504839076299475, 0.20504839076299475, 0.20504839076299475, 0.20504839076299475, 0.20504839076299475, 0.20504839076299475, 0.21785488551746368], \"Total\": [0.0, 1.0, 1.0, 1.0, 1.0, 0.0, 1.0, 0.0, 0.0, 0.0, 1.0, 1.0, 1.0, 1.0, 0.0, 0.0, 0.0, 0.0, 0.0, 0.0, 0.0, 0.0, 0.0, 0.0, 0.0, 0.0, 0.0, 0.0, 0.0, 0.0, 0.9618787016852719, 0.9618787016852719, 0.9618787016852719, 0.9618787016852719, 0.9618787016852719, 0.9618787016852719, 0.7953592407725864, 0.7953592407725864, 0.7953592407725864, 0.7953592407725864, 0.7953592407725864, 0.7953592407725864, 0.7953592407725864, 0.7953592407725864, 0.7953592407725864, 0.7916910687508872, 0.7916910687508872, 0.7916910687508872, 0.7916910687508872, 0.7916910687508872, 0.780598986862617, 0.780598986862617, 0.780598986862617, 0.780598986862617, 0.7744059306661817, 0.7744059306661817, 0.7744059306661817, 0.7679493639243238, 1.0904652828582344, 0.6737014520576208, 1.029118614003563, 1.374063809905712, 1.0259742632692745, 1.018702673036293, 1.018702673036293, 0.9406934632241579, 0.9406934632241579, 0.9406934632241579, 0.9406934632241579, 1.500164043784247, 0.8663853335315426, 0.7665488405347, 0.7052642387633873, 0.7052642387633873, 0.6984615881297883, 0.6961872025673174, 0.6834410291079157, 0.6834410291079157, 0.6733403073214981, 0.6733403073214981, 0.6378878512469947, 0.6215951067646281, 0.6215951067646281, 0.6215951067646281, 0.6215951067646281, 0.6215951067646281, 0.6215951067646281, 0.6215951067646281, 0.6176777409296862, 0.5930793447290341, 0.5930793447290341, 0.5930793447290341, 0.5930793447290341, 0.5930793447290341, 0.5930793447290341, 0.7613748772533209, 0.9484420879278054, 0.9484418646616636, 0.8092557611099322, 0.8092557576092301, 1.033704873288084, 1.009681305427357, 0.9380407640609949, 0.8711738320494873, 0.8711738320494873, 0.8552940900222887, 0.8552940900222887, 0.8552940900222887, 0.8552940900222887, 0.8552940900222887, 0.8552940900222887, 0.8552940900222887, 1.300210308287506, 0.8463483011435803, 0.8463483011435807, 0.8047763781405398, 0.8047763781405398, 1.3892352647913795, 0.7703225090624105, 0.7703225090624105, 0.7703225090624105, 0.7703225090624105, 0.719959502117632, 0.6656270293303085, 0.6656270293303085, 0.6656270293303085, 0.6656270293303085, 0.6656270293303085, 0.6073497453094898, 0.6073497453094898, 0.6073497453094898, 0.6073497453094898, 0.6073497453094898, 0.6073497453094898, 0.6073497453094898, 0.6073497453094898, 0.6073497453094898, 0.6073497453094898, 0.6073497453094898, 0.6073497453094898, 0.6073497453094898, 0.8021954967911583, 0.6073497453094898, 0.7946194677132561, 0.9158486934105703, 0.6881385021500767, 0.6674170679656717, 0.6674170679656717, 0.6674170679656717, 0.7971808014419162, 0.5163750651877971, 0.5163750651877971, 0.5163750651877971, 0.5163750651877971, 0.5163750651877971, 0.5163750651877971, 0.5163750651877971, 0.5163750651877971, 0.5163750651877971, 0.4945503049160084, 0.4945503049160084, 0.4945503049160084, 0.4945503049160084, 0.4945503049160084, 0.4945503049160084, 0.4945503049160084, 0.4945503049160084, 0.4945503049160084, 0.4945503049160084, 0.4945503049160084, 0.4945503049160084, 0.4945503049160084, 0.4945503049160084, 0.4945503049160084, 0.4945503049160084, 0.5833663688515217], \"Category\": [\"Default\", \"Default\", \"Default\", \"Default\", \"Default\", \"Default\", \"Default\", \"Default\", \"Default\", \"Default\", \"Default\", \"Default\", \"Default\", \"Default\", \"Default\", \"Default\", \"Default\", \"Default\", \"Default\", \"Default\", \"Default\", \"Default\", \"Default\", \"Default\", \"Default\", \"Default\", \"Default\", \"Default\", \"Default\", \"Default\", \"Topic1\", \"Topic1\", \"Topic1\", \"Topic1\", \"Topic1\", \"Topic1\", \"Topic1\", \"Topic1\", \"Topic1\", \"Topic1\", \"Topic1\", \"Topic1\", \"Topic1\", \"Topic1\", \"Topic1\", \"Topic1\", \"Topic1\", \"Topic1\", \"Topic1\", \"Topic1\", \"Topic1\", \"Topic1\", \"Topic1\", \"Topic1\", \"Topic1\", \"Topic1\", \"Topic1\", \"Topic1\", \"Topic1\", \"Topic1\", \"Topic1\", \"Topic2\", \"Topic2\", \"Topic2\", \"Topic2\", \"Topic2\", \"Topic2\", \"Topic2\", \"Topic2\", \"Topic2\", \"Topic2\", \"Topic2\", \"Topic2\", \"Topic2\", \"Topic2\", \"Topic2\", \"Topic2\", \"Topic2\", \"Topic2\", \"Topic2\", \"Topic2\", \"Topic2\", \"Topic2\", \"Topic2\", \"Topic2\", \"Topic2\", \"Topic2\", \"Topic2\", \"Topic2\", \"Topic2\", \"Topic2\", \"Topic2\", \"Topic2\", \"Topic2\", \"Topic2\", \"Topic2\", \"Topic2\", \"Topic2\", \"Topic2\", \"Topic2\", \"Topic3\", \"Topic3\", \"Topic3\", \"Topic3\", \"Topic3\", \"Topic3\", \"Topic3\", \"Topic3\", \"Topic3\", \"Topic3\", \"Topic3\", \"Topic3\", \"Topic3\", \"Topic3\", \"Topic3\", \"Topic3\", \"Topic3\", \"Topic3\", \"Topic3\", \"Topic3\", \"Topic3\", \"Topic3\", \"Topic3\", \"Topic3\", \"Topic3\", \"Topic3\", \"Topic3\", \"Topic3\", \"Topic3\", \"Topic3\", \"Topic3\", \"Topic3\", \"Topic3\", \"Topic3\", \"Topic3\", \"Topic3\", \"Topic3\", \"Topic3\", \"Topic3\", \"Topic3\", \"Topic3\", \"Topic3\", \"Topic3\", \"Topic3\", \"Topic4\", \"Topic4\", \"Topic4\", \"Topic4\", \"Topic4\", \"Topic4\", \"Topic4\", \"Topic4\", \"Topic4\", \"Topic4\", \"Topic4\", \"Topic4\", \"Topic4\", \"Topic4\", \"Topic4\", \"Topic4\", \"Topic4\", \"Topic4\", \"Topic4\", \"Topic4\", \"Topic4\", \"Topic4\", \"Topic4\", \"Topic4\", \"Topic4\", \"Topic4\", \"Topic4\", \"Topic4\", \"Topic4\", \"Topic4\", \"Topic4\", \"Topic4\"], \"logprob\": [30.0, 29.0, 28.0, 27.0, 26.0, 25.0, 24.0, 23.0, 22.0, 21.0, 20.0, 19.0, 18.0, 17.0, 16.0, 15.0, 14.0, 13.0, 12.0, 11.0, 10.0, 9.0, 8.0, 7.0, 6.0, 5.0, 4.0, 3.0, 2.0, 1.0, -4.996, -4.996, -4.996, -4.996, -4.996, -4.996, -5.2654, -5.2654, -5.2654, -5.2654, -5.2654, -5.2654, -5.2654, -5.2654, -5.2654, -5.2722, -5.2722, -5.2722, -5.2722, -5.2722, -5.2933, -5.2933, -5.2933, -5.2933, -5.3053, -5.3053, -5.3053, -5.3177, -5.0071, -5.5214, -5.1061, -4.4288, -4.8056, -4.815, -4.815, -4.9242, -4.9242, -4.9242, -4.9242, -4.4916, -5.041, -5.2235, -5.3528, -5.3528, -5.3702, -5.3738, -5.4038, -5.4038, -5.428, -5.428, -5.5188, -5.5635, -5.5635, -5.5635, -5.5635, -5.5635, -5.5635, -5.5635, -5.5746, -5.6468, -5.6468, -5.6468, -5.6468, -5.6468, -5.6468, -5.4583, -5.2943, -5.2943, -5.5185, -5.5185, -4.7515, -4.7835, -4.8852, -4.9893, -4.9893, -5.0159, -5.0159, -5.0159, -5.0159, -5.0159, -5.0159, -5.0159, -4.6024, -5.0321, -5.0321, -5.1057, -5.1057, -4.5793, -5.1716, -5.1716, -5.1716, -5.1716, -5.277, -5.4043, -5.4043, -5.4043, -5.4043, -5.4043, -5.5619, -5.5619, -5.5619, -5.5619, -5.5619, -5.5619, -5.5619, -5.5619, -5.5619, -5.5619, -5.5619, -5.5619, -5.5619, -5.4188, -5.5619, -5.4946, -4.4543, -4.906, -4.9593, -4.9593, -4.9593, -4.9684, -5.4696, -5.4696, -5.4696, -5.4696, -5.4696, -5.4696, -5.4696, -5.4696, -5.4696, -5.5707, -5.5707, -5.5707, -5.5707, -5.5707, -5.5707, -5.5707, -5.5707, -5.5707, -5.5707, -5.5707, -5.5707, -5.5707, -5.5707, -5.5707, -5.5707, -5.5101], \"loglift\": [30.0, 29.0, 28.0, 27.0, 26.0, 25.0, 24.0, 23.0, 22.0, 21.0, 20.0, 19.0, 18.0, 17.0, 16.0, 15.0, 14.0, 13.0, 12.0, 11.0, 10.0, 9.0, 8.0, 7.0, 6.0, 5.0, 4.0, 3.0, 2.0, 1.0, 0.8715, 0.8715, 0.8715, 0.8715, 0.8715, 0.8715, 0.7921, 0.7921, 0.7921, 0.7921, 0.7921, 0.7921, 0.7921, 0.7921, 0.7921, 0.7899, 0.7899, 0.7899, 0.7899, 0.7899, 0.783, 0.783, 0.783, 0.783, 0.779, 0.779, 0.779, 0.775, 0.7349, 0.7022, 0.6938, 1.082, 0.9974, 0.9951, 0.9951, 0.9655, 0.9655, 0.9655, 0.9655, 0.9315, 0.931, 0.871, 0.825, 0.825, 0.8172, 0.8169, 0.8054, 0.8054, 0.7961, 0.7961, 0.7594, 0.7405, 0.7405, 0.7405, 0.7405, 0.7405, 0.7405, 0.7405, 0.7358, 0.7042, 0.7042, 0.7042, 0.7042, 0.7042, 0.7042, 0.643, 0.5872, 0.5872, 0.5218, 0.5218, 1.044, 1.0355, 1.0074, 0.9772, 0.9772, 0.969, 0.969, 0.969, 0.969, 0.969, 0.969, 0.969, 0.9637, 0.9633, 0.9633, 0.9401, 0.9401, 0.9205, 0.9179, 0.9179, 0.9179, 0.9179, 0.8801, 0.8313, 0.8313, 0.8313, 0.8313, 0.8313, 0.7654, 0.7654, 0.7654, 0.7654, 0.7654, 0.7654, 0.7654, 0.7654, 0.7654, 0.7654, 0.7654, 0.7654, 0.7654, 0.6302, 0.7654, 0.5639, 1.4622, 1.2963, 1.2736, 1.2736, 1.2736, 1.0869, 1.02, 1.02, 1.02, 1.02, 1.02, 1.02, 1.02, 1.02, 1.02, 0.962, 0.962, 0.962, 0.962, 0.962, 0.962, 0.962, 0.962, 0.962, 0.962, 0.962, 0.962, 0.962, 0.962, 0.962, 0.962, 0.8574]}, \"token.table\": {\"Topic\": [3, 3, 1, 1, 3, 3, 2, 1, 1, 1, 1, 1, 1, 1, 3, 3, 3, 3, 2, 3, 2, 2, 1, 1, 1, 1, 1, 1, 3, 3, 4, 2, 3, 3, 1, 3, 3, 3, 3, 3, 2, 2, 1, 1, 2, 2, 1, 1, 2, 1, 1, 2, 3, 1, 1, 3, 3, 1, 1, 1, 1, 3, 1, 1], \"Freq\": [1.2425812028808925, 1.2425812028808925, 1.2631189607554598, 1.2631189607554598, 1.2981575745685257, 1.2981575745685257, 1.154220831421303, 1.257293495488444, 1.257293495488444, 1.3021691884603777, 1.039632126429182, 1.039632126429182, 1.257293495488444, 1.257293495488444, 1.169188483430232, 1.169188483430232, 1.169188483430232, 1.169188483430232, 1.304548317237631, 0.7691063465856458, 0.7277682395758751, 0.9816406950415192, 1.281067509476536, 1.281067509476536, 0.9717052887710549, 1.2631189607554598, 1.257293495488444, 1.257293495488444, 0.9904115235418177, 0.719820483501885, 1.0918834161088933, 1.0630455500058151, 1.147876535326413, 1.147876535326413, 1.039632126429182, 1.169188483430232, 1.169188483430232, 1.169188483430232, 1.1815466500597993, 1.1815466500598, 0.6665937662906815, 1.0630455500058151, 1.039632126429182, 1.039632126429182, 1.0630455500058151, 1.0630455500058151, 1.281067509476536, 1.281067509476536, 0.9746833188714623, 1.039632126429182, 1.257293495488444, 0.9816406950415192, 1.0660517520270327, 1.2913124246604766, 1.2913124246604766, 1.2981575745685257, 1.2981575745685257, 1.2913124246604766, 0.9170397404848006, 1.257293495488444, 1.257293495488444, 0.9673941042950943, 1.2631189607554598, 1.2631189607554598], \"Term\": [\"application environmental\", \"application environmental permit\", \"approximate fair\", \"approximate fair value\", \"assumption subject\", \"assumption subject inherent\", \"capital expenditure\", \"classification depend\", \"classification depend nature\", \"define benefit\", \"depend nature\", \"depend nature purpose\", \"determine time\", \"determine time initial\", \"energy energy\", \"energy energy kei\", \"energy kei\", \"energy kei krl\", \"environmental disturbance\", \"environmental permit\", \"environmental rehabilitation\", \"environmental rehabilitation provision\", \"express opinion\", \"express opinion financial\", \"fair value\", \"fair value short\", \"financial determine\", \"financial determine time\", \"financial result\", \"forward look\", \"global dairy\", \"go concern\", \"inherent risk\", \"inherent risk uncertainty\", \"initial recognition\", \"kei krl\", \"kei krl krpl\", \"krl krpl\", \"nature forward\", \"nature forward look\", \"nature operation\", \"nature operation go\", \"nature purpose\", \"nature purpose financial\", \"operation go\", \"operation go concern\", \"opinion financial\", \"outline nature\", \"provision environmental\", \"purpose financial\", \"purpose financial determine\", \"rehabilitation provision\", \"risk uncertainty\", \"site cost\", \"site cost production\", \"subject inherent\", \"subject inherent risk\", \"sustain capital\", \"term nature\", \"time initial\", \"time initial recognition\", \"total energy\", \"value short\", \"value short term\"]}, \"R\": 30, \"lambda.step\": 0.01, \"plot.opts\": {\"xlab\": \"PC1\", \"ylab\": \"PC2\"}, \"topic.order\": [2, 1, 4, 3]};\n",
              "\n",
              "function LDAvis_load_lib(url, callback){\n",
              "  var s = document.createElement('script');\n",
              "  s.src = url;\n",
              "  s.async = true;\n",
              "  s.onreadystatechange = s.onload = callback;\n",
              "  s.onerror = function(){console.warn(\"failed to load library \" + url);};\n",
              "  document.getElementsByTagName(\"head\")[0].appendChild(s);\n",
              "}\n",
              "\n",
              "if(typeof(LDAvis) !== \"undefined\"){\n",
              "   // already loaded: just create the visualization\n",
              "   !function(LDAvis){\n",
              "       new LDAvis(\"#\" + \"ldavis_el991397141545308803008797346\", ldavis_el991397141545308803008797346_data);\n",
              "   }(LDAvis);\n",
              "}else if(typeof define === \"function\" && define.amd){\n",
              "   // require.js is available: use it to load d3/LDAvis\n",
              "   require.config({paths: {d3: \"https://cdnjs.cloudflare.com/ajax/libs/d3/3.5.5/d3.min\"}});\n",
              "   require([\"d3\"], function(d3){\n",
              "      window.d3 = d3;\n",
              "      LDAvis_load_lib(\"https://cdn.rawgit.com/bmabey/pyLDAvis/files/ldavis.v1.0.0.js\", function(){\n",
              "        new LDAvis(\"#\" + \"ldavis_el991397141545308803008797346\", ldavis_el991397141545308803008797346_data);\n",
              "      });\n",
              "    });\n",
              "}else{\n",
              "    // require.js not available: dynamically load d3 & LDAvis\n",
              "    LDAvis_load_lib(\"https://cdnjs.cloudflare.com/ajax/libs/d3/3.5.5/d3.min.js\", function(){\n",
              "         LDAvis_load_lib(\"https://cdn.rawgit.com/bmabey/pyLDAvis/files/ldavis.v1.0.0.js\", function(){\n",
              "                 new LDAvis(\"#\" + \"ldavis_el991397141545308803008797346\", ldavis_el991397141545308803008797346_data);\n",
              "            })\n",
              "         });\n",
              "}\n",
              "</script>"
            ],
            "text/plain": [
              "PreparedData(topic_coordinates=              x         y  topics  cluster       Freq\n",
              "topic                                                \n",
              "1     -0.067228  0.009887       1        1  30.664653\n",
              "0      0.046441  0.046850       2        1  27.346188\n",
              "3      0.024972 -0.059972       3        1  26.145966\n",
              "2     -0.004185  0.003235       4        1  15.843192, topic_info=                             Term      Freq  ...  logprob  loglift\n",
              "260                  global dairy  0.000000  ...  30.0000  30.0000\n",
              "210  environmental rehabilitation  1.000000  ...  29.0000  29.0000\n",
              "368              nature operation  1.000000  ...  28.0000  28.0000\n",
              "207          environmental permit  1.000000  ...  27.0000  27.0000\n",
              "251                  forward look  1.000000  ...  26.0000  26.0000\n",
              "..                            ...       ...  ...      ...      ...\n",
              "220                      etf mind  0.205048  ...  -5.5707   0.9620\n",
              "271               horizon robotic  0.205048  ...  -5.5707   0.9620\n",
              "272    horizon robotic automation  0.205048  ...  -5.5707   0.9620\n",
              "290                index etf robo  0.205048  ...  -5.5707   0.9620\n",
              "397                 obligation ur  0.217855  ...  -5.5101   0.8574\n",
              "\n",
              "[176 rows x 6 columns], token_table=      Topic      Freq                              Term\n",
              "term                                                   \n",
              "28        3  1.242581         application environmental\n",
              "29        3  1.242581  application environmental permit\n",
              "36        1  1.263119                  approximate fair\n",
              "37        1  1.263119            approximate fair value\n",
              "43        3  1.298158                assumption subject\n",
              "...     ...       ...                               ...\n",
              "550       1  1.257293                      time initial\n",
              "551       1  1.257293          time initial recognition\n",
              "558       3  0.967394                      total energy\n",
              "587       1  1.263119                       value short\n",
              "588       1  1.263119                  value short term\n",
              "\n",
              "[64 rows x 3 columns], R=30, lambda_step=0.01, plot_opts={'xlab': 'PC1', 'ylab': 'PC2'}, topic_order=[2, 1, 4, 3])"
            ]
          },
          "metadata": {
            "tags": []
          },
          "execution_count": 84
        }
      ]
    },
    {
      "cell_type": "code",
      "metadata": {
        "id": "7JaKdXceJE84",
        "outputId": "2c075fff-1379-4882-a73a-5c28b62171dc",
        "colab": {
          "base_uri": "https://localhost:8080/"
        }
      },
      "source": [
        "# Showing the words for each topic\n",
        "n_words_to_show = 8\n",
        "rating_4_words = display_topics(lda, tfidf_vectorizer.get_feature_names(), n_words_to_show)"
      ],
      "execution_count": 85,
      "outputs": [
        {
          "output_type": "stream",
          "text": [
            "Topic 0:\n",
            "environmental rehabilitation, nature operation, provision environmental, rehabilitation provision, environmental rehabilitation provision, operation go, go concern, operation go concern\n",
            "\n",
            "Topic 1:\n",
            "purpose financial, initial recognition, depend nature, depend nature purpose, nature purpose, nature purpose financial, term nature, fair value\n",
            "\n",
            "Topic 2:\n",
            "global dairy, index etf, restoration rehabilitation, rehabilitation environmental, restoration rehabilitation environmental, financial position, constructive obligation ur, environmental cost\n",
            "\n",
            "Topic 3:\n",
            "forward look, environmental permit, total energy, financial result, risk uncertainty, inherent risk uncertainty, inherent risk, kei krl\n",
            "\n"
          ],
          "name": "stdout"
        }
      ]
    },
    {
      "cell_type": "markdown",
      "metadata": {
        "id": "mUKds2sq8eLT"
      },
      "source": [
        "**Comparison Summary**"
      ]
    },
    {
      "cell_type": "code",
      "metadata": {
        "id": "gbIGrNKi8hlP",
        "outputId": "35285109-8b79-454a-8e0c-9d2dcb96c02e",
        "colab": {
          "base_uri": "https://localhost:8080/"
        }
      },
      "source": [
        "summary_layout(rating_1_words, \n",
        "               rating_4_words)"
      ],
      "execution_count": 86,
      "outputs": [
        {
          "output_type": "stream",
          "text": [
            "topic 0\n",
            "service business, go concern, nature operation go, operation go, operation go concern, short sea, nature operation, matter lack market\n",
            "environmental rehabilitation, nature operation, provision environmental, rehabilitation provision, environmental rehabilitation provision, operation go, go concern, operation go concern\n",
            "\n",
            "\n",
            "topic 1\n",
            "cash flow, financial instrument, environmental permit, month end, energy services, december december, cost sale, end december december\n",
            "purpose financial, initial recognition, depend nature, depend nature purpose, nature purpose, nature purpose financial, term nature, fair value\n",
            "\n",
            "\n",
            "topic 2\n",
            "forward look, fair value, risk uncertainty, nature operation, forward look require, nature forward look, subject inherent, look require assumption\n",
            "global dairy, index etf, restoration rehabilitation, rehabilitation environmental, restoration rehabilitation environmental, financial position, constructive obligation ur, environmental cost\n",
            "\n",
            "\n",
            "topic 3\n",
            "environmental rehabilitation, provision environmental, provision environmental rehabilitation, environmental requirement, sustain ongoing, sustain ongoing production, ongoing production, financial liability\n",
            "forward look, environmental permit, total energy, financial result, risk uncertainty, inherent risk uncertainty, inherent risk, kei krl\n",
            "\n",
            "\n"
          ],
          "name": "stdout"
        }
      ]
    },
    {
      "cell_type": "markdown",
      "metadata": {
        "id": "isZhqbbwFztn"
      },
      "source": [
        "Highly rated companies tend to show more concern about nature and have conversational topics about adjusting their progress to work around nature instead of over nature (trying to leave nature as it is). \n",
        "\n",
        "They also seem to talk about the environmental cost when talking about rehabilitation of the environment instead of it being a financial liability. I guess what we can deduce from this is that higher rated companies are earning more because of their evident priorities when looking at environmental issues. "
      ]
    },
    {
      "cell_type": "markdown",
      "metadata": {
        "id": "DCpdP-i0J9az"
      },
      "source": [
        "### Trying on the different years"
      ]
    },
    {
      "cell_type": "markdown",
      "metadata": {
        "id": "ZPCQ8i108HIG"
      },
      "source": [
        "**2015**"
      ]
    },
    {
      "cell_type": "code",
      "metadata": {
        "id": "JIEYhXVoJEgZ",
        "outputId": "02464bb1-6f8a-4c06-bfa8-04c541620d16",
        "colab": {
          "base_uri": "https://localhost:8080/",
          "height": 861
        }
      },
      "source": [
        "# Creating the rating's dataset\n",
        "scoped_data = filtered_data.loc[filtered_data.fileyear == 2015, :]\n",
        "\n",
        "# Training the LDA model\n",
        "tfidf_vectorizer = TfidfVectorizer(ngram_range = (1, 3),\n",
        "                                   max_df = maxdf,\n",
        "                                   min_df = mindf,\n",
        "                                   max_features = None)\n",
        "tfidf_fit = tfidf_vectorizer.fit_transform(scoped_data.text)\n",
        "lda = LatentDirichletAllocation(n_components = 5, \n",
        "                                random_state = 69)\n",
        "lda.fit(tfidf_fit)\n",
        "\n",
        "# LDA visualisation\n",
        "pyLDAvis.sklearn.prepare(lda, tfidf_fit, tfidf_vectorizer)"
      ],
      "execution_count": 40,
      "outputs": [
        {
          "output_type": "execute_result",
          "data": {
            "text/html": [
              "\n",
              "<link rel=\"stylesheet\" type=\"text/css\" href=\"https://cdn.rawgit.com/bmabey/pyLDAvis/files/ldavis.v1.0.0.css\">\n",
              "\n",
              "\n",
              "<div id=\"ldavis_el99139713980949752689035505\"></div>\n",
              "<script type=\"text/javascript\">\n",
              "\n",
              "var ldavis_el99139713980949752689035505_data = {\"mdsDat\": {\"x\": [0.0065740480336639075, 0.0032772997339264288, 0.00676311133708263, -0.017626849660589586, 0.0010123905559166172], \"y\": [0.010217766721048507, 0.0026932802006304013, -0.011816149663360144, -0.0002695186943643469, -0.0008253785639544338], \"topics\": [1, 2, 3, 4, 5], \"cluster\": [1, 1, 1, 1, 1], \"Freq\": [22.80400169926578, 20.93501969659095, 20.444748368768366, 20.156266644697915, 15.65996359067699]}, \"tinfo\": {\"Term\": [\"risk uncertainty\", \"uncertainty\", \"forward look\", \"look\", \"forward\", \"require assumption subject\", \"inherent\", \"inherent risk\", \"inherent risk uncertainty\", \"look require\", \"assumption subject\", \"look require assumption\", \"forward look require\", \"require assumption\", \"assumption subject inherent\", \"require\", \"subject inherent risk\", \"subject\", \"subject inherent\", \"risk\", \"nature forward look\", \"nature forward\", \"assumption\", \"energy\", \"nexgen\", \"environmental\", \"december\", \"infrastructure\", \"deposit\", \"appropriate\", \"oil\", \"energy\", \"rimbey\", \"quarter year\", \"quarter\", \"large\", \"service\", \"financial instrument\", \"instrument\", \"contract\", \"deficit nature operation\", \"deficit nature\", \"deficit\", \"total energy\", \"group\", \"year\", \"field\", \"earn\", \"energy service\", \"sale volume\", \"volume\", \"result\", \"maintenance\", \"maintenance contract\", \"janitorial service\", \"janitorial\", \"canadian\", \"determination\", \"accordingly\", \"accordingly nature\", \"necessarily result precise\", \"precise\", \"company financial\", \"concern note\", \"go concern note\", \"company\", \"financial\", \"business\", \"note\", \"operation\", \"nature\", \"nature operation\", \"total\", \"contingency\", \"sustain\", \"production\", \"law\", \"political\", \"environmental political\", \"regulatory\", \"legal\", \"rease\", \"settlement\", \"determine initial recognition\", \"determine initial\", \"classification determine initial\", \"initial recognition depend\", \"classification determine\", \"recognition depend nature\", \"recognition depend\", \"factor\", \"note commitment contingency\", \"equity nature operation\", \"contingency note\", \"total equity nature\", \"total equity\", \"equity nature\", \"commitment contingency note\", \"note commitment\", \"concern note commitment\", \"commitment\", \"commitment contingency\", \"lude\", \"note\", \"gold\", \"change\", \"financial\", \"equity\", \"operation\", \"nature\", \"ome\", \"nature purpose\", \"nature purpose financial\", \"depend nature\", \"determine\", \"depend\", \"environmental\", \"recognition\", \"classification\", \"depend nature purpose\", \"initial recognition\", \"purpose\", \"december\", \"month\", \"month end\", \"end\", \"corporation\", \"act\", \"assess collectively\", \"collectively\", \"assess\", \"collectively base nature\", \"financial assess collectively\", \"collectively base\", \"remain\", \"remain financial\", \"remain financial assess\", \"base nature\", \"assess collectively base\", \"financial assess\", \"december december\", \"jaguar\", \"application\", \"payable\", \"energy construction industry\", \"energy construction\", \"utility\", \"utility energy\", \"utility energy construction\", \"enterprise\", \"enterprise consolidator\", \"consolidator\", \"provide\", \"service utility energy\", \"business provide service\", \"business provide\", \"provide service utility\", \"provide service\", \"enterprise consolidator business\", \"consolidator business\", \"service utility\", \"business\", \"ifrs\", \"fund\", \"equity\", \"consolidator business provide\", \"construction industry\", \"nature\", \"financial\", \"company\", \"continue\", \"cost\", \"risk uncertainty\", \"uncertainty\", \"subject inherent\", \"assumption subject inherent\", \"assumption subject\", \"require\", \"look require\", \"look require assumption\", \"inherent risk uncertainty\", \"inherent risk\", \"inherent\", \"require assumption\", \"forward look require\", \"subject inherent risk\", \"require assumption subject\", \"subject\", \"forward\", \"forward look\", \"look\", \"nature forward\", \"nature forward look\", \"risk\", \"assumption\", \"environmental\", \"tax\", \"environmental rehabilitation\", \"rehabilitation\", \"involve risk uncertainty\", \"involve risk\", \"look nature necessarily\", \"necessarily involve risk\", \"necessarily involve\", \"look nature\", \"nature necessarily involve\", \"nature necessarily\", \"nature\", \"forward look nature\", \"liability\", \"provision\", \"nexgen\", \"deposit\", \"appropriate\", \"infrastructure\", \"direct\", \"carry\", \"carry value\", \"performance achievement\", \"achievement\", \"result performance\", \"forward look information\", \"result performance achievement\", \"look information\", \"cont\", \"necessary go concern\", \"go concern cont\", \"go concern assumption\", \"necessary go\", \"concern assumption\", \"concern assumption appropriate\", \"concern cont\", \"concern cont necessary\", \"assumption appropriate\", \"cont necessary\", \"cont necessary go\", \"remove\", \"rehabilitate mine tailing\", \"remove structure rehabilitate\", \"rehabilitate mine\", \"rehabilitate\", \"restoration activity lude\", \"dismantle remove structure\", \"activity lude\", \"activity lude dismantle\", \"dismantle\", \"mine tailing\", \"mine\", \"activity\", \"tailing\", \"structure\", \"nature restoration\", \"lude dismantle\", \"structure rehabilitate mine\", \"structure rehabilitate\", \"remove structure\", \"lude dismantle remove\", \"term\", \"value\", \"hold\", \"restoration activity\", \"concern\", \"go\", \"go concern\", \"company\", \"nature\", \"nature operation\", \"mining\", \"operation\", \"energy\", \"assumption\"], \"Freq\": [0.0, 0.0, 0.0, 0.0, 0.0, 0.0, 0.0, 0.0, 0.0, 0.0, 0.0, 0.0, 0.0, 0.0, 0.0, 0.0, 0.0, 0.0, 0.0, 0.0, 0.0, 0.0, 0.0, 0.0, 0.0, 0.0, 0.0, 0.0, 0.0, 0.0, 0.10383105393241401, 0.16107665419812034, 0.09783367030499358, 0.09718345352103233, 0.09718345352103233, 0.09299681993643447, 0.11195583227181335, 0.09235875372186216, 0.09235875372186216, 0.10313489853238726, 0.08820925281617022, 0.08820925281617022, 0.08820925281617022, 0.08805823485778883, 0.08306105970899412, 0.10151534465497904, 0.080536774164755, 0.07949708621748608, 0.07882411682597422, 0.07866978242391828, 0.07866978242391828, 0.08975658366299802, 0.07207958758201448, 0.07207958758201448, 0.07207958758201448, 0.07207958758201448, 0.08006922786142985, 0.06858650234364662, 0.06858650234364662, 0.06858650234364662, 0.06858650234364662, 0.06858650234364662, 0.07710100154774198, 0.08325289378278651, 0.08325289378278651, 0.12021732597800606, 0.12709151681227154, 0.09125351573165158, 0.09112307359186972, 0.09676574775460944, 0.10988651254076126, 0.08433752141888914, 0.07963657193081806, 0.0905391315202027, 0.08675939927580983, 0.08052868530845636, 0.079797712822604, 0.07722671140794535, 0.07722671140794535, 0.07722671140794535, 0.07722671140794535, 0.08411773498079794, 0.07087607351272225, 0.07017697025574314, 0.07017697025574314, 0.07017697025574314, 0.07017697025574314, 0.07017697025574314, 0.07017697025574314, 0.07017697025574314, 0.07399293571096006, 0.06601991973644397, 0.06601991973644397, 0.06601991973644397, 0.06601991973644397, 0.06601991973644397, 0.06601991973644397, 0.06601991973644397, 0.06601991973644397, 0.06601991973644397, 0.06601991973644397, 0.06601991973644397, 0.09413838788597122, 0.09825233592269308, 0.07258599990713664, 0.07888058027787309, 0.10568826253826781, 0.07714508051878126, 0.0757488999384483, 0.07871426953722287, 0.06776538217158357, 0.06665103241898632, 0.06665103241898632, 0.06665103241898632, 0.06665103241898632, 0.06665103241898632, 0.06752909861757654, 0.06665103241898632, 0.06665103241898632, 0.06665103241898632, 0.06665103241898632, 0.06665103241898632, 0.10925895960470942, 0.09081681796971335, 0.09081681796971335, 0.10813079829813826, 0.10361275942093522, 0.07607291129801606, 0.07436426455203503, 0.07436426455203503, 0.07436426455203503, 0.07436426455203503, 0.07436426455203503, 0.07436426455203503, 0.07436426455203503, 0.07436426455203503, 0.07436426455203503, 0.07436426455203503, 0.07436426455203503, 0.07436426455203503, 0.07315901760475758, 0.07198332002068064, 0.0790315971316173, 0.0738359403775783, 0.0643344161367385, 0.0643344161367385, 0.0643344161367385, 0.0643344161367385, 0.0643344161367385, 0.0643344161367385, 0.0643344161367385, 0.0643344161367385, 0.0643344161367385, 0.0643344161367385, 0.0643344161367385, 0.0643344161367385, 0.0643344161367385, 0.0643344161367385, 0.0643344161367385, 0.0643344161367385, 0.0643344161367385, 0.08676954594576308, 0.07560690154576817, 0.07232877834527683, 0.07758944779182093, 0.0643344161367385, 0.0643344161367385, 0.10351052741218274, 0.09184354007375772, 0.08607277466394911, 0.06925961605093747, 0.07366410458957505, 0.18040581718581108, 0.18040581718581103, 0.16318285240097516, 0.16318285240097516, 0.16318285240097516, 0.16318285240097516, 0.16318285240097516, 0.16318285240097516, 0.16318285240097516, 0.16318285240097516, 0.16318285240097516, 0.16318285240097516, 0.16318285240097516, 0.16318285240097516, 0.16318285240097516, 0.16318285240097516, 0.18033742203920622, 0.18033742203920622, 0.18033742203920622, 0.15657033035869983, 0.15657033035869983, 0.1743220510064783, 0.14571247488924557, 0.12143972695283263, 0.08133667476676285, 0.08098042250823795, 0.08098042250823795, 0.07214116597597561, 0.07214116597597561, 0.07214116597597561, 0.07214116597597561, 0.07214116597597561, 0.07214116597597561, 0.07214116597597561, 0.07214116597597561, 0.1437354738011666, 0.07214116597597561, 0.08897941913218595, 0.07740443849926464, 0.07109283948279058, 0.06246784682385434, 0.06156366612367371, 0.06478982796573944, 0.05527563755012313, 0.05519070496577325, 0.05519070496577325, 0.050829987776929465, 0.050829987776929465, 0.050829987776929465, 0.050829987776929465, 0.050829987776929465, 0.050829987776929465, 0.050100510169309095, 0.050100510169309095, 0.050100510169309095, 0.050100510169309095, 0.050100510169309095, 0.050100510169309095, 0.050100510169309095, 0.050100510169309095, 0.050100510169309095, 0.050100510169309095, 0.050100510169309095, 0.050100510169309095, 0.049558241144409806, 0.049558241144409806, 0.049558241144409806, 0.049558241144409806, 0.049558241144409806, 0.049558241144409806, 0.049558241144409806, 0.049558241144409806, 0.049558241144409806, 0.049558241144409806, 0.049558241144409806, 0.049558241144409806, 0.049558241144409806, 0.049558241144409806, 0.049558241144409806, 0.049558241144409806, 0.049558241144409806, 0.049558241144409806, 0.049558241144409806, 0.049558241144409806, 0.049558241144409806, 0.05763607006209873, 0.06578765684625573, 0.05763774043503836, 0.049558241144409806, 0.06494269388573545, 0.06494269388573545, 0.06494269388573545, 0.0669736014332963, 0.06733773386058464, 0.058179592107338786, 0.052800004986039206, 0.05360159652908762, 0.05338282339224882, 0.05089657740473904], \"Total\": [0.0, 0.0, 0.0, 0.0, 0.0, 0.0, 0.0, 0.0, 0.0, 0.0, 0.0, 0.0, 0.0, 0.0, 0.0, 0.0, 0.0, 0.0, 0.0, 0.0, 0.0, 0.0, 0.0, 0.0, 0.0, 0.0, 0.0, 0.0, 0.0, 0.0, 0.22248766135479484, 0.35585348948938583, 0.21649183278081166, 0.21584208535948418, 0.21584208535948418, 0.21165332086051497, 0.2554156624420997, 0.21101698023437704, 0.21101698023437704, 0.23602558671461377, 0.20687066255200615, 0.20687066255200615, 0.20687066255200615, 0.20671601343891652, 0.20171666253484907, 0.24889127261244814, 0.1991925628070849, 0.19815386496035559, 0.1974819361152898, 0.1973269554419737, 0.1973269554419737, 0.23023333833228826, 0.1907370123352978, 0.1907370123352978, 0.1907370123352978, 0.1907370123352978, 0.2155196409595665, 0.18724656622170455, 0.18724656622170455, 0.18724656622170455, 0.18724656622170455, 0.18724656622170455, 0.21256055768458687, 0.23291657997474458, 0.23291657997474458, 0.38768252096275324, 0.42025136575571725, 0.2772768990737249, 0.2884178697397319, 0.3401585917346197, 0.5031845171519181, 0.30594582706894835, 0.25979003643591, 0.2114435777143545, 0.20766203396208907, 0.20143211984998194, 0.20070116569022683, 0.19813053540063605, 0.19813053540063605, 0.19813053540063605, 0.19813053540063605, 0.22556372610297062, 0.1917788957330334, 0.19108401139489817, 0.19108401139489817, 0.19108401139489817, 0.19108401139489817, 0.19108401139489817, 0.19108401139489817, 0.19108401139489817, 0.2057885972647112, 0.18692687566037253, 0.18692687566037253, 0.18692687566037253, 0.18692687566037253, 0.18692687566037253, 0.18692687566037253, 0.18692687566037253, 0.18692687566037253, 0.18692687566037253, 0.18692687566037253, 0.18692687566037253, 0.26723964485720814, 0.2884178697397319, 0.21067129150000183, 0.24598247041696947, 0.42025136575571725, 0.2617623837769246, 0.3401585917346197, 0.5031845171519181, 0.24524904389809066, 0.21857494669497504, 0.21857494669497504, 0.21857494669497504, 0.21857494669497504, 0.21857494669497504, 0.30007871252304474, 0.21857494669497504, 0.21857494669497504, 0.21857494669497504, 0.21857494669497504, 0.21857494669497504, 0.2528037151727161, 0.21244709592777314, 0.21244709592777314, 0.2609717552635319, 0.26881253388924, 0.19770141804493888, 0.19599693421913073, 0.19599693421913073, 0.19599693421913073, 0.19599693421913073, 0.19599693421913073, 0.19599693421913073, 0.19599693421913073, 0.19599693421913073, 0.19599693421913073, 0.19599693421913073, 0.19599693421913073, 0.19599693421913073, 0.19478896246563798, 0.1936110697828355, 0.22527193763690265, 0.21193295541812124, 0.1859658118169668, 0.1859658118169668, 0.1859658118169668, 0.1859658118169668, 0.1859658118169668, 0.1859658118169668, 0.1859658118169668, 0.1859658118169668, 0.1859658118169668, 0.1859658118169668, 0.1859658118169668, 0.1859658118169668, 0.1859658118169668, 0.1859658118169668, 0.1859658118169668, 0.1859658118169668, 0.1859658118169668, 0.2772768990737249, 0.2324278090631339, 0.22357974493415536, 0.2617623837769246, 0.1859658118169668, 0.1859658118169668, 0.5031845171519181, 0.42025136575571725, 0.38768252096275324, 0.22728302885639054, 0.2788844669678342, 0.31134845562046976, 0.31134845562046976, 0.28517778319693293, 0.28517778319693293, 0.28517778319693293, 0.28517778319693293, 0.28517778319693293, 0.28517778319693293, 0.28517778319693293, 0.28517778319693293, 0.28517778319693293, 0.28517778319693293, 0.28517778319693293, 0.28517778319693293, 0.28517778319693293, 0.28517778319693293, 0.3206045390178579, 0.3206045390178579, 0.3206045390178579, 0.28803366162036687, 0.28803366162036687, 0.34451517702195095, 0.3068457157956352, 0.30007871252304474, 0.20333374452336972, 0.20297745688851795, 0.20297745688851795, 0.19414049164643143, 0.19414049164643143, 0.19414049164643143, 0.19414049164643143, 0.19414049164643143, 0.19414049164643143, 0.19414049164643143, 0.19414049164643143, 0.5031845171519181, 0.19414049164643143, 0.26438220586936645, 0.21580151829942454, 0.1989268624018853, 0.19030146700122774, 0.18939814579051778, 0.20778128581349808, 0.1831082990787266, 0.1830237502705592, 0.1830237502705592, 0.1786638410345166, 0.1786638410345166, 0.1786638410345166, 0.1786638410345166, 0.1786638410345166, 0.1786638410345166, 0.1779378992603904, 0.1779378992603904, 0.1779378992603904, 0.1779378992603904, 0.1779378992603904, 0.1779378992603904, 0.1779378992603904, 0.1779378992603904, 0.1779378992603904, 0.1779378992603904, 0.1779378992603904, 0.1779378992603904, 0.1773945402617717, 0.1773945402617717, 0.1773945402617717, 0.1773945402617717, 0.1773945402617717, 0.1773945402617717, 0.1773945402617717, 0.1773945402617717, 0.1773945402617717, 0.1773945402617717, 0.1773945402617717, 0.1773945402617717, 0.1773945402617717, 0.1773945402617717, 0.1773945402617717, 0.1773945402617717, 0.1773945402617717, 0.1773945402617717, 0.1773945402617717, 0.1773945402617717, 0.1773945402617717, 0.21544248877587027, 0.25805263032663095, 0.2170813062202707, 0.1773945402617717, 0.29331925391037494, 0.29331925391037494, 0.29331925391037494, 0.38768252096275324, 0.5031845171519181, 0.30594582706894835, 0.23333529670883962, 0.3401585917346197, 0.35585348948938583, 0.3068457157956352], \"Category\": [\"Default\", \"Default\", \"Default\", \"Default\", \"Default\", \"Default\", \"Default\", \"Default\", \"Default\", \"Default\", \"Default\", \"Default\", \"Default\", \"Default\", \"Default\", \"Default\", \"Default\", \"Default\", \"Default\", \"Default\", \"Default\", \"Default\", \"Default\", \"Default\", \"Default\", \"Default\", \"Default\", \"Default\", \"Default\", \"Default\", \"Topic1\", \"Topic1\", \"Topic1\", \"Topic1\", \"Topic1\", \"Topic1\", \"Topic1\", \"Topic1\", \"Topic1\", \"Topic1\", \"Topic1\", \"Topic1\", \"Topic1\", \"Topic1\", \"Topic1\", \"Topic1\", \"Topic1\", \"Topic1\", \"Topic1\", \"Topic1\", \"Topic1\", \"Topic1\", \"Topic1\", \"Topic1\", \"Topic1\", \"Topic1\", \"Topic1\", \"Topic1\", \"Topic1\", \"Topic1\", \"Topic1\", \"Topic1\", \"Topic1\", \"Topic1\", \"Topic1\", \"Topic1\", \"Topic1\", \"Topic1\", \"Topic1\", \"Topic1\", \"Topic1\", \"Topic1\", \"Topic1\", \"Topic2\", \"Topic2\", \"Topic2\", \"Topic2\", \"Topic2\", \"Topic2\", \"Topic2\", \"Topic2\", \"Topic2\", \"Topic2\", \"Topic2\", \"Topic2\", \"Topic2\", \"Topic2\", \"Topic2\", \"Topic2\", \"Topic2\", \"Topic2\", \"Topic2\", \"Topic2\", \"Topic2\", \"Topic2\", \"Topic2\", \"Topic2\", \"Topic2\", \"Topic2\", \"Topic2\", \"Topic2\", \"Topic2\", \"Topic2\", \"Topic2\", \"Topic2\", \"Topic2\", \"Topic2\", \"Topic2\", \"Topic2\", \"Topic2\", \"Topic2\", \"Topic2\", \"Topic2\", \"Topic2\", \"Topic2\", \"Topic2\", \"Topic2\", \"Topic2\", \"Topic2\", \"Topic2\", \"Topic2\", \"Topic2\", \"Topic3\", \"Topic3\", \"Topic3\", \"Topic3\", \"Topic3\", \"Topic3\", \"Topic3\", \"Topic3\", \"Topic3\", \"Topic3\", \"Topic3\", \"Topic3\", \"Topic3\", \"Topic3\", \"Topic3\", \"Topic3\", \"Topic3\", \"Topic3\", \"Topic3\", \"Topic3\", \"Topic3\", \"Topic3\", \"Topic3\", \"Topic3\", \"Topic3\", \"Topic3\", \"Topic3\", \"Topic3\", \"Topic3\", \"Topic3\", \"Topic3\", \"Topic3\", \"Topic3\", \"Topic3\", \"Topic3\", \"Topic3\", \"Topic3\", \"Topic3\", \"Topic3\", \"Topic3\", \"Topic3\", \"Topic3\", \"Topic3\", \"Topic3\", \"Topic3\", \"Topic3\", \"Topic3\", \"Topic3\", \"Topic3\", \"Topic3\", \"Topic4\", \"Topic4\", \"Topic4\", \"Topic4\", \"Topic4\", \"Topic4\", \"Topic4\", \"Topic4\", \"Topic4\", \"Topic4\", \"Topic4\", \"Topic4\", \"Topic4\", \"Topic4\", \"Topic4\", \"Topic4\", \"Topic4\", \"Topic4\", \"Topic4\", \"Topic4\", \"Topic4\", \"Topic4\", \"Topic4\", \"Topic4\", \"Topic4\", \"Topic4\", \"Topic4\", \"Topic4\", \"Topic4\", \"Topic4\", \"Topic4\", \"Topic4\", \"Topic4\", \"Topic4\", \"Topic4\", \"Topic4\", \"Topic4\", \"Topic4\", \"Topic4\", \"Topic5\", \"Topic5\", \"Topic5\", \"Topic5\", \"Topic5\", \"Topic5\", \"Topic5\", \"Topic5\", \"Topic5\", \"Topic5\", \"Topic5\", \"Topic5\", \"Topic5\", \"Topic5\", \"Topic5\", \"Topic5\", \"Topic5\", \"Topic5\", \"Topic5\", \"Topic5\", \"Topic5\", \"Topic5\", \"Topic5\", \"Topic5\", \"Topic5\", \"Topic5\", \"Topic5\", \"Topic5\", \"Topic5\", \"Topic5\", \"Topic5\", \"Topic5\", \"Topic5\", \"Topic5\", \"Topic5\", \"Topic5\", \"Topic5\", \"Topic5\", \"Topic5\", \"Topic5\", \"Topic5\", \"Topic5\", \"Topic5\", \"Topic5\", \"Topic5\", \"Topic5\", \"Topic5\", \"Topic5\", \"Topic5\", \"Topic5\", \"Topic5\", \"Topic5\", \"Topic5\", \"Topic5\", \"Topic5\", \"Topic5\", \"Topic5\", \"Topic5\", \"Topic5\", \"Topic5\"], \"logprob\": [30.0, 29.0, 28.0, 27.0, 26.0, 25.0, 24.0, 23.0, 22.0, 21.0, 20.0, 19.0, 18.0, 17.0, 16.0, 15.0, 14.0, 13.0, 12.0, 11.0, 10.0, 9.0, 8.0, 7.0, 6.0, 5.0, 4.0, 3.0, 2.0, 1.0, -6.6962, -6.257, -6.7557, -6.7623, -6.7623, -6.8064, -6.6208, -6.8132, -6.8132, -6.7029, -6.8592, -6.8592, -6.8592, -6.8609, -6.9193, -6.7187, -6.9502, -6.9632, -6.9717, -6.9737, -6.9737, -6.8418, -7.0611, -7.0611, -7.0611, -7.0611, -6.956, -7.1108, -7.1108, -7.1108, -7.1108, -7.1108, -6.9938, -6.917, -6.917, -6.5496, -6.494, -6.8253, -6.8267, -6.7666, -6.6395, -6.9041, -6.9614, -6.7476, -6.7903, -6.8648, -6.8739, -6.9067, -6.9067, -6.9067, -6.9067, -6.8212, -6.9925, -7.0024, -7.0024, -7.0024, -7.0024, -7.0024, -7.0024, -7.0024, -6.9494, -7.0635, -7.0635, -7.0635, -7.0635, -7.0635, -7.0635, -7.0635, -7.0635, -7.0635, -7.0635, -7.0635, -6.7086, -6.6659, -6.9686, -6.8855, -6.5929, -6.9077, -6.926, -6.8876, -7.0374, -7.0539, -7.0539, -7.0539, -7.0539, -7.0539, -7.0408, -7.0539, -7.0539, -7.0539, -7.0539, -7.0539, -6.536, -6.7209, -6.7209, -6.5464, -6.589, -6.898, -6.9207, -6.9207, -6.9207, -6.9207, -6.9207, -6.9207, -6.9207, -6.9207, -6.9207, -6.9207, -6.9207, -6.9207, -6.9371, -6.9533, -6.8599, -6.9279, -7.0656, -7.0656, -7.0656, -7.0656, -7.0656, -7.0656, -7.0656, -7.0656, -7.0656, -7.0656, -7.0656, -7.0656, -7.0656, -7.0656, -7.0656, -7.0656, -7.0656, -6.7665, -6.9042, -6.9485, -6.8783, -7.0656, -7.0656, -6.59, -6.7096, -6.7745, -6.9918, -6.9302, -6.0203, -6.0203, -6.1206, -6.1206, -6.1206, -6.1206, -6.1206, -6.1206, -6.1206, -6.1206, -6.1206, -6.1206, -6.1206, -6.1206, -6.1206, -6.1206, -6.0207, -6.0207, -6.0207, -6.162, -6.162, -6.0546, -6.2339, -6.4161, -6.8169, -6.8213, -6.8213, -6.9369, -6.9369, -6.9369, -6.9369, -6.9369, -6.9369, -6.9369, -6.9369, -6.2475, -6.9369, -6.7271, -6.8665, -6.6991, -6.8284, -6.843, -6.7919, -6.9508, -6.9523, -6.9523, -7.0346, -7.0346, -7.0346, -7.0346, -7.0346, -7.0346, -7.0491, -7.0491, -7.0491, -7.0491, -7.0491, -7.0491, -7.0491, -7.0491, -7.0491, -7.0491, -7.0491, -7.0491, -7.0599, -7.0599, -7.0599, -7.0599, -7.0599, -7.0599, -7.0599, -7.0599, -7.0599, -7.0599, -7.0599, -7.0599, -7.0599, -7.0599, -7.0599, -7.0599, -7.0599, -7.0599, -7.0599, -7.0599, -7.0599, -6.9089, -6.7767, -6.9089, -7.0599, -6.7896, -6.7896, -6.7896, -6.7588, -6.7534, -6.8996, -6.9966, -6.9815, -6.9856, -7.0333], \"loglift\": [30.0, 29.0, 28.0, 27.0, 26.0, 25.0, 24.0, 23.0, 22.0, 21.0, 20.0, 19.0, 18.0, 17.0, 16.0, 15.0, 14.0, 13.0, 12.0, 11.0, 10.0, 9.0, 8.0, 7.0, 6.0, 5.0, 4.0, 3.0, 2.0, 1.0, 0.7161, 0.6856, 0.684, 0.6803, 0.6803, 0.6558, 0.6534, 0.652, 0.652, 0.6503, 0.6259, 0.6259, 0.6259, 0.6249, 0.5909, 0.5814, 0.5727, 0.5649, 0.5598, 0.5586, 0.5586, 0.5362, 0.5051, 0.5051, 0.5051, 0.5051, 0.4881, 0.4739, 0.4739, 0.4739, 0.4739, 0.4739, 0.4641, 0.4494, 0.4494, 0.3073, 0.2823, 0.3669, 0.326, 0.2211, -0.0433, 0.1897, 0.2958, 0.7156, 0.691, 0.6469, 0.6414, 0.6216, 0.6216, 0.6216, 0.6216, 0.5774, 0.5683, 0.5621, 0.5621, 0.5621, 0.5621, 0.5621, 0.5621, 0.5621, 0.5409, 0.523, 0.523, 0.523, 0.523, 0.523, 0.523, 0.523, 0.523, 0.523, 0.523, 0.523, 0.5204, 0.4869, 0.4982, 0.4264, 0.1834, 0.342, 0.0618, -0.2914, 0.2775, 0.3761, 0.3761, 0.3761, 0.3761, 0.3761, 0.0723, 0.3761, 0.3761, 0.3761, 0.3761, 0.3761, 0.7486, 0.7376, 0.7376, 0.7064, 0.6341, 0.6324, 0.6183, 0.6183, 0.6183, 0.6183, 0.6183, 0.6183, 0.6183, 0.6183, 0.6183, 0.6183, 0.6183, 0.6183, 0.6082, 0.598, 0.54, 0.533, 0.526, 0.526, 0.526, 0.526, 0.526, 0.526, 0.526, 0.526, 0.526, 0.526, 0.526, 0.526, 0.526, 0.526, 0.526, 0.526, 0.526, 0.4257, 0.4644, 0.4589, 0.3714, 0.526, 0.526, 0.0062, 0.0667, 0.0825, 0.3991, 0.2562, 1.056, 1.056, 1.0434, 1.0434, 1.0434, 1.0434, 1.0434, 1.0434, 1.0434, 1.0434, 1.0434, 1.0434, 1.0434, 1.0434, 1.0434, 1.0434, 1.0263, 1.0263, 1.0263, 0.9921, 0.9921, 0.9204, 0.8569, 0.697, 0.6854, 0.6828, 0.6828, 0.6117, 0.6117, 0.6117, 0.6117, 0.6117, 0.6117, 0.6117, 0.6117, 0.3487, 0.6117, 0.5127, 0.5763, 0.8251, 0.7401, 0.7303, 0.6887, 0.6563, 0.6552, 0.6552, 0.597, 0.597, 0.597, 0.597, 0.597, 0.597, 0.5867, 0.5867, 0.5867, 0.5867, 0.5867, 0.5867, 0.5867, 0.5867, 0.5867, 0.5867, 0.5867, 0.5867, 0.5788, 0.5788, 0.5788, 0.5788, 0.5788, 0.5788, 0.5788, 0.5788, 0.5788, 0.5788, 0.5788, 0.5788, 0.5788, 0.5788, 0.5788, 0.5788, 0.5788, 0.5788, 0.5788, 0.5788, 0.5788, 0.5355, 0.4873, 0.528, 0.5788, 0.3463, 0.3463, 0.3463, 0.0982, -0.1572, 0.1942, 0.3681, 0.0062, -0.043, 0.0575]}, \"token.table\": {\"Topic\": [], \"Freq\": [], \"Term\": []}, \"R\": 30, \"lambda.step\": 0.01, \"plot.opts\": {\"xlab\": \"PC1\", \"ylab\": \"PC2\"}, \"topic.order\": [2, 5, 1, 3, 4]};\n",
              "\n",
              "function LDAvis_load_lib(url, callback){\n",
              "  var s = document.createElement('script');\n",
              "  s.src = url;\n",
              "  s.async = true;\n",
              "  s.onreadystatechange = s.onload = callback;\n",
              "  s.onerror = function(){console.warn(\"failed to load library \" + url);};\n",
              "  document.getElementsByTagName(\"head\")[0].appendChild(s);\n",
              "}\n",
              "\n",
              "if(typeof(LDAvis) !== \"undefined\"){\n",
              "   // already loaded: just create the visualization\n",
              "   !function(LDAvis){\n",
              "       new LDAvis(\"#\" + \"ldavis_el99139713980949752689035505\", ldavis_el99139713980949752689035505_data);\n",
              "   }(LDAvis);\n",
              "}else if(typeof define === \"function\" && define.amd){\n",
              "   // require.js is available: use it to load d3/LDAvis\n",
              "   require.config({paths: {d3: \"https://cdnjs.cloudflare.com/ajax/libs/d3/3.5.5/d3.min\"}});\n",
              "   require([\"d3\"], function(d3){\n",
              "      window.d3 = d3;\n",
              "      LDAvis_load_lib(\"https://cdn.rawgit.com/bmabey/pyLDAvis/files/ldavis.v1.0.0.js\", function(){\n",
              "        new LDAvis(\"#\" + \"ldavis_el99139713980949752689035505\", ldavis_el99139713980949752689035505_data);\n",
              "      });\n",
              "    });\n",
              "}else{\n",
              "    // require.js not available: dynamically load d3 & LDAvis\n",
              "    LDAvis_load_lib(\"https://cdnjs.cloudflare.com/ajax/libs/d3/3.5.5/d3.min.js\", function(){\n",
              "         LDAvis_load_lib(\"https://cdn.rawgit.com/bmabey/pyLDAvis/files/ldavis.v1.0.0.js\", function(){\n",
              "                 new LDAvis(\"#\" + \"ldavis_el99139713980949752689035505\", ldavis_el99139713980949752689035505_data);\n",
              "            })\n",
              "         });\n",
              "}\n",
              "</script>"
            ],
            "text/plain": [
              "PreparedData(topic_coordinates=              x         y  topics  cluster       Freq\n",
              "topic                                                \n",
              "1      0.006574  0.010218       1        1  22.804002\n",
              "4      0.003277  0.002693       2        1  20.935020\n",
              "0      0.006763 -0.011816       3        1  20.444748\n",
              "2     -0.017627 -0.000270       4        1  20.156267\n",
              "3      0.001012 -0.000825       5        1  15.659964, topic_info=                  Term      Freq     Total Category  logprob  loglift\n",
              "1742  risk uncertainty  0.000000  0.000000  Default  30.0000  30.0000\n",
              "1972       uncertainty  0.000000  0.000000  Default  29.0000  29.0000\n",
              "859       forward look  0.000000  0.000000  Default  28.0000  28.0000\n",
              "1170              look  0.000000  0.000000  Default  27.0000  27.0000\n",
              "858            forward  0.000000  0.000000  Default  26.0000  26.0000\n",
              "...                ...       ...       ...      ...      ...      ...\n",
              "1294  nature operation  0.058180  0.305946   Topic5  -6.8996   0.1942\n",
              "1250            mining  0.052800  0.233335   Topic5  -6.9966   0.3681\n",
              "1393         operation  0.053602  0.340159   Topic5  -6.9815   0.0062\n",
              "677             energy  0.053383  0.355853   Topic5  -6.9856  -0.0430\n",
              "141         assumption  0.050897  0.306846   Topic5  -7.0333   0.0575\n",
              "\n",
              "[271 rows x 6 columns], token_table=Empty DataFrame\n",
              "Columns: [Topic, Freq, Term]\n",
              "Index: [], R=30, lambda_step=0.01, plot_opts={'xlab': 'PC1', 'ylab': 'PC2'}, topic_order=[2, 5, 1, 3, 4])"
            ]
          },
          "metadata": {
            "tags": []
          },
          "execution_count": 40
        }
      ]
    },
    {
      "cell_type": "code",
      "metadata": {
        "id": "iKG0DFgc7PWn",
        "outputId": "a53e0265-2fad-441d-c6d9-9d1c57dceb22",
        "colab": {
          "base_uri": "https://localhost:8080/"
        }
      },
      "source": [
        "# Showing the words for each topic\n",
        "n_words_to_show = 8\n",
        "year2015 = display_topics(lda, tfidf_vectorizer.get_feature_names(), n_words_to_show)"
      ],
      "execution_count": 41,
      "outputs": [
        {
          "output_type": "stream",
          "text": [
            "Topic 0:\n",
            "december, end, corporation, nature, financial, month, month end, business\n",
            "\n",
            "Topic 1:\n",
            "energy, financial, company, service, nature, oil, contract, year\n",
            "\n",
            "Topic 2:\n",
            "risk uncertainty, uncertainty, look, forward, forward look, risk, subject inherent risk, look require assumption\n",
            "\n",
            "Topic 3:\n",
            "nexgen, nature, company, value, go, concern, go concern, infrastructure\n",
            "\n",
            "Topic 4:\n",
            "financial, note, lude, contingency, sustain, rease, production, law\n",
            "\n"
          ],
          "name": "stdout"
        }
      ]
    },
    {
      "cell_type": "markdown",
      "metadata": {
        "id": "pXCAHkPc8MfS"
      },
      "source": [
        "**2016**"
      ]
    },
    {
      "cell_type": "code",
      "metadata": {
        "id": "VjjXgkWH8Nqe",
        "outputId": "3db9b5a9-ad9a-4898-be34-96b57bd2b1d7",
        "colab": {
          "base_uri": "https://localhost:8080/",
          "height": 861
        }
      },
      "source": [
        "# Creating the rating's dataset\n",
        "scoped_data = filtered_data.loc[filtered_data.fileyear == 2016, :]\n",
        "\n",
        "# Training the LDA model\n",
        "tfidf_vectorizer = TfidfVectorizer(ngram_range = (1, 3),\n",
        "                                   max_df = maxdf,\n",
        "                                   min_df = mindf,\n",
        "                                   max_features = None)\n",
        "tfidf_fit = tfidf_vectorizer.fit_transform(scoped_data.text)\n",
        "lda = LatentDirichletAllocation(n_components = 5, \n",
        "                                random_state = 69)\n",
        "lda.fit(tfidf_fit)\n",
        "\n",
        "# LDA visualisation\n",
        "pyLDAvis.sklearn.prepare(lda, tfidf_fit, tfidf_vectorizer)"
      ],
      "execution_count": 42,
      "outputs": [
        {
          "output_type": "execute_result",
          "data": {
            "text/html": [
              "\n",
              "<link rel=\"stylesheet\" type=\"text/css\" href=\"https://cdn.rawgit.com/bmabey/pyLDAvis/files/ldavis.v1.0.0.css\">\n",
              "\n",
              "\n",
              "<div id=\"ldavis_el991397139809521523477592162\"></div>\n",
              "<script type=\"text/javascript\">\n",
              "\n",
              "var ldavis_el991397139809521523477592162_data = {\"mdsDat\": {\"x\": [-0.004444303940651131, 0.014996056752572623, -0.010328186442265604, -0.0005798978642694153, 0.0003563314946135136], \"y\": [0.013696276972868262, -0.0027746804606814525, -0.009941491913712899, -0.00016165218203686532, -0.0008184524164370432], \"topics\": [1, 2, 3, 4, 5], \"cluster\": [1, 1, 1, 1, 1], \"Freq\": [27.5502136036849, 24.054132200642655, 20.084982803653574, 14.959979963324482, 13.35069142869439]}, \"tinfo\": {\"Term\": [\"rehabilitation\", \"energy\", \"provision environmental\", \"rimbey\", \"december\", \"reclamation\", \"require assumption subject\", \"assumption subject inherent\", \"subject inherent risk\", \"subject inherent\", \"assumption subject\", \"require assumption\", \"forward look require\", \"look require assumption\", \"look require\", \"month\", \"environmental\", \"legal\", \"expenditure\", \"lude\", \"rehabilitation finance liability\", \"finance\", \"rehabilitation finance\", \"finance liability\", \"environmental rehabilitation finance\", \"provision environmental rehabilitation\", \"assumption\", \"reclamation expenditure\", \"charge provision environmental\", \"charge provision\", \"requirement\", \"trevali\", \"customer\", \"licence\", \"business\", \"mining\", \"segment\", \"concession\", \"program\", \"entity\", \"regulation\", \"operation\", \"instrument\", \"nature financial instrument\", \"financial instrument\", \"direct\", \"licensing requirement\", \"licensing\", \"primarily\", \"involve\", \"recreation business lawsuit\", \"recreation\", \"sport\", \"lawsuit involve\", \"lawsuit involve company\", \"nature sport recreation\", \"company pende\", \"recreation business\", \"lawsuit\", \"sport recreation business\", \"business lawsuit involve\", \"nature sport\", \"sport recreation\", \"business lawsuit\", \"pende\", \"company\", \"nature\", \"involve company\", \"canada\", \"involve company pende\", \"loss\", \"intend\", \"value\", \"cost\", \"corporation\", \"base\", \"environmental\", \"subject\", \"look require assumption\", \"forward look require\", \"require assumption subject\", \"require assumption\", \"assumption subject\", \"assumption subject inherent\", \"look require\", \"subject inherent\", \"subject inherent risk\", \"assumption\", \"inherent\", \"inherent risk uncertainty\", \"inherent risk\", \"nature forward\", \"nature forward look\", \"require\", \"subject\", \"risk uncertainty\", \"risk\", \"uncertainty\", \"application\", \"software\", \"financial assess\", \"collectively base\", \"base nature\", \"collectively\", \"collectively base nature\", \"remain\", \"assess collectively\", \"financial assess collectively\", \"assess collectively base\", \"remain financial assess\", \"remain financial\", \"assess\", \"initial\", \"nature\", \"forward\", \"forward look\", \"look\", \"financial\", \"ifrs\", \"production\", \"company\", \"december\", \"month\", \"end\", \"services\", \"energy services\", \"financial position\", \"month end\", \"energy\", \"audit\", \"accompany financial\", \"audit accompany financial\", \"audit accompany\", \"accompany\", \"condition lude word\", \"lude word expect\", \"future event condition\", \"word expect\", \"nature depend refer\", \"depend refer future\", \"predictive nature depend\", \"future event\", \"lude predictive\", \"lude predictive nature\", \"look lude predictive\", \"look lude\", \"predictive\", \"nature depend\", \"lude word\", \"refer\", \"refer future\", \"condition lude\", \"event condition lude\", \"forward look lude\", \"event\", \"depend refer\", \"event condition\", \"predictive nature\", \"refer future event\", \"lude\", \"expect\", \"financial\", \"future\", \"forward look\", \"forward\", \"look\", \"position\", \"reclamation\", \"expenditure charge provision\", \"reclamation expenditure\", \"charge provision\", \"charge provision environmental\", \"expenditure charge\", \"reclamation expenditure charge\", \"cause\", \"expenditure\", \"audits express\", \"audits\", \"report outline nature\", \"report outline\", \"express\", \"express opinion\", \"express opinion financial\", \"audits express opinion\", \"outline nature\", \"opinion financial\", \"opinion\", \"outline nature audits\", \"nature audits express\", \"outline\", \"nature audits\", \"item\", \"provision environmental\", \"charge\", \"decommissioning reclamation\", \"cost generally occur\", \"cost generally\", \"exploration evaluation development\", \"reclamation cost generally\", \"development ongoing production\", \"generally occur environmental\", \"evaluation development ongoing\", \"exploration evaluation\", \"occur environmental\", \"disturbance cause\", \"report\", \"evaluation development\", \"reclamation cost\", \"reduction\", \"credit\", \"provision\", \"environmental\", \"nature\", \"rehabilitation\", \"rimbey\", \"finance\", \"provision environmental rehabilitation\", \"environmental rehabilitation finance\", \"finance liability\", \"rehabilitation finance liability\", \"rehabilitation finance\", \"legal\", \"environmental rehabilitation\", \"rehabilitation environmental\", \"ur restoration rehabilitation\", \"ur restoration\", \"obligation ur\", \"obligation ur restoration\", \"legal constructive obligation\", \"rehabilitation environmental cost\", \"constructive\", \"constructive obligation\", \"constructive obligation ur\", \"restoration rehabilitation environmental\", \"restoration rehabilitation\", \"restoration\", \"legal constructive\", \"environmental cost\", \"purpose financial determine\", \"time initial\", \"financial determine time\", \"determine time\", \"financial determine\", \"determine time initial\", \"classification depend\", \"classification depend nature\", \"time\", \"time initial recognition\", \"environmental\", \"provision environmental\", \"liability\", \"energy\", \"provision\", \"nature\"], \"Freq\": [0.0, 0.0, 0.0, 0.0, 0.0, 0.0, 0.0, 0.0, 0.0, 0.0, 0.0, 0.0, 0.0, 0.0, 0.0, 0.0, 0.0, 0.0, 0.0, 0.0, 0.0, 0.0, 0.0, 0.0, 0.0, 0.0, 0.0, 0.0, 0.0, 0.0, 0.11905198972676102, 0.10806332760534898, 0.10506637195711285, 0.10356428333110322, 0.12098559388722482, 0.10736627172777241, 0.09794513042758148, 0.096248939914095, 0.0917772428626834, 0.0884385077958036, 0.09457937332705246, 0.09436227201293425, 0.08760781659840561, 0.08760781659840561, 0.08760781659840561, 0.08661155018169171, 0.08618472999012437, 0.08618472999012437, 0.08520268844168105, 0.09743974878532251, 0.08403182397619748, 0.08403182397619748, 0.08403182397619748, 0.08403182397619748, 0.08403182397619748, 0.08403182397619748, 0.08403182397619748, 0.08403182397619748, 0.08403182397619748, 0.08403182397619748, 0.08403182397619748, 0.08403182397619748, 0.08403182397619748, 0.08403182397619748, 0.08403182397619748, 0.12682160326205763, 0.15076381723317633, 0.08403182397619748, 0.0886356164100332, 0.08403182397619748, 0.08788981636108965, 0.09205133070557928, 0.09595613695030632, 0.09616247066160676, 0.09187611948903318, 0.0917265162338814, 0.0906972330971645, 0.08569430563392845, 0.15354608844831083, 0.15354608844831083, 0.15354608844831083, 0.15354608844831083, 0.15354608844831083, 0.15354608844831083, 0.15354608844831083, 0.15354608844831083, 0.15354608844831083, 0.15645794783708122, 0.14637940414584868, 0.14637940414584868, 0.14637940414584868, 0.14637940414584868, 0.14637940414584868, 0.14635825991164897, 0.1557526921507473, 0.14052792733505323, 0.14975124933102174, 0.13534577196372327, 0.09339743343493258, 0.08733079850590202, 0.08388956347262432, 0.08388956347262432, 0.08388956347262432, 0.08388956347262432, 0.08388956347262432, 0.08388956347262432, 0.08388956347262432, 0.08388956347262432, 0.08388956347262432, 0.08388956347262432, 0.08388956347262432, 0.08388956347262432, 0.09525983971890858, 0.15898404673887254, 0.12646706205927585, 0.12646706205927585, 0.12646706205927585, 0.11689878877190295, 0.08791546577315731, 0.08831150071695724, 0.09877073384264955, 0.11366913668416341, 0.10786951161919558, 0.09787796349156536, 0.09001346854708998, 0.09001346854708998, 0.08774170989649084, 0.08751639584406556, 0.132688375221906, 0.08473093090781535, 0.08473093090781535, 0.08473093090781535, 0.08473093090781535, 0.08473093090781535, 0.08347515203665712, 0.08347515203665712, 0.08347515203665712, 0.08347515203665712, 0.08347515203665712, 0.08347515203665712, 0.08347515203665712, 0.08347515203665712, 0.08347515203665712, 0.08347515203665712, 0.08347515203665712, 0.08347515203665712, 0.08347515203665712, 0.08347515203665712, 0.08347515203665712, 0.08347515203665712, 0.08347515203665712, 0.08347515203665712, 0.08347515203665712, 0.08347515203665712, 0.08347515203665712, 0.08347515203665712, 0.08347515203665712, 0.08347515203665712, 0.08347515203665712, 0.11760739588613914, 0.09526194161910913, 0.11257325787099803, 0.08641675051425038, 0.08741385520730731, 0.08741385520730731, 0.08741385520730731, 0.08422541496752495, 0.07277834449753591, 0.06133578914996159, 0.06133578914996159, 0.06133578914996159, 0.06133578914996159, 0.06133578914996159, 0.06133578914996159, 0.060086235982085755, 0.06360986275189984, 0.05288578658629822, 0.05288578658629822, 0.05288578658629822, 0.05288578658629822, 0.05288578658629822, 0.05288578658629822, 0.05288578658629822, 0.05288578658629822, 0.05288578658629822, 0.05288578658629822, 0.05288578658629822, 0.05288578658629822, 0.05288578658629822, 0.05288578658629822, 0.05288578658629822, 0.04981323862212659, 0.05776073479964458, 0.05778756232388167, 0.04450769238656094, 0.04450769238656094, 0.04450769238656094, 0.04450769238656094, 0.04450769238656094, 0.04450769238656094, 0.04450769238656094, 0.04450769238656094, 0.04450769238656094, 0.04450769238656094, 0.04450769238656094, 0.05012732945468586, 0.04450769238656094, 0.04450769238656094, 0.04734617038758825, 0.047346394585441785, 0.05170313707742319, 0.05550348012409429, 0.05275589243354321, 0.07020102136555978, 0.06102118758024944, 0.05500390605407411, 0.05500390605407411, 0.05500390605407411, 0.05500390605407411, 0.05500390605407411, 0.05500390605407411, 0.05816230550453686, 0.05183003601168605, 0.04589917656174549, 0.04589917656174549, 0.04589917656174549, 0.04589917656174549, 0.04589917656174549, 0.04589917656174549, 0.04589917656174549, 0.04589917656174549, 0.04589917656174549, 0.04589917656174549, 0.04589917656174549, 0.04589917656174549, 0.04589917656174549, 0.04589917656174549, 0.04589917656174549, 0.045158459108156815, 0.045158459108156815, 0.045158459108156815, 0.045158459108156815, 0.045158459108156815, 0.045158459108156815, 0.045158459108156815, 0.045158459108156815, 0.045158459108156815, 0.045158459108156815, 0.07280380710975515, 0.051812707206625175, 0.05180059866378586, 0.04806223957644501, 0.046402578001218345, 0.047202234007095834], \"Total\": [0.0, 0.0, 0.0, 0.0, 0.0, 0.0, 0.0, 0.0, 0.0, 0.0, 0.0, 0.0, 0.0, 0.0, 0.0, 0.0, 0.0, 0.0, 0.0, 0.0, 0.0, 0.0, 0.0, 0.0, 0.0, 0.0, 0.0, 0.0, 0.0, 0.0, 0.23777429515810267, 0.21835229030563308, 0.2153540569345046, 0.21385356930761326, 0.2517043155447934, 0.2255721490150017, 0.20823356859222972, 0.20653731875739306, 0.20206608819620572, 0.19872644274294937, 0.2133256668225107, 0.21310795559302836, 0.19789965083322547, 0.19789965083322547, 0.19789965083322547, 0.19689940021167784, 0.19647312922379098, 0.19647312922379098, 0.19549107544501396, 0.2239547785811238, 0.19432374753184645, 0.19432374753184645, 0.19432374753184645, 0.19432374753184645, 0.19432374753184645, 0.19432374753184645, 0.19432374753184645, 0.19432374753184645, 0.19432374753184645, 0.19432374753184645, 0.19432374753184645, 0.19432374753184645, 0.19432374753184645, 0.19432374753184645, 0.19432374753184645, 0.3523217839231325, 0.4881739729375099, 0.19432374753184645, 0.21233804419407318, 0.19432374753184645, 0.21277021285033532, 0.23502791925642502, 0.261361852252846, 0.2926648733052409, 0.262695848457626, 0.27657179387561437, 0.3351223285799424, 0.3166432854407163, 0.2677780101443476, 0.2677780101443476, 0.2677780101443476, 0.2677780101443476, 0.2677780101443476, 0.2677780101443476, 0.2677780101443476, 0.2677780101443476, 0.2677780101443476, 0.288734971447644, 0.27974187210212703, 0.27974187210212703, 0.27974187210212703, 0.27974187210212703, 0.27974187210212703, 0.28285855648399527, 0.3166432854407163, 0.2871414958908994, 0.3122240205412818, 0.29794197900026365, 0.20763016591311215, 0.2015629659120382, 0.19812611719816398, 0.19812611719816398, 0.19812611719816398, 0.19812611719816398, 0.19812611719816398, 0.19812611719816398, 0.19812611719816398, 0.19812611719816398, 0.19812611719816398, 0.19812611719816398, 0.19812611719816398, 0.19812611719816398, 0.22943802857891876, 0.4881739729375099, 0.35331052708864485, 0.35331052708864485, 0.35331052708864485, 0.3838282137181729, 0.22445615767953492, 0.23579327445748668, 0.3523217839231325, 0.23275182425825003, 0.22695311619686095, 0.21696164576103222, 0.20909815995420708, 0.20909815995420708, 0.20682444692263371, 0.20660146543488075, 0.3175767865154475, 0.2038155143086758, 0.2038155143086758, 0.2038155143086758, 0.2038155143086758, 0.2038155143086758, 0.20255819037605066, 0.20255819037605066, 0.20255819037605066, 0.20255819037605066, 0.20255819037605066, 0.20255819037605066, 0.20255819037605066, 0.20255819037605066, 0.20255819037605066, 0.20255819037605066, 0.20255819037605066, 0.20255819037605066, 0.20255819037605066, 0.20255819037605066, 0.20255819037605066, 0.20255819037605066, 0.20255819037605066, 0.20255819037605066, 0.20255819037605066, 0.20255819037605066, 0.20255819037605066, 0.20255819037605066, 0.20255819037605066, 0.20255819037605066, 0.20255819037605066, 0.3027022949799264, 0.24342538670098285, 0.3838282137181729, 0.23237254534459842, 0.35331052708864485, 0.35331052708864485, 0.35331052708864485, 0.22453304794845896, 0.2123774823539915, 0.18704298403011982, 0.18704298403011982, 0.18704298403011982, 0.18704298403011982, 0.18704298403011982, 0.18704298403011982, 0.18578908395909127, 0.21012064026653193, 0.17859222760606927, 0.17859222760606927, 0.17859222760606927, 0.17859222760606927, 0.17859222760606927, 0.17859222760606927, 0.17859222760606927, 0.17859222760606927, 0.17859222760606927, 0.17859222760606927, 0.17859222760606927, 0.17859222760606927, 0.17859222760606927, 0.17859222760606927, 0.17859222760606927, 0.17551488951780506, 0.2139687776917888, 0.21668668325652898, 0.170212225100647, 0.170212225100647, 0.170212225100647, 0.170212225100647, 0.170212225100647, 0.170212225100647, 0.170212225100647, 0.170212225100647, 0.170212225100647, 0.170212225100647, 0.170212225100647, 0.20170173585887097, 0.170212225100647, 0.170212225100647, 0.19252677487485456, 0.1926013662711282, 0.24680396712252145, 0.3351223285799424, 0.4881739729375099, 0.212094058032266, 0.18903065574573089, 0.18301714389591195, 0.18301714389591195, 0.18301714389591195, 0.18301714389591195, 0.18301714389591195, 0.18301714389591195, 0.20422824744026016, 0.19489375036547174, 0.17391097822149096, 0.17391097822149096, 0.17391097822149096, 0.17391097822149096, 0.17391097822149096, 0.17391097822149096, 0.17391097822149096, 0.17391097822149096, 0.17391097822149096, 0.17391097822149096, 0.17391097822149096, 0.17391097822149096, 0.17391097822149096, 0.17391097822149096, 0.17391097822149096, 0.17317017616834357, 0.17317017616834357, 0.17317017616834357, 0.17317017616834357, 0.17317017616834357, 0.17317017616834357, 0.17317017616834357, 0.17317017616834357, 0.17317017616834357, 0.17317017616834357, 0.3351223285799424, 0.2139687776917888, 0.2237596021647523, 0.3175767865154475, 0.24680396712252145, 0.4881739729375099], \"Category\": [\"Default\", \"Default\", \"Default\", \"Default\", \"Default\", \"Default\", \"Default\", \"Default\", \"Default\", \"Default\", \"Default\", \"Default\", \"Default\", \"Default\", \"Default\", \"Default\", \"Default\", \"Default\", \"Default\", \"Default\", \"Default\", \"Default\", \"Default\", \"Default\", \"Default\", \"Default\", \"Default\", \"Default\", \"Default\", \"Default\", \"Topic1\", \"Topic1\", \"Topic1\", \"Topic1\", \"Topic1\", \"Topic1\", \"Topic1\", \"Topic1\", \"Topic1\", \"Topic1\", \"Topic1\", \"Topic1\", \"Topic1\", \"Topic1\", \"Topic1\", \"Topic1\", \"Topic1\", \"Topic1\", \"Topic1\", \"Topic1\", \"Topic1\", \"Topic1\", \"Topic1\", \"Topic1\", \"Topic1\", \"Topic1\", \"Topic1\", \"Topic1\", \"Topic1\", \"Topic1\", \"Topic1\", \"Topic1\", \"Topic1\", \"Topic1\", \"Topic1\", \"Topic1\", \"Topic1\", \"Topic1\", \"Topic1\", \"Topic1\", \"Topic1\", \"Topic1\", \"Topic1\", \"Topic1\", \"Topic1\", \"Topic1\", \"Topic1\", \"Topic1\", \"Topic2\", \"Topic2\", \"Topic2\", \"Topic2\", \"Topic2\", \"Topic2\", \"Topic2\", \"Topic2\", \"Topic2\", \"Topic2\", \"Topic2\", \"Topic2\", \"Topic2\", \"Topic2\", \"Topic2\", \"Topic2\", \"Topic2\", \"Topic2\", \"Topic2\", \"Topic2\", \"Topic2\", \"Topic2\", \"Topic2\", \"Topic2\", \"Topic2\", \"Topic2\", \"Topic2\", \"Topic2\", \"Topic2\", \"Topic2\", \"Topic2\", \"Topic2\", \"Topic2\", \"Topic2\", \"Topic2\", \"Topic2\", \"Topic2\", \"Topic2\", \"Topic2\", \"Topic2\", \"Topic2\", \"Topic2\", \"Topic2\", \"Topic3\", \"Topic3\", \"Topic3\", \"Topic3\", \"Topic3\", \"Topic3\", \"Topic3\", \"Topic3\", \"Topic3\", \"Topic3\", \"Topic3\", \"Topic3\", \"Topic3\", \"Topic3\", \"Topic3\", \"Topic3\", \"Topic3\", \"Topic3\", \"Topic3\", \"Topic3\", \"Topic3\", \"Topic3\", \"Topic3\", \"Topic3\", \"Topic3\", \"Topic3\", \"Topic3\", \"Topic3\", \"Topic3\", \"Topic3\", \"Topic3\", \"Topic3\", \"Topic3\", \"Topic3\", \"Topic3\", \"Topic3\", \"Topic3\", \"Topic3\", \"Topic3\", \"Topic3\", \"Topic3\", \"Topic3\", \"Topic3\", \"Topic3\", \"Topic3\", \"Topic3\", \"Topic4\", \"Topic4\", \"Topic4\", \"Topic4\", \"Topic4\", \"Topic4\", \"Topic4\", \"Topic4\", \"Topic4\", \"Topic4\", \"Topic4\", \"Topic4\", \"Topic4\", \"Topic4\", \"Topic4\", \"Topic4\", \"Topic4\", \"Topic4\", \"Topic4\", \"Topic4\", \"Topic4\", \"Topic4\", \"Topic4\", \"Topic4\", \"Topic4\", \"Topic4\", \"Topic4\", \"Topic4\", \"Topic4\", \"Topic4\", \"Topic4\", \"Topic4\", \"Topic4\", \"Topic4\", \"Topic4\", \"Topic4\", \"Topic4\", \"Topic4\", \"Topic4\", \"Topic4\", \"Topic4\", \"Topic4\", \"Topic4\", \"Topic4\", \"Topic4\", \"Topic4\", \"Topic5\", \"Topic5\", \"Topic5\", \"Topic5\", \"Topic5\", \"Topic5\", \"Topic5\", \"Topic5\", \"Topic5\", \"Topic5\", \"Topic5\", \"Topic5\", \"Topic5\", \"Topic5\", \"Topic5\", \"Topic5\", \"Topic5\", \"Topic5\", \"Topic5\", \"Topic5\", \"Topic5\", \"Topic5\", \"Topic5\", \"Topic5\", \"Topic5\", \"Topic5\", \"Topic5\", \"Topic5\", \"Topic5\", \"Topic5\", \"Topic5\", \"Topic5\", \"Topic5\", \"Topic5\", \"Topic5\", \"Topic5\", \"Topic5\", \"Topic5\", \"Topic5\", \"Topic5\", \"Topic5\"], \"logprob\": [30.0, 29.0, 28.0, 27.0, 26.0, 25.0, 24.0, 23.0, 22.0, 21.0, 20.0, 19.0, 18.0, 17.0, 16.0, 15.0, 14.0, 13.0, 12.0, 11.0, 10.0, 9.0, 8.0, 7.0, 6.0, 5.0, 4.0, 3.0, 2.0, 1.0, -6.6049, -6.7018, -6.7299, -6.7443, -6.5888, -6.7082, -6.8001, -6.8175, -6.8651, -6.9022, -6.835, -6.8373, -6.9116, -6.9116, -6.9116, -6.923, -6.928, -6.928, -6.9394, -6.8052, -6.9533, -6.9533, -6.9533, -6.9533, -6.9533, -6.9533, -6.9533, -6.9533, -6.9533, -6.9533, -6.9533, -6.9533, -6.9533, -6.9533, -6.9533, -6.5417, -6.3688, -6.9533, -6.8999, -6.9533, -6.9084, -6.8621, -6.8206, -6.8184, -6.864, -6.8657, -6.8769, -6.9337, -6.2148, -6.2148, -6.2148, -6.2148, -6.2148, -6.2148, -6.2148, -6.2148, -6.2148, -6.196, -6.2626, -6.2626, -6.2626, -6.2626, -6.2626, -6.2627, -6.2005, -6.3034, -6.2398, -6.3409, -6.7119, -6.7791, -6.8193, -6.8193, -6.8193, -6.8193, -6.8193, -6.8193, -6.8193, -6.8193, -6.8193, -6.8193, -6.8193, -6.8193, -6.6922, -6.18, -6.4088, -6.4088, -6.4088, -6.4875, -6.7724, -6.7679, -6.656, -6.3351, -6.3875, -6.4847, -6.5685, -6.5685, -6.594, -6.5966, -6.1804, -6.629, -6.629, -6.629, -6.629, -6.629, -6.6439, -6.6439, -6.6439, -6.6439, -6.6439, -6.6439, -6.6439, -6.6439, -6.6439, -6.6439, -6.6439, -6.6439, -6.6439, -6.6439, -6.6439, -6.6439, -6.6439, -6.6439, -6.6439, -6.6439, -6.6439, -6.6439, -6.6439, -6.6439, -6.6439, -6.3011, -6.5118, -6.3448, -6.6093, -6.5978, -6.5978, -6.5978, -6.6349, -6.4864, -6.6575, -6.6575, -6.6575, -6.6575, -6.6575, -6.6575, -6.6781, -6.6211, -6.8057, -6.8057, -6.8057, -6.8057, -6.8057, -6.8057, -6.8057, -6.8057, -6.8057, -6.8057, -6.8057, -6.8057, -6.8057, -6.8057, -6.8057, -6.8656, -6.7175, -6.7171, -6.9782, -6.9782, -6.9782, -6.9782, -6.9782, -6.9782, -6.9782, -6.9782, -6.9782, -6.9782, -6.9782, -6.8593, -6.9782, -6.9782, -6.9164, -6.9164, -6.8283, -6.7574, -6.8082, -6.4087, -6.5488, -6.6526, -6.6526, -6.6526, -6.6526, -6.6526, -6.6526, -6.5968, -6.7121, -6.8336, -6.8336, -6.8336, -6.8336, -6.8336, -6.8336, -6.8336, -6.8336, -6.8336, -6.8336, -6.8336, -6.8336, -6.8336, -6.8336, -6.8336, -6.8499, -6.8499, -6.8499, -6.8499, -6.8499, -6.8499, -6.8499, -6.8499, -6.8499, -6.8499, -6.3723, -6.7124, -6.7126, -6.7875, -6.8227, -6.8056], \"loglift\": [30.0, 29.0, 28.0, 27.0, 26.0, 25.0, 24.0, 23.0, 22.0, 21.0, 20.0, 19.0, 18.0, 17.0, 16.0, 15.0, 14.0, 13.0, 12.0, 11.0, 10.0, 9.0, 8.0, 7.0, 6.0, 5.0, 4.0, 3.0, 2.0, 1.0, 0.5974, 0.5858, 0.5715, 0.5641, 0.5566, 0.5468, 0.5349, 0.5256, 0.4999, 0.4795, 0.4758, 0.4745, 0.4743, 0.4743, 0.4743, 0.4679, 0.4651, 0.4651, 0.4587, 0.4569, 0.4508, 0.4508, 0.4508, 0.4508, 0.4508, 0.4508, 0.4508, 0.4508, 0.4508, 0.4508, 0.4508, 0.4508, 0.4508, 0.4508, 0.4508, 0.2674, 0.1142, 0.4508, 0.4155, 0.4508, 0.405, 0.3518, 0.2871, 0.1762, 0.2386, 0.1855, -0.0178, -0.0178, 0.8687, 0.8687, 0.8687, 0.8687, 0.8687, 0.8687, 0.8687, 0.8687, 0.8687, 0.8121, 0.7772, 0.7772, 0.7772, 0.7772, 0.7772, 0.766, 0.7154, 0.7103, 0.6901, 0.6358, 0.626, 0.5885, 0.5655, 0.5655, 0.5655, 0.5655, 0.5655, 0.5655, 0.5655, 0.5655, 0.5655, 0.5655, 0.5655, 0.5655, 0.5458, 0.303, 0.3975, 0.3975, 0.3975, 0.236, 0.4876, 0.4428, 0.1531, 0.8885, 0.8614, 0.8092, 0.7624, 0.7624, 0.7477, 0.7462, 0.7325, 0.7275, 0.7275, 0.7275, 0.7275, 0.7275, 0.7187, 0.7187, 0.7187, 0.7187, 0.7187, 0.7187, 0.7187, 0.7187, 0.7187, 0.7187, 0.7187, 0.7187, 0.7187, 0.7187, 0.7187, 0.7187, 0.7187, 0.7187, 0.7187, 0.7187, 0.7187, 0.7187, 0.7187, 0.7187, 0.7187, 0.6598, 0.667, 0.3786, 0.616, 0.2085, 0.2085, 0.2085, 0.6247, 0.8288, 0.7848, 0.7848, 0.7848, 0.7848, 0.7848, 0.7848, 0.771, 0.7049, 0.6828, 0.6828, 0.6828, 0.6828, 0.6828, 0.6828, 0.6828, 0.6828, 0.6828, 0.6828, 0.6828, 0.6828, 0.6828, 0.6828, 0.6828, 0.6403, 0.5903, 0.5781, 0.5584, 0.5584, 0.5584, 0.5584, 0.5584, 0.5584, 0.5584, 0.5584, 0.5584, 0.5584, 0.5584, 0.5076, 0.5584, 0.5584, 0.497, 0.4967, 0.3367, 0.1017, -0.3252, 0.9079, 0.8829, 0.8114, 0.8114, 0.8114, 0.8114, 0.8114, 0.8114, 0.7576, 0.6891, 0.6815, 0.6815, 0.6815, 0.6815, 0.6815, 0.6815, 0.6815, 0.6815, 0.6815, 0.6815, 0.6815, 0.6815, 0.6815, 0.6815, 0.6815, 0.6695, 0.6695, 0.6695, 0.6695, 0.6695, 0.6695, 0.6695, 0.6695, 0.6695, 0.6695, 0.4869, 0.5954, 0.5504, 0.1254, 0.3424, -0.3226]}, \"token.table\": {\"Topic\": [], \"Freq\": [], \"Term\": []}, \"R\": 30, \"lambda.step\": 0.01, \"plot.opts\": {\"xlab\": \"PC1\", \"ylab\": \"PC2\"}, \"topic.order\": [1, 3, 2, 4, 5]};\n",
              "\n",
              "function LDAvis_load_lib(url, callback){\n",
              "  var s = document.createElement('script');\n",
              "  s.src = url;\n",
              "  s.async = true;\n",
              "  s.onreadystatechange = s.onload = callback;\n",
              "  s.onerror = function(){console.warn(\"failed to load library \" + url);};\n",
              "  document.getElementsByTagName(\"head\")[0].appendChild(s);\n",
              "}\n",
              "\n",
              "if(typeof(LDAvis) !== \"undefined\"){\n",
              "   // already loaded: just create the visualization\n",
              "   !function(LDAvis){\n",
              "       new LDAvis(\"#\" + \"ldavis_el991397139809521523477592162\", ldavis_el991397139809521523477592162_data);\n",
              "   }(LDAvis);\n",
              "}else if(typeof define === \"function\" && define.amd){\n",
              "   // require.js is available: use it to load d3/LDAvis\n",
              "   require.config({paths: {d3: \"https://cdnjs.cloudflare.com/ajax/libs/d3/3.5.5/d3.min\"}});\n",
              "   require([\"d3\"], function(d3){\n",
              "      window.d3 = d3;\n",
              "      LDAvis_load_lib(\"https://cdn.rawgit.com/bmabey/pyLDAvis/files/ldavis.v1.0.0.js\", function(){\n",
              "        new LDAvis(\"#\" + \"ldavis_el991397139809521523477592162\", ldavis_el991397139809521523477592162_data);\n",
              "      });\n",
              "    });\n",
              "}else{\n",
              "    // require.js not available: dynamically load d3 & LDAvis\n",
              "    LDAvis_load_lib(\"https://cdnjs.cloudflare.com/ajax/libs/d3/3.5.5/d3.min.js\", function(){\n",
              "         LDAvis_load_lib(\"https://cdn.rawgit.com/bmabey/pyLDAvis/files/ldavis.v1.0.0.js\", function(){\n",
              "                 new LDAvis(\"#\" + \"ldavis_el991397139809521523477592162\", ldavis_el991397139809521523477592162_data);\n",
              "            })\n",
              "         });\n",
              "}\n",
              "</script>"
            ],
            "text/plain": [
              "PreparedData(topic_coordinates=              x         y  topics  cluster       Freq\n",
              "topic                                                \n",
              "0     -0.004444  0.013696       1        1  27.550214\n",
              "2      0.014996 -0.002775       2        1  24.054132\n",
              "1     -0.010328 -0.009941       3        1  20.084983\n",
              "3     -0.000580 -0.000162       4        1  14.959980\n",
              "4      0.000356 -0.000818       5        1  13.350691, topic_info=                         Term      Freq     Total Category  logprob  loglift\n",
              "1442           rehabilitation  0.000000  0.000000  Default  30.0000  30.0000\n",
              "527                    energy  0.000000  0.000000  Default  29.0000  29.0000\n",
              "1368  provision environmental  0.000000  0.000000  Default  28.0000  28.0000\n",
              "1541                   rimbey  0.000000  0.000000  Default  27.0000  27.0000\n",
              "418                  december  0.000000  0.000000  Default  26.0000  26.0000\n",
              "...                       ...       ...       ...      ...      ...      ...\n",
              "1368  provision environmental  0.051813  0.213969   Topic5  -6.7124   0.5954\n",
              "968                 liability  0.051801  0.223760   Topic5  -6.7126   0.5504\n",
              "527                    energy  0.048062  0.317577   Topic5  -6.7875   0.1254\n",
              "1361                provision  0.046403  0.246804   Topic5  -6.8227   0.3424\n",
              "1090                   nature  0.047202  0.488174   Topic5  -6.8056  -0.3226\n",
              "\n",
              "[254 rows x 6 columns], token_table=Empty DataFrame\n",
              "Columns: [Topic, Freq, Term]\n",
              "Index: [], R=30, lambda_step=0.01, plot_opts={'xlab': 'PC1', 'ylab': 'PC2'}, topic_order=[1, 3, 2, 4, 5])"
            ]
          },
          "metadata": {
            "tags": []
          },
          "execution_count": 42
        }
      ]
    },
    {
      "cell_type": "code",
      "metadata": {
        "id": "80YHfmZ48Qog",
        "outputId": "30a02341-b6f7-491a-dcbc-d3364316e386",
        "colab": {
          "base_uri": "https://localhost:8080/"
        }
      },
      "source": [
        "# Showing the words for each topic\n",
        "n_words_to_show = 8\n",
        "year2016 = display_topics(lda, tfidf_vectorizer.get_feature_names(), n_words_to_show)"
      ],
      "execution_count": 43,
      "outputs": [
        {
          "output_type": "stream",
          "text": [
            "Topic 0:\n",
            "nature, company, business, requirement, trevali, mining, customer, licence\n",
            "\n",
            "Topic 1:\n",
            "energy, lude, december, financial, month, end, expect, energy services\n",
            "\n",
            "Topic 2:\n",
            "nature, assumption, subject, require assumption subject, require assumption, subject inherent risk, subject inherent, forward look require\n",
            "\n",
            "Topic 3:\n",
            "reclamation, expenditure, reclamation expenditure charge, reclamation expenditure, charge provision, charge provision environmental, expenditure charge, expenditure charge provision\n",
            "\n",
            "Topic 4:\n",
            "environmental, rehabilitation, rimbey, legal, rehabilitation finance, rehabilitation finance liability, provision environmental rehabilitation, finance\n",
            "\n"
          ],
          "name": "stdout"
        }
      ]
    },
    {
      "cell_type": "markdown",
      "metadata": {
        "id": "lo-Dhz478RIq"
      },
      "source": [
        "**2017**"
      ]
    },
    {
      "cell_type": "code",
      "metadata": {
        "id": "uMLnWdtF8SQ8",
        "outputId": "a7164615-129e-4b61-a3e9-6bd0cca1f12f",
        "colab": {
          "base_uri": "https://localhost:8080/",
          "height": 861
        }
      },
      "source": [
        "# Creating the rating's dataset\n",
        "scoped_data = filtered_data.loc[filtered_data.fileyear == 2017, :]\n",
        "\n",
        "# Training the LDA model\n",
        "tfidf_vectorizer = TfidfVectorizer(ngram_range = (1, 3),\n",
        "                                   max_df = maxdf,\n",
        "                                   min_df = mindf,\n",
        "                                   max_features = None)\n",
        "tfidf_fit = tfidf_vectorizer.fit_transform(scoped_data.text)\n",
        "lda = LatentDirichletAllocation(n_components = 5, \n",
        "                                random_state = 69)\n",
        "lda.fit(tfidf_fit)\n",
        "\n",
        "# LDA visualisation\n",
        "pyLDAvis.sklearn.prepare(lda, tfidf_fit, tfidf_vectorizer)"
      ],
      "execution_count": 44,
      "outputs": [
        {
          "output_type": "execute_result",
          "data": {
            "text/html": [
              "\n",
              "<link rel=\"stylesheet\" type=\"text/css\" href=\"https://cdn.rawgit.com/bmabey/pyLDAvis/files/ldavis.v1.0.0.css\">\n",
              "\n",
              "\n",
              "<div id=\"ldavis_el991397139809517928825569102\"></div>\n",
              "<script type=\"text/javascript\">\n",
              "\n",
              "var ldavis_el991397139809517928825569102_data = {\"mdsDat\": {\"x\": [-0.01866714957455609, 0.007288006842422986, 0.003909300033914135, 0.004705051578361115, 0.002764791119857838], \"y\": [0.0018528603725819453, 0.011985862659144574, -0.010143883932123801, -0.0014918013774851994, -0.002203037722117516], \"topics\": [1, 2, 3, 4, 5], \"cluster\": [1, 1, 1, 1, 1], \"Freq\": [26.341985946342966, 21.090942205177036, 20.112724353746962, 17.082361696707583, 15.37198579802544]}, \"tinfo\": {\"Term\": [\"etf\", \"end\", \"year\", \"month\", \"month end\", \"short\", \"financial liability\", \"provision\", \"future\", \"lude\", \"liability\", \"audit\", \"december\", \"coffee\", \"decaffeinate\", \"decaffeinate coffee\", \"sale\", \"value\", \"classify\", \"end december\", \"corporation\", \"segment\", \"production\", \"financial\", \"rehabilitation\", \"new\", \"rehabilitation provision\", \"environmental rehabilitation\", \"environmental rehabilitation provision\", \"short sea\", \"etf\", \"mind horizon\", \"automation\", \"automation index etf\", \"mind horizon robotic\", \"robotic automation index\", \"robotic automation\", \"robotic\", \"equity etf\", \"equity etf mind\", \"etf mind\", \"etf mind horizon\", \"etf robo\", \"robo\", \"global equity\", \"global equity etf\", \"horizon\", \"horizon robotic\", \"horizon robotic automation\", \"index\", \"index etf\", \"index etf robo\", \"mind\", \"automation index\", \"risk\", \"diamond\", \"equity\", \"diamond risk\", \"environmental requirement diamond\", \"requirement diamond\", \"requirement diamond risk\", \"requirement\", \"environmental requirement\", \"business\", \"energy\", \"global\", \"audit\", \"lude\", \"production\", \"international\", \"audit accompany financial\", \"audit accompany\", \"accompany financial ensign\", \"financial ensign\", \"financial ensign energy\", \"ensign\", \"ensign energy services\", \"ensign energy\", \"operate\", \"operate segment\", \"generally\", \"rehabilitation provision\", \"environmental rehabilitation\", \"environmental rehabilitation provision\", \"operating item\", \"liability settle\", \"settle environmental rehabilitation\", \"rehabilitation provision operating\", \"settle\", \"liability settle environmental\", \"provision operating item\", \"provision operating\", \"settle environmental\", \"fund\", \"refer\", \"accompany financial\", \"accompany\", \"ongoing production\", \"rehabilitation\", \"segment\", \"provision\", \"similar\", \"financial\", \"environmental\", \"ongoing\", \"operating\", \"nature\", \"energy\", \"forward look\", \"look\", \"forward\", \"iron ore\", \"iron\", \"year\", \"provision restoration rehabilitation\", \"provision restoration\", \"restoration\", \"restoration rehabilitation\", \"restoration rehabilitation environmental\", \"rehabilitation environmental obligation\", \"rehabilitation environmental\", \"west\", \"kel west\", \"envolve\", \"golden\", \"social\", \"direct\", \"price\", \"global dairy company\", \"evolve\", \"evolve strong\", \"global dairy\", \"dairy\", \"dairy company\", \"evolve strong global\", \"expand evolve\", \"expand evolve strong\", \"saputo\", \"strong global dairy\", \"strong global\", \"strong\", \"saputo expand evolve\", \"year saputo expand\", \"saputo expand\", \"year saputo\", \"ore\", \"operation\", \"environmental obligation\", \"nature operation\", \"environmental\", \"kel\", \"nature\", \"obligation\", \"corporation\", \"rehabilitation\", \"provision\", \"global\", \"value\", \"financial\", \"coffee\", \"decaffeinate coffee\", \"decaffeinate\", \"classify\", \"product service\", \"financial liability\", \"future benefit sale\", \"sale ngx\", \"sale ngx shorcan\", \"shorcan energy\", \"ngx\", \"future benefit\", \"benefit sale ngx\", \"employee future benefit\", \"ngx shorcan energy\", \"ngx shorcan\", \"shorcan\", \"employee future\", \"employee\", \"benefit sale\", \"future\", \"total energy\", \"sale\", \"assessment\", \"accord\", \"company time initial\", \"use company\", \"accord nature use\", \"accord nature\", \"company time\", \"nature use\", \"use company time\", \"nature use company\", \"classify accord\", \"classify accord nature\", \"hold\", \"financial classify accord\", \"financial classify\", \"estimate\", \"company\", \"nature\", \"financial\", \"intend\", \"service\", \"liability\", \"value\", \"energy\", \"cost\", \"segment\", \"look\", \"forward look\", \"forward\", \"month end\", \"month\", \"end\", \"end december\", \"novaalgoma\", \"short sea\", \"sea\", \"operating result\", \"challenge\", \"total liability\", \"rehabilitation provision future\", \"payment total\", \"payment total liability\", \"provision future termination\", \"future termination\", \"termination payment total\", \"termination payment\", \"termination\", \"payment\", \"provision environmental\", \"provision environmental rehabilitation\", \"provision future\", \"future termination payment\", \"complete\", \"short\", \"end month\", \"month end month\", \"sale nature\", \"nature month end\", \"end month end\", \"nature month\", \"month end december\", \"cost sale nature\", \"december\", \"cost sale\", \"sale nature month\", \"end december december\", \"liability\", \"provision\", \"year\", \"new\", \"corporation\", \"financial\", \"company\", \"result\", \"report\", \"nature\"], \"Freq\": [0.0, 0.0, 0.0, 0.0, 0.0, 0.0, 0.0, 0.0, 0.0, 0.0, 0.0, 0.0, 0.0, 0.0, 0.0, 0.0, 0.0, 0.0, 0.0, 0.0, 0.0, 0.0, 0.0, 0.0, 0.0, 0.0, 0.0, 0.0, 0.0, 0.0, 0.25982633824286927, 0.14947230333066636, 0.14947230333066636, 0.14947230333066636, 0.14947230333066636, 0.14947230333066636, 0.14947230333066636, 0.14947230333066636, 0.14947230333066636, 0.14947230333066636, 0.14947230333066636, 0.14947230333066636, 0.14947230333066636, 0.14947230333066636, 0.14947230333066636, 0.14947230333066636, 0.14947230333066636, 0.14947230333066636, 0.14947230333066636, 0.14947230333066636, 0.14947230333066636, 0.14947230333066636, 0.14947230333066636, 0.14947230333066636, 0.13606818110987137, 0.1347221231299224, 0.1554132090421878, 0.11069243242670572, 0.11069243242670572, 0.11069243242670572, 0.11069243242670572, 0.1259738646305127, 0.1259738646305127, 0.13172284163047307, 0.17485985715315314, 0.14234869208612946, 0.12420948128303118, 0.1243029587172432, 0.12833624288856565, 0.08725683434746913, 0.0975379922611911, 0.0975379922611911, 0.08163327824363278, 0.08163327824363278, 0.08163327824363278, 0.08163327824363278, 0.08163327824363278, 0.08163327824363278, 0.08155500267472021, 0.08155500267472021, 0.09003489427704126, 0.09832514080098774, 0.09832514080098774, 0.09832514080098774, 0.07613568663798644, 0.07613568663798644, 0.07613568663798644, 0.07613568663798644, 0.07613568663798644, 0.07613568663798644, 0.07613568663798644, 0.07613568663798644, 0.07613568663798644, 0.08230199563603877, 0.07551089267209996, 0.09387776964082672, 0.09387776964082672, 0.0913381077027313, 0.09505090481826246, 0.08802649962118103, 0.09497523853588342, 0.07946682760069558, 0.1022908119124716, 0.10019472061366873, 0.08789073233984969, 0.08048275621178098, 0.09293985598784195, 0.09136325435437789, 0.08216862117286436, 0.08216862117286436, 0.08216862117286436, 0.08310046787885308, 0.08310046787885308, 0.12102005145427241, 0.0815395965508072, 0.0815395965508072, 0.0815395965508072, 0.0815395965508072, 0.0815395965508072, 0.0815395965508072, 0.0815395965508072, 0.07943455437626387, 0.07943455437626387, 0.07943455437626387, 0.07943455437626387, 0.07065886120926419, 0.06996096738301602, 0.06921421275750042, 0.0679766410852349, 0.0679766410852349, 0.0679766410852349, 0.0679766410852349, 0.0679766410852349, 0.0679766410852349, 0.0679766410852349, 0.0679766410852349, 0.0679766410852349, 0.0679766410852349, 0.0679766410852349, 0.0679766410852349, 0.0679766410852349, 0.0679766410852349, 0.0679766410852349, 0.0679766410852349, 0.0679766410852349, 0.09164455863708913, 0.10322666614295832, 0.0771381479540997, 0.08215238927186683, 0.1160461327969234, 0.07523401591700957, 0.09647390768311181, 0.07403148264707732, 0.08429087013161778, 0.07906394914870497, 0.07899203479509219, 0.08096408817881963, 0.0720008838364195, 0.07308700844038181, 0.07905518015474006, 0.07905518015474006, 0.07905518015474006, 0.07450071608410422, 0.0626188854840159, 0.08406061216900798, 0.06175877809568333, 0.06175877809568333, 0.06175877809568333, 0.06175877809568333, 0.06175877809568333, 0.06175877809568333, 0.06175877809568333, 0.06175877809568333, 0.06175877809568333, 0.06175877809568333, 0.06175877809568333, 0.06175877809568333, 0.06175877809568333, 0.06175877809568333, 0.0866342590482952, 0.061191092755909116, 0.08608455356573921, 0.06704563615424769, 0.05815856110282127, 0.05815856110282127, 0.05815856110282127, 0.05815856110282127, 0.05815856110282127, 0.05815856110282127, 0.05815856110282127, 0.05815856110282127, 0.05815856110282127, 0.05815856110282127, 0.05815856110282127, 0.0657312874505954, 0.05815856110282127, 0.05815856110282127, 0.06335512967455648, 0.10224663436527388, 0.10230017565992713, 0.0891478671149165, 0.06497419678362995, 0.06963203804257884, 0.07685939006783878, 0.06843319945585873, 0.07622159196371842, 0.066726925718115, 0.06432011228993229, 0.06373958983749357, 0.06373958983749357, 0.06373958983749357, 0.07449474062181542, 0.07449474062181542, 0.10225162694319742, 0.06293089154131909, 0.05925847984599815, 0.05925847984599815, 0.05925847984599815, 0.058704191084278275, 0.05646956079526544, 0.05285803458870723, 0.05285803458870723, 0.05285803458870723, 0.05285803458870723, 0.05285803458870723, 0.05285803458870723, 0.05285803458870723, 0.05285803458870723, 0.05285803458870723, 0.05285803458870723, 0.05285803458870723, 0.05285803458870723, 0.05285803458870723, 0.05285803458870723, 0.058627653568739765, 0.07203579611419236, 0.0498753453679427, 0.0498753453679427, 0.0498753453679427, 0.0498753453679427, 0.0498753453679427, 0.0498753453679427, 0.0498753453679427, 0.0498753453679427, 0.07806135115254825, 0.0498753453679427, 0.0498753453679427, 0.0498753453679427, 0.0786878473710329, 0.06720471738271139, 0.06593094679739839, 0.056857604665664016, 0.06864254597908706, 0.07329261574147965, 0.06857824342145202, 0.05576519848302599, 0.05488308720332114, 0.06350029991320481], \"Total\": [0.0, 0.0, 0.0, 0.0, 0.0, 0.0, 0.0, 0.0, 0.0, 0.0, 0.0, 0.0, 0.0, 0.0, 0.0, 0.0, 0.0, 0.0, 0.0, 0.0, 0.0, 0.0, 0.0, 0.0, 0.0, 0.0, 0.0, 0.0, 0.0, 0.0, 0.377215993378845, 0.2668630468544166, 0.2668630468544166, 0.2668630468544166, 0.2668630468544166, 0.2668630468544166, 0.2668630468544166, 0.2668630468544166, 0.2668630468544166, 0.2668630468544166, 0.2668630468544166, 0.2668630468544166, 0.2668630468544166, 0.2668630468544166, 0.2668630468544166, 0.2668630468544166, 0.2668630468544166, 0.2668630468544166, 0.2668630468544166, 0.2668630468544166, 0.2668630468544166, 0.2668630468544166, 0.2668630468544166, 0.2668630468544166, 0.25346200393489887, 0.25211600480680574, 0.2934442392831956, 0.22808949192626432, 0.22808949192626432, 0.22808949192626432, 0.22808949192626432, 0.26243110604693837, 0.26243110604693837, 0.27976742550282035, 0.43532696294880685, 0.377598346090916, 0.26592110906409977, 0.28854821880939363, 0.3077858060423774, 0.21092373235938017, 0.24043075213931037, 0.24043075213931037, 0.2053029154237666, 0.2053029154237666, 0.2053029154237666, 0.2053029154237666, 0.2053029154237666, 0.2053029154237666, 0.2052193605876023, 0.2052193605876023, 0.2310321657204527, 0.2539419266641676, 0.2539419266641676, 0.2539419266641676, 0.19980498025138288, 0.19980498025138288, 0.19980498025138288, 0.19980498025138288, 0.19980498025138288, 0.19980498025138288, 0.19980498025138288, 0.19980498025138288, 0.19980498025138288, 0.21655620119632218, 0.19917645570416292, 0.25013870367598223, 0.25013870367598223, 0.2670033649164185, 0.2869810482347206, 0.2627550882155287, 0.30791206312281505, 0.22048209046294417, 0.40437021288170133, 0.40176288684430567, 0.28993271429402884, 0.24814545390975257, 0.4695280828036028, 0.43532696294880685, 0.27614773424373984, 0.27614773424373984, 0.27614773424373984, 0.2079516579353485, 0.2079516579353485, 0.30284509290533557, 0.20639697243886843, 0.20639697243886843, 0.20639697243886843, 0.20639697243886843, 0.20639697243886843, 0.20639697243886843, 0.20639697243886843, 0.20428823932119786, 0.20428823932119786, 0.20428823932119786, 0.20428823932119786, 0.1955107779632311, 0.19481253803518409, 0.1940642030936349, 0.19283253270573264, 0.19283253270573264, 0.19283253270573264, 0.19283253270573264, 0.19283253270573264, 0.19283253270573264, 0.19283253270573264, 0.19283253270573264, 0.19283253270573264, 0.19283253270573264, 0.19283253270573264, 0.19283253270573264, 0.19283253270573264, 0.19283253270573264, 0.19283253270573264, 0.19283253270573264, 0.19283253270573264, 0.2684676324913624, 0.31830564343626877, 0.22483530423297973, 0.24895867392128754, 0.40176288684430567, 0.2430869464397589, 0.4695280828036028, 0.23940482783139294, 0.338933339964555, 0.2869810482347206, 0.30791206312281505, 0.377598346090916, 0.2561151789726144, 0.40437021288170133, 0.20797501294243742, 0.20797501294243742, 0.20797501294243742, 0.20341921827245532, 0.19153655128063599, 0.2593959921427536, 0.19068042475594235, 0.19068042475594235, 0.19068042475594235, 0.19068042475594235, 0.19068042475594235, 0.19068042475594235, 0.19068042475594235, 0.19068042475594235, 0.19068042475594235, 0.19068042475594235, 0.19068042475594235, 0.19068042475594235, 0.19068042475594235, 0.19068042475594235, 0.2679149328351406, 0.19010829812657218, 0.2704172252301744, 0.21436339965473156, 0.18707939412784108, 0.18707939412784108, 0.18707939412784108, 0.18707939412784108, 0.18707939412784108, 0.18707939412784108, 0.18707939412784108, 0.18707939412784108, 0.18707939412784108, 0.18707939412784108, 0.18707939412784108, 0.21417223779264227, 0.18707939412784108, 0.18707939412784108, 0.20848511074789386, 0.42209460982559066, 0.4695280828036028, 0.40437021288170133, 0.22909502376055993, 0.2643021602243776, 0.3282038418391041, 0.2561151789726144, 0.43532696294880685, 0.28851088176642836, 0.2627550882155287, 0.27614773424373984, 0.27614773424373984, 0.27614773424373984, 0.20574818790729238, 0.20574818790729238, 0.29086823762742514, 0.19418387187670955, 0.19050992433082325, 0.19050992433082325, 0.19050992433082325, 0.18995523644887766, 0.1877201332416733, 0.1841131225488218, 0.1841131225488218, 0.1841131225488218, 0.1841131225488218, 0.1841131225488218, 0.1841131225488218, 0.1841131225488218, 0.1841131225488218, 0.1841131225488218, 0.1841131225488218, 0.1841131225488218, 0.1841131225488218, 0.1841131225488218, 0.1841131225488218, 0.20490956784066217, 0.2531279344105358, 0.18113182511862447, 0.18113182511862447, 0.18113182511862447, 0.18113182511862447, 0.18113182511862447, 0.18113182511862447, 0.18113182511862447, 0.18113182511862447, 0.28940000395727217, 0.18113182511862447, 0.18113182511862447, 0.18113182511862447, 0.3282038418391041, 0.30791206312281505, 0.30284509290533557, 0.23173447559684957, 0.338933339964555, 0.40437021288170133, 0.42209460982559066, 0.22701647589589113, 0.21828696545858567, 0.4695280828036028], \"Category\": [\"Default\", \"Default\", \"Default\", \"Default\", \"Default\", \"Default\", \"Default\", \"Default\", \"Default\", \"Default\", \"Default\", \"Default\", \"Default\", \"Default\", \"Default\", \"Default\", \"Default\", \"Default\", \"Default\", \"Default\", \"Default\", \"Default\", \"Default\", \"Default\", \"Default\", \"Default\", \"Default\", \"Default\", \"Default\", \"Default\", \"Topic1\", \"Topic1\", \"Topic1\", \"Topic1\", \"Topic1\", \"Topic1\", \"Topic1\", \"Topic1\", \"Topic1\", \"Topic1\", \"Topic1\", \"Topic1\", \"Topic1\", \"Topic1\", \"Topic1\", \"Topic1\", \"Topic1\", \"Topic1\", \"Topic1\", \"Topic1\", \"Topic1\", \"Topic1\", \"Topic1\", \"Topic1\", \"Topic1\", \"Topic1\", \"Topic1\", \"Topic1\", \"Topic1\", \"Topic1\", \"Topic1\", \"Topic1\", \"Topic1\", \"Topic1\", \"Topic1\", \"Topic1\", \"Topic2\", \"Topic2\", \"Topic2\", \"Topic2\", \"Topic2\", \"Topic2\", \"Topic2\", \"Topic2\", \"Topic2\", \"Topic2\", \"Topic2\", \"Topic2\", \"Topic2\", \"Topic2\", \"Topic2\", \"Topic2\", \"Topic2\", \"Topic2\", \"Topic2\", \"Topic2\", \"Topic2\", \"Topic2\", \"Topic2\", \"Topic2\", \"Topic2\", \"Topic2\", \"Topic2\", \"Topic2\", \"Topic2\", \"Topic2\", \"Topic2\", \"Topic2\", \"Topic2\", \"Topic2\", \"Topic2\", \"Topic2\", \"Topic2\", \"Topic2\", \"Topic2\", \"Topic2\", \"Topic2\", \"Topic2\", \"Topic2\", \"Topic2\", \"Topic2\", \"Topic3\", \"Topic3\", \"Topic3\", \"Topic3\", \"Topic3\", \"Topic3\", \"Topic3\", \"Topic3\", \"Topic3\", \"Topic3\", \"Topic3\", \"Topic3\", \"Topic3\", \"Topic3\", \"Topic3\", \"Topic3\", \"Topic3\", \"Topic3\", \"Topic3\", \"Topic3\", \"Topic3\", \"Topic3\", \"Topic3\", \"Topic3\", \"Topic3\", \"Topic3\", \"Topic3\", \"Topic3\", \"Topic3\", \"Topic3\", \"Topic3\", \"Topic3\", \"Topic3\", \"Topic3\", \"Topic3\", \"Topic3\", \"Topic3\", \"Topic3\", \"Topic3\", \"Topic3\", \"Topic3\", \"Topic3\", \"Topic3\", \"Topic3\", \"Topic3\", \"Topic3\", \"Topic3\", \"Topic3\", \"Topic4\", \"Topic4\", \"Topic4\", \"Topic4\", \"Topic4\", \"Topic4\", \"Topic4\", \"Topic4\", \"Topic4\", \"Topic4\", \"Topic4\", \"Topic4\", \"Topic4\", \"Topic4\", \"Topic4\", \"Topic4\", \"Topic4\", \"Topic4\", \"Topic4\", \"Topic4\", \"Topic4\", \"Topic4\", \"Topic4\", \"Topic4\", \"Topic4\", \"Topic4\", \"Topic4\", \"Topic4\", \"Topic4\", \"Topic4\", \"Topic4\", \"Topic4\", \"Topic4\", \"Topic4\", \"Topic4\", \"Topic4\", \"Topic4\", \"Topic4\", \"Topic4\", \"Topic4\", \"Topic4\", \"Topic4\", \"Topic4\", \"Topic4\", \"Topic4\", \"Topic4\", \"Topic4\", \"Topic4\", \"Topic4\", \"Topic4\", \"Topic4\", \"Topic4\", \"Topic5\", \"Topic5\", \"Topic5\", \"Topic5\", \"Topic5\", \"Topic5\", \"Topic5\", \"Topic5\", \"Topic5\", \"Topic5\", \"Topic5\", \"Topic5\", \"Topic5\", \"Topic5\", \"Topic5\", \"Topic5\", \"Topic5\", \"Topic5\", \"Topic5\", \"Topic5\", \"Topic5\", \"Topic5\", \"Topic5\", \"Topic5\", \"Topic5\", \"Topic5\", \"Topic5\", \"Topic5\", \"Topic5\", \"Topic5\", \"Topic5\", \"Topic5\", \"Topic5\", \"Topic5\", \"Topic5\", \"Topic5\", \"Topic5\", \"Topic5\", \"Topic5\", \"Topic5\", \"Topic5\", \"Topic5\", \"Topic5\", \"Topic5\", \"Topic5\", \"Topic5\", \"Topic5\"], \"logprob\": [30.0, 29.0, 28.0, 27.0, 26.0, 25.0, 24.0, 23.0, 22.0, 21.0, 20.0, 19.0, 18.0, 17.0, 16.0, 15.0, 14.0, 13.0, 12.0, 11.0, 10.0, 9.0, 8.0, 7.0, 6.0, 5.0, 4.0, 3.0, 2.0, 1.0, -6.04, -6.5929, -6.5929, -6.5929, -6.5929, -6.5929, -6.5929, -6.5929, -6.5929, -6.5929, -6.5929, -6.5929, -6.5929, -6.5929, -6.5929, -6.5929, -6.5929, -6.5929, -6.5929, -6.5929, -6.5929, -6.5929, -6.5929, -6.5929, -6.6869, -6.6968, -6.5539, -6.8933, -6.8933, -6.8933, -6.8933, -6.7639, -6.7639, -6.7193, -6.436, -6.6417, -6.5557, -6.555, -6.523, -6.9088, -6.7974, -6.7974, -6.9754, -6.9754, -6.9754, -6.9754, -6.9754, -6.9754, -6.9764, -6.9764, -6.8775, -6.7894, -6.7894, -6.7894, -7.0452, -7.0452, -7.0452, -7.0452, -7.0452, -7.0452, -7.0452, -7.0452, -7.0452, -6.9673, -7.0534, -6.8357, -6.8357, -6.8631, -6.8233, -6.9, -6.8241, -7.0023, -6.7499, -6.7706, -6.9016, -6.9896, -6.8457, -6.8628, -6.9689, -6.9689, -6.9689, -6.9101, -6.9101, -6.5342, -6.9291, -6.9291, -6.9291, -6.9291, -6.9291, -6.9291, -6.9291, -6.9553, -6.9553, -6.9553, -6.9553, -7.0723, -7.0823, -7.093, -7.111, -7.111, -7.111, -7.111, -7.111, -7.111, -7.111, -7.111, -7.111, -7.111, -7.111, -7.111, -7.111, -7.111, -7.111, -7.111, -7.111, -6.8123, -6.6933, -6.9846, -6.9216, -6.5762, -7.0096, -6.7609, -7.0257, -6.8959, -6.9599, -6.9608, -6.9362, -7.0535, -7.0385, -6.7967, -6.7967, -6.7967, -6.8561, -7.0298, -6.7354, -7.0437, -7.0437, -7.0437, -7.0437, -7.0437, -7.0437, -7.0437, -7.0437, -7.0437, -7.0437, -7.0437, -7.0437, -7.0437, -7.0437, -6.7052, -7.0529, -6.7116, -6.9615, -7.1037, -7.1037, -7.1037, -7.1037, -7.1037, -7.1037, -7.1037, -7.1037, -7.1037, -7.1037, -7.1037, -6.9813, -7.1037, -7.1037, -7.0181, -6.5395, -6.539, -6.6766, -6.9929, -6.9237, -6.8249, -6.941, -6.8332, -6.9663, -7.003, -7.0121, -7.0121, -7.0121, -6.7507, -6.7507, -6.434, -6.9194, -6.9795, -6.9795, -6.9795, -6.9889, -7.0277, -7.0938, -7.0938, -7.0938, -7.0938, -7.0938, -7.0938, -7.0938, -7.0938, -7.0938, -7.0938, -7.0938, -7.0938, -7.0938, -7.0938, -6.9902, -6.7842, -7.1519, -7.1519, -7.1519, -7.1519, -7.1519, -7.1519, -7.1519, -7.1519, -6.7039, -7.1519, -7.1519, -7.1519, -6.6959, -6.8536, -6.8728, -7.0208, -6.8325, -6.7669, -6.8334, -7.0402, -7.0562, -6.9103], \"loglift\": [30.0, 29.0, 28.0, 27.0, 26.0, 25.0, 24.0, 23.0, 22.0, 21.0, 20.0, 19.0, 18.0, 17.0, 16.0, 15.0, 14.0, 13.0, 12.0, 11.0, 10.0, 9.0, 8.0, 7.0, 6.0, 5.0, 4.0, 3.0, 2.0, 1.0, 0.9612, 0.7544, 0.7544, 0.7544, 0.7544, 0.7544, 0.7544, 0.7544, 0.7544, 0.7544, 0.7544, 0.7544, 0.7544, 0.7544, 0.7544, 0.7544, 0.7544, 0.7544, 0.7544, 0.7544, 0.7544, 0.7544, 0.7544, 0.7544, 0.7119, 0.7073, 0.6984, 0.611, 0.611, 0.611, 0.611, 0.6001, 0.6001, 0.5807, 0.4219, 0.3585, 0.7951, 0.7142, 0.6816, 0.6737, 0.6541, 0.6541, 0.6341, 0.6341, 0.6341, 0.6341, 0.6341, 0.6341, 0.6335, 0.6335, 0.614, 0.6075, 0.6075, 0.6075, 0.5915, 0.5915, 0.5915, 0.5915, 0.5915, 0.5915, 0.5915, 0.5915, 0.5915, 0.5889, 0.5864, 0.5763, 0.5763, 0.4836, 0.4513, 0.4627, 0.3801, 0.5358, 0.1818, 0.1676, 0.3628, 0.4304, -0.0634, -0.0049, 0.3442, 0.3442, 0.3442, 0.6866, 0.6866, 0.6866, 0.6751, 0.6751, 0.6751, 0.6751, 0.6751, 0.6751, 0.6751, 0.6592, 0.6592, 0.6592, 0.6592, 0.5861, 0.5797, 0.5728, 0.5612, 0.5612, 0.5612, 0.5612, 0.5612, 0.5612, 0.5612, 0.5612, 0.5612, 0.5612, 0.5612, 0.5612, 0.5612, 0.5612, 0.5612, 0.5612, 0.5612, 0.529, 0.4777, 0.534, 0.4951, 0.3619, 0.431, 0.0214, 0.4302, 0.2123, 0.3147, 0.2434, 0.064, 0.3349, -0.1069, 0.7999, 0.7999, 0.7999, 0.7627, 0.6491, 0.6403, 0.6398, 0.6398, 0.6398, 0.6398, 0.6398, 0.6398, 0.6398, 0.6398, 0.6398, 0.6398, 0.6398, 0.6398, 0.6398, 0.6398, 0.6381, 0.6335, 0.6225, 0.6048, 0.5988, 0.5988, 0.5988, 0.5988, 0.5988, 0.5988, 0.5988, 0.5988, 0.5988, 0.5988, 0.5988, 0.5859, 0.5988, 0.5988, 0.576, 0.3493, 0.2433, 0.2551, 0.507, 0.4333, 0.3155, 0.4474, 0.0247, 0.303, 0.3598, 0.301, 0.301, 0.301, 0.8567, 0.8567, 0.8272, 0.7459, 0.7048, 0.7048, 0.7048, 0.6983, 0.6714, 0.6247, 0.6247, 0.6247, 0.6247, 0.6247, 0.6247, 0.6247, 0.6247, 0.6247, 0.6247, 0.6247, 0.6247, 0.6247, 0.6247, 0.6213, 0.6159, 0.5829, 0.5829, 0.5829, 0.5829, 0.5829, 0.5829, 0.5829, 0.5829, 0.5623, 0.5829, 0.5829, 0.5829, 0.4445, 0.3506, 0.348, 0.4676, 0.2757, 0.1648, 0.0554, 0.4688, 0.492, -0.1281]}, \"token.table\": {\"Topic\": [], \"Freq\": [], \"Term\": []}, \"R\": 30, \"lambda.step\": 0.01, \"plot.opts\": {\"xlab\": \"PC1\", \"ylab\": \"PC2\"}, \"topic.order\": [2, 5, 1, 3, 4]};\n",
              "\n",
              "function LDAvis_load_lib(url, callback){\n",
              "  var s = document.createElement('script');\n",
              "  s.src = url;\n",
              "  s.async = true;\n",
              "  s.onreadystatechange = s.onload = callback;\n",
              "  s.onerror = function(){console.warn(\"failed to load library \" + url);};\n",
              "  document.getElementsByTagName(\"head\")[0].appendChild(s);\n",
              "}\n",
              "\n",
              "if(typeof(LDAvis) !== \"undefined\"){\n",
              "   // already loaded: just create the visualization\n",
              "   !function(LDAvis){\n",
              "       new LDAvis(\"#\" + \"ldavis_el991397139809517928825569102\", ldavis_el991397139809517928825569102_data);\n",
              "   }(LDAvis);\n",
              "}else if(typeof define === \"function\" && define.amd){\n",
              "   // require.js is available: use it to load d3/LDAvis\n",
              "   require.config({paths: {d3: \"https://cdnjs.cloudflare.com/ajax/libs/d3/3.5.5/d3.min\"}});\n",
              "   require([\"d3\"], function(d3){\n",
              "      window.d3 = d3;\n",
              "      LDAvis_load_lib(\"https://cdn.rawgit.com/bmabey/pyLDAvis/files/ldavis.v1.0.0.js\", function(){\n",
              "        new LDAvis(\"#\" + \"ldavis_el991397139809517928825569102\", ldavis_el991397139809517928825569102_data);\n",
              "      });\n",
              "    });\n",
              "}else{\n",
              "    // require.js not available: dynamically load d3 & LDAvis\n",
              "    LDAvis_load_lib(\"https://cdnjs.cloudflare.com/ajax/libs/d3/3.5.5/d3.min.js\", function(){\n",
              "         LDAvis_load_lib(\"https://cdn.rawgit.com/bmabey/pyLDAvis/files/ldavis.v1.0.0.js\", function(){\n",
              "                 new LDAvis(\"#\" + \"ldavis_el991397139809517928825569102\", ldavis_el991397139809517928825569102_data);\n",
              "            })\n",
              "         });\n",
              "}\n",
              "</script>"
            ],
            "text/plain": [
              "PreparedData(topic_coordinates=              x         y  topics  cluster       Freq\n",
              "topic                                                \n",
              "1     -0.018667  0.001853       1        1  26.341986\n",
              "4      0.007288  0.011986       2        1  21.090942\n",
              "0      0.003909 -0.010144       3        1  20.112724\n",
              "2      0.004705 -0.001492       4        1  17.082362\n",
              "3      0.002765 -0.002203       5        1  15.371986, topic_info=           Term      Freq     Total Category  logprob  loglift\n",
              "740         etf  0.000000  0.000000  Default  30.0000  30.0000\n",
              "650         end  0.000000  0.000000  Default  29.0000  29.0000\n",
              "2200       year  0.000000  0.000000  Default  28.0000  28.0000\n",
              "1254      month  0.000000  0.000000  Default  27.0000  27.0000\n",
              "1255  month end  0.000000  0.000000  Default  26.0000  26.0000\n",
              "...         ...       ...       ...      ...      ...      ...\n",
              "818   financial  0.073293  0.404370   Topic5  -6.7669   0.1648\n",
              "337     company  0.068578  0.422095   Topic5  -6.8334   0.0554\n",
              "1805     result  0.055765  0.227016   Topic5  -7.0402   0.4688\n",
              "1771     report  0.054883  0.218287   Topic5  -7.0562   0.4920\n",
              "1273     nature  0.063500  0.469528   Topic5  -6.9103  -0.1281\n",
              "\n",
              "[258 rows x 6 columns], token_table=Empty DataFrame\n",
              "Columns: [Topic, Freq, Term]\n",
              "Index: [], R=30, lambda_step=0.01, plot_opts={'xlab': 'PC1', 'ylab': 'PC2'}, topic_order=[2, 5, 1, 3, 4])"
            ]
          },
          "metadata": {
            "tags": []
          },
          "execution_count": 44
        }
      ]
    },
    {
      "cell_type": "code",
      "metadata": {
        "id": "ShuvTUqa8SnZ",
        "outputId": "04bc26c2-b32d-4762-c655-7b7b9e20d9ae",
        "colab": {
          "base_uri": "https://localhost:8080/"
        }
      },
      "source": [
        "# Showing the words for each topic\n",
        "n_words_to_show = 8\n",
        "year2017 = display_topics(lda, tfidf_vectorizer.get_feature_names(), n_words_to_show)"
      ],
      "execution_count": 45,
      "outputs": [
        {
          "output_type": "stream",
          "text": [
            "Topic 0:\n",
            "year, environmental, operation, nature, ore, corporation, iron, iron ore\n",
            "\n",
            "Topic 1:\n",
            "etf, energy, equity, index etf, robo, robotic, robotic automation, robotic automation index\n",
            "\n",
            "Topic 2:\n",
            "nature, company, financial, future, sale, financial liability, coffee, decaffeinate\n",
            "\n",
            "Topic 3:\n",
            "end, liability, december, month, month end, financial, short, corporation\n",
            "\n",
            "Topic 4:\n",
            "production, lude, audit, financial, environmental, environmental rehabilitation, environmental rehabilitation provision, rehabilitation provision\n",
            "\n"
          ],
          "name": "stdout"
        }
      ]
    },
    {
      "cell_type": "markdown",
      "metadata": {
        "id": "LTGeTpTW8VQt"
      },
      "source": [
        "**2018**"
      ]
    },
    {
      "cell_type": "code",
      "metadata": {
        "id": "xiCXcG_B8W8U",
        "outputId": "e920af2b-1edf-4560-e588-3f9c1d632f35",
        "colab": {
          "base_uri": "https://localhost:8080/",
          "height": 861
        }
      },
      "source": [
        "# Creating the rating's dataset\n",
        "scoped_data = filtered_data.loc[filtered_data.fileyear == 2018, :]\n",
        "\n",
        "# Training the LDA model\n",
        "tfidf_vectorizer = TfidfVectorizer(ngram_range = (1, 3),\n",
        "                                   max_df = maxdf,\n",
        "                                   min_df = mindf,\n",
        "                                   max_features = None)\n",
        "tfidf_fit = tfidf_vectorizer.fit_transform(scoped_data.text)\n",
        "lda = LatentDirichletAllocation(n_components = 5, \n",
        "                                random_state = 69)\n",
        "lda.fit(tfidf_fit)\n",
        "\n",
        "# LDA visualisation\n",
        "pyLDAvis.sklearn.prepare(lda, tfidf_fit, tfidf_vectorizer)"
      ],
      "execution_count": 46,
      "outputs": [
        {
          "output_type": "execute_result",
          "data": {
            "text/html": [
              "\n",
              "<link rel=\"stylesheet\" type=\"text/css\" href=\"https://cdn.rawgit.com/bmabey/pyLDAvis/files/ldavis.v1.0.0.css\">\n",
              "\n",
              "\n",
              "<div id=\"ldavis_el991397139809508325449660980\"></div>\n",
              "<script type=\"text/javascript\">\n",
              "\n",
              "var ldavis_el991397139809508325449660980_data = {\"mdsDat\": {\"x\": [-0.017141907626272258, 0.00842370040708167, 0.0050096971698534425, 0.0036236417333123843, 8.486831602473735e-05], \"y\": [-0.0013127925964316, -0.009738193285144034, 0.013377572850504187, -0.0020606806796653505, -0.0002659062892632021], \"topics\": [1, 2, 3, 4, 5], \"cluster\": [1, 1, 1, 1, 1], \"Freq\": [26.071933243888868, 23.651850583510022, 22.535740092740937, 18.300438995469886, 9.440037084390289]}, \"tinfo\": {\"Term\": [\"financial result\", \"result\", \"december\", \"prepare\", \"accordance\", \"total energy\", \"total energy financial\", \"base total\", \"base total energy\", \"prepare accordance\", \"energy financial result\", \"energy financial\", \"result prepare\", \"result prepare accordance\", \"accordance ifrs\", \"prepare accordance ifrs\", \"financial result prepare\", \"ifrs\", \"claim\", \"value\", \"segment\", \"provision\", \"project\", \"total\", \"fair value\", \"fair\", \"cash\", \"prior\", \"environmental\", \"invest\", \"december\", \"ur\", \"fair\", \"fair value\", \"end\", \"fair value financial\", \"financial liability approximate\", \"carrying amount\", \"carrying\", \"value financial liability\", \"nature fair\", \"nature fair value\", \"value financial\", \"liability approximate carrying\", \"liability approximate\", \"term nature fair\", \"approximate carrying amount\", \"approximate carrying\", \"end december\", \"month end\", \"month\", \"rate\", \"obligation ur\", \"value\", \"short term nature\", \"financial liability\", \"approximate\", \"amount\", \"short term\", \"cost\", \"financial\", \"rehabilitation\", \"nature\", \"spark\", \"fund\", \"segment\", \"novaalgoma\", \"ome\", \"operate segment\", \"base nature\", \"financial assess collectively\", \"remain financial assess\", \"collectively base nature\", \"remain financial\", \"financial assess\", \"collectively base\", \"remain\", \"assess\", \"assess collectively base\", \"assess collectively\", \"spark land energy\", \"land energy\", \"spark land\", \"fund redwood\", \"ome fund\", \"resource\", \"redwood\", \"benefit\", \"evaluate\", \"arrangement\", \"ngx\", \"ngx shorcan energy\", \"taxis\", \"energy ome taxis\", \"gain sale ngx\", \"energy\", \"sale ngx shorcan\", \"ngx shorcan\", \"shorcan energy\", \"gain sale\", \"sale ngx\", \"shorcan\", \"gain\", \"ome taxis\", \"shorcan energy ome\", \"nature\", \"plan\", \"corp\", \"lude\", \"services\", \"company\", \"operate\", \"claim\", \"provision\", \"time initial\", \"time initial recognition\", \"initial\", \"initial recognition\", \"services contract loss\", \"services contract\", \"contract loss provision\", \"loss provision\", \"contract loss\", \"environmental services contract\", \"environmental services\", \"contract\", \"recognition\", \"obligation provision environmental\", \"obligation provision\", \"finance lease\", \"lease\", \"finance lease obligation\", \"lease obligation\", \"lease obligation provision\", \"finance\", \"provision environmental rehabilitation\", \"provision environmental\", \"nexgen\", \"veta\", \"underground\", \"operation go\", \"nature operation go\", \"go concern\", \"concern change\", \"operation go concern\", \"go\", \"concern change year\", \"change year end\", \"concern\", \"environmental\", \"change year\", \"go concern change\", \"time\", \"operation\", \"uncertain\", \"nature\", \"inherent\", \"company\", \"prior\", \"unregistered\", \"claim\", \"agreement\", \"prior agreement\", \"claim non compliance\", \"claim non\", \"environmental requirement\", \"title\", \"compliance regulatory\", \"non compliance regulatory\", \"non compliance\", \"expenditure\", \"property\", \"legal\", \"amendment\", \"construct operate\", \"construct operate tonne\", \"tonne day tpd\", \"tonne\", \"operate tonne day\", \"operate tonne\", \"application environmental permit\", \"tonne day\", \"permit construct\", \"permit construct operate\", \"day\", \"day tpd\", \"application environmental\", \"application\", \"construct\", \"environmental permit construct\", \"amendment application\", \"amendment application environmental\", \"tpd\", \"corporation\", \"compliance\", \"requirement\", \"environmental\", \"subject\", \"regulatory\", \"non\", \"company\", \"relate\", \"reduction\", \"tax credit\", \"tax\", \"nature\", \"credit\", \"item\", \"plan\", \"financial\", \"financial result\", \"total energy financial\", \"energy financial result\", \"total energy\", \"ifrs\", \"prepare accordance ifrs\", \"base total\", \"base total energy\", \"prepare accordance\", \"prepare\", \"result prepare accordance\", \"result prepare\", \"financial result prepare\", \"accordance ifrs\", \"accordance\", \"energy financial\", \"result\", \"total\", \"canadian hydrovac strategy\", \"financial result lude\", \"sector financial\", \"sector financial result\", \"strategy\", \"oilfield service segment\", \"strategy invest\", \"energy sector\", \"service segment\", \"canadian hydrovac\", \"energy sector financial\", \"oilfield service\", \"mullen group acquire\", \"mullen group\", \"service\", \"group\", \"canadian\", \"group acquire\", \"result lude oilfield\", \"lude oilfield service\", \"lude oilfield\", \"result lude\", \"invest energy sector\", \"hydrovac strategy\", \"hydrovac strategy invest\", \"group acquire canadian\", \"hydrovac\", \"mullen\", \"oilfield\", \"strategy invest energy\", \"project\", \"financial\", \"cash\", \"invest energy\", \"liability\", \"value\", \"energy\", \"base\", \"acquire canadian\", \"acquire canadian hydrovac\"], \"Freq\": [0.0, 0.0, 0.0, 0.0, 0.0, 0.0, 0.0, 0.0, 0.0, 0.0, 0.0, 0.0, 0.0, 0.0, 0.0, 0.0, 0.0, 0.0, 0.0, 0.0, 0.0, 0.0, 0.0, 0.0, 0.0, 0.0, 0.0, 0.0, 0.0, 0.0, 0.17458026407631838, 0.1264219245881186, 0.13369270366369312, 0.13369270366369312, 0.14852626063677216, 0.11412392619952522, 0.11412392619952522, 0.11412392619952522, 0.11412392619952522, 0.11412392619952522, 0.11412392619952522, 0.11412392619952522, 0.11412392619952522, 0.11412392619952522, 0.11412392619952522, 0.11412392619952522, 0.11412392619952522, 0.11412392619952522, 0.11157746272178859, 0.10753434958757262, 0.10753434958757262, 0.1211107371631247, 0.10210768635054508, 0.12859279862855919, 0.10854158296354224, 0.10854158296354224, 0.10854158296354224, 0.10854158296354224, 0.10854158296354224, 0.16207320046636667, 0.16734871030954632, 0.11879254945049286, 0.16389322743973364, 0.10472014729067103, 0.11474030560066317, 0.10819208540168124, 0.09551557092861569, 0.1067672127022273, 0.08485854007142912, 0.08192476116534023, 0.08192476116534023, 0.08192476116534023, 0.08192476116534023, 0.08192476116534023, 0.08192476116534023, 0.08192476116534023, 0.08192476116534023, 0.08192476116534023, 0.08192476116534023, 0.08192476116534023, 0.08121161412094335, 0.08121161412094335, 0.08121161412094335, 0.07857407945862716, 0.07857407945862716, 0.07857407945862716, 0.07857407945862716, 0.0895419134896935, 0.07702888378997626, 0.07702888378997626, 0.07610524387032142, 0.07610524387032142, 0.07610524387032142, 0.07610524387032142, 0.07610524387032142, 0.1483547014295671, 0.07610524387032142, 0.07610524387032142, 0.07610524387032142, 0.07610524387032142, 0.07610524387032142, 0.07610524387032142, 0.07610524387032142, 0.07610524387032142, 0.07610524387032142, 0.11287884166527447, 0.0855062364138915, 0.08321025151473384, 0.08560733677135128, 0.08320379924959231, 0.08409903078461618, 0.08015634063440984, 0.08109652318762914, 0.13661182674206937, 0.09870366303272744, 0.09870366303272744, 0.09870366303272744, 0.09870366303272744, 0.08445526422835409, 0.08445526422835409, 0.08445526422835409, 0.08445526422835409, 0.08445526422835409, 0.08445526422835409, 0.08445526422835409, 0.08445526422835409, 0.09394623081526048, 0.07873728287538105, 0.07873728287538105, 0.07873728287538105, 0.07873728287538105, 0.07873728287538105, 0.07873728287538105, 0.07873728287538105, 0.07873728287538105, 0.07873728287538105, 0.07873728287538105, 0.07616435398793428, 0.07578842250033382, 0.07578842250033382, 0.07520366126359461, 0.07520366126359461, 0.07520366126359461, 0.07520366126359461, 0.07520366126359461, 0.07520366126359461, 0.07520366126359461, 0.07520366126359461, 0.07520366126359461, 0.12895146595532272, 0.07520366126359461, 0.07520366126359461, 0.09390896500112356, 0.09078275627275362, 0.08055810700791265, 0.10638963306401471, 0.08057044226373586, 0.08141256765859174, 0.07799297903529305, 0.07173060544763608, 0.09229326793966065, 0.06577334566824938, 0.06577334566824938, 0.06577334566824938, 0.06577334566824938, 0.06577334566824938, 0.06577334566824938, 0.06577334566824938, 0.06577334566824938, 0.06577334566824938, 0.0624970572786291, 0.07502831303725588, 0.07458510736437196, 0.057023214292275706, 0.057023214292275706, 0.057023214292275706, 0.057023214292275706, 0.057023214292275706, 0.057023214292275706, 0.057023214292275706, 0.057023214292275706, 0.057023214292275706, 0.057023214292275706, 0.057023214292275706, 0.057023214292275706, 0.057023214292275706, 0.057023214292275706, 0.057023214292275706, 0.057023214292275706, 0.057023214292275706, 0.057023214292275706, 0.057023214292275706, 0.057023214292275706, 0.07919919780478248, 0.06301628286960995, 0.06302019588321596, 0.0802847864781131, 0.06302105015003041, 0.060876269157359705, 0.06299368534855943, 0.06853307517756181, 0.058936787208530655, 0.058742903378700646, 0.058742903378700646, 0.058742903378700646, 0.06756706255854224, 0.05872299840557583, 0.05872299840557583, 0.059056042166011305, 0.05978414651591337, 0.04309575085923815, 0.03351344332970777, 0.03351344332970777, 0.03351344332970777, 0.03351344332970777, 0.03351344332970777, 0.03351344332970777, 0.03351344332970777, 0.03351344332970777, 0.03351344332970777, 0.03351344332970777, 0.03351344332970777, 0.03351344332970777, 0.03351344332970777, 0.03351344332970777, 0.03351344332970777, 0.0411087133789473, 0.031836204406731836, 0.02792627912218664, 0.02792627912218664, 0.02792627912218664, 0.02792627912218664, 0.02792627912218664, 0.02792627912218664, 0.02792627912218664, 0.02792627912218664, 0.02792627912218664, 0.02792627912218664, 0.02792627912218664, 0.02792627912218664, 0.02792627912218664, 0.02792627912218664, 0.02792627912218664, 0.02792627912218664, 0.02792627912218664, 0.02792627912218664, 0.02792627912218664, 0.02792627912218664, 0.02792627912218664, 0.02792627912218664, 0.02792627912218664, 0.02792627912218664, 0.02792627912218664, 0.02792627912218664, 0.02792627912218664, 0.02792627912218664, 0.02792627912218664, 0.02792627912218664, 0.031773949571069604, 0.03725699726492074, 0.03079946076283923, 0.02792627912218664, 0.030823134703407914, 0.03078952402426956, 0.03220549438307347, 0.028969409118517066, 0.02792627912218664, 0.02792627912218664], \"Total\": [0.0, 0.0, 0.0, 0.0, 0.0, 0.0, 0.0, 0.0, 0.0, 0.0, 0.0, 0.0, 0.0, 0.0, 0.0, 0.0, 0.0, 0.0, 0.0, 0.0, 0.0, 0.0, 0.0, 0.0, 0.0, 0.0, 0.0, 0.0, 0.0, 0.0, 0.28489060252811405, 0.2367325261260255, 0.2520380673985842, 0.2520380673985842, 0.29202646400247273, 0.2244349734717597, 0.2244349734717597, 0.2244349734717597, 0.2244349734717597, 0.2244349734717597, 0.2244349734717597, 0.2244349734717597, 0.2244349734717597, 0.2244349734717597, 0.2244349734717597, 0.2244349734717597, 0.2244349734717597, 0.2244349734717597, 0.22188999197886444, 0.21784702684344245, 0.21784702684344245, 0.24697140464190132, 0.21241920006276238, 0.2689725961844004, 0.2274385973739513, 0.2274385973739513, 0.2274385973739513, 0.2274385973739513, 0.2274385973739513, 0.3402599106017893, 0.41396092706021714, 0.26515323586089745, 0.47031203156199647, 0.21769604810814397, 0.24453349737596178, 0.23157266572002058, 0.20849058040474486, 0.23649739341984316, 0.19783332905850137, 0.19490487182536195, 0.19490487182536195, 0.19490487182536195, 0.19490487182536195, 0.19490487182536195, 0.19490487182536195, 0.19490487182536195, 0.19490487182536195, 0.19490487182536195, 0.19490487182536195, 0.19490487182536195, 0.1941886420423573, 0.1941886420423573, 0.1941886420423573, 0.19155147160941802, 0.19155147160941802, 0.19155147160941802, 0.19155147160941802, 0.21936907408091108, 0.19000433012863388, 0.19000433012863388, 0.18908474611385434, 0.18908474611385434, 0.18908474611385434, 0.18908474611385434, 0.18908474611385434, 0.3864296635859729, 0.18908474611385434, 0.18908474611385434, 0.18908474611385434, 0.18908474611385434, 0.18908474611385434, 0.18908474611385434, 0.18908474611385434, 0.18908474611385434, 0.18908474611385434, 0.47031203156199647, 0.24775588685887764, 0.23279144956029568, 0.25317399294885895, 0.2394854013069931, 0.3067009427543351, 0.21965353792304443, 0.2586314247933877, 0.28366559571163613, 0.213019164823197, 0.213019164823197, 0.213019164823197, 0.213019164823197, 0.19877459323954033, 0.19877459323954033, 0.19877459323954033, 0.19877459323954033, 0.19877459323954033, 0.19877459323954033, 0.19877459323954033, 0.19877459323954033, 0.22617947110300307, 0.1930560402972459, 0.1930560402972459, 0.1930560402972459, 0.1930560402972459, 0.1930560402972459, 0.1930560402972459, 0.1930560402972459, 0.1930560402972459, 0.1930560402972459, 0.1930560402972459, 0.19047847272759463, 0.19010268018693927, 0.19010268018693927, 0.18952200537373134, 0.18952200537373134, 0.18952200537373134, 0.18952200537373134, 0.18952200537373134, 0.18952200537373134, 0.18952200537373134, 0.18952200537373134, 0.18952200537373134, 0.3522778694225884, 0.18952200537373134, 0.18952200537373134, 0.24901304758711817, 0.24386034375534216, 0.20858027265278956, 0.47031203156199647, 0.22827596215926035, 0.3067009427543351, 0.1974381758332323, 0.19117668184813127, 0.2586314247933877, 0.18521937555779047, 0.18521937555779047, 0.18521937555779047, 0.18521937555779047, 0.18521937555779047, 0.18521937555779047, 0.18521937555779047, 0.18521937555779047, 0.18521937555779047, 0.18194311896879325, 0.2229918667004534, 0.2303299933104996, 0.17647228053069564, 0.17647228053069564, 0.17647228053069564, 0.17647228053069564, 0.17647228053069564, 0.17647228053069564, 0.17647228053069564, 0.17647228053069564, 0.17647228053069564, 0.17647228053069564, 0.17647228053069564, 0.17647228053069564, 0.17647228053069564, 0.17647228053069564, 0.17647228053069564, 0.17647228053069564, 0.17647228053069564, 0.17647228053069564, 0.17647228053069564, 0.17647228053069564, 0.2572634810955295, 0.19955158758178224, 0.21041240320028404, 0.3522778694225884, 0.21586242018375046, 0.2064709613077366, 0.22892701030054333, 0.3067009427543351, 0.19502155828234014, 0.19664137731181558, 0.19664137731181558, 0.19664137731181558, 0.47031203156199647, 0.21512772763711122, 0.21512772763711122, 0.24775588685887764, 0.41396092706021714, 0.17477919103833203, 0.16519937586262504, 0.16519937586262504, 0.16519937586262504, 0.16519937586262504, 0.16519937586262504, 0.16519937586262504, 0.16519937586262504, 0.16519937586262504, 0.16519937586262504, 0.16519937586262504, 0.16519937586262504, 0.16519937586262504, 0.16519937586262504, 0.16519937586262504, 0.16519937586262504, 0.20412059398758348, 0.1798012095126708, 0.15961061607712757, 0.15961061607712757, 0.15961061607712757, 0.15961061607712757, 0.15961061607712757, 0.15961061607712757, 0.15961061607712757, 0.15961061607712757, 0.15961061607712757, 0.15961061607712757, 0.15961061607712757, 0.15961061607712757, 0.15961061607712757, 0.15961061607712757, 0.15961061607712757, 0.15961061607712757, 0.15961061607712757, 0.15961061607712757, 0.15961061607712757, 0.15961061607712757, 0.15961061607712757, 0.15961061607712757, 0.15961061607712757, 0.15961061607712757, 0.15961061607712757, 0.15961061607712757, 0.15961061607712757, 0.15961061607712757, 0.15961061607712757, 0.15961061607712757, 0.21129369529259498, 0.41396092706021714, 0.24705453999818577, 0.15961061607712757, 0.2546328533625516, 0.2689725961844004, 0.3864296635859729, 0.24512691298390557, 0.15961061607712757, 0.15961061607712757], \"Category\": [\"Default\", \"Default\", \"Default\", \"Default\", \"Default\", \"Default\", \"Default\", \"Default\", \"Default\", \"Default\", \"Default\", \"Default\", \"Default\", \"Default\", \"Default\", \"Default\", \"Default\", \"Default\", \"Default\", \"Default\", \"Default\", \"Default\", \"Default\", \"Default\", \"Default\", \"Default\", \"Default\", \"Default\", \"Default\", \"Default\", \"Topic1\", \"Topic1\", \"Topic1\", \"Topic1\", \"Topic1\", \"Topic1\", \"Topic1\", \"Topic1\", \"Topic1\", \"Topic1\", \"Topic1\", \"Topic1\", \"Topic1\", \"Topic1\", \"Topic1\", \"Topic1\", \"Topic1\", \"Topic1\", \"Topic1\", \"Topic1\", \"Topic1\", \"Topic1\", \"Topic1\", \"Topic1\", \"Topic1\", \"Topic1\", \"Topic1\", \"Topic1\", \"Topic1\", \"Topic1\", \"Topic1\", \"Topic1\", \"Topic1\", \"Topic2\", \"Topic2\", \"Topic2\", \"Topic2\", \"Topic2\", \"Topic2\", \"Topic2\", \"Topic2\", \"Topic2\", \"Topic2\", \"Topic2\", \"Topic2\", \"Topic2\", \"Topic2\", \"Topic2\", \"Topic2\", \"Topic2\", \"Topic2\", \"Topic2\", \"Topic2\", \"Topic2\", \"Topic2\", \"Topic2\", \"Topic2\", \"Topic2\", \"Topic2\", \"Topic2\", \"Topic2\", \"Topic2\", \"Topic2\", \"Topic2\", \"Topic2\", \"Topic2\", \"Topic2\", \"Topic2\", \"Topic2\", \"Topic2\", \"Topic2\", \"Topic2\", \"Topic2\", \"Topic2\", \"Topic2\", \"Topic2\", \"Topic2\", \"Topic2\", \"Topic2\", \"Topic2\", \"Topic2\", \"Topic2\", \"Topic2\", \"Topic3\", \"Topic3\", \"Topic3\", \"Topic3\", \"Topic3\", \"Topic3\", \"Topic3\", \"Topic3\", \"Topic3\", \"Topic3\", \"Topic3\", \"Topic3\", \"Topic3\", \"Topic3\", \"Topic3\", \"Topic3\", \"Topic3\", \"Topic3\", \"Topic3\", \"Topic3\", \"Topic3\", \"Topic3\", \"Topic3\", \"Topic3\", \"Topic3\", \"Topic3\", \"Topic3\", \"Topic3\", \"Topic3\", \"Topic3\", \"Topic3\", \"Topic3\", \"Topic3\", \"Topic3\", \"Topic3\", \"Topic3\", \"Topic3\", \"Topic3\", \"Topic3\", \"Topic3\", \"Topic3\", \"Topic3\", \"Topic3\", \"Topic3\", \"Topic3\", \"Topic4\", \"Topic4\", \"Topic4\", \"Topic4\", \"Topic4\", \"Topic4\", \"Topic4\", \"Topic4\", \"Topic4\", \"Topic4\", \"Topic4\", \"Topic4\", \"Topic4\", \"Topic4\", \"Topic4\", \"Topic4\", \"Topic4\", \"Topic4\", \"Topic4\", \"Topic4\", \"Topic4\", \"Topic4\", \"Topic4\", \"Topic4\", \"Topic4\", \"Topic4\", \"Topic4\", \"Topic4\", \"Topic4\", \"Topic4\", \"Topic4\", \"Topic4\", \"Topic4\", \"Topic4\", \"Topic4\", \"Topic4\", \"Topic4\", \"Topic4\", \"Topic4\", \"Topic4\", \"Topic4\", \"Topic4\", \"Topic4\", \"Topic4\", \"Topic4\", \"Topic4\", \"Topic4\", \"Topic4\", \"Topic4\", \"Topic4\", \"Topic4\", \"Topic4\", \"Topic5\", \"Topic5\", \"Topic5\", \"Topic5\", \"Topic5\", \"Topic5\", \"Topic5\", \"Topic5\", \"Topic5\", \"Topic5\", \"Topic5\", \"Topic5\", \"Topic5\", \"Topic5\", \"Topic5\", \"Topic5\", \"Topic5\", \"Topic5\", \"Topic5\", \"Topic5\", \"Topic5\", \"Topic5\", \"Topic5\", \"Topic5\", \"Topic5\", \"Topic5\", \"Topic5\", \"Topic5\", \"Topic5\", \"Topic5\", \"Topic5\", \"Topic5\", \"Topic5\", \"Topic5\", \"Topic5\", \"Topic5\", \"Topic5\", \"Topic5\", \"Topic5\", \"Topic5\", \"Topic5\", \"Topic5\", \"Topic5\", \"Topic5\", \"Topic5\", \"Topic5\", \"Topic5\", \"Topic5\", \"Topic5\", \"Topic5\", \"Topic5\", \"Topic5\", \"Topic5\", \"Topic5\", \"Topic5\", \"Topic5\", \"Topic5\", \"Topic5\"], \"logprob\": [30.0, 29.0, 28.0, 27.0, 26.0, 25.0, 24.0, 23.0, 22.0, 21.0, 20.0, 19.0, 18.0, 17.0, 16.0, 15.0, 14.0, 13.0, 12.0, 11.0, 10.0, 9.0, 8.0, 7.0, 6.0, 5.0, 4.0, 3.0, 2.0, 1.0, -6.2263, -6.5491, -6.4931, -6.4931, -6.3879, -6.6514, -6.6514, -6.6514, -6.6514, -6.6514, -6.6514, -6.6514, -6.6514, -6.6514, -6.6514, -6.6514, -6.6514, -6.6514, -6.674, -6.7109, -6.7109, -6.592, -6.7627, -6.532, -6.7016, -6.7016, -6.7016, -6.7016, -6.7016, -6.3006, -6.2686, -6.6113, -6.2895, -6.64, -6.5486, -6.6074, -6.732, -6.6206, -6.8503, -6.8855, -6.8855, -6.8855, -6.8855, -6.8855, -6.8855, -6.8855, -6.8855, -6.8855, -6.8855, -6.8855, -6.8942, -6.8942, -6.8942, -6.9272, -6.9272, -6.9272, -6.9272, -6.7966, -6.9471, -6.9471, -6.9592, -6.9592, -6.9592, -6.9592, -6.9592, -6.2917, -6.9592, -6.9592, -6.9592, -6.9592, -6.9592, -6.9592, -6.9592, -6.9592, -6.9592, -6.565, -6.8427, -6.8699, -6.8415, -6.87, -6.8593, -6.9073, -6.8956, -6.3258, -6.6508, -6.6508, -6.6508, -6.6508, -6.8067, -6.8067, -6.8067, -6.8067, -6.8067, -6.8067, -6.8067, -6.8067, -6.7002, -6.8768, -6.8768, -6.8768, -6.8768, -6.8768, -6.8768, -6.8768, -6.8768, -6.8768, -6.8768, -6.91, -6.915, -6.915, -6.9227, -6.9227, -6.9227, -6.9227, -6.9227, -6.9227, -6.9227, -6.9227, -6.9227, -6.3835, -6.9227, -6.9227, -6.7006, -6.7345, -6.854, -6.5758, -6.8538, -6.8434, -6.6781, -6.7618, -6.5098, -6.8485, -6.8485, -6.8485, -6.8485, -6.8485, -6.8485, -6.8485, -6.8485, -6.8485, -6.8996, -6.7169, -6.7228, -6.9913, -6.9913, -6.9913, -6.9913, -6.9913, -6.9913, -6.9913, -6.9913, -6.9913, -6.9913, -6.9913, -6.9913, -6.9913, -6.9913, -6.9913, -6.9913, -6.9913, -6.9913, -6.9913, -6.9913, -6.6628, -6.8914, -6.8913, -6.6492, -6.8913, -6.9259, -6.8917, -6.8074, -6.9583, -6.9616, -6.9616, -6.9616, -6.8216, -6.9619, -6.9619, -6.9563, -6.944, -6.6094, -6.8608, -6.8608, -6.8608, -6.8608, -6.8608, -6.8608, -6.8608, -6.8608, -6.8608, -6.8608, -6.8608, -6.8608, -6.8608, -6.8608, -6.8608, -6.6566, -6.9122, -7.0432, -7.0432, -7.0432, -7.0432, -7.0432, -7.0432, -7.0432, -7.0432, -7.0432, -7.0432, -7.0432, -7.0432, -7.0432, -7.0432, -7.0432, -7.0432, -7.0432, -7.0432, -7.0432, -7.0432, -7.0432, -7.0432, -7.0432, -7.0432, -7.0432, -7.0432, -7.0432, -7.0432, -7.0432, -7.0432, -6.9141, -6.7549, -6.9453, -7.0432, -6.9445, -6.9456, -6.9007, -7.0065, -7.0432, -7.0432], \"loglift\": [30.0, 29.0, 28.0, 27.0, 26.0, 25.0, 24.0, 23.0, 22.0, 21.0, 20.0, 19.0, 18.0, 17.0, 16.0, 15.0, 14.0, 13.0, 12.0, 11.0, 10.0, 9.0, 8.0, 7.0, 6.0, 5.0, 4.0, 3.0, 2.0, 1.0, 0.8546, 0.717, 0.7103, 0.7103, 0.6682, 0.668, 0.668, 0.668, 0.668, 0.668, 0.668, 0.668, 0.668, 0.668, 0.668, 0.668, 0.668, 0.668, 0.6568, 0.6383, 0.6383, 0.6317, 0.6118, 0.6064, 0.6046, 0.6046, 0.6046, 0.6046, 0.6046, 0.6026, 0.4386, 0.5414, 0.2901, 0.7099, 0.685, 0.6807, 0.6611, 0.6464, 0.5953, 0.575, 0.575, 0.575, 0.575, 0.575, 0.575, 0.575, 0.575, 0.575, 0.575, 0.575, 0.57, 0.57, 0.57, 0.5506, 0.5506, 0.5506, 0.5506, 0.5457, 0.5389, 0.5389, 0.5317, 0.5317, 0.5317, 0.5317, 0.5317, 0.4844, 0.5317, 0.5317, 0.5317, 0.5317, 0.5317, 0.5317, 0.5317, 0.5317, 0.5317, 0.0146, 0.3779, 0.413, 0.3574, 0.3845, 0.1479, 0.4337, 0.282, 0.7594, 0.7208, 0.7208, 0.7208, 0.7208, 0.6341, 0.6341, 0.6341, 0.6341, 0.6341, 0.6341, 0.6341, 0.6341, 0.6115, 0.5932, 0.5932, 0.5932, 0.5932, 0.5932, 0.5932, 0.5932, 0.5932, 0.5932, 0.5932, 0.5734, 0.5704, 0.5704, 0.5658, 0.5658, 0.5658, 0.5658, 0.5658, 0.5658, 0.5658, 0.5658, 0.5658, 0.4851, 0.5658, 0.5658, 0.5149, 0.5019, 0.5387, 0.0038, 0.4486, 0.1637, 0.7694, 0.718, 0.6678, 0.6629, 0.6629, 0.6629, 0.6629, 0.6629, 0.6629, 0.6629, 0.6629, 0.6629, 0.6297, 0.609, 0.5707, 0.5685, 0.5685, 0.5685, 0.5685, 0.5685, 0.5685, 0.5685, 0.5685, 0.5685, 0.5685, 0.5685, 0.5685, 0.5685, 0.5685, 0.5685, 0.5685, 0.5685, 0.5685, 0.5685, 0.5685, 0.5201, 0.5456, 0.4926, 0.2194, 0.4671, 0.4769, 0.4079, 0.1997, 0.5016, 0.49, 0.49, 0.49, -0.242, 0.3998, 0.3998, 0.2643, -0.2368, 0.9601, 0.765, 0.765, 0.765, 0.765, 0.765, 0.765, 0.765, 0.765, 0.765, 0.765, 0.765, 0.765, 0.765, 0.765, 0.765, 0.7577, 0.629, 0.617, 0.617, 0.617, 0.617, 0.617, 0.617, 0.617, 0.617, 0.617, 0.617, 0.617, 0.617, 0.617, 0.617, 0.617, 0.617, 0.617, 0.617, 0.617, 0.617, 0.617, 0.617, 0.617, 0.617, 0.617, 0.617, 0.617, 0.617, 0.617, 0.617, 0.4656, -0.0477, 0.2781, 0.617, 0.2487, 0.1928, -0.1246, 0.2247, 0.617, 0.617]}, \"token.table\": {\"Topic\": [], \"Freq\": [], \"Term\": []}, \"R\": 30, \"lambda.step\": 0.01, \"plot.opts\": {\"xlab\": \"PC1\", \"ylab\": \"PC2\"}, \"topic.order\": [4, 3, 1, 2, 5]};\n",
              "\n",
              "function LDAvis_load_lib(url, callback){\n",
              "  var s = document.createElement('script');\n",
              "  s.src = url;\n",
              "  s.async = true;\n",
              "  s.onreadystatechange = s.onload = callback;\n",
              "  s.onerror = function(){console.warn(\"failed to load library \" + url);};\n",
              "  document.getElementsByTagName(\"head\")[0].appendChild(s);\n",
              "}\n",
              "\n",
              "if(typeof(LDAvis) !== \"undefined\"){\n",
              "   // already loaded: just create the visualization\n",
              "   !function(LDAvis){\n",
              "       new LDAvis(\"#\" + \"ldavis_el991397139809508325449660980\", ldavis_el991397139809508325449660980_data);\n",
              "   }(LDAvis);\n",
              "}else if(typeof define === \"function\" && define.amd){\n",
              "   // require.js is available: use it to load d3/LDAvis\n",
              "   require.config({paths: {d3: \"https://cdnjs.cloudflare.com/ajax/libs/d3/3.5.5/d3.min\"}});\n",
              "   require([\"d3\"], function(d3){\n",
              "      window.d3 = d3;\n",
              "      LDAvis_load_lib(\"https://cdn.rawgit.com/bmabey/pyLDAvis/files/ldavis.v1.0.0.js\", function(){\n",
              "        new LDAvis(\"#\" + \"ldavis_el991397139809508325449660980\", ldavis_el991397139809508325449660980_data);\n",
              "      });\n",
              "    });\n",
              "}else{\n",
              "    // require.js not available: dynamically load d3 & LDAvis\n",
              "    LDAvis_load_lib(\"https://cdnjs.cloudflare.com/ajax/libs/d3/3.5.5/d3.min.js\", function(){\n",
              "         LDAvis_load_lib(\"https://cdn.rawgit.com/bmabey/pyLDAvis/files/ldavis.v1.0.0.js\", function(){\n",
              "                 new LDAvis(\"#\" + \"ldavis_el991397139809508325449660980\", ldavis_el991397139809508325449660980_data);\n",
              "            })\n",
              "         });\n",
              "}\n",
              "</script>"
            ],
            "text/plain": [
              "PreparedData(topic_coordinates=              x         y  topics  cluster       Freq\n",
              "topic                                                \n",
              "3     -0.017142 -0.001313       1        1  26.071933\n",
              "2      0.008424 -0.009738       2        1  23.651851\n",
              "0      0.005010  0.013378       3        1  22.535740\n",
              "1      0.003624 -0.002061       4        1  18.300439\n",
              "4      0.000085 -0.000266       5        1   9.440037, topic_info=                           Term      Freq     Total Category  logprob  loglift\n",
              "723            financial result  0.000000  0.000000  Default  30.0000  30.0000\n",
              "1588                     result  0.000000  0.000000  Default  29.0000  29.0000\n",
              "471                    december  0.000000  0.000000  Default  28.0000  28.0000\n",
              "1348                    prepare  0.000000  0.000000  Default  27.0000  27.0000\n",
              "23                   accordance  0.000000  0.000000  Default  26.0000  26.0000\n",
              "...                         ...       ...       ...      ...      ...      ...\n",
              "1886                      value  0.030790  0.268973   Topic5  -6.9456   0.1928\n",
              "561                      energy  0.032205  0.386430   Topic5  -6.9007  -0.1246\n",
              "175                        base  0.028969  0.245127   Topic5  -7.0065   0.2247\n",
              "43             acquire canadian  0.027926  0.159611   Topic5  -7.0432   0.6170\n",
              "44    acquire canadian hydrovac  0.027926  0.159611   Topic5  -7.0432   0.6170\n",
              "\n",
              "[268 rows x 6 columns], token_table=Empty DataFrame\n",
              "Columns: [Topic, Freq, Term]\n",
              "Index: [], R=30, lambda_step=0.01, plot_opts={'xlab': 'PC1', 'ylab': 'PC2'}, topic_order=[4, 3, 1, 2, 5])"
            ]
          },
          "metadata": {
            "tags": []
          },
          "execution_count": 46
        }
      ]
    },
    {
      "cell_type": "code",
      "metadata": {
        "id": "_RCxpcIZ8XkL",
        "outputId": "f1aaba3a-eec9-46f0-d607-b1d66314e333",
        "colab": {
          "base_uri": "https://localhost:8080/"
        }
      },
      "source": [
        "# Showing the words for each topic\n",
        "n_words_to_show = 8\n",
        "year2018 = display_topics(lda, tfidf_vectorizer.get_feature_names(), n_words_to_show)"
      ],
      "execution_count": 47,
      "outputs": [
        {
          "output_type": "stream",
          "text": [
            "Topic 0:\n",
            "provision, environmental, nature, time initial recognition, time initial, initial, initial recognition, recognition\n",
            "\n",
            "Topic 1:\n",
            "claim, environmental, corporation, prior, property, legal, unregistered, company\n",
            "\n",
            "Topic 2:\n",
            "energy, fund, nature, segment, ome, spark, novaalgoma, benefit\n",
            "\n",
            "Topic 3:\n",
            "december, financial, nature, cost, end, fair, fair value, value\n",
            "\n",
            "Topic 4:\n",
            "financial result, result, financial, base total, prepare, accordance, prepare accordance, prepare accordance ifrs\n",
            "\n"
          ],
          "name": "stdout"
        }
      ]
    },
    {
      "cell_type": "markdown",
      "metadata": {
        "id": "p3x0OWIhB-Il"
      },
      "source": [
        "**Comparison Summary**"
      ]
    },
    {
      "cell_type": "code",
      "metadata": {
        "id": "oye8wLhhCAR8",
        "outputId": "bee20d32-e22c-4777-fcdb-6821a82a3848",
        "colab": {
          "base_uri": "https://localhost:8080/"
        }
      },
      "source": [
        "summary_layout(year2015,\n",
        "               year2016,\n",
        "               year2017,\n",
        "               year2018)"
      ],
      "execution_count": 48,
      "outputs": [
        {
          "output_type": "stream",
          "text": [
            "topic 0\n",
            "december, end, corporation, nature, financial, month, month end, business\n",
            "nature, company, business, requirement, trevali, mining, customer, licence\n",
            "year, environmental, operation, nature, ore, corporation, iron, iron ore\n",
            "provision, environmental, nature, time initial recognition, time initial, initial, initial recognition, recognition\n",
            "\n",
            "\n",
            "topic 1\n",
            "energy, financial, company, service, nature, oil, contract, year\n",
            "energy, lude, december, financial, month, end, expect, energy services\n",
            "etf, energy, equity, index etf, robo, robotic, robotic automation, robotic automation index\n",
            "claim, environmental, corporation, prior, property, legal, unregistered, company\n",
            "\n",
            "\n",
            "topic 2\n",
            "risk uncertainty, uncertainty, look, forward, forward look, risk, subject inherent risk, look require assumption\n",
            "nature, assumption, subject, require assumption subject, require assumption, subject inherent risk, subject inherent, forward look require\n",
            "nature, company, financial, future, sale, financial liability, coffee, decaffeinate\n",
            "energy, fund, nature, segment, ome, spark, novaalgoma, benefit\n",
            "\n",
            "\n",
            "topic 3\n",
            "nexgen, nature, company, value, go, concern, go concern, infrastructure\n",
            "reclamation, expenditure, reclamation expenditure charge, reclamation expenditure, charge provision, charge provision environmental, expenditure charge, expenditure charge provision\n",
            "end, liability, december, month, month end, financial, short, corporation\n",
            "december, financial, nature, cost, end, fair, fair value, value\n",
            "\n",
            "\n",
            "topic 4\n",
            "financial, note, lude, contingency, sustain, rease, production, law\n",
            "environmental, rehabilitation, rimbey, legal, rehabilitation finance, rehabilitation finance liability, provision environmental rehabilitation, finance\n",
            "production, lude, audit, financial, environmental, environmental rehabilitation, environmental rehabilitation provision, rehabilitation provision\n",
            "financial result, result, financial, base total, prepare, accordance, prepare accordance, prepare accordance ifrs\n",
            "\n",
            "\n"
          ],
          "name": "stdout"
        }
      ]
    },
    {
      "cell_type": "markdown",
      "metadata": {
        "id": "UCFkKrcpKBtB"
      },
      "source": [
        "### Trying on the rating and the years"
      ]
    },
    {
      "cell_type": "code",
      "metadata": {
        "id": "S6Ao4ZsZKSFA",
        "outputId": "1f265f42-6fae-4039-9fed-8ab53f31096b",
        "colab": {
          "base_uri": "https://localhost:8080/",
          "height": 861
        }
      },
      "source": [
        "# Creating the rating's dataset\n",
        "scoped_data = filtered_data.loc[filtered_data.fileyear == 2015, :]\n",
        "scoped_data = scoped_data.loc[scoped_data.rating_quarters == 4, :]\n",
        "\n",
        "# Training the LDA model\n",
        "tfidf_vectorizer = TfidfVectorizer(ngram_range = (1, 3),\n",
        "                                   max_df = maxdf,\n",
        "                                   min_df = mindf,\n",
        "                                   max_features = None)\n",
        "tfidf_fit = tfidf_vectorizer.fit_transform(scoped_data.text)\n",
        "lda = LatentDirichletAllocation(n_components = 5, \n",
        "                                random_state = 69)\n",
        "lda.fit(tfidf_fit)\n",
        "\n",
        "# LDA visualisation\n",
        "pyLDAvis.sklearn.prepare(lda, tfidf_fit, tfidf_vectorizer)"
      ],
      "execution_count": 49,
      "outputs": [
        {
          "output_type": "execute_result",
          "data": {
            "text/html": [
              "\n",
              "<link rel=\"stylesheet\" type=\"text/css\" href=\"https://cdn.rawgit.com/bmabey/pyLDAvis/files/ldavis.v1.0.0.css\">\n",
              "\n",
              "\n",
              "<div id=\"ldavis_el991397139809493923041670111\"></div>\n",
              "<script type=\"text/javascript\">\n",
              "\n",
              "var ldavis_el991397139809493923041670111_data = {\"mdsDat\": {\"x\": [0.012315563324636361, -0.013549233016962653, 0.0014432896239570687, -0.00016984517536580061, -3.977475626496402e-05], \"y\": [-0.004415997563029534, -0.004449656957592509, -0.0025680536268591738, 0.013398305617106157, -0.001964597469624944], \"topics\": [1, 2, 3, 4, 5], \"cluster\": [1, 1, 1, 1, 1], \"Freq\": [31.849543960649612, 22.398359056845887, 22.16034966520407, 15.740607259468536, 7.851140057831888]}, \"tinfo\": {\"Term\": [\"assumption subject inherent\", \"look require assumption\", \"require\", \"require assumption\", \"require assumption subject\", \"subject\", \"subject inherent\", \"subject inherent risk\", \"forward look require\", \"look require\", \"inherent\", \"assumption subject\", \"inherent risk uncertainty\", \"inherent risk\", \"risk\", \"nature forward look\", \"nature forward\", \"risk uncertainty\", \"uncertainty\", \"forward\", \"forward look\", \"look\", \"assumption\", \"note\", \"go concern note\", \"go\", \"concern\", \"go concern\", \"nature operation go\", \"concern note\", \"total energy\", \"property\", \"rease\", \"time initial\", \"financial determine time\", \"financial determine\", \"time\", \"determine time\", \"classification depend nature\", \"time initial recognition\", \"determine time initial\", \"purpose financial determine\", \"classification depend\", \"look information\", \"result performance achievement\", \"forward look information\", \"information\", \"result performance\", \"achievement\", \"performance achievement\", \"performance\", \"monitor\", \"nature leach\", \"process inherently limit\", \"process inherently\", \"process\", \"precisely monitor inventory\", \"precisely monitor\", \"precisely\", \"nature leach process\", \"limit ability precisely\", \"leach process inherently\", \"monitor inventory level\", \"limit ability\", \"level\", \"monitor inventory\", \"leach process\", \"limit\", \"ability\", \"total\", \"energy\", \"financial\", \"company\", \"end\", \"inherently limit\", \"inherently limit ability\", \"inherently\", \"leach\", \"value\", \"nature\", \"account\", \"base\", \"application\", \"fund\", \"settlement\", \"fair value subjective\", \"value subjective\", \"precise determination\", \"result precise determination\", \"determination\", \"necessarily\", \"estimate fair value\", \"nature estimate fair\", \"estimate\", \"precise\", \"nature estimate\", \"subjective\", \"subjective necessarily\", \"subjective necessarily result\", \"necessarily result\", \"value subjective necessarily\", \"estimate fair\", \"necessarily result precise\", \"accordingly nature estimate\", \"result precise\", \"accordingly nature\", \"accordingly\", \"dismantle\", \"structure\", \"structure rehabilitate\", \"nature restoration\", \"remove\", \"lude dismantle\", \"activity lude dismantle\", \"activity lude\", \"lude dismantle remove\", \"rehabilitate mine tailing\", \"nature restoration activity\", \"rehabilitate mine\", \"dismantle remove\", \"tailing\", \"restoration activity\", \"restoration activity lude\", \"structure rehabilitate mine\", \"remove structure\", \"remove structure rehabilitate\", \"ifrs\", \"mine\", \"capital\", \"rehabilitate\", \"nature\", \"company\", \"equity\", \"lude\", \"change\", \"nexgen\", \"ome tax\", \"defer ome tax\", \"tax\", \"tax liability\", \"defer\", \"provision environmental\", \"provision environmental rehabilitation\", \"defer ome\", \"ome tax liability\", \"rehabilitation\", \"rehabilitation defer\", \"rehabilitation defer ome\", \"environmental rehabilitation\", \"environmental rehabilitation defer\", \"nexgen energy nexgen\", \"energy nexgen\", \"nexgen energy\", \"interest nexgen\", \"interest nexgen energy\", \"term investment\", \"investment equity\", \"investment equity interest\", \"equity interest nexgen\", \"term investment equity\", \"mega hold significant\", \"mega hold\", \"mega\", \"long term investment\", \"equity interest\", \"significant\", \"environmental\", \"provision\", \"long term\", \"hold significant\", \"hold significant long\", \"significant long term\", \"significant long\", \"company\", \"ome\", \"term\", \"liability\", \"financial\", \"go\", \"operation go concern\", \"operation go\", \"go concern note\", \"go concern\", \"nature operation go\", \"concern\", \"concern note\", \"note\", \"rimbey\", \"deficit nature\", \"deficit\", \"deficit nature operation\", \"production\", \"classification determine\", \"classification determine initial\", \"recognition depend\", \"recognition depend nature\", \"determine initial\", \"determine initial recognition\", \"initial recognition depend\", \"operation\", \"nature operation\", \"commitment\", \"total equity\", \"total equity nature\", \"note commitment\", \"equity nature operation\", \"equity nature\", \"commitment contingency\", \"contingency\", \"note commitment contingency\", \"contingency note\", \"energy\", \"commitment contingency note\", \"nature\", \"depend nature purpose\", \"classification\", \"depend nature\", \"nature purpose\", \"determine\", \"initial recognition\", \"purpose financial\", \"purpose\", \"look require assumption\", \"assumption subject inherent\", \"require assumption\", \"require assumption subject\", \"inherent\", \"look require\", \"subject inherent risk\", \"subject inherent\", \"subject\", \"require\", \"inherent risk\", \"assumption subject\", \"forward look require\", \"inherent risk uncertainty\", \"risk uncertainty\", \"risk\", \"nature forward\", \"nature forward look\", \"uncertainty\", \"look\", \"forward look\", \"forward\", \"assumption\", \"condition product safety\", \"condition product\", \"rural\", \"greenhouse\", \"rural economy\", \"rural economy work\", \"ride academy greenhouse\", \"greenhouse gas\", \"nature\", \"financial\", \"lude\", \"initial\", \"nature operation\", \"operation\", \"equity\"], \"Freq\": [0.0, 0.0, 0.0, 0.0, 0.0, 0.0, 0.0, 0.0, 0.0, 0.0, 0.0, 0.0, 0.0, 0.0, 0.0, 0.0, 0.0, 0.0, 0.0, 0.0, 0.0, 0.0, 0.0, 0.0, 0.0, 0.0, 0.0, 0.0, 0.0, 0.0, 0.1101097290321335, 0.09604180256232606, 0.11337196085399211, 0.09306370549553185, 0.09306370549553185, 0.09306370549553185, 0.09306370549553185, 0.09306370549553185, 0.09306370549553185, 0.09306370549553185, 0.09306370549553185, 0.09306370549553185, 0.09306370549553185, 0.08843402056760295, 0.08843402056760295, 0.08843402056760295, 0.08843402056760295, 0.08843402056760295, 0.08843402056760295, 0.08843402056760295, 0.10190573096468089, 0.08702119056945411, 0.08702119056945411, 0.08702119056945411, 0.08702119056945411, 0.08702119056945411, 0.08702119056945411, 0.08702119056945411, 0.08702119056945411, 0.08702119056945411, 0.08702119056945411, 0.08702119056945411, 0.08702119056945411, 0.08702119056945411, 0.08702119056945411, 0.08702119056945411, 0.08702119056945411, 0.08702119056945411, 0.08702119056945411, 0.10269076343539878, 0.12422538414294487, 0.135160414906, 0.14505397667070943, 0.09582301503742104, 0.08702119056945411, 0.08702119056945411, 0.08702119056945411, 0.08702119056945411, 0.09817443952263107, 0.1139990172778812, 0.09060539323883196, 0.08864284564986699, 0.08891696629140829, 0.08076993753535477, 0.07360081164207213, 0.06642014122635219, 0.06642014122635219, 0.06642014122635219, 0.06642014122635219, 0.06642014122635219, 0.06642014122635219, 0.06642014122635219, 0.06642014122635219, 0.06642014122635219, 0.06642014122635219, 0.06642014122635219, 0.06642014122635219, 0.06642014122635219, 0.06642014122635219, 0.06642014122635219, 0.06642014122635219, 0.06642014122635219, 0.06642014122635219, 0.06642014122635219, 0.06642014122635219, 0.06642014122635219, 0.06642014122635219, 0.06620461469550157, 0.06620461469550157, 0.06620461469550157, 0.06620461469550157, 0.06620461469550157, 0.06620461469550157, 0.06620461469550157, 0.06620461469550157, 0.06620461469550157, 0.06620461469550157, 0.06620461469550157, 0.06620461469550157, 0.06620461469550157, 0.06620461469550157, 0.06620461469550157, 0.06620461469550157, 0.06620461469550157, 0.06620461469550157, 0.06620461469550157, 0.07828710473333612, 0.06620461469550157, 0.07384368439154514, 0.06620461469550157, 0.08388005579538449, 0.08264140422861262, 0.07169819199936661, 0.07025680684570441, 0.06911113233865881, 0.09391167451714083, 0.07316389168950815, 0.07316389168950815, 0.07316389168950815, 0.07316389168950815, 0.07316389168950815, 0.07316389168950815, 0.07316389168950815, 0.07316389168950815, 0.07316389168950815, 0.07316389168950815, 0.07316389168950815, 0.07316389168950815, 0.07316389168950815, 0.07316389168950815, 0.06352486029338104, 0.06352486029338104, 0.06352486029338104, 0.06352486029338104, 0.06352486029338104, 0.06352486029338104, 0.06352486029338104, 0.06352486029338104, 0.06352486029338104, 0.06352486029338104, 0.06352486029338104, 0.06352486029338104, 0.06352486029338104, 0.06352486029338104, 0.06352486029338104, 0.07468212571682009, 0.06867455136638653, 0.06867455136638653, 0.06352486029338104, 0.06352486029338104, 0.06352486029338104, 0.06352486029338104, 0.06352486029338104, 0.09275417421834876, 0.06868061867591967, 0.06898205677822644, 0.06867824841373847, 0.0770231320830467, 0.08045528707138701, 0.08045528707138701, 0.08045528707138701, 0.08045528707138701, 0.08045528707138701, 0.08045528707138701, 0.08045528707138701, 0.08045528707138701, 0.09087861571851588, 0.07024402619623991, 0.06184315934881115, 0.06184315934881115, 0.06184315934881115, 0.06157629230598106, 0.05480047306441945, 0.05480047306441945, 0.05480047306441945, 0.05480047306441945, 0.05480047306441945, 0.05480047306441945, 0.05480047306441945, 0.0716883259838664, 0.0716883259838664, 0.05042321394808981, 0.05042321394808981, 0.05042321394808981, 0.05042321394808981, 0.05042321394808981, 0.05042321394808981, 0.05042321394808981, 0.05042321394808981, 0.05042321394808981, 0.05042321394808981, 0.061522750094171116, 0.05042321394808981, 0.06248630570390115, 0.0514313590092193, 0.0514313590092193, 0.0514313590092193, 0.0514313590092193, 0.0514313590092193, 0.0514313590092193, 0.0514313590092193, 0.0514313590092193, 0.04207489344327452, 0.04207489344327452, 0.04207489344327452, 0.04207489344327452, 0.04207489344327452, 0.04207489344327452, 0.04207489344327452, 0.04207489344327452, 0.04207489344327452, 0.04207489344327452, 0.04207489344327452, 0.04207489344327452, 0.04207489344327452, 0.04207489344327452, 0.039532484498130765, 0.039532484498130765, 0.039532484498130765, 0.039532484498130765, 0.039532484498130765, 0.039520447803269985, 0.039520447803269985, 0.039520447803269985, 0.037551246926144886, 0.013338844371510953, 0.013338844371510953, 0.013338844371510953, 0.013338844371510953, 0.013338844371510953, 0.013338844371510953, 0.013338844371510953, 0.013338844371510953, 0.026457806656964584, 0.013341790637955283, 0.013341767720625794, 0.013341756184950017, 0.01334137994437331, 0.01334137994437331, 0.013341238077868882], \"Total\": [0.0, 0.0, 0.0, 0.0, 0.0, 0.0, 0.0, 0.0, 0.0, 0.0, 0.0, 0.0, 0.0, 0.0, 0.0, 0.0, 0.0, 0.0, 0.0, 0.0, 0.0, 0.0, 0.0, 0.0, 0.0, 0.0, 0.0, 0.0, 0.0, 0.0, 0.2146783589221318, 0.20060926494662173, 0.23894486917452007, 0.1976345764196796, 0.1976345764196796, 0.1976345764196796, 0.1976345764196796, 0.1976345764196796, 0.1976345764196796, 0.1976345764196796, 0.1976345764196796, 0.1976345764196796, 0.1976345764196796, 0.1930017280243733, 0.1930017280243733, 0.1930017280243733, 0.1930017280243733, 0.1930017280243733, 0.1930017280243733, 0.1930017280243733, 0.2233999583043703, 0.1915918159731949, 0.1915918159731949, 0.1915918159731949, 0.1915918159731949, 0.1915918159731949, 0.1915918159731949, 0.1915918159731949, 0.1915918159731949, 0.1915918159731949, 0.1915918159731949, 0.1915918159731949, 0.1915918159731949, 0.1915918159731949, 0.1915918159731949, 0.1915918159731949, 0.1915918159731949, 0.1915918159731949, 0.1915918159731949, 0.23002731976305033, 0.2899703867489983, 0.3235401520048878, 0.35854832846551876, 0.21732663358334733, 0.1915918159731949, 0.1915918159731949, 0.1915918159731949, 0.1915918159731949, 0.2320956814828914, 0.3405768633135969, 0.21211321984807574, 0.20946075325381233, 0.2040906477952567, 0.195943055470926, 0.1887733156428486, 0.1815960882952286, 0.1815960882952286, 0.1815960882952286, 0.1815960882952286, 0.1815960882952286, 0.1815960882952286, 0.1815960882952286, 0.1815960882952286, 0.1815960882952286, 0.1815960882952286, 0.1815960882952286, 0.1815960882952286, 0.1815960882952286, 0.1815960882952286, 0.1815960882952286, 0.1815960882952286, 0.1815960882952286, 0.1815960882952286, 0.1815960882952286, 0.1815960882952286, 0.1815960882952286, 0.1815960882952286, 0.18138055127627237, 0.18138055127627237, 0.18138055127627237, 0.18138055127627237, 0.18138055127627237, 0.18138055127627237, 0.18138055127627237, 0.18138055127627237, 0.18138055127627237, 0.18138055127627237, 0.18138055127627237, 0.18138055127627237, 0.18138055127627237, 0.18138055127627237, 0.18138055127627237, 0.18138055127627237, 0.18138055127627237, 0.18138055127627237, 0.18138055127627237, 0.23232872026087378, 0.18138055127627237, 0.22210259779810693, 0.18138055127627237, 0.3405768633135969, 0.35854832846551876, 0.2320899780953872, 0.23166558335416285, 0.2201898096298612, 0.20925401443817945, 0.18850926470180931, 0.18850926470180931, 0.18850926470180931, 0.18850926470180931, 0.18850926470180931, 0.18850926470180931, 0.18850926470180931, 0.18850926470180931, 0.18850926470180931, 0.18850926470180931, 0.18850926470180931, 0.18850926470180931, 0.18850926470180931, 0.18850926470180931, 0.17886946085238523, 0.17886946085238523, 0.17886946085238523, 0.17886946085238523, 0.17886946085238523, 0.17886946085238523, 0.17886946085238523, 0.17886946085238523, 0.17886946085238523, 0.17886946085238523, 0.17886946085238523, 0.17886946085238523, 0.17886946085238523, 0.17886946085238523, 0.17886946085238523, 0.21196161689504653, 0.20187999600339, 0.20187999600339, 0.17886946085238523, 0.17886946085238523, 0.17886946085238523, 0.17886946085238523, 0.17886946085238523, 0.35854832846551876, 0.20712317453887896, 0.20895439732838111, 0.2111048453501384, 0.3235401520048878, 0.20419363931249884, 0.20419363931249884, 0.20419363931249884, 0.20419363931249884, 0.20419363931249884, 0.20419363931249884, 0.20419363931249884, 0.20419363931249884, 0.250298807737374, 0.19398198017605392, 0.18558382121572464, 0.18558382121572464, 0.18558382121572464, 0.18531310623008132, 0.1785407244111478, 0.1785407244111478, 0.1785407244111478, 0.1785407244111478, 0.1785407244111478, 0.1785407244111478, 0.1785407244111478, 0.24050210318623638, 0.24050210318623638, 0.1741629327518101, 0.1741629327518101, 0.1741629327518101, 0.1741629327518101, 0.1741629327518101, 0.1741629327518101, 0.1741629327518101, 0.1741629327518101, 0.1741629327518101, 0.1741629327518101, 0.2899703867489983, 0.1741629327518101, 0.3405768633135969, 0.21876530413406248, 0.21876530413406248, 0.21876530413406248, 0.21876530413406248, 0.21876530413406248, 0.21876530413406248, 0.21876530413406248, 0.21876530413406248, 0.17722938107051417, 0.17722938107051417, 0.17722938107051417, 0.17722938107051417, 0.17722938107051417, 0.17722938107051417, 0.17722938107051417, 0.17722938107051417, 0.17722938107051417, 0.17722938107051417, 0.17722938107051417, 0.17722938107051417, 0.17722938107051417, 0.17722938107051417, 0.19251782364802644, 0.19251782364802644, 0.19251782364802644, 0.19251782364802644, 0.19251782364802644, 0.21052263219139583, 0.21052263219139583, 0.21052263219139583, 0.20411960414556246, 0.16244400312710136, 0.16244400312710136, 0.16244400312710136, 0.16244400312710136, 0.16244400312710136, 0.16244400312710136, 0.16244400312710136, 0.16244400312710136, 0.3405768633135969, 0.3235401520048878, 0.23166558335416285, 0.23489084670279417, 0.24050210318623638, 0.24050210318623638, 0.2320899780953872], \"Category\": [\"Default\", \"Default\", \"Default\", \"Default\", \"Default\", \"Default\", \"Default\", \"Default\", \"Default\", \"Default\", \"Default\", \"Default\", \"Default\", \"Default\", \"Default\", \"Default\", \"Default\", \"Default\", \"Default\", \"Default\", \"Default\", \"Default\", \"Default\", \"Default\", \"Default\", \"Default\", \"Default\", \"Default\", \"Default\", \"Default\", \"Topic1\", \"Topic1\", \"Topic1\", \"Topic1\", \"Topic1\", \"Topic1\", \"Topic1\", \"Topic1\", \"Topic1\", \"Topic1\", \"Topic1\", \"Topic1\", \"Topic1\", \"Topic1\", \"Topic1\", \"Topic1\", \"Topic1\", \"Topic1\", \"Topic1\", \"Topic1\", \"Topic1\", \"Topic1\", \"Topic1\", \"Topic1\", \"Topic1\", \"Topic1\", \"Topic1\", \"Topic1\", \"Topic1\", \"Topic1\", \"Topic1\", \"Topic1\", \"Topic1\", \"Topic1\", \"Topic1\", \"Topic1\", \"Topic1\", \"Topic1\", \"Topic1\", \"Topic1\", \"Topic1\", \"Topic1\", \"Topic1\", \"Topic1\", \"Topic1\", \"Topic1\", \"Topic1\", \"Topic1\", \"Topic1\", \"Topic1\", \"Topic1\", \"Topic1\", \"Topic2\", \"Topic2\", \"Topic2\", \"Topic2\", \"Topic2\", \"Topic2\", \"Topic2\", \"Topic2\", \"Topic2\", \"Topic2\", \"Topic2\", \"Topic2\", \"Topic2\", \"Topic2\", \"Topic2\", \"Topic2\", \"Topic2\", \"Topic2\", \"Topic2\", \"Topic2\", \"Topic2\", \"Topic2\", \"Topic2\", \"Topic2\", \"Topic2\", \"Topic2\", \"Topic2\", \"Topic2\", \"Topic2\", \"Topic2\", \"Topic2\", \"Topic2\", \"Topic2\", \"Topic2\", \"Topic2\", \"Topic2\", \"Topic2\", \"Topic2\", \"Topic2\", \"Topic2\", \"Topic2\", \"Topic2\", \"Topic2\", \"Topic2\", \"Topic2\", \"Topic2\", \"Topic2\", \"Topic2\", \"Topic2\", \"Topic2\", \"Topic2\", \"Topic2\", \"Topic2\", \"Topic3\", \"Topic3\", \"Topic3\", \"Topic3\", \"Topic3\", \"Topic3\", \"Topic3\", \"Topic3\", \"Topic3\", \"Topic3\", \"Topic3\", \"Topic3\", \"Topic3\", \"Topic3\", \"Topic3\", \"Topic3\", \"Topic3\", \"Topic3\", \"Topic3\", \"Topic3\", \"Topic3\", \"Topic3\", \"Topic3\", \"Topic3\", \"Topic3\", \"Topic3\", \"Topic3\", \"Topic3\", \"Topic3\", \"Topic3\", \"Topic3\", \"Topic3\", \"Topic3\", \"Topic3\", \"Topic3\", \"Topic3\", \"Topic3\", \"Topic3\", \"Topic3\", \"Topic3\", \"Topic3\", \"Topic3\", \"Topic3\", \"Topic4\", \"Topic4\", \"Topic4\", \"Topic4\", \"Topic4\", \"Topic4\", \"Topic4\", \"Topic4\", \"Topic4\", \"Topic4\", \"Topic4\", \"Topic4\", \"Topic4\", \"Topic4\", \"Topic4\", \"Topic4\", \"Topic4\", \"Topic4\", \"Topic4\", \"Topic4\", \"Topic4\", \"Topic4\", \"Topic4\", \"Topic4\", \"Topic4\", \"Topic4\", \"Topic4\", \"Topic4\", \"Topic4\", \"Topic4\", \"Topic4\", \"Topic4\", \"Topic4\", \"Topic4\", \"Topic4\", \"Topic4\", \"Topic4\", \"Topic4\", \"Topic4\", \"Topic4\", \"Topic4\", \"Topic4\", \"Topic4\", \"Topic4\", \"Topic5\", \"Topic5\", \"Topic5\", \"Topic5\", \"Topic5\", \"Topic5\", \"Topic5\", \"Topic5\", \"Topic5\", \"Topic5\", \"Topic5\", \"Topic5\", \"Topic5\", \"Topic5\", \"Topic5\", \"Topic5\", \"Topic5\", \"Topic5\", \"Topic5\", \"Topic5\", \"Topic5\", \"Topic5\", \"Topic5\", \"Topic5\", \"Topic5\", \"Topic5\", \"Topic5\", \"Topic5\", \"Topic5\", \"Topic5\", \"Topic5\", \"Topic5\", \"Topic5\", \"Topic5\", \"Topic5\", \"Topic5\", \"Topic5\", \"Topic5\"], \"logprob\": [30.0, 29.0, 28.0, 27.0, 26.0, 25.0, 24.0, 23.0, 22.0, 21.0, 20.0, 19.0, 18.0, 17.0, 16.0, 15.0, 14.0, 13.0, 12.0, 11.0, 10.0, 9.0, 8.0, 7.0, 6.0, 5.0, 4.0, 3.0, 2.0, 1.0, -6.1341, -6.2708, -6.1049, -6.3023, -6.3023, -6.3023, -6.3023, -6.3023, -6.3023, -6.3023, -6.3023, -6.3023, -6.3023, -6.3533, -6.3533, -6.3533, -6.3533, -6.3533, -6.3533, -6.3533, -6.2115, -6.3694, -6.3694, -6.3694, -6.3694, -6.3694, -6.3694, -6.3694, -6.3694, -6.3694, -6.3694, -6.3694, -6.3694, -6.3694, -6.3694, -6.3694, -6.3694, -6.3694, -6.3694, -6.2038, -6.0134, -5.9291, -5.8584, -6.273, -6.3694, -6.3694, -6.3694, -6.3694, -6.2488, -6.0993, -6.329, -6.3509, -5.9958, -6.0919, -6.1848, -6.2875, -6.2875, -6.2875, -6.2875, -6.2875, -6.2875, -6.2875, -6.2875, -6.2875, -6.2875, -6.2875, -6.2875, -6.2875, -6.2875, -6.2875, -6.2875, -6.2875, -6.2875, -6.2875, -6.2875, -6.2875, -6.2875, -6.2907, -6.2907, -6.2907, -6.2907, -6.2907, -6.2907, -6.2907, -6.2907, -6.2907, -6.2907, -6.2907, -6.2907, -6.2907, -6.2907, -6.2907, -6.2907, -6.2907, -6.2907, -6.2907, -6.1231, -6.2907, -6.1815, -6.2907, -6.0541, -6.069, -6.211, -6.2313, -6.2478, -5.9305, -6.1801, -6.1801, -6.1801, -6.1801, -6.1801, -6.1801, -6.1801, -6.1801, -6.1801, -6.1801, -6.1801, -6.1801, -6.1801, -6.1801, -6.3214, -6.3214, -6.3214, -6.3214, -6.3214, -6.3214, -6.3214, -6.3214, -6.3214, -6.3214, -6.3214, -6.3214, -6.3214, -6.3214, -6.3214, -6.1596, -6.2434, -6.2434, -6.3214, -6.3214, -6.3214, -6.3214, -6.3214, -5.9429, -6.2433, -6.239, -6.2434, -6.1287, -5.7431, -5.7431, -5.7431, -5.7431, -5.7431, -5.7431, -5.7431, -5.7431, -5.6212, -5.8788, -6.0062, -6.0062, -6.0062, -6.0105, -6.1271, -6.1271, -6.1271, -6.1271, -6.1271, -6.1271, -6.1271, -5.8584, -5.8584, -6.2103, -6.2103, -6.2103, -6.2103, -6.2103, -6.2103, -6.2103, -6.2103, -6.2103, -6.2103, -6.0113, -6.2103, -5.9958, -6.1905, -6.1905, -6.1905, -6.1905, -6.1905, -6.1905, -6.1905, -6.1905, -5.6957, -5.6957, -5.6957, -5.6957, -5.6957, -5.6957, -5.6957, -5.6957, -5.6957, -5.6957, -5.6957, -5.6957, -5.6957, -5.6957, -5.758, -5.758, -5.758, -5.758, -5.758, -5.7584, -5.7584, -5.7584, -5.8095, -6.8445, -6.8445, -6.8445, -6.8445, -6.8445, -6.8445, -6.8445, -6.8445, -6.1596, -6.8443, -6.8443, -6.8443, -6.8443, -6.8443, -6.8443], \"loglift\": [30.0, 29.0, 28.0, 27.0, 26.0, 25.0, 24.0, 23.0, 22.0, 21.0, 20.0, 19.0, 18.0, 17.0, 16.0, 15.0, 14.0, 13.0, 12.0, 11.0, 10.0, 9.0, 8.0, 7.0, 6.0, 5.0, 4.0, 3.0, 2.0, 1.0, 0.4765, 0.4076, 0.3986, 0.391, 0.391, 0.391, 0.391, 0.391, 0.391, 0.391, 0.391, 0.391, 0.391, 0.3637, 0.3637, 0.3637, 0.3637, 0.3637, 0.3637, 0.3637, 0.3592, 0.3549, 0.3549, 0.3549, 0.3549, 0.3549, 0.3549, 0.3549, 0.3549, 0.3549, 0.3549, 0.3549, 0.3549, 0.3549, 0.3549, 0.3549, 0.3549, 0.3549, 0.3549, 0.3377, 0.2965, 0.2713, 0.2392, 0.3252, 0.3549, 0.3549, 0.3549, 0.3549, 0.2837, 0.0497, 0.2935, 0.2842, 0.6653, 0.61, 0.5543, 0.4904, 0.4904, 0.4904, 0.4904, 0.4904, 0.4904, 0.4904, 0.4904, 0.4904, 0.4904, 0.4904, 0.4904, 0.4904, 0.4904, 0.4904, 0.4904, 0.4904, 0.4904, 0.4904, 0.4904, 0.4904, 0.4904, 0.4883, 0.4883, 0.4883, 0.4883, 0.4883, 0.4883, 0.4883, 0.4883, 0.4883, 0.4883, 0.4883, 0.4883, 0.4883, 0.4883, 0.4883, 0.4883, 0.4883, 0.4883, 0.4883, 0.4084, 0.4883, 0.395, 0.4883, 0.0949, 0.0286, 0.3215, 0.303, 0.3374, 0.7057, 0.5604, 0.5604, 0.5604, 0.5604, 0.5604, 0.5604, 0.5604, 0.5604, 0.5604, 0.5604, 0.5604, 0.5604, 0.5604, 0.5604, 0.4716, 0.4716, 0.4716, 0.4716, 0.4716, 0.4716, 0.4716, 0.4716, 0.4716, 0.4716, 0.4716, 0.4716, 0.4716, 0.4716, 0.4716, 0.4637, 0.4286, 0.4286, 0.4716, 0.4716, 0.4716, 0.4716, 0.4716, 0.1548, 0.403, 0.3986, 0.3839, 0.0716, 0.9176, 0.9176, 0.9176, 0.9176, 0.9176, 0.9176, 0.9176, 0.9176, 0.8358, 0.8331, 0.75, 0.75, 0.75, 0.7472, 0.6678, 0.6678, 0.6678, 0.6678, 0.6678, 0.6678, 0.6678, 0.6385, 0.6385, 0.6094, 0.6094, 0.6094, 0.6094, 0.6094, 0.6094, 0.6094, 0.6094, 0.6094, 0.6094, 0.2986, 0.6094, 0.1532, 0.4012, 0.4012, 0.4012, 0.4012, 0.4012, 0.4012, 0.4012, 0.4012, 1.1065, 1.1065, 1.1065, 1.1065, 1.1065, 1.1065, 1.1065, 1.1065, 1.1065, 1.1065, 1.1065, 1.1065, 1.1065, 1.1065, 0.9614, 0.9614, 0.9614, 0.9614, 0.9614, 0.8717, 0.8717, 0.8717, 0.8515, 0.0449, 0.0449, 0.0449, 0.0449, 0.0449, 0.0449, 0.0449, 0.0449, -0.0106, -0.6439, -0.3099, -0.3237, -0.3473, -0.3473, -0.3118]}, \"token.table\": {\"Topic\": [], \"Freq\": [], \"Term\": []}, \"R\": 30, \"lambda.step\": 0.01, \"plot.opts\": {\"xlab\": \"PC1\", \"ylab\": \"PC2\"}, \"topic.order\": [1, 3, 4, 2, 5]};\n",
              "\n",
              "function LDAvis_load_lib(url, callback){\n",
              "  var s = document.createElement('script');\n",
              "  s.src = url;\n",
              "  s.async = true;\n",
              "  s.onreadystatechange = s.onload = callback;\n",
              "  s.onerror = function(){console.warn(\"failed to load library \" + url);};\n",
              "  document.getElementsByTagName(\"head\")[0].appendChild(s);\n",
              "}\n",
              "\n",
              "if(typeof(LDAvis) !== \"undefined\"){\n",
              "   // already loaded: just create the visualization\n",
              "   !function(LDAvis){\n",
              "       new LDAvis(\"#\" + \"ldavis_el991397139809493923041670111\", ldavis_el991397139809493923041670111_data);\n",
              "   }(LDAvis);\n",
              "}else if(typeof define === \"function\" && define.amd){\n",
              "   // require.js is available: use it to load d3/LDAvis\n",
              "   require.config({paths: {d3: \"https://cdnjs.cloudflare.com/ajax/libs/d3/3.5.5/d3.min\"}});\n",
              "   require([\"d3\"], function(d3){\n",
              "      window.d3 = d3;\n",
              "      LDAvis_load_lib(\"https://cdn.rawgit.com/bmabey/pyLDAvis/files/ldavis.v1.0.0.js\", function(){\n",
              "        new LDAvis(\"#\" + \"ldavis_el991397139809493923041670111\", ldavis_el991397139809493923041670111_data);\n",
              "      });\n",
              "    });\n",
              "}else{\n",
              "    // require.js not available: dynamically load d3 & LDAvis\n",
              "    LDAvis_load_lib(\"https://cdnjs.cloudflare.com/ajax/libs/d3/3.5.5/d3.min.js\", function(){\n",
              "         LDAvis_load_lib(\"https://cdn.rawgit.com/bmabey/pyLDAvis/files/ldavis.v1.0.0.js\", function(){\n",
              "                 new LDAvis(\"#\" + \"ldavis_el991397139809493923041670111\", ldavis_el991397139809493923041670111_data);\n",
              "            })\n",
              "         });\n",
              "}\n",
              "</script>"
            ],
            "text/plain": [
              "PreparedData(topic_coordinates=              x         y  topics  cluster       Freq\n",
              "topic                                                \n",
              "0      0.012316 -0.004416       1        1  31.849544\n",
              "2     -0.013549 -0.004450       2        1  22.398359\n",
              "3      0.001443 -0.002568       3        1  22.160350\n",
              "1     -0.000170  0.013398       4        1  15.740607\n",
              "4     -0.000040 -0.001965       5        1   7.851140, topic_info=                            Term      Freq     Total Category  logprob  loglift\n",
              "68   assumption subject inherent  0.000000  0.000000  Default  30.0000  30.0000\n",
              "490      look require assumption  0.000000  0.000000  Default  29.0000  29.0000\n",
              "707                      require  0.000000  0.000000  Default  28.0000  28.0000\n",
              "708           require assumption  0.000000  0.000000  Default  27.0000  27.0000\n",
              "709   require assumption subject  0.000000  0.000000  Default  26.0000  26.0000\n",
              "..                           ...       ...       ...      ...      ...      ...\n",
              "491                         lude  0.013342  0.231666   Topic5  -6.8443  -0.3099\n",
              "420                      initial  0.013342  0.234891   Topic5  -6.8443  -0.3237\n",
              "537             nature operation  0.013341  0.240502   Topic5  -6.8443  -0.3473\n",
              "582                    operation  0.013341  0.240502   Topic5  -6.8443  -0.3473\n",
              "284                       equity  0.013341  0.232090   Topic5  -6.8443  -0.3118\n",
              "\n",
              "[260 rows x 6 columns], token_table=Empty DataFrame\n",
              "Columns: [Topic, Freq, Term]\n",
              "Index: [], R=30, lambda_step=0.01, plot_opts={'xlab': 'PC1', 'ylab': 'PC2'}, topic_order=[1, 3, 4, 2, 5])"
            ]
          },
          "metadata": {
            "tags": []
          },
          "execution_count": 49
        }
      ]
    },
    {
      "cell_type": "code",
      "metadata": {
        "id": "KuT-aCN7CmfN",
        "outputId": "c7e457d4-d3de-45de-a561-67b57be62f46",
        "colab": {
          "base_uri": "https://localhost:8080/"
        }
      },
      "source": [
        "# Showing the words for each topic\n",
        "n_words_to_show = 8\n",
        "year2015rating4 = display_topics(lda, tfidf_vectorizer.get_feature_names(), n_words_to_show)"
      ],
      "execution_count": 50,
      "outputs": [
        {
          "output_type": "stream",
          "text": [
            "Topic 0:\n",
            "company, financial, energy, nature, rease, total energy, total, performance\n",
            "\n",
            "Topic 1:\n",
            "note, nature operation go, go concern, concern, go, concern note, operation go concern, operation go\n",
            "\n",
            "Topic 2:\n",
            "application, nature, company, fund, ifrs, capital, settlement, equity\n",
            "\n",
            "Topic 3:\n",
            "nexgen, company, financial, significant, ome tax, provision environmental, rehabilitation defer, defer\n",
            "\n",
            "Topic 4:\n",
            "subject, inherent, assumption subject inherent, look require, inherent risk uncertainty, inherent risk, forward look require, look require assumption\n",
            "\n"
          ],
          "name": "stdout"
        }
      ]
    }
  ]
}