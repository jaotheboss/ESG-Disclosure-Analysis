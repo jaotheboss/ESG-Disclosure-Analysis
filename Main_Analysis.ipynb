{
  "nbformat": 4,
  "nbformat_minor": 0,
  "metadata": {
    "colab": {
      "name": "Main_Analysis.ipynb",
      "provenance": [],
      "collapsed_sections": [
        "4iARUteGn1ee"
      ],
      "toc_visible": true,
      "mount_file_id": "1L-K3VtVW-RRNgyB_TiuMeH7UOb30vMbV",
      "authorship_tag": "ABX9TyMGxsQI02Q9yP56fXZG3ZgR",
      "include_colab_link": true
    },
    "kernelspec": {
      "name": "python3",
      "display_name": "Python 3"
    }
  },
  "cells": [
    {
      "cell_type": "markdown",
      "metadata": {
        "id": "view-in-github",
        "colab_type": "text"
      },
      "source": [
        "<a href=\"https://colab.research.google.com/github/jaotheboss/ESG-Disclosure-Analysis/blob/preprocessing-tweaks/Main_Analysis.ipynb\" target=\"_parent\"><img src=\"https://colab.research.google.com/assets/colab-badge.svg\" alt=\"Open In Colab\"/></a>"
      ]
    },
    {
      "cell_type": "markdown",
      "metadata": {
        "id": "JMZMNi_roGlt"
      },
      "source": [
        "# Main Analysis for DSA4264\n",
        "\n",
        "**Task**:\n",
        "Explore the relationship between a firm's environmental disclosure and financial performance. \n",
        "\n",
        "\n",
        "**Tasks**:\n",
        "1. Extract out the text data of the firms that have available financial metrics\n",
        "2. Filter out the environmental disclosures (sentence that contains the keywords or n-grams) from the text data\n",
        "3. Concatenate all the sentences from each document and have each document form the observations of a corpus\n",
        "4. Perform LDA or STM on the corpus\n",
        "5. Analyse the results:\n",
        "    \n",
        "    - Between rating 1 and 5\n",
        "    - Across the years\n",
        "    - Both"
      ]
    },
    {
      "cell_type": "markdown",
      "metadata": {
        "id": "4iARUteGn1ee"
      },
      "source": [
        "## Setting up the modules and functions"
      ]
    },
    {
      "cell_type": "code",
      "metadata": {
        "id": "D9vH7QZ_dGoa",
        "outputId": "e2e05159-77cc-4ac7-8825-dd4e69863c25",
        "colab": {
          "base_uri": "https://localhost:8080/"
        }
      },
      "source": [
        "# setting up the work directory\n",
        "import os \n",
        "os.chdir('/content/drive/My Drive/School/NUS/Year 4 Sem 1/DSA4264/(TSX) Toronto')\n",
        "\n",
        "!pip install pyLDAvis\n",
        "!pip install pdfplumber\n",
        "\n",
        "import pandas as pd\n",
        "import numpy as np\n",
        "import seaborn as sns\n",
        "from tqdm import tqdm\n",
        "import re\n",
        "import spacy\n",
        "nlp = spacy.load('en_core_web_sm')\n",
        "from sklearn.feature_extraction.text import CountVectorizer, TfidfVectorizer\n",
        "from sklearn.decomposition import LatentDirichletAllocation # LDA\n",
        "import pyLDAvis\n",
        "pyLDAvis.enable_notebook()\n",
        "import pyLDAvis.sklearn\n",
        "import pdfplumber\n",
        "import multiprocessing as mp"
      ],
      "execution_count": 56,
      "outputs": [
        {
          "output_type": "stream",
          "text": [
            "Requirement already satisfied: pyLDAvis in /usr/local/lib/python3.6/dist-packages (2.1.2)\n",
            "Requirement already satisfied: jinja2>=2.7.2 in /usr/local/lib/python3.6/dist-packages (from pyLDAvis) (2.11.2)\n",
            "Requirement already satisfied: pytest in /usr/local/lib/python3.6/dist-packages (from pyLDAvis) (3.6.4)\n",
            "Requirement already satisfied: joblib>=0.8.4 in /usr/local/lib/python3.6/dist-packages (from pyLDAvis) (0.17.0)\n",
            "Requirement already satisfied: wheel>=0.23.0 in /usr/local/lib/python3.6/dist-packages (from pyLDAvis) (0.35.1)\n",
            "Requirement already satisfied: scipy>=0.18.0 in /usr/local/lib/python3.6/dist-packages (from pyLDAvis) (1.4.1)\n",
            "Requirement already satisfied: funcy in /usr/local/lib/python3.6/dist-packages (from pyLDAvis) (1.15)\n",
            "Requirement already satisfied: future in /usr/local/lib/python3.6/dist-packages (from pyLDAvis) (0.16.0)\n",
            "Requirement already satisfied: pandas>=0.17.0 in /usr/local/lib/python3.6/dist-packages (from pyLDAvis) (1.1.3)\n",
            "Requirement already satisfied: numpy>=1.9.2 in /usr/local/lib/python3.6/dist-packages (from pyLDAvis) (1.18.5)\n",
            "Requirement already satisfied: numexpr in /usr/local/lib/python3.6/dist-packages (from pyLDAvis) (2.7.1)\n",
            "Requirement already satisfied: MarkupSafe>=0.23 in /usr/local/lib/python3.6/dist-packages (from jinja2>=2.7.2->pyLDAvis) (1.1.1)\n",
            "Requirement already satisfied: more-itertools>=4.0.0 in /usr/local/lib/python3.6/dist-packages (from pytest->pyLDAvis) (8.5.0)\n",
            "Requirement already satisfied: attrs>=17.4.0 in /usr/local/lib/python3.6/dist-packages (from pytest->pyLDAvis) (20.2.0)\n",
            "Requirement already satisfied: six>=1.10.0 in /usr/local/lib/python3.6/dist-packages (from pytest->pyLDAvis) (1.15.0)\n",
            "Requirement already satisfied: py>=1.5.0 in /usr/local/lib/python3.6/dist-packages (from pytest->pyLDAvis) (1.9.0)\n",
            "Requirement already satisfied: atomicwrites>=1.0 in /usr/local/lib/python3.6/dist-packages (from pytest->pyLDAvis) (1.4.0)\n",
            "Requirement already satisfied: pluggy<0.8,>=0.5 in /usr/local/lib/python3.6/dist-packages (from pytest->pyLDAvis) (0.7.1)\n",
            "Requirement already satisfied: setuptools in /usr/local/lib/python3.6/dist-packages (from pytest->pyLDAvis) (50.3.2)\n",
            "Requirement already satisfied: python-dateutil>=2.7.3 in /usr/local/lib/python3.6/dist-packages (from pandas>=0.17.0->pyLDAvis) (2.8.1)\n",
            "Requirement already satisfied: pytz>=2017.2 in /usr/local/lib/python3.6/dist-packages (from pandas>=0.17.0->pyLDAvis) (2018.9)\n",
            "Requirement already satisfied: pdfplumber in /usr/local/lib/python3.6/dist-packages (0.5.24)\n",
            "Requirement already satisfied: Wand in /usr/local/lib/python3.6/dist-packages (from pdfplumber) (0.6.3)\n",
            "Requirement already satisfied: pdfminer.six==20200517 in /usr/local/lib/python3.6/dist-packages (from pdfplumber) (20200517)\n",
            "Requirement already satisfied: Pillow>=7.0.0 in /usr/local/lib/python3.6/dist-packages (from pdfplumber) (7.0.0)\n",
            "Requirement already satisfied: sortedcontainers in /usr/local/lib/python3.6/dist-packages (from pdfminer.six==20200517->pdfplumber) (2.2.2)\n",
            "Requirement already satisfied: chardet; python_version > \"3.0\" in /usr/local/lib/python3.6/dist-packages (from pdfminer.six==20200517->pdfplumber) (3.0.4)\n",
            "Requirement already satisfied: pycryptodome in /usr/local/lib/python3.6/dist-packages (from pdfminer.six==20200517->pdfplumber) (3.9.8)\n"
          ],
          "name": "stdout"
        }
      ]
    },
    {
      "cell_type": "code",
      "metadata": {
        "id": "xbe4MynXnX0V"
      },
      "source": [
        "# defining functions\n",
        "def _PREPROCESS(text, min_char_len = 3, max_char_len = 15):\n",
        "    \"\"\"\n",
        "    Function:     Preprocesses and cleans text\n",
        "                    \n",
        "    Input:        Text array\n",
        "    \n",
        "    Returns:      A column of processed text\n",
        "    \"\"\"\n",
        "    contractions = {\n",
        "            \"ain't\": \"am not / are not\",\n",
        "            \"aren't\": \"are not / am not\",\n",
        "            \"can't\": \"cannot\",\n",
        "            \"can't've\": \"cannot have\",\n",
        "            \"'cause\": \"because\",\n",
        "            \"could've\": \"could have\",\n",
        "            \"couldn't\": \"could not\",\n",
        "            \"couldn't've\": \"could not have\",\n",
        "            \"didn't\": \"did not\",\n",
        "            \"doesn't\": \"does not\",\n",
        "            \"don't\": \"do not\",\n",
        "            \"hadn't\": \"had not\",\n",
        "            \"hadn't've\": \"had not have\",\n",
        "            \"hasn't\": \"has not\",\n",
        "            \"haven't\": \"have not\",\n",
        "            \"he'd\": \"he had / he would\",\n",
        "            \"he'd've\": \"he would have\",\n",
        "            \"he'll\": \"he shall / he will\",\n",
        "            \"he'll've\": \"he shall have / he will have\",\n",
        "            \"he's\": \"he has / he is\",\n",
        "            \"how'd\": \"how did\",\n",
        "            \"how'd'y\": \"how do you\",\n",
        "            \"how'll\": \"how will\",\n",
        "            \"how's\": \"how has / how is\",\n",
        "            \"i'd\": \"I had / I would\",\n",
        "            \"i'd've\": \"I would have\",\n",
        "            \"i'll\": \"I shall / I will\",\n",
        "            \"i'll've\": \"I shall have / I will have\",\n",
        "            \"i'm\": \"I am\",\n",
        "            \"i've\": \"I have\",\n",
        "            \"isn't\": \"is not\",\n",
        "            \"it'd\": \"it had / it would\",\n",
        "            \"it'd've\": \"it would have\",\n",
        "            \"it'll\": \"it shall / it will\",\n",
        "            \"it'll've\": \"it shall have / it will have\",\n",
        "            \"it's\": \"it has / it is\",\n",
        "            \"let's\": \"let us\",\n",
        "            \"ma'am\": \"madam\",\n",
        "            \"mayn't\": \"may not\",\n",
        "            \"might've\": \"might have\",\n",
        "            \"mightn't\": \"might not\",\n",
        "            \"mightn't've\": \"might not have\",\n",
        "            \"must've\": \"must have\",\n",
        "            \"mustn't\": \"must not\",\n",
        "            \"mustn't've\": \"must not have\",\n",
        "            \"needn't\": \"need not\",\n",
        "            \"needn't've\": \"need not have\",\n",
        "            \"o'clock\": \"of the clock\",\n",
        "            \"oughtn't\": \"ought not\",\n",
        "            \"oughtn't've\": \"ought not have\",\n",
        "            \"shan't\": \"shall not\",\n",
        "            \"sha'n't\": \"shall not\",\n",
        "            \"shan't've\": \"shall not have\",\n",
        "            \"she'd\": \"she had / she would\",\n",
        "            \"she'd've\": \"she would have\",\n",
        "            \"she'll\": \"she shall / she will\",\n",
        "            \"she'll've\": \"she shall have / she will have\",\n",
        "            \"she's\": \"she has / she is\",\n",
        "            \"should've\": \"should have\",\n",
        "            \"shouldn't\": \"should not\",\n",
        "            \"shouldn't've\": \"should not have\",\n",
        "            \"so've\": \"so have\",\n",
        "            \"so's\": \"so as / so is\",\n",
        "            \"that'd\": \"that would / that had\",\n",
        "            \"that'd've\": \"that would have\",\n",
        "            \"that's\": \"that has / that is\",\n",
        "            \"there'd\": \"there had / there would\",\n",
        "            \"there'd've\": \"there would have\",\n",
        "            \"there's\": \"there has / there is\",\n",
        "            \"they'd\": \"they had / they would\",\n",
        "            \"they'd've\": \"they would have\",\n",
        "            \"they'll\": \"they shall / they will\",\n",
        "            \"they'll've\": \"they shall have / they will have\",\n",
        "            \"they're\": \"they are\",\n",
        "            \"they've\": \"they have\",\n",
        "            \"to've\": \"to have\",\n",
        "            \"wasn't\": \"was not\",\n",
        "            \"we'd\": \"we had / we would\",\n",
        "            \"we'd've\": \"we would have\",\n",
        "            \"we'll\": \"we will\",\n",
        "            \"we'll've\": \"we will have\",\n",
        "            \"we're\": \"we are\",\n",
        "            \"we've\": \"we have\",\n",
        "            \"weren't\": \"were not\",\n",
        "            \"what'll\": \"what shall / what will\",\n",
        "            \"what'll've\": \"what shall have / what will have\",\n",
        "            \"what're\": \"what are\",\n",
        "            \"what's\": \"what has / what is\",\n",
        "            \"what've\": \"what have\",\n",
        "            \"when's\": \"when has / when is\",\n",
        "            \"when've\": \"when have\",\n",
        "            \"where'd\": \"where did\",\n",
        "            \"where's\": \"where has / where is\",\n",
        "            \"where've\": \"where have\",\n",
        "            \"who'll\": \"who shall / who will\",\n",
        "            \"who'll've\": \"who shall have / who will have\",\n",
        "            \"who's\": \"who has / who is\",\n",
        "            \"who've\": \"who have\",\n",
        "            \"why's\": \"why has / why is\",\n",
        "            \"why've\": \"why have\",\n",
        "            \"will've\": \"will have\",\n",
        "            \"won't\": \"will not\",\n",
        "            \"won't've\": \"will not have\",\n",
        "            \"would've\": \"would have\",\n",
        "            \"wouldn't\": \"would not\",\n",
        "            \"wouldn't've\": \"would not have\",\n",
        "            \"y'all\": \"you all\",\n",
        "            \"y'all'd\": \"you all would\",\n",
        "            \"y'all'd've\": \"you all would have\",\n",
        "            \"y'all're\": \"you all are\",\n",
        "            \"y'all've\": \"you all have\",\n",
        "            \"you'd\": \"you had / you would\",\n",
        "            \"you'd've\": \"you would have\",\n",
        "            \"you'll\": \"you shall / you will\",\n",
        "            \"you'll've\": \"you shall have / you will have\",\n",
        "            \"you're\": \"you are\",\n",
        "            \"you've\": \"you have\"}\n",
        "\n",
        "    def contract(text):\n",
        "        for word in text.split():\n",
        "            if word.lower() in contractions:\n",
        "                text = text.replace(word, contractions[word.lower()])\n",
        "        return text\n",
        "    \n",
        "    def preprocess(text):\n",
        "        # throw away numbers\n",
        "        text = re.sub(r\"@\\S+|https?:\\S+|http?:\\S|[^A-Za-z]+\", ' ', str(text).lower()).strip() \n",
        "        doc = nlp(text)\n",
        "        text = [token.lemma_ for token in doc if token.is_stop == False and len(token) >= min_char_len and len(token) <= max_char_len]\n",
        "        new_text = ' '.join(text)\n",
        "        return new_text\n",
        "       \n",
        "    text = text.apply(contract).apply(preprocess)\n",
        "    return text\n",
        "\n",
        "def extract_pdf_text(file_name, min_sent_len = 10):\n",
        "    doc = []\n",
        "    with pdfplumber.open(file_name) as pdf:\n",
        "        pages = pdf.pages\n",
        "        for i in tqdm(pages):\n",
        "            page = i.extract_text()\n",
        "            doc.extend([sentence.string for sentence in nlp(page).sents if len(sentence) >= min_sent_len])\n",
        "    doc = _PREPROCESS(pd.Series(doc))\n",
        "    return doc\n",
        "\n",
        "def get_top_k(df, vectorizer, k = 10):\n",
        "       \"\"\"get top k occuring words\"\"\"\n",
        "       vectorizer.fit(df)\n",
        "       counts = pd.DataFrame(vectorizer.transform(df).toarray())\n",
        "       counts.columns = vectorizer.get_feature_names()\n",
        "       counts = counts.apply(sum).sort_values(ascending = False)[:k]\n",
        "       sns.barplot(x = counts.values, y = counts.index)"
      ],
      "execution_count": 77,
      "outputs": []
    },
    {
      "cell_type": "markdown",
      "metadata": {
        "id": "IMANqXGVn45u"
      },
      "source": [
        "## Preprocessing"
      ]
    },
    {
      "cell_type": "code",
      "metadata": {
        "id": "PelIgo4J0Alv"
      },
      "source": [
        "# getting the file names\n",
        "metadata = pd.read_csv('clustered_files_cleaned.csv')\n",
        "def quantiles(arr):\n",
        "    result = []\n",
        "    quads = [np.quantile(arr, 0.25*i) for i in range(1, 4)]\n",
        "    for i in arr:\n",
        "        if i <= quads[0]:\n",
        "            result.append(1)\n",
        "        elif i <= quads[1]:\n",
        "            result.append(2)\n",
        "        elif i <= quads[2]:\n",
        "            result.append(3)\n",
        "        else:\n",
        "            result.append(4)\n",
        "    return result\n",
        "metadata['rating_quarters'] = quantiles(metadata.earnings)"
      ],
      "execution_count": 34,
      "outputs": []
    },
    {
      "cell_type": "markdown",
      "metadata": {
        "id": "yZpHqy_74Vko"
      },
      "source": [
        "We will only be looking at the top and bottom 25% of the ratings. This is ensure that there is a discernible distinction in performance metric. By doing so, we hope to more clearly distinguish the aspects of an environmental disclosure that correlates with the financial metric"
      ]
    },
    {
      "cell_type": "code",
      "metadata": {
        "id": "gdEud_c30M9j",
        "outputId": "c8362bd3-ddce-4243-bd76-90b6a8eb52f2",
        "colab": {
          "base_uri": "https://localhost:8080/",
          "height": 419
        }
      },
      "source": [
        "# filtering out by quarters\n",
        "filtered_metadata = metadata[['finalfilename', 'fileyear', 'rating_quarters']]\n",
        "filtered_metadata = filtered_metadata.loc[metadata.rating_quarters != 2, :]  \n",
        "filtered_metadata = filtered_metadata.loc[metadata.rating_quarters != 3, :]\n",
        "filtered_metadata.reset_index(drop = True, inplace = True)\n",
        "filtered_metadata"
      ],
      "execution_count": 70,
      "outputs": [
        {
          "output_type": "execute_result",
          "data": {
            "text/html": [
              "<div>\n",
              "<style scoped>\n",
              "    .dataframe tbody tr th:only-of-type {\n",
              "        vertical-align: middle;\n",
              "    }\n",
              "\n",
              "    .dataframe tbody tr th {\n",
              "        vertical-align: top;\n",
              "    }\n",
              "\n",
              "    .dataframe thead th {\n",
              "        text-align: right;\n",
              "    }\n",
              "</style>\n",
              "<table border=\"1\" class=\"dataframe\">\n",
              "  <thead>\n",
              "    <tr style=\"text-align: right;\">\n",
              "      <th></th>\n",
              "      <th>finalfilename</th>\n",
              "      <th>fileyear</th>\n",
              "      <th>rating_quarters</th>\n",
              "    </tr>\n",
              "  </thead>\n",
              "  <tbody>\n",
              "    <tr>\n",
              "      <th>0</th>\n",
              "      <td>TSX_7376__Absolute Software Corp___Active____(...</td>\n",
              "      <td>2018</td>\n",
              "      <td>4</td>\n",
              "    </tr>\n",
              "    <tr>\n",
              "      <th>1</th>\n",
              "      <td>TSX_7319__AcuityAds Holdings Inc___Active____(...</td>\n",
              "      <td>2018</td>\n",
              "      <td>1</td>\n",
              "    </tr>\n",
              "    <tr>\n",
              "      <th>2</th>\n",
              "      <td>TSX_1041__Alacer Gold Corp___Active____(2018-1...</td>\n",
              "      <td>2018</td>\n",
              "      <td>4</td>\n",
              "    </tr>\n",
              "    <tr>\n",
              "      <th>3</th>\n",
              "      <td>TSX_1041__Alexco Resource Corp___Active____(20...</td>\n",
              "      <td>2018</td>\n",
              "      <td>1</td>\n",
              "    </tr>\n",
              "    <tr>\n",
              "      <th>4</th>\n",
              "      <td>TSX_4449__Algoma Central Corp___Active____(201...</td>\n",
              "      <td>2018</td>\n",
              "      <td>1</td>\n",
              "    </tr>\n",
              "    <tr>\n",
              "      <th>...</th>\n",
              "      <td>...</td>\n",
              "      <td>...</td>\n",
              "      <td>...</td>\n",
              "    </tr>\n",
              "    <tr>\n",
              "      <th>236</th>\n",
              "      <td>TSX_3533__Total Energy Services Inc___Active__...</td>\n",
              "      <td>2015</td>\n",
              "      <td>4</td>\n",
              "    </tr>\n",
              "    <tr>\n",
              "      <th>237</th>\n",
              "      <td>TSX_1031__Trevali Mining Corp___Active____(201...</td>\n",
              "      <td>2015</td>\n",
              "      <td>4</td>\n",
              "    </tr>\n",
              "    <tr>\n",
              "      <th>238</th>\n",
              "      <td>TSX_6531__Wall Financial Corp___Active____(201...</td>\n",
              "      <td>2015</td>\n",
              "      <td>4</td>\n",
              "    </tr>\n",
              "    <tr>\n",
              "      <th>239</th>\n",
              "      <td>TSX_1021__Wallbridge Mining Company Ltd___Acti...</td>\n",
              "      <td>2015</td>\n",
              "      <td>4</td>\n",
              "    </tr>\n",
              "    <tr>\n",
              "      <th>240</th>\n",
              "      <td>TSX_9999__Well Health Technologies Corp___Acti...</td>\n",
              "      <td>2015</td>\n",
              "      <td>4</td>\n",
              "    </tr>\n",
              "  </tbody>\n",
              "</table>\n",
              "<p>241 rows × 3 columns</p>\n",
              "</div>"
            ],
            "text/plain": [
              "                                         finalfilename  ...  rating_quarters\n",
              "0    TSX_7376__Absolute Software Corp___Active____(...  ...                4\n",
              "1    TSX_7319__AcuityAds Holdings Inc___Active____(...  ...                1\n",
              "2    TSX_1041__Alacer Gold Corp___Active____(2018-1...  ...                4\n",
              "3    TSX_1041__Alexco Resource Corp___Active____(20...  ...                1\n",
              "4    TSX_4449__Algoma Central Corp___Active____(201...  ...                1\n",
              "..                                                 ...  ...              ...\n",
              "236  TSX_3533__Total Energy Services Inc___Active__...  ...                4\n",
              "237  TSX_1031__Trevali Mining Corp___Active____(201...  ...                4\n",
              "238  TSX_6531__Wall Financial Corp___Active____(201...  ...                4\n",
              "239  TSX_1021__Wallbridge Mining Company Ltd___Acti...  ...                4\n",
              "240  TSX_9999__Well Health Technologies Corp___Acti...  ...                4\n",
              "\n",
              "[241 rows x 3 columns]"
            ]
          },
          "metadata": {
            "tags": []
          },
          "execution_count": 70
        }
      ]
    },
    {
      "cell_type": "code",
      "metadata": {
        "id": "VONzOIXp7IFG",
        "outputId": "3337c296-94b7-413a-b2e2-25acedff8782",
        "colab": {
          "base_uri": "https://localhost:8080/"
        }
      },
      "source": [
        "# extracting out the text data\n",
        "pool = mp.Pool()\n",
        "dirty_corpus = pool.map(extract_pdf_text, filtered_metadata.finalfilename)\n",
        "pool.close()"
      ],
      "execution_count": 71,
      "outputs": [
        {
          "output_type": "stream",
          "text": [
            "100%|██████████| 41/41 [00:18<00:00,  2.25it/s]\n",
            "100%|██████████| 47/47 [00:23<00:00,  1.96it/s]\n",
            "100%|██████████| 42/42 [00:16<00:00,  2.57it/s]\n",
            "100%|██████████| 40/40 [00:19<00:00,  2.05it/s]\n",
            "100%|██████████| 51/51 [00:18<00:00,  2.73it/s]\n",
            "100%|██████████| 59/59 [00:25<00:00,  2.31it/s]\n",
            "100%|██████████| 45/45 [00:20<00:00,  2.24it/s]\n",
            "100%|██████████| 34/34 [00:22<00:00,  1.48it/s]\n",
            "100%|██████████| 33/33 [00:15<00:00,  2.09it/s]\n",
            "100%|██████████| 41/41 [00:08<00:00,  4.63it/s]\n"
          ],
          "name": "stderr"
        }
      ]
    },
    {
      "cell_type": "code",
      "metadata": {
        "id": "8keVHGPO8DD1"
      },
      "source": [
        "# filtering the corpus with environmental keywords\n",
        "# https://quantaloop.io/the-language-of-sustainability-top-101-green-initiative-keywords/\n",
        "e_sus_keywords = {'global', 'warming', 'water', 'air', 'environmental', 'nature', 'earth', 'solar', 'energy', 'green', 'recycling', 'pollution', 'energy', 'sustain'}\n",
        "def filter_keyword(dirty_doc):\n",
        "    filtered_doc = []\n",
        "    for sentence in dirty_doc:\n",
        "        # ignore short sentences\n",
        "        if len(sentence.split()) <= 3:\n",
        "            continue\n",
        "        else:\n",
        "            if e_sus_keywords.intersection(set(sentence.split())):\n",
        "                filtered_doc.append(sentence)\n",
        "                break\n",
        "    return ' '.join(filtered_doc)\n",
        "pool = mp.Pool()\n",
        "filtered_corpus = pool.map(filter_keyword, dirty_corpus)\n",
        "pool.close()"
      ],
      "execution_count": 117,
      "outputs": []
    },
    {
      "cell_type": "markdown",
      "metadata": {
        "id": "rVJSV2MPN7o3"
      },
      "source": [
        "**PAUSE**"
      ]
    },
    {
      "cell_type": "code",
      "metadata": {
        "id": "4aJvbOz6-dCc",
        "outputId": "a9af1362-f13e-4316-a516-aaec9ef47573",
        "colab": {
          "base_uri": "https://localhost:8080/",
          "height": 265
        }
      },
      "source": [
        "count_vectorizer = CountVectorizer(ngram_range = (1, 3),\n",
        "                                   max_df = 0.8,\n",
        "                                   min_df = 0.05,\n",
        "                                   max_features = None)\n",
        "\n",
        "def get_top_k(df, vectorizer, k = 10):\n",
        "       \"\"\"get top k occuring words\"\"\"\n",
        "       vectorizer.fit(df)\n",
        "       counts = pd.DataFrame(vectorizer.transform(df).toarray())\n",
        "       counts.columns = vectorizer.get_feature_names()\n",
        "       counts = counts.apply(sum).sort_values(ascending = False)[:k]\n",
        "       sns.barplot(x = counts.values, y = counts.index)\n",
        "\n",
        "get_top_k(doc_filtered, count_vectorizer)"
      ],
      "execution_count": null,
      "outputs": [
        {
          "output_type": "display_data",
          "data": {
            "image/png": "[encoded data removed]",
            "text/plain": [
              "<Figure size 432x288 with 1 Axes>"
            ]
          },
          "metadata": {
            "tags": [],
            "needs_background": "light"
          }
        }
      ]
    },
    {
      "cell_type": "markdown",
      "metadata": {
        "id": "xv2f2-3fmyyH"
      },
      "source": [
        "## Performing LDA\n",
        "\n",
        "To extract topics from each document within the corpus"
      ]
    },
    {
      "cell_type": "code",
      "metadata": {
        "id": "RMyUDTUuYGX_",
        "outputId": "fcc526fe-686e-4572-c12b-9928ebd91410",
        "colab": {
          "base_uri": "https://localhost:8080/",
          "height": 136
        }
      },
      "source": [
        "# Training the LDA model\n",
        "tfidf_vectorizer = TfidfVectorizer(ngram_range = (1, 3),\n",
        "                                   max_df = 0.8,\n",
        "                                   min_df = 0.05,\n",
        "                                   max_features = None)\n",
        "doc_tfidf = tfidf_vectorizer.fit_transform(doc_filtered)\n",
        "lda = LatentDirichletAllocation(n_components = 5, \n",
        "                                random_state = 69)\n",
        "lda.fit(doc_tfidf)"
      ],
      "execution_count": null,
      "outputs": [
        {
          "output_type": "execute_result",
          "data": {
            "text/plain": [
              "LatentDirichletAllocation(batch_size=128, doc_topic_prior=None,\n",
              "                          evaluate_every=-1, learning_decay=0.7,\n",
              "                          learning_method='batch', learning_offset=10.0,\n",
              "                          max_doc_update_iter=100, max_iter=10,\n",
              "                          mean_change_tol=0.001, n_components=5, n_jobs=None,\n",
              "                          perp_tol=0.1, random_state=69, topic_word_prior=None,\n",
              "                          total_samples=1000000.0, verbose=0)"
            ]
          },
          "metadata": {
            "tags": []
          },
          "execution_count": 56
        }
      ]
    },
    {
      "cell_type": "code",
      "metadata": {
        "id": "XsELLkTnYfRc",
        "outputId": "a694345d-ba24-4be1-cf69-430cc2e7a1a5",
        "colab": {
          "base_uri": "https://localhost:8080/",
          "height": 861
        }
      },
      "source": [
        "# LDA visualisation\n",
        "pyLDAvis.sklearn.prepare(lda, doc_tfidf, tfidf_vectorizer)"
      ],
      "execution_count": null,
      "outputs": [
        {
          "output_type": "execute_result",
          "data": {
            "text/html": [
              "\n",
              "<link rel=\"stylesheet\" type=\"text/css\" href=\"https://cdn.rawgit.com/bmabey/pyLDAvis/files/ldavis.v1.0.0.css\">\n",
              "\n",
              "\n",
              "<div id=\"ldavis_el2341405307857094163284022679\"></div>\n",
              "<script type=\"text/javascript\">\n",
              "\n",
              "var ldavis_el2341405307857094163284022679_data = {\"mdsDat\": {\"x\": [0.13642719305445475, 0.2256953279855955, 0.13372937731960238, -0.13879322345556266, -0.35705867490408993], \"y\": [0.1789776022984462, -0.21144187294282554, -0.04178140841059717, 0.2538262290521085, -0.1795805499971314], \"topics\": [1, 2, 3, 4, 5], \"cluster\": [1, 1, 1, 1, 1], \"Freq\": [25.023799953780173, 21.926918152616494, 19.70586077893098, 17.942646644099057, 15.4007744705733]}, \"tinfo\": {\"Term\": [\"interest\", \"follow\", \"term\", \"canadian\", \"subsidiary\", \"expense\", \"management\", \"dollar\", \"loss\", \"service\", \"benefit\", \"financial\", \"cash\", \"rate\", \"value\", \"net\", \"canadian dollar\", \"plan\", \"acquisition\", \"risk\", \"profit\", \"statement\", \"include\", \"base\", \"instrument\", \"fair\", \"fair value\", \"liability\", \"recognize\", \"asset\", \"value\", \"acquisition\", \"statement\", \"include\", \"instrument\", \"fair\", \"fair value\", \"financial\", \"cost\", \"asset\", \"base\", \"liability\", \"recognize\", \"profit\", \"risk\", \"canadian dollar\", \"net\", \"management\", \"subsidiary\", \"dollar\", \"benefit\", \"service\", \"rate\", \"expense\", \"cash\", \"canadian\", \"follow\", \"loss\", \"term\", \"interest\", \"plan\", \"loss\", \"cash\", \"rate\", \"risk\", \"profit\", \"base\", \"asset\", \"recognize\", \"liability\", \"fair value\", \"fair\", \"instrument\", \"include\", \"canadian dollar\", \"statement\", \"net\", \"acquisition\", \"cost\", \"management\", \"financial\", \"subsidiary\", \"dollar\", \"benefit\", \"service\", \"value\", \"expense\", \"canadian\", \"follow\", \"interest\", \"term\", \"plan\", \"term\", \"service\", \"benefit\", \"net\", \"liability\", \"recognize\", \"cost\", \"asset\", \"plan\", \"fair value\", \"fair\", \"instrument\", \"profit\", \"risk\", \"include\", \"canadian dollar\", \"statement\", \"base\", \"acquisition\", \"management\", \"subsidiary\", \"dollar\", \"value\", \"rate\", \"expense\", \"cash\", \"canadian\", \"follow\", \"loss\", \"interest\", \"financial\", \"canadian\", \"expense\", \"dollar\", \"canadian dollar\", \"plan\", \"cost\", \"financial\", \"asset\", \"recognize\", \"fair value\", \"fair\", \"instrument\", \"profit\", \"risk\", \"include\", \"statement\", \"base\", \"net\", \"acquisition\", \"liability\", \"management\", \"subsidiary\", \"benefit\", \"service\", \"value\", \"rate\", \"cash\", \"follow\", \"loss\", \"term\", \"interest\", \"interest\", \"follow\", \"subsidiary\", \"management\", \"plan\", \"fair value\", \"fair\", \"rate\", \"instrument\", \"profit\", \"risk\", \"include\", \"canadian dollar\", \"statement\", \"base\", \"net\", \"acquisition\", \"liability\", \"cost\", \"recognize\", \"dollar\", \"benefit\", \"service\", \"value\", \"expense\", \"cash\", \"canadian\", \"loss\", \"term\", \"financial\", \"asset\"], \"Freq\": [48.0, 42.0, 47.0, 41.0, 37.0, 40.0, 35.0, 37.0, 42.0, 38.0, 38.0, 64.0, 40.0, 39.0, 39.0, 32.0, 30.0, 49.0, 32.0, 29.0, 28.0, 30.0, 30.0, 31.0, 23.0, 21.0, 20.0, 32.0, 35.0, 65.0, 38.35443768560466, 32.02786092600204, 29.74507658352186, 29.386055151536098, 22.69377003303017, 20.60689380086489, 19.786913297196882, 54.46226784337497, 9.765130893216037, 15.958564763981789, 6.953816784048784, 4.837722172783693, 3.5838239350141774, 0.1807863316276266, 0.18110245033625524, 0.17956942856115088, 0.1808085683986608, 0.18150804998175324, 0.18026273901659498, 0.17986467948657134, 0.18062466907906236, 0.1799161118998251, 0.18045759035051975, 0.18163235338141395, 0.18110987525296227, 0.179665899201449, 0.18084677924531692, 0.1806047885963226, 0.1809408657948683, 0.18091882241588278, 0.18331836511760605, 41.85436956199284, 39.960541403594, 38.69539662956982, 28.58185053003319, 27.51382270229093, 24.25159134873745, 31.92111520684393, 12.44086705088713, 5.90399530729771, 0.18373291431686845, 0.18373939277640314, 0.1853139768041058, 0.18467832687725072, 0.183378402176487, 0.18430013366858278, 0.1850825387123647, 0.18354156240135067, 0.18666852833035563, 0.18485495524149226, 0.33311617871617055, 0.1838848689408385, 0.18392732872718667, 0.1842249604293255, 0.18353661401198088, 0.1844787565750386, 0.18433844232563432, 0.18365731435698449, 0.1836625429261324, 0.2002328125464366, 0.19312884936839972, 0.18430684681350834, 46.40479303938941, 37.68096752342217, 37.601742693376806, 31.599268662661473, 21.81354895075991, 19.022626455119084, 12.960496520635349, 13.96196696092849, 4.103973116633162, 0.19630443540854745, 0.19628128803006425, 0.19669191345817152, 0.19735098818513092, 0.196501263371838, 0.19824931659035375, 0.1961224595457447, 0.19714592564038466, 0.1980160055482074, 0.19735449722585605, 0.19699091227223756, 0.19694945069221123, 0.19632994067343723, 0.19717366531084962, 0.19725292288512805, 0.19708066420038617, 0.19709742853793813, 0.19723985639422892, 0.19718791649770723, 0.19785594295133924, 0.19756534343469961, 0.1977433941912821, 40.53482041316207, 39.44251789255423, 36.29704969724954, 29.33259213528951, 32.782713000423556, 12.31753941591565, 9.131461026461324, 3.740300844273345, 0.7180292258613384, 0.21033741504220485, 0.21032612851060145, 0.21043761558151822, 0.2189950368001486, 0.21071356689566864, 0.2120339326967108, 0.2112579614398913, 0.21212817845145254, 0.21042391319075124, 0.21129326610472338, 0.21187120444742516, 0.21084725269967955, 0.21022500607975997, 0.21143017302820943, 0.2118265459709436, 0.21121230648007155, 0.2136828151682715, 0.21143995404186886, 0.2103581774745241, 0.21128515254598207, 0.21193919077913964, 0.21115736789865336, 48.159090677965786, 41.651964292622424, 36.28053879519487, 34.51987342367154, 12.63607180775198, 0.22655805199798806, 0.22660917263494787, 0.4139078651939221, 0.22909448016290998, 0.22628763891537682, 0.2287591179717719, 0.22852477943236368, 0.22618219962372202, 0.22735762529099776, 0.22934634823977867, 0.22741092444451153, 0.2273070771619435, 0.22777750873181082, 0.22918031964011115, 0.22712545506152773, 0.22634362853474355, 0.22813716226296119, 0.22679409982953538, 0.22753169357887085, 0.22670294840501987, 0.22665175569010212, 0.22649779831788136, 0.22698652169329064, 0.22830945166479855, 0.22839845675502315, 0.2293888089827842], \"Total\": [48.0, 42.0, 47.0, 41.0, 37.0, 40.0, 35.0, 37.0, 42.0, 38.0, 38.0, 64.0, 40.0, 39.0, 39.0, 32.0, 30.0, 49.0, 32.0, 29.0, 28.0, 30.0, 30.0, 31.0, 23.0, 21.0, 20.0, 32.0, 35.0, 65.0, 39.174834107549486, 32.847357328895924, 30.565138229561718, 30.209541507132773, 23.515308019036876, 21.423849782816905, 20.60384611396249, 64.35298689949876, 35.4590156777375, 65.81133658501035, 31.84489866502567, 32.99491514402055, 35.99247212194326, 28.337242697819214, 29.398926928608727, 30.117844625196614, 32.40299460740776, 35.2940745938667, 37.051860859924275, 37.08351527467148, 38.406159658176364, 38.48304089513445, 39.70069782316766, 40.23227230086668, 40.77684041711687, 41.32188128143262, 42.4240197087661, 42.67110196777978, 47.21911139699662, 48.948965024261454, 49.890383136739814, 42.67110196777978, 40.77684041711687, 39.70069782316766, 29.398926928608727, 28.337242697819214, 31.84489866502567, 65.81133658501035, 35.99247212194326, 32.99491514402055, 20.60384611396249, 21.423849782816905, 23.515308019036876, 30.209541507132773, 30.117844625196614, 30.565138229561718, 32.40299460740776, 32.847357328895924, 35.4590156777375, 35.2940745938667, 64.35298689949876, 37.051860859924275, 37.08351527467148, 38.406159658176364, 38.48304089513445, 39.174834107549486, 40.23227230086668, 41.32188128143262, 42.4240197087661, 48.948965024261454, 47.21911139699662, 49.890383136739814, 47.21911139699662, 38.48304089513445, 38.406159658176364, 32.40299460740776, 32.99491514402055, 35.99247212194326, 35.4590156777375, 65.81133658501035, 49.890383136739814, 20.60384611396249, 21.423849782816905, 23.515308019036876, 28.337242697819214, 29.398926928608727, 30.209541507132773, 30.117844625196614, 30.565138229561718, 31.84489866502567, 32.847357328895924, 35.2940745938667, 37.051860859924275, 37.08351527467148, 39.174834107549486, 39.70069782316766, 40.23227230086668, 40.77684041711687, 41.32188128143262, 42.4240197087661, 42.67110196777978, 48.948965024261454, 64.35298689949876, 41.32188128143262, 40.23227230086668, 37.08351527467148, 30.117844625196614, 49.890383136739814, 35.4590156777375, 64.35298689949876, 65.81133658501035, 35.99247212194326, 20.60384611396249, 21.423849782816905, 23.515308019036876, 28.337242697819214, 29.398926928608727, 30.209541507132773, 30.565138229561718, 31.84489866502567, 32.40299460740776, 32.847357328895924, 32.99491514402055, 35.2940745938667, 37.051860859924275, 38.406159658176364, 38.48304089513445, 39.174834107549486, 39.70069782316766, 40.77684041711687, 42.4240197087661, 42.67110196777978, 47.21911139699662, 48.948965024261454, 48.948965024261454, 42.4240197087661, 37.051860859924275, 35.2940745938667, 49.890383136739814, 20.60384611396249, 21.423849782816905, 39.70069782316766, 23.515308019036876, 28.337242697819214, 29.398926928608727, 30.209541507132773, 30.117844625196614, 30.565138229561718, 31.84489866502567, 32.40299460740776, 32.847357328895924, 32.99491514402055, 35.4590156777375, 35.99247212194326, 37.08351527467148, 38.406159658176364, 38.48304089513445, 39.174834107549486, 40.23227230086668, 40.77684041711687, 41.32188128143262, 42.67110196777978, 47.21911139699662, 64.35298689949876, 65.81133658501035], \"Category\": [\"Default\", \"Default\", \"Default\", \"Default\", \"Default\", \"Default\", \"Default\", \"Default\", \"Default\", \"Default\", \"Default\", \"Default\", \"Default\", \"Default\", \"Default\", \"Default\", \"Default\", \"Default\", \"Default\", \"Default\", \"Default\", \"Default\", \"Default\", \"Default\", \"Default\", \"Default\", \"Default\", \"Default\", \"Default\", \"Default\", \"Topic1\", \"Topic1\", \"Topic1\", \"Topic1\", \"Topic1\", \"Topic1\", \"Topic1\", \"Topic1\", \"Topic1\", \"Topic1\", \"Topic1\", \"Topic1\", \"Topic1\", \"Topic1\", \"Topic1\", \"Topic1\", \"Topic1\", \"Topic1\", \"Topic1\", \"Topic1\", \"Topic1\", \"Topic1\", \"Topic1\", \"Topic1\", \"Topic1\", \"Topic1\", \"Topic1\", \"Topic1\", \"Topic1\", \"Topic1\", \"Topic1\", \"Topic2\", \"Topic2\", \"Topic2\", \"Topic2\", \"Topic2\", \"Topic2\", \"Topic2\", \"Topic2\", \"Topic2\", \"Topic2\", \"Topic2\", \"Topic2\", \"Topic2\", \"Topic2\", \"Topic2\", \"Topic2\", \"Topic2\", \"Topic2\", \"Topic2\", \"Topic2\", \"Topic2\", \"Topic2\", \"Topic2\", \"Topic2\", \"Topic2\", \"Topic2\", \"Topic2\", \"Topic2\", \"Topic2\", \"Topic2\", \"Topic2\", \"Topic3\", \"Topic3\", \"Topic3\", \"Topic3\", \"Topic3\", \"Topic3\", \"Topic3\", \"Topic3\", \"Topic3\", \"Topic3\", \"Topic3\", \"Topic3\", \"Topic3\", \"Topic3\", \"Topic3\", \"Topic3\", \"Topic3\", \"Topic3\", \"Topic3\", \"Topic3\", \"Topic3\", \"Topic3\", \"Topic3\", \"Topic3\", \"Topic3\", \"Topic3\", \"Topic3\", \"Topic3\", \"Topic3\", \"Topic3\", \"Topic3\", \"Topic4\", \"Topic4\", \"Topic4\", \"Topic4\", \"Topic4\", \"Topic4\", \"Topic4\", \"Topic4\", \"Topic4\", \"Topic4\", \"Topic4\", \"Topic4\", \"Topic4\", \"Topic4\", \"Topic4\", \"Topic4\", \"Topic4\", \"Topic4\", \"Topic4\", \"Topic4\", \"Topic4\", \"Topic4\", \"Topic4\", \"Topic4\", \"Topic4\", \"Topic4\", \"Topic4\", \"Topic4\", \"Topic4\", \"Topic4\", \"Topic4\", \"Topic5\", \"Topic5\", \"Topic5\", \"Topic5\", \"Topic5\", \"Topic5\", \"Topic5\", \"Topic5\", \"Topic5\", \"Topic5\", \"Topic5\", \"Topic5\", \"Topic5\", \"Topic5\", \"Topic5\", \"Topic5\", \"Topic5\", \"Topic5\", \"Topic5\", \"Topic5\", \"Topic5\", \"Topic5\", \"Topic5\", \"Topic5\", \"Topic5\", \"Topic5\", \"Topic5\", \"Topic5\", \"Topic5\", \"Topic5\", \"Topic5\"], \"logprob\": [30.0, 29.0, 28.0, 27.0, 26.0, 25.0, 24.0, 23.0, 22.0, 21.0, 20.0, 19.0, 18.0, 17.0, 16.0, 15.0, 14.0, 13.0, 12.0, 11.0, 10.0, 9.0, 8.0, 7.0, 6.0, 5.0, 4.0, 3.0, 2.0, 1.0, -2.0279, -2.2081, -2.2821, -2.2942, -2.5527, -2.6491, -2.6897, -1.6772, -3.3959, -2.9048, -3.7355, -4.0983, -4.3983, -7.3852, -7.3834, -7.3919, -7.3851, -7.3812, -7.3881, -7.3903, -7.3861, -7.39, -7.387, -7.3805, -7.3834, -7.3914, -7.3849, -7.3862, -7.3843, -7.3845, -7.3713, -1.8084, -1.8547, -1.8869, -2.1899, -2.228, -2.3542, -2.0794, -3.0217, -3.767, -7.2369, -7.2369, -7.2283, -7.2318, -7.2388, -7.2338, -7.2296, -7.238, -7.2211, -7.2308, -6.6419, -7.2361, -7.2359, -7.2342, -7.238, -7.2329, -7.2336, -7.2373, -7.2373, -7.1509, -7.187, -7.2338, -1.5984, -1.8067, -1.8088, -1.9827, -2.3533, -2.4902, -2.8739, -2.7995, -4.0239, -7.0639, -7.064, -7.062, -7.0586, -7.0629, -7.0541, -7.0649, -7.0597, -7.0552, -7.0586, -7.0604, -7.0606, -7.0638, -7.0595, -7.0591, -7.06, -7.0599, -7.0592, -7.0594, -7.0561, -7.0575, -7.0566, -1.6399, -1.6673, -1.7504, -1.9634, -1.8522, -2.8311, -3.1304, -4.0229, -5.6734, -6.9011, -6.9012, -6.9007, -6.8608, -6.8994, -6.8931, -6.8968, -6.8927, -6.9007, -6.8966, -6.8939, -6.8987, -6.9017, -6.896, -6.8941, -6.897, -6.8854, -6.8959, -6.901, -6.8967, -6.8936, -6.8973, -1.3148, -1.46, -1.5981, -1.6478, -2.6528, -6.6741, -6.6739, -6.0715, -6.663, -6.6753, -6.6644, -6.6655, -6.6758, -6.6706, -6.6619, -6.6703, -6.6708, -6.6687, -6.6626, -6.6716, -6.675, -6.6672, -6.6731, -6.6698, -6.6735, -6.6737, -6.6744, -6.6722, -6.6664, -6.666, -6.6617], \"loglift\": [30.0, 29.0, 28.0, 27.0, 26.0, 25.0, 24.0, 23.0, 22.0, 21.0, 20.0, 19.0, 18.0, 17.0, 16.0, 15.0, 14.0, 13.0, 12.0, 11.0, 10.0, 9.0, 8.0, 7.0, 6.0, 5.0, 4.0, 3.0, 2.0, 1.0, 1.3642, 1.3601, 1.3581, 1.3577, 1.3498, 1.3465, 1.3449, 1.2185, 0.0958, -0.0315, -0.1362, -0.5346, -0.9215, -3.6693, -3.7043, -3.737, -3.8032, -3.8848, -3.9403, -3.9434, -3.9742, -3.9801, -4.0083, -4.0151, -4.0314, -4.0527, -4.0725, -4.0796, -4.179, -4.2151, -4.221, 1.4981, 1.4972, 1.4918, 1.4893, 1.488, 1.2451, 0.7939, 0.4551, -0.2033, -3.2023, -3.2413, -3.3259, -3.5798, -3.5839, -3.5936, -3.6477, -3.6697, -3.7293, -3.7344, -3.7462, -3.7883, -3.7889, -3.8224, -3.8281, -3.8408, -3.8682, -3.8986, -3.9249, -3.9816, -3.9817, -4.0835, 1.6069, 1.6032, 1.6031, 1.5991, 1.2104, 0.9866, 0.6178, 0.0738, -0.8736, -3.0293, -3.0685, -3.1595, -3.3427, -3.3838, -3.4021, -3.4099, -3.4194, -3.456, -3.4904, -3.5641, -3.6129, -3.6169, -3.6675, -3.6804, -3.6946, -3.7079, -3.7205, -3.7471, -3.7495, -3.8882, -4.1609, 1.6988, 1.6982, 1.6966, 1.6916, 1.2981, 0.6606, -0.2347, -1.1496, -2.1966, -2.8665, -2.9056, -2.9982, -3.1449, -3.2202, -3.2412, -3.2565, -3.2935, -3.3189, -3.3284, -3.3301, -3.4023, -3.4539, -3.4841, -3.4842, -3.5049, -3.5066, -3.5439, -3.5887, -3.5901, -3.6883, -3.7279, 1.8545, 1.8524, 1.8497, 1.8486, 0.4975, -2.6395, -2.6783, -2.6927, -2.7605, -2.9594, -2.9853, -3.0135, -3.0208, -3.0303, -3.0626, -3.0885, -3.1026, -3.105, -3.1709, -3.1948, -3.2281, -3.2553, -3.2632, -3.2777, -3.308, -3.3217, -3.3357, -3.3656, -3.4611, -3.7703, -3.7884]}, \"token.table\": {\"Topic\": [1, 1, 2, 3, 4, 1, 2, 3, 4, 4, 2, 1, 3, 4, 4, 4, 1, 1, 1, 4, 5, 1, 1, 5, 1, 2, 3, 2, 5, 3, 3, 4, 5, 2, 2, 1, 2, 3, 4, 2, 3, 1, 5, 3, 1], \"Freq\": [0.9742031810835966, 0.2431192075750103, 0.4862384151500206, 0.212729306628134, 0.06077980189375257, 0.21981542706832027, 0.7536528928056695, 0.9894246219410824, 0.992210391408843, 0.9628843086513095, 0.9809489796372065, 0.2820157246011309, 0.36662044198147015, 0.338418869521357, 0.9707817539236488, 0.9693710489019499, 0.9802159841898791, 0.9706925536803885, 0.8391218900893099, 0.1398536483482183, 0.9900051972520065, 0.9599616066054102, 0.9780862739021021, 0.9806131748895793, 0.15153850155926576, 0.1818462018711189, 0.6667694068607694, 0.9842726825220846, 0.9916678763432486, 0.9875630443330805, 0.08017577233345312, 0.6614501217509883, 0.2605712600837226, 0.9880989586243277, 0.982350491009285, 0.11113435016210932, 0.33340305048632796, 0.5278881632700193, 0.02778358754052733, 0.9864305615787452, 0.9874479541143661, 0.9815103656552375, 0.9716111192390345, 0.9741818225517442, 0.9700104892767605], \"Term\": [\"acquisition\", \"asset\", \"asset\", \"asset\", \"asset\", \"base\", \"base\", \"benefit\", \"canadian\", \"canadian dollar\", \"cash\", \"cost\", \"cost\", \"cost\", \"dollar\", \"expense\", \"fair\", \"fair value\", \"financial\", \"financial\", \"follow\", \"include\", \"instrument\", \"interest\", \"liability\", \"liability\", \"liability\", \"loss\", \"management\", \"net\", \"plan\", \"plan\", \"plan\", \"profit\", \"rate\", \"recognize\", \"recognize\", \"recognize\", \"recognize\", \"risk\", \"service\", \"statement\", \"subsidiary\", \"term\", \"value\"]}, \"R\": 30, \"lambda.step\": 0.01, \"plot.opts\": {\"xlab\": \"PC1\", \"ylab\": \"PC2\"}, \"topic.order\": [2, 4, 1, 3, 5]};\n",
              "\n",
              "function LDAvis_load_lib(url, callback){\n",
              "  var s = document.createElement('script');\n",
              "  s.src = url;\n",
              "  s.async = true;\n",
              "  s.onreadystatechange = s.onload = callback;\n",
              "  s.onerror = function(){console.warn(\"failed to load library \" + url);};\n",
              "  document.getElementsByTagName(\"head\")[0].appendChild(s);\n",
              "}\n",
              "\n",
              "if(typeof(LDAvis) !== \"undefined\"){\n",
              "   // already loaded: just create the visualization\n",
              "   !function(LDAvis){\n",
              "       new LDAvis(\"#\" + \"ldavis_el2341405307857094163284022679\", ldavis_el2341405307857094163284022679_data);\n",
              "   }(LDAvis);\n",
              "}else if(typeof define === \"function\" && define.amd){\n",
              "   // require.js is available: use it to load d3/LDAvis\n",
              "   require.config({paths: {d3: \"https://cdnjs.cloudflare.com/ajax/libs/d3/3.5.5/d3.min\"}});\n",
              "   require([\"d3\"], function(d3){\n",
              "      window.d3 = d3;\n",
              "      LDAvis_load_lib(\"https://cdn.rawgit.com/bmabey/pyLDAvis/files/ldavis.v1.0.0.js\", function(){\n",
              "        new LDAvis(\"#\" + \"ldavis_el2341405307857094163284022679\", ldavis_el2341405307857094163284022679_data);\n",
              "      });\n",
              "    });\n",
              "}else{\n",
              "    // require.js not available: dynamically load d3 & LDAvis\n",
              "    LDAvis_load_lib(\"https://cdnjs.cloudflare.com/ajax/libs/d3/3.5.5/d3.min.js\", function(){\n",
              "         LDAvis_load_lib(\"https://cdn.rawgit.com/bmabey/pyLDAvis/files/ldavis.v1.0.0.js\", function(){\n",
              "                 new LDAvis(\"#\" + \"ldavis_el2341405307857094163284022679\", ldavis_el2341405307857094163284022679_data);\n",
              "            })\n",
              "         });\n",
              "}\n",
              "</script>"
            ],
            "text/plain": [
              "PreparedData(topic_coordinates=              x         y  topics  cluster       Freq\n",
              "topic                                                \n",
              "1      0.136427  0.178978       1        1  25.023800\n",
              "3      0.225695 -0.211442       2        1  21.926918\n",
              "0      0.133729 -0.041781       3        1  19.705861\n",
              "2     -0.138793  0.253826       4        1  17.942647\n",
              "4     -0.357059 -0.179581       5        1  15.400774, topic_info=          Term       Freq      Total Category  logprob  loglift\n",
              "16    interest  48.000000  48.000000  Default  30.0000  30.0000\n",
              "13      follow  42.000000  42.000000  Default  29.0000  29.0000\n",
              "29        term  47.000000  47.000000  Default  28.0000  28.0000\n",
              "4     canadian  41.000000  41.000000  Default  27.0000  27.0000\n",
              "28  subsidiary  37.000000  37.000000  Default  26.0000  26.0000\n",
              "..         ...        ...        ...      ...      ...      ...\n",
              "4     canadian   0.226498  41.321881   Topic5  -6.6744  -3.3357\n",
              "18        loss   0.226987  42.671102   Topic5  -6.6722  -3.3656\n",
              "29        term   0.228309  47.219111   Topic5  -6.6664  -3.4611\n",
              "12   financial   0.228398  64.352987   Topic5  -6.6660  -3.7703\n",
              "1        asset   0.229389  65.811337   Topic5  -6.6617  -3.7884\n",
              "\n",
              "[185 rows x 6 columns], token_table=      Topic      Freq             Term\n",
              "term                                  \n",
              "0         1  0.974203      acquisition\n",
              "1         1  0.243119            asset\n",
              "1         2  0.486238            asset\n",
              "1         3  0.212729            asset\n",
              "1         4  0.060780            asset\n",
              "2         1  0.219815             base\n",
              "2         2  0.753653             base\n",
              "3         3  0.989425          benefit\n",
              "4         4  0.992210         canadian\n",
              "5         4  0.962884  canadian dollar\n",
              "6         2  0.980949             cash\n",
              "7         1  0.282016             cost\n",
              "7         3  0.366620             cost\n",
              "7         4  0.338419             cost\n",
              "8         4  0.970782           dollar\n",
              "9         4  0.969371          expense\n",
              "10        1  0.980216             fair\n",
              "11        1  0.970693       fair value\n",
              "12        1  0.839122        financial\n",
              "12        4  0.139854        financial\n",
              "13        5  0.990005           follow\n",
              "14        1  0.959962          include\n",
              "15        1  0.978086       instrument\n",
              "16        5  0.980613         interest\n",
              "17        1  0.151539        liability\n",
              "17        2  0.181846        liability\n",
              "17        3  0.666769        liability\n",
              "18        2  0.984273             loss\n",
              "19        5  0.991668       management\n",
              "20        3  0.987563              net\n",
              "21        3  0.080176             plan\n",
              "21        4  0.661450             plan\n",
              "21        5  0.260571             plan\n",
              "22        2  0.988099           profit\n",
              "23        2  0.982350             rate\n",
              "24        1  0.111134        recognize\n",
              "24        2  0.333403        recognize\n",
              "24        3  0.527888        recognize\n",
              "24        4  0.027784        recognize\n",
              "25        2  0.986431             risk\n",
              "26        3  0.987448          service\n",
              "27        1  0.981510        statement\n",
              "28        5  0.971611       subsidiary\n",
              "29        3  0.974182             term\n",
              "30        1  0.970010            value, R=30, lambda_step=0.01, plot_opts={'xlab': 'PC1', 'ylab': 'PC2'}, topic_order=[2, 4, 1, 3, 5])"
            ]
          },
          "metadata": {
            "tags": []
          },
          "execution_count": 57
        }
      ]
    },
    {
      "cell_type": "code",
      "metadata": {
        "id": "oPi0NgdjhKV2",
        "outputId": "af49d0ba-11ea-44c3-8d57-3a196e54f99f",
        "colab": {
          "base_uri": "https://localhost:8080/",
          "height": 102
        }
      },
      "source": [
        "# Showing the words for each topic\n",
        "n_words_to_show = 8\n",
        "display_topics(lda, tfidf_vectorizer.get_feature_names(), n_words_to_show)"
      ],
      "execution_count": null,
      "outputs": [
        {
          "output_type": "stream",
          "text": [
            "Topic 0: service acquisition include rate cost liability asset term\n",
            "Topic 1: share canadian dollar year canadian dollar base management plan\n",
            "Topic 2: asset loss recognize net benefit profit liability follow\n",
            "Topic 3: financial term interest expense statement corporation subsidiary risk\n",
            "Topic 4: corporation august cash value plan end fair year\n"
          ],
          "name": "stdout"
        }
      ]
    },
    {
      "cell_type": "code",
      "metadata": {
        "id": "b233PLA2r9Yk"
      },
      "source": [
        "ticker = yf.Ticker('KO')\n",
        "temp = pd.DataFrame.transpose(ticker.sustainability)\n",
        "temp['company_ticker'] = str(ticker.ticker)"
      ],
      "execution_count": null,
      "outputs": []
    },
    {
      "cell_type": "code",
      "metadata": {
        "id": "6i9Ra-YVvxpK",
        "outputId": "db524a62-115c-4e0b-b2ba-58cb008744c9",
        "colab": {
          "base_uri": "https://localhost:8080/",
          "height": 476
        }
      },
      "source": [
        ""
      ],
      "execution_count": null,
      "outputs": [
        {
          "output_type": "execute_result",
          "data": {
            "text/plain": [
              "{'adult': False,\n",
              " 'alcoholic': False,\n",
              " 'animalTesting': True,\n",
              " 'catholic': False,\n",
              " 'coal': False,\n",
              " 'controversialWeapons': False,\n",
              " 'environmentPercentile': None,\n",
              " 'environmentScore': 8.38,\n",
              " 'esgPerformance': 'AVG_PERF',\n",
              " 'furLeather': False,\n",
              " 'gambling': False,\n",
              " 'gmo': False,\n",
              " 'governancePercentile': None,\n",
              " 'governanceScore': 5.05,\n",
              " 'highestControversy': 3,\n",
              " 'militaryContract': False,\n",
              " 'nuclear': False,\n",
              " 'palmOil': False,\n",
              " 'peerCount': 94,\n",
              " 'peerGroup': 'Food Products',\n",
              " 'percentile': 35.4,\n",
              " 'pesticides': False,\n",
              " 'smallArms': False,\n",
              " 'socialPercentile': None,\n",
              " 'socialScore': 10.81,\n",
              " 'tobacco': False,\n",
              " 'totalEsg': 24.24}"
            ]
          },
          "metadata": {
            "tags": []
          },
          "execution_count": 85
        }
      ]
    },
    {
      "cell_type": "code",
      "metadata": {
        "id": "Qxvqvil7vy3J"
      },
      "source": [
        ""
      ],
      "execution_count": null,
      "outputs": []
    }
  ]
}