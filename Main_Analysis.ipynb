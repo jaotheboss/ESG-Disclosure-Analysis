{
  "nbformat": 4,
  "nbformat_minor": 0,
  "metadata": {
    "colab": {
      "name": "Main_Analysis.ipynb",
      "provenance": [],
      "collapsed_sections": [
        "4iARUteGn1ee",
        "IMANqXGVn45u",
        "WlSYB-ziIS74"
      ],
      "mount_file_id": "1L-K3VtVW-RRNgyB_TiuMeH7UOb30vMbV",
      "authorship_tag": "ABX9TyNgiXQtFqasIiXvRELG6IB0",
      "include_colab_link": true
    },
    "kernelspec": {
      "name": "python3",
      "display_name": "Python 3"
    }
  },
  "cells": [
    {
      "cell_type": "markdown",
      "metadata": {
        "id": "view-in-github",
        "colab_type": "text"
      },
      "source": [
        "<a href=\"https://colab.research.google.com/github/jaotheboss/ESG-Disclosure-Analysis/blob/preprocessing-tweaks/Main_Analysis.ipynb\" target=\"_parent\"><img src=\"https://colab.research.google.com/assets/colab-badge.svg\" alt=\"Open In Colab\"/></a>"
      ]
    },
    {
      "cell_type": "markdown",
      "metadata": {
        "id": "JMZMNi_roGlt"
      },
      "source": [
        "# Main Analysis for DSA4264\n",
        "\n",
        "**Task**:\n",
        "Explore the relationship between a firm's environmental disclosure and financial performance. \n",
        "\n",
        "\n",
        "**Tasks**:\n",
        "1. Extract out the text data of the firms that have available financial metrics\n",
        "2. Filter out the environmental disclosures (sentence that contains the keywords or n-grams) from the text data\n",
        "3. Concatenate all the sentences from each document and have each document form the observations of a corpus\n",
        "4. Perform LDA or STM on the corpus\n",
        "5. Analyse the results:\n",
        "    \n",
        "    - Between rating 1 and 5\n",
        "    - Across the years\n",
        "    - Both"
      ]
    },
    {
      "cell_type": "markdown",
      "metadata": {
        "id": "4iARUteGn1ee"
      },
      "source": [
        "## Setting up the modules and functions"
      ]
    },
    {
      "cell_type": "code",
      "metadata": {
        "id": "D9vH7QZ_dGoa",
        "outputId": "65dc02db-d1e8-4c92-b8ac-9d6035cc3547",
        "colab": {
          "base_uri": "https://localhost:8080/"
        }
      },
      "source": [
        "# setting up the work directory\n",
        "import os \n",
        "os.chdir('/content/drive/My Drive/School/NUS/Year 4 Sem 1/DSA4264/(TSX) Toronto')\n",
        "\n",
        "!pip install pyLDAvis\n",
        "!pip install pdfplumber\n",
        "\n",
        "import pandas as pd\n",
        "import numpy as np\n",
        "import seaborn as sns\n",
        "from tqdm import tqdm\n",
        "import re\n",
        "import spacy\n",
        "nlp = spacy.load('en_core_web_sm')\n",
        "from sklearn.feature_extraction.text import CountVectorizer, TfidfVectorizer\n",
        "from sklearn.decomposition import LatentDirichletAllocation # LDA\n",
        "import pyLDAvis\n",
        "pyLDAvis.enable_notebook()\n",
        "import pyLDAvis.sklearn\n",
        "import pdfplumber\n",
        "import multiprocessing as mp"
      ],
      "execution_count": 1,
      "outputs": [
        {
          "output_type": "stream",
          "text": [
            "Collecting pyLDAvis\n",
            "\u001b[?25l  Downloading https://files.pythonhosted.org/packages/a5/3a/af82e070a8a96e13217c8f362f9a73e82d61ac8fff3a2561946a97f96266/pyLDAvis-2.1.2.tar.gz (1.6MB)\n",
            "\u001b[K     |████████████████████████████████| 1.6MB 6.0MB/s \n",
            "\u001b[?25hRequirement already satisfied: wheel>=0.23.0 in /usr/local/lib/python3.6/dist-packages (from pyLDAvis) (0.35.1)\n",
            "Requirement already satisfied: numpy>=1.9.2 in /usr/local/lib/python3.6/dist-packages (from pyLDAvis) (1.18.5)\n",
            "Requirement already satisfied: scipy>=0.18.0 in /usr/local/lib/python3.6/dist-packages (from pyLDAvis) (1.4.1)\n",
            "Requirement already satisfied: pandas>=0.17.0 in /usr/local/lib/python3.6/dist-packages (from pyLDAvis) (1.1.3)\n",
            "Requirement already satisfied: joblib>=0.8.4 in /usr/local/lib/python3.6/dist-packages (from pyLDAvis) (0.17.0)\n",
            "Requirement already satisfied: jinja2>=2.7.2 in /usr/local/lib/python3.6/dist-packages (from pyLDAvis) (2.11.2)\n",
            "Requirement already satisfied: numexpr in /usr/local/lib/python3.6/dist-packages (from pyLDAvis) (2.7.1)\n",
            "Requirement already satisfied: pytest in /usr/local/lib/python3.6/dist-packages (from pyLDAvis) (3.6.4)\n",
            "Requirement already satisfied: future in /usr/local/lib/python3.6/dist-packages (from pyLDAvis) (0.16.0)\n",
            "Collecting funcy\n",
            "  Downloading https://files.pythonhosted.org/packages/66/89/479de0afbbfb98d1c4b887936808764627300208bb771fcd823403645a36/funcy-1.15-py2.py3-none-any.whl\n",
            "Requirement already satisfied: pytz>=2017.2 in /usr/local/lib/python3.6/dist-packages (from pandas>=0.17.0->pyLDAvis) (2018.9)\n",
            "Requirement already satisfied: python-dateutil>=2.7.3 in /usr/local/lib/python3.6/dist-packages (from pandas>=0.17.0->pyLDAvis) (2.8.1)\n",
            "Requirement already satisfied: MarkupSafe>=0.23 in /usr/local/lib/python3.6/dist-packages (from jinja2>=2.7.2->pyLDAvis) (1.1.1)\n",
            "Requirement already satisfied: pluggy<0.8,>=0.5 in /usr/local/lib/python3.6/dist-packages (from pytest->pyLDAvis) (0.7.1)\n",
            "Requirement already satisfied: attrs>=17.4.0 in /usr/local/lib/python3.6/dist-packages (from pytest->pyLDAvis) (20.2.0)\n",
            "Requirement already satisfied: py>=1.5.0 in /usr/local/lib/python3.6/dist-packages (from pytest->pyLDAvis) (1.9.0)\n",
            "Requirement already satisfied: atomicwrites>=1.0 in /usr/local/lib/python3.6/dist-packages (from pytest->pyLDAvis) (1.4.0)\n",
            "Requirement already satisfied: more-itertools>=4.0.0 in /usr/local/lib/python3.6/dist-packages (from pytest->pyLDAvis) (8.5.0)\n",
            "Requirement already satisfied: setuptools in /usr/local/lib/python3.6/dist-packages (from pytest->pyLDAvis) (50.3.2)\n",
            "Requirement already satisfied: six>=1.10.0 in /usr/local/lib/python3.6/dist-packages (from pytest->pyLDAvis) (1.15.0)\n",
            "Building wheels for collected packages: pyLDAvis\n",
            "  Building wheel for pyLDAvis (setup.py) ... \u001b[?25l\u001b[?25hdone\n",
            "  Created wheel for pyLDAvis: filename=pyLDAvis-2.1.2-py2.py3-none-any.whl size=97712 sha256=cf4b5260f5d9f002fb9a158eecf8b1d3a73b2cf31a1c05b32442e2dd045ff677\n",
            "  Stored in directory: /root/.cache/pip/wheels/98/71/24/513a99e58bb6b8465bae4d2d5e9dba8f0bef8179e3051ac414\n",
            "Successfully built pyLDAvis\n",
            "Installing collected packages: funcy, pyLDAvis\n",
            "Successfully installed funcy-1.15 pyLDAvis-2.1.2\n",
            "Collecting pdfplumber\n",
            "\u001b[?25l  Downloading https://files.pythonhosted.org/packages/36/90/0e3da2c9a963af03e1cd66d568eacb599c50b9da7b87f7ddeff9f5e73312/pdfplumber-0.5.24.tar.gz (42kB)\n",
            "\u001b[K     |████████████████████████████████| 51kB 2.5MB/s \n",
            "\u001b[?25hCollecting pdfminer.six==20200517\n",
            "\u001b[?25l  Downloading https://files.pythonhosted.org/packages/b0/c0/ef1c8758bbd86edb10b5443700aac97d0ba27a9ca2e7696db8cd1fdbd5a8/pdfminer.six-20200517-py3-none-any.whl (5.6MB)\n",
            "\u001b[K     |████████████████████████████████| 5.6MB 10.6MB/s \n",
            "\u001b[?25hRequirement already satisfied: Pillow>=7.0.0 in /usr/local/lib/python3.6/dist-packages (from pdfplumber) (7.0.0)\n",
            "Collecting Wand\n",
            "\u001b[?25l  Downloading https://files.pythonhosted.org/packages/21/4d/0c33672e992ed80983895b36d3fbc3203f8e4a0fd36eb74ea07a563ae3ad/Wand-0.6.3-py2.py3-none-any.whl (133kB)\n",
            "\u001b[K     |████████████████████████████████| 143kB 48.2MB/s \n",
            "\u001b[?25hRequirement already satisfied: chardet; python_version > \"3.0\" in /usr/local/lib/python3.6/dist-packages (from pdfminer.six==20200517->pdfplumber) (3.0.4)\n",
            "Collecting pycryptodome\n",
            "\u001b[?25l  Downloading https://files.pythonhosted.org/packages/2b/6f/7e38d7c97fbbc3987539c804282c33f56b6b07381bf2390deead696440c5/pycryptodome-3.9.9-cp36-cp36m-manylinux1_x86_64.whl (13.7MB)\n",
            "\u001b[K     |████████████████████████████████| 13.7MB 318kB/s \n",
            "\u001b[?25hRequirement already satisfied: sortedcontainers in /usr/local/lib/python3.6/dist-packages (from pdfminer.six==20200517->pdfplumber) (2.2.2)\n",
            "Building wheels for collected packages: pdfplumber\n",
            "  Building wheel for pdfplumber (setup.py) ... \u001b[?25l\u001b[?25hdone\n",
            "  Created wheel for pdfplumber: filename=pdfplumber-0.5.24-cp36-none-any.whl size=31125 sha256=ca2b47d046d4893bcab03a507ad5693a4ea0054ac8dd3df11405488e6116fcba\n",
            "  Stored in directory: /root/.cache/pip/wheels/42/e7/9d/783e40e447a240ace74b520158a133175853f3c3b2999f4520\n",
            "Successfully built pdfplumber\n",
            "Installing collected packages: pycryptodome, pdfminer.six, Wand, pdfplumber\n",
            "Successfully installed Wand-0.6.3 pdfminer.six-20200517 pdfplumber-0.5.24 pycryptodome-3.9.9\n"
          ],
          "name": "stdout"
        }
      ]
    },
    {
      "cell_type": "code",
      "metadata": {
        "id": "xbe4MynXnX0V"
      },
      "source": [
        "# defining functions\n",
        "def _PREPROCESS(text, min_char_len = 3, max_char_len = 15):\n",
        "    \"\"\"\n",
        "    Function:     Preprocesses and cleans text\n",
        "                    \n",
        "    Input:        Text array\n",
        "    \n",
        "    Returns:      A column of processed text\n",
        "    \"\"\"\n",
        "    contractions = {\n",
        "            \"ain't\": \"am not / are not\",\n",
        "            \"aren't\": \"are not / am not\",\n",
        "            \"can't\": \"cannot\",\n",
        "            \"can't've\": \"cannot have\",\n",
        "            \"'cause\": \"because\",\n",
        "            \"could've\": \"could have\",\n",
        "            \"couldn't\": \"could not\",\n",
        "            \"couldn't've\": \"could not have\",\n",
        "            \"didn't\": \"did not\",\n",
        "            \"doesn't\": \"does not\",\n",
        "            \"don't\": \"do not\",\n",
        "            \"hadn't\": \"had not\",\n",
        "            \"hadn't've\": \"had not have\",\n",
        "            \"hasn't\": \"has not\",\n",
        "            \"haven't\": \"have not\",\n",
        "            \"he'd\": \"he had / he would\",\n",
        "            \"he'd've\": \"he would have\",\n",
        "            \"he'll\": \"he shall / he will\",\n",
        "            \"he'll've\": \"he shall have / he will have\",\n",
        "            \"he's\": \"he has / he is\",\n",
        "            \"how'd\": \"how did\",\n",
        "            \"how'd'y\": \"how do you\",\n",
        "            \"how'll\": \"how will\",\n",
        "            \"how's\": \"how has / how is\",\n",
        "            \"i'd\": \"I had / I would\",\n",
        "            \"i'd've\": \"I would have\",\n",
        "            \"i'll\": \"I shall / I will\",\n",
        "            \"i'll've\": \"I shall have / I will have\",\n",
        "            \"i'm\": \"I am\",\n",
        "            \"i've\": \"I have\",\n",
        "            \"isn't\": \"is not\",\n",
        "            \"it'd\": \"it had / it would\",\n",
        "            \"it'd've\": \"it would have\",\n",
        "            \"it'll\": \"it shall / it will\",\n",
        "            \"it'll've\": \"it shall have / it will have\",\n",
        "            \"it's\": \"it has / it is\",\n",
        "            \"let's\": \"let us\",\n",
        "            \"ma'am\": \"madam\",\n",
        "            \"mayn't\": \"may not\",\n",
        "            \"might've\": \"might have\",\n",
        "            \"mightn't\": \"might not\",\n",
        "            \"mightn't've\": \"might not have\",\n",
        "            \"must've\": \"must have\",\n",
        "            \"mustn't\": \"must not\",\n",
        "            \"mustn't've\": \"must not have\",\n",
        "            \"needn't\": \"need not\",\n",
        "            \"needn't've\": \"need not have\",\n",
        "            \"o'clock\": \"of the clock\",\n",
        "            \"oughtn't\": \"ought not\",\n",
        "            \"oughtn't've\": \"ought not have\",\n",
        "            \"shan't\": \"shall not\",\n",
        "            \"sha'n't\": \"shall not\",\n",
        "            \"shan't've\": \"shall not have\",\n",
        "            \"she'd\": \"she had / she would\",\n",
        "            \"she'd've\": \"she would have\",\n",
        "            \"she'll\": \"she shall / she will\",\n",
        "            \"she'll've\": \"she shall have / she will have\",\n",
        "            \"she's\": \"she has / she is\",\n",
        "            \"should've\": \"should have\",\n",
        "            \"shouldn't\": \"should not\",\n",
        "            \"shouldn't've\": \"should not have\",\n",
        "            \"so've\": \"so have\",\n",
        "            \"so's\": \"so as / so is\",\n",
        "            \"that'd\": \"that would / that had\",\n",
        "            \"that'd've\": \"that would have\",\n",
        "            \"that's\": \"that has / that is\",\n",
        "            \"there'd\": \"there had / there would\",\n",
        "            \"there'd've\": \"there would have\",\n",
        "            \"there's\": \"there has / there is\",\n",
        "            \"they'd\": \"they had / they would\",\n",
        "            \"they'd've\": \"they would have\",\n",
        "            \"they'll\": \"they shall / they will\",\n",
        "            \"they'll've\": \"they shall have / they will have\",\n",
        "            \"they're\": \"they are\",\n",
        "            \"they've\": \"they have\",\n",
        "            \"to've\": \"to have\",\n",
        "            \"wasn't\": \"was not\",\n",
        "            \"we'd\": \"we had / we would\",\n",
        "            \"we'd've\": \"we would have\",\n",
        "            \"we'll\": \"we will\",\n",
        "            \"we'll've\": \"we will have\",\n",
        "            \"we're\": \"we are\",\n",
        "            \"we've\": \"we have\",\n",
        "            \"weren't\": \"were not\",\n",
        "            \"what'll\": \"what shall / what will\",\n",
        "            \"what'll've\": \"what shall have / what will have\",\n",
        "            \"what're\": \"what are\",\n",
        "            \"what's\": \"what has / what is\",\n",
        "            \"what've\": \"what have\",\n",
        "            \"when's\": \"when has / when is\",\n",
        "            \"when've\": \"when have\",\n",
        "            \"where'd\": \"where did\",\n",
        "            \"where's\": \"where has / where is\",\n",
        "            \"where've\": \"where have\",\n",
        "            \"who'll\": \"who shall / who will\",\n",
        "            \"who'll've\": \"who shall have / who will have\",\n",
        "            \"who's\": \"who has / who is\",\n",
        "            \"who've\": \"who have\",\n",
        "            \"why's\": \"why has / why is\",\n",
        "            \"why've\": \"why have\",\n",
        "            \"will've\": \"will have\",\n",
        "            \"won't\": \"will not\",\n",
        "            \"won't've\": \"will not have\",\n",
        "            \"would've\": \"would have\",\n",
        "            \"wouldn't\": \"would not\",\n",
        "            \"wouldn't've\": \"would not have\",\n",
        "            \"y'all\": \"you all\",\n",
        "            \"y'all'd\": \"you all would\",\n",
        "            \"y'all'd've\": \"you all would have\",\n",
        "            \"y'all're\": \"you all are\",\n",
        "            \"y'all've\": \"you all have\",\n",
        "            \"you'd\": \"you had / you would\",\n",
        "            \"you'd've\": \"you would have\",\n",
        "            \"you'll\": \"you shall / you will\",\n",
        "            \"you'll've\": \"you shall have / you will have\",\n",
        "            \"you're\": \"you are\",\n",
        "            \"you've\": \"you have\"}\n",
        "\n",
        "    def contract(text):\n",
        "        for word in text.split():\n",
        "            if word.lower() in contractions:\n",
        "                text = text.replace(word, contractions[word.lower()])\n",
        "        return text\n",
        "    \n",
        "    def preprocess(text):\n",
        "        # throw away numbers\n",
        "        text = re.sub(r\"@\\S+|https?:\\S+|http?:\\S|[^A-Za-z]+\", ' ', str(text).lower()).strip() \n",
        "        doc = nlp(text)\n",
        "        text = [token.lemma_ for token in doc if token.is_stop == False and len(token) >= min_char_len and len(token) <= max_char_len]\n",
        "        new_text = ' '.join(text)\n",
        "        return new_text\n",
        "       \n",
        "    text = text.apply(contract).apply(preprocess)\n",
        "    return text\n",
        "\n",
        "def extract_pdf_text(file_name, min_sent_len = 10):\n",
        "    doc = []\n",
        "    try:\n",
        "        with pdfplumber.open(file_name) as pdf:\n",
        "            pages = pdf.pages\n",
        "            for i in pages:\n",
        "                page = i.extract_text()\n",
        "                if page:\n",
        "                    doc.extend([sentence.string for sentence in nlp(page).sents if len(sentence.text.split()) >= min_sent_len])\n",
        "    except:\n",
        "        doc.extend(['Unrecognized PDF!!!'])\n",
        "    doc = _PREPROCESS(pd.Series(doc))\n",
        "    return doc\n",
        "\n",
        "def get_top_k(df, vectorizer, k = 10):\n",
        "       \"\"\"get top k occuring words\"\"\"\n",
        "       vectorizer.fit(df)\n",
        "       counts = pd.DataFrame(vectorizer.transform(df).toarray())\n",
        "       counts.columns = vectorizer.get_feature_names()\n",
        "       counts = counts.apply(sum).sort_values(ascending = False)[:k]\n",
        "       sns.barplot(x = counts.values, y = counts.index)\n",
        "\n",
        "def display_topics(model, feature_names, no_top_words):\n",
        "    for topic_idx, topic in enumerate(model.components_):\n",
        "        print(\"Topic %d:\" % (topic_idx))\n",
        "        print(\", \".join([feature_names[i] for i in topic.argsort()[:-no_top_words - 1:-1]]))\n",
        "        print()"
      ],
      "execution_count": 100,
      "outputs": []
    },
    {
      "cell_type": "markdown",
      "metadata": {
        "id": "IMANqXGVn45u"
      },
      "source": [
        "## Preprocessing"
      ]
    },
    {
      "cell_type": "code",
      "metadata": {
        "id": "PelIgo4J0Alv"
      },
      "source": [
        "# getting the file names\n",
        "metadata = pd.read_csv('clustered_files_cleaned.csv')\n",
        "def quantiles(arr):\n",
        "    result = []\n",
        "    quads = [np.quantile(arr, 0.25*i) for i in range(1, 4)]\n",
        "    for i in arr:\n",
        "        if i <= quads[0]:\n",
        "            result.append(1)\n",
        "        elif i <= quads[1]:\n",
        "            result.append(2)\n",
        "        elif i <= quads[2]:\n",
        "            result.append(3)\n",
        "        else:\n",
        "            result.append(4)\n",
        "    return result\n",
        "metadata['rating_quarters'] = quantiles(metadata.earnings)"
      ],
      "execution_count": 3,
      "outputs": []
    },
    {
      "cell_type": "markdown",
      "metadata": {
        "id": "yZpHqy_74Vko"
      },
      "source": [
        "We will only be looking at the top and bottom 25% of the ratings. This is ensure that there is a discernible distinction in performance metric. By doing so, we hope to more clearly distinguish the aspects of an environmental disclosure that correlates with the financial metric"
      ]
    },
    {
      "cell_type": "code",
      "metadata": {
        "id": "gdEud_c30M9j",
        "outputId": "ebc68eaf-c05d-44f9-da4d-57e7cf54fda6",
        "colab": {
          "base_uri": "https://localhost:8080/",
          "height": 419
        }
      },
      "source": [
        "# filtering out by quarters\n",
        "filtered_metadata = metadata[['finalfilename', 'fileyear', 'rating_quarters']]\n",
        "filtered_metadata = filtered_metadata.loc[metadata.rating_quarters != 2, :]  \n",
        "filtered_metadata = filtered_metadata.loc[metadata.rating_quarters != 3, :]\n",
        "filtered_metadata.reset_index(drop = True, inplace = True)\n",
        "filtered_metadata"
      ],
      "execution_count": 4,
      "outputs": [
        {
          "output_type": "execute_result",
          "data": {
            "text/html": [
              "<div>\n",
              "<style scoped>\n",
              "    .dataframe tbody tr th:only-of-type {\n",
              "        vertical-align: middle;\n",
              "    }\n",
              "\n",
              "    .dataframe tbody tr th {\n",
              "        vertical-align: top;\n",
              "    }\n",
              "\n",
              "    .dataframe thead th {\n",
              "        text-align: right;\n",
              "    }\n",
              "</style>\n",
              "<table border=\"1\" class=\"dataframe\">\n",
              "  <thead>\n",
              "    <tr style=\"text-align: right;\">\n",
              "      <th></th>\n",
              "      <th>finalfilename</th>\n",
              "      <th>fileyear</th>\n",
              "      <th>rating_quarters</th>\n",
              "    </tr>\n",
              "  </thead>\n",
              "  <tbody>\n",
              "    <tr>\n",
              "      <th>0</th>\n",
              "      <td>TSX_7376__Absolute Software Corp___Active____(...</td>\n",
              "      <td>2018</td>\n",
              "      <td>4</td>\n",
              "    </tr>\n",
              "    <tr>\n",
              "      <th>1</th>\n",
              "      <td>TSX_7319__AcuityAds Holdings Inc___Active____(...</td>\n",
              "      <td>2018</td>\n",
              "      <td>1</td>\n",
              "    </tr>\n",
              "    <tr>\n",
              "      <th>2</th>\n",
              "      <td>TSX_1041__Alacer Gold Corp___Active____(2018-1...</td>\n",
              "      <td>2018</td>\n",
              "      <td>4</td>\n",
              "    </tr>\n",
              "    <tr>\n",
              "      <th>3</th>\n",
              "      <td>TSX_1041__Alexco Resource Corp___Active____(20...</td>\n",
              "      <td>2018</td>\n",
              "      <td>1</td>\n",
              "    </tr>\n",
              "    <tr>\n",
              "      <th>4</th>\n",
              "      <td>TSX_4449__Algoma Central Corp___Active____(201...</td>\n",
              "      <td>2018</td>\n",
              "      <td>1</td>\n",
              "    </tr>\n",
              "    <tr>\n",
              "      <th>...</th>\n",
              "      <td>...</td>\n",
              "      <td>...</td>\n",
              "      <td>...</td>\n",
              "    </tr>\n",
              "    <tr>\n",
              "      <th>236</th>\n",
              "      <td>TSX_3533__Total Energy Services Inc___Active__...</td>\n",
              "      <td>2015</td>\n",
              "      <td>4</td>\n",
              "    </tr>\n",
              "    <tr>\n",
              "      <th>237</th>\n",
              "      <td>TSX_1031__Trevali Mining Corp___Active____(201...</td>\n",
              "      <td>2015</td>\n",
              "      <td>4</td>\n",
              "    </tr>\n",
              "    <tr>\n",
              "      <th>238</th>\n",
              "      <td>TSX_6531__Wall Financial Corp___Active____(201...</td>\n",
              "      <td>2015</td>\n",
              "      <td>4</td>\n",
              "    </tr>\n",
              "    <tr>\n",
              "      <th>239</th>\n",
              "      <td>TSX_1021__Wallbridge Mining Company Ltd___Acti...</td>\n",
              "      <td>2015</td>\n",
              "      <td>4</td>\n",
              "    </tr>\n",
              "    <tr>\n",
              "      <th>240</th>\n",
              "      <td>TSX_9999__Well Health Technologies Corp___Acti...</td>\n",
              "      <td>2015</td>\n",
              "      <td>4</td>\n",
              "    </tr>\n",
              "  </tbody>\n",
              "</table>\n",
              "<p>241 rows × 3 columns</p>\n",
              "</div>"
            ],
            "text/plain": [
              "                                         finalfilename  ...  rating_quarters\n",
              "0    TSX_7376__Absolute Software Corp___Active____(...  ...                4\n",
              "1    TSX_7319__AcuityAds Holdings Inc___Active____(...  ...                1\n",
              "2    TSX_1041__Alacer Gold Corp___Active____(2018-1...  ...                4\n",
              "3    TSX_1041__Alexco Resource Corp___Active____(20...  ...                1\n",
              "4    TSX_4449__Algoma Central Corp___Active____(201...  ...                1\n",
              "..                                                 ...  ...              ...\n",
              "236  TSX_3533__Total Energy Services Inc___Active__...  ...                4\n",
              "237  TSX_1031__Trevali Mining Corp___Active____(201...  ...                4\n",
              "238  TSX_6531__Wall Financial Corp___Active____(201...  ...                4\n",
              "239  TSX_1021__Wallbridge Mining Company Ltd___Acti...  ...                4\n",
              "240  TSX_9999__Well Health Technologies Corp___Acti...  ...                4\n",
              "\n",
              "[241 rows x 3 columns]"
            ]
          },
          "metadata": {
            "tags": []
          },
          "execution_count": 4
        }
      ]
    },
    {
      "cell_type": "code",
      "metadata": {
        "id": "VONzOIXp7IFG",
        "outputId": "40ade511-0335-4547-8773-dec1179b4b02",
        "colab": {
          "base_uri": "https://localhost:8080/"
        }
      },
      "source": [
        "# extracting out the text data\n",
        "pool = mp.Pool()\n",
        "dirty_corpus = list(tqdm(pool.imap(extract_pdf_text, filtered_metadata.finalfilename), total = filtered_metadata.finalfilename.size))\n",
        "pool.close()"
      ],
      "execution_count": 5,
      "outputs": [
        {
          "output_type": "stream",
          "text": [
            " 18%|█▊        | 43/241 [15:55<2:04:56, 37.86s/it]/usr/local/lib/python3.6/dist-packages/ipykernel_launcher.py:157: DeprecationWarning: The default dtype for empty Series will be 'object' instead of 'float64' in a future version. Specify a dtype explicitly to silence this warning.\n",
            "100%|██████████| 241/241 [1:31:26<00:00, 22.76s/it]\n"
          ],
          "name": "stderr"
        }
      ]
    },
    {
      "cell_type": "code",
      "metadata": {
        "id": "8keVHGPO8DD1",
        "outputId": "4361192b-a043-4c9e-8b12-a94f63af1b69",
        "colab": {
          "base_uri": "https://localhost:8080/"
        }
      },
      "source": [
        "# filtering the corpus with environmental keywords\n",
        "# https://quantaloop.io/the-language-of-sustainability-top-101-green-initiative-keywords/\n",
        "e_sus_keywords = {'global', 'warming', 'water', \n",
        "                  'air', 'environmental', 'nature',\n",
        "                  'earth', 'solar', 'energy',\n",
        "                  'green', 'recycling', 'pollution',\n",
        "                  'energy', 'sustain'}\n",
        "def filter_keyword(dirty_doc):\n",
        "    filtered_doc = []\n",
        "    for sentence in dirty_doc:\n",
        "        # ignore short sentences\n",
        "        if len(sentence.split()) <= 3:\n",
        "            continue\n",
        "        else:\n",
        "            if e_sus_keywords.intersection(set(sentence.split())):\n",
        "                filtered_doc.append(sentence)\n",
        "                break\n",
        "    return ' '.join(filtered_doc)\n",
        "pool = mp.Pool()\n",
        "filtered_corpus = list(tqdm(pool.imap(filter_keyword, dirty_corpus), total = len(dirty_corpus)))\n",
        "pool.close()"
      ],
      "execution_count": 6,
      "outputs": [
        {
          "output_type": "stream",
          "text": [
            "100%|██████████| 241/241 [00:00<00:00, 795.60it/s]\n"
          ],
          "name": "stderr"
        }
      ]
    },
    {
      "cell_type": "code",
      "metadata": {
        "id": "JFxlIDM5ICAr"
      },
      "source": [
        "# creating the filtered data file\n",
        "filtered_data = filtered_metadata.copy()\n",
        "filtered_data['text'] = filtered_corpus.text\n",
        "filtered_data = filtered_data[['text', 'fileyear', 'rating_quarters']]\n",
        "filtered_data = filtered_data.dropna()"
      ],
      "execution_count": 63,
      "outputs": []
    },
    {
      "cell_type": "code",
      "metadata": {
        "id": "aJ6ZaaGVBqM8",
        "outputId": "01eb411b-76d1-4f48-f404-75d306eddc2f",
        "colab": {
          "base_uri": "https://localhost:8080/",
          "height": 265
        }
      },
      "source": [
        "# filtering out the jargon\n",
        "word2remove = [\n",
        "               'consolidated', 'asset', 'assets',\n",
        "               'libaility', 'liabilities', 'organization',\n",
        "               'statement', 'ltd', 'cid',\n",
        "               'keyera'\n",
        "]\n",
        "\n",
        "final_text = filtered_data.text.apply(lambda x: re.sub(' +', ' ', re.sub('|'.join(word2remove), '', x)).strip())\n",
        "\n",
        "maxdf, mindf = 0.99, 0.01 # default: 1.0 and 1 \n",
        "count_vectorizer = CountVectorizer(ngram_range = (1, 3),\n",
        "                                   max_df = maxdf,\n",
        "                                   min_df = mindf,\n",
        "                                   max_features = None)\n",
        "get_top_k(final_text, count_vectorizer)"
      ],
      "execution_count": 65,
      "outputs": [
        {
          "output_type": "display_data",
          "data": {
            "image/png": "[encoded data removed]",
            "text/plain": [
              "<Figure size 432x288 with 1 Axes>"
            ]
          },
          "metadata": {
            "tags": [],
            "needs_background": "light"
          }
        }
      ]
    },
    {
      "cell_type": "code",
      "metadata": {
        "id": "MdPtOOOsEoLv",
        "outputId": "9c407082-58ba-4383-f05b-2c492087ed16",
        "colab": {
          "base_uri": "https://localhost:8080/",
          "height": 419
        }
      },
      "source": [
        "# finalizing the text data \n",
        "filtered_data.text = final_text\n",
        "filtered_data"
      ],
      "execution_count": 66,
      "outputs": [
        {
          "output_type": "execute_result",
          "data": {
            "text/html": [
              "<div>\n",
              "<style scoped>\n",
              "    .dataframe tbody tr th:only-of-type {\n",
              "        vertical-align: middle;\n",
              "    }\n",
              "\n",
              "    .dataframe tbody tr th {\n",
              "        vertical-align: top;\n",
              "    }\n",
              "\n",
              "    .dataframe thead th {\n",
              "        text-align: right;\n",
              "    }\n",
              "</style>\n",
              "<table border=\"1\" class=\"dataframe\">\n",
              "  <thead>\n",
              "    <tr style=\"text-align: right;\">\n",
              "      <th></th>\n",
              "      <th>text</th>\n",
              "      <th>fileyear</th>\n",
              "      <th>rating_quarters</th>\n",
              "    </tr>\n",
              "  </thead>\n",
              "  <tbody>\n",
              "    <tr>\n",
              "      <th>0</th>\n",
              "      <td>nature operation absolute software corporation...</td>\n",
              "      <td>2018</td>\n",
              "      <td>4</td>\n",
              "    </tr>\n",
              "    <tr>\n",
              "      <th>1</th>\n",
              "      <td>remain financial assess collectively base nature</td>\n",
              "      <td>2018</td>\n",
              "      <td>1</td>\n",
              "    </tr>\n",
              "    <tr>\n",
              "      <th>2</th>\n",
              "      <td>retirement obligation incur decommissioning re...</td>\n",
              "      <td>2018</td>\n",
              "      <td>4</td>\n",
              "    </tr>\n",
              "    <tr>\n",
              "      <th>3</th>\n",
              "      <td>environmental services contract loss provision</td>\n",
              "      <td>2018</td>\n",
              "      <td>1</td>\n",
              "    </tr>\n",
              "    <tr>\n",
              "      <th>4</th>\n",
              "      <td>global short sea shipping segment include comp...</td>\n",
              "      <td>2018</td>\n",
              "      <td>1</td>\n",
              "    </tr>\n",
              "    <tr>\n",
              "      <th>...</th>\n",
              "      <td>...</td>\n",
              "      <td>...</td>\n",
              "      <td>...</td>\n",
              "    </tr>\n",
              "    <tr>\n",
              "      <th>236</th>\n",
              "      <td>total energy services inc total energy company...</td>\n",
              "      <td>2015</td>\n",
              "      <td>4</td>\n",
              "    </tr>\n",
              "    <tr>\n",
              "      <th>237</th>\n",
              "      <td>provision environmental rehabilitation defer i...</td>\n",
              "      <td>2015</td>\n",
              "      <td>4</td>\n",
              "    </tr>\n",
              "    <tr>\n",
              "      <th>238</th>\n",
              "      <td>carry value company amount receivable deposit ...</td>\n",
              "      <td>2015</td>\n",
              "      <td>4</td>\n",
              "    </tr>\n",
              "    <tr>\n",
              "      <th>239</th>\n",
              "      <td>total equity nature operation go concern note ...</td>\n",
              "      <td>2015</td>\n",
              "      <td>4</td>\n",
              "    </tr>\n",
              "    <tr>\n",
              "      <th>240</th>\n",
              "      <td>deficit nature operation go concern note</td>\n",
              "      <td>2015</td>\n",
              "      <td>4</td>\n",
              "    </tr>\n",
              "  </tbody>\n",
              "</table>\n",
              "<p>236 rows × 3 columns</p>\n",
              "</div>"
            ],
            "text/plain": [
              "                                                  text  ...  rating_quarters\n",
              "0    nature operation absolute software corporation...  ...                4\n",
              "1     remain financial assess collectively base nature  ...                1\n",
              "2    retirement obligation incur decommissioning re...  ...                4\n",
              "3       environmental services contract loss provision  ...                1\n",
              "4    global short sea shipping segment include comp...  ...                1\n",
              "..                                                 ...  ...              ...\n",
              "236  total energy services inc total energy company...  ...                4\n",
              "237  provision environmental rehabilitation defer i...  ...                4\n",
              "238  carry value company amount receivable deposit ...  ...                4\n",
              "239  total equity nature operation go concern note ...  ...                4\n",
              "240           deficit nature operation go concern note  ...                4\n",
              "\n",
              "[236 rows x 3 columns]"
            ]
          },
          "metadata": {
            "tags": []
          },
          "execution_count": 66
        }
      ]
    },
    {
      "cell_type": "markdown",
      "metadata": {
        "id": "xv2f2-3fmyyH"
      },
      "source": [
        "## Performing LDA\n",
        "\n",
        "To extract topics from each document within the corpus"
      ]
    },
    {
      "cell_type": "markdown",
      "metadata": {
        "id": "WlSYB-ziIS74"
      },
      "source": [
        "### Full Dataset\n",
        "\n",
        "We want to try topic modelling on the full dataset first to see if there are distinct topics within these environmental disclosures"
      ]
    },
    {
      "cell_type": "code",
      "metadata": {
        "id": "RMyUDTUuYGX_",
        "outputId": "79b88dd3-1e72-44e8-c82d-f0286fa421d2",
        "colab": {
          "base_uri": "https://localhost:8080/"
        }
      },
      "source": [
        "# Training the LDA model\n",
        "tfidf_vectorizer = TfidfVectorizer(ngram_range = (1, 3),\n",
        "                                   max_df = maxdf,\n",
        "                                   min_df = mindf,\n",
        "                                   max_features = None)\n",
        "tfidf_fit = tfidf_vectorizer.fit_transform(filtered_data.text)\n",
        "lda = LatentDirichletAllocation(n_components = 5, \n",
        "                                random_state = 69)\n",
        "lda.fit(tfidf_fit)"
      ],
      "execution_count": 89,
      "outputs": [
        {
          "output_type": "execute_result",
          "data": {
            "text/plain": [
              "LatentDirichletAllocation(batch_size=128, doc_topic_prior=None,\n",
              "                          evaluate_every=-1, learning_decay=0.7,\n",
              "                          learning_method='batch', learning_offset=10.0,\n",
              "                          max_doc_update_iter=100, max_iter=10,\n",
              "                          mean_change_tol=0.001, n_components=5, n_jobs=None,\n",
              "                          perp_tol=0.1, random_state=69, topic_word_prior=None,\n",
              "                          total_samples=1000000.0, verbose=0)"
            ]
          },
          "metadata": {
            "tags": []
          },
          "execution_count": 89
        }
      ]
    },
    {
      "cell_type": "code",
      "metadata": {
        "id": "XsELLkTnYfRc",
        "outputId": "630f222a-9c99-4cc4-857e-981022efd060",
        "colab": {
          "base_uri": "https://localhost:8080/",
          "height": 881
        }
      },
      "source": [
        "# LDA visualisation\n",
        "pyLDAvis.sklearn.prepare(lda, tfidf_fit, tfidf_vectorizer)"
      ],
      "execution_count": 90,
      "outputs": [
        {
          "output_type": "execute_result",
          "data": {
            "text/html": [
              "\n",
              "<link rel=\"stylesheet\" type=\"text/css\" href=\"https://cdn.rawgit.com/bmabey/pyLDAvis/files/ldavis.v1.0.0.css\">\n",
              "\n",
              "\n",
              "<div id=\"ldavis_el1011401579830149843979322741\"></div>\n",
              "<script type=\"text/javascript\">\n",
              "\n",
              "var ldavis_el1011401579830149843979322741_data = {\"mdsDat\": {\"x\": [0.0628383635965706, 0.02818108648162218, -0.10693596548308831, -0.009044075515891415, 0.024960590920786976], \"y\": [0.07909758802379728, -0.037360868791240474, 0.01960080880268531, 0.008541203102607016, -0.06987873113784909], \"topics\": [1, 2, 3, 4, 5], \"cluster\": [1, 1, 1, 1, 1], \"Freq\": [23.237811865772944, 22.104428388388452, 21.079797509036535, 17.201350752426073, 16.376611484375996]}, \"tinfo\": {\"Term\": [\"look\", \"forward\", \"forward look\", \"provision\", \"uncertainty\", \"water\", \"risk uncertainty\", \"corporation\", \"claim\", \"recognition\", \"inherent\", \"operation\", \"risk\", \"segment\", \"energy\", \"initial recognition\", \"go\", \"go concern\", \"concern\", \"contract\", \"environmental rehabilitation\", \"time\", \"production\", \"initial\", \"rehabilitation\", \"keyera\", \"nature operation go\", \"operation go\", \"operation go concern\", \"inherent risk\", \"water\", \"environmental rehabilitation\", \"provision\", \"segment\", \"sustain\", \"provision environmental\", \"level\", \"production\", \"product\", \"month end\", \"provision environmental rehabilitation\", \"limit\", \"diamond\", \"rehabilitation provision\", \"environmental rehabilitation provision\", \"opportunity\", \"international\", \"rehabilitation\", \"ability\", \"tax\", \"reduction\", \"process\", \"enterprise\", \"item\", \"similarity\", \"face\", \"measurement\", \"expense\", \"royalty\", \"industry\", \"operating\", \"development\", \"end\", \"month\", \"capital\", \"cost\", \"environmental\", \"december\", \"global\", \"include\", \"company\", \"nature\", \"liability\", \"business\", \"etf\", \"ifrs\", \"total energy\", \"evolve\", \"fair value short\", \"value short term\", \"value short\", \"approximate fair value\", \"approximate fair\", \"ongoing production\", \"mineral\", \"payable\", \"carry\", \"limited\", \"exploration\", \"index etf\", \"index\", \"direct\", \"addition\", \"carry value\", \"financial assess collectively\", \"remain\", \"base nature\", \"collectively base nature\", \"collectively base\", \"assess\", \"remain financial assess\", \"remain financial\", \"financial assess\", \"assess collectively base\", \"assess collectively\", \"value\", \"acquisition\", \"significant\", \"performance\", \"short\", \"company\", \"short term\", \"approximate\", \"short term nature\", \"year\", \"term\", \"global\", \"business\", \"base\", \"involve\", \"result\", \"financial\", \"nature\", \"energy\", \"liability\", \"include\", \"risk uncertainty\", \"inherent\", \"uncertainty\", \"keyera\", \"inherent risk uncertainty\", \"inherent risk\", \"nature forward look\", \"nature forward\", \"look\", \"forward\", \"forward look\", \"subject inherent risk\", \"subject inherent\", \"assumption subject inherent\", \"assumption subject\", \"require assumption\", \"forward look require\", \"look require assumption\", \"look require\", \"require assumption subject\", \"price\", \"restoration\", \"kel\", \"require\", \"law\", \"columbia\", \"british columbia\", \"british\", \"incorporate\", \"risk\", \"corporation\", \"energy\", \"assumption\", \"operation\", \"sale\", \"nature\", \"subject\", \"company\", \"financial\", \"claim\", \"go concern\", \"go\", \"concern\", \"contract\", \"nature operation go\", \"operation go concern\", \"operation go\", \"prior\", \"determination\", \"prior agreement\", \"compliance regulatory\", \"agreement\", \"non compliance\", \"non compliance regulatory\", \"claim non\", \"claim non compliance\", \"flow\", \"cash flow\", \"unregistered\", \"comprehensive\", \"loss change\", \"balance sheet\", \"sheet\", \"balance\", \"equity cash\", \"equity cash flow\", \"change shareholder equity\", \"change shareholder\", \"shareholder equity\", \"loss\", \"comprise\", \"nature operation\", \"requirement\", \"operation\", \"year end\", \"note\", \"property\", \"december\", \"cash\", \"change\", \"nature\", \"year\", \"result\", \"equity\", \"new\", \"end\", \"future\", \"energy\", \"environmental\", \"recognition\", \"initial recognition\", \"time\", \"determine\", \"depend nature\", \"purpose\", \"time initial\", \"time initial recognition\", \"nature purpose\", \"classification\", \"nature purpose financial\", \"purpose financial\", \"depend nature purpose\", \"factor\", \"exchange\", \"political\", \"intend\", \"initial\", \"application environmental permit\", \"application environmental\", \"depend\", \"classification depend nature\", \"classification depend\", \"financial determine time\", \"purpose financial determine\", \"financial determine\", \"determine time initial\", \"determine time\", \"environmental political\", \"similar expression\", \"generally historical nature\", \"expression intend\", \"identify forward\", \"resource\", \"environmental permit\", \"financial\", \"generally\", \"legal\", \"rate\", \"environmental\", \"permit\", \"nature\", \"market\", \"regulatory\", \"company\"], \"Freq\": [2.0, 2.0, 2.0, 3.0, 2.0, 2.0, 2.0, 3.0, 1.0, 1.0, 1.0, 3.0, 2.0, 2.0, 4.0, 1.0, 1.0, 1.0, 1.0, 1.0, 1.0, 1.0, 2.0, 1.0, 2.0, 1.0, 1.0, 1.0, 1.0, 1.0, 1.868005949487593, 1.5702799136851322, 2.307706193691125, 1.7846056369234455, 1.2240586073315494, 1.198788706237649, 1.1631153017005254, 1.6779271615201228, 1.1519620926126997, 0.9791418811888674, 0.9687749278597767, 0.953020151984788, 0.9252613377413521, 0.8931521783158096, 0.8931521783158097, 0.8956372875653937, 0.8469646650734953, 1.645526285785471, 1.079296848633822, 0.8213288064170116, 0.8100410851323402, 0.803290384582513, 0.8014626091933585, 0.9280098360136614, 0.7431070908595375, 0.7870047783708749, 0.7412616930876735, 0.7282860923442155, 0.697278635597951, 1.1035253244808036, 1.0415751261830064, 1.2896767786150045, 1.429590742642211, 0.9501284063381688, 1.1275685032363822, 1.4111143983625973, 1.8017815607768244, 1.1301188335727996, 1.3400860084055466, 1.1881267793465116, 1.310852795791296, 1.3277608896073185, 1.013383534288858, 1.0354722369166192, 0.9571393492603159, 1.1912064390811883, 0.9147279513124907, 0.9076585342921812, 0.8575441635885206, 0.8575441635885206, 0.8575441635885206, 0.8575441635885206, 0.8575441635885206, 0.8023007318834922, 0.7706540754936314, 0.769967297475374, 0.7418601836664321, 0.7206061106016153, 1.2189585411322743, 0.6552402250893513, 0.6552402250893513, 0.6502574989577821, 0.6379150895499952, 0.6193363294614473, 0.5743866209548376, 0.5743866209548376, 0.5743866209548376, 0.5743866209548376, 0.5743866209548376, 0.5743866209548376, 0.5743866209548376, 0.5743866209548376, 0.5743866209548376, 0.5743866209548376, 0.5743866209548376, 1.2014064354599758, 0.7405772534163921, 0.843659133557183, 0.7059264018761773, 1.1004536266414597, 2.5312251090805353, 0.8039552584298125, 0.8039552584298125, 0.8039552584298125, 1.439012962936534, 1.0050737087167774, 1.5536700358727726, 1.3214314919821297, 1.113130571682446, 0.9039990109278697, 1.0091065317966192, 1.514024084849717, 1.577218463564402, 1.0990424857113283, 0.885467352811396, 0.8532083255040658, 1.5828320030914553, 1.5137807908796843, 1.7418277855327557, 1.2816965370952482, 1.2642515918815782, 1.2642515918815782, 1.2217346939979032, 1.2217346939979032, 1.9583436278971886, 1.9583436278962763, 1.9583436278961421, 1.178470202525944, 1.178470202525944, 1.178470202525944, 1.178470202525944, 1.0788042452007995, 1.0788042452007995, 1.0788042452007995, 1.0788042452007995, 1.0788042452007995, 1.0087960916179655, 0.9734466766730612, 0.8451600477213803, 1.3079156489520194, 0.8391418910314228, 0.8312424044934754, 0.8312424044934754, 0.8312424044934754, 0.8312424044934754, 1.79529801900747, 1.968093147963694, 2.3935867349340523, 1.243900088464268, 1.295594418512398, 1.1402231104744338, 1.568006993230577, 1.0456296315142715, 1.1285828980745536, 1.0555704726747253, 1.234944944821603, 1.0986605500498086, 1.0986605500498086, 1.0986605500498086, 1.0830272192984922, 0.9831238502889557, 0.9831238502889557, 0.9831238502889557, 0.7960383876314795, 0.5726420603822213, 0.5647775220044378, 0.5647775220044378, 0.5647775220044378, 0.5647775220044378, 0.5647775220044378, 0.5647775220044378, 0.5647775220044378, 0.8324669082540549, 0.8324669082540549, 0.5249479814798715, 0.5050520974110423, 0.4865733682974903, 0.4850665182107307, 0.4850665182107307, 0.4850665182107307, 0.47019214965844913, 0.47019214965844913, 0.43243121776046944, 0.43243121776046944, 0.43243121776046944, 0.8739857520791681, 0.6265396204749365, 0.9259158714185988, 0.7680754871763072, 1.2465991443474667, 0.7126652378413774, 0.7512236064495124, 0.8099720588559857, 0.8250131195711594, 0.7297964542362961, 0.7250413192323736, 0.8930861811089659, 0.7272698628880563, 0.6644334091698488, 0.609824666559792, 0.5920842287900371, 0.6294969323908739, 0.6112186641246824, 0.6077334827420255, 0.597168599203812, 1.147395287528112, 1.0461374546789983, 1.0069794948894182, 0.9132940479469441, 0.8985005133101361, 0.8756103033742875, 0.8126509595739564, 0.8126509595739564, 0.8027768833407966, 0.8027768833407966, 0.8027768833407966, 0.8027768833407966, 0.8027768833407966, 0.8779073154467595, 0.7403849867437461, 0.7118857064334908, 0.6878797713659751, 1.0052288067013222, 0.6188616332917005, 0.6188616332917005, 0.841531448863575, 0.5444050519038418, 0.5444050519038418, 0.5444050519038418, 0.5444050519038418, 0.5444050519038418, 0.5444050519038418, 0.5444050519038418, 0.5374483412148815, 0.5009098771465252, 0.5009098771465252, 0.5009098771465252, 0.5009098771465252, 0.7119777214041374, 0.7381863547561804, 1.1633678580011715, 0.6200703448926528, 0.7127417522458082, 0.6295292284221694, 1.0240121547902337, 0.6624497113023011, 0.9777028061867533, 0.6580538054422076, 0.6341375299430513, 0.6340864585839313], \"Total\": [2.0, 2.0, 2.0, 3.0, 2.0, 2.0, 2.0, 3.0, 1.0, 1.0, 1.0, 3.0, 2.0, 2.0, 4.0, 1.0, 1.0, 1.0, 1.0, 1.0, 1.0, 1.0, 2.0, 1.0, 2.0, 1.0, 1.0, 1.0, 1.0, 1.0, 2.28704216094843, 1.9883824111047381, 3.032644489725003, 2.3867317319400376, 1.6428133237285056, 1.6165875771479554, 1.5812390768732312, 2.3628411989850218, 1.6347243362441044, 1.3969306827255212, 1.3865733049453002, 1.3711317818767144, 1.3430703430670146, 1.3116834409597558, 1.3116834409597562, 1.3299743085181985, 1.2650213891610596, 2.4597355407073507, 1.623359143869945, 1.2397155001367082, 1.2284534229143633, 1.2210942053185434, 1.2195782639766348, 1.4425896807140681, 1.1609007791262866, 1.2315989544338648, 1.160628185704309, 1.1460755971476735, 1.115243337111075, 1.7707137647637163, 1.6761895894915866, 2.1434102511462143, 2.748865466239964, 1.615719722304976, 2.0379098795119392, 3.0987943280719557, 4.858434094779573, 2.2719668438459557, 3.6801282929485977, 3.624356567747095, 5.887816601414334, 6.343775333698018, 2.804954548371023, 3.3070389907799775, 1.3754748236966436, 1.7351380631821842, 1.3330644460601189, 1.326010907048393, 1.2758758548967566, 1.2758758548967566, 1.2758758548967566, 1.2758758548967566, 1.2758758548967566, 1.2318764717062962, 1.1920461275482408, 1.19334890923178, 1.160189301363852, 1.142858056043619, 1.9477328243477428, 1.0735806267341717, 1.0735806267341717, 1.0685834470369566, 1.057862627182595, 1.0376646579866988, 0.9927259630027939, 0.9927259630027939, 0.9927259630027939, 0.9927259630027939, 0.9927259630027939, 0.9927259630027939, 0.9927259630027939, 0.9927259630027939, 0.9927259630027939, 0.9927259630027939, 0.9927259630027939, 2.1844040993685825, 1.3013221143953864, 1.5655062339079648, 1.2675436248195595, 2.1542372729399615, 5.887816601414334, 1.4851367060750387, 1.4851367060750387, 1.4851367060750387, 3.0518747889199878, 2.017281613590624, 3.6801282929485977, 3.3070389907799775, 2.554678447152433, 1.8599390678878938, 2.3424678157276135, 5.06527952275097, 6.343775333698018, 4.799975585933399, 2.804954548371023, 3.624356567747095, 2.0038058405552963, 1.9369268022977733, 2.2609632693622483, 1.7026023249044648, 1.6851574614039109, 1.6851574614039109, 1.642725659168271, 1.642725659168271, 2.649933590479417, 2.64993359047942, 2.6499335904794195, 1.5993759301543857, 1.5993759301543857, 1.5993759301543857, 1.5993759301543857, 1.4997100703361856, 1.4997100703361856, 1.4997100703361856, 1.4997100703361856, 1.4997100703361856, 1.4387853918757745, 1.3944669938420458, 1.2660808039486833, 1.9629741997705221, 1.260639096984882, 1.2521531128441605, 1.2521531128441605, 1.2521531128441605, 1.2521531128441605, 2.742435580397082, 3.0872467351304853, 4.799975585933399, 2.140165204631569, 3.1211532872832395, 2.682058706774434, 6.343775333698018, 2.2066008677449256, 5.887816601414334, 5.06527952275097, 1.6758935021748418, 1.5262504799831325, 1.5262504799831325, 1.5262504799831325, 1.511140842116126, 1.4107139295975566, 1.4107139295975566, 1.4107139295975566, 1.2239774497210598, 1.0010928675167339, 0.9923622248349302, 0.9923622248349302, 0.9923622248349302, 0.9923622248349302, 0.9923622248349302, 0.9923622248349302, 0.9923622248349302, 1.4663726942219504, 1.4663726942219504, 0.9525313530214945, 0.9327125233238912, 0.9142361736863189, 0.9126577272998336, 0.9126577272998336, 0.9126577272998336, 0.8978587871721728, 0.8978587871721728, 0.8600155942236347, 0.8600155942236347, 0.8600155942236347, 1.813725039310014, 1.2982822463558332, 2.0719998474585855, 1.671843707250942, 3.1211532872832395, 1.5323798501085852, 1.7821062361236155, 2.164503474144852, 2.2719668438459557, 2.030223258838683, 2.024094244709275, 6.343775333698018, 3.0518747889199878, 2.3424678157276135, 1.7783635052710045, 1.4461803397241095, 2.748865466239964, 2.408597718255244, 4.799975585933399, 4.858434094779573, 1.5772221852222208, 1.4759639537628662, 1.4370455880511899, 1.3431208332128914, 1.3283272177156757, 1.3054386101944053, 1.2424776227080412, 1.2424776227080412, 1.2326030053755015, 1.2326030053755015, 1.2326030053755015, 1.2326030053755015, 1.2326030053755015, 1.3820801936673326, 1.172311884093176, 1.1417169321130238, 1.1177043631975767, 1.6997717107388433, 1.0486971617087242, 1.0486971617087242, 1.503767503131989, 0.9742308376715167, 0.9742308376715167, 0.9742308376715167, 0.9742308376715167, 0.9742308376715167, 0.9742308376715167, 0.9742308376715167, 0.9672794910795038, 0.9307360732528643, 0.9307360732528643, 0.9307360732528643, 0.9307360732528643, 1.398467003403655, 1.5080090456511503, 5.06527952275097, 1.320450191728558, 1.84849941237929, 1.3865638858718352, 4.858434094779573, 1.789529184302366, 6.343775333698018, 1.9446782404889784, 1.6650404872495392, 5.887816601414334], \"Category\": [\"Default\", \"Default\", \"Default\", \"Default\", \"Default\", \"Default\", \"Default\", \"Default\", \"Default\", \"Default\", \"Default\", \"Default\", \"Default\", \"Default\", \"Default\", \"Default\", \"Default\", \"Default\", \"Default\", \"Default\", \"Default\", \"Default\", \"Default\", \"Default\", \"Default\", \"Default\", \"Default\", \"Default\", \"Default\", \"Default\", \"Topic1\", \"Topic1\", \"Topic1\", \"Topic1\", \"Topic1\", \"Topic1\", \"Topic1\", \"Topic1\", \"Topic1\", \"Topic1\", \"Topic1\", \"Topic1\", \"Topic1\", \"Topic1\", \"Topic1\", \"Topic1\", \"Topic1\", \"Topic1\", \"Topic1\", \"Topic1\", \"Topic1\", \"Topic1\", \"Topic1\", \"Topic1\", \"Topic1\", \"Topic1\", \"Topic1\", \"Topic1\", \"Topic1\", \"Topic1\", \"Topic1\", \"Topic1\", \"Topic1\", \"Topic1\", \"Topic1\", \"Topic1\", \"Topic1\", \"Topic1\", \"Topic1\", \"Topic1\", \"Topic1\", \"Topic1\", \"Topic1\", \"Topic1\", \"Topic2\", \"Topic2\", \"Topic2\", \"Topic2\", \"Topic2\", \"Topic2\", \"Topic2\", \"Topic2\", \"Topic2\", \"Topic2\", \"Topic2\", \"Topic2\", \"Topic2\", \"Topic2\", \"Topic2\", \"Topic2\", \"Topic2\", \"Topic2\", \"Topic2\", \"Topic2\", \"Topic2\", \"Topic2\", \"Topic2\", \"Topic2\", \"Topic2\", \"Topic2\", \"Topic2\", \"Topic2\", \"Topic2\", \"Topic2\", \"Topic2\", \"Topic2\", \"Topic2\", \"Topic2\", \"Topic2\", \"Topic2\", \"Topic2\", \"Topic2\", \"Topic2\", \"Topic2\", \"Topic2\", \"Topic2\", \"Topic2\", \"Topic2\", \"Topic2\", \"Topic2\", \"Topic2\", \"Topic2\", \"Topic2\", \"Topic2\", \"Topic2\", \"Topic2\", \"Topic3\", \"Topic3\", \"Topic3\", \"Topic3\", \"Topic3\", \"Topic3\", \"Topic3\", \"Topic3\", \"Topic3\", \"Topic3\", \"Topic3\", \"Topic3\", \"Topic3\", \"Topic3\", \"Topic3\", \"Topic3\", \"Topic3\", \"Topic3\", \"Topic3\", \"Topic3\", \"Topic3\", \"Topic3\", \"Topic3\", \"Topic3\", \"Topic3\", \"Topic3\", \"Topic3\", \"Topic3\", \"Topic3\", \"Topic3\", \"Topic3\", \"Topic3\", \"Topic3\", \"Topic3\", \"Topic3\", \"Topic3\", \"Topic3\", \"Topic3\", \"Topic3\", \"Topic4\", \"Topic4\", \"Topic4\", \"Topic4\", \"Topic4\", \"Topic4\", \"Topic4\", \"Topic4\", \"Topic4\", \"Topic4\", \"Topic4\", \"Topic4\", \"Topic4\", \"Topic4\", \"Topic4\", \"Topic4\", \"Topic4\", \"Topic4\", \"Topic4\", \"Topic4\", \"Topic4\", \"Topic4\", \"Topic4\", \"Topic4\", \"Topic4\", \"Topic4\", \"Topic4\", \"Topic4\", \"Topic4\", \"Topic4\", \"Topic4\", \"Topic4\", \"Topic4\", \"Topic4\", \"Topic4\", \"Topic4\", \"Topic4\", \"Topic4\", \"Topic4\", \"Topic4\", \"Topic4\", \"Topic4\", \"Topic4\", \"Topic4\", \"Topic4\", \"Topic4\", \"Topic4\", \"Topic4\", \"Topic4\", \"Topic4\", \"Topic5\", \"Topic5\", \"Topic5\", \"Topic5\", \"Topic5\", \"Topic5\", \"Topic5\", \"Topic5\", \"Topic5\", \"Topic5\", \"Topic5\", \"Topic5\", \"Topic5\", \"Topic5\", \"Topic5\", \"Topic5\", \"Topic5\", \"Topic5\", \"Topic5\", \"Topic5\", \"Topic5\", \"Topic5\", \"Topic5\", \"Topic5\", \"Topic5\", \"Topic5\", \"Topic5\", \"Topic5\", \"Topic5\", \"Topic5\", \"Topic5\", \"Topic5\", \"Topic5\", \"Topic5\", \"Topic5\", \"Topic5\", \"Topic5\", \"Topic5\", \"Topic5\", \"Topic5\", \"Topic5\", \"Topic5\", \"Topic5\", \"Topic5\", \"Topic5\"], \"logprob\": [30.0, 29.0, 28.0, 27.0, 26.0, 25.0, 24.0, 23.0, 22.0, 21.0, 20.0, 19.0, 18.0, 17.0, 16.0, 15.0, 14.0, 13.0, 12.0, 11.0, 10.0, 9.0, 8.0, 7.0, 6.0, 5.0, 4.0, 3.0, 2.0, 1.0, -4.7666, -4.9402, -4.5552, -4.8123, -5.1893, -5.2102, -5.2404, -4.8739, -5.25, -5.4126, -5.4232, -5.4396, -5.4692, -5.5045, -5.5045, -5.5017, -5.5576, -4.8934, -5.3152, -5.5883, -5.6021, -5.6105, -5.6128, -5.4662, -5.6884, -5.631, -5.6909, -5.7085, -5.752, -5.293, -5.3507, -5.1371, -5.0341, -5.4426, -5.2714, -5.0471, -4.8027, -5.2692, -5.0987, -5.2191, -5.1208, -5.108, -5.3782, -5.3566, -5.3853, -5.1665, -5.4306, -5.4384, -5.4952, -5.4952, -5.4952, -5.4952, -5.4952, -5.5617, -5.602, -5.6029, -5.6401, -5.6691, -5.1435, -5.7642, -5.7642, -5.7719, -5.791, -5.8206, -5.8959, -5.8959, -5.8959, -5.8959, -5.8959, -5.8959, -5.8959, -5.8959, -5.8959, -5.8959, -5.8959, -5.158, -5.6418, -5.5115, -5.6897, -5.2458, -4.4128, -5.5597, -5.5597, -5.5597, -4.9775, -5.3364, -4.9009, -5.0628, -5.2343, -5.4424, -5.3324, -4.9267, -4.8858, -5.247, -5.4631, -5.5002, -4.8348, -4.8794, -4.7391, -5.0458, -5.0595, -5.0595, -5.0937, -5.0937, -4.6219, -4.6219, -4.6219, -5.1298, -5.1298, -5.1298, -5.1298, -5.2182, -5.2182, -5.2182, -5.2182, -5.2182, -5.2853, -5.3209, -5.4622, -5.0256, -5.4694, -5.4788, -5.4788, -5.4788, -5.4788, -4.7088, -4.6169, -4.4212, -5.0758, -5.035, -5.1628, -4.8442, -5.2494, -5.173, -5.2399, -4.8797, -4.9966, -4.9966, -4.9966, -5.0109, -5.1077, -5.1077, -5.1077, -5.3188, -5.6482, -5.662, -5.662, -5.662, -5.662, -5.662, -5.662, -5.662, -5.274, -5.274, -5.7351, -5.7738, -5.8111, -5.8142, -5.8142, -5.8142, -5.8453, -5.8453, -5.929, -5.929, -5.929, -5.2254, -5.5582, -5.1677, -5.3546, -4.8703, -5.4294, -5.3767, -5.3014, -5.283, -5.4057, -5.4122, -5.2038, -5.4091, -5.4995, -5.5853, -5.6148, -5.5535, -5.583, -5.5887, -5.6062, -4.9041, -4.9964, -5.0346, -5.1322, -5.1486, -5.1744, -5.249, -5.249, -5.2612, -5.2612, -5.2612, -5.2612, -5.2612, -5.1718, -5.3421, -5.3814, -5.4157, -5.0363, -5.5214, -5.5214, -5.2141, -5.6496, -5.6496, -5.6496, -5.6496, -5.6496, -5.6496, -5.6496, -5.6625, -5.7329, -5.7329, -5.7329, -5.7329, -5.3813, -5.3451, -4.8902, -5.5195, -5.3802, -5.5043, -5.0178, -5.4534, -5.0641, -5.46, -5.497, -5.4971], \"loglift\": [30.0, 29.0, 28.0, 27.0, 26.0, 25.0, 24.0, 23.0, 22.0, 21.0, 20.0, 19.0, 18.0, 17.0, 16.0, 15.0, 14.0, 13.0, 12.0, 11.0, 10.0, 9.0, 8.0, 7.0, 6.0, 5.0, 4.0, 3.0, 2.0, 1.0, 1.257, 1.2233, 1.1862, 1.1687, 1.1652, 1.1604, 1.1523, 1.1171, 1.1094, 1.104, 1.1008, 1.0956, 1.0868, 1.0751, 1.0751, 1.064, 1.0582, 1.0574, 1.0512, 1.0477, 1.043, 1.0406, 1.0396, 1.0182, 1.0133, 1.0116, 1.011, 1.006, 0.9897, 0.9865, 0.9836, 0.9514, 0.8056, 0.9285, 0.8675, 0.6728, 0.4674, 0.7611, 0.4492, 0.3441, -0.0428, -0.1046, 0.4413, 0.2982, 1.1468, 1.1333, 1.1328, 1.1303, 1.1121, 1.1121, 1.1121, 1.1121, 1.1121, 1.0806, 1.0732, 1.0712, 1.0622, 1.0482, 1.0407, 1.0156, 1.0156, 1.0127, 1.0036, 0.9933, 0.9622, 0.9622, 0.9622, 0.9622, 0.9622, 0.9622, 0.9622, 0.9622, 0.9622, 0.9622, 0.9622, 0.9115, 0.9457, 0.8912, 0.9241, 0.8377, 0.6652, 0.8957, 0.8957, 0.8957, 0.7576, 0.8127, 0.6471, 0.5921, 0.6786, 0.7879, 0.6673, 0.3018, 0.1176, 0.0352, 0.3564, 0.063, 1.321, 1.3104, 1.296, 1.2729, 1.2695, 1.2695, 1.2608, 1.2608, 1.2544, 1.2544, 1.2544, 1.2515, 1.2515, 1.2515, 1.2515, 1.2274, 1.2274, 1.2274, 1.2274, 1.2274, 1.2018, 1.1974, 1.1527, 1.1508, 1.1499, 1.1472, 1.1472, 1.1472, 1.1472, 1.1332, 1.1066, 0.861, 1.0142, 0.6776, 0.7015, 0.1592, 0.81, -0.0951, -0.0115, 1.4549, 1.4315, 1.4315, 1.4315, 1.4271, 1.3991, 1.3991, 1.3991, 1.33, 1.2016, 1.1965, 1.1965, 1.1965, 1.1965, 1.1965, 1.1965, 1.1965, 1.194, 1.194, 1.1644, 1.1467, 1.1295, 1.1281, 1.1281, 1.1281, 1.1133, 1.1133, 1.0727, 1.0727, 1.0727, 1.0301, 1.0316, 0.9547, 0.9824, 0.8424, 0.9946, 0.8963, 0.7772, 0.7472, 0.737, 0.7335, -0.2004, 0.326, 0.5002, 0.6899, 0.8672, 0.2862, 0.3888, -0.3064, -0.3361, 1.4911, 1.4651, 1.4537, 1.4236, 1.4184, 1.4099, 1.3848, 1.3848, 1.3805, 1.3805, 1.3805, 1.3805, 1.3805, 1.3555, 1.3498, 1.3369, 1.3239, 1.284, 1.2819, 1.2819, 1.2288, 1.2274, 1.2274, 1.2274, 1.2274, 1.2274, 1.2274, 1.2274, 1.2217, 1.1898, 1.1898, 1.1898, 1.1898, 1.1342, 1.095, 0.3382, 1.0534, 0.8563, 1.0197, 0.2523, 0.8156, -0.0607, 0.7258, 0.844, -0.4191]}, \"token.table\": {\"Topic\": [1, 2, 2, 4, 5, 5, 2, 2, 2, 2, 2, 2, 3, 3, 3, 1, 2, 2, 3, 3, 1, 2, 3, 1, 2, 2, 1, 4, 4, 2, 4, 4, 4, 4, 5, 5, 5, 2, 2, 3, 1, 2, 3, 5, 4, 4, 4, 4, 4, 2, 3, 1, 2, 1, 4, 5, 5, 5, 4, 5, 5, 5, 1, 1, 2, 1, 4, 1, 2, 3, 4, 1, 1, 2, 3, 4, 5, 5, 5, 1, 1, 2, 4, 2, 2, 5, 1, 2, 5, 1, 5, 2, 1, 2, 3, 4, 5, 2, 2, 5, 5, 4, 3, 3, 3, 1, 3, 4, 5, 5, 1, 2, 5, 4, 4, 5, 2, 1, 2, 3, 3, 2, 2, 1, 3, 3, 3, 5, 5, 5, 1, 2, 3, 1, 3, 3, 3, 5, 1, 1, 2, 5, 1, 2, 3, 3, 3, 4, 1, 5, 1, 2, 1, 1, 1, 2, 3, 4, 5, 3, 3, 3, 4, 4, 5, 5, 4, 4, 4, 3, 4, 2, 1, 3, 4, 4, 4, 1, 2, 2, 1, 5, 5, 3, 4, 4, 1, 1, 1, 1, 4, 1, 1, 1, 5, 5, 5, 5, 5, 1, 5, 1, 3, 1, 2, 2, 2, 3, 3, 3, 1, 4, 5, 3, 2, 4, 3, 3, 1, 1, 3, 1, 2, 2, 2, 2, 5, 1, 3, 3, 3, 1, 1, 2, 5, 5, 5, 2, 3, 4, 2, 2, 2, 1, 2, 4, 4], \"Freq\": [0.6160066327751037, 0.7684492478363936, 0.9453023240487278, 1.0076965597580463, 0.9535641332056453, 0.9535641332056453, 0.6733386872127269, 0.7837753149430982, 0.7837753149430982, 1.0073273363126352, 1.0073273363126352, 1.0073273363126352, 0.467253648379986, 0.6252438724043267, 0.6252438724043267, 0.39143869597938946, 0.39143869597938946, 1.0073273363126352, 0.798624377276501, 0.798624377276501, 0.3023853068524439, 0.3023853068524439, 0.3023853068524439, 0.4906988331787718, 0.8619283067206854, 0.9637024758463137, 0.49255666619247307, 0.49255666619247307, 0.681954869959301, 0.49404814158919375, 0.49404814158919375, 0.5966966270244972, 1.0076965597580463, 1.0076965597580463, 0.8112912232396828, 1.0264507766866355, 1.0264507766866355, 1.0073273363126352, 1.0073273363126352, 0.798624377276501, 0.16984224674385853, 0.5095267402315756, 0.16984224674385853, 0.16984224674385853, 1.0076965597580463, 1.0721417103271194, 0.7702485363309204, 0.6552004491497697, 0.6617516859643936, 0.3239132099876475, 0.647826419975295, 0.3227061541132327, 0.3227061541132327, 0.4401472683057351, 0.4401472683057351, 0.6649964159467727, 0.7528265525716622, 0.8112912232396828, 0.9989083255388236, 0.7445346503991684, 1.0264507766866355, 1.0264507766866355, 0.4665462430560076, 0.7445626397470855, 0.9358183516438238, 0.3637864465472915, 0.3637864465472915, 0.20833439297703032, 0.20833439297703032, 0.41666878595406065, 0.20833439297703032, 0.8199555777087533, 0.4116552701927183, 0.20582763509635915, 0.20582763509635915, 0.20582763509635915, 0.20582763509635915, 0.6631259957517067, 1.0338273572656642, 1.005842733686629, 0.7623790685870837, 0.5623147332005164, 0.5623147332005164, 0.7270216675521984, 0.7541416097594021, 0.8530153226020861, 0.8725427907973758, 0.5134174397532578, 1.0744184401331547, 0.811952621752326, 0.7235470159994931, 0.7837753149430982, 0.1974224710617543, 0.3948449421235086, 0.1974224710617543, 0.1974224710617543, 0.1974224710617543, 1.0073273363126352, 1.0073273363126352, 1.0264507766866355, 1.0264507766866355, 0.681954869959301, 0.7547358949618675, 0.7547358949618677, 0.6667955492062762, 0.41517933543688096, 0.41517933543688096, 0.41517933543688096, 0.7573174711655976, 1.0744184401331547, 0.2717296573372388, 0.5434593146744776, 0.2717296573372388, 0.6552004491497697, 0.6552004491497697, 1.0744184401331547, 0.5763230149916913, 0.27591104277623585, 0.27591104277623585, 0.27591104277623585, 0.798624377276501, 0.9314624119494372, 0.9314624119494372, 0.5647440144756766, 1.0325635422192532, 0.5934163559807024, 0.5934163559807024, 0.588314297550774, 0.6775233212508818, 0.8946909692104601, 0.7905004678720752, 0.537652021652289, 0.537652021652289, 0.6931978048706195, 0.7898390030724547, 0.5873362119695867, 0.7932484423113147, 0.540979344274096, 0.6324154358602223, 0.3565120157047642, 0.3565120157047642, 0.3565120157047642, 0.7293244990873643, 0.8749993008421628, 0.7547358949618684, 0.6667955492062762, 0.6667955492062762, 0.5513514884154793, 0.5142238850518303, 0.5142238850518303, 0.8616023738844198, 0.8388937113169986, 0.6189192260235619, 0.7158551332331835, 0.1576348384672481, 0.3152696769344962, 0.3152696769344962, 0.1576348384672481, 0.1576348384672481, 0.6087443721469051, 0.6087443721469051, 0.4826255181565537, 0.4826255181565537, 0.7088609384365238, 0.8112912232396828, 0.8112912232396828, 0.6914766938338907, 1.0076965597580463, 1.0076965597580463, 0.5611337751531414, 0.5611337751531414, 0.8117697049728374, 0.5965912246855769, 0.3203943888543952, 0.3203943888543952, 0.7088609384365238, 0.7088609384365238, 0.7518942235163609, 0.8379778891688529, 0.7889274817995747, 0.558806198173204, 0.558806198173204, 0.8758738456731632, 0.6950306874441359, 0.8170085161519083, 1.0076965597580463, 0.8189376344957209, 0.6117239327932018, 0.8464386014849905, 0.4619997204647953, 0.4619997204647953, 0.6594904238779923, 0.6185869631413583, 0.721202403387861, 0.7660260637235791, 0.8112912232396828, 1.0264507766866355, 0.7212073025912009, 0.6340260803896226, 0.8140316770233063, 0.6005859963512888, 0.8130955409234183, 0.40654777046170915, 0.762379068587084, 1.0073273363126352, 1.0073273363126352, 1.0073273363126352, 0.5094310460712643, 0.6667955492062762, 0.6667955492062762, 0.59814203664069, 0.59814203664069, 0.7150687127877545, 0.7171198776421324, 0.4269002089530872, 0.4269002089530872, 0.7292787529070843, 0.9981006939503472, 0.8966652987054814, 0.3728479162197928, 0.3728479162197928, 0.837965982198726, 0.46420141948211013, 0.6733386872127269, 0.6733386872127269, 0.6387710111531817, 1.0744184401331547, 0.8614000593165393, 0.45318571863971374, 0.6252438724043267, 0.6252438724043267, 0.6087118880497111, 0.8066366838921721, 0.49571660856020394, 0.695872147908768, 0.8048434689877558, 0.8048434689877558, 0.7501512795990523, 0.8845787223089836, 1.0498342094755535, 0.45779075414162473, 0.7837753149430982, 0.7837753149430982, 0.8744919679008477, 0.32766744023397004, 0.32766744023397004, 0.6525797111787521], \"Term\": [\"ability\", \"acquisition\", \"addition\", \"agreement\", \"application environmental\", \"application environmental permit\", \"approximate\", \"approximate fair\", \"approximate fair value\", \"assess\", \"assess collectively\", \"assess collectively base\", \"assumption\", \"assumption subject\", \"assumption subject inherent\", \"base\", \"base\", \"base nature\", \"british\", \"british columbia\", \"business\", \"business\", \"business\", \"capital\", \"carry\", \"carry value\", \"cash\", \"cash\", \"cash flow\", \"change\", \"change\", \"claim\", \"claim non\", \"claim non compliance\", \"classification\", \"classification depend\", \"classification depend nature\", \"collectively base\", \"collectively base nature\", \"columbia\", \"company\", \"company\", \"company\", \"company\", \"compliance regulatory\", \"comprehensive\", \"comprise\", \"concern\", \"contract\", \"corporation\", \"corporation\", \"cost\", \"cost\", \"december\", \"december\", \"depend\", \"depend nature\", \"depend nature purpose\", \"determination\", \"determine\", \"determine time\", \"determine time initial\", \"development\", \"diamond\", \"direct\", \"end\", \"end\", \"energy\", \"energy\", \"energy\", \"energy\", \"enterprise\", \"environmental\", \"environmental\", \"environmental\", \"environmental\", \"environmental\", \"environmental permit\", \"environmental political\", \"environmental rehabilitation\", \"environmental rehabilitation provision\", \"equity\", \"equity\", \"etf\", \"evolve\", \"exchange\", \"expense\", \"exploration\", \"expression intend\", \"face\", \"factor\", \"fair value short\", \"financial\", \"financial\", \"financial\", \"financial\", \"financial\", \"financial assess\", \"financial assess collectively\", \"financial determine\", \"financial determine time\", \"flow\", \"forward\", \"forward look\", \"forward look require\", \"future\", \"future\", \"future\", \"generally\", \"generally historical nature\", \"global\", \"global\", \"global\", \"go\", \"go concern\", \"identify forward\", \"ifrs\", \"include\", \"include\", \"include\", \"incorporate\", \"index\", \"index etf\", \"industry\", \"inherent\", \"inherent risk\", \"inherent risk uncertainty\", \"initial\", \"initial recognition\", \"intend\", \"international\", \"involve\", \"involve\", \"item\", \"kel\", \"keyera\", \"law\", \"legal\", \"level\", \"liability\", \"liability\", \"liability\", \"limit\", \"limited\", \"look\", \"look require\", \"look require assumption\", \"loss\", \"market\", \"market\", \"measurement\", \"mineral\", \"month\", \"month end\", \"nature\", \"nature\", \"nature\", \"nature\", \"nature\", \"nature forward\", \"nature forward look\", \"nature operation\", \"nature operation\", \"nature operation go\", \"nature purpose\", \"nature purpose financial\", \"new\", \"non compliance\", \"non compliance regulatory\", \"note\", \"note\", \"ongoing production\", \"operating\", \"operation\", \"operation\", \"operation go\", \"operation go concern\", \"opportunity\", \"payable\", \"performance\", \"permit\", \"permit\", \"political\", \"price\", \"prior\", \"prior agreement\", \"process\", \"product\", \"production\", \"property\", \"property\", \"provision\", \"provision environmental\", \"provision environmental rehabilitation\", \"purpose\", \"purpose financial\", \"purpose financial determine\", \"rate\", \"recognition\", \"reduction\", \"regulatory\", \"rehabilitation\", \"rehabilitation\", \"rehabilitation provision\", \"remain\", \"remain financial\", \"remain financial assess\", \"require\", \"require assumption\", \"require assumption subject\", \"requirement\", \"requirement\", \"resource\", \"restoration\", \"result\", \"result\", \"risk\", \"risk uncertainty\", \"royalty\", \"sale\", \"sale\", \"segment\", \"short\", \"short term\", \"short term nature\", \"significant\", \"similar expression\", \"similarity\", \"subject\", \"subject inherent\", \"subject inherent risk\", \"sustain\", \"tax\", \"term\", \"time\", \"time initial\", \"time initial recognition\", \"total energy\", \"uncertainty\", \"unregistered\", \"value\", \"value short\", \"value short term\", \"water\", \"year\", \"year\", \"year end\"]}, \"R\": 30, \"lambda.step\": 0.01, \"plot.opts\": {\"xlab\": \"PC1\", \"ylab\": \"PC2\"}, \"topic.order\": [4, 2, 5, 3, 1]};\n",
              "\n",
              "function LDAvis_load_lib(url, callback){\n",
              "  var s = document.createElement('script');\n",
              "  s.src = url;\n",
              "  s.async = true;\n",
              "  s.onreadystatechange = s.onload = callback;\n",
              "  s.onerror = function(){console.warn(\"failed to load library \" + url);};\n",
              "  document.getElementsByTagName(\"head\")[0].appendChild(s);\n",
              "}\n",
              "\n",
              "if(typeof(LDAvis) !== \"undefined\"){\n",
              "   // already loaded: just create the visualization\n",
              "   !function(LDAvis){\n",
              "       new LDAvis(\"#\" + \"ldavis_el1011401579830149843979322741\", ldavis_el1011401579830149843979322741_data);\n",
              "   }(LDAvis);\n",
              "}else if(typeof define === \"function\" && define.amd){\n",
              "   // require.js is available: use it to load d3/LDAvis\n",
              "   require.config({paths: {d3: \"https://cdnjs.cloudflare.com/ajax/libs/d3/3.5.5/d3.min\"}});\n",
              "   require([\"d3\"], function(d3){\n",
              "      window.d3 = d3;\n",
              "      LDAvis_load_lib(\"https://cdn.rawgit.com/bmabey/pyLDAvis/files/ldavis.v1.0.0.js\", function(){\n",
              "        new LDAvis(\"#\" + \"ldavis_el1011401579830149843979322741\", ldavis_el1011401579830149843979322741_data);\n",
              "      });\n",
              "    });\n",
              "}else{\n",
              "    // require.js not available: dynamically load d3 & LDAvis\n",
              "    LDAvis_load_lib(\"https://cdnjs.cloudflare.com/ajax/libs/d3/3.5.5/d3.min.js\", function(){\n",
              "         LDAvis_load_lib(\"https://cdn.rawgit.com/bmabey/pyLDAvis/files/ldavis.v1.0.0.js\", function(){\n",
              "                 new LDAvis(\"#\" + \"ldavis_el1011401579830149843979322741\", ldavis_el1011401579830149843979322741_data);\n",
              "            })\n",
              "         });\n",
              "}\n",
              "</script>"
            ],
            "text/plain": [
              "PreparedData(topic_coordinates=              x         y  topics  cluster       Freq\n",
              "topic                                                \n",
              "3      0.062838  0.079098       1        1  23.237812\n",
              "1      0.028181 -0.037361       2        1  22.104428\n",
              "4     -0.106936  0.019601       3        1  21.079798\n",
              "2     -0.009044  0.008541       4        1  17.201351\n",
              "0      0.024961 -0.069879       5        1  16.376611, topic_info=             Term      Freq     Total Category  logprob  loglift\n",
              "486          look  2.000000  2.000000  Default  30.0000  30.0000\n",
              "357       forward  2.000000  2.000000  Default  29.0000  29.0000\n",
              "358  forward look  2.000000  2.000000  Default  28.0000  28.0000\n",
              "657     provision  3.000000  3.000000  Default  27.0000  27.0000\n",
              "809   uncertainty  2.000000  2.000000  Default  26.0000  26.0000\n",
              "..            ...       ...       ...      ...      ...      ...\n",
              "606        permit  0.662450  1.789529   Topic5  -5.4534   0.8156\n",
              "521        nature  0.977703  6.343775   Topic5  -5.0641  -0.0607\n",
              "499        market  0.658054  1.944678   Topic5  -5.4600   0.7258\n",
              "686    regulatory  0.634138  1.665040   Topic5  -5.4970   0.8440\n",
              "138       company  0.634086  5.887817   Topic5  -5.4971  -0.4191\n",
              "\n",
              "[260 rows x 6 columns], token_table=      Topic      Freq                       Term\n",
              "term                                            \n",
              "0         1  0.616007                    ability\n",
              "26        2  0.768449                acquisition\n",
              "31        2  0.945302                   addition\n",
              "32        4  1.007697                  agreement\n",
              "45        5  0.953564  application environmental\n",
              "...     ...       ...                        ...\n",
              "825       2  0.783775           value short term\n",
              "829       1  0.874492                      water\n",
              "833       2  0.327667                       year\n",
              "833       4  0.327667                       year\n",
              "834       4  0.652580                   year end\n",
              "\n",
              "[247 rows x 3 columns], R=30, lambda_step=0.01, plot_opts={'xlab': 'PC1', 'ylab': 'PC2'}, topic_order=[4, 2, 5, 3, 1])"
            ]
          },
          "metadata": {
            "tags": []
          },
          "execution_count": 90
        }
      ]
    },
    {
      "cell_type": "code",
      "metadata": {
        "id": "oPi0NgdjhKV2",
        "outputId": "c97be811-fed4-4d74-8742-766e8eb575a2",
        "colab": {
          "base_uri": "https://localhost:8080/"
        }
      },
      "source": [
        "# Showing the words for each topic\n",
        "n_words_to_show = 8\n",
        "display_topics(lda, tfidf_vectorizer.get_feature_names(), n_words_to_show)"
      ],
      "execution_count": 91,
      "outputs": [
        {
          "output_type": "stream",
          "text": [
            "Topic 0:\n",
            "financial recognition initial recognition environmental time initial nature determine\n",
            "\n",
            "Topic 1:\n",
            "company nature global financial year business exploration value\n",
            "\n",
            "Topic 2:\n",
            "operation claim concern go go concern contract nature operation go operation go concern\n",
            "\n",
            "Topic 3:\n",
            "provision water environmental segment production rehabilitation environmental rehabilitation end\n",
            "\n",
            "Topic 4:\n",
            "energy corporation look forward forward look risk uncertainty risk uncertainty\n",
            "\n"
          ],
          "name": "stdout"
        }
      ]
    },
    {
      "cell_type": "markdown",
      "metadata": {
        "id": "Tt-VDzphIfmP"
      },
      "source": [
        "### Trying on rating 1 and 4"
      ]
    },
    {
      "cell_type": "markdown",
      "metadata": {
        "id": "K3YGVCdkIo9T"
      },
      "source": [
        "**Rating 1**"
      ]
    },
    {
      "cell_type": "code",
      "metadata": {
        "id": "Qxvqvil7vy3J",
        "outputId": "1d3ef6e6-f434-45fc-e101-a82bc5cdd330",
        "colab": {
          "base_uri": "https://localhost:8080/",
          "height": 881
        }
      },
      "source": [
        "# Creating the rating's dataset\n",
        "scoped_data = filtered_data.loc[filtered_data.rating_quarters == 1, :]\n",
        "\n",
        "# Training the LDA model\n",
        "tfidf_vectorizer = TfidfVectorizer(ngram_range = (1, 3),\n",
        "                                   max_df = maxdf,\n",
        "                                   min_df = mindf,\n",
        "                                   max_features = None)\n",
        "tfidf_fit = tfidf_vectorizer.fit_transform(scoped_data.text)\n",
        "lda = LatentDirichletAllocation(n_components = 5, \n",
        "                                random_state = 69)\n",
        "lda.fit(tfidf_fit)\n",
        "\n",
        "# LDA visualisation\n",
        "pyLDAvis.sklearn.prepare(lda, tfidf_fit, tfidf_vectorizer)"
      ],
      "execution_count": 94,
      "outputs": [
        {
          "output_type": "execute_result",
          "data": {
            "text/html": [
              "\n",
              "<link rel=\"stylesheet\" type=\"text/css\" href=\"https://cdn.rawgit.com/bmabey/pyLDAvis/files/ldavis.v1.0.0.css\">\n",
              "\n",
              "\n",
              "<div id=\"ldavis_el1011401580031539207774183670\"></div>\n",
              "<script type=\"text/javascript\">\n",
              "\n",
              "var ldavis_el1011401580031539207774183670_data = {\"mdsDat\": {\"x\": [0.0652738071920665, -0.022360322302368615, -0.013075201977558884, -0.002272902211691913, -0.027565380700447093], \"y\": [-0.0006154670444152153, -0.048826881615692576, 0.040865664608847586, -0.011104667071391268, 0.01968135112265145], \"topics\": [1, 2, 3, 4, 5], \"cluster\": [1, 1, 1, 1, 1], \"Freq\": [22.118401039855513, 20.83768175907697, 19.98554603643764, 18.56072567832855, 18.497645486301327]}, \"tinfo\": {\"Term\": [\"provision\", \"global\", \"business\", \"financial\", \"inherent\", \"december\", \"equity\", \"value\", \"month\", \"month end\", \"year\", \"require\", \"inc\", \"end\", \"ongoing\", \"operation\", \"fair value\", \"fair\", \"rehabilitation\", \"environmental rehabilitation\", \"uncertainty\", \"oil\", \"corporation\", \"end december\", \"energy\", \"audit\", \"project\", \"intend\", \"credit\", \"assumption subject inherent\", \"month\", \"month end\", \"end december\", \"credit\", \"reduction\", \"item\", \"claim\", \"prior\", \"compliance\", \"necessarily\", \"end month end\", \"cost sale\", \"month end december\", \"cost sale nature\", \"month end month\", \"end december december\", \"sale nature\", \"end month\", \"nature month\", \"nature month end\", \"sale nature month\", \"end\", \"tax\", \"tax credit\", \"inventory\", \"year end december\", \"realize\", \"credit realize\", \"capital nature\", \"reasonable\", \"december\", \"company reasonable assurance\", \"investment tax\", \"investment tax credit\", \"item capital nature\", \"item capital\", \"assurance\", \"reasonable assurance\", \"nature reduction\", \"company reasonable\", \"legal\", \"nature\", \"cost\", \"requirement\", \"property\", \"provision\", \"inherent\", \"require\", \"rehabilitation\", \"environmental rehabilitation\", \"look require\", \"forward look require\", \"subject inherent risk\", \"assumption subject inherent\", \"inherent risk uncertainty\", \"assumption subject\", \"require assumption subject\", \"subject inherent\", \"look require assumption\", \"inherent risk\", \"nature forward look\", \"nature forward\", \"require assumption\", \"provision environmental\", \"provision environmental rehabilitation\", \"energy income\", \"operate\", \"assumption\", \"network\", \"finance\", \"uncertainty\", \"segment\", \"infrastructure\", \"risk uncertainty\", \"operate segment\", \"subject\", \"environmental\", \"energy\", \"forward\", \"forward look\", \"look\", \"nature\", \"equity\", \"audit\", \"comprise\", \"audit accompany financial\", \"audit accompany\", \"energy services inc\", \"services inc\", \"inc\", \"position\", \"financial position\", \"novaalgoma\", \"year\", \"loss change\", \"ensign energy\", \"accompany financial ensign\", \"financial ensign\", \"financial ensign energy\", \"ensign energy services\", \"ensign\", \"equity cash flow\", \"equity cash\", \"global\", \"change shareholder equity\", \"change shareholder\", \"shareholder equity\", \"change\", \"project\", \"short sea\", \"sea\", \"energy services\", \"note\", \"accompany\", \"accompany financial\", \"financial\", \"company\", \"market\", \"december\", \"services\", \"risk\", \"exchange\", \"energy\", \"corporation\", \"loss\", \"business\", \"fair\", \"fair value\", \"value\", \"intend\", \"time\", \"financial liability\", \"collectively base nature\", \"collectively base\", \"assess collectively\", \"assess collectively base\", \"remain financial assess\", \"remain financial\", \"remain\", \"assess\", \"financial assess collectively\", \"base nature\", \"financial assess\", \"approximate\", \"term nature\", \"term\", \"short term nature\", \"short term\", \"historical nature\", \"historical\", \"identify\", \"expression intend identify\", \"expression intend\", \"expression\", \"forward look generally\", \"intend identify forward\", \"intend identify\", \"similar expression intend\", \"look generally historical\", \"similar expression\", \"generally historical\", \"look generally\", \"generally historical nature\", \"identify forward\", \"identify forward look\", \"financial\", \"collectively\", \"assessment\", \"contract\", \"nature\", \"base\", \"estimate\", \"environmental\", \"liability\", \"oil\", \"program\", \"resource\", \"ongoing\", \"strategic\", \"concern\", \"go concern\", \"go\", \"business\", \"profit loss\", \"cost ongoing current\", \"program prevent control\", \"program prevent\", \"incur\", \"loss incur\", \"profit loss incur\", \"ongoing current\", \"ongoing current program\", \"current program prevent\", \"pollution\", \"current program\", \"pollution charge\", \"charge profit\", \"pollution charge profit\", \"cost ongoing\", \"profit\", \"prevent\", \"charge profit loss\", \"prevent control\", \"prevent control pollution\", \"charge\", \"control pollution charge\", \"control\", \"control pollution\", \"operation\", \"continue\", \"corporation\", \"global\", \"service\", \"ore\", \"energy\", \"management\", \"cost\", \"include\", \"fund\", \"international\", \"sale\"], \"Freq\": [1.0, 1.0, 1.0, 2.0, 0.0, 1.0, 0.0, 0.0, 0.0, 0.0, 1.0, 0.0, 1.0, 1.0, 0.0, 1.0, 0.0, 0.0, 0.0, 0.0, 1.0, 0.0, 1.0, 0.0, 1.0, 0.0, 1.0, 0.0, 0.0, 0.0, 0.7004444695966621, 0.7004444695966621, 0.5722638138982642, 0.5420454999552934, 0.4947527437554225, 0.5254393038191054, 0.4343779401343932, 0.43340607455088426, 0.3967987291467499, 0.420451076268754, 0.39037410988423316, 0.39037410988423316, 0.39037410988423316, 0.39037410988423316, 0.39037410988423316, 0.39037410988423316, 0.39037410988423316, 0.39037410988423316, 0.39037410988423316, 0.39037410988423316, 0.39037410988423316, 0.7525301796176798, 0.36642103432124123, 0.36642103432124123, 0.34594724241251024, 0.33278386675709853, 0.31117810137540336, 0.31117810137540336, 0.31117810137540336, 0.31117810137540336, 0.732112176259159, 0.31117810137540336, 0.31117810137540336, 0.31117810137540336, 0.31117810137540336, 0.31117810137540336, 0.31117810137540336, 0.31117810137540336, 0.31117810137540336, 0.31117810137540336, 0.38924111163090086, 0.7494707265441324, 0.48323012943899046, 0.3826351952762125, 0.3512121653313004, 1.0109593058879651, 0.6984791383319704, 0.6085822191557765, 0.5439436864584507, 0.5439436864584475, 0.49510785637447663, 0.49510785637447663, 0.49510785637447663, 0.49510785637447663, 0.49510785637447663, 0.49510785637447663, 0.49510785637447663, 0.49510785637447663, 0.49510785637447663, 0.49510785637447663, 0.49510785637447663, 0.49510785637447663, 0.49510785637447663, 0.48195213037392653, 0.48195213037392653, 0.41246746108325694, 0.4117983163247311, 0.48050221457891246, 0.3848863823426864, 0.3841218243650316, 0.6437908232796276, 0.44571036126076424, 0.4112588842333307, 0.4657293349028775, 0.3027425932552635, 0.4433252326477547, 0.6523859701895207, 0.565238131734433, 0.49996300651463765, 0.49996300651463765, 0.49996300651463765, 0.48821456205212327, 0.6522325183960627, 0.4746832474982481, 0.4482196542938225, 0.43423467255705855, 0.43423467255705855, 0.39997592182431585, 0.39997592182431585, 0.6442458109205353, 0.33487438442103457, 0.33487438442103407, 0.3278871546541781, 0.6180851871534736, 0.322826479848545, 0.3204498198283592, 0.3204498198283592, 0.3204498198283592, 0.3204498198283592, 0.3204498198283592, 0.3204498198283592, 0.3145685450775161, 0.3145685450775161, 0.8980067926390424, 0.2985179875980121, 0.2985179875980121, 0.2985179875980121, 0.36420769183261015, 0.5412034941172442, 0.27884620156867, 0.27884620156867, 0.3885076960805971, 0.38498178488203755, 0.40285281197412864, 0.40285281197412853, 0.6992057053650154, 0.6091226771515373, 0.41635610405800744, 0.47942491718012353, 0.37714779630820605, 0.4110633401890164, 0.3348922612813003, 0.41057888176534746, 0.3811281397692176, 0.3598701026972089, 0.3347284500492329, 0.46969333165856697, 0.4696933316585669, 0.5818533039202484, 0.4173636598040205, 0.4011019215217724, 0.3722335059371364, 0.36885462227505406, 0.36885462227505406, 0.36885462227505406, 0.36885462227505406, 0.36885462227505406, 0.36885462227505406, 0.36885462227505406, 0.36885462227505406, 0.36885462227505406, 0.36885462227505406, 0.36885462227505406, 0.3337030186780203, 0.3337030186780203, 0.3337030186780203, 0.3337030186780203, 0.3337030186780203, 0.32144343569214534, 0.32144343569214534, 0.32144343569214534, 0.32144343569214534, 0.32144343569214534, 0.32144343569214534, 0.32144343569214534, 0.32144343569214534, 0.32144343569214534, 0.32144343569214534, 0.32144343569214534, 0.32144343569214534, 0.32144343569214534, 0.32144343569214534, 0.32144343569214534, 0.32144343569214534, 0.32144343569214534, 0.7426377431489403, 0.3542851185452778, 0.3711583021321833, 0.4355520215740009, 0.7429491838375796, 0.4301509069673329, 0.3508316313475299, 0.4060891554836139, 0.3605192698295159, 0.4505224015879917, 0.41288645450255246, 0.38520735620513785, 0.499215202686578, 0.3470169380180643, 0.3448077553179246, 0.3448077553179246, 0.3448077553179246, 0.7584178476479632, 0.33710215704028096, 0.33710215704028096, 0.33710215704028096, 0.33710215704028096, 0.33710215704028096, 0.33710215704028096, 0.33710215704028096, 0.33710215704028096, 0.33710215704028096, 0.33710215704028096, 0.33710215704028096, 0.33710215704028096, 0.33710215704028096, 0.33710215704028096, 0.33710215704028096, 0.33710215704028096, 0.33710215704028096, 0.33710215704028096, 0.33710215704028096, 0.33710215704028096, 0.33710215704028096, 0.33710215704028096, 0.33710215704028096, 0.33710215704028096, 0.33710215704028096, 0.5602118536854414, 0.45723503895655343, 0.4942238118651482, 0.590374614798932, 0.38230315251272673, 0.3665163678588319, 0.43176505622662553, 0.34737029647032475, 0.37954384450988504, 0.3565758599924445, 0.3455221564287262, 0.3414097600991652, 0.3422030654079484], \"Total\": [1.0, 1.0, 1.0, 2.0, 0.0, 1.0, 0.0, 0.0, 0.0, 0.0, 1.0, 0.0, 1.0, 1.0, 0.0, 1.0, 0.0, 0.0, 0.0, 0.0, 1.0, 0.0, 1.0, 0.0, 1.0, 0.0, 1.0, 0.0, 0.0, 0.0, 0.9947103248003979, 0.9947103248003979, 0.8665326995844946, 0.8363062130675681, 0.7890136680683695, 0.8796246129646383, 0.728645967862641, 0.7276750310223531, 0.6910612335675463, 0.7346699151575816, 0.6846422747972318, 0.6846422747972318, 0.6846422747972318, 0.6846422747972318, 0.6846422747972318, 0.6846422747972318, 0.6846422747972318, 0.6846422747972318, 0.6846422747972318, 0.6846422747972318, 0.6846422747972318, 1.3286220186441045, 0.6606832885277298, 0.6606832885277298, 0.6402226975701812, 0.6270601698084547, 0.6054405125990474, 0.6054405125990474, 0.6054405125990474, 0.6054405125990474, 1.4306968861814484, 0.6054405125990474, 0.6054405125990474, 0.6054405125990474, 0.6054405125990474, 0.6054405125990474, 0.6054405125990474, 0.6054405125990474, 0.6054405125990474, 0.6054405125990474, 0.8067280531320292, 2.536571705494669, 1.2827254965936365, 0.9735725190325099, 1.0922165709157132, 1.309307361079774, 0.9966037616295279, 0.9067029448922859, 0.842617118055274, 0.8426171180552738, 0.7932267554989807, 0.7932267554989807, 0.7932267554989807, 0.7932267554989807, 0.7932267554989807, 0.7932267554989807, 0.7932267554989807, 0.7932267554989807, 0.7932267554989807, 0.7932267554989807, 0.7932267554989807, 0.7932267554989807, 0.7932267554989807, 0.7800799644721225, 0.7800799644721225, 0.7106007738549132, 0.7099193087957167, 0.8443726570675261, 0.6830221414159776, 0.6822518229951824, 1.1661639234611494, 0.8301258321699613, 0.7798373248838734, 0.9195703251773822, 0.6008584664801933, 1.0222858475102468, 1.8632734236318287, 1.6091695197145341, 1.2537902430199774, 1.2537902430199774, 1.2537902430199774, 2.536571705494669, 0.9517226861368349, 0.774159256030178, 0.7476930896582651, 0.7337111453176949, 0.7337111453176949, 0.6994528887568162, 0.6994528887568162, 1.169955595005448, 0.6350861567986829, 0.635086156798683, 0.6273630990457423, 1.1839085823601312, 0.6223016950869398, 0.6199293257551872, 0.6199293257551872, 0.6199293257551872, 0.6199293257551872, 0.6199293257551872, 0.6199293257551872, 0.6140432393299485, 0.6140432393299485, 1.760213081471019, 0.597993941340708, 0.597993941340708, 0.597993941340708, 0.7402258042048282, 1.1148655603900892, 0.5783229695824705, 0.5783229695824705, 0.8164258376719155, 0.8129734958611236, 0.8935807911542628, 0.8935807911542628, 2.029988909685985, 1.73894007032801, 1.0649017143730624, 1.4306968861814484, 0.9776991266615837, 1.2779330249773557, 0.7309844468092439, 1.6091695197145341, 1.2689969331058286, 1.1007405542144717, 1.4368419827305665, 0.7729136857293256, 0.7729136857293256, 0.9627995525955348, 0.7204245093400731, 0.7041719010614973, 0.6753055005468598, 0.6719212419921556, 0.6719212419921556, 0.6719212419921556, 0.6719212419921556, 0.6719212419921556, 0.6719212419921556, 0.6719212419921556, 0.6719212419921556, 0.6719212419921556, 0.6719212419921556, 0.6719212419921556, 0.6367695334357543, 0.6367695334357543, 0.6367695334357543, 0.6367695334357543, 0.6367695334357543, 0.6245059325590834, 0.6245059325590834, 0.6245059325590834, 0.6245059325590834, 0.6245059325590834, 0.6245059325590834, 0.6245059325590834, 0.6245059325590834, 0.6245059325590834, 0.6245059325590834, 0.6245059325590834, 0.6245059325590834, 0.6245059325590834, 0.6245059325590834, 0.6245059325590834, 0.6245059325590834, 0.6245059325590834, 2.029988909685985, 0.7164611125679733, 0.7775261937777977, 1.0360867451914708, 2.536571705494669, 1.0716273762964843, 0.9011408166474809, 1.8632734236318287, 1.1838472823064237, 0.7539621033697222, 0.716322400224827, 0.6886595530709598, 0.8941188523249526, 0.6504637483396225, 0.6482509824626135, 0.6482509824626135, 0.6482509824626135, 1.4368419827305665, 0.6405370612198906, 0.6405370612198906, 0.6405370612198906, 0.6405370612198906, 0.6405370612198906, 0.6405370612198906, 0.6405370612198906, 0.6405370612198906, 0.6405370612198906, 0.6405370612198906, 0.6405370612198906, 0.6405370612198906, 0.6405370612198906, 0.6405370612198906, 0.6405370612198906, 0.6405370612198906, 0.6405370612198906, 0.6405370612198906, 0.6405370612198906, 0.6405370612198906, 0.6405370612198906, 0.6405370612198906, 0.6405370612198906, 0.6405370612198906, 0.6405370612198906, 1.2961767609749164, 1.0775614192821223, 1.2689969331058286, 1.760213081471019, 0.88182092575453, 0.8482536387783093, 1.6091695197145341, 0.7498807274599665, 1.2827254965936365, 1.2991380616749681, 1.093962015283454, 0.8589944124093778, 1.2182737842363889], \"Category\": [\"Default\", \"Default\", \"Default\", \"Default\", \"Default\", \"Default\", \"Default\", \"Default\", \"Default\", \"Default\", \"Default\", \"Default\", \"Default\", \"Default\", \"Default\", \"Default\", \"Default\", \"Default\", \"Default\", \"Default\", \"Default\", \"Default\", \"Default\", \"Default\", \"Default\", \"Default\", \"Default\", \"Default\", \"Default\", \"Default\", \"Topic1\", \"Topic1\", \"Topic1\", \"Topic1\", \"Topic1\", \"Topic1\", \"Topic1\", \"Topic1\", \"Topic1\", \"Topic1\", \"Topic1\", \"Topic1\", \"Topic1\", \"Topic1\", \"Topic1\", \"Topic1\", \"Topic1\", \"Topic1\", \"Topic1\", \"Topic1\", \"Topic1\", \"Topic1\", \"Topic1\", \"Topic1\", \"Topic1\", \"Topic1\", \"Topic1\", \"Topic1\", \"Topic1\", \"Topic1\", \"Topic1\", \"Topic1\", \"Topic1\", \"Topic1\", \"Topic1\", \"Topic1\", \"Topic1\", \"Topic1\", \"Topic1\", \"Topic1\", \"Topic1\", \"Topic1\", \"Topic1\", \"Topic1\", \"Topic1\", \"Topic2\", \"Topic2\", \"Topic2\", \"Topic2\", \"Topic2\", \"Topic2\", \"Topic2\", \"Topic2\", \"Topic2\", \"Topic2\", \"Topic2\", \"Topic2\", \"Topic2\", \"Topic2\", \"Topic2\", \"Topic2\", \"Topic2\", \"Topic2\", \"Topic2\", \"Topic2\", \"Topic2\", \"Topic2\", \"Topic2\", \"Topic2\", \"Topic2\", \"Topic2\", \"Topic2\", \"Topic2\", \"Topic2\", \"Topic2\", \"Topic2\", \"Topic2\", \"Topic2\", \"Topic2\", \"Topic2\", \"Topic2\", \"Topic2\", \"Topic3\", \"Topic3\", \"Topic3\", \"Topic3\", \"Topic3\", \"Topic3\", \"Topic3\", \"Topic3\", \"Topic3\", \"Topic3\", \"Topic3\", \"Topic3\", \"Topic3\", \"Topic3\", \"Topic3\", \"Topic3\", \"Topic3\", \"Topic3\", \"Topic3\", \"Topic3\", \"Topic3\", \"Topic3\", \"Topic3\", \"Topic3\", \"Topic3\", \"Topic3\", \"Topic3\", \"Topic3\", \"Topic3\", \"Topic3\", \"Topic3\", \"Topic3\", \"Topic3\", \"Topic3\", \"Topic3\", \"Topic3\", \"Topic3\", \"Topic3\", \"Topic3\", \"Topic3\", \"Topic3\", \"Topic3\", \"Topic3\", \"Topic3\", \"Topic4\", \"Topic4\", \"Topic4\", \"Topic4\", \"Topic4\", \"Topic4\", \"Topic4\", \"Topic4\", \"Topic4\", \"Topic4\", \"Topic4\", \"Topic4\", \"Topic4\", \"Topic4\", \"Topic4\", \"Topic4\", \"Topic4\", \"Topic4\", \"Topic4\", \"Topic4\", \"Topic4\", \"Topic4\", \"Topic4\", \"Topic4\", \"Topic4\", \"Topic4\", \"Topic4\", \"Topic4\", \"Topic4\", \"Topic4\", \"Topic4\", \"Topic4\", \"Topic4\", \"Topic4\", \"Topic4\", \"Topic4\", \"Topic4\", \"Topic4\", \"Topic4\", \"Topic4\", \"Topic4\", \"Topic4\", \"Topic4\", \"Topic4\", \"Topic4\", \"Topic4\", \"Topic4\", \"Topic4\", \"Topic5\", \"Topic5\", \"Topic5\", \"Topic5\", \"Topic5\", \"Topic5\", \"Topic5\", \"Topic5\", \"Topic5\", \"Topic5\", \"Topic5\", \"Topic5\", \"Topic5\", \"Topic5\", \"Topic5\", \"Topic5\", \"Topic5\", \"Topic5\", \"Topic5\", \"Topic5\", \"Topic5\", \"Topic5\", \"Topic5\", \"Topic5\", \"Topic5\", \"Topic5\", \"Topic5\", \"Topic5\", \"Topic5\", \"Topic5\", \"Topic5\", \"Topic5\", \"Topic5\", \"Topic5\", \"Topic5\", \"Topic5\", \"Topic5\", \"Topic5\", \"Topic5\", \"Topic5\", \"Topic5\", \"Topic5\", \"Topic5\", \"Topic5\", \"Topic5\", \"Topic5\", \"Topic5\"], \"logprob\": [30.0, 29.0, 28.0, 27.0, 26.0, 25.0, 24.0, 23.0, 22.0, 21.0, 20.0, 19.0, 18.0, 17.0, 16.0, 15.0, 14.0, 13.0, 12.0, 11.0, 10.0, 9.0, 8.0, 7.0, 6.0, 5.0, 4.0, 3.0, 2.0, 1.0, -5.1037, -5.1037, -5.3058, -5.36, -5.4513, -5.3912, -5.5815, -5.5837, -5.672, -5.6141, -5.6883, -5.6883, -5.6883, -5.6883, -5.6883, -5.6883, -5.6883, -5.6883, -5.6883, -5.6883, -5.6883, -5.0319, -5.7516, -5.7516, -5.8091, -5.8479, -5.915, -5.915, -5.915, -5.915, -5.0595, -5.915, -5.915, -5.915, -5.915, -5.915, -5.915, -5.915, -5.915, -5.915, -5.6912, -5.036, -5.4749, -5.7083, -5.794, -4.6771, -5.0468, -5.1846, -5.2969, -5.2969, -5.391, -5.391, -5.391, -5.391, -5.391, -5.391, -5.391, -5.391, -5.391, -5.391, -5.391, -5.391, -5.391, -5.4179, -5.4179, -5.5736, -5.5752, -5.4209, -5.6428, -5.6448, -5.1284, -5.4961, -5.5765, -5.4521, -5.8829, -5.5014, -5.1151, -5.2585, -5.3812, -5.3812, -5.3812, -5.405, -5.0736, -5.3913, -5.4487, -5.4804, -5.4804, -5.5626, -5.5626, -5.0859, -5.7402, -5.7402, -5.7613, -5.1274, -5.7769, -5.7843, -5.7843, -5.7843, -5.7843, -5.7843, -5.7843, -5.8028, -5.8028, -4.7538, -5.8552, -5.8552, -5.8552, -5.6563, -5.2602, -5.9233, -5.9233, -5.5917, -5.6008, -5.5554, -5.5554, -5.004, -5.142, -5.5224, -5.3814, -5.6214, -5.5352, -5.7402, -5.5364, -5.6109, -5.6682, -5.7407, -5.3279, -5.3279, -5.1138, -5.4461, -5.4858, -5.5605, -5.5696, -5.5696, -5.5696, -5.5696, -5.5696, -5.5696, -5.5696, -5.5696, -5.5696, -5.5696, -5.5696, -5.6698, -5.6698, -5.6698, -5.6698, -5.6698, -5.7072, -5.7072, -5.7072, -5.7072, -5.7072, -5.7072, -5.7072, -5.7072, -5.7072, -5.7072, -5.7072, -5.7072, -5.7072, -5.7072, -5.7072, -5.7072, -5.7072, -4.8698, -5.6099, -5.5634, -5.4034, -4.8694, -5.4159, -5.6197, -5.4735, -5.5925, -5.3662, -5.4535, -5.5228, -5.2636, -5.6273, -5.6336, -5.6336, -5.6336, -4.8454, -5.6562, -5.6562, -5.6562, -5.6562, -5.6562, -5.6562, -5.6562, -5.6562, -5.6562, -5.6562, -5.6562, -5.6562, -5.6562, -5.6562, -5.6562, -5.6562, -5.6562, -5.6562, -5.6562, -5.6562, -5.6562, -5.6562, -5.6562, -5.6562, -5.6562, -5.1483, -5.3514, -5.2736, -5.0959, -5.5304, -5.5726, -5.4087, -5.6262, -5.5377, -5.6001, -5.6316, -5.6435, -5.6412], \"loglift\": [30.0, 29.0, 28.0, 27.0, 26.0, 25.0, 24.0, 23.0, 22.0, 21.0, 20.0, 19.0, 18.0, 17.0, 16.0, 15.0, 14.0, 13.0, 12.0, 11.0, 10.0, 9.0, 8.0, 7.0, 6.0, 5.0, 4.0, 3.0, 2.0, 1.0, 1.158, 1.158, 1.0939, 1.0751, 1.042, 0.9935, 0.9915, 0.9906, 0.954, 0.9507, 0.947, 0.947, 0.947, 0.947, 0.947, 0.947, 0.947, 0.947, 0.947, 0.947, 0.947, 0.9403, 0.9193, 0.9193, 0.8932, 0.8752, 0.8432, 0.8432, 0.8432, 0.8432, 0.8388, 0.8432, 0.8432, 0.8432, 0.8432, 0.8432, 0.8432, 0.8432, 0.8432, 0.8432, 0.78, 0.2896, 0.5325, 0.5749, 0.3742, 1.3098, 1.213, 1.1697, 1.1307, 1.1307, 1.0971, 1.0971, 1.0971, 1.0971, 1.0971, 1.0971, 1.0971, 1.0971, 1.0971, 1.0971, 1.0971, 1.0971, 1.0971, 1.0869, 1.0869, 1.0245, 1.0238, 1.0046, 0.9948, 0.994, 0.9743, 0.9465, 0.9285, 0.8881, 0.8829, 0.7329, 0.519, 0.5222, 0.649, 0.649, 0.649, -0.0794, 1.2323, 1.121, 1.0985, 1.0856, 1.0856, 1.0513, 1.0513, 1.0135, 0.9702, 0.9702, 0.9613, 0.9602, 0.9539, 0.9503, 0.9503, 0.9503, 0.9503, 0.9503, 0.9503, 0.9413, 0.9413, 0.9371, 0.9154, 0.9154, 0.9154, 0.9009, 0.8875, 0.8807, 0.8807, 0.8675, 0.8627, 0.8135, 0.8135, 0.5443, 0.5611, 0.6711, 0.5168, 0.6576, 0.4759, 0.8296, 0.2443, 0.4073, 0.4922, 0.1533, 1.186, 1.186, 1.1805, 1.1382, 1.1213, 1.0885, 1.0844, 1.0844, 1.0844, 1.0844, 1.0844, 1.0844, 1.0844, 1.0844, 1.0844, 1.0844, 1.0844, 1.038, 1.038, 1.038, 1.038, 1.038, 1.02, 1.02, 1.02, 1.02, 1.02, 1.02, 1.02, 1.02, 1.02, 1.02, 1.02, 1.02, 1.02, 1.02, 1.02, 1.02, 1.02, 0.6785, 0.9799, 0.9446, 0.8175, 0.4562, 0.7713, 0.7408, 0.1606, 0.4951, 1.1726, 1.1366, 1.1066, 1.1047, 1.0592, 1.0562, 1.0562, 1.0562, 1.0486, 1.0456, 1.0456, 1.0456, 1.0456, 1.0456, 1.0456, 1.0456, 1.0456, 1.0456, 1.0456, 1.0456, 1.0456, 1.0456, 1.0456, 1.0456, 1.0456, 1.0456, 1.0456, 1.0456, 1.0456, 1.0456, 1.0456, 1.0456, 1.0456, 1.0456, 0.8487, 0.8303, 0.7445, 0.5951, 0.8518, 0.8484, 0.3719, 0.918, 0.4698, 0.3946, 0.535, 0.7648, 0.4177]}, \"token.table\": {\"Topic\": [5, 3, 1, 1, 1, 1, 2, 2, 2, 3, 3, 4, 3, 5, 3, 2, 1, 1, 1, 1, 4, 5, 3, 2, 2, 2, 2, 4, 3], \"Freq\": [0.6959707553224507, 0.5750629461378584, 1.1957342709819214, 0.698960072995626, 0.7526595118606627, 1.1540245399619695, 0.6214385667567203, 0.5366898852938257, 1.1867786430780798, 1.050726240496724, 0.4926135286890252, 0.4926135286890252, 0.5681130372944933, 0.5681130372944933, 0.854733294382291, 1.0034078121127288, 1.1368485888879973, 1.0053178046590232, 1.0053178046590232, 0.39423289230650205, 0.39423289230650205, 0.771499713702514, 0.8969691373820015, 0.763762604355412, 1.1867786430780796, 1.1028970465280639, 0.8575123787331901, 1.0386377904976996, 0.8446598114919414], \"Term\": [\"business\", \"company\", \"credit\", \"december\", \"end\", \"end december\", \"energy\", \"environmental\", \"environmental rehabilitation\", \"equity\", \"financial\", \"financial\", \"global\", \"global\", \"inc\", \"inherent\", \"item\", \"month\", \"month end\", \"nature\", \"nature\", \"operation\", \"project\", \"provision\", \"rehabilitation\", \"require\", \"uncertainty\", \"value\", \"year\"]}, \"R\": 30, \"lambda.step\": 0.01, \"plot.opts\": {\"xlab\": \"PC1\", \"ylab\": \"PC2\"}, \"topic.order\": [3, 1, 2, 5, 4]};\n",
              "\n",
              "function LDAvis_load_lib(url, callback){\n",
              "  var s = document.createElement('script');\n",
              "  s.src = url;\n",
              "  s.async = true;\n",
              "  s.onreadystatechange = s.onload = callback;\n",
              "  s.onerror = function(){console.warn(\"failed to load library \" + url);};\n",
              "  document.getElementsByTagName(\"head\")[0].appendChild(s);\n",
              "}\n",
              "\n",
              "if(typeof(LDAvis) !== \"undefined\"){\n",
              "   // already loaded: just create the visualization\n",
              "   !function(LDAvis){\n",
              "       new LDAvis(\"#\" + \"ldavis_el1011401580031539207774183670\", ldavis_el1011401580031539207774183670_data);\n",
              "   }(LDAvis);\n",
              "}else if(typeof define === \"function\" && define.amd){\n",
              "   // require.js is available: use it to load d3/LDAvis\n",
              "   require.config({paths: {d3: \"https://cdnjs.cloudflare.com/ajax/libs/d3/3.5.5/d3.min\"}});\n",
              "   require([\"d3\"], function(d3){\n",
              "      window.d3 = d3;\n",
              "      LDAvis_load_lib(\"https://cdn.rawgit.com/bmabey/pyLDAvis/files/ldavis.v1.0.0.js\", function(){\n",
              "        new LDAvis(\"#\" + \"ldavis_el1011401580031539207774183670\", ldavis_el1011401580031539207774183670_data);\n",
              "      });\n",
              "    });\n",
              "}else{\n",
              "    // require.js not available: dynamically load d3 & LDAvis\n",
              "    LDAvis_load_lib(\"https://cdnjs.cloudflare.com/ajax/libs/d3/3.5.5/d3.min.js\", function(){\n",
              "         LDAvis_load_lib(\"https://cdn.rawgit.com/bmabey/pyLDAvis/files/ldavis.v1.0.0.js\", function(){\n",
              "                 new LDAvis(\"#\" + \"ldavis_el1011401580031539207774183670\", ldavis_el1011401580031539207774183670_data);\n",
              "            })\n",
              "         });\n",
              "}\n",
              "</script>"
            ],
            "text/plain": [
              "PreparedData(topic_coordinates=              x         y  topics  cluster       Freq\n",
              "topic                                                \n",
              "2      0.065274 -0.000615       1        1  22.118401\n",
              "0     -0.022360 -0.048827       2        1  20.837682\n",
              "1     -0.013075  0.040866       3        1  19.985546\n",
              "4     -0.002273 -0.011105       4        1  18.560726\n",
              "3     -0.027565  0.019681       5        1  18.497645, topic_info=              Term      Freq     Total Category  logprob  loglift\n",
              "655      provision  1.000000  1.000000  Default  30.0000  30.0000\n",
              "361         global  1.000000  1.000000  Default  29.0000  29.0000\n",
              "87        business  1.000000  1.000000  Default  28.0000  28.0000\n",
              "321      financial  2.000000  2.000000  Default  27.0000  27.0000\n",
              "410       inherent  0.000000  0.000000  Default  26.0000  26.0000\n",
              "..             ...       ...       ...      ...      ...      ...\n",
              "189           cost  0.379544  1.282725   Topic5  -5.5377   0.4698\n",
              "385        include  0.356576  1.299138   Topic5  -5.6001   0.3946\n",
              "352           fund  0.345522  1.093962   Topic5  -5.6316   0.5350\n",
              "424  international  0.341410  0.858994   Topic5  -5.6435   0.7648\n",
              "728           sale  0.342203  1.218274   Topic5  -5.6412   0.4177\n",
              "\n",
              "[251 rows x 6 columns], token_table=      Topic      Freq                          Term\n",
              "term                                               \n",
              "87        5  0.695971                      business\n",
              "133       3  0.575063                       company\n",
              "198       1  1.195734                        credit\n",
              "211       1  0.698960                      december\n",
              "241       1  0.752660                           end\n",
              "242       1  1.154025                  end december\n",
              "250       2  0.621439                        energy\n",
              "266       2  0.536690                 environmental\n",
              "270       2  1.186779  environmental rehabilitation\n",
              "275       3  1.050726                        equity\n",
              "321       3  0.492614                     financial\n",
              "321       4  0.492614                     financial\n",
              "361       3  0.568113                        global\n",
              "361       5  0.568113                        global\n",
              "382       3  0.854733                           inc\n",
              "410       2  1.003408                      inherent\n",
              "435       1  1.136849                          item\n",
              "494       1  1.005318                         month\n",
              "495       1  1.005318                     month end\n",
              "498       1  0.394233                        nature\n",
              "498       4  0.394233                        nature\n",
              "564       5  0.771500                     operation\n",
              "644       3  0.896969                       project\n",
              "655       2  0.763763                     provision\n",
              "688       2  1.186779                rehabilitation\n",
              "711       2  1.102897                       require\n",
              "840       2  0.857512                   uncertainty\n",
              "850       4  1.038638                         value\n",
              "864       3  0.844660                          year, R=30, lambda_step=0.01, plot_opts={'xlab': 'PC1', 'ylab': 'PC2'}, topic_order=[3, 1, 2, 5, 4])"
            ]
          },
          "metadata": {
            "tags": []
          },
          "execution_count": 94
        }
      ]
    },
    {
      "cell_type": "code",
      "metadata": {
        "id": "bvQE5nRfJAoQ",
        "outputId": "e90fd9b6-bad0-492a-8ad3-c74a6168a556",
        "colab": {
          "base_uri": "https://localhost:8080/"
        }
      },
      "source": [
        "# Showing the words for each topic\n",
        "n_words_to_show = 8\n",
        "display_topics(lda, tfidf_vectorizer.get_feature_names(), n_words_to_show)"
      ],
      "execution_count": 95,
      "outputs": [
        {
          "output_type": "stream",
          "text": [
            "Topic 0:\n",
            "provision inherent environmental uncertainty require energy rehabilitation environmental rehabilitation\n",
            "\n",
            "Topic 1:\n",
            "global financial equity inc year company project december\n",
            "\n",
            "Topic 2:\n",
            "end nature december month month end end december credit item\n",
            "\n",
            "Topic 3:\n",
            "business global operation ongoing corporation continue oil energy\n",
            "\n",
            "Topic 4:\n",
            "nature financial value fair fair value contract base intend\n",
            "\n"
          ],
          "name": "stdout"
        }
      ]
    },
    {
      "cell_type": "markdown",
      "metadata": {
        "id": "evCKsINxJDRg"
      },
      "source": [
        "**Rating 4**"
      ]
    },
    {
      "cell_type": "code",
      "metadata": {
        "id": "WyGbxZ76JEu_",
        "outputId": "7d204650-be32-4beb-f36d-78ba378e1a70",
        "colab": {
          "base_uri": "https://localhost:8080/",
          "height": 881
        }
      },
      "source": [
        "# Creating the rating's dataset\n",
        "scoped_data = filtered_data.loc[filtered_data.rating_quarters == 4, :]\n",
        "\n",
        "# Training the LDA model\n",
        "tfidf_vectorizer = TfidfVectorizer(ngram_range = (1, 3),\n",
        "                                   max_df = maxdf,\n",
        "                                   min_df = mindf,\n",
        "                                   max_features = None)\n",
        "tfidf_fit = tfidf_vectorizer.fit_transform(scoped_data.text)\n",
        "lda = LatentDirichletAllocation(n_components = 5, \n",
        "                                random_state = 69)\n",
        "lda.fit(tfidf_fit)\n",
        "\n",
        "# LDA visualisation\n",
        "pyLDAvis.sklearn.prepare(lda, tfidf_fit, tfidf_vectorizer)"
      ],
      "execution_count": 96,
      "outputs": [
        {
          "output_type": "execute_result",
          "data": {
            "text/html": [
              "\n",
              "<link rel=\"stylesheet\" type=\"text/css\" href=\"https://cdn.rawgit.com/bmabey/pyLDAvis/files/ldavis.v1.0.0.css\">\n",
              "\n",
              "\n",
              "<div id=\"ldavis_el1011401579830155842992708790\"></div>\n",
              "<script type=\"text/javascript\">\n",
              "\n",
              "var ldavis_el1011401579830155842992708790_data = {\"mdsDat\": {\"x\": [-0.06263318300874504, 0.005929687205398946, 0.013547280287260361, 0.03165125967557746, 0.011504955840508264], \"y\": [-0.010441894816357903, 0.05677202134578733, -0.016882680757803425, -0.021003528469006997, -0.008443917302619043], \"topics\": [1, 2, 3, 4, 5], \"cluster\": [1, 1, 1, 1, 1], \"Freq\": [26.481371175303348, 23.777517033087232, 17.452098339455244, 16.163683566775454, 16.12532988537872]}, \"tinfo\": {\"Term\": [\"keyera\", \"risk\", \"look\", \"forward look\", \"forward\", \"value\", \"future\", \"result\", \"provision\", \"rimbey\", \"keyera energy\", \"energy\", \"liability\", \"british\", \"incorporate\", \"columbia\", \"british columbia\", \"restoration\", \"trevali\", \"structure\", \"tailing\", \"outline nature\", \"outline\", \"opinion financial\", \"opinion\", \"express opinion financial\", \"express opinion\", \"assumption\", \"value short\", \"approximate fair value\", \"operation go concern\", \"operation go\", \"go\", \"go concern\", \"nature operation go\", \"concern\", \"provide\", \"production\", \"financial determine\", \"classification depend nature\", \"financial determine time\", \"time initial recognition\", \"time initial\", \"time\", \"classification depend\", \"determine time initial\", \"determine time\", \"purpose financial determine\", \"nexgen\", \"industry\", \"total\", \"energy service\", \"public\", \"uranium\", \"service\", \"investment\", \"mega\", \"long\", \"concern note\", \"go concern note\", \"gold\", \"exploration\", \"year\", \"note\", \"development\", \"energy\", \"total energy\", \"company\", \"operation\", \"nature operation\", \"nature\", \"cost\", \"risk\", \"forward\", \"forward look\", \"look\", \"inherent\", \"risk uncertainty\", \"uncertainty\", \"ability\", \"inherent risk uncertainty\", \"inherent risk\", \"nature forward look\", \"nature forward\", \"information\", \"price\", \"subject\", \"subject inherent\", \"subject inherent risk\", \"assumption subject inherent\", \"assumption subject\", \"future\", \"revenue\", \"policy\", \"financial position\", \"assumption\", \"performance\", \"promise\", \"form\", \"rate\", \"amendment\", \"application environmental permit\", \"application environmental\", \"require\", \"financial\", \"nature\", \"environmental\", \"include\", \"company\", \"energy\", \"provision\", \"british\", \"incorporate\", \"columbia\", \"british columbia\", \"trevali\", \"structure\", \"tailing\", \"approximate fair value\", \"approximate fair\", \"fair value short\", \"value short term\", \"value short\", \"corporation company\", \"company incorporate\", \"value\", \"corporation company incorporate\", \"absolute\", \"software corporation company\", \"software corporation\", \"operation absolute software\", \"software\", \"absolute software\", \"absolute software corporation\", \"company incorporate company\", \"operation absolute\", \"incorporate company act\", \"nature operation absolute\", \"act british\", \"company act british\", \"company act\", \"incorporate company\", \"act british columbia\", \"act\", \"columbia november\", \"british columbia november\", \"restoration\", \"result\", \"corporation\", \"fair value\", \"fair\", \"short\", \"short term nature\", \"approximate\", \"short term\", \"liability\", \"carry\", \"company\", \"financial liability\", \"term nature\", \"nature\", \"financial\", \"global\", \"keyera\", \"rimbey\", \"keyera energy\", \"opinion financial\", \"outline nature\", \"opinion\", \"express opinion financial\", \"outline\", \"express opinion\", \"determination\", \"unregistered\", \"energy inc kei\", \"keyera energy inc\", \"energy inc\", \"keyera krpl\", \"krl\", \"energy kel\", \"krl keyera krpl\", \"keyera rimbey\", \"keyera rimbey krl\", \"energy kel keyera\", \"krl keyera\", \"kel keyera energy\", \"inc kei\", \"rimbey krl\", \"kel keyera\", \"rimbey krl keyera\", \"inc kei keyera\", \"krpl\", \"kei\", \"kei keyera rimbey\", \"kei keyera\", \"environmental rehabilitation provision\", \"rehabilitation provision\", \"property\", \"express\", \"etf\", \"rehabilitation\", \"energy\", \"provision\", \"report\", \"environmental\", \"increase\", \"environmental rehabilitation\", \"strong\", \"saputo\", \"condition\", \"expect\", \"settlement\", \"direct\", \"segment\", \"product\", \"expense\", \"operating segment\", \"operation customer\", \"nature product service\", \"segment comprise operating\", \"segment comprise\", \"service offer sale\", \"segment aggregate primarily\", \"service offer\", \"offer sale\", \"comprise\", \"comprise operating\", \"offer sale retail\", \"offer\", \"comprise operating segment\", \"customer base\", \"similarity\", \"similarity nature\", \"similarity nature product\", \"nature product\", \"segment aggregate\", \"operating segment aggregate\", \"government\", \"retail\", \"retail operation\", \"retail operation customer\", \"aggregate primarily similarity\", \"sale retail\", \"sale retail operation\", \"operation customer base\", \"product service offer\", \"primarily similarity nature\", \"income\", \"define benefit\", \"operating\", \"plan\", \"non\", \"primarily similarity\", \"benefit\", \"tax\", \"aggregate primarily\", \"aggregate\", \"base\", \"define\", \"environmental rehabilitation\", \"sale\", \"provision environmental\", \"provision\", \"environmental permit\", \"environmental\", \"dairy\", \"global dairy\", \"permit\", \"rehabilitation\", \"liability\", \"global\"], \"Freq\": [1.0, 1.0, 0.0, 0.0, 0.0, 0.0, 1.0, 1.0, 1.0, 0.0, 0.0, 2.0, 1.0, 0.0, 0.0, 0.0, 0.0, 0.0, 0.0, 0.0, 0.0, 0.0, 0.0, 0.0, 0.0, 0.0, 0.0, 0.0, 0.0, 0.0, 0.5544972336171415, 0.5544972336171415, 0.5544972336171415, 0.5544972336171415, 0.5544972336171415, 0.5544972336171415, 0.5051044588183622, 0.7243829242795836, 0.4558772542105851, 0.4558772542105851, 0.4558772542105851, 0.4558772542105851, 0.4558772542105851, 0.4558772542105851, 0.4558772542105851, 0.4558772542105851, 0.4558772542105851, 0.4558772542105851, 0.4558716852259262, 0.5149637882913796, 0.5914742850407204, 0.39506693055374137, 0.38682602513225456, 0.38301626592661125, 0.5847210360342251, 0.35741136836387505, 0.35329641487096464, 0.42360356825581574, 0.3459720622977996, 0.3459720622977996, 0.4244444099920253, 0.5811975983439237, 0.6750586360223433, 0.4239080743322792, 0.5059728220256802, 0.8302940037882881, 0.4465536890933754, 0.7324406901174426, 0.5603249901883117, 0.4774419353178857, 0.5519590500428119, 0.4853986863361672, 0.7737076012177282, 0.7173342596187219, 0.7173342596187218, 0.7173342596187218, 0.5326756997376272, 0.5295620473577382, 0.5295620473577382, 0.5077229092216817, 0.4899355971334029, 0.4899355971334029, 0.4601595315546116, 0.4601595315546116, 0.4524285159641465, 0.44215295975554814, 0.5567503244859209, 0.42999581864288833, 0.42999581864288833, 0.42999581864288833, 0.42999581864288833, 0.6490430798523521, 0.4132558003988423, 0.41093592987676575, 0.40613437191738405, 0.5622821731510957, 0.40119930313879315, 0.4003660011241154, 0.38379113121046987, 0.4632397004194634, 0.3581315890095438, 0.3581315890095438, 0.3581315890095438, 0.47840114955201996, 0.7450802851143705, 0.9264017157048158, 0.7267003147010168, 0.5417387743514219, 0.7133984980681138, 0.6921280810187849, 0.42985711198648324, 0.35953908695035364, 0.35953908695035364, 0.35953908695035364, 0.35953908695035364, 0.3566571136316012, 0.3549444685843347, 0.3549444685843347, 0.34658771824757373, 0.34658771824757373, 0.34658771824757373, 0.34658771824757373, 0.34658771824757373, 0.30977841928318695, 0.30710448551891417, 0.48137562645542126, 0.2534274819644632, 0.2534274819644632, 0.2534274819644632, 0.2534274819644632, 0.2534274819644632, 0.2534274819644632, 0.2534274819644632, 0.2534274819644632, 0.2534274819644632, 0.2534274819644632, 0.2534274819644632, 0.2534274819644632, 0.2534274819644632, 0.2534274819644632, 0.2534274819644632, 0.2534274819644632, 0.2534274819644632, 0.2534274819644632, 0.2534274819644632, 0.2534274819644632, 0.34159457719398495, 0.4334782175326609, 0.3901033092426731, 0.3519697257314264, 0.35196963151596555, 0.3268869511499179, 0.3268869511499179, 0.3268869511499179, 0.3268869511499179, 0.42399226846966503, 0.28021388198911235, 0.5188943087691511, 0.2921651153687733, 0.3055645671936139, 0.4258509353131532, 0.3459445557458334, 0.30986754540283845, 0.7177395556055638, 0.33697649013242686, 0.33697649013242686, 0.3167769224839566, 0.3167769224839566, 0.3167769224839566, 0.3167769224839566, 0.3167769224839566, 0.3167769224839566, 0.269753705301831, 0.25990994434521836, 0.25422437172969015, 0.25422437172969015, 0.25422437172969015, 0.25422437172969015, 0.25422437172969015, 0.25422437172969015, 0.25422437172969015, 0.25422437172969015, 0.25422437172969015, 0.25422437172969015, 0.25422437172969015, 0.25422437172969015, 0.25422437172969015, 0.25422437172969015, 0.25422437172969015, 0.25422437172969015, 0.25422437172969015, 0.25422437172969015, 0.25422437172969015, 0.25422437172969015, 0.25422437172969015, 0.31081779406801996, 0.31081779406801985, 0.2849292068154058, 0.29461395367515153, 0.29344427956978375, 0.33965976309557894, 0.4285350281889763, 0.32280473957897665, 0.2853938669377291, 0.3238277085614741, 0.26431954241913014, 0.2647952635107919, 0.2929153181176481, 0.2866237325699958, 0.26927243202415324, 0.3040642123333182, 0.225211073553606, 0.22233906681998927, 0.24986917776770318, 0.2361422551715256, 0.20030944487733096, 0.16306261359516502, 0.16306261359516502, 0.16306261359516502, 0.16306261359516502, 0.16306261359516502, 0.16306261359516502, 0.16306261359516502, 0.16306261359516502, 0.16306261359516502, 0.16306261359516502, 0.16306261359516502, 0.16306261359516502, 0.16306261359516502, 0.16306261359516502, 0.16306261359516502, 0.16306261359516502, 0.16306261359516502, 0.16306261359516502, 0.16306261359516502, 0.16306261359516502, 0.16306261359516502, 0.22640311339154426, 0.16306261359516502, 0.16306261359516502, 0.16306261359516502, 0.16306261359516502, 0.16306261359516502, 0.16306261359516502, 0.16306261359516502, 0.16306261359516502, 0.16306261359516502, 0.20281303188221508, 0.20884726357443423, 0.21970734959770247, 0.27091620896579083, 0.20605249319908392, 0.16306261359516502, 0.2707319766770206, 0.2027737949705773, 0.16306261359516502, 0.16306261359516502, 0.278806601214504, 0.20145301890206713, 0.23941628233728046, 0.24124548280522434, 0.20265728731536212, 0.2659576311528679, 0.2169792963237381, 0.3187468831670845, 0.1850533488082311, 0.1850533488082311, 0.20476110308757972, 0.2181559609741275, 0.21534353012122345, 0.22130155453064831], \"Total\": [1.0, 1.0, 0.0, 0.0, 0.0, 0.0, 1.0, 1.0, 1.0, 0.0, 0.0, 2.0, 1.0, 0.0, 0.0, 0.0, 0.0, 0.0, 0.0, 0.0, 0.0, 0.0, 0.0, 0.0, 0.0, 0.0, 0.0, 0.0, 0.0, 0.0, 0.8289422048204163, 0.8289422048204163, 0.8289422048204163, 0.8289422048204163, 0.8289422048204163, 0.8289422048204163, 0.7795577091843416, 1.1589157890175859, 0.730318648585265, 0.730318648585265, 0.730318648585265, 0.730318648585265, 0.730318648585265, 0.730318648585265, 0.730318648585265, 0.730318648585265, 0.730318648585265, 0.730318648585265, 0.7303145848744604, 0.864848205935746, 0.9975115433376972, 0.6695129589208806, 0.6612757521831616, 0.6574555974251695, 1.019433707875193, 0.6318561234762876, 0.6277386112055872, 0.758403784082157, 0.6204210959405201, 0.6204210959405201, 0.7637236631540678, 1.0942157029024497, 1.3041034728546095, 0.785465288369625, 1.0088838171055885, 2.141039703551438, 0.8649394188113425, 2.245057100472567, 1.3579553361113952, 1.0700790956940551, 2.2718517942565173, 1.3192000005541893, 1.0534298504394441, 0.9968729550748111, 0.996872955074811, 0.996872955074811, 0.8122195746650868, 0.80893959994549, 0.80893959994549, 0.7876856581751894, 0.7693133156354299, 0.7693133156354299, 0.7395374754163434, 0.7395374754163434, 0.7322218355805352, 0.7220447432557097, 0.9131169035438904, 0.70937404447882, 0.70937404447882, 0.70937404447882, 0.70937404447882, 1.0803767568289822, 0.692661819715781, 0.6905760719167225, 0.6855181615487262, 0.9491559752048524, 0.6805792675202177, 0.6797575995373393, 0.6631823671533401, 0.8107853947696342, 0.6375199781627265, 0.6375199781627265, 0.6375199781627265, 0.9063051336309276, 1.6821404788348002, 2.2718517942565173, 1.8380174891838341, 1.2498937339966443, 2.245057100472567, 2.141039703551438, 1.1696560898043005, 0.6510254313442808, 0.6510254313442808, 0.6510254313442808, 0.6510254313442808, 0.6481447844240666, 0.6464432324057855, 0.6464432324057855, 0.6380733993407117, 0.6380733993407117, 0.6380733993407117, 0.6380733993407117, 0.6380733993407117, 0.601265090873715, 0.5985910339084278, 0.9769334304966156, 0.5449144250599458, 0.5449144250599458, 0.5449144250599458, 0.5449144250599458, 0.5449144250599458, 0.5449144250599458, 0.5449144250599458, 0.5449144250599458, 0.5449144250599458, 0.5449144250599458, 0.5449144250599458, 0.5449144250599458, 0.5449144250599458, 0.5449144250599458, 0.5449144250599458, 0.5449144250599458, 0.5449144250599458, 0.5449144250599458, 0.5449144250599458, 0.5449144250599458, 0.7565601245971472, 1.016177224663715, 0.9492390809393764, 0.8316091738363136, 0.831609169360527, 0.7568498407944382, 0.7568498407944382, 0.7568498407944382, 0.7568498407944382, 1.0805410411115854, 0.6361166485692157, 2.245057100472567, 0.7273044446234557, 0.8506568178433223, 2.2718517942565173, 1.6821404788348002, 1.309971445203879, 1.0123517815586653, 0.6315902729248764, 0.6315902729248764, 0.6113956058189497, 0.6113956058189497, 0.6113956058189497, 0.6113956058189497, 0.6113956058189497, 0.6113956058189497, 0.5644265138713636, 0.5545232375544571, 0.5488396398164466, 0.5488396398164466, 0.5488396398164466, 0.5488396398164466, 0.5488396398164466, 0.5488396398164466, 0.5488396398164466, 0.5488396398164466, 0.5488396398164466, 0.5488396398164466, 0.5488396398164466, 0.5488396398164466, 0.5488396398164466, 0.5488396398164466, 0.5488396398164466, 0.5488396398164466, 0.5488396398164466, 0.5488396398164466, 0.5488396398164466, 0.5488396398164466, 0.5488396398164466, 0.6812262658086359, 0.6812262658086359, 0.661172199278142, 0.7483629622009673, 0.7541018542555703, 1.0991239492646223, 2.141039703551438, 1.1696560898043005, 0.8091206817385562, 1.8380174891838341, 0.7959390162698424, 0.8488655126180924, 0.5868897652070149, 0.5805977977257515, 0.57245395888756, 0.6717732471226064, 0.519173092735621, 0.5163012363613719, 0.6497847356819462, 0.6378769323835429, 0.5605292984883575, 0.45702889080003606, 0.45702889080003606, 0.45702889080003606, 0.45702889080003606, 0.45702889080003606, 0.45702889080003606, 0.45702889080003606, 0.45702889080003606, 0.45702889080003606, 0.45702889080003606, 0.45702889080003606, 0.45702889080003606, 0.45702889080003606, 0.45702889080003606, 0.45702889080003606, 0.45702889080003606, 0.45702889080003606, 0.45702889080003606, 0.45702889080003606, 0.45702889080003606, 0.45702889080003606, 0.6348764400268418, 0.45702889080003606, 0.45702889080003606, 0.45702889080003606, 0.45702889080003606, 0.45702889080003606, 0.45702889080003606, 0.45702889080003606, 0.45702889080003606, 0.45702889080003606, 0.5712965610843791, 0.5972414899957188, 0.6311443341110315, 0.7975920421962203, 0.591994500886374, 0.45702889080003606, 0.8368206273411136, 0.6039640205860792, 0.45702889080003606, 0.45702889080003606, 1.0049263735671654, 0.6275228545239508, 0.8488655126180924, 0.9234671728618158, 0.686788046977601, 1.1696560898043005, 0.824178173449212, 1.8380174891838341, 0.6054617647232254, 0.6054617647232254, 0.899421557585961, 1.0991239492646223, 1.0805410411115854, 1.309971445203879], \"Category\": [\"Default\", \"Default\", \"Default\", \"Default\", \"Default\", \"Default\", \"Default\", \"Default\", \"Default\", \"Default\", \"Default\", \"Default\", \"Default\", \"Default\", \"Default\", \"Default\", \"Default\", \"Default\", \"Default\", \"Default\", \"Default\", \"Default\", \"Default\", \"Default\", \"Default\", \"Default\", \"Default\", \"Default\", \"Default\", \"Default\", \"Topic1\", \"Topic1\", \"Topic1\", \"Topic1\", \"Topic1\", \"Topic1\", \"Topic1\", \"Topic1\", \"Topic1\", \"Topic1\", \"Topic1\", \"Topic1\", \"Topic1\", \"Topic1\", \"Topic1\", \"Topic1\", \"Topic1\", \"Topic1\", \"Topic1\", \"Topic1\", \"Topic1\", \"Topic1\", \"Topic1\", \"Topic1\", \"Topic1\", \"Topic1\", \"Topic1\", \"Topic1\", \"Topic1\", \"Topic1\", \"Topic1\", \"Topic1\", \"Topic1\", \"Topic1\", \"Topic1\", \"Topic1\", \"Topic1\", \"Topic1\", \"Topic1\", \"Topic1\", \"Topic1\", \"Topic1\", \"Topic2\", \"Topic2\", \"Topic2\", \"Topic2\", \"Topic2\", \"Topic2\", \"Topic2\", \"Topic2\", \"Topic2\", \"Topic2\", \"Topic2\", \"Topic2\", \"Topic2\", \"Topic2\", \"Topic2\", \"Topic2\", \"Topic2\", \"Topic2\", \"Topic2\", \"Topic2\", \"Topic2\", \"Topic2\", \"Topic2\", \"Topic2\", \"Topic2\", \"Topic2\", \"Topic2\", \"Topic2\", \"Topic2\", \"Topic2\", \"Topic2\", \"Topic2\", \"Topic2\", \"Topic2\", \"Topic2\", \"Topic2\", \"Topic2\", \"Topic2\", \"Topic2\", \"Topic3\", \"Topic3\", \"Topic3\", \"Topic3\", \"Topic3\", \"Topic3\", \"Topic3\", \"Topic3\", \"Topic3\", \"Topic3\", \"Topic3\", \"Topic3\", \"Topic3\", \"Topic3\", \"Topic3\", \"Topic3\", \"Topic3\", \"Topic3\", \"Topic3\", \"Topic3\", \"Topic3\", \"Topic3\", \"Topic3\", \"Topic3\", \"Topic3\", \"Topic3\", \"Topic3\", \"Topic3\", \"Topic3\", \"Topic3\", \"Topic3\", \"Topic3\", \"Topic3\", \"Topic3\", \"Topic3\", \"Topic3\", \"Topic3\", \"Topic3\", \"Topic3\", \"Topic3\", \"Topic3\", \"Topic3\", \"Topic3\", \"Topic3\", \"Topic3\", \"Topic3\", \"Topic3\", \"Topic3\", \"Topic3\", \"Topic3\", \"Topic3\", \"Topic3\", \"Topic4\", \"Topic4\", \"Topic4\", \"Topic4\", \"Topic4\", \"Topic4\", \"Topic4\", \"Topic4\", \"Topic4\", \"Topic4\", \"Topic4\", \"Topic4\", \"Topic4\", \"Topic4\", \"Topic4\", \"Topic4\", \"Topic4\", \"Topic4\", \"Topic4\", \"Topic4\", \"Topic4\", \"Topic4\", \"Topic4\", \"Topic4\", \"Topic4\", \"Topic4\", \"Topic4\", \"Topic4\", \"Topic4\", \"Topic4\", \"Topic4\", \"Topic4\", \"Topic4\", \"Topic4\", \"Topic4\", \"Topic4\", \"Topic4\", \"Topic4\", \"Topic4\", \"Topic4\", \"Topic4\", \"Topic4\", \"Topic4\", \"Topic4\", \"Topic5\", \"Topic5\", \"Topic5\", \"Topic5\", \"Topic5\", \"Topic5\", \"Topic5\", \"Topic5\", \"Topic5\", \"Topic5\", \"Topic5\", \"Topic5\", \"Topic5\", \"Topic5\", \"Topic5\", \"Topic5\", \"Topic5\", \"Topic5\", \"Topic5\", \"Topic5\", \"Topic5\", \"Topic5\", \"Topic5\", \"Topic5\", \"Topic5\", \"Topic5\", \"Topic5\", \"Topic5\", \"Topic5\", \"Topic5\", \"Topic5\", \"Topic5\", \"Topic5\", \"Topic5\", \"Topic5\", \"Topic5\", \"Topic5\", \"Topic5\", \"Topic5\", \"Topic5\", \"Topic5\", \"Topic5\", \"Topic5\", \"Topic5\", \"Topic5\", \"Topic5\", \"Topic5\", \"Topic5\", \"Topic5\", \"Topic5\", \"Topic5\", \"Topic5\", \"Topic5\", \"Topic5\", \"Topic5\", \"Topic5\", \"Topic5\", \"Topic5\", \"Topic5\", \"Topic5\", \"Topic5\", \"Topic5\", \"Topic5\", \"Topic5\"], \"logprob\": [30.0, 29.0, 28.0, 27.0, 26.0, 25.0, 24.0, 23.0, 22.0, 21.0, 20.0, 19.0, 18.0, 17.0, 16.0, 15.0, 14.0, 13.0, 12.0, 11.0, 10.0, 9.0, 8.0, 7.0, 6.0, 5.0, 4.0, 3.0, 2.0, 1.0, -5.5432, -5.5432, -5.5432, -5.5432, -5.5432, -5.5432, -5.6365, -5.2759, -5.739, -5.739, -5.739, -5.739, -5.739, -5.739, -5.739, -5.739, -5.739, -5.739, -5.7391, -5.6172, -5.4786, -5.8822, -5.9033, -5.9132, -5.4901, -5.9824, -5.994, -5.8125, -6.0149, -6.0149, -5.8105, -5.4962, -5.3465, -5.8117, -5.6348, -5.1395, -5.7597, -5.2649, -5.5327, -5.6928, -5.5478, -5.6763, -5.1024, -5.178, -5.178, -5.178, -5.4757, -5.4815, -5.4815, -5.5236, -5.5593, -5.5593, -5.622, -5.622, -5.6389, -5.6619, -5.4314, -5.6898, -5.6898, -5.6898, -5.6898, -5.2781, -5.7295, -5.7351, -5.7469, -5.4216, -5.7591, -5.7612, -5.8035, -5.6153, -5.8727, -5.8727, -5.8727, -5.5831, -5.1401, -4.9223, -5.165, -5.4588, -5.1835, -5.2138, -5.6901, -5.5595, -5.5595, -5.5595, -5.5595, -5.5675, -5.5723, -5.5723, -5.5961, -5.5961, -5.5961, -5.5961, -5.5961, -5.7084, -5.7171, -5.2676, -5.9092, -5.9092, -5.9092, -5.9092, -5.9092, -5.9092, -5.9092, -5.9092, -5.9092, -5.9092, -5.9092, -5.9092, -5.9092, -5.9092, -5.9092, -5.9092, -5.9092, -5.9092, -5.9092, -5.9092, -5.6107, -5.3724, -5.4779, -5.5807, -5.5807, -5.6547, -5.6547, -5.6547, -5.6547, -5.3946, -5.8087, -5.1926, -5.767, -5.7221, -5.3902, -5.598, -5.7081, -4.7915, -5.5476, -5.5476, -5.6094, -5.6094, -5.6094, -5.6094, -5.6094, -5.6094, -5.7701, -5.8073, -5.8294, -5.8294, -5.8294, -5.8294, -5.8294, -5.8294, -5.8294, -5.8294, -5.8294, -5.8294, -5.8294, -5.8294, -5.8294, -5.8294, -5.8294, -5.8294, -5.8294, -5.8294, -5.8294, -5.8294, -5.8294, -5.6284, -5.6284, -5.7153, -5.6819, -5.6859, -5.5396, -5.3072, -5.5905, -5.7137, -5.5874, -5.7904, -5.7886, -5.6853, -5.707, -5.7695, -5.648, -5.9482, -5.961, -5.8443, -5.9008, -6.0654, -6.2711, -6.2711, -6.2711, -6.2711, -6.2711, -6.2711, -6.2711, -6.2711, -6.2711, -6.2711, -6.2711, -6.2711, -6.2711, -6.2711, -6.2711, -6.2711, -6.2711, -6.2711, -6.2711, -6.2711, -6.2711, -5.9429, -6.2711, -6.2711, -6.2711, -6.2711, -6.2711, -6.2711, -6.2711, -6.2711, -6.2711, -6.0529, -6.0236, -5.9729, -5.7634, -6.0371, -6.2711, -5.7641, -6.0531, -6.2711, -6.2711, -5.7347, -6.0597, -5.887, -5.8794, -6.0537, -5.7819, -5.9854, -5.6008, -6.1446, -6.1446, -6.0434, -5.98, -5.993, -5.9657], \"loglift\": [30.0, 29.0, 28.0, 27.0, 26.0, 25.0, 24.0, 23.0, 22.0, 21.0, 20.0, 19.0, 18.0, 17.0, 16.0, 15.0, 14.0, 13.0, 12.0, 11.0, 10.0, 9.0, 8.0, 7.0, 6.0, 5.0, 4.0, 3.0, 2.0, 1.0, 0.9266, 0.9266, 0.9266, 0.9266, 0.9266, 0.9266, 0.8948, 0.8588, 0.8575, 0.8575, 0.8575, 0.8575, 0.8575, 0.8575, 0.8575, 0.8575, 0.8575, 0.8575, 0.8575, 0.8103, 0.8061, 0.8012, 0.7925, 0.7884, 0.7729, 0.759, 0.7539, 0.7463, 0.7447, 0.7447, 0.7413, 0.696, 0.6703, 0.712, 0.6386, 0.3815, 0.6676, 0.2086, 0.4435, 0.5217, -0.0861, 0.3289, 1.1278, 1.1073, 1.1073, 1.1073, 1.0146, 1.0128, 1.0128, 0.9973, 0.9852, 0.9852, 0.962, 0.962, 0.955, 0.946, 0.9417, 0.9358, 0.9358, 0.9358, 0.9358, 0.9269, 0.92, 0.9173, 0.9129, 0.9129, 0.9079, 0.9071, 0.8895, 0.8767, 0.8597, 0.8597, 0.8597, 0.7975, 0.6221, 0.5394, 0.5085, 0.6004, 0.29, 0.3072, 0.4354, 1.152, 1.152, 1.152, 1.152, 1.1484, 1.1462, 1.1462, 1.1354, 1.1354, 1.1354, 1.1354, 1.1354, 1.0825, 1.0783, 1.0379, 0.9802, 0.9802, 0.9802, 0.9802, 0.9802, 0.9802, 0.9802, 0.9802, 0.9802, 0.9802, 0.9802, 0.9802, 0.9802, 0.9802, 0.9802, 0.9802, 0.9802, 0.9802, 0.9802, 0.9802, 0.9506, 0.8937, 0.8565, 0.8859, 0.8859, 0.9062, 0.9062, 0.9062, 0.9062, 0.8102, 0.9259, 0.2809, 0.8337, 0.7219, 0.0714, 0.1642, 0.3041, 1.4785, 1.1942, 1.1942, 1.1649, 1.1649, 1.1649, 1.1649, 1.1649, 1.1649, 1.0841, 1.0646, 1.0528, 1.0528, 1.0528, 1.0528, 1.0528, 1.0528, 1.0528, 1.0528, 1.0528, 1.0528, 1.0528, 1.0528, 1.0528, 1.0528, 1.0528, 1.0528, 1.0528, 1.0528, 1.0528, 1.0528, 1.0528, 1.0377, 1.0377, 0.9806, 0.8902, 0.8786, 0.6481, 0.2137, 0.535, 0.7803, 0.0862, 0.72, 0.6575, 1.1298, 1.1189, 1.0706, 1.0321, 0.9896, 0.9823, 0.8691, 0.8311, 0.7958, 0.7942, 0.7942, 0.7942, 0.7942, 0.7942, 0.7942, 0.7942, 0.7942, 0.7942, 0.7942, 0.7942, 0.7942, 0.7942, 0.7942, 0.7942, 0.7942, 0.7942, 0.7942, 0.7942, 0.7942, 0.7942, 0.7937, 0.7942, 0.7942, 0.7942, 0.7942, 0.7942, 0.7942, 0.7942, 0.7942, 0.7942, 0.7892, 0.7741, 0.7695, 0.745, 0.7694, 0.7942, 0.6963, 0.7334, 0.7942, 0.7942, 0.5426, 0.6886, 0.5591, 0.4825, 0.6043, 0.3437, 0.4902, 0.0727, 0.6394, 0.6394, 0.3449, 0.2077, 0.2118, 0.0465]}, \"token.table\": {\"Topic\": [2, 2, 1, 2, 3, 1, 1, 1, 2, 2, 1, 2, 2, 2, 2, 1, 1, 2, 1, 2, 4, 2, 1, 2, 1, 1, 1, 1, 1, 1, 2, 2, 1, 2, 1, 2, 1], \"Freq\": [1.2695419671810118, 1.053567618097936, 0.44542296932648523, 0.44542296932648523, 0.44542296932648523, 1.206356720872527, 0.9911944101441973, 0.4670628005362326, 0.4670628005362326, 0.544064463958962, 0.9138965903591596, 0.594480670658784, 1.0031368540085976, 1.0031368540085976, 0.9256030303124104, 1.206356720872527, 1.206356720872527, 0.8000680160243805, 1.1562722719856058, 1.2311941637362571, 0.9877989234733722, 1.0031368540085976, 0.44016955794744456, 0.44016955794744456, 1.206356720872527, 0.73640124487715, 1.206356720872527, 1.206356720872527, 0.8628754647028332, 1.2827786682352345, 0.9492801059157802, 1.2361862369791075, 0.9809367615323427, 1.0951500252803428, 1.0024946645268649, 1.2361862369791075, 0.7668103189780302], \"Term\": [\"ability\", \"assumption\", \"company\", \"company\", \"company\", \"concern\", \"development\", \"energy\", \"energy\", \"environmental\", \"exploration\", \"financial\", \"forward\", \"forward look\", \"future\", \"go\", \"go concern\", \"include\", \"industry\", \"inherent\", \"keyera\", \"look\", \"nature\", \"nature\", \"nature operation go\", \"operation\", \"operation go\", \"operation go concern\", \"production\", \"provide\", \"risk\", \"risk uncertainty\", \"service\", \"subject\", \"total\", \"uncertainty\", \"year\"]}, \"R\": 30, \"lambda.step\": 0.01, \"plot.opts\": {\"xlab\": \"PC1\", \"ylab\": \"PC2\"}, \"topic.order\": [3, 4, 5, 1, 2]};\n",
              "\n",
              "function LDAvis_load_lib(url, callback){\n",
              "  var s = document.createElement('script');\n",
              "  s.src = url;\n",
              "  s.async = true;\n",
              "  s.onreadystatechange = s.onload = callback;\n",
              "  s.onerror = function(){console.warn(\"failed to load library \" + url);};\n",
              "  document.getElementsByTagName(\"head\")[0].appendChild(s);\n",
              "}\n",
              "\n",
              "if(typeof(LDAvis) !== \"undefined\"){\n",
              "   // already loaded: just create the visualization\n",
              "   !function(LDAvis){\n",
              "       new LDAvis(\"#\" + \"ldavis_el1011401579830155842992708790\", ldavis_el1011401579830155842992708790_data);\n",
              "   }(LDAvis);\n",
              "}else if(typeof define === \"function\" && define.amd){\n",
              "   // require.js is available: use it to load d3/LDAvis\n",
              "   require.config({paths: {d3: \"https://cdnjs.cloudflare.com/ajax/libs/d3/3.5.5/d3.min\"}});\n",
              "   require([\"d3\"], function(d3){\n",
              "      window.d3 = d3;\n",
              "      LDAvis_load_lib(\"https://cdn.rawgit.com/bmabey/pyLDAvis/files/ldavis.v1.0.0.js\", function(){\n",
              "        new LDAvis(\"#\" + \"ldavis_el1011401579830155842992708790\", ldavis_el1011401579830155842992708790_data);\n",
              "      });\n",
              "    });\n",
              "}else{\n",
              "    // require.js not available: dynamically load d3 & LDAvis\n",
              "    LDAvis_load_lib(\"https://cdnjs.cloudflare.com/ajax/libs/d3/3.5.5/d3.min.js\", function(){\n",
              "         LDAvis_load_lib(\"https://cdn.rawgit.com/bmabey/pyLDAvis/files/ldavis.v1.0.0.js\", function(){\n",
              "                 new LDAvis(\"#\" + \"ldavis_el1011401579830155842992708790\", ldavis_el1011401579830155842992708790_data);\n",
              "            })\n",
              "         });\n",
              "}\n",
              "</script>"
            ],
            "text/plain": [
              "PreparedData(topic_coordinates=              x         y  topics  cluster       Freq\n",
              "topic                                                \n",
              "2     -0.062633 -0.010442       1        1  26.481371\n",
              "3      0.005930  0.056772       2        1  23.777517\n",
              "4      0.013547 -0.016883       3        1  17.452098\n",
              "0      0.031651 -0.021004       4        1  16.163684\n",
              "1      0.011505 -0.008444       5        1  16.125330, topic_info=               Term      Freq     Total Category  logprob  loglift\n",
              "485          keyera  1.000000  1.000000  Default  30.0000  30.0000\n",
              "786            risk  1.000000  1.000000  Default  29.0000  29.0000\n",
              "535            look  0.000000  0.000000  Default  28.0000  28.0000\n",
              "369    forward look  0.000000  0.000000  Default  27.0000  27.0000\n",
              "368         forward  0.000000  0.000000  Default  26.0000  26.0000\n",
              "..              ...       ...       ...      ...      ...      ...\n",
              "386    global dairy  0.185053  0.605462   Topic5  -6.1446   0.6394\n",
              "678          permit  0.204761  0.899422   Topic5  -6.0434   0.3449\n",
              "752  rehabilitation  0.218156  1.099124   Topic5  -5.9800   0.2077\n",
              "518       liability  0.215344  1.080541   Topic5  -5.9930   0.2118\n",
              "385          global  0.221302  1.309971   Topic5  -5.9657   0.0465\n",
              "\n",
              "[271 rows x 6 columns], token_table=      Topic      Freq                  Term\n",
              "term                                       \n",
              "0         2  1.269542               ability\n",
              "64        2  1.053568            assumption\n",
              "153       1  0.445423               company\n",
              "153       2  0.445423               company\n",
              "153       3  0.445423               company\n",
              "178       1  1.206357               concern\n",
              "254       1  0.991194           development\n",
              "285       1  0.467063                energy\n",
              "285       2  0.467063                energy\n",
              "300       2  0.544064         environmental\n",
              "333       1  0.913897           exploration\n",
              "350       2  0.594481             financial\n",
              "368       2  1.003137               forward\n",
              "369       2  1.003137          forward look\n",
              "377       2  0.925603                future\n",
              "389       1  1.206357                    go\n",
              "390       1  1.206357            go concern\n",
              "434       2  0.800068               include\n",
              "453       1  1.156272              industry\n",
              "459       2  1.231194              inherent\n",
              "485       4  0.987799                keyera\n",
              "535       2  1.003137                  look\n",
              "575       1  0.440170                nature\n",
              "575       2  0.440170                nature\n",
              "592       1  1.206357   nature operation go\n",
              "644       1  0.736401             operation\n",
              "649       1  1.206357          operation go\n",
              "650       1  1.206357  operation go concern\n",
              "713       1  0.862875            production\n",
              "719       1  1.282779               provide\n",
              "786       2  0.949280                  risk\n",
              "787       2  1.236186      risk uncertainty\n",
              "807       1  0.980937               service\n",
              "859       2  1.095150               subject\n",
              "889       1  1.002495                 total\n",
              "907       2  1.236186           uncertainty\n",
              "939       1  0.766810                  year, R=30, lambda_step=0.01, plot_opts={'xlab': 'PC1', 'ylab': 'PC2'}, topic_order=[3, 4, 5, 1, 2])"
            ]
          },
          "metadata": {
            "tags": []
          },
          "execution_count": 96
        }
      ]
    },
    {
      "cell_type": "code",
      "metadata": {
        "id": "7JaKdXceJE84",
        "outputId": "e67f1e21-08b5-4096-c524-fe90bd09fa86",
        "colab": {
          "base_uri": "https://localhost:8080/"
        }
      },
      "source": [
        "# Showing the words for each topic\n",
        "n_words_to_show = 8\n",
        "display_topics(lda, tfidf_vectorizer.get_feature_names(), n_words_to_show)"
      ],
      "execution_count": 101,
      "outputs": [
        {
          "output_type": "stream",
          "text": [
            "Topic 0:\n",
            "keyera, energy, rehabilitation, rimbey, keyera energy, environmental, provision, opinion\n",
            "\n",
            "Topic 1:\n",
            "environmental, expect, strong, saputo, base, plan, benefit, condition\n",
            "\n",
            "Topic 2:\n",
            "energy, company, production, year, total, service, exploration, operation\n",
            "\n",
            "Topic 3:\n",
            "nature, risk, financial, environmental, forward, look, forward look, company\n",
            "\n",
            "Topic 4:\n",
            "company, value, result, nature, liability, corporation, incorporate, british\n",
            "\n"
          ],
          "name": "stdout"
        }
      ]
    },
    {
      "cell_type": "markdown",
      "metadata": {
        "id": "DCpdP-i0J9az"
      },
      "source": [
        "### Trying on the different years"
      ]
    },
    {
      "cell_type": "code",
      "metadata": {
        "id": "JIEYhXVoJEgZ"
      },
      "source": [
        ""
      ],
      "execution_count": null,
      "outputs": []
    },
    {
      "cell_type": "markdown",
      "metadata": {
        "id": "UCFkKrcpKBtB"
      },
      "source": [
        "### Trying on the rating and the years"
      ]
    },
    {
      "cell_type": "code",
      "metadata": {
        "id": "S6Ao4ZsZKSFA"
      },
      "source": [
        ""
      ],
      "execution_count": null,
      "outputs": []
    }
  ]
}